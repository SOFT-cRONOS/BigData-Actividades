{
  "cells": [
    {
      "cell_type": "markdown",
      "metadata": {
        "colab_type": "text",
        "id": "view-in-github"
      },
      "source": [
        "<a href=\"https://colab.research.google.com/github/SOFT-cRONOS/BigData-Actividades/blob/main/U3-Analisis%20de%20datos%20-%20TP%201/BD-TP1-VENTAS.ipynb\" target=\"_parent\"><img src=\"https://colab.research.google.com/assets/colab-badge.svg\" alt=\"Open In Colab\"/></a>"
      ]
    },
    {
      "cell_type": "markdown",
      "metadata": {
        "id": "YLSb9WzdBMte"
      },
      "source": [
        "# Lectura y armado de arreglo para el dataframe"
      ]
    },
    {
      "cell_type": "code",
      "execution_count": 132,
      "metadata": {
        "id": "-StCJ4BqnBKW"
      },
      "outputs": [
        {
          "data": {
            "text/plain": [
              "'! pip install plotly\\n! pip install numpy\\n! pip install pandas\\n! pip install nbformat --upgrade'"
            ]
          },
          "execution_count": 132,
          "metadata": {},
          "output_type": "execute_result"
        }
      ],
      "source": [
        "'''! pip install plotly\n",
        "! pip install numpy\n",
        "! pip install pandas\n",
        "! pip install nbformat --upgrade'''"
      ]
    },
    {
      "cell_type": "code",
      "execution_count": 133,
      "metadata": {},
      "outputs": [],
      "source": [
        "import os\n",
        "import pandas as pd\n",
        "import locale\n",
        "import plotly.express as px\n",
        "import numpy as np\n",
        "import plotly.graph_objects as go\n",
        "\n",
        "#manejo de fechas\n",
        "import datetime\n",
        "from datetime import datetime\n",
        "from plotly.subplots import make_subplots"
      ]
    },
    {
      "cell_type": "markdown",
      "metadata": {},
      "source": [
        "# Configuracion de y cambio de directorios segun sistema operativo"
      ]
    },
    {
      "cell_type": "code",
      "execution_count": 134,
      "metadata": {
        "id": "xKLh4l3bfN40"
      },
      "outputs": [],
      "source": [
        "#descomentar GIT para importar a colab, WINDOWS para equipos windows Linux para deribados linux de forma local\n",
        "\n",
        "# GIT\n",
        "#! git clone https://github.com/SOFT-cRONOS/BigData-Actividades/tree/main/U3-Analisis%20de%20datos%20-%20TP%201/datasets\n",
        "#ruta_de_acceso = '/content/BigData-Actividades/U3-Analisis de datos - TP 1/datasets'\n",
        "\n",
        "#windows\n",
        "ruta_de_acceso = 'E:\\\\Documentos\\\\FENIX\\\\BigData-Actividades\\\\U3-Analisis de datos - TP 1\\\\datasets'\n",
        "\n",
        "#linux\n",
        "#ruta_de_acceso = \"/home/cronos/Documentos/BD-Actividades/U3-Analisis de datos - TP 1/datasets\""
      ]
    },
    {
      "cell_type": "code",
      "execution_count": 135,
      "metadata": {
        "colab": {
          "base_uri": "https://localhost:8080/"
        },
        "id": "LWzpdFqLmkk7",
        "outputId": "b9d8b635-9522-4ebf-bbe8-be4a4ea5ce16"
      },
      "outputs": [
        {
          "data": {
            "text/plain": [
              "['Dataset_de_ventas_Abril.csv',\n",
              " 'Dataset_de_ventas_Agosto.csv',\n",
              " 'Dataset_de_ventas_Diciembre.csv',\n",
              " 'Dataset_de_ventas_Enero.csv',\n",
              " 'Dataset_de_ventas_Febrero.csv',\n",
              " 'Dataset_de_ventas_Julio.csv',\n",
              " 'Dataset_de_ventas_Junio.csv',\n",
              " 'Dataset_de_ventas_Marzo.csv',\n",
              " 'Dataset_de_ventas_Mayo.csv',\n",
              " 'Dataset_de_ventas_Noviembre.csv',\n",
              " 'Dataset_de_ventas_Octubre.csv',\n",
              " 'Dataset_de_ventas_Septiembre.csv']"
            ]
          },
          "execution_count": 135,
          "metadata": {},
          "output_type": "execute_result"
        }
      ],
      "source": [
        "archivos = os.listdir(ruta_de_acceso)\n",
        "archivos"
      ]
    },
    {
      "cell_type": "code",
      "execution_count": 136,
      "metadata": {
        "id": "Dc9qtKURmzYM"
      },
      "outputs": [],
      "source": [
        "dataframes = {}"
      ]
    },
    {
      "cell_type": "code",
      "execution_count": 137,
      "metadata": {
        "id": "nWvSvv0nm3kW"
      },
      "outputs": [],
      "source": [
        "#Filtrado de datos\n",
        "for archivo in archivos:\n",
        "  #solo si el archivo es .csv (por si en la carpeta hay otros formatos)\n",
        "  if archivo.endswith('.csv'):\n",
        "\n",
        "    #del nombre \"dataset_de_ventas_diciembre.csv splitea y deja solo el mes\"\n",
        "    mes = archivo.split('_')[3].split('.')[0]\n",
        "    #ej: Dataset_de_ventas_Marzo.csv = Marzo\n",
        "\n",
        "    #junta la ruta de la carpeta con el nombre de archivo\n",
        "    ruta_completa = os.path.join(ruta_de_acceso, archivo)\n",
        "     #ej: /content/drive/MyDrive/Programacion/BigData/actividad2/Dataset_de_ventas_Marzo.csv\n",
        "\n",
        "    #ahora lee todos los archivos con la ruta completa\n",
        "    df = pd.read_csv(ruta_completa)\n",
        "\n",
        "    #copia el df a un df_ventas\n",
        "    df_ventas = df.copy()\n",
        "\n",
        "    # Transformo todos los valores no numericos en Nan en las columnas Cantidad Pedida y Precio Unitario\n",
        "    df_ventas['Cantidad Pedida'] = pd.to_numeric(df_ventas['Cantidad Pedida'], errors='coerce')  #El errors= 'coerce' transforma los valores no numericos a NaN'\n",
        "    df_ventas['Precio Unitario'] = pd.to_numeric(df_ventas['Precio Unitario'], errors='coerce')\n",
        "\n",
        "\n",
        "    # Elimino todos los Nan y me quedo solo con los valores numericos\n",
        "    df_ventas = df_ventas.loc[~df_ventas['Cantidad Pedida'].isna()]\n",
        "    df_ventas = df_ventas.loc[~df_ventas['Precio Unitario'].isna()]\n",
        "    df_ventas = df_ventas.dropna()\n",
        "\n",
        "    # Transformo todos los valores numericos al tipo de dato int\n",
        "    df_ventas['Cantidad Pedida'] = df_ventas['Cantidad Pedida'].astype(int)\n",
        "    df_ventas['Precio Unitario'] = df_ventas['Precio Unitario'].astype(float)\n",
        "\n",
        "    #carga el df en un elemento del array dataframes\n",
        "    dataframes[mes] = df_ventas\n",
        "    #ejemplo dataframes['Marzo'] = Dataset_de_ventas_Marzo.csv\n",
        "\n"
      ]
    },
    {
      "cell_type": "code",
      "execution_count": 138,
      "metadata": {
        "colab": {
          "base_uri": "https://localhost:8080/",
          "height": 424
        },
        "id": "dyL0nXSDBzIp",
        "outputId": "115a9401-7e50-4368-b92e-6022788934ae"
      },
      "outputs": [
        {
          "data": {
            "text/html": [
              "<div>\n",
              "<style scoped>\n",
              "    .dataframe tbody tr th:only-of-type {\n",
              "        vertical-align: middle;\n",
              "    }\n",
              "\n",
              "    .dataframe tbody tr th {\n",
              "        vertical-align: top;\n",
              "    }\n",
              "\n",
              "    .dataframe thead th {\n",
              "        text-align: right;\n",
              "    }\n",
              "</style>\n",
              "<table border=\"1\" class=\"dataframe\">\n",
              "  <thead>\n",
              "    <tr style=\"text-align: right;\">\n",
              "      <th></th>\n",
              "      <th>ID de Pedido</th>\n",
              "      <th>Producto</th>\n",
              "      <th>Cantidad Pedida</th>\n",
              "      <th>Precio Unitario</th>\n",
              "      <th>Fecha de Pedido</th>\n",
              "      <th>Dirección de Envio</th>\n",
              "    </tr>\n",
              "  </thead>\n",
              "  <tbody>\n",
              "    <tr>\n",
              "      <th>0</th>\n",
              "      <td>141234</td>\n",
              "      <td>iPhone</td>\n",
              "      <td>1</td>\n",
              "      <td>700.00</td>\n",
              "      <td>01/22/19 21:25</td>\n",
              "      <td>944 Walnut St, Boston, MA 02215</td>\n",
              "    </tr>\n",
              "    <tr>\n",
              "      <th>1</th>\n",
              "      <td>141235</td>\n",
              "      <td>Lightning Charging Cable</td>\n",
              "      <td>1</td>\n",
              "      <td>14.95</td>\n",
              "      <td>01/28/19 14:15</td>\n",
              "      <td>185 Maple St, Portland, OR 97035</td>\n",
              "    </tr>\n",
              "    <tr>\n",
              "      <th>2</th>\n",
              "      <td>141236</td>\n",
              "      <td>Wired Headphones</td>\n",
              "      <td>2</td>\n",
              "      <td>11.99</td>\n",
              "      <td>01/17/19 13:33</td>\n",
              "      <td>538 Adams St, San Francisco, CA 94016</td>\n",
              "    </tr>\n",
              "    <tr>\n",
              "      <th>3</th>\n",
              "      <td>141237</td>\n",
              "      <td>27in FHD Monitor</td>\n",
              "      <td>1</td>\n",
              "      <td>149.99</td>\n",
              "      <td>01/05/19 20:33</td>\n",
              "      <td>738 10th St, Los Angeles, CA 90001</td>\n",
              "    </tr>\n",
              "    <tr>\n",
              "      <th>4</th>\n",
              "      <td>141238</td>\n",
              "      <td>Wired Headphones</td>\n",
              "      <td>1</td>\n",
              "      <td>11.99</td>\n",
              "      <td>01/25/19 11:59</td>\n",
              "      <td>387 10th St, Austin, TX 73301</td>\n",
              "    </tr>\n",
              "    <tr>\n",
              "      <th>...</th>\n",
              "      <td>...</td>\n",
              "      <td>...</td>\n",
              "      <td>...</td>\n",
              "      <td>...</td>\n",
              "      <td>...</td>\n",
              "      <td>...</td>\n",
              "    </tr>\n",
              "    <tr>\n",
              "      <th>9718</th>\n",
              "      <td>150497</td>\n",
              "      <td>20in Monitor</td>\n",
              "      <td>1</td>\n",
              "      <td>109.99</td>\n",
              "      <td>01/26/19 19:09</td>\n",
              "      <td>95 8th St, Dallas, TX 75001</td>\n",
              "    </tr>\n",
              "    <tr>\n",
              "      <th>9719</th>\n",
              "      <td>150498</td>\n",
              "      <td>27in FHD Monitor</td>\n",
              "      <td>1</td>\n",
              "      <td>149.99</td>\n",
              "      <td>01/10/19 22:58</td>\n",
              "      <td>403 7th St, San Francisco, CA 94016</td>\n",
              "    </tr>\n",
              "    <tr>\n",
              "      <th>9720</th>\n",
              "      <td>150499</td>\n",
              "      <td>ThinkPad Laptop</td>\n",
              "      <td>1</td>\n",
              "      <td>999.99</td>\n",
              "      <td>01/21/19 14:31</td>\n",
              "      <td>214 Main St, Portland, OR 97035</td>\n",
              "    </tr>\n",
              "    <tr>\n",
              "      <th>9721</th>\n",
              "      <td>150500</td>\n",
              "      <td>AAA Batteries (4-pack)</td>\n",
              "      <td>2</td>\n",
              "      <td>2.99</td>\n",
              "      <td>01/15/19 14:21</td>\n",
              "      <td>810 2nd St, Los Angeles, CA 90001</td>\n",
              "    </tr>\n",
              "    <tr>\n",
              "      <th>9722</th>\n",
              "      <td>150501</td>\n",
              "      <td>Google Phone</td>\n",
              "      <td>1</td>\n",
              "      <td>600.00</td>\n",
              "      <td>01/13/19 16:43</td>\n",
              "      <td>428 Cedar St, Boston, MA 02215</td>\n",
              "    </tr>\n",
              "  </tbody>\n",
              "</table>\n",
              "<p>9681 rows × 6 columns</p>\n",
              "</div>"
            ],
            "text/plain": [
              "     ID de Pedido                  Producto  Cantidad Pedida  Precio Unitario  \\\n",
              "0          141234                    iPhone                1           700.00   \n",
              "1          141235  Lightning Charging Cable                1            14.95   \n",
              "2          141236          Wired Headphones                2            11.99   \n",
              "3          141237          27in FHD Monitor                1           149.99   \n",
              "4          141238          Wired Headphones                1            11.99   \n",
              "...           ...                       ...              ...              ...   \n",
              "9718       150497              20in Monitor                1           109.99   \n",
              "9719       150498          27in FHD Monitor                1           149.99   \n",
              "9720       150499           ThinkPad Laptop                1           999.99   \n",
              "9721       150500    AAA Batteries (4-pack)                2             2.99   \n",
              "9722       150501              Google Phone                1           600.00   \n",
              "\n",
              "     Fecha de Pedido                     Dirección de Envio  \n",
              "0     01/22/19 21:25        944 Walnut St, Boston, MA 02215  \n",
              "1     01/28/19 14:15       185 Maple St, Portland, OR 97035  \n",
              "2     01/17/19 13:33  538 Adams St, San Francisco, CA 94016  \n",
              "3     01/05/19 20:33     738 10th St, Los Angeles, CA 90001  \n",
              "4     01/25/19 11:59          387 10th St, Austin, TX 73301  \n",
              "...              ...                                    ...  \n",
              "9718  01/26/19 19:09            95 8th St, Dallas, TX 75001  \n",
              "9719  01/10/19 22:58    403 7th St, San Francisco, CA 94016  \n",
              "9720  01/21/19 14:31        214 Main St, Portland, OR 97035  \n",
              "9721  01/15/19 14:21      810 2nd St, Los Angeles, CA 90001  \n",
              "9722  01/13/19 16:43         428 Cedar St, Boston, MA 02215  \n",
              "\n",
              "[9681 rows x 6 columns]"
            ]
          },
          "execution_count": 138,
          "metadata": {},
          "output_type": "execute_result"
        }
      ],
      "source": [
        "dataframes['Enero']"
      ]
    },
    {
      "cell_type": "code",
      "execution_count": 176,
      "metadata": {},
      "outputs": [],
      "source": [
        "#array con dias de la semana y def para fraccionar datos\n",
        "dias_semana = [\"Lunes\", \"Martes\", \"Miércoles\", \"Jueves\", \"Viernes\", \"Sábado\", \"Domingo\"]\n",
        "\n",
        "def extraer_datos(datos):\n",
        "    # Decodificar caracteres UTF-8 correctamente\n",
        "    #datos['Fecha de Pedido'] = datos['Fecha de Pedido'].str.encode('latin-1').str.decode('utf-8')\n",
        "\n",
        "    #agrega 2 columnas hora y dia. y convierte fecha en formato fecha\n",
        "    datos['Fecha de Pedido'] = pd.to_datetime(datos['Fecha de Pedido'])\n",
        "    \n",
        "    dia = datos['Fecha de Pedido'].dt.day\n",
        "    mes = datos['Fecha de Pedido'].dt.month\n",
        "    año = datos['Fecha de Pedido'].dt.year\n",
        "    hora = datos['Fecha de Pedido'].dt.hour\n",
        "    fecha = datos['Fecha de Pedido'].dt.date\n",
        "    dia_sem = datos['Fecha de Pedido'].dt.strftime('%A')\n",
        "    \n",
        "    datos['fecha_corta'] = fecha\n",
        "    datos['Hora'] = hora\n",
        "    datos['Dia'] = dia\n",
        "    datos['mes'] = mes\n",
        "    datos['año'] = año\n",
        "    datos['strDia'] = dia_sem\n",
        "    #datos['strDia'] = datos['strDia'].str.encode('latin-1').str.decode('utf-8')\n",
        "    return datos"
      ]
    },
    {
      "cell_type": "markdown",
      "metadata": {
        "id": "7k0Zaxe_A758"
      },
      "source": [
        "# Comportamiento de las ventas en los distintos meses:"
      ]
    },
    {
      "cell_type": "markdown",
      "metadata": {
        "id": "Flj9s1sMBBt1"
      },
      "source": [
        "¿Cómo variaron las ventas a lo largo de los diferentes meses?"
      ]
    },
    {
      "cell_type": "code",
      "execution_count": 140,
      "metadata": {
        "id": "f_g1FHdUA0xi"
      },
      "outputs": [],
      "source": [
        "meses = ['Enero', 'Febrero', 'Marzo', 'Abril', 'Mayo', 'Junio', 'Julio', 'Agosto', 'Septiembre', 'Octubre', 'Noviembre', 'Diciembre']\n",
        "\n"
      ]
    },
    {
      "cell_type": "markdown",
      "metadata": {
        "id": "zSl6nmajIP85"
      },
      "source": [
        "¿Hubo algún mes que se destacó en términos de ventas?"
      ]
    },
    {
      "cell_type": "code",
      "execution_count": 141,
      "metadata": {
        "colab": {
          "base_uri": "https://localhost:8080/",
          "height": 542
        },
        "id": "u3AVPnOYISmi",
        "outputId": "f8a2cb90-cdac-4622-fc31-d10039ccdb2d"
      },
      "outputs": [
        {
          "data": {
            "application/vnd.plotly.v1+json": {
              "config": {
                "plotlyServerURL": "https://plot.ly"
              },
              "data": [
                {
                  "hovertemplate": "Tiempo=%{x}<br>Ventas=%{y}<br>text=%{text}<extra></extra>",
                  "legendgroup": "",
                  "line": {
                    "color": "#636efa",
                    "dash": "solid"
                  },
                  "marker": {
                    "symbol": "circle"
                  },
                  "mode": "markers+lines+text",
                  "name": "",
                  "orientation": "v",
                  "showlegend": false,
                  "text": [
                    10868,
                    13461,
                    17006,
                    20568,
                    18657,
                    15255,
                    16069,
                    13442,
                    13119,
                    22705,
                    19808,
                    28121
                  ],
                  "type": "scatter",
                  "x": [
                    "Enero",
                    "Febrero",
                    "Marzo",
                    "Abril",
                    "Mayo",
                    "Junio",
                    "Julio",
                    "Agosto",
                    "Septiembre",
                    "Octubre",
                    "Noviembre",
                    "Diciembre"
                  ],
                  "xaxis": "x",
                  "y": [
                    10868,
                    13461,
                    17006,
                    20568,
                    18657,
                    15255,
                    16069,
                    13442,
                    13119,
                    22705,
                    19808,
                    28121
                  ],
                  "yaxis": "y"
                }
              ],
              "layout": {
                "legend": {
                  "tracegroupgap": 0
                },
                "template": {
                  "data": {
                    "bar": [
                      {
                        "error_x": {
                          "color": "#2a3f5f"
                        },
                        "error_y": {
                          "color": "#2a3f5f"
                        },
                        "marker": {
                          "line": {
                            "color": "#E5ECF6",
                            "width": 0.5
                          },
                          "pattern": {
                            "fillmode": "overlay",
                            "size": 10,
                            "solidity": 0.2
                          }
                        },
                        "type": "bar"
                      }
                    ],
                    "barpolar": [
                      {
                        "marker": {
                          "line": {
                            "color": "#E5ECF6",
                            "width": 0.5
                          },
                          "pattern": {
                            "fillmode": "overlay",
                            "size": 10,
                            "solidity": 0.2
                          }
                        },
                        "type": "barpolar"
                      }
                    ],
                    "carpet": [
                      {
                        "aaxis": {
                          "endlinecolor": "#2a3f5f",
                          "gridcolor": "white",
                          "linecolor": "white",
                          "minorgridcolor": "white",
                          "startlinecolor": "#2a3f5f"
                        },
                        "baxis": {
                          "endlinecolor": "#2a3f5f",
                          "gridcolor": "white",
                          "linecolor": "white",
                          "minorgridcolor": "white",
                          "startlinecolor": "#2a3f5f"
                        },
                        "type": "carpet"
                      }
                    ],
                    "choropleth": [
                      {
                        "colorbar": {
                          "outlinewidth": 0,
                          "ticks": ""
                        },
                        "type": "choropleth"
                      }
                    ],
                    "contour": [
                      {
                        "colorbar": {
                          "outlinewidth": 0,
                          "ticks": ""
                        },
                        "colorscale": [
                          [
                            0,
                            "#0d0887"
                          ],
                          [
                            0.1111111111111111,
                            "#46039f"
                          ],
                          [
                            0.2222222222222222,
                            "#7201a8"
                          ],
                          [
                            0.3333333333333333,
                            "#9c179e"
                          ],
                          [
                            0.4444444444444444,
                            "#bd3786"
                          ],
                          [
                            0.5555555555555556,
                            "#d8576b"
                          ],
                          [
                            0.6666666666666666,
                            "#ed7953"
                          ],
                          [
                            0.7777777777777778,
                            "#fb9f3a"
                          ],
                          [
                            0.8888888888888888,
                            "#fdca26"
                          ],
                          [
                            1,
                            "#f0f921"
                          ]
                        ],
                        "type": "contour"
                      }
                    ],
                    "contourcarpet": [
                      {
                        "colorbar": {
                          "outlinewidth": 0,
                          "ticks": ""
                        },
                        "type": "contourcarpet"
                      }
                    ],
                    "heatmap": [
                      {
                        "colorbar": {
                          "outlinewidth": 0,
                          "ticks": ""
                        },
                        "colorscale": [
                          [
                            0,
                            "#0d0887"
                          ],
                          [
                            0.1111111111111111,
                            "#46039f"
                          ],
                          [
                            0.2222222222222222,
                            "#7201a8"
                          ],
                          [
                            0.3333333333333333,
                            "#9c179e"
                          ],
                          [
                            0.4444444444444444,
                            "#bd3786"
                          ],
                          [
                            0.5555555555555556,
                            "#d8576b"
                          ],
                          [
                            0.6666666666666666,
                            "#ed7953"
                          ],
                          [
                            0.7777777777777778,
                            "#fb9f3a"
                          ],
                          [
                            0.8888888888888888,
                            "#fdca26"
                          ],
                          [
                            1,
                            "#f0f921"
                          ]
                        ],
                        "type": "heatmap"
                      }
                    ],
                    "heatmapgl": [
                      {
                        "colorbar": {
                          "outlinewidth": 0,
                          "ticks": ""
                        },
                        "colorscale": [
                          [
                            0,
                            "#0d0887"
                          ],
                          [
                            0.1111111111111111,
                            "#46039f"
                          ],
                          [
                            0.2222222222222222,
                            "#7201a8"
                          ],
                          [
                            0.3333333333333333,
                            "#9c179e"
                          ],
                          [
                            0.4444444444444444,
                            "#bd3786"
                          ],
                          [
                            0.5555555555555556,
                            "#d8576b"
                          ],
                          [
                            0.6666666666666666,
                            "#ed7953"
                          ],
                          [
                            0.7777777777777778,
                            "#fb9f3a"
                          ],
                          [
                            0.8888888888888888,
                            "#fdca26"
                          ],
                          [
                            1,
                            "#f0f921"
                          ]
                        ],
                        "type": "heatmapgl"
                      }
                    ],
                    "histogram": [
                      {
                        "marker": {
                          "pattern": {
                            "fillmode": "overlay",
                            "size": 10,
                            "solidity": 0.2
                          }
                        },
                        "type": "histogram"
                      }
                    ],
                    "histogram2d": [
                      {
                        "colorbar": {
                          "outlinewidth": 0,
                          "ticks": ""
                        },
                        "colorscale": [
                          [
                            0,
                            "#0d0887"
                          ],
                          [
                            0.1111111111111111,
                            "#46039f"
                          ],
                          [
                            0.2222222222222222,
                            "#7201a8"
                          ],
                          [
                            0.3333333333333333,
                            "#9c179e"
                          ],
                          [
                            0.4444444444444444,
                            "#bd3786"
                          ],
                          [
                            0.5555555555555556,
                            "#d8576b"
                          ],
                          [
                            0.6666666666666666,
                            "#ed7953"
                          ],
                          [
                            0.7777777777777778,
                            "#fb9f3a"
                          ],
                          [
                            0.8888888888888888,
                            "#fdca26"
                          ],
                          [
                            1,
                            "#f0f921"
                          ]
                        ],
                        "type": "histogram2d"
                      }
                    ],
                    "histogram2dcontour": [
                      {
                        "colorbar": {
                          "outlinewidth": 0,
                          "ticks": ""
                        },
                        "colorscale": [
                          [
                            0,
                            "#0d0887"
                          ],
                          [
                            0.1111111111111111,
                            "#46039f"
                          ],
                          [
                            0.2222222222222222,
                            "#7201a8"
                          ],
                          [
                            0.3333333333333333,
                            "#9c179e"
                          ],
                          [
                            0.4444444444444444,
                            "#bd3786"
                          ],
                          [
                            0.5555555555555556,
                            "#d8576b"
                          ],
                          [
                            0.6666666666666666,
                            "#ed7953"
                          ],
                          [
                            0.7777777777777778,
                            "#fb9f3a"
                          ],
                          [
                            0.8888888888888888,
                            "#fdca26"
                          ],
                          [
                            1,
                            "#f0f921"
                          ]
                        ],
                        "type": "histogram2dcontour"
                      }
                    ],
                    "mesh3d": [
                      {
                        "colorbar": {
                          "outlinewidth": 0,
                          "ticks": ""
                        },
                        "type": "mesh3d"
                      }
                    ],
                    "parcoords": [
                      {
                        "line": {
                          "colorbar": {
                            "outlinewidth": 0,
                            "ticks": ""
                          }
                        },
                        "type": "parcoords"
                      }
                    ],
                    "pie": [
                      {
                        "automargin": true,
                        "type": "pie"
                      }
                    ],
                    "scatter": [
                      {
                        "fillpattern": {
                          "fillmode": "overlay",
                          "size": 10,
                          "solidity": 0.2
                        },
                        "type": "scatter"
                      }
                    ],
                    "scatter3d": [
                      {
                        "line": {
                          "colorbar": {
                            "outlinewidth": 0,
                            "ticks": ""
                          }
                        },
                        "marker": {
                          "colorbar": {
                            "outlinewidth": 0,
                            "ticks": ""
                          }
                        },
                        "type": "scatter3d"
                      }
                    ],
                    "scattercarpet": [
                      {
                        "marker": {
                          "colorbar": {
                            "outlinewidth": 0,
                            "ticks": ""
                          }
                        },
                        "type": "scattercarpet"
                      }
                    ],
                    "scattergeo": [
                      {
                        "marker": {
                          "colorbar": {
                            "outlinewidth": 0,
                            "ticks": ""
                          }
                        },
                        "type": "scattergeo"
                      }
                    ],
                    "scattergl": [
                      {
                        "marker": {
                          "colorbar": {
                            "outlinewidth": 0,
                            "ticks": ""
                          }
                        },
                        "type": "scattergl"
                      }
                    ],
                    "scattermapbox": [
                      {
                        "marker": {
                          "colorbar": {
                            "outlinewidth": 0,
                            "ticks": ""
                          }
                        },
                        "type": "scattermapbox"
                      }
                    ],
                    "scatterpolar": [
                      {
                        "marker": {
                          "colorbar": {
                            "outlinewidth": 0,
                            "ticks": ""
                          }
                        },
                        "type": "scatterpolar"
                      }
                    ],
                    "scatterpolargl": [
                      {
                        "marker": {
                          "colorbar": {
                            "outlinewidth": 0,
                            "ticks": ""
                          }
                        },
                        "type": "scatterpolargl"
                      }
                    ],
                    "scatterternary": [
                      {
                        "marker": {
                          "colorbar": {
                            "outlinewidth": 0,
                            "ticks": ""
                          }
                        },
                        "type": "scatterternary"
                      }
                    ],
                    "surface": [
                      {
                        "colorbar": {
                          "outlinewidth": 0,
                          "ticks": ""
                        },
                        "colorscale": [
                          [
                            0,
                            "#0d0887"
                          ],
                          [
                            0.1111111111111111,
                            "#46039f"
                          ],
                          [
                            0.2222222222222222,
                            "#7201a8"
                          ],
                          [
                            0.3333333333333333,
                            "#9c179e"
                          ],
                          [
                            0.4444444444444444,
                            "#bd3786"
                          ],
                          [
                            0.5555555555555556,
                            "#d8576b"
                          ],
                          [
                            0.6666666666666666,
                            "#ed7953"
                          ],
                          [
                            0.7777777777777778,
                            "#fb9f3a"
                          ],
                          [
                            0.8888888888888888,
                            "#fdca26"
                          ],
                          [
                            1,
                            "#f0f921"
                          ]
                        ],
                        "type": "surface"
                      }
                    ],
                    "table": [
                      {
                        "cells": {
                          "fill": {
                            "color": "#EBF0F8"
                          },
                          "line": {
                            "color": "white"
                          }
                        },
                        "header": {
                          "fill": {
                            "color": "#C8D4E3"
                          },
                          "line": {
                            "color": "white"
                          }
                        },
                        "type": "table"
                      }
                    ]
                  },
                  "layout": {
                    "annotationdefaults": {
                      "arrowcolor": "#2a3f5f",
                      "arrowhead": 0,
                      "arrowwidth": 1
                    },
                    "autotypenumbers": "strict",
                    "coloraxis": {
                      "colorbar": {
                        "outlinewidth": 0,
                        "ticks": ""
                      }
                    },
                    "colorscale": {
                      "diverging": [
                        [
                          0,
                          "#8e0152"
                        ],
                        [
                          0.1,
                          "#c51b7d"
                        ],
                        [
                          0.2,
                          "#de77ae"
                        ],
                        [
                          0.3,
                          "#f1b6da"
                        ],
                        [
                          0.4,
                          "#fde0ef"
                        ],
                        [
                          0.5,
                          "#f7f7f7"
                        ],
                        [
                          0.6,
                          "#e6f5d0"
                        ],
                        [
                          0.7,
                          "#b8e186"
                        ],
                        [
                          0.8,
                          "#7fbc41"
                        ],
                        [
                          0.9,
                          "#4d9221"
                        ],
                        [
                          1,
                          "#276419"
                        ]
                      ],
                      "sequential": [
                        [
                          0,
                          "#0d0887"
                        ],
                        [
                          0.1111111111111111,
                          "#46039f"
                        ],
                        [
                          0.2222222222222222,
                          "#7201a8"
                        ],
                        [
                          0.3333333333333333,
                          "#9c179e"
                        ],
                        [
                          0.4444444444444444,
                          "#bd3786"
                        ],
                        [
                          0.5555555555555556,
                          "#d8576b"
                        ],
                        [
                          0.6666666666666666,
                          "#ed7953"
                        ],
                        [
                          0.7777777777777778,
                          "#fb9f3a"
                        ],
                        [
                          0.8888888888888888,
                          "#fdca26"
                        ],
                        [
                          1,
                          "#f0f921"
                        ]
                      ],
                      "sequentialminus": [
                        [
                          0,
                          "#0d0887"
                        ],
                        [
                          0.1111111111111111,
                          "#46039f"
                        ],
                        [
                          0.2222222222222222,
                          "#7201a8"
                        ],
                        [
                          0.3333333333333333,
                          "#9c179e"
                        ],
                        [
                          0.4444444444444444,
                          "#bd3786"
                        ],
                        [
                          0.5555555555555556,
                          "#d8576b"
                        ],
                        [
                          0.6666666666666666,
                          "#ed7953"
                        ],
                        [
                          0.7777777777777778,
                          "#fb9f3a"
                        ],
                        [
                          0.8888888888888888,
                          "#fdca26"
                        ],
                        [
                          1,
                          "#f0f921"
                        ]
                      ]
                    },
                    "colorway": [
                      "#636efa",
                      "#EF553B",
                      "#00cc96",
                      "#ab63fa",
                      "#FFA15A",
                      "#19d3f3",
                      "#FF6692",
                      "#B6E880",
                      "#FF97FF",
                      "#FECB52"
                    ],
                    "font": {
                      "color": "#2a3f5f"
                    },
                    "geo": {
                      "bgcolor": "white",
                      "lakecolor": "white",
                      "landcolor": "#E5ECF6",
                      "showlakes": true,
                      "showland": true,
                      "subunitcolor": "white"
                    },
                    "hoverlabel": {
                      "align": "left"
                    },
                    "hovermode": "closest",
                    "mapbox": {
                      "style": "light"
                    },
                    "paper_bgcolor": "white",
                    "plot_bgcolor": "#E5ECF6",
                    "polar": {
                      "angularaxis": {
                        "gridcolor": "white",
                        "linecolor": "white",
                        "ticks": ""
                      },
                      "bgcolor": "#E5ECF6",
                      "radialaxis": {
                        "gridcolor": "white",
                        "linecolor": "white",
                        "ticks": ""
                      }
                    },
                    "scene": {
                      "xaxis": {
                        "backgroundcolor": "#E5ECF6",
                        "gridcolor": "white",
                        "gridwidth": 2,
                        "linecolor": "white",
                        "showbackground": true,
                        "ticks": "",
                        "zerolinecolor": "white"
                      },
                      "yaxis": {
                        "backgroundcolor": "#E5ECF6",
                        "gridcolor": "white",
                        "gridwidth": 2,
                        "linecolor": "white",
                        "showbackground": true,
                        "ticks": "",
                        "zerolinecolor": "white"
                      },
                      "zaxis": {
                        "backgroundcolor": "#E5ECF6",
                        "gridcolor": "white",
                        "gridwidth": 2,
                        "linecolor": "white",
                        "showbackground": true,
                        "ticks": "",
                        "zerolinecolor": "white"
                      }
                    },
                    "shapedefaults": {
                      "line": {
                        "color": "#2a3f5f"
                      }
                    },
                    "ternary": {
                      "aaxis": {
                        "gridcolor": "white",
                        "linecolor": "white",
                        "ticks": ""
                      },
                      "baxis": {
                        "gridcolor": "white",
                        "linecolor": "white",
                        "ticks": ""
                      },
                      "bgcolor": "#E5ECF6",
                      "caxis": {
                        "gridcolor": "white",
                        "linecolor": "white",
                        "ticks": ""
                      }
                    },
                    "title": {
                      "x": 0.05
                    },
                    "xaxis": {
                      "automargin": true,
                      "gridcolor": "white",
                      "linecolor": "white",
                      "ticks": "",
                      "title": {
                        "standoff": 15
                      },
                      "zerolinecolor": "white",
                      "zerolinewidth": 2
                    },
                    "yaxis": {
                      "automargin": true,
                      "gridcolor": "white",
                      "linecolor": "white",
                      "ticks": "",
                      "title": {
                        "standoff": 15
                      },
                      "zerolinecolor": "white",
                      "zerolinewidth": 2
                    }
                  }
                },
                "title": {
                  "text": "Título del gráfico de líneas"
                },
                "xaxis": {
                  "anchor": "y",
                  "domain": [
                    0,
                    1
                  ],
                  "title": {
                    "text": "Tiempo"
                  }
                },
                "yaxis": {
                  "anchor": "x",
                  "domain": [
                    0,
                    1
                  ],
                  "title": {
                    "text": "Ventas"
                  }
                }
              }
            }
          },
          "metadata": {},
          "output_type": "display_data"
        }
      ],
      "source": [
        "ventas = []\n",
        "for mes in meses:\n",
        "  #extraigo la suma de la Cantidad Pedida por cada mes\n",
        "    cantidades = dataframes[mes][['Cantidad Pedida']].sum()\n",
        "    cantidades = cantidades.values\n",
        "    cantidades = int(cantidades[0])\n",
        "    ventas.append(cantidades)\n",
        "\n",
        "fig = px.line(x = meses, y = ventas,\n",
        "      text= ventas,\n",
        "            title = \"Título del gráfico de líneas\",\n",
        "                  labels = {'x': 'Tiempo', 'y':'Ventas'},\n",
        "                                      markers = True)\n",
        "\n",
        "fig.show()"
      ]
    },
    {
      "cell_type": "markdown",
      "metadata": {
        "id": "xbssESMRITWh"
      },
      "source": [
        "¿Cuál es el ingreso total generado por mes?"
      ]
    },
    {
      "cell_type": "code",
      "execution_count": 142,
      "metadata": {
        "id": "iJM55dE6IVRT"
      },
      "outputs": [],
      "source": [
        "#agrego una columna calculada total para multiplicar cantidad pedida por precio unitario\n",
        "for mes in meses:\n",
        "  #extraigo la suma de la Cantidad Pedida por cada mes\n",
        "  test = dataframes[mes][['Cantidad Pedida','Precio Unitario']].copy()\n",
        "  dataframes[mes]['total'] = test.loc[:,('Cantidad Pedida')] * test.loc[:,('Precio Unitario')]\n",
        "\n",
        "total_ventas = []\n",
        "for mes in meses:\n",
        "    #extraigo la suma de la Cantidad Pedida por cada mes\n",
        "      total = dataframes[mes][['total']].sum()\n",
        "      total = total.values\n",
        "      total = int(total[0])\n",
        "      total_ventas.append(total)"
      ]
    },
    {
      "cell_type": "code",
      "execution_count": 143,
      "metadata": {
        "colab": {
          "base_uri": "https://localhost:8080/",
          "height": 542
        },
        "id": "ud4y30KbOgdm",
        "outputId": "6067da49-8664-4853-cb39-61e5fd8fdacf"
      },
      "outputs": [
        {
          "data": {
            "application/vnd.plotly.v1+json": {
              "config": {
                "plotlyServerURL": "https://plot.ly"
              },
              "data": [
                {
                  "hovertemplate": "Tiempo=%{x}<br>Ventas=%{y}<br>text=%{text}<extra></extra>",
                  "legendgroup": "",
                  "line": {
                    "color": "#636efa",
                    "dash": "solid"
                  },
                  "marker": {
                    "symbol": "circle"
                  },
                  "mode": "markers+lines+text",
                  "name": "",
                  "orientation": "v",
                  "showlegend": false,
                  "text": [
                    1815335,
                    2203481,
                    2809063,
                    3396059,
                    3144584,
                    2578293,
                    2646899,
                    2244412,
                    2098816,
                    3736884,
                    3198909,
                    4619297
                  ],
                  "type": "scatter",
                  "x": [
                    "Enero",
                    "Febrero",
                    "Marzo",
                    "Abril",
                    "Mayo",
                    "Junio",
                    "Julio",
                    "Agosto",
                    "Septiembre",
                    "Octubre",
                    "Noviembre",
                    "Diciembre"
                  ],
                  "xaxis": "x",
                  "y": [
                    1815335,
                    2203481,
                    2809063,
                    3396059,
                    3144584,
                    2578293,
                    2646899,
                    2244412,
                    2098816,
                    3736884,
                    3198909,
                    4619297
                  ],
                  "yaxis": "y"
                }
              ],
              "layout": {
                "legend": {
                  "tracegroupgap": 0
                },
                "template": {
                  "data": {
                    "bar": [
                      {
                        "error_x": {
                          "color": "#2a3f5f"
                        },
                        "error_y": {
                          "color": "#2a3f5f"
                        },
                        "marker": {
                          "line": {
                            "color": "#E5ECF6",
                            "width": 0.5
                          },
                          "pattern": {
                            "fillmode": "overlay",
                            "size": 10,
                            "solidity": 0.2
                          }
                        },
                        "type": "bar"
                      }
                    ],
                    "barpolar": [
                      {
                        "marker": {
                          "line": {
                            "color": "#E5ECF6",
                            "width": 0.5
                          },
                          "pattern": {
                            "fillmode": "overlay",
                            "size": 10,
                            "solidity": 0.2
                          }
                        },
                        "type": "barpolar"
                      }
                    ],
                    "carpet": [
                      {
                        "aaxis": {
                          "endlinecolor": "#2a3f5f",
                          "gridcolor": "white",
                          "linecolor": "white",
                          "minorgridcolor": "white",
                          "startlinecolor": "#2a3f5f"
                        },
                        "baxis": {
                          "endlinecolor": "#2a3f5f",
                          "gridcolor": "white",
                          "linecolor": "white",
                          "minorgridcolor": "white",
                          "startlinecolor": "#2a3f5f"
                        },
                        "type": "carpet"
                      }
                    ],
                    "choropleth": [
                      {
                        "colorbar": {
                          "outlinewidth": 0,
                          "ticks": ""
                        },
                        "type": "choropleth"
                      }
                    ],
                    "contour": [
                      {
                        "colorbar": {
                          "outlinewidth": 0,
                          "ticks": ""
                        },
                        "colorscale": [
                          [
                            0,
                            "#0d0887"
                          ],
                          [
                            0.1111111111111111,
                            "#46039f"
                          ],
                          [
                            0.2222222222222222,
                            "#7201a8"
                          ],
                          [
                            0.3333333333333333,
                            "#9c179e"
                          ],
                          [
                            0.4444444444444444,
                            "#bd3786"
                          ],
                          [
                            0.5555555555555556,
                            "#d8576b"
                          ],
                          [
                            0.6666666666666666,
                            "#ed7953"
                          ],
                          [
                            0.7777777777777778,
                            "#fb9f3a"
                          ],
                          [
                            0.8888888888888888,
                            "#fdca26"
                          ],
                          [
                            1,
                            "#f0f921"
                          ]
                        ],
                        "type": "contour"
                      }
                    ],
                    "contourcarpet": [
                      {
                        "colorbar": {
                          "outlinewidth": 0,
                          "ticks": ""
                        },
                        "type": "contourcarpet"
                      }
                    ],
                    "heatmap": [
                      {
                        "colorbar": {
                          "outlinewidth": 0,
                          "ticks": ""
                        },
                        "colorscale": [
                          [
                            0,
                            "#0d0887"
                          ],
                          [
                            0.1111111111111111,
                            "#46039f"
                          ],
                          [
                            0.2222222222222222,
                            "#7201a8"
                          ],
                          [
                            0.3333333333333333,
                            "#9c179e"
                          ],
                          [
                            0.4444444444444444,
                            "#bd3786"
                          ],
                          [
                            0.5555555555555556,
                            "#d8576b"
                          ],
                          [
                            0.6666666666666666,
                            "#ed7953"
                          ],
                          [
                            0.7777777777777778,
                            "#fb9f3a"
                          ],
                          [
                            0.8888888888888888,
                            "#fdca26"
                          ],
                          [
                            1,
                            "#f0f921"
                          ]
                        ],
                        "type": "heatmap"
                      }
                    ],
                    "heatmapgl": [
                      {
                        "colorbar": {
                          "outlinewidth": 0,
                          "ticks": ""
                        },
                        "colorscale": [
                          [
                            0,
                            "#0d0887"
                          ],
                          [
                            0.1111111111111111,
                            "#46039f"
                          ],
                          [
                            0.2222222222222222,
                            "#7201a8"
                          ],
                          [
                            0.3333333333333333,
                            "#9c179e"
                          ],
                          [
                            0.4444444444444444,
                            "#bd3786"
                          ],
                          [
                            0.5555555555555556,
                            "#d8576b"
                          ],
                          [
                            0.6666666666666666,
                            "#ed7953"
                          ],
                          [
                            0.7777777777777778,
                            "#fb9f3a"
                          ],
                          [
                            0.8888888888888888,
                            "#fdca26"
                          ],
                          [
                            1,
                            "#f0f921"
                          ]
                        ],
                        "type": "heatmapgl"
                      }
                    ],
                    "histogram": [
                      {
                        "marker": {
                          "pattern": {
                            "fillmode": "overlay",
                            "size": 10,
                            "solidity": 0.2
                          }
                        },
                        "type": "histogram"
                      }
                    ],
                    "histogram2d": [
                      {
                        "colorbar": {
                          "outlinewidth": 0,
                          "ticks": ""
                        },
                        "colorscale": [
                          [
                            0,
                            "#0d0887"
                          ],
                          [
                            0.1111111111111111,
                            "#46039f"
                          ],
                          [
                            0.2222222222222222,
                            "#7201a8"
                          ],
                          [
                            0.3333333333333333,
                            "#9c179e"
                          ],
                          [
                            0.4444444444444444,
                            "#bd3786"
                          ],
                          [
                            0.5555555555555556,
                            "#d8576b"
                          ],
                          [
                            0.6666666666666666,
                            "#ed7953"
                          ],
                          [
                            0.7777777777777778,
                            "#fb9f3a"
                          ],
                          [
                            0.8888888888888888,
                            "#fdca26"
                          ],
                          [
                            1,
                            "#f0f921"
                          ]
                        ],
                        "type": "histogram2d"
                      }
                    ],
                    "histogram2dcontour": [
                      {
                        "colorbar": {
                          "outlinewidth": 0,
                          "ticks": ""
                        },
                        "colorscale": [
                          [
                            0,
                            "#0d0887"
                          ],
                          [
                            0.1111111111111111,
                            "#46039f"
                          ],
                          [
                            0.2222222222222222,
                            "#7201a8"
                          ],
                          [
                            0.3333333333333333,
                            "#9c179e"
                          ],
                          [
                            0.4444444444444444,
                            "#bd3786"
                          ],
                          [
                            0.5555555555555556,
                            "#d8576b"
                          ],
                          [
                            0.6666666666666666,
                            "#ed7953"
                          ],
                          [
                            0.7777777777777778,
                            "#fb9f3a"
                          ],
                          [
                            0.8888888888888888,
                            "#fdca26"
                          ],
                          [
                            1,
                            "#f0f921"
                          ]
                        ],
                        "type": "histogram2dcontour"
                      }
                    ],
                    "mesh3d": [
                      {
                        "colorbar": {
                          "outlinewidth": 0,
                          "ticks": ""
                        },
                        "type": "mesh3d"
                      }
                    ],
                    "parcoords": [
                      {
                        "line": {
                          "colorbar": {
                            "outlinewidth": 0,
                            "ticks": ""
                          }
                        },
                        "type": "parcoords"
                      }
                    ],
                    "pie": [
                      {
                        "automargin": true,
                        "type": "pie"
                      }
                    ],
                    "scatter": [
                      {
                        "fillpattern": {
                          "fillmode": "overlay",
                          "size": 10,
                          "solidity": 0.2
                        },
                        "type": "scatter"
                      }
                    ],
                    "scatter3d": [
                      {
                        "line": {
                          "colorbar": {
                            "outlinewidth": 0,
                            "ticks": ""
                          }
                        },
                        "marker": {
                          "colorbar": {
                            "outlinewidth": 0,
                            "ticks": ""
                          }
                        },
                        "type": "scatter3d"
                      }
                    ],
                    "scattercarpet": [
                      {
                        "marker": {
                          "colorbar": {
                            "outlinewidth": 0,
                            "ticks": ""
                          }
                        },
                        "type": "scattercarpet"
                      }
                    ],
                    "scattergeo": [
                      {
                        "marker": {
                          "colorbar": {
                            "outlinewidth": 0,
                            "ticks": ""
                          }
                        },
                        "type": "scattergeo"
                      }
                    ],
                    "scattergl": [
                      {
                        "marker": {
                          "colorbar": {
                            "outlinewidth": 0,
                            "ticks": ""
                          }
                        },
                        "type": "scattergl"
                      }
                    ],
                    "scattermapbox": [
                      {
                        "marker": {
                          "colorbar": {
                            "outlinewidth": 0,
                            "ticks": ""
                          }
                        },
                        "type": "scattermapbox"
                      }
                    ],
                    "scatterpolar": [
                      {
                        "marker": {
                          "colorbar": {
                            "outlinewidth": 0,
                            "ticks": ""
                          }
                        },
                        "type": "scatterpolar"
                      }
                    ],
                    "scatterpolargl": [
                      {
                        "marker": {
                          "colorbar": {
                            "outlinewidth": 0,
                            "ticks": ""
                          }
                        },
                        "type": "scatterpolargl"
                      }
                    ],
                    "scatterternary": [
                      {
                        "marker": {
                          "colorbar": {
                            "outlinewidth": 0,
                            "ticks": ""
                          }
                        },
                        "type": "scatterternary"
                      }
                    ],
                    "surface": [
                      {
                        "colorbar": {
                          "outlinewidth": 0,
                          "ticks": ""
                        },
                        "colorscale": [
                          [
                            0,
                            "#0d0887"
                          ],
                          [
                            0.1111111111111111,
                            "#46039f"
                          ],
                          [
                            0.2222222222222222,
                            "#7201a8"
                          ],
                          [
                            0.3333333333333333,
                            "#9c179e"
                          ],
                          [
                            0.4444444444444444,
                            "#bd3786"
                          ],
                          [
                            0.5555555555555556,
                            "#d8576b"
                          ],
                          [
                            0.6666666666666666,
                            "#ed7953"
                          ],
                          [
                            0.7777777777777778,
                            "#fb9f3a"
                          ],
                          [
                            0.8888888888888888,
                            "#fdca26"
                          ],
                          [
                            1,
                            "#f0f921"
                          ]
                        ],
                        "type": "surface"
                      }
                    ],
                    "table": [
                      {
                        "cells": {
                          "fill": {
                            "color": "#EBF0F8"
                          },
                          "line": {
                            "color": "white"
                          }
                        },
                        "header": {
                          "fill": {
                            "color": "#C8D4E3"
                          },
                          "line": {
                            "color": "white"
                          }
                        },
                        "type": "table"
                      }
                    ]
                  },
                  "layout": {
                    "annotationdefaults": {
                      "arrowcolor": "#2a3f5f",
                      "arrowhead": 0,
                      "arrowwidth": 1
                    },
                    "autotypenumbers": "strict",
                    "coloraxis": {
                      "colorbar": {
                        "outlinewidth": 0,
                        "ticks": ""
                      }
                    },
                    "colorscale": {
                      "diverging": [
                        [
                          0,
                          "#8e0152"
                        ],
                        [
                          0.1,
                          "#c51b7d"
                        ],
                        [
                          0.2,
                          "#de77ae"
                        ],
                        [
                          0.3,
                          "#f1b6da"
                        ],
                        [
                          0.4,
                          "#fde0ef"
                        ],
                        [
                          0.5,
                          "#f7f7f7"
                        ],
                        [
                          0.6,
                          "#e6f5d0"
                        ],
                        [
                          0.7,
                          "#b8e186"
                        ],
                        [
                          0.8,
                          "#7fbc41"
                        ],
                        [
                          0.9,
                          "#4d9221"
                        ],
                        [
                          1,
                          "#276419"
                        ]
                      ],
                      "sequential": [
                        [
                          0,
                          "#0d0887"
                        ],
                        [
                          0.1111111111111111,
                          "#46039f"
                        ],
                        [
                          0.2222222222222222,
                          "#7201a8"
                        ],
                        [
                          0.3333333333333333,
                          "#9c179e"
                        ],
                        [
                          0.4444444444444444,
                          "#bd3786"
                        ],
                        [
                          0.5555555555555556,
                          "#d8576b"
                        ],
                        [
                          0.6666666666666666,
                          "#ed7953"
                        ],
                        [
                          0.7777777777777778,
                          "#fb9f3a"
                        ],
                        [
                          0.8888888888888888,
                          "#fdca26"
                        ],
                        [
                          1,
                          "#f0f921"
                        ]
                      ],
                      "sequentialminus": [
                        [
                          0,
                          "#0d0887"
                        ],
                        [
                          0.1111111111111111,
                          "#46039f"
                        ],
                        [
                          0.2222222222222222,
                          "#7201a8"
                        ],
                        [
                          0.3333333333333333,
                          "#9c179e"
                        ],
                        [
                          0.4444444444444444,
                          "#bd3786"
                        ],
                        [
                          0.5555555555555556,
                          "#d8576b"
                        ],
                        [
                          0.6666666666666666,
                          "#ed7953"
                        ],
                        [
                          0.7777777777777778,
                          "#fb9f3a"
                        ],
                        [
                          0.8888888888888888,
                          "#fdca26"
                        ],
                        [
                          1,
                          "#f0f921"
                        ]
                      ]
                    },
                    "colorway": [
                      "#636efa",
                      "#EF553B",
                      "#00cc96",
                      "#ab63fa",
                      "#FFA15A",
                      "#19d3f3",
                      "#FF6692",
                      "#B6E880",
                      "#FF97FF",
                      "#FECB52"
                    ],
                    "font": {
                      "color": "#2a3f5f"
                    },
                    "geo": {
                      "bgcolor": "white",
                      "lakecolor": "white",
                      "landcolor": "#E5ECF6",
                      "showlakes": true,
                      "showland": true,
                      "subunitcolor": "white"
                    },
                    "hoverlabel": {
                      "align": "left"
                    },
                    "hovermode": "closest",
                    "mapbox": {
                      "style": "light"
                    },
                    "paper_bgcolor": "white",
                    "plot_bgcolor": "#E5ECF6",
                    "polar": {
                      "angularaxis": {
                        "gridcolor": "white",
                        "linecolor": "white",
                        "ticks": ""
                      },
                      "bgcolor": "#E5ECF6",
                      "radialaxis": {
                        "gridcolor": "white",
                        "linecolor": "white",
                        "ticks": ""
                      }
                    },
                    "scene": {
                      "xaxis": {
                        "backgroundcolor": "#E5ECF6",
                        "gridcolor": "white",
                        "gridwidth": 2,
                        "linecolor": "white",
                        "showbackground": true,
                        "ticks": "",
                        "zerolinecolor": "white"
                      },
                      "yaxis": {
                        "backgroundcolor": "#E5ECF6",
                        "gridcolor": "white",
                        "gridwidth": 2,
                        "linecolor": "white",
                        "showbackground": true,
                        "ticks": "",
                        "zerolinecolor": "white"
                      },
                      "zaxis": {
                        "backgroundcolor": "#E5ECF6",
                        "gridcolor": "white",
                        "gridwidth": 2,
                        "linecolor": "white",
                        "showbackground": true,
                        "ticks": "",
                        "zerolinecolor": "white"
                      }
                    },
                    "shapedefaults": {
                      "line": {
                        "color": "#2a3f5f"
                      }
                    },
                    "ternary": {
                      "aaxis": {
                        "gridcolor": "white",
                        "linecolor": "white",
                        "ticks": ""
                      },
                      "baxis": {
                        "gridcolor": "white",
                        "linecolor": "white",
                        "ticks": ""
                      },
                      "bgcolor": "#E5ECF6",
                      "caxis": {
                        "gridcolor": "white",
                        "linecolor": "white",
                        "ticks": ""
                      }
                    },
                    "title": {
                      "x": 0.05
                    },
                    "xaxis": {
                      "automargin": true,
                      "gridcolor": "white",
                      "linecolor": "white",
                      "ticks": "",
                      "title": {
                        "standoff": 15
                      },
                      "zerolinecolor": "white",
                      "zerolinewidth": 2
                    },
                    "yaxis": {
                      "automargin": true,
                      "gridcolor": "white",
                      "linecolor": "white",
                      "ticks": "",
                      "title": {
                        "standoff": 15
                      },
                      "zerolinecolor": "white",
                      "zerolinewidth": 2
                    }
                  }
                },
                "title": {
                  "text": "Título del gráfico de líneas"
                },
                "xaxis": {
                  "anchor": "y",
                  "domain": [
                    0,
                    1
                  ],
                  "title": {
                    "text": "Tiempo"
                  }
                },
                "yaxis": {
                  "anchor": "x",
                  "domain": [
                    0,
                    1
                  ],
                  "title": {
                    "text": "Ventas"
                  }
                }
              }
            }
          },
          "metadata": {},
          "output_type": "display_data"
        }
      ],
      "source": [
        "fig = px.line(x = meses, y = total_ventas,\n",
        "    text= total_ventas,\n",
        "    title = \"Título del gráfico de líneas\",\n",
        "    labels = {'x': 'Tiempo', 'y':'Ventas'},\n",
        "                        markers = True)\n",
        "\n",
        "fig.show()"
      ]
    },
    {
      "cell_type": "markdown",
      "metadata": {},
      "source": [
        "# 2. Optimización de la publicidad y patrón de ventas por hora:"
      ]
    },
    {
      "cell_type": "markdown",
      "metadata": {},
      "source": [
        "¿Cómo cambian los patrones de ventas por hora a lo largo del año?"
      ]
    },
    {
      "cell_type": "code",
      "execution_count": 165,
      "metadata": {},
      "outputs": [
        {
          "data": {
            "application/vnd.plotly.v1+json": {
              "config": {
                "plotlyServerURL": "https://plot.ly"
              },
              "data": [
                {
                  "line": {
                    "shape": "spline",
                    "width": 2
                  },
                  "mode": "lines",
                  "name": "Enero",
                  "type": "scatter",
                  "x": [
                    0,
                    1,
                    2,
                    3,
                    4,
                    5,
                    6,
                    7,
                    8,
                    9,
                    10,
                    11,
                    12,
                    13,
                    14,
                    15,
                    16,
                    17,
                    18,
                    19,
                    20,
                    21,
                    22,
                    23
                  ],
                  "y": [
                    209,
                    113,
                    77,
                    34,
                    45,
                    73,
                    137,
                    179,
                    324,
                    493,
                    598,
                    655,
                    670,
                    607,
                    542,
                    545,
                    554,
                    508,
                    635,
                    657,
                    620,
                    576,
                    455,
                    375
                  ]
                },
                {
                  "line": {
                    "shape": "spline",
                    "width": 2
                  },
                  "mode": "lines",
                  "name": "Febrero",
                  "type": "scatter",
                  "x": [
                    0,
                    1,
                    2,
                    3,
                    4,
                    5,
                    6,
                    7,
                    8,
                    9,
                    10,
                    11,
                    12,
                    13,
                    14,
                    15,
                    16,
                    17,
                    18,
                    19,
                    20,
                    21,
                    22,
                    23
                  ],
                  "y": [
                    250,
                    159,
                    87,
                    60,
                    49,
                    83,
                    165,
                    243,
                    411,
                    589,
                    731,
                    755,
                    771,
                    782,
                    680,
                    659,
                    696,
                    740,
                    805,
                    804,
                    765,
                    745,
                    586,
                    371
                  ]
                },
                {
                  "line": {
                    "shape": "spline",
                    "width": 2
                  },
                  "mode": "lines",
                  "name": "Marzo",
                  "type": "scatter",
                  "x": [
                    0,
                    1,
                    2,
                    3,
                    4,
                    5,
                    6,
                    7,
                    8,
                    9,
                    10,
                    11,
                    12,
                    13,
                    14,
                    15,
                    16,
                    17,
                    18,
                    19,
                    20,
                    21,
                    22,
                    23
                  ],
                  "y": [
                    296,
                    185,
                    111,
                    68,
                    58,
                    108,
                    209,
                    325,
                    496,
                    690,
                    860,
                    1066,
                    1008,
                    1043,
                    890,
                    821,
                    859,
                    850,
                    1024,
                    1098,
                    989,
                    868,
                    726,
                    506
                  ]
                },
                {
                  "line": {
                    "shape": "spline",
                    "width": 2
                  },
                  "mode": "lines",
                  "name": "Abril",
                  "type": "scatter",
                  "x": [
                    0,
                    1,
                    2,
                    3,
                    4,
                    5,
                    6,
                    7,
                    8,
                    9,
                    10,
                    11,
                    12,
                    13,
                    14,
                    15,
                    16,
                    17,
                    18,
                    19,
                    20,
                    21,
                    22,
                    23
                  ],
                  "y": [
                    378,
                    244,
                    132,
                    85,
                    84,
                    143,
                    254,
                    384,
                    643,
                    869,
                    1134,
                    1201,
                    1201,
                    1192,
                    1112,
                    986,
                    1054,
                    1013,
                    1227,
                    1286,
                    1201,
                    1018,
                    849,
                    599
                  ]
                },
                {
                  "line": {
                    "shape": "spline",
                    "width": 2
                  },
                  "mode": "lines",
                  "name": "Mayo",
                  "type": "scatter",
                  "x": [
                    0,
                    1,
                    2,
                    3,
                    4,
                    5,
                    6,
                    7,
                    8,
                    9,
                    10,
                    11,
                    12,
                    13,
                    14,
                    15,
                    16,
                    17,
                    18,
                    19,
                    20,
                    21,
                    22,
                    23
                  ],
                  "y": [
                    347,
                    202,
                    113,
                    63,
                    75,
                    104,
                    198,
                    353,
                    600,
                    810,
                    974,
                    1058,
                    1201,
                    1057,
                    1004,
                    832,
                    882,
                    993,
                    1108,
                    1165,
                    1142,
                    948,
                    772,
                    553
                  ]
                },
                {
                  "line": {
                    "shape": "spline",
                    "width": 2
                  },
                  "mode": "lines",
                  "name": "Junio",
                  "type": "scatter",
                  "x": [
                    0,
                    1,
                    2,
                    3,
                    4,
                    5,
                    6,
                    7,
                    8,
                    9,
                    10,
                    11,
                    12,
                    13,
                    14,
                    15,
                    16,
                    17,
                    18,
                    19,
                    20,
                    21,
                    22,
                    23
                  ],
                  "y": [
                    300,
                    166,
                    80,
                    66,
                    65,
                    79,
                    164,
                    279,
                    474,
                    658,
                    799,
                    927,
                    889,
                    878,
                    788,
                    772,
                    740,
                    807,
                    918,
                    885,
                    901,
                    814,
                    655,
                    452
                  ]
                },
                {
                  "line": {
                    "shape": "spline",
                    "width": 2
                  },
                  "mode": "lines",
                  "name": "Julio",
                  "type": "scatter",
                  "x": [
                    0,
                    1,
                    2,
                    3,
                    4,
                    5,
                    6,
                    7,
                    8,
                    9,
                    10,
                    11,
                    12,
                    13,
                    14,
                    15,
                    16,
                    17,
                    18,
                    19,
                    20,
                    21,
                    22,
                    23
                  ],
                  "y": [
                    319,
                    168,
                    81,
                    62,
                    67,
                    108,
                    170,
                    329,
                    503,
                    687,
                    789,
                    996,
                    964,
                    894,
                    835,
                    778,
                    777,
                    904,
                    916,
                    954,
                    953,
                    859,
                    695,
                    483
                  ]
                },
                {
                  "line": {
                    "shape": "spline",
                    "width": 2
                  },
                  "mode": "lines",
                  "name": "Agosto",
                  "type": "scatter",
                  "x": [
                    0,
                    1,
                    2,
                    3,
                    4,
                    5,
                    6,
                    7,
                    8,
                    9,
                    10,
                    11,
                    12,
                    13,
                    14,
                    15,
                    16,
                    17,
                    18,
                    19,
                    20,
                    21,
                    22,
                    23
                  ],
                  "y": [
                    247,
                    138,
                    85,
                    53,
                    55,
                    97,
                    175,
                    293,
                    410,
                    524,
                    695,
                    792,
                    799,
                    769,
                    700,
                    707,
                    673,
                    670,
                    754,
                    834,
                    824,
                    669,
                    594,
                    400
                  ]
                },
                {
                  "line": {
                    "shape": "spline",
                    "width": 2
                  },
                  "mode": "lines",
                  "name": "Septiembre",
                  "type": "scatter",
                  "x": [
                    0,
                    1,
                    2,
                    3,
                    4,
                    5,
                    6,
                    7,
                    8,
                    9,
                    10,
                    11,
                    12,
                    13,
                    14,
                    15,
                    16,
                    17,
                    18,
                    19,
                    20,
                    21,
                    22,
                    23
                  ],
                  "y": [
                    260,
                    164,
                    78,
                    55,
                    39,
                    89,
                    144,
                    217,
                    375,
                    563,
                    630,
                    761,
                    775,
                    764,
                    732,
                    608,
                    622,
                    735,
                    745,
                    793,
                    722,
                    752,
                    586,
                    420
                  ]
                },
                {
                  "line": {
                    "shape": "spline",
                    "width": 2
                  },
                  "mode": "lines",
                  "name": "Octubre",
                  "type": "scatter",
                  "x": [
                    0,
                    1,
                    2,
                    3,
                    4,
                    5,
                    6,
                    7,
                    8,
                    9,
                    10,
                    11,
                    12,
                    13,
                    14,
                    15,
                    16,
                    17,
                    18,
                    19,
                    20,
                    21,
                    22,
                    23
                  ],
                  "y": [
                    432,
                    268,
                    137,
                    88,
                    110,
                    138,
                    289,
                    449,
                    653,
                    944,
                    1249,
                    1379,
                    1425,
                    1313,
                    1168,
                    1114,
                    1203,
                    1146,
                    1296,
                    1446,
                    1279,
                    1204,
                    916,
                    638
                  ]
                },
                {
                  "line": {
                    "shape": "spline",
                    "width": 2
                  },
                  "mode": "lines",
                  "name": "Noviembre",
                  "type": "scatter",
                  "x": [
                    0,
                    1,
                    2,
                    3,
                    4,
                    5,
                    6,
                    7,
                    8,
                    9,
                    10,
                    11,
                    12,
                    13,
                    14,
                    15,
                    16,
                    17,
                    18,
                    19,
                    20,
                    21,
                    22,
                    23
                  ],
                  "y": [
                    375,
                    223,
                    107,
                    83,
                    76,
                    108,
                    245,
                    375,
                    534,
                    794,
                    975,
                    1164,
                    1191,
                    1189,
                    1041,
                    952,
                    989,
                    1102,
                    1185,
                    1192,
                    1197,
                    1052,
                    810,
                    621
                  ]
                },
                {
                  "line": {
                    "shape": "spline",
                    "width": 2
                  },
                  "mode": "lines",
                  "name": "Diciembre",
                  "type": "scatter",
                  "x": [
                    0,
                    1,
                    2,
                    3,
                    4,
                    5,
                    6,
                    7,
                    8,
                    9,
                    10,
                    11,
                    12,
                    13,
                    14,
                    15,
                    16,
                    17,
                    18,
                    19,
                    20,
                    21,
                    22,
                    23
                  ],
                  "y": [
                    497,
                    320,
                    155,
                    114,
                    131,
                    191,
                    332,
                    585,
                    833,
                    1127,
                    1510,
                    1657,
                    1693,
                    1641,
                    1492,
                    1401,
                    1335,
                    1431,
                    1667,
                    1791,
                    1635,
                    1416,
                    1178,
                    857
                  ]
                }
              ],
              "layout": {
                "legend": {
                  "y": 0.3,
                  "yanchor": "bottom"
                },
                "template": {
                  "data": {
                    "bar": [
                      {
                        "error_x": {
                          "color": "#2a3f5f"
                        },
                        "error_y": {
                          "color": "#2a3f5f"
                        },
                        "marker": {
                          "line": {
                            "color": "#E5ECF6",
                            "width": 0.5
                          },
                          "pattern": {
                            "fillmode": "overlay",
                            "size": 10,
                            "solidity": 0.2
                          }
                        },
                        "type": "bar"
                      }
                    ],
                    "barpolar": [
                      {
                        "marker": {
                          "line": {
                            "color": "#E5ECF6",
                            "width": 0.5
                          },
                          "pattern": {
                            "fillmode": "overlay",
                            "size": 10,
                            "solidity": 0.2
                          }
                        },
                        "type": "barpolar"
                      }
                    ],
                    "carpet": [
                      {
                        "aaxis": {
                          "endlinecolor": "#2a3f5f",
                          "gridcolor": "white",
                          "linecolor": "white",
                          "minorgridcolor": "white",
                          "startlinecolor": "#2a3f5f"
                        },
                        "baxis": {
                          "endlinecolor": "#2a3f5f",
                          "gridcolor": "white",
                          "linecolor": "white",
                          "minorgridcolor": "white",
                          "startlinecolor": "#2a3f5f"
                        },
                        "type": "carpet"
                      }
                    ],
                    "choropleth": [
                      {
                        "colorbar": {
                          "outlinewidth": 0,
                          "ticks": ""
                        },
                        "type": "choropleth"
                      }
                    ],
                    "contour": [
                      {
                        "colorbar": {
                          "outlinewidth": 0,
                          "ticks": ""
                        },
                        "colorscale": [
                          [
                            0,
                            "#0d0887"
                          ],
                          [
                            0.1111111111111111,
                            "#46039f"
                          ],
                          [
                            0.2222222222222222,
                            "#7201a8"
                          ],
                          [
                            0.3333333333333333,
                            "#9c179e"
                          ],
                          [
                            0.4444444444444444,
                            "#bd3786"
                          ],
                          [
                            0.5555555555555556,
                            "#d8576b"
                          ],
                          [
                            0.6666666666666666,
                            "#ed7953"
                          ],
                          [
                            0.7777777777777778,
                            "#fb9f3a"
                          ],
                          [
                            0.8888888888888888,
                            "#fdca26"
                          ],
                          [
                            1,
                            "#f0f921"
                          ]
                        ],
                        "type": "contour"
                      }
                    ],
                    "contourcarpet": [
                      {
                        "colorbar": {
                          "outlinewidth": 0,
                          "ticks": ""
                        },
                        "type": "contourcarpet"
                      }
                    ],
                    "heatmap": [
                      {
                        "colorbar": {
                          "outlinewidth": 0,
                          "ticks": ""
                        },
                        "colorscale": [
                          [
                            0,
                            "#0d0887"
                          ],
                          [
                            0.1111111111111111,
                            "#46039f"
                          ],
                          [
                            0.2222222222222222,
                            "#7201a8"
                          ],
                          [
                            0.3333333333333333,
                            "#9c179e"
                          ],
                          [
                            0.4444444444444444,
                            "#bd3786"
                          ],
                          [
                            0.5555555555555556,
                            "#d8576b"
                          ],
                          [
                            0.6666666666666666,
                            "#ed7953"
                          ],
                          [
                            0.7777777777777778,
                            "#fb9f3a"
                          ],
                          [
                            0.8888888888888888,
                            "#fdca26"
                          ],
                          [
                            1,
                            "#f0f921"
                          ]
                        ],
                        "type": "heatmap"
                      }
                    ],
                    "heatmapgl": [
                      {
                        "colorbar": {
                          "outlinewidth": 0,
                          "ticks": ""
                        },
                        "colorscale": [
                          [
                            0,
                            "#0d0887"
                          ],
                          [
                            0.1111111111111111,
                            "#46039f"
                          ],
                          [
                            0.2222222222222222,
                            "#7201a8"
                          ],
                          [
                            0.3333333333333333,
                            "#9c179e"
                          ],
                          [
                            0.4444444444444444,
                            "#bd3786"
                          ],
                          [
                            0.5555555555555556,
                            "#d8576b"
                          ],
                          [
                            0.6666666666666666,
                            "#ed7953"
                          ],
                          [
                            0.7777777777777778,
                            "#fb9f3a"
                          ],
                          [
                            0.8888888888888888,
                            "#fdca26"
                          ],
                          [
                            1,
                            "#f0f921"
                          ]
                        ],
                        "type": "heatmapgl"
                      }
                    ],
                    "histogram": [
                      {
                        "marker": {
                          "pattern": {
                            "fillmode": "overlay",
                            "size": 10,
                            "solidity": 0.2
                          }
                        },
                        "type": "histogram"
                      }
                    ],
                    "histogram2d": [
                      {
                        "colorbar": {
                          "outlinewidth": 0,
                          "ticks": ""
                        },
                        "colorscale": [
                          [
                            0,
                            "#0d0887"
                          ],
                          [
                            0.1111111111111111,
                            "#46039f"
                          ],
                          [
                            0.2222222222222222,
                            "#7201a8"
                          ],
                          [
                            0.3333333333333333,
                            "#9c179e"
                          ],
                          [
                            0.4444444444444444,
                            "#bd3786"
                          ],
                          [
                            0.5555555555555556,
                            "#d8576b"
                          ],
                          [
                            0.6666666666666666,
                            "#ed7953"
                          ],
                          [
                            0.7777777777777778,
                            "#fb9f3a"
                          ],
                          [
                            0.8888888888888888,
                            "#fdca26"
                          ],
                          [
                            1,
                            "#f0f921"
                          ]
                        ],
                        "type": "histogram2d"
                      }
                    ],
                    "histogram2dcontour": [
                      {
                        "colorbar": {
                          "outlinewidth": 0,
                          "ticks": ""
                        },
                        "colorscale": [
                          [
                            0,
                            "#0d0887"
                          ],
                          [
                            0.1111111111111111,
                            "#46039f"
                          ],
                          [
                            0.2222222222222222,
                            "#7201a8"
                          ],
                          [
                            0.3333333333333333,
                            "#9c179e"
                          ],
                          [
                            0.4444444444444444,
                            "#bd3786"
                          ],
                          [
                            0.5555555555555556,
                            "#d8576b"
                          ],
                          [
                            0.6666666666666666,
                            "#ed7953"
                          ],
                          [
                            0.7777777777777778,
                            "#fb9f3a"
                          ],
                          [
                            0.8888888888888888,
                            "#fdca26"
                          ],
                          [
                            1,
                            "#f0f921"
                          ]
                        ],
                        "type": "histogram2dcontour"
                      }
                    ],
                    "mesh3d": [
                      {
                        "colorbar": {
                          "outlinewidth": 0,
                          "ticks": ""
                        },
                        "type": "mesh3d"
                      }
                    ],
                    "parcoords": [
                      {
                        "line": {
                          "colorbar": {
                            "outlinewidth": 0,
                            "ticks": ""
                          }
                        },
                        "type": "parcoords"
                      }
                    ],
                    "pie": [
                      {
                        "automargin": true,
                        "type": "pie"
                      }
                    ],
                    "scatter": [
                      {
                        "fillpattern": {
                          "fillmode": "overlay",
                          "size": 10,
                          "solidity": 0.2
                        },
                        "type": "scatter"
                      }
                    ],
                    "scatter3d": [
                      {
                        "line": {
                          "colorbar": {
                            "outlinewidth": 0,
                            "ticks": ""
                          }
                        },
                        "marker": {
                          "colorbar": {
                            "outlinewidth": 0,
                            "ticks": ""
                          }
                        },
                        "type": "scatter3d"
                      }
                    ],
                    "scattercarpet": [
                      {
                        "marker": {
                          "colorbar": {
                            "outlinewidth": 0,
                            "ticks": ""
                          }
                        },
                        "type": "scattercarpet"
                      }
                    ],
                    "scattergeo": [
                      {
                        "marker": {
                          "colorbar": {
                            "outlinewidth": 0,
                            "ticks": ""
                          }
                        },
                        "type": "scattergeo"
                      }
                    ],
                    "scattergl": [
                      {
                        "marker": {
                          "colorbar": {
                            "outlinewidth": 0,
                            "ticks": ""
                          }
                        },
                        "type": "scattergl"
                      }
                    ],
                    "scattermapbox": [
                      {
                        "marker": {
                          "colorbar": {
                            "outlinewidth": 0,
                            "ticks": ""
                          }
                        },
                        "type": "scattermapbox"
                      }
                    ],
                    "scatterpolar": [
                      {
                        "marker": {
                          "colorbar": {
                            "outlinewidth": 0,
                            "ticks": ""
                          }
                        },
                        "type": "scatterpolar"
                      }
                    ],
                    "scatterpolargl": [
                      {
                        "marker": {
                          "colorbar": {
                            "outlinewidth": 0,
                            "ticks": ""
                          }
                        },
                        "type": "scatterpolargl"
                      }
                    ],
                    "scatterternary": [
                      {
                        "marker": {
                          "colorbar": {
                            "outlinewidth": 0,
                            "ticks": ""
                          }
                        },
                        "type": "scatterternary"
                      }
                    ],
                    "surface": [
                      {
                        "colorbar": {
                          "outlinewidth": 0,
                          "ticks": ""
                        },
                        "colorscale": [
                          [
                            0,
                            "#0d0887"
                          ],
                          [
                            0.1111111111111111,
                            "#46039f"
                          ],
                          [
                            0.2222222222222222,
                            "#7201a8"
                          ],
                          [
                            0.3333333333333333,
                            "#9c179e"
                          ],
                          [
                            0.4444444444444444,
                            "#bd3786"
                          ],
                          [
                            0.5555555555555556,
                            "#d8576b"
                          ],
                          [
                            0.6666666666666666,
                            "#ed7953"
                          ],
                          [
                            0.7777777777777778,
                            "#fb9f3a"
                          ],
                          [
                            0.8888888888888888,
                            "#fdca26"
                          ],
                          [
                            1,
                            "#f0f921"
                          ]
                        ],
                        "type": "surface"
                      }
                    ],
                    "table": [
                      {
                        "cells": {
                          "fill": {
                            "color": "#EBF0F8"
                          },
                          "line": {
                            "color": "white"
                          }
                        },
                        "header": {
                          "fill": {
                            "color": "#C8D4E3"
                          },
                          "line": {
                            "color": "white"
                          }
                        },
                        "type": "table"
                      }
                    ]
                  },
                  "layout": {
                    "annotationdefaults": {
                      "arrowcolor": "#2a3f5f",
                      "arrowhead": 0,
                      "arrowwidth": 1
                    },
                    "autotypenumbers": "strict",
                    "coloraxis": {
                      "colorbar": {
                        "outlinewidth": 0,
                        "ticks": ""
                      }
                    },
                    "colorscale": {
                      "diverging": [
                        [
                          0,
                          "#8e0152"
                        ],
                        [
                          0.1,
                          "#c51b7d"
                        ],
                        [
                          0.2,
                          "#de77ae"
                        ],
                        [
                          0.3,
                          "#f1b6da"
                        ],
                        [
                          0.4,
                          "#fde0ef"
                        ],
                        [
                          0.5,
                          "#f7f7f7"
                        ],
                        [
                          0.6,
                          "#e6f5d0"
                        ],
                        [
                          0.7,
                          "#b8e186"
                        ],
                        [
                          0.8,
                          "#7fbc41"
                        ],
                        [
                          0.9,
                          "#4d9221"
                        ],
                        [
                          1,
                          "#276419"
                        ]
                      ],
                      "sequential": [
                        [
                          0,
                          "#0d0887"
                        ],
                        [
                          0.1111111111111111,
                          "#46039f"
                        ],
                        [
                          0.2222222222222222,
                          "#7201a8"
                        ],
                        [
                          0.3333333333333333,
                          "#9c179e"
                        ],
                        [
                          0.4444444444444444,
                          "#bd3786"
                        ],
                        [
                          0.5555555555555556,
                          "#d8576b"
                        ],
                        [
                          0.6666666666666666,
                          "#ed7953"
                        ],
                        [
                          0.7777777777777778,
                          "#fb9f3a"
                        ],
                        [
                          0.8888888888888888,
                          "#fdca26"
                        ],
                        [
                          1,
                          "#f0f921"
                        ]
                      ],
                      "sequentialminus": [
                        [
                          0,
                          "#0d0887"
                        ],
                        [
                          0.1111111111111111,
                          "#46039f"
                        ],
                        [
                          0.2222222222222222,
                          "#7201a8"
                        ],
                        [
                          0.3333333333333333,
                          "#9c179e"
                        ],
                        [
                          0.4444444444444444,
                          "#bd3786"
                        ],
                        [
                          0.5555555555555556,
                          "#d8576b"
                        ],
                        [
                          0.6666666666666666,
                          "#ed7953"
                        ],
                        [
                          0.7777777777777778,
                          "#fb9f3a"
                        ],
                        [
                          0.8888888888888888,
                          "#fdca26"
                        ],
                        [
                          1,
                          "#f0f921"
                        ]
                      ]
                    },
                    "colorway": [
                      "#636efa",
                      "#EF553B",
                      "#00cc96",
                      "#ab63fa",
                      "#FFA15A",
                      "#19d3f3",
                      "#FF6692",
                      "#B6E880",
                      "#FF97FF",
                      "#FECB52"
                    ],
                    "font": {
                      "color": "#2a3f5f"
                    },
                    "geo": {
                      "bgcolor": "white",
                      "lakecolor": "white",
                      "landcolor": "#E5ECF6",
                      "showlakes": true,
                      "showland": true,
                      "subunitcolor": "white"
                    },
                    "hoverlabel": {
                      "align": "left"
                    },
                    "hovermode": "closest",
                    "mapbox": {
                      "style": "light"
                    },
                    "paper_bgcolor": "white",
                    "plot_bgcolor": "#E5ECF6",
                    "polar": {
                      "angularaxis": {
                        "gridcolor": "white",
                        "linecolor": "white",
                        "ticks": ""
                      },
                      "bgcolor": "#E5ECF6",
                      "radialaxis": {
                        "gridcolor": "white",
                        "linecolor": "white",
                        "ticks": ""
                      }
                    },
                    "scene": {
                      "xaxis": {
                        "backgroundcolor": "#E5ECF6",
                        "gridcolor": "white",
                        "gridwidth": 2,
                        "linecolor": "white",
                        "showbackground": true,
                        "ticks": "",
                        "zerolinecolor": "white"
                      },
                      "yaxis": {
                        "backgroundcolor": "#E5ECF6",
                        "gridcolor": "white",
                        "gridwidth": 2,
                        "linecolor": "white",
                        "showbackground": true,
                        "ticks": "",
                        "zerolinecolor": "white"
                      },
                      "zaxis": {
                        "backgroundcolor": "#E5ECF6",
                        "gridcolor": "white",
                        "gridwidth": 2,
                        "linecolor": "white",
                        "showbackground": true,
                        "ticks": "",
                        "zerolinecolor": "white"
                      }
                    },
                    "shapedefaults": {
                      "line": {
                        "color": "#2a3f5f"
                      }
                    },
                    "ternary": {
                      "aaxis": {
                        "gridcolor": "white",
                        "linecolor": "white",
                        "ticks": ""
                      },
                      "baxis": {
                        "gridcolor": "white",
                        "linecolor": "white",
                        "ticks": ""
                      },
                      "bgcolor": "#E5ECF6",
                      "caxis": {
                        "gridcolor": "white",
                        "linecolor": "white",
                        "ticks": ""
                      }
                    },
                    "title": {
                      "x": 0.05
                    },
                    "xaxis": {
                      "automargin": true,
                      "gridcolor": "white",
                      "linecolor": "white",
                      "ticks": "",
                      "title": {
                        "standoff": 15
                      },
                      "zerolinecolor": "white",
                      "zerolinewidth": 2
                    },
                    "yaxis": {
                      "automargin": true,
                      "gridcolor": "white",
                      "linecolor": "white",
                      "ticks": "",
                      "title": {
                        "standoff": 15
                      },
                      "zerolinecolor": "white",
                      "zerolinewidth": 2
                    }
                  }
                },
                "title": {
                  "text": "Unidades vendidas por hora en diferentes meses"
                },
                "xaxis": {
                  "tickvals": [
                    0,
                    1,
                    2,
                    3,
                    4,
                    5,
                    6,
                    7,
                    8,
                    9,
                    10,
                    11,
                    12,
                    13,
                    14,
                    15,
                    16,
                    17,
                    18,
                    19,
                    20,
                    21,
                    22,
                    23
                  ],
                  "title": {
                    "text": "Hora"
                  }
                },
                "yaxis": {
                  "side": "left",
                  "title": {
                    "text": "Unidades vendidas"
                  }
                }
              }
            }
          },
          "metadata": {},
          "output_type": "display_data"
        }
      ],
      "source": [
        "# Crear una lista de las horas del día (0 a 23)\n",
        "Horas = list(range(24))\n",
        "\n",
        "# Crear un objeto figura para el gráfico\n",
        "fig = go.Figure()\n",
        "\n",
        "# Lista para almacenar los datos de ventas por hora de cada mes\n",
        "ventas_por_hora_por_mes = []\n",
        "\n",
        "# Iterar a través de cada mes en la lista 'meses'\n",
        "for mes in meses:\n",
        "    # Obtener el DataFrame correspondiente al mes\n",
        "    dataframe_mes = dataframes[mes]\n",
        "    \n",
        "    # Realizar algún procesamiento de datos específico (reemplaza con tu propio procesamiento)\n",
        "    dataframe_mes = extraer_datos(dataframe_mes)  # Reemplaza esto con el procesamiento que necesites\n",
        "    \n",
        "    # Calcular el número de ventas por hora para este mes y almacenarlo en 'Ventas_por_hora'\n",
        "    Ventas_por_hora = dataframe_mes.groupby('Hora')['Cantidad Pedida'].count()\n",
        "    \n",
        "    # Agregar los datos de ventas por hora de este mes a la lista 'ventas_por_hora_por_mes'\n",
        "    ventas_por_hora_por_mes.append(Ventas_por_hora)\n",
        "\n",
        "# Iterar sobre la lista de datos y agregar cada mes al objeto figura 'fig'\n",
        "for i, mes in enumerate(meses):\n",
        "    fig.add_trace(go.Scatter(\n",
        "        x=Horas,  # Eje X: Horas del día\n",
        "        y=ventas_por_hora_por_mes[i],  # Eje Y: Datos de ventas por hora para este mes\n",
        "        mode='lines',  # Tipo de gráfico: líneas\n",
        "        name=mes,  # Etiqueta para la leyenda del gráfico\n",
        "        line=dict(width=2, shape='spline'),  # Configuración de las líneas del gráfico\n",
        "    ))\n",
        "\n",
        "# Configurar los ejes y los títulos del gráfico\n",
        "fig.update_layout(\n",
        "    title=\"Unidades vendidas por hora en diferentes meses\",  # Título del gráfico\n",
        "    xaxis=dict(title=\"Hora\", tickvals=Horas),  # Configuración del eje X\n",
        "    yaxis=dict(title=\"Unidades vendidas\", side=\"left\"),  # Configuración del eje Y\n",
        "    legend=dict(y=0.3, yanchor='bottom'),  # Configuración de la leyenda\n",
        ")\n",
        "\n",
        "# Mostrar el gráfico\n",
        "fig.show()"
      ]
    },
    {
      "cell_type": "code",
      "execution_count": 173,
      "metadata": {},
      "outputs": [
        {
          "data": {
            "text/html": [
              "<div>\n",
              "<style scoped>\n",
              "    .dataframe tbody tr th:only-of-type {\n",
              "        vertical-align: middle;\n",
              "    }\n",
              "\n",
              "    .dataframe tbody tr th {\n",
              "        vertical-align: top;\n",
              "    }\n",
              "\n",
              "    .dataframe thead th {\n",
              "        text-align: right;\n",
              "    }\n",
              "</style>\n",
              "<table border=\"1\" class=\"dataframe\">\n",
              "  <thead>\n",
              "    <tr style=\"text-align: right;\">\n",
              "      <th></th>\n",
              "      <th>ID de Pedido</th>\n",
              "      <th>Producto</th>\n",
              "      <th>Cantidad Pedida</th>\n",
              "      <th>Precio Unitario</th>\n",
              "      <th>Fecha de Pedido</th>\n",
              "      <th>Dirección de Envio</th>\n",
              "      <th>total</th>\n",
              "      <th>Hora</th>\n",
              "      <th>Dia</th>\n",
              "      <th>mes</th>\n",
              "      <th>año</th>\n",
              "      <th>strDia</th>\n",
              "      <th>dia-mes</th>\n",
              "    </tr>\n",
              "  </thead>\n",
              "  <tbody>\n",
              "    <tr>\n",
              "      <th>1563</th>\n",
              "      <td>297150</td>\n",
              "      <td>Lightning Charging Cable</td>\n",
              "      <td>1</td>\n",
              "      <td>14.95</td>\n",
              "      <td>2020-01-01 00:38:00</td>\n",
              "      <td>427 Wilson St, Dallas, TX 75001</td>\n",
              "      <td>14.95</td>\n",
              "      <td>0</td>\n",
              "      <td>1</td>\n",
              "      <td>1</td>\n",
              "      <td>2020</td>\n",
              "      <td>Wednesday</td>\n",
              "      <td>0        30\\n1        29\\n2        12\\n3      ...</td>\n",
              "    </tr>\n",
              "    <tr>\n",
              "      <th>2265</th>\n",
              "      <td>297817</td>\n",
              "      <td>iPhone</td>\n",
              "      <td>1</td>\n",
              "      <td>700.00</td>\n",
              "      <td>2020-01-01 00:22:00</td>\n",
              "      <td>519 13th St, New York City, NY 10001</td>\n",
              "      <td>700.00</td>\n",
              "      <td>0</td>\n",
              "      <td>1</td>\n",
              "      <td>1</td>\n",
              "      <td>2020</td>\n",
              "      <td>Wednesday</td>\n",
              "      <td>0        30\\n1        29\\n2        12\\n3      ...</td>\n",
              "    </tr>\n",
              "    <tr>\n",
              "      <th>2266</th>\n",
              "      <td>297817</td>\n",
              "      <td>Lightning Charging Cable</td>\n",
              "      <td>2</td>\n",
              "      <td>14.95</td>\n",
              "      <td>2020-01-01 00:22:00</td>\n",
              "      <td>519 13th St, New York City, NY 10001</td>\n",
              "      <td>29.90</td>\n",
              "      <td>0</td>\n",
              "      <td>1</td>\n",
              "      <td>1</td>\n",
              "      <td>2020</td>\n",
              "      <td>Wednesday</td>\n",
              "      <td>0        30\\n1        29\\n2        12\\n3      ...</td>\n",
              "    </tr>\n",
              "    <tr>\n",
              "      <th>2425</th>\n",
              "      <td>297969</td>\n",
              "      <td>Google Phone</td>\n",
              "      <td>1</td>\n",
              "      <td>600.00</td>\n",
              "      <td>2020-01-01 00:54:00</td>\n",
              "      <td>542 2nd St, San Francisco, CA 94016</td>\n",
              "      <td>600.00</td>\n",
              "      <td>0</td>\n",
              "      <td>1</td>\n",
              "      <td>1</td>\n",
              "      <td>2020</td>\n",
              "      <td>Wednesday</td>\n",
              "      <td>0        30\\n1        29\\n2        12\\n3      ...</td>\n",
              "    </tr>\n",
              "    <tr>\n",
              "      <th>2806</th>\n",
              "      <td>298344</td>\n",
              "      <td>Wired Headphones</td>\n",
              "      <td>4</td>\n",
              "      <td>11.99</td>\n",
              "      <td>2020-01-01 03:34:00</td>\n",
              "      <td>731 7th St, New York City, NY 10001</td>\n",
              "      <td>47.96</td>\n",
              "      <td>3</td>\n",
              "      <td>1</td>\n",
              "      <td>1</td>\n",
              "      <td>2020</td>\n",
              "      <td>Wednesday</td>\n",
              "      <td>0        30\\n1        29\\n2        12\\n3      ...</td>\n",
              "    </tr>\n",
              "    <tr>\n",
              "      <th>3553</th>\n",
              "      <td>299049</td>\n",
              "      <td>Apple Airpods Headphones</td>\n",
              "      <td>1</td>\n",
              "      <td>150.00</td>\n",
              "      <td>2020-01-01 01:17:00</td>\n",
              "      <td>762 Johnson St, San Francisco, CA 94016</td>\n",
              "      <td>150.00</td>\n",
              "      <td>1</td>\n",
              "      <td>1</td>\n",
              "      <td>1</td>\n",
              "      <td>2020</td>\n",
              "      <td>Wednesday</td>\n",
              "      <td>0        30\\n1        29\\n2        12\\n3      ...</td>\n",
              "    </tr>\n",
              "    <tr>\n",
              "      <th>3633</th>\n",
              "      <td>299125</td>\n",
              "      <td>USB-C Charging Cable</td>\n",
              "      <td>1</td>\n",
              "      <td>11.95</td>\n",
              "      <td>2020-01-01 04:21:00</td>\n",
              "      <td>754 Hickory St, New York City, NY 10001</td>\n",
              "      <td>11.95</td>\n",
              "      <td>4</td>\n",
              "      <td>1</td>\n",
              "      <td>1</td>\n",
              "      <td>2020</td>\n",
              "      <td>Wednesday</td>\n",
              "      <td>0        30\\n1        29\\n2        12\\n3      ...</td>\n",
              "    </tr>\n",
              "    <tr>\n",
              "      <th>4941</th>\n",
              "      <td>300362</td>\n",
              "      <td>USB-C Charging Cable</td>\n",
              "      <td>1</td>\n",
              "      <td>11.95</td>\n",
              "      <td>2020-01-01 00:59:00</td>\n",
              "      <td>581 River St, San Francisco, CA 94016</td>\n",
              "      <td>11.95</td>\n",
              "      <td>0</td>\n",
              "      <td>1</td>\n",
              "      <td>1</td>\n",
              "      <td>2020</td>\n",
              "      <td>Wednesday</td>\n",
              "      <td>0        30\\n1        29\\n2        12\\n3      ...</td>\n",
              "    </tr>\n",
              "    <tr>\n",
              "      <th>5103</th>\n",
              "      <td>300519</td>\n",
              "      <td>Bose SoundSport Headphones</td>\n",
              "      <td>1</td>\n",
              "      <td>99.99</td>\n",
              "      <td>2020-01-01 05:13:00</td>\n",
              "      <td>657 Spruce St, New York City, NY 10001</td>\n",
              "      <td>99.99</td>\n",
              "      <td>5</td>\n",
              "      <td>1</td>\n",
              "      <td>1</td>\n",
              "      <td>2020</td>\n",
              "      <td>Wednesday</td>\n",
              "      <td>0        30\\n1        29\\n2        12\\n3      ...</td>\n",
              "    </tr>\n",
              "    <tr>\n",
              "      <th>5104</th>\n",
              "      <td>300519</td>\n",
              "      <td>Lightning Charging Cable</td>\n",
              "      <td>1</td>\n",
              "      <td>14.95</td>\n",
              "      <td>2020-01-01 05:13:00</td>\n",
              "      <td>657 Spruce St, New York City, NY 10001</td>\n",
              "      <td>14.95</td>\n",
              "      <td>5</td>\n",
              "      <td>1</td>\n",
              "      <td>1</td>\n",
              "      <td>2020</td>\n",
              "      <td>Wednesday</td>\n",
              "      <td>0        30\\n1        29\\n2        12\\n3      ...</td>\n",
              "    </tr>\n",
              "    <tr>\n",
              "      <th>5355</th>\n",
              "      <td>300759</td>\n",
              "      <td>20in Monitor</td>\n",
              "      <td>1</td>\n",
              "      <td>109.99</td>\n",
              "      <td>2020-01-01 00:14:00</td>\n",
              "      <td>193 5th St, Austin, TX 73301</td>\n",
              "      <td>109.99</td>\n",
              "      <td>0</td>\n",
              "      <td>1</td>\n",
              "      <td>1</td>\n",
              "      <td>2020</td>\n",
              "      <td>Wednesday</td>\n",
              "      <td>0        30\\n1        29\\n2        12\\n3      ...</td>\n",
              "    </tr>\n",
              "    <tr>\n",
              "      <th>7048</th>\n",
              "      <td>302393</td>\n",
              "      <td>Lightning Charging Cable</td>\n",
              "      <td>1</td>\n",
              "      <td>14.95</td>\n",
              "      <td>2020-01-01 00:14:00</td>\n",
              "      <td>108 Jefferson St, Boston, MA 02215</td>\n",
              "      <td>14.95</td>\n",
              "      <td>0</td>\n",
              "      <td>1</td>\n",
              "      <td>1</td>\n",
              "      <td>2020</td>\n",
              "      <td>Wednesday</td>\n",
              "      <td>0        30\\n1        29\\n2        12\\n3      ...</td>\n",
              "    </tr>\n",
              "    <tr>\n",
              "      <th>8914</th>\n",
              "      <td>304165</td>\n",
              "      <td>AAA Batteries (4-pack)</td>\n",
              "      <td>1</td>\n",
              "      <td>2.99</td>\n",
              "      <td>2020-01-01 04:13:00</td>\n",
              "      <td>825 Adams St, Portland, OR 97035</td>\n",
              "      <td>2.99</td>\n",
              "      <td>4</td>\n",
              "      <td>1</td>\n",
              "      <td>1</td>\n",
              "      <td>2020</td>\n",
              "      <td>Wednesday</td>\n",
              "      <td>0        30\\n1        29\\n2        12\\n3      ...</td>\n",
              "    </tr>\n",
              "    <tr>\n",
              "      <th>10350</th>\n",
              "      <td>305538</td>\n",
              "      <td>Apple Airpods Headphones</td>\n",
              "      <td>1</td>\n",
              "      <td>150.00</td>\n",
              "      <td>2020-01-01 01:00:00</td>\n",
              "      <td>693 1st St, Portland, OR 97035</td>\n",
              "      <td>150.00</td>\n",
              "      <td>1</td>\n",
              "      <td>1</td>\n",
              "      <td>1</td>\n",
              "      <td>2020</td>\n",
              "      <td>Wednesday</td>\n",
              "      <td>0        30\\n1        29\\n2        12\\n3      ...</td>\n",
              "    </tr>\n",
              "    <tr>\n",
              "      <th>10667</th>\n",
              "      <td>305840</td>\n",
              "      <td>Bose SoundSport Headphones</td>\n",
              "      <td>1</td>\n",
              "      <td>99.99</td>\n",
              "      <td>2020-01-01 04:54:00</td>\n",
              "      <td>784 River St, San Francisco, CA 94016</td>\n",
              "      <td>99.99</td>\n",
              "      <td>4</td>\n",
              "      <td>1</td>\n",
              "      <td>1</td>\n",
              "      <td>2020</td>\n",
              "      <td>Wednesday</td>\n",
              "      <td>0        30\\n1        29\\n2        12\\n3      ...</td>\n",
              "    </tr>\n",
              "    <tr>\n",
              "      <th>11520</th>\n",
              "      <td>306655</td>\n",
              "      <td>ThinkPad Laptop</td>\n",
              "      <td>1</td>\n",
              "      <td>999.99</td>\n",
              "      <td>2020-01-01 01:46:00</td>\n",
              "      <td>431 Hickory St, Los Angeles, CA 90001</td>\n",
              "      <td>999.99</td>\n",
              "      <td>1</td>\n",
              "      <td>1</td>\n",
              "      <td>1</td>\n",
              "      <td>2020</td>\n",
              "      <td>Wednesday</td>\n",
              "      <td>0        30\\n1        29\\n2        12\\n3      ...</td>\n",
              "    </tr>\n",
              "    <tr>\n",
              "      <th>11686</th>\n",
              "      <td>306809</td>\n",
              "      <td>Macbook Pro Laptop</td>\n",
              "      <td>1</td>\n",
              "      <td>1700.00</td>\n",
              "      <td>2020-01-01 02:20:00</td>\n",
              "      <td>326 14th St, Dallas, TX 75001</td>\n",
              "      <td>1700.00</td>\n",
              "      <td>2</td>\n",
              "      <td>1</td>\n",
              "      <td>1</td>\n",
              "      <td>2020</td>\n",
              "      <td>Wednesday</td>\n",
              "      <td>0        30\\n1        29\\n2        12\\n3      ...</td>\n",
              "    </tr>\n",
              "    <tr>\n",
              "      <th>11813</th>\n",
              "      <td>306928</td>\n",
              "      <td>ThinkPad Laptop</td>\n",
              "      <td>1</td>\n",
              "      <td>999.99</td>\n",
              "      <td>2020-01-01 03:14:00</td>\n",
              "      <td>762 Elm St, Boston, MA 02215</td>\n",
              "      <td>999.99</td>\n",
              "      <td>3</td>\n",
              "      <td>1</td>\n",
              "      <td>1</td>\n",
              "      <td>2020</td>\n",
              "      <td>Wednesday</td>\n",
              "      <td>0        30\\n1        29\\n2        12\\n3      ...</td>\n",
              "    </tr>\n",
              "    <tr>\n",
              "      <th>12809</th>\n",
              "      <td>307890</td>\n",
              "      <td>Lightning Charging Cable</td>\n",
              "      <td>1</td>\n",
              "      <td>14.95</td>\n",
              "      <td>2020-01-01 02:06:00</td>\n",
              "      <td>39 Pine St, New York City, NY 10001</td>\n",
              "      <td>14.95</td>\n",
              "      <td>2</td>\n",
              "      <td>1</td>\n",
              "      <td>1</td>\n",
              "      <td>2020</td>\n",
              "      <td>Wednesday</td>\n",
              "      <td>0        30\\n1        29\\n2        12\\n3      ...</td>\n",
              "    </tr>\n",
              "    <tr>\n",
              "      <th>13118</th>\n",
              "      <td>308185</td>\n",
              "      <td>27in FHD Monitor</td>\n",
              "      <td>1</td>\n",
              "      <td>149.99</td>\n",
              "      <td>2020-01-01 04:06:00</td>\n",
              "      <td>202 Maple St, San Francisco, CA 94016</td>\n",
              "      <td>149.99</td>\n",
              "      <td>4</td>\n",
              "      <td>1</td>\n",
              "      <td>1</td>\n",
              "      <td>2020</td>\n",
              "      <td>Wednesday</td>\n",
              "      <td>0        30\\n1        29\\n2        12\\n3      ...</td>\n",
              "    </tr>\n",
              "    <tr>\n",
              "      <th>13262</th>\n",
              "      <td>308322</td>\n",
              "      <td>Bose SoundSport Headphones</td>\n",
              "      <td>1</td>\n",
              "      <td>99.99</td>\n",
              "      <td>2020-01-01 00:24:00</td>\n",
              "      <td>362 Willow St, San Francisco, CA 94016</td>\n",
              "      <td>99.99</td>\n",
              "      <td>0</td>\n",
              "      <td>1</td>\n",
              "      <td>1</td>\n",
              "      <td>2020</td>\n",
              "      <td>Wednesday</td>\n",
              "      <td>0        30\\n1        29\\n2        12\\n3      ...</td>\n",
              "    </tr>\n",
              "    <tr>\n",
              "      <th>15087</th>\n",
              "      <td>310074</td>\n",
              "      <td>Apple Airpods Headphones</td>\n",
              "      <td>1</td>\n",
              "      <td>150.00</td>\n",
              "      <td>2020-01-01 01:46:00</td>\n",
              "      <td>636 Lakeview St, San Francisco, CA 94016</td>\n",
              "      <td>150.00</td>\n",
              "      <td>1</td>\n",
              "      <td>1</td>\n",
              "      <td>1</td>\n",
              "      <td>2020</td>\n",
              "      <td>Wednesday</td>\n",
              "      <td>0        30\\n1        29\\n2        12\\n3      ...</td>\n",
              "    </tr>\n",
              "    <tr>\n",
              "      <th>16445</th>\n",
              "      <td>311386</td>\n",
              "      <td>iPhone</td>\n",
              "      <td>1</td>\n",
              "      <td>700.00</td>\n",
              "      <td>2020-01-01 00:10:00</td>\n",
              "      <td>730 Pine St, San Francisco, CA 94016</td>\n",
              "      <td>700.00</td>\n",
              "      <td>0</td>\n",
              "      <td>1</td>\n",
              "      <td>1</td>\n",
              "      <td>2020</td>\n",
              "      <td>Wednesday</td>\n",
              "      <td>0        30\\n1        29\\n2        12\\n3      ...</td>\n",
              "    </tr>\n",
              "    <tr>\n",
              "      <th>16446</th>\n",
              "      <td>311386</td>\n",
              "      <td>Apple Airpods Headphones</td>\n",
              "      <td>1</td>\n",
              "      <td>150.00</td>\n",
              "      <td>2020-01-01 00:10:00</td>\n",
              "      <td>730 Pine St, San Francisco, CA 94016</td>\n",
              "      <td>150.00</td>\n",
              "      <td>0</td>\n",
              "      <td>1</td>\n",
              "      <td>1</td>\n",
              "      <td>2020</td>\n",
              "      <td>Wednesday</td>\n",
              "      <td>0        30\\n1        29\\n2        12\\n3      ...</td>\n",
              "    </tr>\n",
              "    <tr>\n",
              "      <th>17104</th>\n",
              "      <td>312012</td>\n",
              "      <td>27in FHD Monitor</td>\n",
              "      <td>1</td>\n",
              "      <td>149.99</td>\n",
              "      <td>2020-01-01 02:12:00</td>\n",
              "      <td>507 13th St, San Francisco, CA 94016</td>\n",
              "      <td>149.99</td>\n",
              "      <td>2</td>\n",
              "      <td>1</td>\n",
              "      <td>1</td>\n",
              "      <td>2020</td>\n",
              "      <td>Wednesday</td>\n",
              "      <td>0        30\\n1        29\\n2        12\\n3      ...</td>\n",
              "    </tr>\n",
              "    <tr>\n",
              "      <th>17942</th>\n",
              "      <td>312812</td>\n",
              "      <td>Flatscreen TV</td>\n",
              "      <td>1</td>\n",
              "      <td>300.00</td>\n",
              "      <td>2020-01-01 01:56:00</td>\n",
              "      <td>129 6th St, Boston, MA 02215</td>\n",
              "      <td>300.00</td>\n",
              "      <td>1</td>\n",
              "      <td>1</td>\n",
              "      <td>1</td>\n",
              "      <td>2020</td>\n",
              "      <td>Wednesday</td>\n",
              "      <td>0        30\\n1        29\\n2        12\\n3      ...</td>\n",
              "    </tr>\n",
              "    <tr>\n",
              "      <th>19259</th>\n",
              "      <td>314066</td>\n",
              "      <td>USB-C Charging Cable</td>\n",
              "      <td>1</td>\n",
              "      <td>11.95</td>\n",
              "      <td>2020-01-01 01:52:00</td>\n",
              "      <td>922 8th St, New York City, NY 10001</td>\n",
              "      <td>11.95</td>\n",
              "      <td>1</td>\n",
              "      <td>1</td>\n",
              "      <td>1</td>\n",
              "      <td>2020</td>\n",
              "      <td>Wednesday</td>\n",
              "      <td>0        30\\n1        29\\n2        12\\n3      ...</td>\n",
              "    </tr>\n",
              "    <tr>\n",
              "      <th>19764</th>\n",
              "      <td>314552</td>\n",
              "      <td>AAA Batteries (4-pack)</td>\n",
              "      <td>1</td>\n",
              "      <td>2.99</td>\n",
              "      <td>2020-01-01 01:47:00</td>\n",
              "      <td>541 4th St, San Francisco, CA 94016</td>\n",
              "      <td>2.99</td>\n",
              "      <td>1</td>\n",
              "      <td>1</td>\n",
              "      <td>1</td>\n",
              "      <td>2020</td>\n",
              "      <td>Wednesday</td>\n",
              "      <td>0        30\\n1        29\\n2        12\\n3      ...</td>\n",
              "    </tr>\n",
              "    <tr>\n",
              "      <th>20380</th>\n",
              "      <td>315138</td>\n",
              "      <td>AAA Batteries (4-pack)</td>\n",
              "      <td>3</td>\n",
              "      <td>2.99</td>\n",
              "      <td>2020-01-01 00:51:00</td>\n",
              "      <td>257 Adams St, New York City, NY 10001</td>\n",
              "      <td>8.97</td>\n",
              "      <td>0</td>\n",
              "      <td>1</td>\n",
              "      <td>1</td>\n",
              "      <td>2020</td>\n",
              "      <td>Wednesday</td>\n",
              "      <td>0        30\\n1        29\\n2        12\\n3      ...</td>\n",
              "    </tr>\n",
              "    <tr>\n",
              "      <th>20565</th>\n",
              "      <td>315315</td>\n",
              "      <td>27in 4K Gaming Monitor</td>\n",
              "      <td>1</td>\n",
              "      <td>389.99</td>\n",
              "      <td>2020-01-01 01:22:00</td>\n",
              "      <td>552 North St, Austin, TX 73301</td>\n",
              "      <td>389.99</td>\n",
              "      <td>1</td>\n",
              "      <td>1</td>\n",
              "      <td>1</td>\n",
              "      <td>2020</td>\n",
              "      <td>Wednesday</td>\n",
              "      <td>0        30\\n1        29\\n2        12\\n3      ...</td>\n",
              "    </tr>\n",
              "    <tr>\n",
              "      <th>22160</th>\n",
              "      <td>316833</td>\n",
              "      <td>Vareebadd Phone</td>\n",
              "      <td>1</td>\n",
              "      <td>400.00</td>\n",
              "      <td>2020-01-01 02:58:00</td>\n",
              "      <td>378 Elm St, New York City, NY 10001</td>\n",
              "      <td>400.00</td>\n",
              "      <td>2</td>\n",
              "      <td>1</td>\n",
              "      <td>1</td>\n",
              "      <td>2020</td>\n",
              "      <td>Wednesday</td>\n",
              "      <td>0        30\\n1        29\\n2        12\\n3      ...</td>\n",
              "    </tr>\n",
              "    <tr>\n",
              "      <th>22195</th>\n",
              "      <td>316867</td>\n",
              "      <td>27in FHD Monitor</td>\n",
              "      <td>1</td>\n",
              "      <td>149.99</td>\n",
              "      <td>2020-01-01 01:05:00</td>\n",
              "      <td>137 Madison St, Seattle, WA 98101</td>\n",
              "      <td>149.99</td>\n",
              "      <td>1</td>\n",
              "      <td>1</td>\n",
              "      <td>1</td>\n",
              "      <td>2020</td>\n",
              "      <td>Wednesday</td>\n",
              "      <td>0        30\\n1        29\\n2        12\\n3      ...</td>\n",
              "    </tr>\n",
              "    <tr>\n",
              "      <th>24742</th>\n",
              "      <td>319308</td>\n",
              "      <td>USB-C Charging Cable</td>\n",
              "      <td>1</td>\n",
              "      <td>11.95</td>\n",
              "      <td>2020-01-01 03:13:00</td>\n",
              "      <td>135 8th St, Boston, MA 02215</td>\n",
              "      <td>11.95</td>\n",
              "      <td>3</td>\n",
              "      <td>1</td>\n",
              "      <td>1</td>\n",
              "      <td>2020</td>\n",
              "      <td>Wednesday</td>\n",
              "      <td>0        30\\n1        29\\n2        12\\n3      ...</td>\n",
              "    </tr>\n",
              "    <tr>\n",
              "      <th>24804</th>\n",
              "      <td>319366</td>\n",
              "      <td>20in Monitor</td>\n",
              "      <td>2</td>\n",
              "      <td>109.99</td>\n",
              "      <td>2020-01-01 00:45:00</td>\n",
              "      <td>746 South St, San Francisco, CA 94016</td>\n",
              "      <td>219.98</td>\n",
              "      <td>0</td>\n",
              "      <td>1</td>\n",
              "      <td>1</td>\n",
              "      <td>2020</td>\n",
              "      <td>Wednesday</td>\n",
              "      <td>0        30\\n1        29\\n2        12\\n3      ...</td>\n",
              "    </tr>\n",
              "  </tbody>\n",
              "</table>\n",
              "</div>"
            ],
            "text/plain": [
              "      ID de Pedido                    Producto  Cantidad Pedida  \\\n",
              "1563        297150    Lightning Charging Cable                1   \n",
              "2265        297817                      iPhone                1   \n",
              "2266        297817    Lightning Charging Cable                2   \n",
              "2425        297969                Google Phone                1   \n",
              "2806        298344            Wired Headphones                4   \n",
              "3553        299049    Apple Airpods Headphones                1   \n",
              "3633        299125        USB-C Charging Cable                1   \n",
              "4941        300362        USB-C Charging Cable                1   \n",
              "5103        300519  Bose SoundSport Headphones                1   \n",
              "5104        300519    Lightning Charging Cable                1   \n",
              "5355        300759                20in Monitor                1   \n",
              "7048        302393    Lightning Charging Cable                1   \n",
              "8914        304165      AAA Batteries (4-pack)                1   \n",
              "10350       305538    Apple Airpods Headphones                1   \n",
              "10667       305840  Bose SoundSport Headphones                1   \n",
              "11520       306655             ThinkPad Laptop                1   \n",
              "11686       306809          Macbook Pro Laptop                1   \n",
              "11813       306928             ThinkPad Laptop                1   \n",
              "12809       307890    Lightning Charging Cable                1   \n",
              "13118       308185            27in FHD Monitor                1   \n",
              "13262       308322  Bose SoundSport Headphones                1   \n",
              "15087       310074    Apple Airpods Headphones                1   \n",
              "16445       311386                      iPhone                1   \n",
              "16446       311386    Apple Airpods Headphones                1   \n",
              "17104       312012            27in FHD Monitor                1   \n",
              "17942       312812               Flatscreen TV                1   \n",
              "19259       314066        USB-C Charging Cable                1   \n",
              "19764       314552      AAA Batteries (4-pack)                1   \n",
              "20380       315138      AAA Batteries (4-pack)                3   \n",
              "20565       315315      27in 4K Gaming Monitor                1   \n",
              "22160       316833             Vareebadd Phone                1   \n",
              "22195       316867            27in FHD Monitor                1   \n",
              "24742       319308        USB-C Charging Cable                1   \n",
              "24804       319366                20in Monitor                2   \n",
              "\n",
              "       Precio Unitario     Fecha de Pedido  \\\n",
              "1563             14.95 2020-01-01 00:38:00   \n",
              "2265            700.00 2020-01-01 00:22:00   \n",
              "2266             14.95 2020-01-01 00:22:00   \n",
              "2425            600.00 2020-01-01 00:54:00   \n",
              "2806             11.99 2020-01-01 03:34:00   \n",
              "3553            150.00 2020-01-01 01:17:00   \n",
              "3633             11.95 2020-01-01 04:21:00   \n",
              "4941             11.95 2020-01-01 00:59:00   \n",
              "5103             99.99 2020-01-01 05:13:00   \n",
              "5104             14.95 2020-01-01 05:13:00   \n",
              "5355            109.99 2020-01-01 00:14:00   \n",
              "7048             14.95 2020-01-01 00:14:00   \n",
              "8914              2.99 2020-01-01 04:13:00   \n",
              "10350           150.00 2020-01-01 01:00:00   \n",
              "10667            99.99 2020-01-01 04:54:00   \n",
              "11520           999.99 2020-01-01 01:46:00   \n",
              "11686          1700.00 2020-01-01 02:20:00   \n",
              "11813           999.99 2020-01-01 03:14:00   \n",
              "12809            14.95 2020-01-01 02:06:00   \n",
              "13118           149.99 2020-01-01 04:06:00   \n",
              "13262            99.99 2020-01-01 00:24:00   \n",
              "15087           150.00 2020-01-01 01:46:00   \n",
              "16445           700.00 2020-01-01 00:10:00   \n",
              "16446           150.00 2020-01-01 00:10:00   \n",
              "17104           149.99 2020-01-01 02:12:00   \n",
              "17942           300.00 2020-01-01 01:56:00   \n",
              "19259            11.95 2020-01-01 01:52:00   \n",
              "19764             2.99 2020-01-01 01:47:00   \n",
              "20380             2.99 2020-01-01 00:51:00   \n",
              "20565           389.99 2020-01-01 01:22:00   \n",
              "22160           400.00 2020-01-01 02:58:00   \n",
              "22195           149.99 2020-01-01 01:05:00   \n",
              "24742            11.95 2020-01-01 03:13:00   \n",
              "24804           109.99 2020-01-01 00:45:00   \n",
              "\n",
              "                             Dirección de Envio    total  Hora  Dia  mes  \\\n",
              "1563            427 Wilson St, Dallas, TX 75001    14.95     0    1    1   \n",
              "2265       519 13th St, New York City, NY 10001   700.00     0    1    1   \n",
              "2266       519 13th St, New York City, NY 10001    29.90     0    1    1   \n",
              "2425        542 2nd St, San Francisco, CA 94016   600.00     0    1    1   \n",
              "2806        731 7th St, New York City, NY 10001    47.96     3    1    1   \n",
              "3553    762 Johnson St, San Francisco, CA 94016   150.00     1    1    1   \n",
              "3633    754 Hickory St, New York City, NY 10001    11.95     4    1    1   \n",
              "4941      581 River St, San Francisco, CA 94016    11.95     0    1    1   \n",
              "5103     657 Spruce St, New York City, NY 10001    99.99     5    1    1   \n",
              "5104     657 Spruce St, New York City, NY 10001    14.95     5    1    1   \n",
              "5355               193 5th St, Austin, TX 73301   109.99     0    1    1   \n",
              "7048         108 Jefferson St, Boston, MA 02215    14.95     0    1    1   \n",
              "8914           825 Adams St, Portland, OR 97035     2.99     4    1    1   \n",
              "10350            693 1st St, Portland, OR 97035   150.00     1    1    1   \n",
              "10667     784 River St, San Francisco, CA 94016    99.99     4    1    1   \n",
              "11520     431 Hickory St, Los Angeles, CA 90001   999.99     1    1    1   \n",
              "11686             326 14th St, Dallas, TX 75001  1700.00     2    1    1   \n",
              "11813              762 Elm St, Boston, MA 02215   999.99     3    1    1   \n",
              "12809       39 Pine St, New York City, NY 10001    14.95     2    1    1   \n",
              "13118     202 Maple St, San Francisco, CA 94016   149.99     4    1    1   \n",
              "13262    362 Willow St, San Francisco, CA 94016    99.99     0    1    1   \n",
              "15087  636 Lakeview St, San Francisco, CA 94016   150.00     1    1    1   \n",
              "16445      730 Pine St, San Francisco, CA 94016   700.00     0    1    1   \n",
              "16446      730 Pine St, San Francisco, CA 94016   150.00     0    1    1   \n",
              "17104      507 13th St, San Francisco, CA 94016   149.99     2    1    1   \n",
              "17942              129 6th St, Boston, MA 02215   300.00     1    1    1   \n",
              "19259       922 8th St, New York City, NY 10001    11.95     1    1    1   \n",
              "19764       541 4th St, San Francisco, CA 94016     2.99     1    1    1   \n",
              "20380     257 Adams St, New York City, NY 10001     8.97     0    1    1   \n",
              "20565            552 North St, Austin, TX 73301   389.99     1    1    1   \n",
              "22160       378 Elm St, New York City, NY 10001   400.00     2    1    1   \n",
              "22195         137 Madison St, Seattle, WA 98101   149.99     1    1    1   \n",
              "24742              135 8th St, Boston, MA 02215    11.95     3    1    1   \n",
              "24804     746 South St, San Francisco, CA 94016   219.98     0    1    1   \n",
              "\n",
              "        año     strDia                                            dia-mes  \n",
              "1563   2020  Wednesday  0        30\\n1        29\\n2        12\\n3      ...  \n",
              "2265   2020  Wednesday  0        30\\n1        29\\n2        12\\n3      ...  \n",
              "2266   2020  Wednesday  0        30\\n1        29\\n2        12\\n3      ...  \n",
              "2425   2020  Wednesday  0        30\\n1        29\\n2        12\\n3      ...  \n",
              "2806   2020  Wednesday  0        30\\n1        29\\n2        12\\n3      ...  \n",
              "3553   2020  Wednesday  0        30\\n1        29\\n2        12\\n3      ...  \n",
              "3633   2020  Wednesday  0        30\\n1        29\\n2        12\\n3      ...  \n",
              "4941   2020  Wednesday  0        30\\n1        29\\n2        12\\n3      ...  \n",
              "5103   2020  Wednesday  0        30\\n1        29\\n2        12\\n3      ...  \n",
              "5104   2020  Wednesday  0        30\\n1        29\\n2        12\\n3      ...  \n",
              "5355   2020  Wednesday  0        30\\n1        29\\n2        12\\n3      ...  \n",
              "7048   2020  Wednesday  0        30\\n1        29\\n2        12\\n3      ...  \n",
              "8914   2020  Wednesday  0        30\\n1        29\\n2        12\\n3      ...  \n",
              "10350  2020  Wednesday  0        30\\n1        29\\n2        12\\n3      ...  \n",
              "10667  2020  Wednesday  0        30\\n1        29\\n2        12\\n3      ...  \n",
              "11520  2020  Wednesday  0        30\\n1        29\\n2        12\\n3      ...  \n",
              "11686  2020  Wednesday  0        30\\n1        29\\n2        12\\n3      ...  \n",
              "11813  2020  Wednesday  0        30\\n1        29\\n2        12\\n3      ...  \n",
              "12809  2020  Wednesday  0        30\\n1        29\\n2        12\\n3      ...  \n",
              "13118  2020  Wednesday  0        30\\n1        29\\n2        12\\n3      ...  \n",
              "13262  2020  Wednesday  0        30\\n1        29\\n2        12\\n3      ...  \n",
              "15087  2020  Wednesday  0        30\\n1        29\\n2        12\\n3      ...  \n",
              "16445  2020  Wednesday  0        30\\n1        29\\n2        12\\n3      ...  \n",
              "16446  2020  Wednesday  0        30\\n1        29\\n2        12\\n3      ...  \n",
              "17104  2020  Wednesday  0        30\\n1        29\\n2        12\\n3      ...  \n",
              "17942  2020  Wednesday  0        30\\n1        29\\n2        12\\n3      ...  \n",
              "19259  2020  Wednesday  0        30\\n1        29\\n2        12\\n3      ...  \n",
              "19764  2020  Wednesday  0        30\\n1        29\\n2        12\\n3      ...  \n",
              "20380  2020  Wednesday  0        30\\n1        29\\n2        12\\n3      ...  \n",
              "20565  2020  Wednesday  0        30\\n1        29\\n2        12\\n3      ...  \n",
              "22160  2020  Wednesday  0        30\\n1        29\\n2        12\\n3      ...  \n",
              "22195  2020  Wednesday  0        30\\n1        29\\n2        12\\n3      ...  \n",
              "24742  2020  Wednesday  0        30\\n1        29\\n2        12\\n3      ...  \n",
              "24804  2020  Wednesday  0        30\\n1        29\\n2        12\\n3      ...  "
            ]
          },
          "execution_count": 173,
          "metadata": {},
          "output_type": "execute_result"
        }
      ],
      "source": [
        "dataframe_mes"
      ]
    },
    {
      "cell_type": "markdown",
      "metadata": {},
      "source": [
        "# 5. Tendencia ventas:"
      ]
    },
    {
      "cell_type": "markdown",
      "metadata": {},
      "source": [
        "¿Existe alguna tendencia o patrón en las ventas que se repita a lo largo de los días\n",
        "en los diferentes meses?"
      ]
    },
    {
      "cell_type": "markdown",
      "metadata": {},
      "source": [
        "* Evaluar las ventas por dia de la semana en un grafico en forma lineal superponiendo las ventas."
      ]
    },
    {
      "cell_type": "code",
      "execution_count": 146,
      "metadata": {},
      "outputs": [
        {
          "data": {
            "application/vnd.plotly.v1+json": {
              "config": {
                "plotlyServerURL": "https://plot.ly"
              },
              "data": [
                {
                  "line": {
                    "shape": "spline",
                    "width": 2
                  },
                  "marker": {
                    "size": 10
                  },
                  "mode": "lines+markers",
                  "name": "Enero",
                  "type": "scatter",
                  "x": [
                    "Lunes\n TOTAL:26247",
                    "Martes\n TOTAL:26547",
                    "Miércoles\n TOTAL:26492",
                    "Jueves\n TOTAL:26551",
                    "Viernes\n TOTAL:26461",
                    "Sábado\n TOTAL:27175",
                    "Domingo\n TOTAL:26477"
                  ],
                  "y": [
                    1258,
                    1224,
                    1291,
                    1268,
                    1549,
                    1562,
                    1529
                  ]
                },
                {
                  "line": {
                    "shape": "spline",
                    "width": 2
                  },
                  "marker": {
                    "size": 10
                  },
                  "mode": "lines+markers",
                  "name": "Febrero",
                  "type": "scatter",
                  "x": [
                    "Lunes\n TOTAL:26247",
                    "Martes\n TOTAL:26547",
                    "Miércoles\n TOTAL:26492",
                    "Jueves\n TOTAL:26551",
                    "Viernes\n TOTAL:26461",
                    "Sábado\n TOTAL:27175",
                    "Domingo\n TOTAL:26477"
                  ],
                  "y": [
                    1696,
                    1691,
                    1711,
                    1765,
                    1660,
                    1681,
                    1782
                  ]
                },
                {
                  "line": {
                    "shape": "spline",
                    "width": 2
                  },
                  "marker": {
                    "size": 10
                  },
                  "mode": "lines+markers",
                  "name": "Marzo",
                  "type": "scatter",
                  "x": [
                    "Lunes\n TOTAL:26247",
                    "Martes\n TOTAL:26547",
                    "Miércoles\n TOTAL:26492",
                    "Jueves\n TOTAL:26551",
                    "Viernes\n TOTAL:26461",
                    "Sábado\n TOTAL:27175",
                    "Domingo\n TOTAL:26477"
                  ],
                  "y": [
                    2419,
                    1966,
                    2539,
                    2379,
                    1947,
                    1934,
                    1970
                  ]
                },
                {
                  "line": {
                    "shape": "spline",
                    "width": 2
                  },
                  "marker": {
                    "size": 10
                  },
                  "mode": "lines+markers",
                  "name": "Abril",
                  "type": "scatter",
                  "x": [
                    "Lunes\n TOTAL:26247",
                    "Martes\n TOTAL:26547",
                    "Miércoles\n TOTAL:26492",
                    "Jueves\n TOTAL:26551",
                    "Viernes\n TOTAL:26461",
                    "Sábado\n TOTAL:27175",
                    "Domingo\n TOTAL:26477"
                  ],
                  "y": [
                    2374,
                    2922,
                    2466,
                    2444,
                    2505,
                    3035,
                    2543
                  ]
                },
                {
                  "line": {
                    "shape": "spline",
                    "width": 2
                  },
                  "marker": {
                    "size": 10
                  },
                  "mode": "lines+markers",
                  "name": "Mayo",
                  "type": "scatter",
                  "x": [
                    "Lunes\n TOTAL:26247",
                    "Martes\n TOTAL:26547",
                    "Miércoles\n TOTAL:26492",
                    "Jueves\n TOTAL:26551",
                    "Viernes\n TOTAL:26461",
                    "Sábado\n TOTAL:27175",
                    "Domingo\n TOTAL:26477"
                  ],
                  "y": [
                    2588,
                    2113,
                    2106,
                    2161,
                    2741,
                    2192,
                    2653
                  ]
                },
                {
                  "line": {
                    "shape": "spline",
                    "width": 2
                  },
                  "marker": {
                    "size": 10
                  },
                  "mode": "lines+markers",
                  "name": "Junio",
                  "type": "scatter",
                  "x": [
                    "Lunes\n TOTAL:26247",
                    "Martes\n TOTAL:26547",
                    "Miércoles\n TOTAL:26492",
                    "Jueves\n TOTAL:26551",
                    "Viernes\n TOTAL:26461",
                    "Sábado\n TOTAL:27175",
                    "Domingo\n TOTAL:26477"
                  ],
                  "y": [
                    1833,
                    1777,
                    2250,
                    2221,
                    1821,
                    1793,
                    1861
                  ]
                },
                {
                  "line": {
                    "shape": "spline",
                    "width": 2
                  },
                  "marker": {
                    "size": 10
                  },
                  "mode": "lines+markers",
                  "name": "Julio",
                  "type": "scatter",
                  "x": [
                    "Lunes\n TOTAL:26247",
                    "Martes\n TOTAL:26547",
                    "Miércoles\n TOTAL:26492",
                    "Jueves\n TOTAL:26551",
                    "Viernes\n TOTAL:26461",
                    "Sábado\n TOTAL:27175",
                    "Domingo\n TOTAL:26477"
                  ],
                  "y": [
                    1833,
                    2349,
                    1852,
                    1843,
                    1892,
                    2270,
                    2252
                  ]
                },
                {
                  "line": {
                    "shape": "spline",
                    "width": 2
                  },
                  "marker": {
                    "size": 10
                  },
                  "mode": "lines+markers",
                  "name": "Agosto",
                  "type": "scatter",
                  "x": [
                    "Lunes\n TOTAL:26247",
                    "Martes\n TOTAL:26547",
                    "Miércoles\n TOTAL:26492",
                    "Jueves\n TOTAL:26551",
                    "Viernes\n TOTAL:26461",
                    "Sábado\n TOTAL:27175",
                    "Domingo\n TOTAL:26477"
                  ],
                  "y": [
                    1911,
                    1527,
                    1949,
                    1530,
                    1931,
                    1554,
                    1555
                  ]
                },
                {
                  "line": {
                    "shape": "spline",
                    "width": 2
                  },
                  "marker": {
                    "size": 10
                  },
                  "mode": "lines+markers",
                  "name": "Septiembre",
                  "type": "scatter",
                  "x": [
                    "Lunes\n TOTAL:26247",
                    "Martes\n TOTAL:26547",
                    "Miércoles\n TOTAL:26492",
                    "Jueves\n TOTAL:26551",
                    "Viernes\n TOTAL:26461",
                    "Sábado\n TOTAL:27175",
                    "Domingo\n TOTAL:26477"
                  ],
                  "y": [
                    1579,
                    1936,
                    1520,
                    1941,
                    1536,
                    1579,
                    1538
                  ]
                },
                {
                  "line": {
                    "shape": "spline",
                    "width": 2
                  },
                  "marker": {
                    "size": 10
                  },
                  "mode": "lines+markers",
                  "name": "Octubre",
                  "type": "scatter",
                  "x": [
                    "Lunes\n TOTAL:26247",
                    "Martes\n TOTAL:26547",
                    "Miércoles\n TOTAL:26492",
                    "Jueves\n TOTAL:26551",
                    "Viernes\n TOTAL:26461",
                    "Sábado\n TOTAL:27175",
                    "Domingo\n TOTAL:26477"
                  ],
                  "y": [
                    2593,
                    2612,
                    2701,
                    2648,
                    3284,
                    3238,
                    3208
                  ]
                },
                {
                  "line": {
                    "shape": "spline",
                    "width": 2
                  },
                  "marker": {
                    "size": 10
                  },
                  "mode": "lines+markers",
                  "name": "Noviembre",
                  "type": "scatter",
                  "x": [
                    "Lunes\n TOTAL:26247",
                    "Martes\n TOTAL:26547",
                    "Miércoles\n TOTAL:26492",
                    "Jueves\n TOTAL:26551",
                    "Viernes\n TOTAL:26461",
                    "Sábado\n TOTAL:27175",
                    "Domingo\n TOTAL:26477"
                  ],
                  "y": [
                    2903,
                    2356,
                    2934,
                    2366,
                    2352,
                    2323,
                    2346
                  ]
                },
                {
                  "line": {
                    "shape": "spline",
                    "width": 2
                  },
                  "marker": {
                    "size": 10
                  },
                  "mode": "lines+markers",
                  "name": "Diciembre",
                  "type": "scatter",
                  "x": [
                    "Lunes\n TOTAL:26247",
                    "Martes\n TOTAL:26547",
                    "Miércoles\n TOTAL:26492",
                    "Jueves\n TOTAL:26551",
                    "Viernes\n TOTAL:26461",
                    "Sábado\n TOTAL:27175",
                    "Domingo\n TOTAL:26477"
                  ],
                  "y": [
                    3260,
                    4074,
                    3173,
                    3985,
                    3243,
                    4014,
                    3240
                  ]
                }
              ],
              "layout": {
                "legend": {
                  "y": 0.3,
                  "yanchor": "bottom"
                },
                "template": {
                  "data": {
                    "bar": [
                      {
                        "error_x": {
                          "color": "#2a3f5f"
                        },
                        "error_y": {
                          "color": "#2a3f5f"
                        },
                        "marker": {
                          "line": {
                            "color": "#E5ECF6",
                            "width": 0.5
                          },
                          "pattern": {
                            "fillmode": "overlay",
                            "size": 10,
                            "solidity": 0.2
                          }
                        },
                        "type": "bar"
                      }
                    ],
                    "barpolar": [
                      {
                        "marker": {
                          "line": {
                            "color": "#E5ECF6",
                            "width": 0.5
                          },
                          "pattern": {
                            "fillmode": "overlay",
                            "size": 10,
                            "solidity": 0.2
                          }
                        },
                        "type": "barpolar"
                      }
                    ],
                    "carpet": [
                      {
                        "aaxis": {
                          "endlinecolor": "#2a3f5f",
                          "gridcolor": "white",
                          "linecolor": "white",
                          "minorgridcolor": "white",
                          "startlinecolor": "#2a3f5f"
                        },
                        "baxis": {
                          "endlinecolor": "#2a3f5f",
                          "gridcolor": "white",
                          "linecolor": "white",
                          "minorgridcolor": "white",
                          "startlinecolor": "#2a3f5f"
                        },
                        "type": "carpet"
                      }
                    ],
                    "choropleth": [
                      {
                        "colorbar": {
                          "outlinewidth": 0,
                          "ticks": ""
                        },
                        "type": "choropleth"
                      }
                    ],
                    "contour": [
                      {
                        "colorbar": {
                          "outlinewidth": 0,
                          "ticks": ""
                        },
                        "colorscale": [
                          [
                            0,
                            "#0d0887"
                          ],
                          [
                            0.1111111111111111,
                            "#46039f"
                          ],
                          [
                            0.2222222222222222,
                            "#7201a8"
                          ],
                          [
                            0.3333333333333333,
                            "#9c179e"
                          ],
                          [
                            0.4444444444444444,
                            "#bd3786"
                          ],
                          [
                            0.5555555555555556,
                            "#d8576b"
                          ],
                          [
                            0.6666666666666666,
                            "#ed7953"
                          ],
                          [
                            0.7777777777777778,
                            "#fb9f3a"
                          ],
                          [
                            0.8888888888888888,
                            "#fdca26"
                          ],
                          [
                            1,
                            "#f0f921"
                          ]
                        ],
                        "type": "contour"
                      }
                    ],
                    "contourcarpet": [
                      {
                        "colorbar": {
                          "outlinewidth": 0,
                          "ticks": ""
                        },
                        "type": "contourcarpet"
                      }
                    ],
                    "heatmap": [
                      {
                        "colorbar": {
                          "outlinewidth": 0,
                          "ticks": ""
                        },
                        "colorscale": [
                          [
                            0,
                            "#0d0887"
                          ],
                          [
                            0.1111111111111111,
                            "#46039f"
                          ],
                          [
                            0.2222222222222222,
                            "#7201a8"
                          ],
                          [
                            0.3333333333333333,
                            "#9c179e"
                          ],
                          [
                            0.4444444444444444,
                            "#bd3786"
                          ],
                          [
                            0.5555555555555556,
                            "#d8576b"
                          ],
                          [
                            0.6666666666666666,
                            "#ed7953"
                          ],
                          [
                            0.7777777777777778,
                            "#fb9f3a"
                          ],
                          [
                            0.8888888888888888,
                            "#fdca26"
                          ],
                          [
                            1,
                            "#f0f921"
                          ]
                        ],
                        "type": "heatmap"
                      }
                    ],
                    "heatmapgl": [
                      {
                        "colorbar": {
                          "outlinewidth": 0,
                          "ticks": ""
                        },
                        "colorscale": [
                          [
                            0,
                            "#0d0887"
                          ],
                          [
                            0.1111111111111111,
                            "#46039f"
                          ],
                          [
                            0.2222222222222222,
                            "#7201a8"
                          ],
                          [
                            0.3333333333333333,
                            "#9c179e"
                          ],
                          [
                            0.4444444444444444,
                            "#bd3786"
                          ],
                          [
                            0.5555555555555556,
                            "#d8576b"
                          ],
                          [
                            0.6666666666666666,
                            "#ed7953"
                          ],
                          [
                            0.7777777777777778,
                            "#fb9f3a"
                          ],
                          [
                            0.8888888888888888,
                            "#fdca26"
                          ],
                          [
                            1,
                            "#f0f921"
                          ]
                        ],
                        "type": "heatmapgl"
                      }
                    ],
                    "histogram": [
                      {
                        "marker": {
                          "pattern": {
                            "fillmode": "overlay",
                            "size": 10,
                            "solidity": 0.2
                          }
                        },
                        "type": "histogram"
                      }
                    ],
                    "histogram2d": [
                      {
                        "colorbar": {
                          "outlinewidth": 0,
                          "ticks": ""
                        },
                        "colorscale": [
                          [
                            0,
                            "#0d0887"
                          ],
                          [
                            0.1111111111111111,
                            "#46039f"
                          ],
                          [
                            0.2222222222222222,
                            "#7201a8"
                          ],
                          [
                            0.3333333333333333,
                            "#9c179e"
                          ],
                          [
                            0.4444444444444444,
                            "#bd3786"
                          ],
                          [
                            0.5555555555555556,
                            "#d8576b"
                          ],
                          [
                            0.6666666666666666,
                            "#ed7953"
                          ],
                          [
                            0.7777777777777778,
                            "#fb9f3a"
                          ],
                          [
                            0.8888888888888888,
                            "#fdca26"
                          ],
                          [
                            1,
                            "#f0f921"
                          ]
                        ],
                        "type": "histogram2d"
                      }
                    ],
                    "histogram2dcontour": [
                      {
                        "colorbar": {
                          "outlinewidth": 0,
                          "ticks": ""
                        },
                        "colorscale": [
                          [
                            0,
                            "#0d0887"
                          ],
                          [
                            0.1111111111111111,
                            "#46039f"
                          ],
                          [
                            0.2222222222222222,
                            "#7201a8"
                          ],
                          [
                            0.3333333333333333,
                            "#9c179e"
                          ],
                          [
                            0.4444444444444444,
                            "#bd3786"
                          ],
                          [
                            0.5555555555555556,
                            "#d8576b"
                          ],
                          [
                            0.6666666666666666,
                            "#ed7953"
                          ],
                          [
                            0.7777777777777778,
                            "#fb9f3a"
                          ],
                          [
                            0.8888888888888888,
                            "#fdca26"
                          ],
                          [
                            1,
                            "#f0f921"
                          ]
                        ],
                        "type": "histogram2dcontour"
                      }
                    ],
                    "mesh3d": [
                      {
                        "colorbar": {
                          "outlinewidth": 0,
                          "ticks": ""
                        },
                        "type": "mesh3d"
                      }
                    ],
                    "parcoords": [
                      {
                        "line": {
                          "colorbar": {
                            "outlinewidth": 0,
                            "ticks": ""
                          }
                        },
                        "type": "parcoords"
                      }
                    ],
                    "pie": [
                      {
                        "automargin": true,
                        "type": "pie"
                      }
                    ],
                    "scatter": [
                      {
                        "fillpattern": {
                          "fillmode": "overlay",
                          "size": 10,
                          "solidity": 0.2
                        },
                        "type": "scatter"
                      }
                    ],
                    "scatter3d": [
                      {
                        "line": {
                          "colorbar": {
                            "outlinewidth": 0,
                            "ticks": ""
                          }
                        },
                        "marker": {
                          "colorbar": {
                            "outlinewidth": 0,
                            "ticks": ""
                          }
                        },
                        "type": "scatter3d"
                      }
                    ],
                    "scattercarpet": [
                      {
                        "marker": {
                          "colorbar": {
                            "outlinewidth": 0,
                            "ticks": ""
                          }
                        },
                        "type": "scattercarpet"
                      }
                    ],
                    "scattergeo": [
                      {
                        "marker": {
                          "colorbar": {
                            "outlinewidth": 0,
                            "ticks": ""
                          }
                        },
                        "type": "scattergeo"
                      }
                    ],
                    "scattergl": [
                      {
                        "marker": {
                          "colorbar": {
                            "outlinewidth": 0,
                            "ticks": ""
                          }
                        },
                        "type": "scattergl"
                      }
                    ],
                    "scattermapbox": [
                      {
                        "marker": {
                          "colorbar": {
                            "outlinewidth": 0,
                            "ticks": ""
                          }
                        },
                        "type": "scattermapbox"
                      }
                    ],
                    "scatterpolar": [
                      {
                        "marker": {
                          "colorbar": {
                            "outlinewidth": 0,
                            "ticks": ""
                          }
                        },
                        "type": "scatterpolar"
                      }
                    ],
                    "scatterpolargl": [
                      {
                        "marker": {
                          "colorbar": {
                            "outlinewidth": 0,
                            "ticks": ""
                          }
                        },
                        "type": "scatterpolargl"
                      }
                    ],
                    "scatterternary": [
                      {
                        "marker": {
                          "colorbar": {
                            "outlinewidth": 0,
                            "ticks": ""
                          }
                        },
                        "type": "scatterternary"
                      }
                    ],
                    "surface": [
                      {
                        "colorbar": {
                          "outlinewidth": 0,
                          "ticks": ""
                        },
                        "colorscale": [
                          [
                            0,
                            "#0d0887"
                          ],
                          [
                            0.1111111111111111,
                            "#46039f"
                          ],
                          [
                            0.2222222222222222,
                            "#7201a8"
                          ],
                          [
                            0.3333333333333333,
                            "#9c179e"
                          ],
                          [
                            0.4444444444444444,
                            "#bd3786"
                          ],
                          [
                            0.5555555555555556,
                            "#d8576b"
                          ],
                          [
                            0.6666666666666666,
                            "#ed7953"
                          ],
                          [
                            0.7777777777777778,
                            "#fb9f3a"
                          ],
                          [
                            0.8888888888888888,
                            "#fdca26"
                          ],
                          [
                            1,
                            "#f0f921"
                          ]
                        ],
                        "type": "surface"
                      }
                    ],
                    "table": [
                      {
                        "cells": {
                          "fill": {
                            "color": "#EBF0F8"
                          },
                          "line": {
                            "color": "white"
                          }
                        },
                        "header": {
                          "fill": {
                            "color": "#C8D4E3"
                          },
                          "line": {
                            "color": "white"
                          }
                        },
                        "type": "table"
                      }
                    ]
                  },
                  "layout": {
                    "annotationdefaults": {
                      "arrowcolor": "#2a3f5f",
                      "arrowhead": 0,
                      "arrowwidth": 1
                    },
                    "autotypenumbers": "strict",
                    "coloraxis": {
                      "colorbar": {
                        "outlinewidth": 0,
                        "ticks": ""
                      }
                    },
                    "colorscale": {
                      "diverging": [
                        [
                          0,
                          "#8e0152"
                        ],
                        [
                          0.1,
                          "#c51b7d"
                        ],
                        [
                          0.2,
                          "#de77ae"
                        ],
                        [
                          0.3,
                          "#f1b6da"
                        ],
                        [
                          0.4,
                          "#fde0ef"
                        ],
                        [
                          0.5,
                          "#f7f7f7"
                        ],
                        [
                          0.6,
                          "#e6f5d0"
                        ],
                        [
                          0.7,
                          "#b8e186"
                        ],
                        [
                          0.8,
                          "#7fbc41"
                        ],
                        [
                          0.9,
                          "#4d9221"
                        ],
                        [
                          1,
                          "#276419"
                        ]
                      ],
                      "sequential": [
                        [
                          0,
                          "#0d0887"
                        ],
                        [
                          0.1111111111111111,
                          "#46039f"
                        ],
                        [
                          0.2222222222222222,
                          "#7201a8"
                        ],
                        [
                          0.3333333333333333,
                          "#9c179e"
                        ],
                        [
                          0.4444444444444444,
                          "#bd3786"
                        ],
                        [
                          0.5555555555555556,
                          "#d8576b"
                        ],
                        [
                          0.6666666666666666,
                          "#ed7953"
                        ],
                        [
                          0.7777777777777778,
                          "#fb9f3a"
                        ],
                        [
                          0.8888888888888888,
                          "#fdca26"
                        ],
                        [
                          1,
                          "#f0f921"
                        ]
                      ],
                      "sequentialminus": [
                        [
                          0,
                          "#0d0887"
                        ],
                        [
                          0.1111111111111111,
                          "#46039f"
                        ],
                        [
                          0.2222222222222222,
                          "#7201a8"
                        ],
                        [
                          0.3333333333333333,
                          "#9c179e"
                        ],
                        [
                          0.4444444444444444,
                          "#bd3786"
                        ],
                        [
                          0.5555555555555556,
                          "#d8576b"
                        ],
                        [
                          0.6666666666666666,
                          "#ed7953"
                        ],
                        [
                          0.7777777777777778,
                          "#fb9f3a"
                        ],
                        [
                          0.8888888888888888,
                          "#fdca26"
                        ],
                        [
                          1,
                          "#f0f921"
                        ]
                      ]
                    },
                    "colorway": [
                      "#636efa",
                      "#EF553B",
                      "#00cc96",
                      "#ab63fa",
                      "#FFA15A",
                      "#19d3f3",
                      "#FF6692",
                      "#B6E880",
                      "#FF97FF",
                      "#FECB52"
                    ],
                    "font": {
                      "color": "#2a3f5f"
                    },
                    "geo": {
                      "bgcolor": "white",
                      "lakecolor": "white",
                      "landcolor": "#E5ECF6",
                      "showlakes": true,
                      "showland": true,
                      "subunitcolor": "white"
                    },
                    "hoverlabel": {
                      "align": "left"
                    },
                    "hovermode": "closest",
                    "mapbox": {
                      "style": "light"
                    },
                    "paper_bgcolor": "white",
                    "plot_bgcolor": "#E5ECF6",
                    "polar": {
                      "angularaxis": {
                        "gridcolor": "white",
                        "linecolor": "white",
                        "ticks": ""
                      },
                      "bgcolor": "#E5ECF6",
                      "radialaxis": {
                        "gridcolor": "white",
                        "linecolor": "white",
                        "ticks": ""
                      }
                    },
                    "scene": {
                      "xaxis": {
                        "backgroundcolor": "#E5ECF6",
                        "gridcolor": "white",
                        "gridwidth": 2,
                        "linecolor": "white",
                        "showbackground": true,
                        "ticks": "",
                        "zerolinecolor": "white"
                      },
                      "yaxis": {
                        "backgroundcolor": "#E5ECF6",
                        "gridcolor": "white",
                        "gridwidth": 2,
                        "linecolor": "white",
                        "showbackground": true,
                        "ticks": "",
                        "zerolinecolor": "white"
                      },
                      "zaxis": {
                        "backgroundcolor": "#E5ECF6",
                        "gridcolor": "white",
                        "gridwidth": 2,
                        "linecolor": "white",
                        "showbackground": true,
                        "ticks": "",
                        "zerolinecolor": "white"
                      }
                    },
                    "shapedefaults": {
                      "line": {
                        "color": "#2a3f5f"
                      }
                    },
                    "ternary": {
                      "aaxis": {
                        "gridcolor": "white",
                        "linecolor": "white",
                        "ticks": ""
                      },
                      "baxis": {
                        "gridcolor": "white",
                        "linecolor": "white",
                        "ticks": ""
                      },
                      "bgcolor": "#E5ECF6",
                      "caxis": {
                        "gridcolor": "white",
                        "linecolor": "white",
                        "ticks": ""
                      }
                    },
                    "title": {
                      "x": 0.05
                    },
                    "xaxis": {
                      "automargin": true,
                      "gridcolor": "white",
                      "linecolor": "white",
                      "ticks": "",
                      "title": {
                        "standoff": 15
                      },
                      "zerolinecolor": "white",
                      "zerolinewidth": 2
                    },
                    "yaxis": {
                      "automargin": true,
                      "gridcolor": "white",
                      "linecolor": "white",
                      "ticks": "",
                      "title": {
                        "standoff": 15
                      },
                      "zerolinecolor": "white",
                      "zerolinewidth": 2
                    }
                  }
                },
                "title": {
                  "text": "Grafico lineal de unidades vendidas por dia en diferentes meses"
                },
                "xaxis": {
                  "tickvals": [
                    0,
                    1,
                    2,
                    3,
                    4,
                    5,
                    6,
                    7,
                    8,
                    9,
                    10,
                    11,
                    12,
                    13,
                    14,
                    15,
                    16,
                    17,
                    18,
                    19,
                    20,
                    21,
                    22,
                    23
                  ],
                  "title": {
                    "text": "Hora"
                  }
                },
                "yaxis": {
                  "side": "left",
                  "title": {
                    "text": "Unidades vendidas"
                  }
                }
              }
            }
          },
          "metadata": {},
          "output_type": "display_data"
        }
      ],
      "source": [
        "# Crear un objeto figura para el gráfico\n",
        "fig = go.Figure()\n",
        "\n",
        "# Lista para almacenar los datos de ventas por hora de cada mes\n",
        "ventas_pordia_pormes = []\n",
        "etiquetas = []\n",
        "\n",
        "# Iterar a través de cada mes en la lista 'meses'\n",
        "for mes in meses:\n",
        "    # Obtener el DataFrame correspondiente al mes\n",
        "    dataframe_mes = dataframes[mes]\n",
        "    \n",
        "    # Realizar algún procesamiento de datos específico (reemplaza con tu propio procesamiento)\n",
        "    dataframe_mes = extraer_datos(dataframe_mes)  # Reemplaza esto con el procesamiento que necesites\n",
        "    \n",
        "    # Calcular el número de ventas por hora para este mes y almacenarlo en 'Ventas_por_hora'\n",
        "    Ventas_por_dia = dataframe_mes.groupby('strDia')['Cantidad Pedida'].count()\n",
        "    \n",
        "    # Agregar los datos de ventas por hora de este mes a la lista 'ventas_por_hora_por_mes'\n",
        "    ventas_pordia_pormes.append(Ventas_por_dia.tolist())\n",
        "\n",
        "total_pordia_pormes = np.sum(ventas_pordia_pormes, axis=0)\n",
        "for i in range(len(dias_semana)):\n",
        "    etiquetas.append( dias_semana[i] + \"\\n TOTAL:\" + str(total_pordia_pormes[i]))\n",
        "\n",
        "# Iterar sobre la lista de datos y agregar cada mes al objeto figura 'fig'\n",
        "for i, mes in enumerate(meses):\n",
        "    fig.add_trace(go.Scatter(\n",
        "        x=etiquetas,  # Eje X: Horas del día\n",
        "        y=ventas_pordia_pormes[i],  # Eje Y: Datos de ventas por hora para este mes\n",
        "        mode='lines+markers',  # Tipo de gráfico: líneas\n",
        "        name=mes,  # Etiqueta para la leyenda del gráfico\n",
        "        line=dict(width=2, shape='spline'),  # Configuración de las líneas del gráfico\n",
        "        marker=dict(size=10)  # Configuración de las marcas del gráfico\n",
        "    ))\n",
        "\n",
        "# Configurar los ejes y los títulos del gráfico\n",
        "fig.update_layout(\n",
        "    title=\"Grafico lineal de unidades vendidas por dia en diferentes meses\",  # Título del gráfico\n",
        "    xaxis=dict(title=\"Hora\", tickvals=Horas),  # Configuración del eje X\n",
        "    yaxis=dict(title=\"Unidades vendidas\", side=\"left\"),  # Configuración del eje Y\n",
        "    legend=dict(y=0.3, yanchor='bottom'),  # Configuración de la leyenda\n",
        ")\n",
        "\n",
        "# Mostrar el gráfico\n",
        "fig.show()\n",
        "#ventas_pordia_pormes = np.sum(ventas_pordia_pormes, axis=0)\n"
      ]
    },
    {
      "cell_type": "code",
      "execution_count": 147,
      "metadata": {},
      "outputs": [
        {
          "data": {
            "application/vnd.plotly.v1+json": {
              "config": {
                "plotlyServerURL": "https://plot.ly"
              },
              "data": [
                {
                  "name": "Enero",
                  "type": "bar",
                  "x": [
                    "Lunes",
                    "Martes",
                    "Miércoles",
                    "Jueves",
                    "Viernes",
                    "Sábado",
                    "Domingo"
                  ],
                  "y": [
                    1258,
                    1224,
                    1291,
                    1268,
                    1549,
                    1562,
                    1529
                  ]
                },
                {
                  "name": "Febrero",
                  "type": "bar",
                  "x": [
                    "Lunes",
                    "Martes",
                    "Miércoles",
                    "Jueves",
                    "Viernes",
                    "Sábado",
                    "Domingo"
                  ],
                  "y": [
                    1696,
                    1691,
                    1711,
                    1765,
                    1660,
                    1681,
                    1782
                  ]
                },
                {
                  "name": "Marzo",
                  "type": "bar",
                  "x": [
                    "Lunes",
                    "Martes",
                    "Miércoles",
                    "Jueves",
                    "Viernes",
                    "Sábado",
                    "Domingo"
                  ],
                  "y": [
                    2419,
                    1966,
                    2539,
                    2379,
                    1947,
                    1934,
                    1970
                  ]
                },
                {
                  "name": "Abril",
                  "type": "bar",
                  "x": [
                    "Lunes",
                    "Martes",
                    "Miércoles",
                    "Jueves",
                    "Viernes",
                    "Sábado",
                    "Domingo"
                  ],
                  "y": [
                    2374,
                    2922,
                    2466,
                    2444,
                    2505,
                    3035,
                    2543
                  ]
                },
                {
                  "name": "Mayo",
                  "type": "bar",
                  "x": [
                    "Lunes",
                    "Martes",
                    "Miércoles",
                    "Jueves",
                    "Viernes",
                    "Sábado",
                    "Domingo"
                  ],
                  "y": [
                    2588,
                    2113,
                    2106,
                    2161,
                    2741,
                    2192,
                    2653
                  ]
                },
                {
                  "name": "Junio",
                  "type": "bar",
                  "x": [
                    "Lunes",
                    "Martes",
                    "Miércoles",
                    "Jueves",
                    "Viernes",
                    "Sábado",
                    "Domingo"
                  ],
                  "y": [
                    1833,
                    1777,
                    2250,
                    2221,
                    1821,
                    1793,
                    1861
                  ]
                },
                {
                  "name": "Julio",
                  "type": "bar",
                  "x": [
                    "Lunes",
                    "Martes",
                    "Miércoles",
                    "Jueves",
                    "Viernes",
                    "Sábado",
                    "Domingo"
                  ],
                  "y": [
                    1833,
                    2349,
                    1852,
                    1843,
                    1892,
                    2270,
                    2252
                  ]
                },
                {
                  "name": "Agosto",
                  "type": "bar",
                  "x": [
                    "Lunes",
                    "Martes",
                    "Miércoles",
                    "Jueves",
                    "Viernes",
                    "Sábado",
                    "Domingo"
                  ],
                  "y": [
                    1911,
                    1527,
                    1949,
                    1530,
                    1931,
                    1554,
                    1555
                  ]
                },
                {
                  "name": "Septiembre",
                  "type": "bar",
                  "x": [
                    "Lunes",
                    "Martes",
                    "Miércoles",
                    "Jueves",
                    "Viernes",
                    "Sábado",
                    "Domingo"
                  ],
                  "y": [
                    1579,
                    1936,
                    1520,
                    1941,
                    1536,
                    1579,
                    1538
                  ]
                },
                {
                  "name": "Octubre",
                  "type": "bar",
                  "x": [
                    "Lunes",
                    "Martes",
                    "Miércoles",
                    "Jueves",
                    "Viernes",
                    "Sábado",
                    "Domingo"
                  ],
                  "y": [
                    2593,
                    2612,
                    2701,
                    2648,
                    3284,
                    3238,
                    3208
                  ]
                },
                {
                  "name": "Noviembre",
                  "type": "bar",
                  "x": [
                    "Lunes",
                    "Martes",
                    "Miércoles",
                    "Jueves",
                    "Viernes",
                    "Sábado",
                    "Domingo"
                  ],
                  "y": [
                    2903,
                    2356,
                    2934,
                    2366,
                    2352,
                    2323,
                    2346
                  ]
                },
                {
                  "name": "Diciembre",
                  "type": "bar",
                  "x": [
                    "Lunes",
                    "Martes",
                    "Miércoles",
                    "Jueves",
                    "Viernes",
                    "Sábado",
                    "Domingo"
                  ],
                  "y": [
                    3260,
                    4074,
                    3173,
                    3985,
                    3243,
                    4014,
                    3240
                  ]
                }
              ],
              "layout": {
                "barmode": "group",
                "template": {
                  "data": {
                    "bar": [
                      {
                        "error_x": {
                          "color": "#2a3f5f"
                        },
                        "error_y": {
                          "color": "#2a3f5f"
                        },
                        "marker": {
                          "line": {
                            "color": "#E5ECF6",
                            "width": 0.5
                          },
                          "pattern": {
                            "fillmode": "overlay",
                            "size": 10,
                            "solidity": 0.2
                          }
                        },
                        "type": "bar"
                      }
                    ],
                    "barpolar": [
                      {
                        "marker": {
                          "line": {
                            "color": "#E5ECF6",
                            "width": 0.5
                          },
                          "pattern": {
                            "fillmode": "overlay",
                            "size": 10,
                            "solidity": 0.2
                          }
                        },
                        "type": "barpolar"
                      }
                    ],
                    "carpet": [
                      {
                        "aaxis": {
                          "endlinecolor": "#2a3f5f",
                          "gridcolor": "white",
                          "linecolor": "white",
                          "minorgridcolor": "white",
                          "startlinecolor": "#2a3f5f"
                        },
                        "baxis": {
                          "endlinecolor": "#2a3f5f",
                          "gridcolor": "white",
                          "linecolor": "white",
                          "minorgridcolor": "white",
                          "startlinecolor": "#2a3f5f"
                        },
                        "type": "carpet"
                      }
                    ],
                    "choropleth": [
                      {
                        "colorbar": {
                          "outlinewidth": 0,
                          "ticks": ""
                        },
                        "type": "choropleth"
                      }
                    ],
                    "contour": [
                      {
                        "colorbar": {
                          "outlinewidth": 0,
                          "ticks": ""
                        },
                        "colorscale": [
                          [
                            0,
                            "#0d0887"
                          ],
                          [
                            0.1111111111111111,
                            "#46039f"
                          ],
                          [
                            0.2222222222222222,
                            "#7201a8"
                          ],
                          [
                            0.3333333333333333,
                            "#9c179e"
                          ],
                          [
                            0.4444444444444444,
                            "#bd3786"
                          ],
                          [
                            0.5555555555555556,
                            "#d8576b"
                          ],
                          [
                            0.6666666666666666,
                            "#ed7953"
                          ],
                          [
                            0.7777777777777778,
                            "#fb9f3a"
                          ],
                          [
                            0.8888888888888888,
                            "#fdca26"
                          ],
                          [
                            1,
                            "#f0f921"
                          ]
                        ],
                        "type": "contour"
                      }
                    ],
                    "contourcarpet": [
                      {
                        "colorbar": {
                          "outlinewidth": 0,
                          "ticks": ""
                        },
                        "type": "contourcarpet"
                      }
                    ],
                    "heatmap": [
                      {
                        "colorbar": {
                          "outlinewidth": 0,
                          "ticks": ""
                        },
                        "colorscale": [
                          [
                            0,
                            "#0d0887"
                          ],
                          [
                            0.1111111111111111,
                            "#46039f"
                          ],
                          [
                            0.2222222222222222,
                            "#7201a8"
                          ],
                          [
                            0.3333333333333333,
                            "#9c179e"
                          ],
                          [
                            0.4444444444444444,
                            "#bd3786"
                          ],
                          [
                            0.5555555555555556,
                            "#d8576b"
                          ],
                          [
                            0.6666666666666666,
                            "#ed7953"
                          ],
                          [
                            0.7777777777777778,
                            "#fb9f3a"
                          ],
                          [
                            0.8888888888888888,
                            "#fdca26"
                          ],
                          [
                            1,
                            "#f0f921"
                          ]
                        ],
                        "type": "heatmap"
                      }
                    ],
                    "heatmapgl": [
                      {
                        "colorbar": {
                          "outlinewidth": 0,
                          "ticks": ""
                        },
                        "colorscale": [
                          [
                            0,
                            "#0d0887"
                          ],
                          [
                            0.1111111111111111,
                            "#46039f"
                          ],
                          [
                            0.2222222222222222,
                            "#7201a8"
                          ],
                          [
                            0.3333333333333333,
                            "#9c179e"
                          ],
                          [
                            0.4444444444444444,
                            "#bd3786"
                          ],
                          [
                            0.5555555555555556,
                            "#d8576b"
                          ],
                          [
                            0.6666666666666666,
                            "#ed7953"
                          ],
                          [
                            0.7777777777777778,
                            "#fb9f3a"
                          ],
                          [
                            0.8888888888888888,
                            "#fdca26"
                          ],
                          [
                            1,
                            "#f0f921"
                          ]
                        ],
                        "type": "heatmapgl"
                      }
                    ],
                    "histogram": [
                      {
                        "marker": {
                          "pattern": {
                            "fillmode": "overlay",
                            "size": 10,
                            "solidity": 0.2
                          }
                        },
                        "type": "histogram"
                      }
                    ],
                    "histogram2d": [
                      {
                        "colorbar": {
                          "outlinewidth": 0,
                          "ticks": ""
                        },
                        "colorscale": [
                          [
                            0,
                            "#0d0887"
                          ],
                          [
                            0.1111111111111111,
                            "#46039f"
                          ],
                          [
                            0.2222222222222222,
                            "#7201a8"
                          ],
                          [
                            0.3333333333333333,
                            "#9c179e"
                          ],
                          [
                            0.4444444444444444,
                            "#bd3786"
                          ],
                          [
                            0.5555555555555556,
                            "#d8576b"
                          ],
                          [
                            0.6666666666666666,
                            "#ed7953"
                          ],
                          [
                            0.7777777777777778,
                            "#fb9f3a"
                          ],
                          [
                            0.8888888888888888,
                            "#fdca26"
                          ],
                          [
                            1,
                            "#f0f921"
                          ]
                        ],
                        "type": "histogram2d"
                      }
                    ],
                    "histogram2dcontour": [
                      {
                        "colorbar": {
                          "outlinewidth": 0,
                          "ticks": ""
                        },
                        "colorscale": [
                          [
                            0,
                            "#0d0887"
                          ],
                          [
                            0.1111111111111111,
                            "#46039f"
                          ],
                          [
                            0.2222222222222222,
                            "#7201a8"
                          ],
                          [
                            0.3333333333333333,
                            "#9c179e"
                          ],
                          [
                            0.4444444444444444,
                            "#bd3786"
                          ],
                          [
                            0.5555555555555556,
                            "#d8576b"
                          ],
                          [
                            0.6666666666666666,
                            "#ed7953"
                          ],
                          [
                            0.7777777777777778,
                            "#fb9f3a"
                          ],
                          [
                            0.8888888888888888,
                            "#fdca26"
                          ],
                          [
                            1,
                            "#f0f921"
                          ]
                        ],
                        "type": "histogram2dcontour"
                      }
                    ],
                    "mesh3d": [
                      {
                        "colorbar": {
                          "outlinewidth": 0,
                          "ticks": ""
                        },
                        "type": "mesh3d"
                      }
                    ],
                    "parcoords": [
                      {
                        "line": {
                          "colorbar": {
                            "outlinewidth": 0,
                            "ticks": ""
                          }
                        },
                        "type": "parcoords"
                      }
                    ],
                    "pie": [
                      {
                        "automargin": true,
                        "type": "pie"
                      }
                    ],
                    "scatter": [
                      {
                        "fillpattern": {
                          "fillmode": "overlay",
                          "size": 10,
                          "solidity": 0.2
                        },
                        "type": "scatter"
                      }
                    ],
                    "scatter3d": [
                      {
                        "line": {
                          "colorbar": {
                            "outlinewidth": 0,
                            "ticks": ""
                          }
                        },
                        "marker": {
                          "colorbar": {
                            "outlinewidth": 0,
                            "ticks": ""
                          }
                        },
                        "type": "scatter3d"
                      }
                    ],
                    "scattercarpet": [
                      {
                        "marker": {
                          "colorbar": {
                            "outlinewidth": 0,
                            "ticks": ""
                          }
                        },
                        "type": "scattercarpet"
                      }
                    ],
                    "scattergeo": [
                      {
                        "marker": {
                          "colorbar": {
                            "outlinewidth": 0,
                            "ticks": ""
                          }
                        },
                        "type": "scattergeo"
                      }
                    ],
                    "scattergl": [
                      {
                        "marker": {
                          "colorbar": {
                            "outlinewidth": 0,
                            "ticks": ""
                          }
                        },
                        "type": "scattergl"
                      }
                    ],
                    "scattermapbox": [
                      {
                        "marker": {
                          "colorbar": {
                            "outlinewidth": 0,
                            "ticks": ""
                          }
                        },
                        "type": "scattermapbox"
                      }
                    ],
                    "scatterpolar": [
                      {
                        "marker": {
                          "colorbar": {
                            "outlinewidth": 0,
                            "ticks": ""
                          }
                        },
                        "type": "scatterpolar"
                      }
                    ],
                    "scatterpolargl": [
                      {
                        "marker": {
                          "colorbar": {
                            "outlinewidth": 0,
                            "ticks": ""
                          }
                        },
                        "type": "scatterpolargl"
                      }
                    ],
                    "scatterternary": [
                      {
                        "marker": {
                          "colorbar": {
                            "outlinewidth": 0,
                            "ticks": ""
                          }
                        },
                        "type": "scatterternary"
                      }
                    ],
                    "surface": [
                      {
                        "colorbar": {
                          "outlinewidth": 0,
                          "ticks": ""
                        },
                        "colorscale": [
                          [
                            0,
                            "#0d0887"
                          ],
                          [
                            0.1111111111111111,
                            "#46039f"
                          ],
                          [
                            0.2222222222222222,
                            "#7201a8"
                          ],
                          [
                            0.3333333333333333,
                            "#9c179e"
                          ],
                          [
                            0.4444444444444444,
                            "#bd3786"
                          ],
                          [
                            0.5555555555555556,
                            "#d8576b"
                          ],
                          [
                            0.6666666666666666,
                            "#ed7953"
                          ],
                          [
                            0.7777777777777778,
                            "#fb9f3a"
                          ],
                          [
                            0.8888888888888888,
                            "#fdca26"
                          ],
                          [
                            1,
                            "#f0f921"
                          ]
                        ],
                        "type": "surface"
                      }
                    ],
                    "table": [
                      {
                        "cells": {
                          "fill": {
                            "color": "#EBF0F8"
                          },
                          "line": {
                            "color": "white"
                          }
                        },
                        "header": {
                          "fill": {
                            "color": "#C8D4E3"
                          },
                          "line": {
                            "color": "white"
                          }
                        },
                        "type": "table"
                      }
                    ]
                  },
                  "layout": {
                    "annotationdefaults": {
                      "arrowcolor": "#2a3f5f",
                      "arrowhead": 0,
                      "arrowwidth": 1
                    },
                    "autotypenumbers": "strict",
                    "coloraxis": {
                      "colorbar": {
                        "outlinewidth": 0,
                        "ticks": ""
                      }
                    },
                    "colorscale": {
                      "diverging": [
                        [
                          0,
                          "#8e0152"
                        ],
                        [
                          0.1,
                          "#c51b7d"
                        ],
                        [
                          0.2,
                          "#de77ae"
                        ],
                        [
                          0.3,
                          "#f1b6da"
                        ],
                        [
                          0.4,
                          "#fde0ef"
                        ],
                        [
                          0.5,
                          "#f7f7f7"
                        ],
                        [
                          0.6,
                          "#e6f5d0"
                        ],
                        [
                          0.7,
                          "#b8e186"
                        ],
                        [
                          0.8,
                          "#7fbc41"
                        ],
                        [
                          0.9,
                          "#4d9221"
                        ],
                        [
                          1,
                          "#276419"
                        ]
                      ],
                      "sequential": [
                        [
                          0,
                          "#0d0887"
                        ],
                        [
                          0.1111111111111111,
                          "#46039f"
                        ],
                        [
                          0.2222222222222222,
                          "#7201a8"
                        ],
                        [
                          0.3333333333333333,
                          "#9c179e"
                        ],
                        [
                          0.4444444444444444,
                          "#bd3786"
                        ],
                        [
                          0.5555555555555556,
                          "#d8576b"
                        ],
                        [
                          0.6666666666666666,
                          "#ed7953"
                        ],
                        [
                          0.7777777777777778,
                          "#fb9f3a"
                        ],
                        [
                          0.8888888888888888,
                          "#fdca26"
                        ],
                        [
                          1,
                          "#f0f921"
                        ]
                      ],
                      "sequentialminus": [
                        [
                          0,
                          "#0d0887"
                        ],
                        [
                          0.1111111111111111,
                          "#46039f"
                        ],
                        [
                          0.2222222222222222,
                          "#7201a8"
                        ],
                        [
                          0.3333333333333333,
                          "#9c179e"
                        ],
                        [
                          0.4444444444444444,
                          "#bd3786"
                        ],
                        [
                          0.5555555555555556,
                          "#d8576b"
                        ],
                        [
                          0.6666666666666666,
                          "#ed7953"
                        ],
                        [
                          0.7777777777777778,
                          "#fb9f3a"
                        ],
                        [
                          0.8888888888888888,
                          "#fdca26"
                        ],
                        [
                          1,
                          "#f0f921"
                        ]
                      ]
                    },
                    "colorway": [
                      "#636efa",
                      "#EF553B",
                      "#00cc96",
                      "#ab63fa",
                      "#FFA15A",
                      "#19d3f3",
                      "#FF6692",
                      "#B6E880",
                      "#FF97FF",
                      "#FECB52"
                    ],
                    "font": {
                      "color": "#2a3f5f"
                    },
                    "geo": {
                      "bgcolor": "white",
                      "lakecolor": "white",
                      "landcolor": "#E5ECF6",
                      "showlakes": true,
                      "showland": true,
                      "subunitcolor": "white"
                    },
                    "hoverlabel": {
                      "align": "left"
                    },
                    "hovermode": "closest",
                    "mapbox": {
                      "style": "light"
                    },
                    "paper_bgcolor": "white",
                    "plot_bgcolor": "#E5ECF6",
                    "polar": {
                      "angularaxis": {
                        "gridcolor": "white",
                        "linecolor": "white",
                        "ticks": ""
                      },
                      "bgcolor": "#E5ECF6",
                      "radialaxis": {
                        "gridcolor": "white",
                        "linecolor": "white",
                        "ticks": ""
                      }
                    },
                    "scene": {
                      "xaxis": {
                        "backgroundcolor": "#E5ECF6",
                        "gridcolor": "white",
                        "gridwidth": 2,
                        "linecolor": "white",
                        "showbackground": true,
                        "ticks": "",
                        "zerolinecolor": "white"
                      },
                      "yaxis": {
                        "backgroundcolor": "#E5ECF6",
                        "gridcolor": "white",
                        "gridwidth": 2,
                        "linecolor": "white",
                        "showbackground": true,
                        "ticks": "",
                        "zerolinecolor": "white"
                      },
                      "zaxis": {
                        "backgroundcolor": "#E5ECF6",
                        "gridcolor": "white",
                        "gridwidth": 2,
                        "linecolor": "white",
                        "showbackground": true,
                        "ticks": "",
                        "zerolinecolor": "white"
                      }
                    },
                    "shapedefaults": {
                      "line": {
                        "color": "#2a3f5f"
                      }
                    },
                    "ternary": {
                      "aaxis": {
                        "gridcolor": "white",
                        "linecolor": "white",
                        "ticks": ""
                      },
                      "baxis": {
                        "gridcolor": "white",
                        "linecolor": "white",
                        "ticks": ""
                      },
                      "bgcolor": "#E5ECF6",
                      "caxis": {
                        "gridcolor": "white",
                        "linecolor": "white",
                        "ticks": ""
                      }
                    },
                    "title": {
                      "x": 0.05
                    },
                    "xaxis": {
                      "automargin": true,
                      "gridcolor": "white",
                      "linecolor": "white",
                      "ticks": "",
                      "title": {
                        "standoff": 15
                      },
                      "zerolinecolor": "white",
                      "zerolinewidth": 2
                    },
                    "yaxis": {
                      "automargin": true,
                      "gridcolor": "white",
                      "linecolor": "white",
                      "ticks": "",
                      "title": {
                        "standoff": 15
                      },
                      "zerolinecolor": "white",
                      "zerolinewidth": 2
                    }
                  }
                },
                "title": {
                  "text": "Cantidad ventas por dia en cada mes comparado con barras"
                },
                "xaxis": {
                  "title": {
                    "text": "Día de la semana"
                  }
                },
                "yaxis": {
                  "title": {
                    "text": "Cantidad"
                  }
                }
              }
            }
          },
          "metadata": {},
          "output_type": "display_data"
        }
      ],
      "source": [
        "# Lista para almacenar los datos de ventas por hora de cada mes\n",
        "ventas_pordia_pormes = []\n",
        "etiquetas = []\n",
        "\n",
        "# Iterar a través de cada mes en la lista 'meses'\n",
        "for mes in meses:\n",
        "    # Obtener el DataFrame correspondiente al mes\n",
        "    dataframe_mes = dataframes[mes]\n",
        "    \n",
        "    # Realizar algún procesamiento de datos específico (reemplaza con tu propio procesamiento)\n",
        "    dataframe_mes = extraer_datos(dataframe_mes)  # Reemplaza esto con el procesamiento que necesites\n",
        "    \n",
        "    # Calcular el número de ventas por hora para este mes y almacenarlo en 'Ventas_por_hora'\n",
        "    Ventas_por_dia = dataframe_mes.groupby('strDia')['Cantidad Pedida'].count()\n",
        "    \n",
        "    # Agregar los datos de ventas por hora de este mes a la lista 'ventas_por_hora_por_mes'\n",
        "    ventas_pordia_pormes.append(Ventas_por_dia.tolist())\n",
        "\n",
        "fig = go.Figure()\n",
        "\n",
        "for i, mes in enumerate(meses):\n",
        "    fig.add_trace(go.Bar(\n",
        "        x=dias_semana,\n",
        "        y=ventas_pordia_pormes[i],\n",
        "        name=mes\n",
        "    ))\n",
        "\n",
        "# Configuración adicional del gráfico\n",
        "fig.update_layout(\n",
        "    title='Cantidad ventas por dia en cada mes comparado con barras',\n",
        "    xaxis_title='Día de la semana',\n",
        "    yaxis_title='Cantidad',\n",
        "    barmode='group',  # Agrupa las barras\n",
        ")\n",
        "\n",
        "fig.show()\n",
        "\n",
        "    "
      ]
    },
    {
      "cell_type": "markdown",
      "metadata": {},
      "source": [
        "¿Cómo varían las ventas a lo largo de los diferentes días de la semana?"
      ]
    },
    {
      "cell_type": "code",
      "execution_count": 148,
      "metadata": {},
      "outputs": [
        {
          "data": {
            "application/vnd.plotly.v1+json": {
              "config": {
                "plotlyServerURL": "https://plot.ly"
              },
              "data": [
                {
                  "line": {
                    "shape": "spline",
                    "width": 2
                  },
                  "marker": {
                    "size": 10
                  },
                  "mode": "lines+markers",
                  "name": "Diciembre",
                  "type": "scatter",
                  "x": [
                    "Lunes",
                    "Martes",
                    "Miércoles",
                    "Jueves",
                    "Viernes",
                    "Sábado",
                    "Domingo"
                  ],
                  "y": [
                    26247,
                    26547,
                    26492,
                    26551,
                    26461,
                    27175,
                    26477
                  ]
                }
              ],
              "layout": {
                "legend": {
                  "y": 0.3,
                  "yanchor": "bottom"
                },
                "template": {
                  "data": {
                    "bar": [
                      {
                        "error_x": {
                          "color": "#2a3f5f"
                        },
                        "error_y": {
                          "color": "#2a3f5f"
                        },
                        "marker": {
                          "line": {
                            "color": "#E5ECF6",
                            "width": 0.5
                          },
                          "pattern": {
                            "fillmode": "overlay",
                            "size": 10,
                            "solidity": 0.2
                          }
                        },
                        "type": "bar"
                      }
                    ],
                    "barpolar": [
                      {
                        "marker": {
                          "line": {
                            "color": "#E5ECF6",
                            "width": 0.5
                          },
                          "pattern": {
                            "fillmode": "overlay",
                            "size": 10,
                            "solidity": 0.2
                          }
                        },
                        "type": "barpolar"
                      }
                    ],
                    "carpet": [
                      {
                        "aaxis": {
                          "endlinecolor": "#2a3f5f",
                          "gridcolor": "white",
                          "linecolor": "white",
                          "minorgridcolor": "white",
                          "startlinecolor": "#2a3f5f"
                        },
                        "baxis": {
                          "endlinecolor": "#2a3f5f",
                          "gridcolor": "white",
                          "linecolor": "white",
                          "minorgridcolor": "white",
                          "startlinecolor": "#2a3f5f"
                        },
                        "type": "carpet"
                      }
                    ],
                    "choropleth": [
                      {
                        "colorbar": {
                          "outlinewidth": 0,
                          "ticks": ""
                        },
                        "type": "choropleth"
                      }
                    ],
                    "contour": [
                      {
                        "colorbar": {
                          "outlinewidth": 0,
                          "ticks": ""
                        },
                        "colorscale": [
                          [
                            0,
                            "#0d0887"
                          ],
                          [
                            0.1111111111111111,
                            "#46039f"
                          ],
                          [
                            0.2222222222222222,
                            "#7201a8"
                          ],
                          [
                            0.3333333333333333,
                            "#9c179e"
                          ],
                          [
                            0.4444444444444444,
                            "#bd3786"
                          ],
                          [
                            0.5555555555555556,
                            "#d8576b"
                          ],
                          [
                            0.6666666666666666,
                            "#ed7953"
                          ],
                          [
                            0.7777777777777778,
                            "#fb9f3a"
                          ],
                          [
                            0.8888888888888888,
                            "#fdca26"
                          ],
                          [
                            1,
                            "#f0f921"
                          ]
                        ],
                        "type": "contour"
                      }
                    ],
                    "contourcarpet": [
                      {
                        "colorbar": {
                          "outlinewidth": 0,
                          "ticks": ""
                        },
                        "type": "contourcarpet"
                      }
                    ],
                    "heatmap": [
                      {
                        "colorbar": {
                          "outlinewidth": 0,
                          "ticks": ""
                        },
                        "colorscale": [
                          [
                            0,
                            "#0d0887"
                          ],
                          [
                            0.1111111111111111,
                            "#46039f"
                          ],
                          [
                            0.2222222222222222,
                            "#7201a8"
                          ],
                          [
                            0.3333333333333333,
                            "#9c179e"
                          ],
                          [
                            0.4444444444444444,
                            "#bd3786"
                          ],
                          [
                            0.5555555555555556,
                            "#d8576b"
                          ],
                          [
                            0.6666666666666666,
                            "#ed7953"
                          ],
                          [
                            0.7777777777777778,
                            "#fb9f3a"
                          ],
                          [
                            0.8888888888888888,
                            "#fdca26"
                          ],
                          [
                            1,
                            "#f0f921"
                          ]
                        ],
                        "type": "heatmap"
                      }
                    ],
                    "heatmapgl": [
                      {
                        "colorbar": {
                          "outlinewidth": 0,
                          "ticks": ""
                        },
                        "colorscale": [
                          [
                            0,
                            "#0d0887"
                          ],
                          [
                            0.1111111111111111,
                            "#46039f"
                          ],
                          [
                            0.2222222222222222,
                            "#7201a8"
                          ],
                          [
                            0.3333333333333333,
                            "#9c179e"
                          ],
                          [
                            0.4444444444444444,
                            "#bd3786"
                          ],
                          [
                            0.5555555555555556,
                            "#d8576b"
                          ],
                          [
                            0.6666666666666666,
                            "#ed7953"
                          ],
                          [
                            0.7777777777777778,
                            "#fb9f3a"
                          ],
                          [
                            0.8888888888888888,
                            "#fdca26"
                          ],
                          [
                            1,
                            "#f0f921"
                          ]
                        ],
                        "type": "heatmapgl"
                      }
                    ],
                    "histogram": [
                      {
                        "marker": {
                          "pattern": {
                            "fillmode": "overlay",
                            "size": 10,
                            "solidity": 0.2
                          }
                        },
                        "type": "histogram"
                      }
                    ],
                    "histogram2d": [
                      {
                        "colorbar": {
                          "outlinewidth": 0,
                          "ticks": ""
                        },
                        "colorscale": [
                          [
                            0,
                            "#0d0887"
                          ],
                          [
                            0.1111111111111111,
                            "#46039f"
                          ],
                          [
                            0.2222222222222222,
                            "#7201a8"
                          ],
                          [
                            0.3333333333333333,
                            "#9c179e"
                          ],
                          [
                            0.4444444444444444,
                            "#bd3786"
                          ],
                          [
                            0.5555555555555556,
                            "#d8576b"
                          ],
                          [
                            0.6666666666666666,
                            "#ed7953"
                          ],
                          [
                            0.7777777777777778,
                            "#fb9f3a"
                          ],
                          [
                            0.8888888888888888,
                            "#fdca26"
                          ],
                          [
                            1,
                            "#f0f921"
                          ]
                        ],
                        "type": "histogram2d"
                      }
                    ],
                    "histogram2dcontour": [
                      {
                        "colorbar": {
                          "outlinewidth": 0,
                          "ticks": ""
                        },
                        "colorscale": [
                          [
                            0,
                            "#0d0887"
                          ],
                          [
                            0.1111111111111111,
                            "#46039f"
                          ],
                          [
                            0.2222222222222222,
                            "#7201a8"
                          ],
                          [
                            0.3333333333333333,
                            "#9c179e"
                          ],
                          [
                            0.4444444444444444,
                            "#bd3786"
                          ],
                          [
                            0.5555555555555556,
                            "#d8576b"
                          ],
                          [
                            0.6666666666666666,
                            "#ed7953"
                          ],
                          [
                            0.7777777777777778,
                            "#fb9f3a"
                          ],
                          [
                            0.8888888888888888,
                            "#fdca26"
                          ],
                          [
                            1,
                            "#f0f921"
                          ]
                        ],
                        "type": "histogram2dcontour"
                      }
                    ],
                    "mesh3d": [
                      {
                        "colorbar": {
                          "outlinewidth": 0,
                          "ticks": ""
                        },
                        "type": "mesh3d"
                      }
                    ],
                    "parcoords": [
                      {
                        "line": {
                          "colorbar": {
                            "outlinewidth": 0,
                            "ticks": ""
                          }
                        },
                        "type": "parcoords"
                      }
                    ],
                    "pie": [
                      {
                        "automargin": true,
                        "type": "pie"
                      }
                    ],
                    "scatter": [
                      {
                        "fillpattern": {
                          "fillmode": "overlay",
                          "size": 10,
                          "solidity": 0.2
                        },
                        "type": "scatter"
                      }
                    ],
                    "scatter3d": [
                      {
                        "line": {
                          "colorbar": {
                            "outlinewidth": 0,
                            "ticks": ""
                          }
                        },
                        "marker": {
                          "colorbar": {
                            "outlinewidth": 0,
                            "ticks": ""
                          }
                        },
                        "type": "scatter3d"
                      }
                    ],
                    "scattercarpet": [
                      {
                        "marker": {
                          "colorbar": {
                            "outlinewidth": 0,
                            "ticks": ""
                          }
                        },
                        "type": "scattercarpet"
                      }
                    ],
                    "scattergeo": [
                      {
                        "marker": {
                          "colorbar": {
                            "outlinewidth": 0,
                            "ticks": ""
                          }
                        },
                        "type": "scattergeo"
                      }
                    ],
                    "scattergl": [
                      {
                        "marker": {
                          "colorbar": {
                            "outlinewidth": 0,
                            "ticks": ""
                          }
                        },
                        "type": "scattergl"
                      }
                    ],
                    "scattermapbox": [
                      {
                        "marker": {
                          "colorbar": {
                            "outlinewidth": 0,
                            "ticks": ""
                          }
                        },
                        "type": "scattermapbox"
                      }
                    ],
                    "scatterpolar": [
                      {
                        "marker": {
                          "colorbar": {
                            "outlinewidth": 0,
                            "ticks": ""
                          }
                        },
                        "type": "scatterpolar"
                      }
                    ],
                    "scatterpolargl": [
                      {
                        "marker": {
                          "colorbar": {
                            "outlinewidth": 0,
                            "ticks": ""
                          }
                        },
                        "type": "scatterpolargl"
                      }
                    ],
                    "scatterternary": [
                      {
                        "marker": {
                          "colorbar": {
                            "outlinewidth": 0,
                            "ticks": ""
                          }
                        },
                        "type": "scatterternary"
                      }
                    ],
                    "surface": [
                      {
                        "colorbar": {
                          "outlinewidth": 0,
                          "ticks": ""
                        },
                        "colorscale": [
                          [
                            0,
                            "#0d0887"
                          ],
                          [
                            0.1111111111111111,
                            "#46039f"
                          ],
                          [
                            0.2222222222222222,
                            "#7201a8"
                          ],
                          [
                            0.3333333333333333,
                            "#9c179e"
                          ],
                          [
                            0.4444444444444444,
                            "#bd3786"
                          ],
                          [
                            0.5555555555555556,
                            "#d8576b"
                          ],
                          [
                            0.6666666666666666,
                            "#ed7953"
                          ],
                          [
                            0.7777777777777778,
                            "#fb9f3a"
                          ],
                          [
                            0.8888888888888888,
                            "#fdca26"
                          ],
                          [
                            1,
                            "#f0f921"
                          ]
                        ],
                        "type": "surface"
                      }
                    ],
                    "table": [
                      {
                        "cells": {
                          "fill": {
                            "color": "#EBF0F8"
                          },
                          "line": {
                            "color": "white"
                          }
                        },
                        "header": {
                          "fill": {
                            "color": "#C8D4E3"
                          },
                          "line": {
                            "color": "white"
                          }
                        },
                        "type": "table"
                      }
                    ]
                  },
                  "layout": {
                    "annotationdefaults": {
                      "arrowcolor": "#2a3f5f",
                      "arrowhead": 0,
                      "arrowwidth": 1
                    },
                    "autotypenumbers": "strict",
                    "coloraxis": {
                      "colorbar": {
                        "outlinewidth": 0,
                        "ticks": ""
                      }
                    },
                    "colorscale": {
                      "diverging": [
                        [
                          0,
                          "#8e0152"
                        ],
                        [
                          0.1,
                          "#c51b7d"
                        ],
                        [
                          0.2,
                          "#de77ae"
                        ],
                        [
                          0.3,
                          "#f1b6da"
                        ],
                        [
                          0.4,
                          "#fde0ef"
                        ],
                        [
                          0.5,
                          "#f7f7f7"
                        ],
                        [
                          0.6,
                          "#e6f5d0"
                        ],
                        [
                          0.7,
                          "#b8e186"
                        ],
                        [
                          0.8,
                          "#7fbc41"
                        ],
                        [
                          0.9,
                          "#4d9221"
                        ],
                        [
                          1,
                          "#276419"
                        ]
                      ],
                      "sequential": [
                        [
                          0,
                          "#0d0887"
                        ],
                        [
                          0.1111111111111111,
                          "#46039f"
                        ],
                        [
                          0.2222222222222222,
                          "#7201a8"
                        ],
                        [
                          0.3333333333333333,
                          "#9c179e"
                        ],
                        [
                          0.4444444444444444,
                          "#bd3786"
                        ],
                        [
                          0.5555555555555556,
                          "#d8576b"
                        ],
                        [
                          0.6666666666666666,
                          "#ed7953"
                        ],
                        [
                          0.7777777777777778,
                          "#fb9f3a"
                        ],
                        [
                          0.8888888888888888,
                          "#fdca26"
                        ],
                        [
                          1,
                          "#f0f921"
                        ]
                      ],
                      "sequentialminus": [
                        [
                          0,
                          "#0d0887"
                        ],
                        [
                          0.1111111111111111,
                          "#46039f"
                        ],
                        [
                          0.2222222222222222,
                          "#7201a8"
                        ],
                        [
                          0.3333333333333333,
                          "#9c179e"
                        ],
                        [
                          0.4444444444444444,
                          "#bd3786"
                        ],
                        [
                          0.5555555555555556,
                          "#d8576b"
                        ],
                        [
                          0.6666666666666666,
                          "#ed7953"
                        ],
                        [
                          0.7777777777777778,
                          "#fb9f3a"
                        ],
                        [
                          0.8888888888888888,
                          "#fdca26"
                        ],
                        [
                          1,
                          "#f0f921"
                        ]
                      ]
                    },
                    "colorway": [
                      "#636efa",
                      "#EF553B",
                      "#00cc96",
                      "#ab63fa",
                      "#FFA15A",
                      "#19d3f3",
                      "#FF6692",
                      "#B6E880",
                      "#FF97FF",
                      "#FECB52"
                    ],
                    "font": {
                      "color": "#2a3f5f"
                    },
                    "geo": {
                      "bgcolor": "white",
                      "lakecolor": "white",
                      "landcolor": "#E5ECF6",
                      "showlakes": true,
                      "showland": true,
                      "subunitcolor": "white"
                    },
                    "hoverlabel": {
                      "align": "left"
                    },
                    "hovermode": "closest",
                    "mapbox": {
                      "style": "light"
                    },
                    "paper_bgcolor": "white",
                    "plot_bgcolor": "#E5ECF6",
                    "polar": {
                      "angularaxis": {
                        "gridcolor": "white",
                        "linecolor": "white",
                        "ticks": ""
                      },
                      "bgcolor": "#E5ECF6",
                      "radialaxis": {
                        "gridcolor": "white",
                        "linecolor": "white",
                        "ticks": ""
                      }
                    },
                    "scene": {
                      "xaxis": {
                        "backgroundcolor": "#E5ECF6",
                        "gridcolor": "white",
                        "gridwidth": 2,
                        "linecolor": "white",
                        "showbackground": true,
                        "ticks": "",
                        "zerolinecolor": "white"
                      },
                      "yaxis": {
                        "backgroundcolor": "#E5ECF6",
                        "gridcolor": "white",
                        "gridwidth": 2,
                        "linecolor": "white",
                        "showbackground": true,
                        "ticks": "",
                        "zerolinecolor": "white"
                      },
                      "zaxis": {
                        "backgroundcolor": "#E5ECF6",
                        "gridcolor": "white",
                        "gridwidth": 2,
                        "linecolor": "white",
                        "showbackground": true,
                        "ticks": "",
                        "zerolinecolor": "white"
                      }
                    },
                    "shapedefaults": {
                      "line": {
                        "color": "#2a3f5f"
                      }
                    },
                    "ternary": {
                      "aaxis": {
                        "gridcolor": "white",
                        "linecolor": "white",
                        "ticks": ""
                      },
                      "baxis": {
                        "gridcolor": "white",
                        "linecolor": "white",
                        "ticks": ""
                      },
                      "bgcolor": "#E5ECF6",
                      "caxis": {
                        "gridcolor": "white",
                        "linecolor": "white",
                        "ticks": ""
                      }
                    },
                    "title": {
                      "x": 0.05
                    },
                    "xaxis": {
                      "automargin": true,
                      "gridcolor": "white",
                      "linecolor": "white",
                      "ticks": "",
                      "title": {
                        "standoff": 15
                      },
                      "zerolinecolor": "white",
                      "zerolinewidth": 2
                    },
                    "yaxis": {
                      "automargin": true,
                      "gridcolor": "white",
                      "linecolor": "white",
                      "ticks": "",
                      "title": {
                        "standoff": 15
                      },
                      "zerolinecolor": "white",
                      "zerolinewidth": 2
                    }
                  }
                },
                "title": {
                  "text": "Total de unidades vendidas por dia en diferentes meses"
                },
                "xaxis": {
                  "tickvals": [
                    0,
                    1,
                    2,
                    3,
                    4,
                    5,
                    6,
                    7,
                    8,
                    9,
                    10,
                    11,
                    12,
                    13,
                    14,
                    15,
                    16,
                    17,
                    18,
                    19,
                    20,
                    21,
                    22,
                    23
                  ],
                  "title": {
                    "text": "Hora"
                  }
                },
                "yaxis": {
                  "side": "left",
                  "title": {
                    "text": "Unidades vendidas"
                  }
                }
              }
            }
          },
          "metadata": {},
          "output_type": "display_data"
        }
      ],
      "source": [
        "# Crear un objeto figura para el gráfico\n",
        "fig = go.Figure()\n",
        "\n",
        "# Iterar sobre la lista de datos y agregar cada mes al objeto figura 'fig'\n",
        "fig.add_trace(go.Scatter(\n",
        "    x=dias_semana,  # Eje X: Horas del día\n",
        "    y=total_pordia_pormes,  # Eje Y: Datos de ventas por hora para este mes\n",
        "    mode='lines+markers',  # Tipo de gráfico: líneas\n",
        "    name=mes,  # Etiqueta para la leyenda del gráfico\n",
        "    line=dict(width=2, shape='spline'),  # Configuración de las líneas del gráfico\n",
        "    marker=dict(size=10)  # Configuración de las marcas del gráfico\n",
        "))\n",
        "\n",
        "# Configurar los ejes y los títulos del gráfico\n",
        "fig.update_layout(\n",
        "    title=\"Total de unidades vendidas por dia en diferentes meses\",  # Título del gráfico\n",
        "    xaxis=dict(title=\"Hora\", tickvals=Horas),  # Configuración del eje X\n",
        "    yaxis=dict(title=\"Unidades vendidas\", side=\"left\"),  # Configuración del eje Y\n",
        "    legend=dict(y=0.3, yanchor='bottom'),  # Configuración de la leyenda\n",
        ")\n",
        "\n",
        "# Mostrar el gráfico\n",
        "fig.show()"
      ]
    },
    {
      "cell_type": "markdown",
      "metadata": {},
      "source": [
        "¿Se observa alguna diferencia significativa en las ventas entre los días laborables y\n",
        "los fines de semana?"
      ]
    },
    {
      "cell_type": "code",
      "execution_count": 149,
      "metadata": {},
      "outputs": [
        {
          "data": {
            "application/vnd.plotly.v1+json": {
              "config": {
                "plotlyServerURL": "https://plot.ly"
              },
              "data": [
                {
                  "domain": {
                    "x": [
                      0,
                      0.45
                    ],
                    "y": [
                      0,
                      1
                    ]
                  },
                  "labels": [
                    "Dias de semana",
                    "Fin de semana"
                  ],
                  "marker": {
                    "colors": [
                      "#ff9999",
                      "#66b3ff"
                    ]
                  },
                  "pull": [
                    0,
                    0.1
                  ],
                  "textinfo": "label+percent",
                  "type": "pie",
                  "values": [
                    132298,
                    53652
                  ]
                },
                {
                  "domain": {
                    "x": [
                      0.55,
                      1
                    ],
                    "y": [
                      0,
                      1
                    ]
                  },
                  "labels": [
                    "Lunes",
                    "Martes",
                    "Miércoles",
                    "Jueves",
                    "Viernes",
                    "Sábado",
                    "Domingo"
                  ],
                  "marker": {
                    "colors": [
                      "#ff9999",
                      "#ff9999",
                      "#ff9999",
                      "#ff9999",
                      "#ff9999",
                      "#66b3ff",
                      "#66b3ff"
                    ]
                  },
                  "pull": [
                    0,
                    0,
                    0,
                    0,
                    0,
                    0.1,
                    0
                  ],
                  "textinfo": "label+percent",
                  "type": "pie",
                  "values": [
                    26247,
                    26547,
                    26492,
                    26551,
                    26461,
                    27175,
                    26477
                  ]
                }
              ],
              "layout": {
                "template": {
                  "data": {
                    "bar": [
                      {
                        "error_x": {
                          "color": "#2a3f5f"
                        },
                        "error_y": {
                          "color": "#2a3f5f"
                        },
                        "marker": {
                          "line": {
                            "color": "#E5ECF6",
                            "width": 0.5
                          },
                          "pattern": {
                            "fillmode": "overlay",
                            "size": 10,
                            "solidity": 0.2
                          }
                        },
                        "type": "bar"
                      }
                    ],
                    "barpolar": [
                      {
                        "marker": {
                          "line": {
                            "color": "#E5ECF6",
                            "width": 0.5
                          },
                          "pattern": {
                            "fillmode": "overlay",
                            "size": 10,
                            "solidity": 0.2
                          }
                        },
                        "type": "barpolar"
                      }
                    ],
                    "carpet": [
                      {
                        "aaxis": {
                          "endlinecolor": "#2a3f5f",
                          "gridcolor": "white",
                          "linecolor": "white",
                          "minorgridcolor": "white",
                          "startlinecolor": "#2a3f5f"
                        },
                        "baxis": {
                          "endlinecolor": "#2a3f5f",
                          "gridcolor": "white",
                          "linecolor": "white",
                          "minorgridcolor": "white",
                          "startlinecolor": "#2a3f5f"
                        },
                        "type": "carpet"
                      }
                    ],
                    "choropleth": [
                      {
                        "colorbar": {
                          "outlinewidth": 0,
                          "ticks": ""
                        },
                        "type": "choropleth"
                      }
                    ],
                    "contour": [
                      {
                        "colorbar": {
                          "outlinewidth": 0,
                          "ticks": ""
                        },
                        "colorscale": [
                          [
                            0,
                            "#0d0887"
                          ],
                          [
                            0.1111111111111111,
                            "#46039f"
                          ],
                          [
                            0.2222222222222222,
                            "#7201a8"
                          ],
                          [
                            0.3333333333333333,
                            "#9c179e"
                          ],
                          [
                            0.4444444444444444,
                            "#bd3786"
                          ],
                          [
                            0.5555555555555556,
                            "#d8576b"
                          ],
                          [
                            0.6666666666666666,
                            "#ed7953"
                          ],
                          [
                            0.7777777777777778,
                            "#fb9f3a"
                          ],
                          [
                            0.8888888888888888,
                            "#fdca26"
                          ],
                          [
                            1,
                            "#f0f921"
                          ]
                        ],
                        "type": "contour"
                      }
                    ],
                    "contourcarpet": [
                      {
                        "colorbar": {
                          "outlinewidth": 0,
                          "ticks": ""
                        },
                        "type": "contourcarpet"
                      }
                    ],
                    "heatmap": [
                      {
                        "colorbar": {
                          "outlinewidth": 0,
                          "ticks": ""
                        },
                        "colorscale": [
                          [
                            0,
                            "#0d0887"
                          ],
                          [
                            0.1111111111111111,
                            "#46039f"
                          ],
                          [
                            0.2222222222222222,
                            "#7201a8"
                          ],
                          [
                            0.3333333333333333,
                            "#9c179e"
                          ],
                          [
                            0.4444444444444444,
                            "#bd3786"
                          ],
                          [
                            0.5555555555555556,
                            "#d8576b"
                          ],
                          [
                            0.6666666666666666,
                            "#ed7953"
                          ],
                          [
                            0.7777777777777778,
                            "#fb9f3a"
                          ],
                          [
                            0.8888888888888888,
                            "#fdca26"
                          ],
                          [
                            1,
                            "#f0f921"
                          ]
                        ],
                        "type": "heatmap"
                      }
                    ],
                    "heatmapgl": [
                      {
                        "colorbar": {
                          "outlinewidth": 0,
                          "ticks": ""
                        },
                        "colorscale": [
                          [
                            0,
                            "#0d0887"
                          ],
                          [
                            0.1111111111111111,
                            "#46039f"
                          ],
                          [
                            0.2222222222222222,
                            "#7201a8"
                          ],
                          [
                            0.3333333333333333,
                            "#9c179e"
                          ],
                          [
                            0.4444444444444444,
                            "#bd3786"
                          ],
                          [
                            0.5555555555555556,
                            "#d8576b"
                          ],
                          [
                            0.6666666666666666,
                            "#ed7953"
                          ],
                          [
                            0.7777777777777778,
                            "#fb9f3a"
                          ],
                          [
                            0.8888888888888888,
                            "#fdca26"
                          ],
                          [
                            1,
                            "#f0f921"
                          ]
                        ],
                        "type": "heatmapgl"
                      }
                    ],
                    "histogram": [
                      {
                        "marker": {
                          "pattern": {
                            "fillmode": "overlay",
                            "size": 10,
                            "solidity": 0.2
                          }
                        },
                        "type": "histogram"
                      }
                    ],
                    "histogram2d": [
                      {
                        "colorbar": {
                          "outlinewidth": 0,
                          "ticks": ""
                        },
                        "colorscale": [
                          [
                            0,
                            "#0d0887"
                          ],
                          [
                            0.1111111111111111,
                            "#46039f"
                          ],
                          [
                            0.2222222222222222,
                            "#7201a8"
                          ],
                          [
                            0.3333333333333333,
                            "#9c179e"
                          ],
                          [
                            0.4444444444444444,
                            "#bd3786"
                          ],
                          [
                            0.5555555555555556,
                            "#d8576b"
                          ],
                          [
                            0.6666666666666666,
                            "#ed7953"
                          ],
                          [
                            0.7777777777777778,
                            "#fb9f3a"
                          ],
                          [
                            0.8888888888888888,
                            "#fdca26"
                          ],
                          [
                            1,
                            "#f0f921"
                          ]
                        ],
                        "type": "histogram2d"
                      }
                    ],
                    "histogram2dcontour": [
                      {
                        "colorbar": {
                          "outlinewidth": 0,
                          "ticks": ""
                        },
                        "colorscale": [
                          [
                            0,
                            "#0d0887"
                          ],
                          [
                            0.1111111111111111,
                            "#46039f"
                          ],
                          [
                            0.2222222222222222,
                            "#7201a8"
                          ],
                          [
                            0.3333333333333333,
                            "#9c179e"
                          ],
                          [
                            0.4444444444444444,
                            "#bd3786"
                          ],
                          [
                            0.5555555555555556,
                            "#d8576b"
                          ],
                          [
                            0.6666666666666666,
                            "#ed7953"
                          ],
                          [
                            0.7777777777777778,
                            "#fb9f3a"
                          ],
                          [
                            0.8888888888888888,
                            "#fdca26"
                          ],
                          [
                            1,
                            "#f0f921"
                          ]
                        ],
                        "type": "histogram2dcontour"
                      }
                    ],
                    "mesh3d": [
                      {
                        "colorbar": {
                          "outlinewidth": 0,
                          "ticks": ""
                        },
                        "type": "mesh3d"
                      }
                    ],
                    "parcoords": [
                      {
                        "line": {
                          "colorbar": {
                            "outlinewidth": 0,
                            "ticks": ""
                          }
                        },
                        "type": "parcoords"
                      }
                    ],
                    "pie": [
                      {
                        "automargin": true,
                        "type": "pie"
                      }
                    ],
                    "scatter": [
                      {
                        "fillpattern": {
                          "fillmode": "overlay",
                          "size": 10,
                          "solidity": 0.2
                        },
                        "type": "scatter"
                      }
                    ],
                    "scatter3d": [
                      {
                        "line": {
                          "colorbar": {
                            "outlinewidth": 0,
                            "ticks": ""
                          }
                        },
                        "marker": {
                          "colorbar": {
                            "outlinewidth": 0,
                            "ticks": ""
                          }
                        },
                        "type": "scatter3d"
                      }
                    ],
                    "scattercarpet": [
                      {
                        "marker": {
                          "colorbar": {
                            "outlinewidth": 0,
                            "ticks": ""
                          }
                        },
                        "type": "scattercarpet"
                      }
                    ],
                    "scattergeo": [
                      {
                        "marker": {
                          "colorbar": {
                            "outlinewidth": 0,
                            "ticks": ""
                          }
                        },
                        "type": "scattergeo"
                      }
                    ],
                    "scattergl": [
                      {
                        "marker": {
                          "colorbar": {
                            "outlinewidth": 0,
                            "ticks": ""
                          }
                        },
                        "type": "scattergl"
                      }
                    ],
                    "scattermapbox": [
                      {
                        "marker": {
                          "colorbar": {
                            "outlinewidth": 0,
                            "ticks": ""
                          }
                        },
                        "type": "scattermapbox"
                      }
                    ],
                    "scatterpolar": [
                      {
                        "marker": {
                          "colorbar": {
                            "outlinewidth": 0,
                            "ticks": ""
                          }
                        },
                        "type": "scatterpolar"
                      }
                    ],
                    "scatterpolargl": [
                      {
                        "marker": {
                          "colorbar": {
                            "outlinewidth": 0,
                            "ticks": ""
                          }
                        },
                        "type": "scatterpolargl"
                      }
                    ],
                    "scatterternary": [
                      {
                        "marker": {
                          "colorbar": {
                            "outlinewidth": 0,
                            "ticks": ""
                          }
                        },
                        "type": "scatterternary"
                      }
                    ],
                    "surface": [
                      {
                        "colorbar": {
                          "outlinewidth": 0,
                          "ticks": ""
                        },
                        "colorscale": [
                          [
                            0,
                            "#0d0887"
                          ],
                          [
                            0.1111111111111111,
                            "#46039f"
                          ],
                          [
                            0.2222222222222222,
                            "#7201a8"
                          ],
                          [
                            0.3333333333333333,
                            "#9c179e"
                          ],
                          [
                            0.4444444444444444,
                            "#bd3786"
                          ],
                          [
                            0.5555555555555556,
                            "#d8576b"
                          ],
                          [
                            0.6666666666666666,
                            "#ed7953"
                          ],
                          [
                            0.7777777777777778,
                            "#fb9f3a"
                          ],
                          [
                            0.8888888888888888,
                            "#fdca26"
                          ],
                          [
                            1,
                            "#f0f921"
                          ]
                        ],
                        "type": "surface"
                      }
                    ],
                    "table": [
                      {
                        "cells": {
                          "fill": {
                            "color": "#EBF0F8"
                          },
                          "line": {
                            "color": "white"
                          }
                        },
                        "header": {
                          "fill": {
                            "color": "#C8D4E3"
                          },
                          "line": {
                            "color": "white"
                          }
                        },
                        "type": "table"
                      }
                    ]
                  },
                  "layout": {
                    "annotationdefaults": {
                      "arrowcolor": "#2a3f5f",
                      "arrowhead": 0,
                      "arrowwidth": 1
                    },
                    "autotypenumbers": "strict",
                    "coloraxis": {
                      "colorbar": {
                        "outlinewidth": 0,
                        "ticks": ""
                      }
                    },
                    "colorscale": {
                      "diverging": [
                        [
                          0,
                          "#8e0152"
                        ],
                        [
                          0.1,
                          "#c51b7d"
                        ],
                        [
                          0.2,
                          "#de77ae"
                        ],
                        [
                          0.3,
                          "#f1b6da"
                        ],
                        [
                          0.4,
                          "#fde0ef"
                        ],
                        [
                          0.5,
                          "#f7f7f7"
                        ],
                        [
                          0.6,
                          "#e6f5d0"
                        ],
                        [
                          0.7,
                          "#b8e186"
                        ],
                        [
                          0.8,
                          "#7fbc41"
                        ],
                        [
                          0.9,
                          "#4d9221"
                        ],
                        [
                          1,
                          "#276419"
                        ]
                      ],
                      "sequential": [
                        [
                          0,
                          "#0d0887"
                        ],
                        [
                          0.1111111111111111,
                          "#46039f"
                        ],
                        [
                          0.2222222222222222,
                          "#7201a8"
                        ],
                        [
                          0.3333333333333333,
                          "#9c179e"
                        ],
                        [
                          0.4444444444444444,
                          "#bd3786"
                        ],
                        [
                          0.5555555555555556,
                          "#d8576b"
                        ],
                        [
                          0.6666666666666666,
                          "#ed7953"
                        ],
                        [
                          0.7777777777777778,
                          "#fb9f3a"
                        ],
                        [
                          0.8888888888888888,
                          "#fdca26"
                        ],
                        [
                          1,
                          "#f0f921"
                        ]
                      ],
                      "sequentialminus": [
                        [
                          0,
                          "#0d0887"
                        ],
                        [
                          0.1111111111111111,
                          "#46039f"
                        ],
                        [
                          0.2222222222222222,
                          "#7201a8"
                        ],
                        [
                          0.3333333333333333,
                          "#9c179e"
                        ],
                        [
                          0.4444444444444444,
                          "#bd3786"
                        ],
                        [
                          0.5555555555555556,
                          "#d8576b"
                        ],
                        [
                          0.6666666666666666,
                          "#ed7953"
                        ],
                        [
                          0.7777777777777778,
                          "#fb9f3a"
                        ],
                        [
                          0.8888888888888888,
                          "#fdca26"
                        ],
                        [
                          1,
                          "#f0f921"
                        ]
                      ]
                    },
                    "colorway": [
                      "#636efa",
                      "#EF553B",
                      "#00cc96",
                      "#ab63fa",
                      "#FFA15A",
                      "#19d3f3",
                      "#FF6692",
                      "#B6E880",
                      "#FF97FF",
                      "#FECB52"
                    ],
                    "font": {
                      "color": "#2a3f5f"
                    },
                    "geo": {
                      "bgcolor": "white",
                      "lakecolor": "white",
                      "landcolor": "#E5ECF6",
                      "showlakes": true,
                      "showland": true,
                      "subunitcolor": "white"
                    },
                    "hoverlabel": {
                      "align": "left"
                    },
                    "hovermode": "closest",
                    "mapbox": {
                      "style": "light"
                    },
                    "paper_bgcolor": "white",
                    "plot_bgcolor": "#E5ECF6",
                    "polar": {
                      "angularaxis": {
                        "gridcolor": "white",
                        "linecolor": "white",
                        "ticks": ""
                      },
                      "bgcolor": "#E5ECF6",
                      "radialaxis": {
                        "gridcolor": "white",
                        "linecolor": "white",
                        "ticks": ""
                      }
                    },
                    "scene": {
                      "xaxis": {
                        "backgroundcolor": "#E5ECF6",
                        "gridcolor": "white",
                        "gridwidth": 2,
                        "linecolor": "white",
                        "showbackground": true,
                        "ticks": "",
                        "zerolinecolor": "white"
                      },
                      "yaxis": {
                        "backgroundcolor": "#E5ECF6",
                        "gridcolor": "white",
                        "gridwidth": 2,
                        "linecolor": "white",
                        "showbackground": true,
                        "ticks": "",
                        "zerolinecolor": "white"
                      },
                      "zaxis": {
                        "backgroundcolor": "#E5ECF6",
                        "gridcolor": "white",
                        "gridwidth": 2,
                        "linecolor": "white",
                        "showbackground": true,
                        "ticks": "",
                        "zerolinecolor": "white"
                      }
                    },
                    "shapedefaults": {
                      "line": {
                        "color": "#2a3f5f"
                      }
                    },
                    "ternary": {
                      "aaxis": {
                        "gridcolor": "white",
                        "linecolor": "white",
                        "ticks": ""
                      },
                      "baxis": {
                        "gridcolor": "white",
                        "linecolor": "white",
                        "ticks": ""
                      },
                      "bgcolor": "#E5ECF6",
                      "caxis": {
                        "gridcolor": "white",
                        "linecolor": "white",
                        "ticks": ""
                      }
                    },
                    "title": {
                      "x": 0.05
                    },
                    "xaxis": {
                      "automargin": true,
                      "gridcolor": "white",
                      "linecolor": "white",
                      "ticks": "",
                      "title": {
                        "standoff": 15
                      },
                      "zerolinecolor": "white",
                      "zerolinewidth": 2
                    },
                    "yaxis": {
                      "automargin": true,
                      "gridcolor": "white",
                      "linecolor": "white",
                      "ticks": "",
                      "title": {
                        "standoff": 15
                      },
                      "zerolinecolor": "white",
                      "zerolinewidth": 2
                    }
                  }
                },
                "title": {
                  "text": "Ventas en día de semana y fin de semana"
                }
              }
            }
          },
          "metadata": {},
          "output_type": "display_data"
        }
      ],
      "source": [
        "\n",
        "'''# Iterar sobre la lista de datos y agregar cada mes al objeto figura 'fig'\n",
        "fig.add_trace(go.Pie(\n",
        "    x=dias_semana,  # Eje X: Horas del día\n",
        "    y=total_pordia_pormes,  # Eje Y: Datos de ventas por hora para este mes\n",
        "    mode='line',  # Tipo de gráfico: líneas\n",
        "    name=mes,  # Etiqueta para la leyenda del gráfico\n",
        "    line=dict(width=2, shape='spline'),  # Configuración de las líneas del gráfico\n",
        "))'''\n",
        "\n",
        "total_dias_semana = 0\n",
        "total_dias_finsemana = 0\n",
        "\n",
        "for i, dia in enumerate(dias_semana):\n",
        "    if dia != 'Sábado' and dia != 'Domingo':\n",
        "        total_dias_semana += total_pordia_pormes[i]\n",
        "    else:\n",
        "        total_dias_finsemana  += total_pordia_pormes[i]\n",
        "\n",
        "fig = make_subplots(\n",
        "    rows=1, cols=2,\n",
        "    specs=[[{\"type\": \"pie\"}, {\"type\": \"pie\"}],\n",
        "           ],\n",
        ")\n",
        "\n",
        "fig.add_trace(\n",
        "    go.Pie(\n",
        "        labels=['Dias de semana', 'Fin de semana'],\n",
        "        values=[total_dias_semana,total_dias_finsemana],\n",
        "        textinfo='label+percent', #etiquetas dentro del gráfico\n",
        "        pull=[0, 0.1],  # Separa el segundo segmento\n",
        "        marker=dict(colors=['#ff9999', '#66b3ff']),  #Colores\n",
        "    \n",
        "), row = 1, col=1)\n",
        "\n",
        "fig.add_trace(\n",
        "    go.Pie(\n",
        "        labels= dias_semana,\n",
        "        values= total_pordia_pormes,\n",
        "        textinfo='label+percent', #etiquetas dentro del gráfico\n",
        "        pull=[0, 0, 0, 0, 0, 0.1, 0],  # Separa el segundo segmento\n",
        "        marker=dict(colors=['#ff9999','#ff9999','#ff9999','#ff9999','#ff9999', '#66b3ff', '#66b3ff']),  #Colores\n",
        "    \n",
        "), row = 1, col=2)\n",
        "\n",
        "# Configurar los ejes y los títulos del gráfico\n",
        "fig.update_layout(\n",
        "    title=\"Ventas en día de semana y fin de semana\",  # Título del gráfico\n",
        ")\n",
        "\n",
        "# Mostrar el gráfico\n",
        "fig.show()\n"
      ]
    },
    {
      "cell_type": "code",
      "execution_count": 150,
      "metadata": {},
      "outputs": [
        {
          "data": {
            "text/plain": [
              "array([26247, 26547, 26492, 26551, 26461, 27175, 26477])"
            ]
          },
          "execution_count": 150,
          "metadata": {},
          "output_type": "execute_result"
        }
      ],
      "source": [
        "total_pordia_pormes"
      ]
    },
    {
      "cell_type": "markdown",
      "metadata": {},
      "source": [
        "# 6. Impacto de eventos especiales en las ventas:"
      ]
    },
    {
      "cell_type": "markdown",
      "metadata": {},
      "source": [
        "* ¿Se ha observado algún aumento o disminución significativa en las ventas en días\n",
        "cercanos a eventos especiales, como días festivos?"
      ]
    },
    {
      "cell_type": "code",
      "execution_count": 191,
      "metadata": {},
      "outputs": [
        {
          "name": "stdout",
          "output_type": "stream",
          "text": [
            "     ID de Pedido                    Producto  Cantidad Pedida  \\\n",
            "8          141242  Bose SoundSport Headphones                1   \n",
            "26         141260      AAA Batteries (4-pack)                1   \n",
            "31         141265    Apple Airpods Headphones                1   \n",
            "84         141316      AAA Batteries (4-pack)                3   \n",
            "87         141319  Bose SoundSport Headphones                1   \n",
            "...           ...                         ...              ...   \n",
            "9552       150335                      iPhone                1   \n",
            "9553       150335    Apple Airpods Headphones                1   \n",
            "9585       150367    Lightning Charging Cable                1   \n",
            "9611       150393    Lightning Charging Cable                1   \n",
            "9612       150394      AAA Batteries (4-pack)                1   \n",
            "\n",
            "      Precio Unitario     Fecha de Pedido  \\\n",
            "8               99.99 2019-01-01 10:30:00   \n",
            "26               2.99 2019-01-01 22:00:00   \n",
            "31             150.00 2019-01-01 16:52:00   \n",
            "84               2.99 2019-01-01 07:26:00   \n",
            "87              99.99 2019-01-01 10:43:00   \n",
            "...               ...                 ...   \n",
            "9552           700.00 2019-01-01 14:32:00   \n",
            "9553           150.00 2019-01-01 14:32:00   \n",
            "9585            14.95 2019-01-01 08:25:00   \n",
            "9611            14.95 2019-01-01 09:37:00   \n",
            "9612             2.99 2019-01-01 09:08:00   \n",
            "\n",
            "                         Dirección de Envio   total  Hora  Dia  mes   año  \\\n",
            "8      867 Willow St, Los Angeles, CA 90001   99.99    10    1    1  2019   \n",
            "26     293 Hill St, San Francisco, CA 94016    2.99    22    1    1  2019   \n",
            "31           853 Ridge St, Boston, MA 02215  150.00    16    1    1  2019   \n",
            "84          235 South St, Seattle, WA 98101    8.97     7    1    1  2019   \n",
            "87           548 Maple St, Boston, MA 02215   99.99    10    1    1  2019   \n",
            "...                                     ...     ...   ...  ...  ...   ...   \n",
            "9552  956 Madison St, Los Angeles, CA 90001  700.00    14    1    1  2019   \n",
            "9553  956 Madison St, Los Angeles, CA 90001  150.00    14    1    1  2019   \n",
            "9585     576 West St, Los Angeles, CA 90001   14.95     8    1    1  2019   \n",
            "9611   215 12th St, New York City, NY 10001   14.95     9    1    1  2019   \n",
            "9612           714 6th St, Boston, MA 02215    2.99     9    1    1  2019   \n",
            "\n",
            "       strDia                                            dia-mes fecha_corta  \\\n",
            "8     Tuesday  0       22\\n1       28\\n2       17\\n3        5...  2019-01-01   \n",
            "26    Tuesday  0       22\\n1       28\\n2       17\\n3        5...  2019-01-01   \n",
            "31    Tuesday  0       22\\n1       28\\n2       17\\n3        5...  2019-01-01   \n",
            "84    Tuesday  0       22\\n1       28\\n2       17\\n3        5...  2019-01-01   \n",
            "87    Tuesday  0       22\\n1       28\\n2       17\\n3        5...  2019-01-01   \n",
            "...       ...                                                ...         ...   \n",
            "9552  Tuesday  0       22\\n1       28\\n2       17\\n3        5...  2019-01-01   \n",
            "9553  Tuesday  0       22\\n1       28\\n2       17\\n3        5...  2019-01-01   \n",
            "9585  Tuesday  0       22\\n1       28\\n2       17\\n3        5...  2019-01-01   \n",
            "9611  Tuesday  0       22\\n1       28\\n2       17\\n3        5...  2019-01-01   \n",
            "9612  Tuesday  0       22\\n1       28\\n2       17\\n3        5...  2019-01-01   \n",
            "\n",
            "     dia_mes  \n",
            "8      01-01  \n",
            "26     01-01  \n",
            "31     01-01  \n",
            "84     01-01  \n",
            "87     01-01  \n",
            "...      ...  \n",
            "9552   01-01  \n",
            "9553   01-01  \n",
            "9585   01-01  \n",
            "9611   01-01  \n",
            "9612   01-01  \n",
            "\n",
            "[302 rows x 15 columns]\n",
            "Empty DataFrame\n",
            "Columns: [ID de Pedido, Producto, Cantidad Pedida, Precio Unitario, Fecha de Pedido, Dirección de Envio, total, Hora, Dia, mes, año, strDia, dia-mes, fecha_corta, dia_mes]\n",
            "Index: []\n",
            "Empty DataFrame\n",
            "Columns: [ID de Pedido, Producto, Cantidad Pedida, Precio Unitario, Fecha de Pedido, Dirección de Envio, total, Hora, Dia, mes, año, strDia, dia-mes, fecha_corta, dia_mes]\n",
            "Index: []\n",
            "Empty DataFrame\n",
            "Columns: [ID de Pedido, Producto, Cantidad Pedida, Precio Unitario, Fecha de Pedido, Dirección de Envio, total, Hora, Dia, mes, año, strDia, dia-mes, fecha_corta, dia_mes]\n",
            "Index: []\n",
            "Empty DataFrame\n",
            "Columns: [ID de Pedido, Producto, Cantidad Pedida, Precio Unitario, Fecha de Pedido, Dirección de Envio, total, Hora, Dia, mes, año, strDia, dia-mes, fecha_corta, dia_mes]\n",
            "Index: []\n",
            "Empty DataFrame\n",
            "Columns: [ID de Pedido, Producto, Cantidad Pedida, Precio Unitario, Fecha de Pedido, Dirección de Envio, total, Hora, Dia, mes, año, strDia, dia-mes, fecha_corta, dia_mes]\n",
            "Index: []\n",
            "Empty DataFrame\n",
            "Columns: [ID de Pedido, Producto, Cantidad Pedida, Precio Unitario, Fecha de Pedido, Dirección de Envio, total, Hora, Dia, mes, año, strDia, dia-mes, fecha_corta, dia_mes]\n",
            "Index: []\n",
            "Empty DataFrame\n",
            "Columns: [ID de Pedido, Producto, Cantidad Pedida, Precio Unitario, Fecha de Pedido, Dirección de Envio, total, Hora, Dia, mes, año, strDia, dia-mes, fecha_corta, dia_mes]\n",
            "Index: []\n",
            "Empty DataFrame\n",
            "Columns: [ID de Pedido, Producto, Cantidad Pedida, Precio Unitario, Fecha de Pedido, Dirección de Envio, total, Hora, Dia, mes, año, strDia, dia-mes, fecha_corta, dia_mes]\n",
            "Index: []\n",
            "Empty DataFrame\n",
            "Columns: [ID de Pedido, Producto, Cantidad Pedida, Precio Unitario, Fecha de Pedido, Dirección de Envio, total, Hora, Dia, mes, año, strDia, dia-mes, fecha_corta, dia_mes]\n",
            "Index: []\n",
            "Empty DataFrame\n",
            "Columns: [ID de Pedido, Producto, Cantidad Pedida, Precio Unitario, Fecha de Pedido, Dirección de Envio, total, Hora, Dia, mes, año, strDia, dia-mes, fecha_corta, dia_mes]\n",
            "Index: []\n",
            "      ID de Pedido                    Producto  Cantidad Pedida  \\\n",
            "1563        297150    Lightning Charging Cable                1   \n",
            "2265        297817                      iPhone                1   \n",
            "2266        297817    Lightning Charging Cable                2   \n",
            "2425        297969                Google Phone                1   \n",
            "2806        298344            Wired Headphones                4   \n",
            "3553        299049    Apple Airpods Headphones                1   \n",
            "3633        299125        USB-C Charging Cable                1   \n",
            "4941        300362        USB-C Charging Cable                1   \n",
            "5103        300519  Bose SoundSport Headphones                1   \n",
            "5104        300519    Lightning Charging Cable                1   \n",
            "5355        300759                20in Monitor                1   \n",
            "7048        302393    Lightning Charging Cable                1   \n",
            "8914        304165      AAA Batteries (4-pack)                1   \n",
            "10350       305538    Apple Airpods Headphones                1   \n",
            "10667       305840  Bose SoundSport Headphones                1   \n",
            "11520       306655             ThinkPad Laptop                1   \n",
            "11686       306809          Macbook Pro Laptop                1   \n",
            "11813       306928             ThinkPad Laptop                1   \n",
            "12809       307890    Lightning Charging Cable                1   \n",
            "13118       308185            27in FHD Monitor                1   \n",
            "13262       308322  Bose SoundSport Headphones                1   \n",
            "15087       310074    Apple Airpods Headphones                1   \n",
            "16445       311386                      iPhone                1   \n",
            "16446       311386    Apple Airpods Headphones                1   \n",
            "17104       312012            27in FHD Monitor                1   \n",
            "17942       312812               Flatscreen TV                1   \n",
            "19259       314066        USB-C Charging Cable                1   \n",
            "19764       314552      AAA Batteries (4-pack)                1   \n",
            "20380       315138      AAA Batteries (4-pack)                3   \n",
            "20565       315315      27in 4K Gaming Monitor                1   \n",
            "22160       316833             Vareebadd Phone                1   \n",
            "22195       316867            27in FHD Monitor                1   \n",
            "24742       319308        USB-C Charging Cable                1   \n",
            "24804       319366                20in Monitor                2   \n",
            "\n",
            "       Precio Unitario     Fecha de Pedido  \\\n",
            "1563             14.95 2020-01-01 00:38:00   \n",
            "2265            700.00 2020-01-01 00:22:00   \n",
            "2266             14.95 2020-01-01 00:22:00   \n",
            "2425            600.00 2020-01-01 00:54:00   \n",
            "2806             11.99 2020-01-01 03:34:00   \n",
            "3553            150.00 2020-01-01 01:17:00   \n",
            "3633             11.95 2020-01-01 04:21:00   \n",
            "4941             11.95 2020-01-01 00:59:00   \n",
            "5103             99.99 2020-01-01 05:13:00   \n",
            "5104             14.95 2020-01-01 05:13:00   \n",
            "5355            109.99 2020-01-01 00:14:00   \n",
            "7048             14.95 2020-01-01 00:14:00   \n",
            "8914              2.99 2020-01-01 04:13:00   \n",
            "10350           150.00 2020-01-01 01:00:00   \n",
            "10667            99.99 2020-01-01 04:54:00   \n",
            "11520           999.99 2020-01-01 01:46:00   \n",
            "11686          1700.00 2020-01-01 02:20:00   \n",
            "11813           999.99 2020-01-01 03:14:00   \n",
            "12809            14.95 2020-01-01 02:06:00   \n",
            "13118           149.99 2020-01-01 04:06:00   \n",
            "13262            99.99 2020-01-01 00:24:00   \n",
            "15087           150.00 2020-01-01 01:46:00   \n",
            "16445           700.00 2020-01-01 00:10:00   \n",
            "16446           150.00 2020-01-01 00:10:00   \n",
            "17104           149.99 2020-01-01 02:12:00   \n",
            "17942           300.00 2020-01-01 01:56:00   \n",
            "19259            11.95 2020-01-01 01:52:00   \n",
            "19764             2.99 2020-01-01 01:47:00   \n",
            "20380             2.99 2020-01-01 00:51:00   \n",
            "20565           389.99 2020-01-01 01:22:00   \n",
            "22160           400.00 2020-01-01 02:58:00   \n",
            "22195           149.99 2020-01-01 01:05:00   \n",
            "24742            11.95 2020-01-01 03:13:00   \n",
            "24804           109.99 2020-01-01 00:45:00   \n",
            "\n",
            "                             Dirección de Envio    total  Hora  Dia  mes  \\\n",
            "1563            427 Wilson St, Dallas, TX 75001    14.95     0    1    1   \n",
            "2265       519 13th St, New York City, NY 10001   700.00     0    1    1   \n",
            "2266       519 13th St, New York City, NY 10001    29.90     0    1    1   \n",
            "2425        542 2nd St, San Francisco, CA 94016   600.00     0    1    1   \n",
            "2806        731 7th St, New York City, NY 10001    47.96     3    1    1   \n",
            "3553    762 Johnson St, San Francisco, CA 94016   150.00     1    1    1   \n",
            "3633    754 Hickory St, New York City, NY 10001    11.95     4    1    1   \n",
            "4941      581 River St, San Francisco, CA 94016    11.95     0    1    1   \n",
            "5103     657 Spruce St, New York City, NY 10001    99.99     5    1    1   \n",
            "5104     657 Spruce St, New York City, NY 10001    14.95     5    1    1   \n",
            "5355               193 5th St, Austin, TX 73301   109.99     0    1    1   \n",
            "7048         108 Jefferson St, Boston, MA 02215    14.95     0    1    1   \n",
            "8914           825 Adams St, Portland, OR 97035     2.99     4    1    1   \n",
            "10350            693 1st St, Portland, OR 97035   150.00     1    1    1   \n",
            "10667     784 River St, San Francisco, CA 94016    99.99     4    1    1   \n",
            "11520     431 Hickory St, Los Angeles, CA 90001   999.99     1    1    1   \n",
            "11686             326 14th St, Dallas, TX 75001  1700.00     2    1    1   \n",
            "11813              762 Elm St, Boston, MA 02215   999.99     3    1    1   \n",
            "12809       39 Pine St, New York City, NY 10001    14.95     2    1    1   \n",
            "13118     202 Maple St, San Francisco, CA 94016   149.99     4    1    1   \n",
            "13262    362 Willow St, San Francisco, CA 94016    99.99     0    1    1   \n",
            "15087  636 Lakeview St, San Francisco, CA 94016   150.00     1    1    1   \n",
            "16445      730 Pine St, San Francisco, CA 94016   700.00     0    1    1   \n",
            "16446      730 Pine St, San Francisco, CA 94016   150.00     0    1    1   \n",
            "17104      507 13th St, San Francisco, CA 94016   149.99     2    1    1   \n",
            "17942              129 6th St, Boston, MA 02215   300.00     1    1    1   \n",
            "19259       922 8th St, New York City, NY 10001    11.95     1    1    1   \n",
            "19764       541 4th St, San Francisco, CA 94016     2.99     1    1    1   \n",
            "20380     257 Adams St, New York City, NY 10001     8.97     0    1    1   \n",
            "20565            552 North St, Austin, TX 73301   389.99     1    1    1   \n",
            "22160       378 Elm St, New York City, NY 10001   400.00     2    1    1   \n",
            "22195         137 Madison St, Seattle, WA 98101   149.99     1    1    1   \n",
            "24742              135 8th St, Boston, MA 02215    11.95     3    1    1   \n",
            "24804     746 South St, San Francisco, CA 94016   219.98     0    1    1   \n",
            "\n",
            "        año     strDia                                            dia-mes  \\\n",
            "1563   2020  Wednesday  0        30\\n1        29\\n2        12\\n3      ...   \n",
            "2265   2020  Wednesday  0        30\\n1        29\\n2        12\\n3      ...   \n",
            "2266   2020  Wednesday  0        30\\n1        29\\n2        12\\n3      ...   \n",
            "2425   2020  Wednesday  0        30\\n1        29\\n2        12\\n3      ...   \n",
            "2806   2020  Wednesday  0        30\\n1        29\\n2        12\\n3      ...   \n",
            "3553   2020  Wednesday  0        30\\n1        29\\n2        12\\n3      ...   \n",
            "3633   2020  Wednesday  0        30\\n1        29\\n2        12\\n3      ...   \n",
            "4941   2020  Wednesday  0        30\\n1        29\\n2        12\\n3      ...   \n",
            "5103   2020  Wednesday  0        30\\n1        29\\n2        12\\n3      ...   \n",
            "5104   2020  Wednesday  0        30\\n1        29\\n2        12\\n3      ...   \n",
            "5355   2020  Wednesday  0        30\\n1        29\\n2        12\\n3      ...   \n",
            "7048   2020  Wednesday  0        30\\n1        29\\n2        12\\n3      ...   \n",
            "8914   2020  Wednesday  0        30\\n1        29\\n2        12\\n3      ...   \n",
            "10350  2020  Wednesday  0        30\\n1        29\\n2        12\\n3      ...   \n",
            "10667  2020  Wednesday  0        30\\n1        29\\n2        12\\n3      ...   \n",
            "11520  2020  Wednesday  0        30\\n1        29\\n2        12\\n3      ...   \n",
            "11686  2020  Wednesday  0        30\\n1        29\\n2        12\\n3      ...   \n",
            "11813  2020  Wednesday  0        30\\n1        29\\n2        12\\n3      ...   \n",
            "12809  2020  Wednesday  0        30\\n1        29\\n2        12\\n3      ...   \n",
            "13118  2020  Wednesday  0        30\\n1        29\\n2        12\\n3      ...   \n",
            "13262  2020  Wednesday  0        30\\n1        29\\n2        12\\n3      ...   \n",
            "15087  2020  Wednesday  0        30\\n1        29\\n2        12\\n3      ...   \n",
            "16445  2020  Wednesday  0        30\\n1        29\\n2        12\\n3      ...   \n",
            "16446  2020  Wednesday  0        30\\n1        29\\n2        12\\n3      ...   \n",
            "17104  2020  Wednesday  0        30\\n1        29\\n2        12\\n3      ...   \n",
            "17942  2020  Wednesday  0        30\\n1        29\\n2        12\\n3      ...   \n",
            "19259  2020  Wednesday  0        30\\n1        29\\n2        12\\n3      ...   \n",
            "19764  2020  Wednesday  0        30\\n1        29\\n2        12\\n3      ...   \n",
            "20380  2020  Wednesday  0        30\\n1        29\\n2        12\\n3      ...   \n",
            "20565  2020  Wednesday  0        30\\n1        29\\n2        12\\n3      ...   \n",
            "22160  2020  Wednesday  0        30\\n1        29\\n2        12\\n3      ...   \n",
            "22195  2020  Wednesday  0        30\\n1        29\\n2        12\\n3      ...   \n",
            "24742  2020  Wednesday  0        30\\n1        29\\n2        12\\n3      ...   \n",
            "24804  2020  Wednesday  0        30\\n1        29\\n2        12\\n3      ...   \n",
            "\n",
            "      fecha_corta dia_mes  \n",
            "1563   2020-01-01   01-01  \n",
            "2265   2020-01-01   01-01  \n",
            "2266   2020-01-01   01-01  \n",
            "2425   2020-01-01   01-01  \n",
            "2806   2020-01-01   01-01  \n",
            "3553   2020-01-01   01-01  \n",
            "3633   2020-01-01   01-01  \n",
            "4941   2020-01-01   01-01  \n",
            "5103   2020-01-01   01-01  \n",
            "5104   2020-01-01   01-01  \n",
            "5355   2020-01-01   01-01  \n",
            "7048   2020-01-01   01-01  \n",
            "8914   2020-01-01   01-01  \n",
            "10350  2020-01-01   01-01  \n",
            "10667  2020-01-01   01-01  \n",
            "11520  2020-01-01   01-01  \n",
            "11686  2020-01-01   01-01  \n",
            "11813  2020-01-01   01-01  \n",
            "12809  2020-01-01   01-01  \n",
            "13118  2020-01-01   01-01  \n",
            "13262  2020-01-01   01-01  \n",
            "15087  2020-01-01   01-01  \n",
            "16445  2020-01-01   01-01  \n",
            "16446  2020-01-01   01-01  \n",
            "17104  2020-01-01   01-01  \n",
            "17942  2020-01-01   01-01  \n",
            "19259  2020-01-01   01-01  \n",
            "19764  2020-01-01   01-01  \n",
            "20380  2020-01-01   01-01  \n",
            "20565  2020-01-01   01-01  \n",
            "22160  2020-01-01   01-01  \n",
            "22195  2020-01-01   01-01  \n",
            "24742  2020-01-01   01-01  \n",
            "24804  2020-01-01   01-01  \n"
          ]
        },
        {
          "data": {
            "text/plain": [
              "pandas.core.frame.DataFrame"
            ]
          },
          "execution_count": 191,
          "metadata": {},
          "output_type": "execute_result"
        }
      ],
      "source": [
        "\n",
        "dias_festivos= ['1','25','20', '9', '20', '25']\n",
        "mes_festivos = ['1','5', '6', '7', '7', '12']\n",
        "detalle_dias_festivos = ['Año Nuevo','Día de la Revolución de Mayo','Día de la Bandera', 'Día de la Independencia', 'Dia del amigo', 'Navidad']\n",
        "\n",
        "#dataframe_mes\n",
        "#dias_festivos\n",
        "ventas_por_dia_festivo = pd.DataFrame\n",
        "suma = pd.DataFrame\n",
        "# Iterar a través de cada mes en la lista 'meses'\n",
        "for mes in meses:\n",
        "    # Obtener el DataFrame correspondiente al mes\n",
        "    dataframe_mes = dataframes[mes]\n",
        "    \n",
        "    # Realizar algún procesamiento de datos específico (reemplaza con tu propio procesamiento)\n",
        "    dataframe_mes = extraer_datos(dataframe_mes)  # Reemplaza esto con el procesamiento que necesites\n",
        "    \n",
        "\n",
        "    # Crea una nueva columna que contenga solo el día y el mes\n",
        "    dataframe_mes['dia_mes'] = dataframe_mes['Fecha de Pedido'].dt.strftime('%d-%m')\n",
        "\n",
        "    # Ahora puedes filtrar las fechas por día y mes\n",
        "    dia = '01'\n",
        "    mes = '01'\n",
        "\n",
        "    resultados = dataframe_mes[dataframe_mes['dia_mes'] == f'{dia}-{mes}']\n",
        "\n",
        "    # Muestra los resultados\n",
        "    print(resultados)\n",
        "#for mes in meses:\n",
        "    #ventas_en_dias_festivos = pd.merge(dataframe_mes[mes], dias_festivos, on=\"Dia\")\n",
        "#ventas_en_dias_festivos\n",
        "suma"
      ]
    },
    {
      "cell_type": "markdown",
      "metadata": {},
      "source": [
        "* ¿Qué eventos específicos han tenido un impacto notable en el comportamiento de\n",
        "las ventas y cómo se manifestó ese impacto?"
      ]
    }
  ],
  "metadata": {
    "colab": {
      "include_colab_link": true,
      "provenance": []
    },
    "kernelspec": {
      "display_name": "Python 3",
      "name": "python3"
    },
    "language_info": {
      "codemirror_mode": {
        "name": "ipython",
        "version": 3
      },
      "file_extension": ".py",
      "mimetype": "text/x-python",
      "name": "python",
      "nbconvert_exporter": "python",
      "pygments_lexer": "ipython3",
      "version": "3.7.9"
    }
  },
  "nbformat": 4,
  "nbformat_minor": 0
}
