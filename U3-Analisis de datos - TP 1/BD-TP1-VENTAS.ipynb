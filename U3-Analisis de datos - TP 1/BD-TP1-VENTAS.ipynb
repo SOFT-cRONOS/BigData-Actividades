{
  "cells": [
    {
      "cell_type": "markdown",
      "metadata": {
        "colab_type": "text",
        "id": "view-in-github"
      },
      "source": [
        "<a href=\"https://colab.research.google.com/github/SOFT-cRONOS/BigData-Actividades/blob/main/U3-Analisis%20de%20datos%20-%20TP%201/BD-TP1-VENTAS.ipynb\" target=\"_parent\"><img src=\"https://colab.research.google.com/assets/colab-badge.svg\" alt=\"Open In Colab\"/></a>"
      ]
    },
    {
      "cell_type": "markdown",
      "metadata": {
        "id": "YLSb9WzdBMte"
      },
      "source": [
        "# Lectura y armado de arreglo para el dataframe"
      ]
    },
    {
      "cell_type": "code",
      "execution_count": 65,
      "metadata": {
        "id": "-StCJ4BqnBKW"
      },
      "outputs": [
        {
          "data": {
            "text/plain": [
              "'! pip install plotly\\n! pip install numpy\\n! pip install pandas\\n! pip install nbformat --upgrade'"
            ]
          },
          "execution_count": 65,
          "metadata": {},
          "output_type": "execute_result"
        }
      ],
      "source": [
        "'''! pip install plotly\n",
        "! pip install numpy\n",
        "! pip install pandas\n",
        "! pip install nbformat --upgrade'''"
      ]
    },
    {
      "cell_type": "code",
      "execution_count": 66,
      "metadata": {},
      "outputs": [],
      "source": [
        "import os\n",
        "import pandas as pd\n",
        "import locale\n",
        "import plotly.express as px\n",
        "import numpy as np\n",
        "import plotly.graph_objects as go\n",
        "\n",
        "#manejo de fechas\n",
        "import datetime\n",
        "from datetime import datetime\n",
        "from plotly.subplots import make_subplots"
      ]
    },
    {
      "cell_type": "markdown",
      "metadata": {},
      "source": [
        "# Configuracion de y cambio de directorios segun sistema operativo"
      ]
    },
    {
      "cell_type": "code",
      "execution_count": 67,
      "metadata": {
        "id": "xKLh4l3bfN40"
      },
      "outputs": [],
      "source": [
        "#descomentar GIT para importar a colab, WINDOWS para equipos windows Linux para deribados linux de forma local\n",
        "\n",
        "# GIT\n",
        "#! git clone https://github.com/SOFT-cRONOS/BigData-Actividades/tree/main/U3-Analisis%20de%20datos%20-%20TP%201/datasets\n",
        "#ruta_de_acceso = '/content/BigData-Actividades/U3-Analisis de datos - TP 1/datasets'\n",
        "\n",
        "#windows\n",
        "#ruta_de_acceso = 'E:\\\\Documentos\\\\FENIX\\\\BigData-Actividades\\\\U3-Analisis de datos - TP 1\\\\datasets'\n",
        "\n",
        "#linux\n",
        "ruta_de_acceso = \"/home/cronos/Documentos/BD-Actividades/U3-Analisis de datos - TP 1/datasets\""
      ]
    },
    {
      "cell_type": "code",
      "execution_count": 68,
      "metadata": {
        "colab": {
          "base_uri": "https://localhost:8080/"
        },
        "id": "LWzpdFqLmkk7",
        "outputId": "b9d8b635-9522-4ebf-bbe8-be4a4ea5ce16"
      },
      "outputs": [
        {
          "data": {
            "text/plain": [
              "['Dataset_de_ventas_Marzo.csv',\n",
              " 'Dataset_de_ventas_Diciembre.csv',\n",
              " 'Dataset_de_ventas_Septiembre.csv',\n",
              " 'Dataset_de_ventas_Octubre.csv',\n",
              " 'Dataset_de_ventas_Julio.csv',\n",
              " 'Dataset_de_ventas_Agosto.csv',\n",
              " 'Dataset_de_ventas_Enero.csv',\n",
              " 'Dataset_de_ventas_Mayo.csv',\n",
              " 'Dataset_de_ventas_Febrero.csv',\n",
              " 'Dataset_de_ventas_Noviembre.csv',\n",
              " 'Dataset_de_ventas_Junio.csv',\n",
              " 'Dataset_de_ventas_Abril.csv']"
            ]
          },
          "execution_count": 68,
          "metadata": {},
          "output_type": "execute_result"
        }
      ],
      "source": [
        "archivos = os.listdir(ruta_de_acceso)\n",
        "archivos"
      ]
    },
    {
      "cell_type": "code",
      "execution_count": 69,
      "metadata": {
        "id": "Dc9qtKURmzYM"
      },
      "outputs": [],
      "source": [
        "dataframes = {}"
      ]
    },
    {
      "cell_type": "code",
      "execution_count": 70,
      "metadata": {
        "id": "nWvSvv0nm3kW"
      },
      "outputs": [],
      "source": [
        "#Filtrado de datos\n",
        "for archivo in archivos:\n",
        "  #solo si el archivo es .csv (por si en la carpeta hay otros formatos)\n",
        "  if archivo.endswith('.csv'):\n",
        "\n",
        "    #del nombre \"dataset_de_ventas_diciembre.csv splitea y deja solo el mes\"\n",
        "    mes = archivo.split('_')[3].split('.')[0]\n",
        "    #ej: Dataset_de_ventas_Marzo.csv = Marzo\n",
        "\n",
        "    #junta la ruta de la carpeta con el nombre de archivo\n",
        "    ruta_completa = os.path.join(ruta_de_acceso, archivo)\n",
        "     #ej: /content/drive/MyDrive/Programacion/BigData/actividad2/Dataset_de_ventas_Marzo.csv\n",
        "\n",
        "    #ahora lee todos los archivos con la ruta completa\n",
        "    df = pd.read_csv(ruta_completa)\n",
        "\n",
        "    #copia el df a un df_ventas\n",
        "    df_ventas = df.copy()\n",
        "\n",
        "    # Transformo todos los valores no numericos en Nan en las columnas Cantidad Pedida y Precio Unitario\n",
        "    df_ventas['Cantidad Pedida'] = pd.to_numeric(df_ventas['Cantidad Pedida'], errors='coerce')  #El errors= 'coerce' transforma los valores no numericos a NaN'\n",
        "    df_ventas['Precio Unitario'] = pd.to_numeric(df_ventas['Precio Unitario'], errors='coerce')\n",
        "\n",
        "\n",
        "    # Elimino todos los Nan y me quedo solo con los valores numericos\n",
        "    df_ventas = df_ventas.loc[~df_ventas['Cantidad Pedida'].isna()]\n",
        "    df_ventas = df_ventas.loc[~df_ventas['Precio Unitario'].isna()]\n",
        "    df_ventas = df_ventas.dropna()\n",
        "\n",
        "    # Transformo todos los valores numericos al tipo de dato int\n",
        "    df_ventas['Cantidad Pedida'] = df_ventas['Cantidad Pedida'].astype(int)\n",
        "    df_ventas['Precio Unitario'] = df_ventas['Precio Unitario'].astype(float)\n",
        "\n",
        "    #carga el df en un elemento del array dataframes\n",
        "    dataframes[mes] = df_ventas\n",
        "    #ejemplo dataframes['Marzo'] = Dataset_de_ventas_Marzo.csv\n",
        "\n"
      ]
    },
    {
      "cell_type": "code",
      "execution_count": 71,
      "metadata": {
        "colab": {
          "base_uri": "https://localhost:8080/",
          "height": 424
        },
        "id": "dyL0nXSDBzIp",
        "outputId": "115a9401-7e50-4368-b92e-6022788934ae"
      },
      "outputs": [
        {
          "data": {
            "text/html": [
              "<div>\n",
              "<style scoped>\n",
              "    .dataframe tbody tr th:only-of-type {\n",
              "        vertical-align: middle;\n",
              "    }\n",
              "\n",
              "    .dataframe tbody tr th {\n",
              "        vertical-align: top;\n",
              "    }\n",
              "\n",
              "    .dataframe thead th {\n",
              "        text-align: right;\n",
              "    }\n",
              "</style>\n",
              "<table border=\"1\" class=\"dataframe\">\n",
              "  <thead>\n",
              "    <tr style=\"text-align: right;\">\n",
              "      <th></th>\n",
              "      <th>ID de Pedido</th>\n",
              "      <th>Producto</th>\n",
              "      <th>Cantidad Pedida</th>\n",
              "      <th>Precio Unitario</th>\n",
              "      <th>Fecha de Pedido</th>\n",
              "      <th>Dirección de Envio</th>\n",
              "    </tr>\n",
              "  </thead>\n",
              "  <tbody>\n",
              "    <tr>\n",
              "      <th>0</th>\n",
              "      <td>141234</td>\n",
              "      <td>iPhone</td>\n",
              "      <td>1</td>\n",
              "      <td>700.00</td>\n",
              "      <td>01/22/19 21:25</td>\n",
              "      <td>944 Walnut St, Boston, MA 02215</td>\n",
              "    </tr>\n",
              "    <tr>\n",
              "      <th>1</th>\n",
              "      <td>141235</td>\n",
              "      <td>Lightning Charging Cable</td>\n",
              "      <td>1</td>\n",
              "      <td>14.95</td>\n",
              "      <td>01/28/19 14:15</td>\n",
              "      <td>185 Maple St, Portland, OR 97035</td>\n",
              "    </tr>\n",
              "    <tr>\n",
              "      <th>2</th>\n",
              "      <td>141236</td>\n",
              "      <td>Wired Headphones</td>\n",
              "      <td>2</td>\n",
              "      <td>11.99</td>\n",
              "      <td>01/17/19 13:33</td>\n",
              "      <td>538 Adams St, San Francisco, CA 94016</td>\n",
              "    </tr>\n",
              "    <tr>\n",
              "      <th>3</th>\n",
              "      <td>141237</td>\n",
              "      <td>27in FHD Monitor</td>\n",
              "      <td>1</td>\n",
              "      <td>149.99</td>\n",
              "      <td>01/05/19 20:33</td>\n",
              "      <td>738 10th St, Los Angeles, CA 90001</td>\n",
              "    </tr>\n",
              "    <tr>\n",
              "      <th>4</th>\n",
              "      <td>141238</td>\n",
              "      <td>Wired Headphones</td>\n",
              "      <td>1</td>\n",
              "      <td>11.99</td>\n",
              "      <td>01/25/19 11:59</td>\n",
              "      <td>387 10th St, Austin, TX 73301</td>\n",
              "    </tr>\n",
              "    <tr>\n",
              "      <th>...</th>\n",
              "      <td>...</td>\n",
              "      <td>...</td>\n",
              "      <td>...</td>\n",
              "      <td>...</td>\n",
              "      <td>...</td>\n",
              "      <td>...</td>\n",
              "    </tr>\n",
              "    <tr>\n",
              "      <th>9718</th>\n",
              "      <td>150497</td>\n",
              "      <td>20in Monitor</td>\n",
              "      <td>1</td>\n",
              "      <td>109.99</td>\n",
              "      <td>01/26/19 19:09</td>\n",
              "      <td>95 8th St, Dallas, TX 75001</td>\n",
              "    </tr>\n",
              "    <tr>\n",
              "      <th>9719</th>\n",
              "      <td>150498</td>\n",
              "      <td>27in FHD Monitor</td>\n",
              "      <td>1</td>\n",
              "      <td>149.99</td>\n",
              "      <td>01/10/19 22:58</td>\n",
              "      <td>403 7th St, San Francisco, CA 94016</td>\n",
              "    </tr>\n",
              "    <tr>\n",
              "      <th>9720</th>\n",
              "      <td>150499</td>\n",
              "      <td>ThinkPad Laptop</td>\n",
              "      <td>1</td>\n",
              "      <td>999.99</td>\n",
              "      <td>01/21/19 14:31</td>\n",
              "      <td>214 Main St, Portland, OR 97035</td>\n",
              "    </tr>\n",
              "    <tr>\n",
              "      <th>9721</th>\n",
              "      <td>150500</td>\n",
              "      <td>AAA Batteries (4-pack)</td>\n",
              "      <td>2</td>\n",
              "      <td>2.99</td>\n",
              "      <td>01/15/19 14:21</td>\n",
              "      <td>810 2nd St, Los Angeles, CA 90001</td>\n",
              "    </tr>\n",
              "    <tr>\n",
              "      <th>9722</th>\n",
              "      <td>150501</td>\n",
              "      <td>Google Phone</td>\n",
              "      <td>1</td>\n",
              "      <td>600.00</td>\n",
              "      <td>01/13/19 16:43</td>\n",
              "      <td>428 Cedar St, Boston, MA 02215</td>\n",
              "    </tr>\n",
              "  </tbody>\n",
              "</table>\n",
              "<p>9681 rows × 6 columns</p>\n",
              "</div>"
            ],
            "text/plain": [
              "     ID de Pedido                  Producto  Cantidad Pedida  Precio Unitario  \\\n",
              "0          141234                    iPhone                1           700.00   \n",
              "1          141235  Lightning Charging Cable                1            14.95   \n",
              "2          141236          Wired Headphones                2            11.99   \n",
              "3          141237          27in FHD Monitor                1           149.99   \n",
              "4          141238          Wired Headphones                1            11.99   \n",
              "...           ...                       ...              ...              ...   \n",
              "9718       150497              20in Monitor                1           109.99   \n",
              "9719       150498          27in FHD Monitor                1           149.99   \n",
              "9720       150499           ThinkPad Laptop                1           999.99   \n",
              "9721       150500    AAA Batteries (4-pack)                2             2.99   \n",
              "9722       150501              Google Phone                1           600.00   \n",
              "\n",
              "     Fecha de Pedido                     Dirección de Envio  \n",
              "0     01/22/19 21:25        944 Walnut St, Boston, MA 02215  \n",
              "1     01/28/19 14:15       185 Maple St, Portland, OR 97035  \n",
              "2     01/17/19 13:33  538 Adams St, San Francisco, CA 94016  \n",
              "3     01/05/19 20:33     738 10th St, Los Angeles, CA 90001  \n",
              "4     01/25/19 11:59          387 10th St, Austin, TX 73301  \n",
              "...              ...                                    ...  \n",
              "9718  01/26/19 19:09            95 8th St, Dallas, TX 75001  \n",
              "9719  01/10/19 22:58    403 7th St, San Francisco, CA 94016  \n",
              "9720  01/21/19 14:31        214 Main St, Portland, OR 97035  \n",
              "9721  01/15/19 14:21      810 2nd St, Los Angeles, CA 90001  \n",
              "9722  01/13/19 16:43         428 Cedar St, Boston, MA 02215  \n",
              "\n",
              "[9681 rows x 6 columns]"
            ]
          },
          "execution_count": 71,
          "metadata": {},
          "output_type": "execute_result"
        }
      ],
      "source": [
        "dataframes['Enero']"
      ]
    },
    {
      "cell_type": "code",
      "execution_count": 98,
      "metadata": {},
      "outputs": [],
      "source": [
        "#array con dias de la semana y def para fraccionar datos\n",
        "dias_semana = [\"Lunes\", \"Martes\", \"Miércoles\", \"Jueves\", \"Viernes\", \"Sábado\", \"Domingo\"]\n",
        "meses = ['Enero', 'Febrero', 'Marzo', 'Abril', 'Mayo', 'Junio', 'Julio', 'Agosto', 'Septiembre', 'Octubre', 'Noviembre', 'Diciembre']\n",
        "# Define un diccionario para traducir los nombres de los días al español\n",
        "traduccion_dias = {\n",
        "    'Monday': 'Lunes',\n",
        "    'Tuesday': 'Martes',\n",
        "    'Wednesday': 'Miércoles',\n",
        "    'Thursday': 'Jueves',\n",
        "    'Friday': 'Viernes',\n",
        "    'Saturday': 'Sábado',\n",
        "    'Sunday': 'Domingo'\n",
        "}\n",
        "\n",
        "def extraer_datos(datos):\n",
        "    # Decodificar caracteres UTF-8 correctamente\n",
        "    #datos['Fecha de Pedido'] = datos['Fecha de Pedido'].str.encode('latin-1').str.decode('utf-8')\n",
        "\n",
        "    #agrega 2 columnas hora y dia. y convierte fecha en formato fecha\n",
        "    datos['Fecha de Pedido'] = pd.to_datetime(datos['Fecha de Pedido'])\n",
        "    \n",
        "    dia = datos['Fecha de Pedido'].dt.day\n",
        "    mes = datos['Fecha de Pedido'].dt.month\n",
        "    año = datos['Fecha de Pedido'].dt.year\n",
        "    hora = datos['Fecha de Pedido'].dt.hour\n",
        "    fecha = datos['Fecha de Pedido'].dt.date\n",
        "    dia_sem = datos['Fecha de Pedido'].dt.strftime('%A')\n",
        "    \n",
        "    # Crea una nueva columna que contenga solo el día y el mes\n",
        "    datos['dia_mes'] = datos['Fecha de Pedido'].dt.strftime('%d-%m')\n",
        "    \n",
        "    datos['fecha_corta'] = fecha\n",
        "    datos['Hora'] = hora\n",
        "    datos['Dia'] = dia\n",
        "    datos['mes'] = mes\n",
        "    datos['año'] = año\n",
        "\n",
        "\n",
        "\n",
        "    datos['strDia'] = dia_sem\n",
        "    \n",
        "    # Cambia los nombres de los días al español\n",
        "    datos['strDia'] = datos['strDia'].map(traduccion_dias)\n",
        "\n",
        "    # Ordena el DataFrame por los días de la semana en orden\n",
        "    datos['strDia'] = pd.Categorical(datos['strDia'], categories=dias_semana, ordered=True)\n",
        "    datos = datos.sort_values('strDia')\n",
        "\n",
        "    # Reinicia los índices del DataFrame si es necesario\n",
        "    datos = datos.reset_index(drop=True)\n",
        "\n",
        "\n",
        "\n",
        "    #datos['strDia'] = datos['strDia'].str.encode('latin-1').str.decode('utf-8')\n",
        "    return datos\n",
        "\n",
        "#creacion de un dataframe con datos extraidos en columnas\n",
        "df_extraidos = {}\n",
        "# Iterar a través de cada mes en la lista 'meses'\n",
        "for mes in meses:\n",
        "    # Obtener el DataFrame correspondiente al mes\n",
        "    dataframe_mes = dataframes[mes]\n",
        "    \n",
        "    # Extrae los datos con la funcion\n",
        "    dataframe_mes = extraer_datos(dataframe_mes)\n",
        "    \n",
        "    # Agrega el dataframe fraccionado en un nuevo diccionario\n",
        "    df_extraidos[mes] = dataframe_mes"
      ]
    },
    {
      "cell_type": "code",
      "execution_count": 99,
      "metadata": {},
      "outputs": [
        {
          "data": {
            "text/html": [
              "<div>\n",
              "<style scoped>\n",
              "    .dataframe tbody tr th:only-of-type {\n",
              "        vertical-align: middle;\n",
              "    }\n",
              "\n",
              "    .dataframe tbody tr th {\n",
              "        vertical-align: top;\n",
              "    }\n",
              "\n",
              "    .dataframe thead th {\n",
              "        text-align: right;\n",
              "    }\n",
              "</style>\n",
              "<table border=\"1\" class=\"dataframe\">\n",
              "  <thead>\n",
              "    <tr style=\"text-align: right;\">\n",
              "      <th></th>\n",
              "      <th>ID de Pedido</th>\n",
              "      <th>Producto</th>\n",
              "      <th>Cantidad Pedida</th>\n",
              "      <th>Precio Unitario</th>\n",
              "      <th>Fecha de Pedido</th>\n",
              "      <th>Dirección de Envio</th>\n",
              "      <th>total</th>\n",
              "      <th>fecha_corta</th>\n",
              "      <th>Hora</th>\n",
              "      <th>Dia</th>\n",
              "      <th>mes</th>\n",
              "      <th>año</th>\n",
              "      <th>strDia</th>\n",
              "      <th>dia_mes</th>\n",
              "    </tr>\n",
              "  </thead>\n",
              "  <tbody>\n",
              "    <tr>\n",
              "      <th>0</th>\n",
              "      <td>145852</td>\n",
              "      <td>USB-C Charging Cable</td>\n",
              "      <td>1</td>\n",
              "      <td>11.95</td>\n",
              "      <td>2019-01-07 17:45:00</td>\n",
              "      <td>113 Lakeview St, Austin, TX 73301</td>\n",
              "      <td>11.95</td>\n",
              "      <td>2019-01-07</td>\n",
              "      <td>17</td>\n",
              "      <td>7</td>\n",
              "      <td>1</td>\n",
              "      <td>2019</td>\n",
              "      <td>Lunes</td>\n",
              "      <td>07-01</td>\n",
              "    </tr>\n",
              "    <tr>\n",
              "      <th>1</th>\n",
              "      <td>146532</td>\n",
              "      <td>Apple Airpods Headphones</td>\n",
              "      <td>1</td>\n",
              "      <td>150.00</td>\n",
              "      <td>2019-01-28 03:06:00</td>\n",
              "      <td>871 4th St, New York City, NY 10001</td>\n",
              "      <td>150.00</td>\n",
              "      <td>2019-01-28</td>\n",
              "      <td>3</td>\n",
              "      <td>28</td>\n",
              "      <td>1</td>\n",
              "      <td>2019</td>\n",
              "      <td>Lunes</td>\n",
              "      <td>28-01</td>\n",
              "    </tr>\n",
              "    <tr>\n",
              "      <th>2</th>\n",
              "      <td>146534</td>\n",
              "      <td>Macbook Pro Laptop</td>\n",
              "      <td>1</td>\n",
              "      <td>1700.00</td>\n",
              "      <td>2019-01-28 22:05:00</td>\n",
              "      <td>268 Main St, San Francisco, CA 94016</td>\n",
              "      <td>1700.00</td>\n",
              "      <td>2019-01-28</td>\n",
              "      <td>22</td>\n",
              "      <td>28</td>\n",
              "      <td>1</td>\n",
              "      <td>2019</td>\n",
              "      <td>Lunes</td>\n",
              "      <td>28-01</td>\n",
              "    </tr>\n",
              "    <tr>\n",
              "      <th>3</th>\n",
              "      <td>146536</td>\n",
              "      <td>AAA Batteries (4-pack)</td>\n",
              "      <td>3</td>\n",
              "      <td>2.99</td>\n",
              "      <td>2019-01-07 17:53:00</td>\n",
              "      <td>955 Park St, Boston, MA 02215</td>\n",
              "      <td>8.97</td>\n",
              "      <td>2019-01-07</td>\n",
              "      <td>17</td>\n",
              "      <td>7</td>\n",
              "      <td>1</td>\n",
              "      <td>2019</td>\n",
              "      <td>Lunes</td>\n",
              "      <td>07-01</td>\n",
              "    </tr>\n",
              "    <tr>\n",
              "      <th>4</th>\n",
              "      <td>146537</td>\n",
              "      <td>27in FHD Monitor</td>\n",
              "      <td>1</td>\n",
              "      <td>149.99</td>\n",
              "      <td>2019-01-14 07:45:00</td>\n",
              "      <td>992 Meadow St, Los Angeles, CA 90001</td>\n",
              "      <td>149.99</td>\n",
              "      <td>2019-01-14</td>\n",
              "      <td>7</td>\n",
              "      <td>14</td>\n",
              "      <td>1</td>\n",
              "      <td>2019</td>\n",
              "      <td>Lunes</td>\n",
              "      <td>14-01</td>\n",
              "    </tr>\n",
              "    <tr>\n",
              "      <th>...</th>\n",
              "      <td>...</td>\n",
              "      <td>...</td>\n",
              "      <td>...</td>\n",
              "      <td>...</td>\n",
              "      <td>...</td>\n",
              "      <td>...</td>\n",
              "      <td>...</td>\n",
              "      <td>...</td>\n",
              "      <td>...</td>\n",
              "      <td>...</td>\n",
              "      <td>...</td>\n",
              "      <td>...</td>\n",
              "      <td>...</td>\n",
              "      <td>...</td>\n",
              "    </tr>\n",
              "    <tr>\n",
              "      <th>9676</th>\n",
              "      <td>149105</td>\n",
              "      <td>Bose SoundSport Headphones</td>\n",
              "      <td>1</td>\n",
              "      <td>99.99</td>\n",
              "      <td>2019-01-20 17:54:00</td>\n",
              "      <td>697 Center St, Dallas, TX 75001</td>\n",
              "      <td>99.99</td>\n",
              "      <td>2019-01-20</td>\n",
              "      <td>17</td>\n",
              "      <td>20</td>\n",
              "      <td>1</td>\n",
              "      <td>2019</td>\n",
              "      <td>Domingo</td>\n",
              "      <td>20-01</td>\n",
              "    </tr>\n",
              "    <tr>\n",
              "      <th>9677</th>\n",
              "      <td>142961</td>\n",
              "      <td>Apple Airpods Headphones</td>\n",
              "      <td>1</td>\n",
              "      <td>150.00</td>\n",
              "      <td>2019-01-27 08:19:00</td>\n",
              "      <td>325 South St, Los Angeles, CA 90001</td>\n",
              "      <td>150.00</td>\n",
              "      <td>2019-01-27</td>\n",
              "      <td>8</td>\n",
              "      <td>27</td>\n",
              "      <td>1</td>\n",
              "      <td>2019</td>\n",
              "      <td>Domingo</td>\n",
              "      <td>27-01</td>\n",
              "    </tr>\n",
              "    <tr>\n",
              "      <th>9678</th>\n",
              "      <td>145218</td>\n",
              "      <td>AA Batteries (4-pack)</td>\n",
              "      <td>2</td>\n",
              "      <td>3.84</td>\n",
              "      <td>2019-01-27 12:42:00</td>\n",
              "      <td>555 6th St, Los Angeles, CA 90001</td>\n",
              "      <td>7.68</td>\n",
              "      <td>2019-01-27</td>\n",
              "      <td>12</td>\n",
              "      <td>27</td>\n",
              "      <td>1</td>\n",
              "      <td>2019</td>\n",
              "      <td>Domingo</td>\n",
              "      <td>27-01</td>\n",
              "    </tr>\n",
              "    <tr>\n",
              "      <th>9679</th>\n",
              "      <td>145201</td>\n",
              "      <td>Google Phone</td>\n",
              "      <td>1</td>\n",
              "      <td>600.00</td>\n",
              "      <td>2019-01-20 20:10:00</td>\n",
              "      <td>362 Meadow St, San Francisco, CA 94016</td>\n",
              "      <td>600.00</td>\n",
              "      <td>2019-01-20</td>\n",
              "      <td>20</td>\n",
              "      <td>20</td>\n",
              "      <td>1</td>\n",
              "      <td>2019</td>\n",
              "      <td>Domingo</td>\n",
              "      <td>20-01</td>\n",
              "    </tr>\n",
              "    <tr>\n",
              "      <th>9680</th>\n",
              "      <td>150501</td>\n",
              "      <td>Google Phone</td>\n",
              "      <td>1</td>\n",
              "      <td>600.00</td>\n",
              "      <td>2019-01-13 16:43:00</td>\n",
              "      <td>428 Cedar St, Boston, MA 02215</td>\n",
              "      <td>600.00</td>\n",
              "      <td>2019-01-13</td>\n",
              "      <td>16</td>\n",
              "      <td>13</td>\n",
              "      <td>1</td>\n",
              "      <td>2019</td>\n",
              "      <td>Domingo</td>\n",
              "      <td>13-01</td>\n",
              "    </tr>\n",
              "  </tbody>\n",
              "</table>\n",
              "<p>9681 rows × 14 columns</p>\n",
              "</div>"
            ],
            "text/plain": [
              "     ID de Pedido                    Producto  Cantidad Pedida  \\\n",
              "0          145852        USB-C Charging Cable                1   \n",
              "1          146532    Apple Airpods Headphones                1   \n",
              "2          146534          Macbook Pro Laptop                1   \n",
              "3          146536      AAA Batteries (4-pack)                3   \n",
              "4          146537            27in FHD Monitor                1   \n",
              "...           ...                         ...              ...   \n",
              "9676       149105  Bose SoundSport Headphones                1   \n",
              "9677       142961    Apple Airpods Headphones                1   \n",
              "9678       145218       AA Batteries (4-pack)                2   \n",
              "9679       145201                Google Phone                1   \n",
              "9680       150501                Google Phone                1   \n",
              "\n",
              "      Precio Unitario     Fecha de Pedido  \\\n",
              "0               11.95 2019-01-07 17:45:00   \n",
              "1              150.00 2019-01-28 03:06:00   \n",
              "2             1700.00 2019-01-28 22:05:00   \n",
              "3                2.99 2019-01-07 17:53:00   \n",
              "4              149.99 2019-01-14 07:45:00   \n",
              "...               ...                 ...   \n",
              "9676            99.99 2019-01-20 17:54:00   \n",
              "9677           150.00 2019-01-27 08:19:00   \n",
              "9678             3.84 2019-01-27 12:42:00   \n",
              "9679           600.00 2019-01-20 20:10:00   \n",
              "9680           600.00 2019-01-13 16:43:00   \n",
              "\n",
              "                          Dirección de Envio    total fecha_corta  Hora  Dia  \\\n",
              "0          113 Lakeview St, Austin, TX 73301    11.95  2019-01-07    17    7   \n",
              "1        871 4th St, New York City, NY 10001   150.00  2019-01-28     3   28   \n",
              "2       268 Main St, San Francisco, CA 94016  1700.00  2019-01-28    22   28   \n",
              "3              955 Park St, Boston, MA 02215     8.97  2019-01-07    17    7   \n",
              "4       992 Meadow St, Los Angeles, CA 90001   149.99  2019-01-14     7   14   \n",
              "...                                      ...      ...         ...   ...  ...   \n",
              "9676         697 Center St, Dallas, TX 75001    99.99  2019-01-20    17   20   \n",
              "9677     325 South St, Los Angeles, CA 90001   150.00  2019-01-27     8   27   \n",
              "9678       555 6th St, Los Angeles, CA 90001     7.68  2019-01-27    12   27   \n",
              "9679  362 Meadow St, San Francisco, CA 94016   600.00  2019-01-20    20   20   \n",
              "9680          428 Cedar St, Boston, MA 02215   600.00  2019-01-13    16   13   \n",
              "\n",
              "      mes   año   strDia dia_mes  \n",
              "0       1  2019    Lunes   07-01  \n",
              "1       1  2019    Lunes   28-01  \n",
              "2       1  2019    Lunes   28-01  \n",
              "3       1  2019    Lunes   07-01  \n",
              "4       1  2019    Lunes   14-01  \n",
              "...   ...   ...      ...     ...  \n",
              "9676    1  2019  Domingo   20-01  \n",
              "9677    1  2019  Domingo   27-01  \n",
              "9678    1  2019  Domingo   27-01  \n",
              "9679    1  2019  Domingo   20-01  \n",
              "9680    1  2019  Domingo   13-01  \n",
              "\n",
              "[9681 rows x 14 columns]"
            ]
          },
          "execution_count": 99,
          "metadata": {},
          "output_type": "execute_result"
        }
      ],
      "source": [
        "df_extraidos['Enero']"
      ]
    },
    {
      "cell_type": "markdown",
      "metadata": {
        "id": "7k0Zaxe_A758"
      },
      "source": [
        "# Comportamiento de las ventas en los distintos meses:"
      ]
    },
    {
      "cell_type": "markdown",
      "metadata": {
        "id": "Flj9s1sMBBt1"
      },
      "source": [
        "¿Cómo variaron las ventas a lo largo de los diferentes meses?"
      ]
    },
    {
      "cell_type": "markdown",
      "metadata": {
        "id": "zSl6nmajIP85"
      },
      "source": [
        "¿Hubo algún mes que se destacó en términos de ventas?"
      ]
    },
    {
      "cell_type": "code",
      "execution_count": 96,
      "metadata": {
        "colab": {
          "base_uri": "https://localhost:8080/",
          "height": 542
        },
        "id": "u3AVPnOYISmi",
        "outputId": "f8a2cb90-cdac-4622-fc31-d10039ccdb2d"
      },
      "outputs": [
        {
          "data": {
            "application/vnd.plotly.v1+json": {
              "config": {
                "plotlyServerURL": "https://plot.ly"
              },
              "data": [
                {
                  "hovertemplate": "Tiempo=%{x}<br>Ventas=%{y}<br>text=%{text}<extra></extra>",
                  "legendgroup": "",
                  "line": {
                    "color": "#636efa",
                    "dash": "solid"
                  },
                  "marker": {
                    "symbol": "circle"
                  },
                  "mode": "text+lines+markers",
                  "name": "",
                  "orientation": "v",
                  "showlegend": false,
                  "text": [
                    10868,
                    13461,
                    17006,
                    20568,
                    18657,
                    15255,
                    16069,
                    13442,
                    13119,
                    22705,
                    19808,
                    28121
                  ],
                  "type": "scatter",
                  "x": [
                    "Enero",
                    "Febrero",
                    "Marzo",
                    "Abril",
                    "Mayo",
                    "Junio",
                    "Julio",
                    "Agosto",
                    "Septiembre",
                    "Octubre",
                    "Noviembre",
                    "Diciembre"
                  ],
                  "xaxis": "x",
                  "y": [
                    10868,
                    13461,
                    17006,
                    20568,
                    18657,
                    15255,
                    16069,
                    13442,
                    13119,
                    22705,
                    19808,
                    28121
                  ],
                  "yaxis": "y"
                }
              ],
              "layout": {
                "legend": {
                  "tracegroupgap": 0
                },
                "template": {
                  "data": {
                    "bar": [
                      {
                        "error_x": {
                          "color": "#2a3f5f"
                        },
                        "error_y": {
                          "color": "#2a3f5f"
                        },
                        "marker": {
                          "line": {
                            "color": "#E5ECF6",
                            "width": 0.5
                          },
                          "pattern": {
                            "fillmode": "overlay",
                            "size": 10,
                            "solidity": 0.2
                          }
                        },
                        "type": "bar"
                      }
                    ],
                    "barpolar": [
                      {
                        "marker": {
                          "line": {
                            "color": "#E5ECF6",
                            "width": 0.5
                          },
                          "pattern": {
                            "fillmode": "overlay",
                            "size": 10,
                            "solidity": 0.2
                          }
                        },
                        "type": "barpolar"
                      }
                    ],
                    "carpet": [
                      {
                        "aaxis": {
                          "endlinecolor": "#2a3f5f",
                          "gridcolor": "white",
                          "linecolor": "white",
                          "minorgridcolor": "white",
                          "startlinecolor": "#2a3f5f"
                        },
                        "baxis": {
                          "endlinecolor": "#2a3f5f",
                          "gridcolor": "white",
                          "linecolor": "white",
                          "minorgridcolor": "white",
                          "startlinecolor": "#2a3f5f"
                        },
                        "type": "carpet"
                      }
                    ],
                    "choropleth": [
                      {
                        "colorbar": {
                          "outlinewidth": 0,
                          "ticks": ""
                        },
                        "type": "choropleth"
                      }
                    ],
                    "contour": [
                      {
                        "colorbar": {
                          "outlinewidth": 0,
                          "ticks": ""
                        },
                        "colorscale": [
                          [
                            0,
                            "#0d0887"
                          ],
                          [
                            0.1111111111111111,
                            "#46039f"
                          ],
                          [
                            0.2222222222222222,
                            "#7201a8"
                          ],
                          [
                            0.3333333333333333,
                            "#9c179e"
                          ],
                          [
                            0.4444444444444444,
                            "#bd3786"
                          ],
                          [
                            0.5555555555555556,
                            "#d8576b"
                          ],
                          [
                            0.6666666666666666,
                            "#ed7953"
                          ],
                          [
                            0.7777777777777778,
                            "#fb9f3a"
                          ],
                          [
                            0.8888888888888888,
                            "#fdca26"
                          ],
                          [
                            1,
                            "#f0f921"
                          ]
                        ],
                        "type": "contour"
                      }
                    ],
                    "contourcarpet": [
                      {
                        "colorbar": {
                          "outlinewidth": 0,
                          "ticks": ""
                        },
                        "type": "contourcarpet"
                      }
                    ],
                    "heatmap": [
                      {
                        "colorbar": {
                          "outlinewidth": 0,
                          "ticks": ""
                        },
                        "colorscale": [
                          [
                            0,
                            "#0d0887"
                          ],
                          [
                            0.1111111111111111,
                            "#46039f"
                          ],
                          [
                            0.2222222222222222,
                            "#7201a8"
                          ],
                          [
                            0.3333333333333333,
                            "#9c179e"
                          ],
                          [
                            0.4444444444444444,
                            "#bd3786"
                          ],
                          [
                            0.5555555555555556,
                            "#d8576b"
                          ],
                          [
                            0.6666666666666666,
                            "#ed7953"
                          ],
                          [
                            0.7777777777777778,
                            "#fb9f3a"
                          ],
                          [
                            0.8888888888888888,
                            "#fdca26"
                          ],
                          [
                            1,
                            "#f0f921"
                          ]
                        ],
                        "type": "heatmap"
                      }
                    ],
                    "heatmapgl": [
                      {
                        "colorbar": {
                          "outlinewidth": 0,
                          "ticks": ""
                        },
                        "colorscale": [
                          [
                            0,
                            "#0d0887"
                          ],
                          [
                            0.1111111111111111,
                            "#46039f"
                          ],
                          [
                            0.2222222222222222,
                            "#7201a8"
                          ],
                          [
                            0.3333333333333333,
                            "#9c179e"
                          ],
                          [
                            0.4444444444444444,
                            "#bd3786"
                          ],
                          [
                            0.5555555555555556,
                            "#d8576b"
                          ],
                          [
                            0.6666666666666666,
                            "#ed7953"
                          ],
                          [
                            0.7777777777777778,
                            "#fb9f3a"
                          ],
                          [
                            0.8888888888888888,
                            "#fdca26"
                          ],
                          [
                            1,
                            "#f0f921"
                          ]
                        ],
                        "type": "heatmapgl"
                      }
                    ],
                    "histogram": [
                      {
                        "marker": {
                          "pattern": {
                            "fillmode": "overlay",
                            "size": 10,
                            "solidity": 0.2
                          }
                        },
                        "type": "histogram"
                      }
                    ],
                    "histogram2d": [
                      {
                        "colorbar": {
                          "outlinewidth": 0,
                          "ticks": ""
                        },
                        "colorscale": [
                          [
                            0,
                            "#0d0887"
                          ],
                          [
                            0.1111111111111111,
                            "#46039f"
                          ],
                          [
                            0.2222222222222222,
                            "#7201a8"
                          ],
                          [
                            0.3333333333333333,
                            "#9c179e"
                          ],
                          [
                            0.4444444444444444,
                            "#bd3786"
                          ],
                          [
                            0.5555555555555556,
                            "#d8576b"
                          ],
                          [
                            0.6666666666666666,
                            "#ed7953"
                          ],
                          [
                            0.7777777777777778,
                            "#fb9f3a"
                          ],
                          [
                            0.8888888888888888,
                            "#fdca26"
                          ],
                          [
                            1,
                            "#f0f921"
                          ]
                        ],
                        "type": "histogram2d"
                      }
                    ],
                    "histogram2dcontour": [
                      {
                        "colorbar": {
                          "outlinewidth": 0,
                          "ticks": ""
                        },
                        "colorscale": [
                          [
                            0,
                            "#0d0887"
                          ],
                          [
                            0.1111111111111111,
                            "#46039f"
                          ],
                          [
                            0.2222222222222222,
                            "#7201a8"
                          ],
                          [
                            0.3333333333333333,
                            "#9c179e"
                          ],
                          [
                            0.4444444444444444,
                            "#bd3786"
                          ],
                          [
                            0.5555555555555556,
                            "#d8576b"
                          ],
                          [
                            0.6666666666666666,
                            "#ed7953"
                          ],
                          [
                            0.7777777777777778,
                            "#fb9f3a"
                          ],
                          [
                            0.8888888888888888,
                            "#fdca26"
                          ],
                          [
                            1,
                            "#f0f921"
                          ]
                        ],
                        "type": "histogram2dcontour"
                      }
                    ],
                    "mesh3d": [
                      {
                        "colorbar": {
                          "outlinewidth": 0,
                          "ticks": ""
                        },
                        "type": "mesh3d"
                      }
                    ],
                    "parcoords": [
                      {
                        "line": {
                          "colorbar": {
                            "outlinewidth": 0,
                            "ticks": ""
                          }
                        },
                        "type": "parcoords"
                      }
                    ],
                    "pie": [
                      {
                        "automargin": true,
                        "type": "pie"
                      }
                    ],
                    "scatter": [
                      {
                        "marker": {
                          "colorbar": {
                            "outlinewidth": 0,
                            "ticks": ""
                          }
                        },
                        "type": "scatter"
                      }
                    ],
                    "scatter3d": [
                      {
                        "line": {
                          "colorbar": {
                            "outlinewidth": 0,
                            "ticks": ""
                          }
                        },
                        "marker": {
                          "colorbar": {
                            "outlinewidth": 0,
                            "ticks": ""
                          }
                        },
                        "type": "scatter3d"
                      }
                    ],
                    "scattercarpet": [
                      {
                        "marker": {
                          "colorbar": {
                            "outlinewidth": 0,
                            "ticks": ""
                          }
                        },
                        "type": "scattercarpet"
                      }
                    ],
                    "scattergeo": [
                      {
                        "marker": {
                          "colorbar": {
                            "outlinewidth": 0,
                            "ticks": ""
                          }
                        },
                        "type": "scattergeo"
                      }
                    ],
                    "scattergl": [
                      {
                        "marker": {
                          "colorbar": {
                            "outlinewidth": 0,
                            "ticks": ""
                          }
                        },
                        "type": "scattergl"
                      }
                    ],
                    "scattermapbox": [
                      {
                        "marker": {
                          "colorbar": {
                            "outlinewidth": 0,
                            "ticks": ""
                          }
                        },
                        "type": "scattermapbox"
                      }
                    ],
                    "scatterpolar": [
                      {
                        "marker": {
                          "colorbar": {
                            "outlinewidth": 0,
                            "ticks": ""
                          }
                        },
                        "type": "scatterpolar"
                      }
                    ],
                    "scatterpolargl": [
                      {
                        "marker": {
                          "colorbar": {
                            "outlinewidth": 0,
                            "ticks": ""
                          }
                        },
                        "type": "scatterpolargl"
                      }
                    ],
                    "scatterternary": [
                      {
                        "marker": {
                          "colorbar": {
                            "outlinewidth": 0,
                            "ticks": ""
                          }
                        },
                        "type": "scatterternary"
                      }
                    ],
                    "surface": [
                      {
                        "colorbar": {
                          "outlinewidth": 0,
                          "ticks": ""
                        },
                        "colorscale": [
                          [
                            0,
                            "#0d0887"
                          ],
                          [
                            0.1111111111111111,
                            "#46039f"
                          ],
                          [
                            0.2222222222222222,
                            "#7201a8"
                          ],
                          [
                            0.3333333333333333,
                            "#9c179e"
                          ],
                          [
                            0.4444444444444444,
                            "#bd3786"
                          ],
                          [
                            0.5555555555555556,
                            "#d8576b"
                          ],
                          [
                            0.6666666666666666,
                            "#ed7953"
                          ],
                          [
                            0.7777777777777778,
                            "#fb9f3a"
                          ],
                          [
                            0.8888888888888888,
                            "#fdca26"
                          ],
                          [
                            1,
                            "#f0f921"
                          ]
                        ],
                        "type": "surface"
                      }
                    ],
                    "table": [
                      {
                        "cells": {
                          "fill": {
                            "color": "#EBF0F8"
                          },
                          "line": {
                            "color": "white"
                          }
                        },
                        "header": {
                          "fill": {
                            "color": "#C8D4E3"
                          },
                          "line": {
                            "color": "white"
                          }
                        },
                        "type": "table"
                      }
                    ]
                  },
                  "layout": {
                    "annotationdefaults": {
                      "arrowcolor": "#2a3f5f",
                      "arrowhead": 0,
                      "arrowwidth": 1
                    },
                    "autotypenumbers": "strict",
                    "coloraxis": {
                      "colorbar": {
                        "outlinewidth": 0,
                        "ticks": ""
                      }
                    },
                    "colorscale": {
                      "diverging": [
                        [
                          0,
                          "#8e0152"
                        ],
                        [
                          0.1,
                          "#c51b7d"
                        ],
                        [
                          0.2,
                          "#de77ae"
                        ],
                        [
                          0.3,
                          "#f1b6da"
                        ],
                        [
                          0.4,
                          "#fde0ef"
                        ],
                        [
                          0.5,
                          "#f7f7f7"
                        ],
                        [
                          0.6,
                          "#e6f5d0"
                        ],
                        [
                          0.7,
                          "#b8e186"
                        ],
                        [
                          0.8,
                          "#7fbc41"
                        ],
                        [
                          0.9,
                          "#4d9221"
                        ],
                        [
                          1,
                          "#276419"
                        ]
                      ],
                      "sequential": [
                        [
                          0,
                          "#0d0887"
                        ],
                        [
                          0.1111111111111111,
                          "#46039f"
                        ],
                        [
                          0.2222222222222222,
                          "#7201a8"
                        ],
                        [
                          0.3333333333333333,
                          "#9c179e"
                        ],
                        [
                          0.4444444444444444,
                          "#bd3786"
                        ],
                        [
                          0.5555555555555556,
                          "#d8576b"
                        ],
                        [
                          0.6666666666666666,
                          "#ed7953"
                        ],
                        [
                          0.7777777777777778,
                          "#fb9f3a"
                        ],
                        [
                          0.8888888888888888,
                          "#fdca26"
                        ],
                        [
                          1,
                          "#f0f921"
                        ]
                      ],
                      "sequentialminus": [
                        [
                          0,
                          "#0d0887"
                        ],
                        [
                          0.1111111111111111,
                          "#46039f"
                        ],
                        [
                          0.2222222222222222,
                          "#7201a8"
                        ],
                        [
                          0.3333333333333333,
                          "#9c179e"
                        ],
                        [
                          0.4444444444444444,
                          "#bd3786"
                        ],
                        [
                          0.5555555555555556,
                          "#d8576b"
                        ],
                        [
                          0.6666666666666666,
                          "#ed7953"
                        ],
                        [
                          0.7777777777777778,
                          "#fb9f3a"
                        ],
                        [
                          0.8888888888888888,
                          "#fdca26"
                        ],
                        [
                          1,
                          "#f0f921"
                        ]
                      ]
                    },
                    "colorway": [
                      "#636efa",
                      "#EF553B",
                      "#00cc96",
                      "#ab63fa",
                      "#FFA15A",
                      "#19d3f3",
                      "#FF6692",
                      "#B6E880",
                      "#FF97FF",
                      "#FECB52"
                    ],
                    "font": {
                      "color": "#2a3f5f"
                    },
                    "geo": {
                      "bgcolor": "white",
                      "lakecolor": "white",
                      "landcolor": "#E5ECF6",
                      "showlakes": true,
                      "showland": true,
                      "subunitcolor": "white"
                    },
                    "hoverlabel": {
                      "align": "left"
                    },
                    "hovermode": "closest",
                    "mapbox": {
                      "style": "light"
                    },
                    "paper_bgcolor": "white",
                    "plot_bgcolor": "#E5ECF6",
                    "polar": {
                      "angularaxis": {
                        "gridcolor": "white",
                        "linecolor": "white",
                        "ticks": ""
                      },
                      "bgcolor": "#E5ECF6",
                      "radialaxis": {
                        "gridcolor": "white",
                        "linecolor": "white",
                        "ticks": ""
                      }
                    },
                    "scene": {
                      "xaxis": {
                        "backgroundcolor": "#E5ECF6",
                        "gridcolor": "white",
                        "gridwidth": 2,
                        "linecolor": "white",
                        "showbackground": true,
                        "ticks": "",
                        "zerolinecolor": "white"
                      },
                      "yaxis": {
                        "backgroundcolor": "#E5ECF6",
                        "gridcolor": "white",
                        "gridwidth": 2,
                        "linecolor": "white",
                        "showbackground": true,
                        "ticks": "",
                        "zerolinecolor": "white"
                      },
                      "zaxis": {
                        "backgroundcolor": "#E5ECF6",
                        "gridcolor": "white",
                        "gridwidth": 2,
                        "linecolor": "white",
                        "showbackground": true,
                        "ticks": "",
                        "zerolinecolor": "white"
                      }
                    },
                    "shapedefaults": {
                      "line": {
                        "color": "#2a3f5f"
                      }
                    },
                    "ternary": {
                      "aaxis": {
                        "gridcolor": "white",
                        "linecolor": "white",
                        "ticks": ""
                      },
                      "baxis": {
                        "gridcolor": "white",
                        "linecolor": "white",
                        "ticks": ""
                      },
                      "bgcolor": "#E5ECF6",
                      "caxis": {
                        "gridcolor": "white",
                        "linecolor": "white",
                        "ticks": ""
                      }
                    },
                    "title": {
                      "x": 0.05
                    },
                    "xaxis": {
                      "automargin": true,
                      "gridcolor": "white",
                      "linecolor": "white",
                      "ticks": "",
                      "title": {
                        "standoff": 15
                      },
                      "zerolinecolor": "white",
                      "zerolinewidth": 2
                    },
                    "yaxis": {
                      "automargin": true,
                      "gridcolor": "white",
                      "linecolor": "white",
                      "ticks": "",
                      "title": {
                        "standoff": 15
                      },
                      "zerolinecolor": "white",
                      "zerolinewidth": 2
                    }
                  }
                },
                "title": {
                  "text": "Título del gráfico de líneas"
                },
                "xaxis": {
                  "anchor": "y",
                  "domain": [
                    0,
                    1
                  ],
                  "title": {
                    "text": "Tiempo"
                  }
                },
                "yaxis": {
                  "anchor": "x",
                  "domain": [
                    0,
                    1
                  ],
                  "title": {
                    "text": "Ventas"
                  }
                }
              }
            }
          },
          "metadata": {},
          "output_type": "display_data"
        }
      ],
      "source": [
        "ventas = []\n",
        "for mes in meses:\n",
        "  #extraigo la suma de la Cantidad Pedida por cada mes\n",
        "    cantidades = dataframes[mes][['Cantidad Pedida']].sum()\n",
        "    cantidades = cantidades.values\n",
        "    cantidades = int(cantidades[0])\n",
        "    ventas.append(cantidades)\n",
        "\n",
        "fig = px.line(x = meses, y = ventas,\n",
        "      text= ventas,\n",
        "            title = \"Título del gráfico de líneas\",\n",
        "                  labels = {'x': 'Tiempo', 'y':'Ventas'},\n",
        "                                      markers = True)\n",
        "\n",
        "fig.show()"
      ]
    },
    {
      "cell_type": "markdown",
      "metadata": {
        "id": "xbssESMRITWh"
      },
      "source": [
        "¿Cuál es el ingreso total generado por mes?"
      ]
    },
    {
      "cell_type": "code",
      "execution_count": 74,
      "metadata": {
        "id": "iJM55dE6IVRT"
      },
      "outputs": [],
      "source": [
        "#agrego una columna calculada total para multiplicar cantidad pedida por precio unitario\n",
        "for mes in meses:\n",
        "  #extraigo la suma de la Cantidad Pedida por cada mes\n",
        "  test = dataframes[mes][['Cantidad Pedida','Precio Unitario']].copy()\n",
        "  dataframes[mes]['total'] = test.loc[:,('Cantidad Pedida')] * test.loc[:,('Precio Unitario')]\n",
        "\n",
        "total_ventas = []\n",
        "for mes in meses:\n",
        "    #extraigo la suma de la Cantidad Pedida por cada mes\n",
        "      total = dataframes[mes][['total']].sum()\n",
        "      total = total.values\n",
        "      total = int(total[0])\n",
        "      total_ventas.append(total)"
      ]
    },
    {
      "cell_type": "code",
      "execution_count": 75,
      "metadata": {
        "colab": {
          "base_uri": "https://localhost:8080/",
          "height": 542
        },
        "id": "ud4y30KbOgdm",
        "outputId": "6067da49-8664-4853-cb39-61e5fd8fdacf"
      },
      "outputs": [
        {
          "data": {
            "application/vnd.plotly.v1+json": {
              "config": {
                "plotlyServerURL": "https://plot.ly"
              },
              "data": [
                {
                  "hovertemplate": "Tiempo=%{x}<br>Ventas=%{y}<br>text=%{text}<extra></extra>",
                  "legendgroup": "",
                  "line": {
                    "color": "#636efa",
                    "dash": "solid"
                  },
                  "marker": {
                    "symbol": "circle"
                  },
                  "mode": "text+lines+markers",
                  "name": "",
                  "orientation": "v",
                  "showlegend": false,
                  "text": [
                    1815335,
                    2203481,
                    2809063,
                    3396059,
                    3144584,
                    2578293,
                    2646899,
                    2244412,
                    2098816,
                    3736884,
                    3198909,
                    4619297
                  ],
                  "type": "scatter",
                  "x": [
                    "Enero",
                    "Febrero",
                    "Marzo",
                    "Abril",
                    "Mayo",
                    "Junio",
                    "Julio",
                    "Agosto",
                    "Septiembre",
                    "Octubre",
                    "Noviembre",
                    "Diciembre"
                  ],
                  "xaxis": "x",
                  "y": [
                    1815335,
                    2203481,
                    2809063,
                    3396059,
                    3144584,
                    2578293,
                    2646899,
                    2244412,
                    2098816,
                    3736884,
                    3198909,
                    4619297
                  ],
                  "yaxis": "y"
                }
              ],
              "layout": {
                "legend": {
                  "tracegroupgap": 0
                },
                "template": {
                  "data": {
                    "bar": [
                      {
                        "error_x": {
                          "color": "#2a3f5f"
                        },
                        "error_y": {
                          "color": "#2a3f5f"
                        },
                        "marker": {
                          "line": {
                            "color": "#E5ECF6",
                            "width": 0.5
                          },
                          "pattern": {
                            "fillmode": "overlay",
                            "size": 10,
                            "solidity": 0.2
                          }
                        },
                        "type": "bar"
                      }
                    ],
                    "barpolar": [
                      {
                        "marker": {
                          "line": {
                            "color": "#E5ECF6",
                            "width": 0.5
                          },
                          "pattern": {
                            "fillmode": "overlay",
                            "size": 10,
                            "solidity": 0.2
                          }
                        },
                        "type": "barpolar"
                      }
                    ],
                    "carpet": [
                      {
                        "aaxis": {
                          "endlinecolor": "#2a3f5f",
                          "gridcolor": "white",
                          "linecolor": "white",
                          "minorgridcolor": "white",
                          "startlinecolor": "#2a3f5f"
                        },
                        "baxis": {
                          "endlinecolor": "#2a3f5f",
                          "gridcolor": "white",
                          "linecolor": "white",
                          "minorgridcolor": "white",
                          "startlinecolor": "#2a3f5f"
                        },
                        "type": "carpet"
                      }
                    ],
                    "choropleth": [
                      {
                        "colorbar": {
                          "outlinewidth": 0,
                          "ticks": ""
                        },
                        "type": "choropleth"
                      }
                    ],
                    "contour": [
                      {
                        "colorbar": {
                          "outlinewidth": 0,
                          "ticks": ""
                        },
                        "colorscale": [
                          [
                            0,
                            "#0d0887"
                          ],
                          [
                            0.1111111111111111,
                            "#46039f"
                          ],
                          [
                            0.2222222222222222,
                            "#7201a8"
                          ],
                          [
                            0.3333333333333333,
                            "#9c179e"
                          ],
                          [
                            0.4444444444444444,
                            "#bd3786"
                          ],
                          [
                            0.5555555555555556,
                            "#d8576b"
                          ],
                          [
                            0.6666666666666666,
                            "#ed7953"
                          ],
                          [
                            0.7777777777777778,
                            "#fb9f3a"
                          ],
                          [
                            0.8888888888888888,
                            "#fdca26"
                          ],
                          [
                            1,
                            "#f0f921"
                          ]
                        ],
                        "type": "contour"
                      }
                    ],
                    "contourcarpet": [
                      {
                        "colorbar": {
                          "outlinewidth": 0,
                          "ticks": ""
                        },
                        "type": "contourcarpet"
                      }
                    ],
                    "heatmap": [
                      {
                        "colorbar": {
                          "outlinewidth": 0,
                          "ticks": ""
                        },
                        "colorscale": [
                          [
                            0,
                            "#0d0887"
                          ],
                          [
                            0.1111111111111111,
                            "#46039f"
                          ],
                          [
                            0.2222222222222222,
                            "#7201a8"
                          ],
                          [
                            0.3333333333333333,
                            "#9c179e"
                          ],
                          [
                            0.4444444444444444,
                            "#bd3786"
                          ],
                          [
                            0.5555555555555556,
                            "#d8576b"
                          ],
                          [
                            0.6666666666666666,
                            "#ed7953"
                          ],
                          [
                            0.7777777777777778,
                            "#fb9f3a"
                          ],
                          [
                            0.8888888888888888,
                            "#fdca26"
                          ],
                          [
                            1,
                            "#f0f921"
                          ]
                        ],
                        "type": "heatmap"
                      }
                    ],
                    "heatmapgl": [
                      {
                        "colorbar": {
                          "outlinewidth": 0,
                          "ticks": ""
                        },
                        "colorscale": [
                          [
                            0,
                            "#0d0887"
                          ],
                          [
                            0.1111111111111111,
                            "#46039f"
                          ],
                          [
                            0.2222222222222222,
                            "#7201a8"
                          ],
                          [
                            0.3333333333333333,
                            "#9c179e"
                          ],
                          [
                            0.4444444444444444,
                            "#bd3786"
                          ],
                          [
                            0.5555555555555556,
                            "#d8576b"
                          ],
                          [
                            0.6666666666666666,
                            "#ed7953"
                          ],
                          [
                            0.7777777777777778,
                            "#fb9f3a"
                          ],
                          [
                            0.8888888888888888,
                            "#fdca26"
                          ],
                          [
                            1,
                            "#f0f921"
                          ]
                        ],
                        "type": "heatmapgl"
                      }
                    ],
                    "histogram": [
                      {
                        "marker": {
                          "pattern": {
                            "fillmode": "overlay",
                            "size": 10,
                            "solidity": 0.2
                          }
                        },
                        "type": "histogram"
                      }
                    ],
                    "histogram2d": [
                      {
                        "colorbar": {
                          "outlinewidth": 0,
                          "ticks": ""
                        },
                        "colorscale": [
                          [
                            0,
                            "#0d0887"
                          ],
                          [
                            0.1111111111111111,
                            "#46039f"
                          ],
                          [
                            0.2222222222222222,
                            "#7201a8"
                          ],
                          [
                            0.3333333333333333,
                            "#9c179e"
                          ],
                          [
                            0.4444444444444444,
                            "#bd3786"
                          ],
                          [
                            0.5555555555555556,
                            "#d8576b"
                          ],
                          [
                            0.6666666666666666,
                            "#ed7953"
                          ],
                          [
                            0.7777777777777778,
                            "#fb9f3a"
                          ],
                          [
                            0.8888888888888888,
                            "#fdca26"
                          ],
                          [
                            1,
                            "#f0f921"
                          ]
                        ],
                        "type": "histogram2d"
                      }
                    ],
                    "histogram2dcontour": [
                      {
                        "colorbar": {
                          "outlinewidth": 0,
                          "ticks": ""
                        },
                        "colorscale": [
                          [
                            0,
                            "#0d0887"
                          ],
                          [
                            0.1111111111111111,
                            "#46039f"
                          ],
                          [
                            0.2222222222222222,
                            "#7201a8"
                          ],
                          [
                            0.3333333333333333,
                            "#9c179e"
                          ],
                          [
                            0.4444444444444444,
                            "#bd3786"
                          ],
                          [
                            0.5555555555555556,
                            "#d8576b"
                          ],
                          [
                            0.6666666666666666,
                            "#ed7953"
                          ],
                          [
                            0.7777777777777778,
                            "#fb9f3a"
                          ],
                          [
                            0.8888888888888888,
                            "#fdca26"
                          ],
                          [
                            1,
                            "#f0f921"
                          ]
                        ],
                        "type": "histogram2dcontour"
                      }
                    ],
                    "mesh3d": [
                      {
                        "colorbar": {
                          "outlinewidth": 0,
                          "ticks": ""
                        },
                        "type": "mesh3d"
                      }
                    ],
                    "parcoords": [
                      {
                        "line": {
                          "colorbar": {
                            "outlinewidth": 0,
                            "ticks": ""
                          }
                        },
                        "type": "parcoords"
                      }
                    ],
                    "pie": [
                      {
                        "automargin": true,
                        "type": "pie"
                      }
                    ],
                    "scatter": [
                      {
                        "marker": {
                          "colorbar": {
                            "outlinewidth": 0,
                            "ticks": ""
                          }
                        },
                        "type": "scatter"
                      }
                    ],
                    "scatter3d": [
                      {
                        "line": {
                          "colorbar": {
                            "outlinewidth": 0,
                            "ticks": ""
                          }
                        },
                        "marker": {
                          "colorbar": {
                            "outlinewidth": 0,
                            "ticks": ""
                          }
                        },
                        "type": "scatter3d"
                      }
                    ],
                    "scattercarpet": [
                      {
                        "marker": {
                          "colorbar": {
                            "outlinewidth": 0,
                            "ticks": ""
                          }
                        },
                        "type": "scattercarpet"
                      }
                    ],
                    "scattergeo": [
                      {
                        "marker": {
                          "colorbar": {
                            "outlinewidth": 0,
                            "ticks": ""
                          }
                        },
                        "type": "scattergeo"
                      }
                    ],
                    "scattergl": [
                      {
                        "marker": {
                          "colorbar": {
                            "outlinewidth": 0,
                            "ticks": ""
                          }
                        },
                        "type": "scattergl"
                      }
                    ],
                    "scattermapbox": [
                      {
                        "marker": {
                          "colorbar": {
                            "outlinewidth": 0,
                            "ticks": ""
                          }
                        },
                        "type": "scattermapbox"
                      }
                    ],
                    "scatterpolar": [
                      {
                        "marker": {
                          "colorbar": {
                            "outlinewidth": 0,
                            "ticks": ""
                          }
                        },
                        "type": "scatterpolar"
                      }
                    ],
                    "scatterpolargl": [
                      {
                        "marker": {
                          "colorbar": {
                            "outlinewidth": 0,
                            "ticks": ""
                          }
                        },
                        "type": "scatterpolargl"
                      }
                    ],
                    "scatterternary": [
                      {
                        "marker": {
                          "colorbar": {
                            "outlinewidth": 0,
                            "ticks": ""
                          }
                        },
                        "type": "scatterternary"
                      }
                    ],
                    "surface": [
                      {
                        "colorbar": {
                          "outlinewidth": 0,
                          "ticks": ""
                        },
                        "colorscale": [
                          [
                            0,
                            "#0d0887"
                          ],
                          [
                            0.1111111111111111,
                            "#46039f"
                          ],
                          [
                            0.2222222222222222,
                            "#7201a8"
                          ],
                          [
                            0.3333333333333333,
                            "#9c179e"
                          ],
                          [
                            0.4444444444444444,
                            "#bd3786"
                          ],
                          [
                            0.5555555555555556,
                            "#d8576b"
                          ],
                          [
                            0.6666666666666666,
                            "#ed7953"
                          ],
                          [
                            0.7777777777777778,
                            "#fb9f3a"
                          ],
                          [
                            0.8888888888888888,
                            "#fdca26"
                          ],
                          [
                            1,
                            "#f0f921"
                          ]
                        ],
                        "type": "surface"
                      }
                    ],
                    "table": [
                      {
                        "cells": {
                          "fill": {
                            "color": "#EBF0F8"
                          },
                          "line": {
                            "color": "white"
                          }
                        },
                        "header": {
                          "fill": {
                            "color": "#C8D4E3"
                          },
                          "line": {
                            "color": "white"
                          }
                        },
                        "type": "table"
                      }
                    ]
                  },
                  "layout": {
                    "annotationdefaults": {
                      "arrowcolor": "#2a3f5f",
                      "arrowhead": 0,
                      "arrowwidth": 1
                    },
                    "autotypenumbers": "strict",
                    "coloraxis": {
                      "colorbar": {
                        "outlinewidth": 0,
                        "ticks": ""
                      }
                    },
                    "colorscale": {
                      "diverging": [
                        [
                          0,
                          "#8e0152"
                        ],
                        [
                          0.1,
                          "#c51b7d"
                        ],
                        [
                          0.2,
                          "#de77ae"
                        ],
                        [
                          0.3,
                          "#f1b6da"
                        ],
                        [
                          0.4,
                          "#fde0ef"
                        ],
                        [
                          0.5,
                          "#f7f7f7"
                        ],
                        [
                          0.6,
                          "#e6f5d0"
                        ],
                        [
                          0.7,
                          "#b8e186"
                        ],
                        [
                          0.8,
                          "#7fbc41"
                        ],
                        [
                          0.9,
                          "#4d9221"
                        ],
                        [
                          1,
                          "#276419"
                        ]
                      ],
                      "sequential": [
                        [
                          0,
                          "#0d0887"
                        ],
                        [
                          0.1111111111111111,
                          "#46039f"
                        ],
                        [
                          0.2222222222222222,
                          "#7201a8"
                        ],
                        [
                          0.3333333333333333,
                          "#9c179e"
                        ],
                        [
                          0.4444444444444444,
                          "#bd3786"
                        ],
                        [
                          0.5555555555555556,
                          "#d8576b"
                        ],
                        [
                          0.6666666666666666,
                          "#ed7953"
                        ],
                        [
                          0.7777777777777778,
                          "#fb9f3a"
                        ],
                        [
                          0.8888888888888888,
                          "#fdca26"
                        ],
                        [
                          1,
                          "#f0f921"
                        ]
                      ],
                      "sequentialminus": [
                        [
                          0,
                          "#0d0887"
                        ],
                        [
                          0.1111111111111111,
                          "#46039f"
                        ],
                        [
                          0.2222222222222222,
                          "#7201a8"
                        ],
                        [
                          0.3333333333333333,
                          "#9c179e"
                        ],
                        [
                          0.4444444444444444,
                          "#bd3786"
                        ],
                        [
                          0.5555555555555556,
                          "#d8576b"
                        ],
                        [
                          0.6666666666666666,
                          "#ed7953"
                        ],
                        [
                          0.7777777777777778,
                          "#fb9f3a"
                        ],
                        [
                          0.8888888888888888,
                          "#fdca26"
                        ],
                        [
                          1,
                          "#f0f921"
                        ]
                      ]
                    },
                    "colorway": [
                      "#636efa",
                      "#EF553B",
                      "#00cc96",
                      "#ab63fa",
                      "#FFA15A",
                      "#19d3f3",
                      "#FF6692",
                      "#B6E880",
                      "#FF97FF",
                      "#FECB52"
                    ],
                    "font": {
                      "color": "#2a3f5f"
                    },
                    "geo": {
                      "bgcolor": "white",
                      "lakecolor": "white",
                      "landcolor": "#E5ECF6",
                      "showlakes": true,
                      "showland": true,
                      "subunitcolor": "white"
                    },
                    "hoverlabel": {
                      "align": "left"
                    },
                    "hovermode": "closest",
                    "mapbox": {
                      "style": "light"
                    },
                    "paper_bgcolor": "white",
                    "plot_bgcolor": "#E5ECF6",
                    "polar": {
                      "angularaxis": {
                        "gridcolor": "white",
                        "linecolor": "white",
                        "ticks": ""
                      },
                      "bgcolor": "#E5ECF6",
                      "radialaxis": {
                        "gridcolor": "white",
                        "linecolor": "white",
                        "ticks": ""
                      }
                    },
                    "scene": {
                      "xaxis": {
                        "backgroundcolor": "#E5ECF6",
                        "gridcolor": "white",
                        "gridwidth": 2,
                        "linecolor": "white",
                        "showbackground": true,
                        "ticks": "",
                        "zerolinecolor": "white"
                      },
                      "yaxis": {
                        "backgroundcolor": "#E5ECF6",
                        "gridcolor": "white",
                        "gridwidth": 2,
                        "linecolor": "white",
                        "showbackground": true,
                        "ticks": "",
                        "zerolinecolor": "white"
                      },
                      "zaxis": {
                        "backgroundcolor": "#E5ECF6",
                        "gridcolor": "white",
                        "gridwidth": 2,
                        "linecolor": "white",
                        "showbackground": true,
                        "ticks": "",
                        "zerolinecolor": "white"
                      }
                    },
                    "shapedefaults": {
                      "line": {
                        "color": "#2a3f5f"
                      }
                    },
                    "ternary": {
                      "aaxis": {
                        "gridcolor": "white",
                        "linecolor": "white",
                        "ticks": ""
                      },
                      "baxis": {
                        "gridcolor": "white",
                        "linecolor": "white",
                        "ticks": ""
                      },
                      "bgcolor": "#E5ECF6",
                      "caxis": {
                        "gridcolor": "white",
                        "linecolor": "white",
                        "ticks": ""
                      }
                    },
                    "title": {
                      "x": 0.05
                    },
                    "xaxis": {
                      "automargin": true,
                      "gridcolor": "white",
                      "linecolor": "white",
                      "ticks": "",
                      "title": {
                        "standoff": 15
                      },
                      "zerolinecolor": "white",
                      "zerolinewidth": 2
                    },
                    "yaxis": {
                      "automargin": true,
                      "gridcolor": "white",
                      "linecolor": "white",
                      "ticks": "",
                      "title": {
                        "standoff": 15
                      },
                      "zerolinecolor": "white",
                      "zerolinewidth": 2
                    }
                  }
                },
                "title": {
                  "text": "Título del gráfico de líneas"
                },
                "xaxis": {
                  "anchor": "y",
                  "domain": [
                    0,
                    1
                  ],
                  "title": {
                    "text": "Tiempo"
                  }
                },
                "yaxis": {
                  "anchor": "x",
                  "domain": [
                    0,
                    1
                  ],
                  "title": {
                    "text": "Ventas"
                  }
                }
              }
            }
          },
          "metadata": {},
          "output_type": "display_data"
        }
      ],
      "source": [
        "fig = px.line(x = meses, y = total_ventas,\n",
        "    text= total_ventas,\n",
        "    title = \"Título del gráfico de líneas\",\n",
        "    labels = {'x': 'Tiempo', 'y':'Ventas'},\n",
        "                        markers = True)\n",
        "\n",
        "fig.show()"
      ]
    },
    {
      "cell_type": "markdown",
      "metadata": {},
      "source": [
        "# 2. Optimización de la publicidad y patrón de ventas por hora:"
      ]
    },
    {
      "cell_type": "markdown",
      "metadata": {},
      "source": [
        "¿Cómo cambian los patrones de ventas por hora a lo largo del año?"
      ]
    },
    {
      "cell_type": "code",
      "execution_count": 95,
      "metadata": {},
      "outputs": [
        {
          "data": {
            "application/vnd.plotly.v1+json": {
              "config": {
                "plotlyServerURL": "https://plot.ly"
              },
              "data": [
                {
                  "line": {
                    "shape": "spline",
                    "width": 2
                  },
                  "mode": "lines",
                  "name": "Enero",
                  "type": "scatter",
                  "x": [
                    0,
                    1,
                    2,
                    3,
                    4,
                    5,
                    6,
                    7,
                    8,
                    9,
                    10,
                    11,
                    12,
                    13,
                    14,
                    15,
                    16,
                    17,
                    18,
                    19,
                    20,
                    21,
                    22,
                    23
                  ],
                  "y": [
                    209,
                    113,
                    77,
                    34,
                    45,
                    73,
                    137,
                    179,
                    324,
                    493,
                    598,
                    655,
                    670,
                    607,
                    542,
                    545,
                    554,
                    508,
                    635,
                    657,
                    620,
                    576,
                    455,
                    375
                  ]
                },
                {
                  "line": {
                    "shape": "spline",
                    "width": 2
                  },
                  "mode": "lines",
                  "name": "Febrero",
                  "type": "scatter",
                  "x": [
                    0,
                    1,
                    2,
                    3,
                    4,
                    5,
                    6,
                    7,
                    8,
                    9,
                    10,
                    11,
                    12,
                    13,
                    14,
                    15,
                    16,
                    17,
                    18,
                    19,
                    20,
                    21,
                    22,
                    23
                  ],
                  "y": [
                    250,
                    159,
                    87,
                    60,
                    49,
                    83,
                    165,
                    243,
                    411,
                    589,
                    731,
                    755,
                    771,
                    782,
                    680,
                    659,
                    696,
                    740,
                    805,
                    804,
                    765,
                    745,
                    586,
                    371
                  ]
                },
                {
                  "line": {
                    "shape": "spline",
                    "width": 2
                  },
                  "mode": "lines",
                  "name": "Marzo",
                  "type": "scatter",
                  "x": [
                    0,
                    1,
                    2,
                    3,
                    4,
                    5,
                    6,
                    7,
                    8,
                    9,
                    10,
                    11,
                    12,
                    13,
                    14,
                    15,
                    16,
                    17,
                    18,
                    19,
                    20,
                    21,
                    22,
                    23
                  ],
                  "y": [
                    296,
                    185,
                    111,
                    68,
                    58,
                    108,
                    209,
                    325,
                    496,
                    690,
                    860,
                    1066,
                    1008,
                    1043,
                    890,
                    821,
                    859,
                    850,
                    1024,
                    1098,
                    989,
                    868,
                    726,
                    506
                  ]
                },
                {
                  "line": {
                    "shape": "spline",
                    "width": 2
                  },
                  "mode": "lines",
                  "name": "Abril",
                  "type": "scatter",
                  "x": [
                    0,
                    1,
                    2,
                    3,
                    4,
                    5,
                    6,
                    7,
                    8,
                    9,
                    10,
                    11,
                    12,
                    13,
                    14,
                    15,
                    16,
                    17,
                    18,
                    19,
                    20,
                    21,
                    22,
                    23
                  ],
                  "y": [
                    378,
                    244,
                    132,
                    85,
                    84,
                    143,
                    254,
                    384,
                    643,
                    869,
                    1134,
                    1201,
                    1201,
                    1192,
                    1112,
                    986,
                    1054,
                    1013,
                    1227,
                    1286,
                    1201,
                    1018,
                    849,
                    599
                  ]
                },
                {
                  "line": {
                    "shape": "spline",
                    "width": 2
                  },
                  "mode": "lines",
                  "name": "Mayo",
                  "type": "scatter",
                  "x": [
                    0,
                    1,
                    2,
                    3,
                    4,
                    5,
                    6,
                    7,
                    8,
                    9,
                    10,
                    11,
                    12,
                    13,
                    14,
                    15,
                    16,
                    17,
                    18,
                    19,
                    20,
                    21,
                    22,
                    23
                  ],
                  "y": [
                    347,
                    202,
                    113,
                    63,
                    75,
                    104,
                    198,
                    353,
                    600,
                    810,
                    974,
                    1058,
                    1201,
                    1057,
                    1004,
                    832,
                    882,
                    993,
                    1108,
                    1165,
                    1142,
                    948,
                    772,
                    553
                  ]
                },
                {
                  "line": {
                    "shape": "spline",
                    "width": 2
                  },
                  "mode": "lines",
                  "name": "Junio",
                  "type": "scatter",
                  "x": [
                    0,
                    1,
                    2,
                    3,
                    4,
                    5,
                    6,
                    7,
                    8,
                    9,
                    10,
                    11,
                    12,
                    13,
                    14,
                    15,
                    16,
                    17,
                    18,
                    19,
                    20,
                    21,
                    22,
                    23
                  ],
                  "y": [
                    300,
                    166,
                    80,
                    66,
                    65,
                    79,
                    164,
                    279,
                    474,
                    658,
                    799,
                    927,
                    889,
                    878,
                    788,
                    772,
                    740,
                    807,
                    918,
                    885,
                    901,
                    814,
                    655,
                    452
                  ]
                },
                {
                  "line": {
                    "shape": "spline",
                    "width": 2
                  },
                  "mode": "lines",
                  "name": "Julio",
                  "type": "scatter",
                  "x": [
                    0,
                    1,
                    2,
                    3,
                    4,
                    5,
                    6,
                    7,
                    8,
                    9,
                    10,
                    11,
                    12,
                    13,
                    14,
                    15,
                    16,
                    17,
                    18,
                    19,
                    20,
                    21,
                    22,
                    23
                  ],
                  "y": [
                    319,
                    168,
                    81,
                    62,
                    67,
                    108,
                    170,
                    329,
                    503,
                    687,
                    789,
                    996,
                    964,
                    894,
                    835,
                    778,
                    777,
                    904,
                    916,
                    954,
                    953,
                    859,
                    695,
                    483
                  ]
                },
                {
                  "line": {
                    "shape": "spline",
                    "width": 2
                  },
                  "mode": "lines",
                  "name": "Agosto",
                  "type": "scatter",
                  "x": [
                    0,
                    1,
                    2,
                    3,
                    4,
                    5,
                    6,
                    7,
                    8,
                    9,
                    10,
                    11,
                    12,
                    13,
                    14,
                    15,
                    16,
                    17,
                    18,
                    19,
                    20,
                    21,
                    22,
                    23
                  ],
                  "y": [
                    247,
                    138,
                    85,
                    53,
                    55,
                    97,
                    175,
                    293,
                    410,
                    524,
                    695,
                    792,
                    799,
                    769,
                    700,
                    707,
                    673,
                    670,
                    754,
                    834,
                    824,
                    669,
                    594,
                    400
                  ]
                },
                {
                  "line": {
                    "shape": "spline",
                    "width": 2
                  },
                  "mode": "lines",
                  "name": "Septiembre",
                  "type": "scatter",
                  "x": [
                    0,
                    1,
                    2,
                    3,
                    4,
                    5,
                    6,
                    7,
                    8,
                    9,
                    10,
                    11,
                    12,
                    13,
                    14,
                    15,
                    16,
                    17,
                    18,
                    19,
                    20,
                    21,
                    22,
                    23
                  ],
                  "y": [
                    260,
                    164,
                    78,
                    55,
                    39,
                    89,
                    144,
                    217,
                    375,
                    563,
                    630,
                    761,
                    775,
                    764,
                    732,
                    608,
                    622,
                    735,
                    745,
                    793,
                    722,
                    752,
                    586,
                    420
                  ]
                },
                {
                  "line": {
                    "shape": "spline",
                    "width": 2
                  },
                  "mode": "lines",
                  "name": "Octubre",
                  "type": "scatter",
                  "x": [
                    0,
                    1,
                    2,
                    3,
                    4,
                    5,
                    6,
                    7,
                    8,
                    9,
                    10,
                    11,
                    12,
                    13,
                    14,
                    15,
                    16,
                    17,
                    18,
                    19,
                    20,
                    21,
                    22,
                    23
                  ],
                  "y": [
                    432,
                    268,
                    137,
                    88,
                    110,
                    138,
                    289,
                    449,
                    653,
                    944,
                    1249,
                    1379,
                    1425,
                    1313,
                    1168,
                    1114,
                    1203,
                    1146,
                    1296,
                    1446,
                    1279,
                    1204,
                    916,
                    638
                  ]
                },
                {
                  "line": {
                    "shape": "spline",
                    "width": 2
                  },
                  "mode": "lines",
                  "name": "Noviembre",
                  "type": "scatter",
                  "x": [
                    0,
                    1,
                    2,
                    3,
                    4,
                    5,
                    6,
                    7,
                    8,
                    9,
                    10,
                    11,
                    12,
                    13,
                    14,
                    15,
                    16,
                    17,
                    18,
                    19,
                    20,
                    21,
                    22,
                    23
                  ],
                  "y": [
                    375,
                    223,
                    107,
                    83,
                    76,
                    108,
                    245,
                    375,
                    534,
                    794,
                    975,
                    1164,
                    1191,
                    1189,
                    1041,
                    952,
                    989,
                    1102,
                    1185,
                    1192,
                    1197,
                    1052,
                    810,
                    621
                  ]
                },
                {
                  "line": {
                    "shape": "spline",
                    "width": 2
                  },
                  "mode": "lines",
                  "name": "Diciembre",
                  "type": "scatter",
                  "x": [
                    0,
                    1,
                    2,
                    3,
                    4,
                    5,
                    6,
                    7,
                    8,
                    9,
                    10,
                    11,
                    12,
                    13,
                    14,
                    15,
                    16,
                    17,
                    18,
                    19,
                    20,
                    21,
                    22,
                    23
                  ],
                  "y": [
                    497,
                    320,
                    155,
                    114,
                    131,
                    191,
                    332,
                    585,
                    833,
                    1127,
                    1510,
                    1657,
                    1693,
                    1641,
                    1492,
                    1401,
                    1335,
                    1431,
                    1667,
                    1791,
                    1635,
                    1416,
                    1178,
                    857
                  ]
                }
              ],
              "layout": {
                "legend": {
                  "y": 0.3,
                  "yanchor": "bottom"
                },
                "template": {
                  "data": {
                    "bar": [
                      {
                        "error_x": {
                          "color": "#2a3f5f"
                        },
                        "error_y": {
                          "color": "#2a3f5f"
                        },
                        "marker": {
                          "line": {
                            "color": "#E5ECF6",
                            "width": 0.5
                          },
                          "pattern": {
                            "fillmode": "overlay",
                            "size": 10,
                            "solidity": 0.2
                          }
                        },
                        "type": "bar"
                      }
                    ],
                    "barpolar": [
                      {
                        "marker": {
                          "line": {
                            "color": "#E5ECF6",
                            "width": 0.5
                          },
                          "pattern": {
                            "fillmode": "overlay",
                            "size": 10,
                            "solidity": 0.2
                          }
                        },
                        "type": "barpolar"
                      }
                    ],
                    "carpet": [
                      {
                        "aaxis": {
                          "endlinecolor": "#2a3f5f",
                          "gridcolor": "white",
                          "linecolor": "white",
                          "minorgridcolor": "white",
                          "startlinecolor": "#2a3f5f"
                        },
                        "baxis": {
                          "endlinecolor": "#2a3f5f",
                          "gridcolor": "white",
                          "linecolor": "white",
                          "minorgridcolor": "white",
                          "startlinecolor": "#2a3f5f"
                        },
                        "type": "carpet"
                      }
                    ],
                    "choropleth": [
                      {
                        "colorbar": {
                          "outlinewidth": 0,
                          "ticks": ""
                        },
                        "type": "choropleth"
                      }
                    ],
                    "contour": [
                      {
                        "colorbar": {
                          "outlinewidth": 0,
                          "ticks": ""
                        },
                        "colorscale": [
                          [
                            0,
                            "#0d0887"
                          ],
                          [
                            0.1111111111111111,
                            "#46039f"
                          ],
                          [
                            0.2222222222222222,
                            "#7201a8"
                          ],
                          [
                            0.3333333333333333,
                            "#9c179e"
                          ],
                          [
                            0.4444444444444444,
                            "#bd3786"
                          ],
                          [
                            0.5555555555555556,
                            "#d8576b"
                          ],
                          [
                            0.6666666666666666,
                            "#ed7953"
                          ],
                          [
                            0.7777777777777778,
                            "#fb9f3a"
                          ],
                          [
                            0.8888888888888888,
                            "#fdca26"
                          ],
                          [
                            1,
                            "#f0f921"
                          ]
                        ],
                        "type": "contour"
                      }
                    ],
                    "contourcarpet": [
                      {
                        "colorbar": {
                          "outlinewidth": 0,
                          "ticks": ""
                        },
                        "type": "contourcarpet"
                      }
                    ],
                    "heatmap": [
                      {
                        "colorbar": {
                          "outlinewidth": 0,
                          "ticks": ""
                        },
                        "colorscale": [
                          [
                            0,
                            "#0d0887"
                          ],
                          [
                            0.1111111111111111,
                            "#46039f"
                          ],
                          [
                            0.2222222222222222,
                            "#7201a8"
                          ],
                          [
                            0.3333333333333333,
                            "#9c179e"
                          ],
                          [
                            0.4444444444444444,
                            "#bd3786"
                          ],
                          [
                            0.5555555555555556,
                            "#d8576b"
                          ],
                          [
                            0.6666666666666666,
                            "#ed7953"
                          ],
                          [
                            0.7777777777777778,
                            "#fb9f3a"
                          ],
                          [
                            0.8888888888888888,
                            "#fdca26"
                          ],
                          [
                            1,
                            "#f0f921"
                          ]
                        ],
                        "type": "heatmap"
                      }
                    ],
                    "heatmapgl": [
                      {
                        "colorbar": {
                          "outlinewidth": 0,
                          "ticks": ""
                        },
                        "colorscale": [
                          [
                            0,
                            "#0d0887"
                          ],
                          [
                            0.1111111111111111,
                            "#46039f"
                          ],
                          [
                            0.2222222222222222,
                            "#7201a8"
                          ],
                          [
                            0.3333333333333333,
                            "#9c179e"
                          ],
                          [
                            0.4444444444444444,
                            "#bd3786"
                          ],
                          [
                            0.5555555555555556,
                            "#d8576b"
                          ],
                          [
                            0.6666666666666666,
                            "#ed7953"
                          ],
                          [
                            0.7777777777777778,
                            "#fb9f3a"
                          ],
                          [
                            0.8888888888888888,
                            "#fdca26"
                          ],
                          [
                            1,
                            "#f0f921"
                          ]
                        ],
                        "type": "heatmapgl"
                      }
                    ],
                    "histogram": [
                      {
                        "marker": {
                          "pattern": {
                            "fillmode": "overlay",
                            "size": 10,
                            "solidity": 0.2
                          }
                        },
                        "type": "histogram"
                      }
                    ],
                    "histogram2d": [
                      {
                        "colorbar": {
                          "outlinewidth": 0,
                          "ticks": ""
                        },
                        "colorscale": [
                          [
                            0,
                            "#0d0887"
                          ],
                          [
                            0.1111111111111111,
                            "#46039f"
                          ],
                          [
                            0.2222222222222222,
                            "#7201a8"
                          ],
                          [
                            0.3333333333333333,
                            "#9c179e"
                          ],
                          [
                            0.4444444444444444,
                            "#bd3786"
                          ],
                          [
                            0.5555555555555556,
                            "#d8576b"
                          ],
                          [
                            0.6666666666666666,
                            "#ed7953"
                          ],
                          [
                            0.7777777777777778,
                            "#fb9f3a"
                          ],
                          [
                            0.8888888888888888,
                            "#fdca26"
                          ],
                          [
                            1,
                            "#f0f921"
                          ]
                        ],
                        "type": "histogram2d"
                      }
                    ],
                    "histogram2dcontour": [
                      {
                        "colorbar": {
                          "outlinewidth": 0,
                          "ticks": ""
                        },
                        "colorscale": [
                          [
                            0,
                            "#0d0887"
                          ],
                          [
                            0.1111111111111111,
                            "#46039f"
                          ],
                          [
                            0.2222222222222222,
                            "#7201a8"
                          ],
                          [
                            0.3333333333333333,
                            "#9c179e"
                          ],
                          [
                            0.4444444444444444,
                            "#bd3786"
                          ],
                          [
                            0.5555555555555556,
                            "#d8576b"
                          ],
                          [
                            0.6666666666666666,
                            "#ed7953"
                          ],
                          [
                            0.7777777777777778,
                            "#fb9f3a"
                          ],
                          [
                            0.8888888888888888,
                            "#fdca26"
                          ],
                          [
                            1,
                            "#f0f921"
                          ]
                        ],
                        "type": "histogram2dcontour"
                      }
                    ],
                    "mesh3d": [
                      {
                        "colorbar": {
                          "outlinewidth": 0,
                          "ticks": ""
                        },
                        "type": "mesh3d"
                      }
                    ],
                    "parcoords": [
                      {
                        "line": {
                          "colorbar": {
                            "outlinewidth": 0,
                            "ticks": ""
                          }
                        },
                        "type": "parcoords"
                      }
                    ],
                    "pie": [
                      {
                        "automargin": true,
                        "type": "pie"
                      }
                    ],
                    "scatter": [
                      {
                        "marker": {
                          "colorbar": {
                            "outlinewidth": 0,
                            "ticks": ""
                          }
                        },
                        "type": "scatter"
                      }
                    ],
                    "scatter3d": [
                      {
                        "line": {
                          "colorbar": {
                            "outlinewidth": 0,
                            "ticks": ""
                          }
                        },
                        "marker": {
                          "colorbar": {
                            "outlinewidth": 0,
                            "ticks": ""
                          }
                        },
                        "type": "scatter3d"
                      }
                    ],
                    "scattercarpet": [
                      {
                        "marker": {
                          "colorbar": {
                            "outlinewidth": 0,
                            "ticks": ""
                          }
                        },
                        "type": "scattercarpet"
                      }
                    ],
                    "scattergeo": [
                      {
                        "marker": {
                          "colorbar": {
                            "outlinewidth": 0,
                            "ticks": ""
                          }
                        },
                        "type": "scattergeo"
                      }
                    ],
                    "scattergl": [
                      {
                        "marker": {
                          "colorbar": {
                            "outlinewidth": 0,
                            "ticks": ""
                          }
                        },
                        "type": "scattergl"
                      }
                    ],
                    "scattermapbox": [
                      {
                        "marker": {
                          "colorbar": {
                            "outlinewidth": 0,
                            "ticks": ""
                          }
                        },
                        "type": "scattermapbox"
                      }
                    ],
                    "scatterpolar": [
                      {
                        "marker": {
                          "colorbar": {
                            "outlinewidth": 0,
                            "ticks": ""
                          }
                        },
                        "type": "scatterpolar"
                      }
                    ],
                    "scatterpolargl": [
                      {
                        "marker": {
                          "colorbar": {
                            "outlinewidth": 0,
                            "ticks": ""
                          }
                        },
                        "type": "scatterpolargl"
                      }
                    ],
                    "scatterternary": [
                      {
                        "marker": {
                          "colorbar": {
                            "outlinewidth": 0,
                            "ticks": ""
                          }
                        },
                        "type": "scatterternary"
                      }
                    ],
                    "surface": [
                      {
                        "colorbar": {
                          "outlinewidth": 0,
                          "ticks": ""
                        },
                        "colorscale": [
                          [
                            0,
                            "#0d0887"
                          ],
                          [
                            0.1111111111111111,
                            "#46039f"
                          ],
                          [
                            0.2222222222222222,
                            "#7201a8"
                          ],
                          [
                            0.3333333333333333,
                            "#9c179e"
                          ],
                          [
                            0.4444444444444444,
                            "#bd3786"
                          ],
                          [
                            0.5555555555555556,
                            "#d8576b"
                          ],
                          [
                            0.6666666666666666,
                            "#ed7953"
                          ],
                          [
                            0.7777777777777778,
                            "#fb9f3a"
                          ],
                          [
                            0.8888888888888888,
                            "#fdca26"
                          ],
                          [
                            1,
                            "#f0f921"
                          ]
                        ],
                        "type": "surface"
                      }
                    ],
                    "table": [
                      {
                        "cells": {
                          "fill": {
                            "color": "#EBF0F8"
                          },
                          "line": {
                            "color": "white"
                          }
                        },
                        "header": {
                          "fill": {
                            "color": "#C8D4E3"
                          },
                          "line": {
                            "color": "white"
                          }
                        },
                        "type": "table"
                      }
                    ]
                  },
                  "layout": {
                    "annotationdefaults": {
                      "arrowcolor": "#2a3f5f",
                      "arrowhead": 0,
                      "arrowwidth": 1
                    },
                    "autotypenumbers": "strict",
                    "coloraxis": {
                      "colorbar": {
                        "outlinewidth": 0,
                        "ticks": ""
                      }
                    },
                    "colorscale": {
                      "diverging": [
                        [
                          0,
                          "#8e0152"
                        ],
                        [
                          0.1,
                          "#c51b7d"
                        ],
                        [
                          0.2,
                          "#de77ae"
                        ],
                        [
                          0.3,
                          "#f1b6da"
                        ],
                        [
                          0.4,
                          "#fde0ef"
                        ],
                        [
                          0.5,
                          "#f7f7f7"
                        ],
                        [
                          0.6,
                          "#e6f5d0"
                        ],
                        [
                          0.7,
                          "#b8e186"
                        ],
                        [
                          0.8,
                          "#7fbc41"
                        ],
                        [
                          0.9,
                          "#4d9221"
                        ],
                        [
                          1,
                          "#276419"
                        ]
                      ],
                      "sequential": [
                        [
                          0,
                          "#0d0887"
                        ],
                        [
                          0.1111111111111111,
                          "#46039f"
                        ],
                        [
                          0.2222222222222222,
                          "#7201a8"
                        ],
                        [
                          0.3333333333333333,
                          "#9c179e"
                        ],
                        [
                          0.4444444444444444,
                          "#bd3786"
                        ],
                        [
                          0.5555555555555556,
                          "#d8576b"
                        ],
                        [
                          0.6666666666666666,
                          "#ed7953"
                        ],
                        [
                          0.7777777777777778,
                          "#fb9f3a"
                        ],
                        [
                          0.8888888888888888,
                          "#fdca26"
                        ],
                        [
                          1,
                          "#f0f921"
                        ]
                      ],
                      "sequentialminus": [
                        [
                          0,
                          "#0d0887"
                        ],
                        [
                          0.1111111111111111,
                          "#46039f"
                        ],
                        [
                          0.2222222222222222,
                          "#7201a8"
                        ],
                        [
                          0.3333333333333333,
                          "#9c179e"
                        ],
                        [
                          0.4444444444444444,
                          "#bd3786"
                        ],
                        [
                          0.5555555555555556,
                          "#d8576b"
                        ],
                        [
                          0.6666666666666666,
                          "#ed7953"
                        ],
                        [
                          0.7777777777777778,
                          "#fb9f3a"
                        ],
                        [
                          0.8888888888888888,
                          "#fdca26"
                        ],
                        [
                          1,
                          "#f0f921"
                        ]
                      ]
                    },
                    "colorway": [
                      "#636efa",
                      "#EF553B",
                      "#00cc96",
                      "#ab63fa",
                      "#FFA15A",
                      "#19d3f3",
                      "#FF6692",
                      "#B6E880",
                      "#FF97FF",
                      "#FECB52"
                    ],
                    "font": {
                      "color": "#2a3f5f"
                    },
                    "geo": {
                      "bgcolor": "white",
                      "lakecolor": "white",
                      "landcolor": "#E5ECF6",
                      "showlakes": true,
                      "showland": true,
                      "subunitcolor": "white"
                    },
                    "hoverlabel": {
                      "align": "left"
                    },
                    "hovermode": "closest",
                    "mapbox": {
                      "style": "light"
                    },
                    "paper_bgcolor": "white",
                    "plot_bgcolor": "#E5ECF6",
                    "polar": {
                      "angularaxis": {
                        "gridcolor": "white",
                        "linecolor": "white",
                        "ticks": ""
                      },
                      "bgcolor": "#E5ECF6",
                      "radialaxis": {
                        "gridcolor": "white",
                        "linecolor": "white",
                        "ticks": ""
                      }
                    },
                    "scene": {
                      "xaxis": {
                        "backgroundcolor": "#E5ECF6",
                        "gridcolor": "white",
                        "gridwidth": 2,
                        "linecolor": "white",
                        "showbackground": true,
                        "ticks": "",
                        "zerolinecolor": "white"
                      },
                      "yaxis": {
                        "backgroundcolor": "#E5ECF6",
                        "gridcolor": "white",
                        "gridwidth": 2,
                        "linecolor": "white",
                        "showbackground": true,
                        "ticks": "",
                        "zerolinecolor": "white"
                      },
                      "zaxis": {
                        "backgroundcolor": "#E5ECF6",
                        "gridcolor": "white",
                        "gridwidth": 2,
                        "linecolor": "white",
                        "showbackground": true,
                        "ticks": "",
                        "zerolinecolor": "white"
                      }
                    },
                    "shapedefaults": {
                      "line": {
                        "color": "#2a3f5f"
                      }
                    },
                    "ternary": {
                      "aaxis": {
                        "gridcolor": "white",
                        "linecolor": "white",
                        "ticks": ""
                      },
                      "baxis": {
                        "gridcolor": "white",
                        "linecolor": "white",
                        "ticks": ""
                      },
                      "bgcolor": "#E5ECF6",
                      "caxis": {
                        "gridcolor": "white",
                        "linecolor": "white",
                        "ticks": ""
                      }
                    },
                    "title": {
                      "x": 0.05
                    },
                    "xaxis": {
                      "automargin": true,
                      "gridcolor": "white",
                      "linecolor": "white",
                      "ticks": "",
                      "title": {
                        "standoff": 15
                      },
                      "zerolinecolor": "white",
                      "zerolinewidth": 2
                    },
                    "yaxis": {
                      "automargin": true,
                      "gridcolor": "white",
                      "linecolor": "white",
                      "ticks": "",
                      "title": {
                        "standoff": 15
                      },
                      "zerolinecolor": "white",
                      "zerolinewidth": 2
                    }
                  }
                },
                "title": {
                  "text": "Unidades vendidas por hora en diferentes meses"
                },
                "xaxis": {
                  "tickvals": [
                    0,
                    1,
                    2,
                    3,
                    4,
                    5,
                    6,
                    7,
                    8,
                    9,
                    10,
                    11,
                    12,
                    13,
                    14,
                    15,
                    16,
                    17,
                    18,
                    19,
                    20,
                    21,
                    22,
                    23
                  ],
                  "title": {
                    "text": "Hora"
                  }
                },
                "yaxis": {
                  "side": "left",
                  "title": {
                    "text": "Unidades vendidas"
                  }
                }
              }
            }
          },
          "metadata": {},
          "output_type": "display_data"
        }
      ],
      "source": [
        "# Crear una lista de las horas del día (0 a 23)\n",
        "Horas = list(range(24))\n",
        "\n",
        "# Crear un objeto figura para el gráfico\n",
        "fig = go.Figure()\n",
        "\n",
        "# Lista para almacenar los datos de ventas por hora de cada mes\n",
        "ventas_por_hora_por_mes = []\n",
        "\n",
        "# Iterar a través de cada mes en la lista 'meses'\n",
        "for mes in meses:\n",
        "    # Obtener el DataFrame correspondiente al mes\n",
        "    dataframe_mes = df_extraidos[mes]\n",
        "        \n",
        "    # Calcular el número de ventas por hora para este mes y almacenarlo en 'Ventas_por_hora'\n",
        "    Ventas_por_hora = dataframe_mes.groupby('Hora')['Cantidad Pedida'].count()\n",
        "    \n",
        "    # Agregar los datos de ventas por hora de este mes a la lista 'ventas_por_hora_por_mes'\n",
        "    ventas_por_hora_por_mes.append(Ventas_por_hora)\n",
        "\n",
        "# Iterar sobre la lista de datos y agregar cada mes al objeto figura 'fig'\n",
        "for i, mes in enumerate(meses):\n",
        "    fig.add_trace(go.Scatter(\n",
        "        x=Horas,  # Eje X: Horas del día\n",
        "        y=ventas_por_hora_por_mes[i],  # Eje Y: Datos de ventas por hora para este mes\n",
        "        mode='lines',  # Tipo de gráfico: líneas\n",
        "        name=mes,  # Etiqueta para la leyenda del gráfico\n",
        "        line=dict(width=2, shape='spline'),  # Configuración de las líneas del gráfico\n",
        "    ))\n",
        "\n",
        "# Configurar los ejes y los títulos del gráfico\n",
        "fig.update_layout(\n",
        "    title=\"Unidades vendidas por hora en diferentes meses\",  # Título del gráfico\n",
        "    xaxis=dict(title=\"Hora\", tickvals=Horas),  # Configuración del eje X\n",
        "    yaxis=dict(title=\"Unidades vendidas\", side=\"left\"),  # Configuración del eje Y\n",
        "    legend=dict(y=0.3, yanchor='bottom'),  # Configuración de la leyenda\n",
        ")\n",
        "\n",
        "# Mostrar el gráfico\n",
        "fig.show()"
      ]
    },
    {
      "cell_type": "code",
      "execution_count": 77,
      "metadata": {},
      "outputs": [
        {
          "data": {
            "text/html": [
              "<div>\n",
              "<style scoped>\n",
              "    .dataframe tbody tr th:only-of-type {\n",
              "        vertical-align: middle;\n",
              "    }\n",
              "\n",
              "    .dataframe tbody tr th {\n",
              "        vertical-align: top;\n",
              "    }\n",
              "\n",
              "    .dataframe thead th {\n",
              "        text-align: right;\n",
              "    }\n",
              "</style>\n",
              "<table border=\"1\" class=\"dataframe\">\n",
              "  <thead>\n",
              "    <tr style=\"text-align: right;\">\n",
              "      <th></th>\n",
              "      <th>ID de Pedido</th>\n",
              "      <th>Producto</th>\n",
              "      <th>Cantidad Pedida</th>\n",
              "      <th>Precio Unitario</th>\n",
              "      <th>Fecha de Pedido</th>\n",
              "      <th>Dirección de Envio</th>\n",
              "      <th>total</th>\n",
              "      <th>fecha_corta</th>\n",
              "      <th>Hora</th>\n",
              "      <th>Dia</th>\n",
              "      <th>mes</th>\n",
              "      <th>año</th>\n",
              "      <th>strDia</th>\n",
              "    </tr>\n",
              "  </thead>\n",
              "  <tbody>\n",
              "    <tr>\n",
              "      <th>0</th>\n",
              "      <td>295665</td>\n",
              "      <td>Macbook Pro Laptop</td>\n",
              "      <td>1</td>\n",
              "      <td>1700.00</td>\n",
              "      <td>2019-12-30 00:01:00</td>\n",
              "      <td>136 Church St, New York City, NY 10001</td>\n",
              "      <td>1700.00</td>\n",
              "      <td>2019-12-30</td>\n",
              "      <td>0</td>\n",
              "      <td>30</td>\n",
              "      <td>12</td>\n",
              "      <td>2019</td>\n",
              "      <td>Lunes</td>\n",
              "    </tr>\n",
              "    <tr>\n",
              "      <th>1</th>\n",
              "      <td>302751</td>\n",
              "      <td>iPhone</td>\n",
              "      <td>1</td>\n",
              "      <td>700.00</td>\n",
              "      <td>2019-12-02 14:29:00</td>\n",
              "      <td>158 Washington St, San Francisco, CA 94016</td>\n",
              "      <td>700.00</td>\n",
              "      <td>2019-12-02</td>\n",
              "      <td>14</td>\n",
              "      <td>2</td>\n",
              "      <td>12</td>\n",
              "      <td>2019</td>\n",
              "      <td>Lunes</td>\n",
              "    </tr>\n",
              "    <tr>\n",
              "      <th>2</th>\n",
              "      <td>302742</td>\n",
              "      <td>AA Batteries (4-pack)</td>\n",
              "      <td>1</td>\n",
              "      <td>3.84</td>\n",
              "      <td>2019-12-02 08:38:00</td>\n",
              "      <td>722 River St, New York City, NY 10001</td>\n",
              "      <td>3.84</td>\n",
              "      <td>2019-12-02</td>\n",
              "      <td>8</td>\n",
              "      <td>2</td>\n",
              "      <td>12</td>\n",
              "      <td>2019</td>\n",
              "      <td>Lunes</td>\n",
              "    </tr>\n",
              "    <tr>\n",
              "      <th>3</th>\n",
              "      <td>315482</td>\n",
              "      <td>Wired Headphones</td>\n",
              "      <td>1</td>\n",
              "      <td>11.99</td>\n",
              "      <td>2019-12-02 18:46:00</td>\n",
              "      <td>693 Chestnut St, San Francisco, CA 94016</td>\n",
              "      <td>11.99</td>\n",
              "      <td>2019-12-02</td>\n",
              "      <td>18</td>\n",
              "      <td>2</td>\n",
              "      <td>12</td>\n",
              "      <td>2019</td>\n",
              "      <td>Lunes</td>\n",
              "    </tr>\n",
              "    <tr>\n",
              "      <th>4</th>\n",
              "      <td>302722</td>\n",
              "      <td>Wired Headphones</td>\n",
              "      <td>1</td>\n",
              "      <td>11.99</td>\n",
              "      <td>2019-12-23 14:23:00</td>\n",
              "      <td>763 Dogwood St, Portland, ME 04101</td>\n",
              "      <td>11.99</td>\n",
              "      <td>2019-12-23</td>\n",
              "      <td>14</td>\n",
              "      <td>23</td>\n",
              "      <td>12</td>\n",
              "      <td>2019</td>\n",
              "      <td>Lunes</td>\n",
              "    </tr>\n",
              "    <tr>\n",
              "      <th>...</th>\n",
              "      <td>...</td>\n",
              "      <td>...</td>\n",
              "      <td>...</td>\n",
              "      <td>...</td>\n",
              "      <td>...</td>\n",
              "      <td>...</td>\n",
              "      <td>...</td>\n",
              "      <td>...</td>\n",
              "      <td>...</td>\n",
              "      <td>...</td>\n",
              "      <td>...</td>\n",
              "      <td>...</td>\n",
              "      <td>...</td>\n",
              "    </tr>\n",
              "    <tr>\n",
              "      <th>24984</th>\n",
              "      <td>306841</td>\n",
              "      <td>Wired Headphones</td>\n",
              "      <td>1</td>\n",
              "      <td>11.99</td>\n",
              "      <td>2019-12-22 19:20:00</td>\n",
              "      <td>940 Ridge St, San Francisco, CA 94016</td>\n",
              "      <td>11.99</td>\n",
              "      <td>2019-12-22</td>\n",
              "      <td>19</td>\n",
              "      <td>22</td>\n",
              "      <td>12</td>\n",
              "      <td>2019</td>\n",
              "      <td>Domingo</td>\n",
              "    </tr>\n",
              "    <tr>\n",
              "      <th>24985</th>\n",
              "      <td>316499</td>\n",
              "      <td>Bose SoundSport Headphones</td>\n",
              "      <td>1</td>\n",
              "      <td>99.99</td>\n",
              "      <td>2019-12-08 10:47:00</td>\n",
              "      <td>248 Johnson St, New York City, NY 10001</td>\n",
              "      <td>99.99</td>\n",
              "      <td>2019-12-08</td>\n",
              "      <td>10</td>\n",
              "      <td>8</td>\n",
              "      <td>12</td>\n",
              "      <td>2019</td>\n",
              "      <td>Domingo</td>\n",
              "    </tr>\n",
              "    <tr>\n",
              "      <th>24986</th>\n",
              "      <td>301036</td>\n",
              "      <td>USB-C Charging Cable</td>\n",
              "      <td>2</td>\n",
              "      <td>11.95</td>\n",
              "      <td>2019-12-01 13:28:00</td>\n",
              "      <td>883 Spruce St, San Francisco, CA 94016</td>\n",
              "      <td>23.90</td>\n",
              "      <td>2019-12-01</td>\n",
              "      <td>13</td>\n",
              "      <td>1</td>\n",
              "      <td>12</td>\n",
              "      <td>2019</td>\n",
              "      <td>Domingo</td>\n",
              "    </tr>\n",
              "    <tr>\n",
              "      <th>24987</th>\n",
              "      <td>306851</td>\n",
              "      <td>AA Batteries (4-pack)</td>\n",
              "      <td>3</td>\n",
              "      <td>3.84</td>\n",
              "      <td>2019-12-01 18:31:00</td>\n",
              "      <td>704 North St, New York City, NY 10001</td>\n",
              "      <td>11.52</td>\n",
              "      <td>2019-12-01</td>\n",
              "      <td>18</td>\n",
              "      <td>1</td>\n",
              "      <td>12</td>\n",
              "      <td>2019</td>\n",
              "      <td>Domingo</td>\n",
              "    </tr>\n",
              "    <tr>\n",
              "      <th>24988</th>\n",
              "      <td>315245</td>\n",
              "      <td>Apple Airpods Headphones</td>\n",
              "      <td>1</td>\n",
              "      <td>150.00</td>\n",
              "      <td>2019-12-01 21:09:00</td>\n",
              "      <td>513 13th St, Seattle, WA 98101</td>\n",
              "      <td>150.00</td>\n",
              "      <td>2019-12-01</td>\n",
              "      <td>21</td>\n",
              "      <td>1</td>\n",
              "      <td>12</td>\n",
              "      <td>2019</td>\n",
              "      <td>Domingo</td>\n",
              "    </tr>\n",
              "  </tbody>\n",
              "</table>\n",
              "<p>24989 rows × 13 columns</p>\n",
              "</div>"
            ],
            "text/plain": [
              "      ID de Pedido                    Producto  Cantidad Pedida  \\\n",
              "0           295665          Macbook Pro Laptop                1   \n",
              "1           302751                      iPhone                1   \n",
              "2           302742       AA Batteries (4-pack)                1   \n",
              "3           315482            Wired Headphones                1   \n",
              "4           302722            Wired Headphones                1   \n",
              "...            ...                         ...              ...   \n",
              "24984       306841            Wired Headphones                1   \n",
              "24985       316499  Bose SoundSport Headphones                1   \n",
              "24986       301036        USB-C Charging Cable                2   \n",
              "24987       306851       AA Batteries (4-pack)                3   \n",
              "24988       315245    Apple Airpods Headphones                1   \n",
              "\n",
              "       Precio Unitario     Fecha de Pedido  \\\n",
              "0              1700.00 2019-12-30 00:01:00   \n",
              "1               700.00 2019-12-02 14:29:00   \n",
              "2                 3.84 2019-12-02 08:38:00   \n",
              "3                11.99 2019-12-02 18:46:00   \n",
              "4                11.99 2019-12-23 14:23:00   \n",
              "...                ...                 ...   \n",
              "24984            11.99 2019-12-22 19:20:00   \n",
              "24985            99.99 2019-12-08 10:47:00   \n",
              "24986            11.95 2019-12-01 13:28:00   \n",
              "24987             3.84 2019-12-01 18:31:00   \n",
              "24988           150.00 2019-12-01 21:09:00   \n",
              "\n",
              "                               Dirección de Envio    total fecha_corta  Hora  \\\n",
              "0          136 Church St, New York City, NY 10001  1700.00  2019-12-30     0   \n",
              "1      158 Washington St, San Francisco, CA 94016   700.00  2019-12-02    14   \n",
              "2           722 River St, New York City, NY 10001     3.84  2019-12-02     8   \n",
              "3        693 Chestnut St, San Francisco, CA 94016    11.99  2019-12-02    18   \n",
              "4              763 Dogwood St, Portland, ME 04101    11.99  2019-12-23    14   \n",
              "...                                           ...      ...         ...   ...   \n",
              "24984       940 Ridge St, San Francisco, CA 94016    11.99  2019-12-22    19   \n",
              "24985     248 Johnson St, New York City, NY 10001    99.99  2019-12-08    10   \n",
              "24986      883 Spruce St, San Francisco, CA 94016    23.90  2019-12-01    13   \n",
              "24987       704 North St, New York City, NY 10001    11.52  2019-12-01    18   \n",
              "24988              513 13th St, Seattle, WA 98101   150.00  2019-12-01    21   \n",
              "\n",
              "       Dia  mes   año   strDia  \n",
              "0       30   12  2019    Lunes  \n",
              "1        2   12  2019    Lunes  \n",
              "2        2   12  2019    Lunes  \n",
              "3        2   12  2019    Lunes  \n",
              "4       23   12  2019    Lunes  \n",
              "...    ...  ...   ...      ...  \n",
              "24984   22   12  2019  Domingo  \n",
              "24985    8   12  2019  Domingo  \n",
              "24986    1   12  2019  Domingo  \n",
              "24987    1   12  2019  Domingo  \n",
              "24988    1   12  2019  Domingo  \n",
              "\n",
              "[24989 rows x 13 columns]"
            ]
          },
          "execution_count": 77,
          "metadata": {},
          "output_type": "execute_result"
        }
      ],
      "source": [
        "dataframe_mes"
      ]
    },
    {
      "cell_type": "markdown",
      "metadata": {},
      "source": [
        "# 5. Tendencia ventas:"
      ]
    },
    {
      "cell_type": "markdown",
      "metadata": {},
      "source": [
        "¿Existe alguna tendencia o patrón en las ventas que se repita a lo largo de los días\n",
        "en los diferentes meses?"
      ]
    },
    {
      "cell_type": "markdown",
      "metadata": {},
      "source": [
        "* Evaluar las ventas por dia de la semana en un grafico en forma lineal superponiendo las ventas."
      ]
    },
    {
      "cell_type": "code",
      "execution_count": 78,
      "metadata": {},
      "outputs": [
        {
          "data": {
            "application/vnd.plotly.v1+json": {
              "config": {
                "plotlyServerURL": "https://plot.ly"
              },
              "data": [
                {
                  "line": {
                    "shape": "spline",
                    "width": 2
                  },
                  "marker": {
                    "size": 10
                  },
                  "mode": "lines+markers",
                  "name": "Enero",
                  "type": "scatter",
                  "x": [
                    "Lunes\n TOTAL:29899",
                    "Martes\n TOTAL:30724",
                    "Miércoles\n TOTAL:29799",
                    "Jueves\n TOTAL:29662",
                    "Viernes\n TOTAL:29448",
                    "Sábado\n TOTAL:29769",
                    "Domingo\n TOTAL:29778"
                  ],
                  "y": [
                    1381,
                    1736,
                    1738,
                    1724,
                    1392,
                    1482,
                    1415
                  ]
                },
                {
                  "line": {
                    "shape": "spline",
                    "width": 2
                  },
                  "marker": {
                    "size": 10
                  },
                  "mode": "lines+markers",
                  "name": "Febrero",
                  "type": "scatter",
                  "x": [
                    "Lunes\n TOTAL:29899",
                    "Martes\n TOTAL:30724",
                    "Miércoles\n TOTAL:29799",
                    "Jueves\n TOTAL:29662",
                    "Viernes\n TOTAL:29448",
                    "Sábado\n TOTAL:29769",
                    "Domingo\n TOTAL:29778"
                  ],
                  "y": [
                    1905,
                    1862,
                    2004,
                    1845,
                    1916,
                    1935,
                    1994
                  ]
                },
                {
                  "line": {
                    "shape": "spline",
                    "width": 2
                  },
                  "marker": {
                    "size": 10
                  },
                  "mode": "lines+markers",
                  "name": "Marzo",
                  "type": "scatter",
                  "x": [
                    "Lunes\n TOTAL:29899",
                    "Martes\n TOTAL:30724",
                    "Miércoles\n TOTAL:29799",
                    "Jueves\n TOTAL:29662",
                    "Viernes\n TOTAL:29448",
                    "Sábado\n TOTAL:29769",
                    "Domingo\n TOTAL:29778"
                  ],
                  "y": [
                    2196,
                    2204,
                    2211,
                    2174,
                    2704,
                    2846,
                    2671
                  ]
                },
                {
                  "line": {
                    "shape": "spline",
                    "width": 2
                  },
                  "marker": {
                    "size": 10
                  },
                  "mode": "lines+markers",
                  "name": "Abril",
                  "type": "scatter",
                  "x": [
                    "Lunes\n TOTAL:29899",
                    "Martes\n TOTAL:30724",
                    "Miércoles\n TOTAL:29799",
                    "Jueves\n TOTAL:29662",
                    "Viernes\n TOTAL:29448",
                    "Sábado\n TOTAL:29769",
                    "Domingo\n TOTAL:29778"
                  ],
                  "y": [
                    3297,
                    3401,
                    2848,
                    2803,
                    2657,
                    2785,
                    2777
                  ]
                },
                {
                  "line": {
                    "shape": "spline",
                    "width": 2
                  },
                  "marker": {
                    "size": 10
                  },
                  "mode": "lines+markers",
                  "name": "Mayo",
                  "type": "scatter",
                  "x": [
                    "Lunes\n TOTAL:29899",
                    "Martes\n TOTAL:30724",
                    "Miércoles\n TOTAL:29799",
                    "Jueves\n TOTAL:29662",
                    "Viernes\n TOTAL:29448",
                    "Sábado\n TOTAL:29769",
                    "Domingo\n TOTAL:29778"
                  ],
                  "y": [
                    2386,
                    2531,
                    2985,
                    3049,
                    2909,
                    2334,
                    2463
                  ]
                },
                {
                  "line": {
                    "shape": "spline",
                    "width": 2
                  },
                  "marker": {
                    "size": 10
                  },
                  "mode": "lines+markers",
                  "name": "Junio",
                  "type": "scatter",
                  "x": [
                    "Lunes\n TOTAL:29899",
                    "Martes\n TOTAL:30724",
                    "Miércoles\n TOTAL:29799",
                    "Jueves\n TOTAL:29662",
                    "Viernes\n TOTAL:29448",
                    "Sábado\n TOTAL:29769",
                    "Domingo\n TOTAL:29778"
                  ],
                  "y": [
                    2003,
                    2030,
                    2127,
                    2030,
                    2042,
                    2532,
                    2491
                  ]
                },
                {
                  "line": {
                    "shape": "spline",
                    "width": 2
                  },
                  "marker": {
                    "size": 10
                  },
                  "mode": "lines+markers",
                  "name": "Julio",
                  "type": "scatter",
                  "x": [
                    "Lunes\n TOTAL:29899",
                    "Martes\n TOTAL:30724",
                    "Miércoles\n TOTAL:29799",
                    "Jueves\n TOTAL:29662",
                    "Viernes\n TOTAL:29448",
                    "Sábado\n TOTAL:29769",
                    "Domingo\n TOTAL:29778"
                  ],
                  "y": [
                    2667,
                    2577,
                    2520,
                    2100,
                    2085,
                    2075,
                    2045
                  ]
                },
                {
                  "line": {
                    "shape": "spline",
                    "width": 2
                  },
                  "marker": {
                    "size": 10
                  },
                  "mode": "lines+markers",
                  "name": "Agosto",
                  "type": "scatter",
                  "x": [
                    "Lunes\n TOTAL:29899",
                    "Martes\n TOTAL:30724",
                    "Miércoles\n TOTAL:29799",
                    "Jueves\n TOTAL:29662",
                    "Viernes\n TOTAL:29448",
                    "Sábado\n TOTAL:29769",
                    "Domingo\n TOTAL:29778"
                  ],
                  "y": [
                    1742,
                    1759,
                    1770,
                    2166,
                    2124,
                    2161,
                    1720
                  ]
                },
                {
                  "line": {
                    "shape": "spline",
                    "width": 2
                  },
                  "marker": {
                    "size": 10
                  },
                  "mode": "lines+markers",
                  "name": "Septiembre",
                  "type": "scatter",
                  "x": [
                    "Lunes\n TOTAL:29899",
                    "Martes\n TOTAL:30724",
                    "Miércoles\n TOTAL:29799",
                    "Jueves\n TOTAL:29662",
                    "Viernes\n TOTAL:29448",
                    "Sábado\n TOTAL:29769",
                    "Domingo\n TOTAL:29778"
                  ],
                  "y": [
                    2176,
                    1785,
                    1743,
                    1746,
                    1766,
                    1723,
                    2180
                  ]
                },
                {
                  "line": {
                    "shape": "spline",
                    "width": 2
                  },
                  "marker": {
                    "size": 10
                  },
                  "mode": "lines+markers",
                  "name": "Octubre",
                  "type": "scatter",
                  "x": [
                    "Lunes\n TOTAL:29899",
                    "Martes\n TOTAL:30724",
                    "Miércoles\n TOTAL:29799",
                    "Jueves\n TOTAL:29662",
                    "Viernes\n TOTAL:29448",
                    "Sábado\n TOTAL:29769",
                    "Domingo\n TOTAL:29778"
                  ],
                  "y": [
                    2901,
                    3618,
                    3623,
                    3681,
                    2908,
                    3053,
                    2921
                  ]
                },
                {
                  "line": {
                    "shape": "spline",
                    "width": 2
                  },
                  "marker": {
                    "size": 10
                  },
                  "mode": "lines+markers",
                  "name": "Noviembre",
                  "type": "scatter",
                  "x": [
                    "Lunes\n TOTAL:29899",
                    "Martes\n TOTAL:30724",
                    "Miércoles\n TOTAL:29799",
                    "Jueves\n TOTAL:29662",
                    "Viernes\n TOTAL:29448",
                    "Sábado\n TOTAL:29769",
                    "Domingo\n TOTAL:29778"
                  ],
                  "y": [
                    2645,
                    2654,
                    2644,
                    2653,
                    3297,
                    3270,
                    2645
                  ]
                },
                {
                  "line": {
                    "shape": "spline",
                    "width": 2
                  },
                  "marker": {
                    "size": 10
                  },
                  "mode": "lines+markers",
                  "name": "Diciembre",
                  "type": "scatter",
                  "x": [
                    "Lunes\n TOTAL:29899",
                    "Martes\n TOTAL:30724",
                    "Miércoles\n TOTAL:29799",
                    "Jueves\n TOTAL:29662",
                    "Viernes\n TOTAL:29448",
                    "Sábado\n TOTAL:29769",
                    "Domingo\n TOTAL:29778"
                  ],
                  "y": [
                    4600,
                    4567,
                    3586,
                    3691,
                    3648,
                    3573,
                    4456
                  ]
                }
              ],
              "layout": {
                "legend": {
                  "y": 0.3,
                  "yanchor": "bottom"
                },
                "template": {
                  "data": {
                    "bar": [
                      {
                        "error_x": {
                          "color": "#2a3f5f"
                        },
                        "error_y": {
                          "color": "#2a3f5f"
                        },
                        "marker": {
                          "line": {
                            "color": "#E5ECF6",
                            "width": 0.5
                          },
                          "pattern": {
                            "fillmode": "overlay",
                            "size": 10,
                            "solidity": 0.2
                          }
                        },
                        "type": "bar"
                      }
                    ],
                    "barpolar": [
                      {
                        "marker": {
                          "line": {
                            "color": "#E5ECF6",
                            "width": 0.5
                          },
                          "pattern": {
                            "fillmode": "overlay",
                            "size": 10,
                            "solidity": 0.2
                          }
                        },
                        "type": "barpolar"
                      }
                    ],
                    "carpet": [
                      {
                        "aaxis": {
                          "endlinecolor": "#2a3f5f",
                          "gridcolor": "white",
                          "linecolor": "white",
                          "minorgridcolor": "white",
                          "startlinecolor": "#2a3f5f"
                        },
                        "baxis": {
                          "endlinecolor": "#2a3f5f",
                          "gridcolor": "white",
                          "linecolor": "white",
                          "minorgridcolor": "white",
                          "startlinecolor": "#2a3f5f"
                        },
                        "type": "carpet"
                      }
                    ],
                    "choropleth": [
                      {
                        "colorbar": {
                          "outlinewidth": 0,
                          "ticks": ""
                        },
                        "type": "choropleth"
                      }
                    ],
                    "contour": [
                      {
                        "colorbar": {
                          "outlinewidth": 0,
                          "ticks": ""
                        },
                        "colorscale": [
                          [
                            0,
                            "#0d0887"
                          ],
                          [
                            0.1111111111111111,
                            "#46039f"
                          ],
                          [
                            0.2222222222222222,
                            "#7201a8"
                          ],
                          [
                            0.3333333333333333,
                            "#9c179e"
                          ],
                          [
                            0.4444444444444444,
                            "#bd3786"
                          ],
                          [
                            0.5555555555555556,
                            "#d8576b"
                          ],
                          [
                            0.6666666666666666,
                            "#ed7953"
                          ],
                          [
                            0.7777777777777778,
                            "#fb9f3a"
                          ],
                          [
                            0.8888888888888888,
                            "#fdca26"
                          ],
                          [
                            1,
                            "#f0f921"
                          ]
                        ],
                        "type": "contour"
                      }
                    ],
                    "contourcarpet": [
                      {
                        "colorbar": {
                          "outlinewidth": 0,
                          "ticks": ""
                        },
                        "type": "contourcarpet"
                      }
                    ],
                    "heatmap": [
                      {
                        "colorbar": {
                          "outlinewidth": 0,
                          "ticks": ""
                        },
                        "colorscale": [
                          [
                            0,
                            "#0d0887"
                          ],
                          [
                            0.1111111111111111,
                            "#46039f"
                          ],
                          [
                            0.2222222222222222,
                            "#7201a8"
                          ],
                          [
                            0.3333333333333333,
                            "#9c179e"
                          ],
                          [
                            0.4444444444444444,
                            "#bd3786"
                          ],
                          [
                            0.5555555555555556,
                            "#d8576b"
                          ],
                          [
                            0.6666666666666666,
                            "#ed7953"
                          ],
                          [
                            0.7777777777777778,
                            "#fb9f3a"
                          ],
                          [
                            0.8888888888888888,
                            "#fdca26"
                          ],
                          [
                            1,
                            "#f0f921"
                          ]
                        ],
                        "type": "heatmap"
                      }
                    ],
                    "heatmapgl": [
                      {
                        "colorbar": {
                          "outlinewidth": 0,
                          "ticks": ""
                        },
                        "colorscale": [
                          [
                            0,
                            "#0d0887"
                          ],
                          [
                            0.1111111111111111,
                            "#46039f"
                          ],
                          [
                            0.2222222222222222,
                            "#7201a8"
                          ],
                          [
                            0.3333333333333333,
                            "#9c179e"
                          ],
                          [
                            0.4444444444444444,
                            "#bd3786"
                          ],
                          [
                            0.5555555555555556,
                            "#d8576b"
                          ],
                          [
                            0.6666666666666666,
                            "#ed7953"
                          ],
                          [
                            0.7777777777777778,
                            "#fb9f3a"
                          ],
                          [
                            0.8888888888888888,
                            "#fdca26"
                          ],
                          [
                            1,
                            "#f0f921"
                          ]
                        ],
                        "type": "heatmapgl"
                      }
                    ],
                    "histogram": [
                      {
                        "marker": {
                          "pattern": {
                            "fillmode": "overlay",
                            "size": 10,
                            "solidity": 0.2
                          }
                        },
                        "type": "histogram"
                      }
                    ],
                    "histogram2d": [
                      {
                        "colorbar": {
                          "outlinewidth": 0,
                          "ticks": ""
                        },
                        "colorscale": [
                          [
                            0,
                            "#0d0887"
                          ],
                          [
                            0.1111111111111111,
                            "#46039f"
                          ],
                          [
                            0.2222222222222222,
                            "#7201a8"
                          ],
                          [
                            0.3333333333333333,
                            "#9c179e"
                          ],
                          [
                            0.4444444444444444,
                            "#bd3786"
                          ],
                          [
                            0.5555555555555556,
                            "#d8576b"
                          ],
                          [
                            0.6666666666666666,
                            "#ed7953"
                          ],
                          [
                            0.7777777777777778,
                            "#fb9f3a"
                          ],
                          [
                            0.8888888888888888,
                            "#fdca26"
                          ],
                          [
                            1,
                            "#f0f921"
                          ]
                        ],
                        "type": "histogram2d"
                      }
                    ],
                    "histogram2dcontour": [
                      {
                        "colorbar": {
                          "outlinewidth": 0,
                          "ticks": ""
                        },
                        "colorscale": [
                          [
                            0,
                            "#0d0887"
                          ],
                          [
                            0.1111111111111111,
                            "#46039f"
                          ],
                          [
                            0.2222222222222222,
                            "#7201a8"
                          ],
                          [
                            0.3333333333333333,
                            "#9c179e"
                          ],
                          [
                            0.4444444444444444,
                            "#bd3786"
                          ],
                          [
                            0.5555555555555556,
                            "#d8576b"
                          ],
                          [
                            0.6666666666666666,
                            "#ed7953"
                          ],
                          [
                            0.7777777777777778,
                            "#fb9f3a"
                          ],
                          [
                            0.8888888888888888,
                            "#fdca26"
                          ],
                          [
                            1,
                            "#f0f921"
                          ]
                        ],
                        "type": "histogram2dcontour"
                      }
                    ],
                    "mesh3d": [
                      {
                        "colorbar": {
                          "outlinewidth": 0,
                          "ticks": ""
                        },
                        "type": "mesh3d"
                      }
                    ],
                    "parcoords": [
                      {
                        "line": {
                          "colorbar": {
                            "outlinewidth": 0,
                            "ticks": ""
                          }
                        },
                        "type": "parcoords"
                      }
                    ],
                    "pie": [
                      {
                        "automargin": true,
                        "type": "pie"
                      }
                    ],
                    "scatter": [
                      {
                        "marker": {
                          "colorbar": {
                            "outlinewidth": 0,
                            "ticks": ""
                          }
                        },
                        "type": "scatter"
                      }
                    ],
                    "scatter3d": [
                      {
                        "line": {
                          "colorbar": {
                            "outlinewidth": 0,
                            "ticks": ""
                          }
                        },
                        "marker": {
                          "colorbar": {
                            "outlinewidth": 0,
                            "ticks": ""
                          }
                        },
                        "type": "scatter3d"
                      }
                    ],
                    "scattercarpet": [
                      {
                        "marker": {
                          "colorbar": {
                            "outlinewidth": 0,
                            "ticks": ""
                          }
                        },
                        "type": "scattercarpet"
                      }
                    ],
                    "scattergeo": [
                      {
                        "marker": {
                          "colorbar": {
                            "outlinewidth": 0,
                            "ticks": ""
                          }
                        },
                        "type": "scattergeo"
                      }
                    ],
                    "scattergl": [
                      {
                        "marker": {
                          "colorbar": {
                            "outlinewidth": 0,
                            "ticks": ""
                          }
                        },
                        "type": "scattergl"
                      }
                    ],
                    "scattermapbox": [
                      {
                        "marker": {
                          "colorbar": {
                            "outlinewidth": 0,
                            "ticks": ""
                          }
                        },
                        "type": "scattermapbox"
                      }
                    ],
                    "scatterpolar": [
                      {
                        "marker": {
                          "colorbar": {
                            "outlinewidth": 0,
                            "ticks": ""
                          }
                        },
                        "type": "scatterpolar"
                      }
                    ],
                    "scatterpolargl": [
                      {
                        "marker": {
                          "colorbar": {
                            "outlinewidth": 0,
                            "ticks": ""
                          }
                        },
                        "type": "scatterpolargl"
                      }
                    ],
                    "scatterternary": [
                      {
                        "marker": {
                          "colorbar": {
                            "outlinewidth": 0,
                            "ticks": ""
                          }
                        },
                        "type": "scatterternary"
                      }
                    ],
                    "surface": [
                      {
                        "colorbar": {
                          "outlinewidth": 0,
                          "ticks": ""
                        },
                        "colorscale": [
                          [
                            0,
                            "#0d0887"
                          ],
                          [
                            0.1111111111111111,
                            "#46039f"
                          ],
                          [
                            0.2222222222222222,
                            "#7201a8"
                          ],
                          [
                            0.3333333333333333,
                            "#9c179e"
                          ],
                          [
                            0.4444444444444444,
                            "#bd3786"
                          ],
                          [
                            0.5555555555555556,
                            "#d8576b"
                          ],
                          [
                            0.6666666666666666,
                            "#ed7953"
                          ],
                          [
                            0.7777777777777778,
                            "#fb9f3a"
                          ],
                          [
                            0.8888888888888888,
                            "#fdca26"
                          ],
                          [
                            1,
                            "#f0f921"
                          ]
                        ],
                        "type": "surface"
                      }
                    ],
                    "table": [
                      {
                        "cells": {
                          "fill": {
                            "color": "#EBF0F8"
                          },
                          "line": {
                            "color": "white"
                          }
                        },
                        "header": {
                          "fill": {
                            "color": "#C8D4E3"
                          },
                          "line": {
                            "color": "white"
                          }
                        },
                        "type": "table"
                      }
                    ]
                  },
                  "layout": {
                    "annotationdefaults": {
                      "arrowcolor": "#2a3f5f",
                      "arrowhead": 0,
                      "arrowwidth": 1
                    },
                    "autotypenumbers": "strict",
                    "coloraxis": {
                      "colorbar": {
                        "outlinewidth": 0,
                        "ticks": ""
                      }
                    },
                    "colorscale": {
                      "diverging": [
                        [
                          0,
                          "#8e0152"
                        ],
                        [
                          0.1,
                          "#c51b7d"
                        ],
                        [
                          0.2,
                          "#de77ae"
                        ],
                        [
                          0.3,
                          "#f1b6da"
                        ],
                        [
                          0.4,
                          "#fde0ef"
                        ],
                        [
                          0.5,
                          "#f7f7f7"
                        ],
                        [
                          0.6,
                          "#e6f5d0"
                        ],
                        [
                          0.7,
                          "#b8e186"
                        ],
                        [
                          0.8,
                          "#7fbc41"
                        ],
                        [
                          0.9,
                          "#4d9221"
                        ],
                        [
                          1,
                          "#276419"
                        ]
                      ],
                      "sequential": [
                        [
                          0,
                          "#0d0887"
                        ],
                        [
                          0.1111111111111111,
                          "#46039f"
                        ],
                        [
                          0.2222222222222222,
                          "#7201a8"
                        ],
                        [
                          0.3333333333333333,
                          "#9c179e"
                        ],
                        [
                          0.4444444444444444,
                          "#bd3786"
                        ],
                        [
                          0.5555555555555556,
                          "#d8576b"
                        ],
                        [
                          0.6666666666666666,
                          "#ed7953"
                        ],
                        [
                          0.7777777777777778,
                          "#fb9f3a"
                        ],
                        [
                          0.8888888888888888,
                          "#fdca26"
                        ],
                        [
                          1,
                          "#f0f921"
                        ]
                      ],
                      "sequentialminus": [
                        [
                          0,
                          "#0d0887"
                        ],
                        [
                          0.1111111111111111,
                          "#46039f"
                        ],
                        [
                          0.2222222222222222,
                          "#7201a8"
                        ],
                        [
                          0.3333333333333333,
                          "#9c179e"
                        ],
                        [
                          0.4444444444444444,
                          "#bd3786"
                        ],
                        [
                          0.5555555555555556,
                          "#d8576b"
                        ],
                        [
                          0.6666666666666666,
                          "#ed7953"
                        ],
                        [
                          0.7777777777777778,
                          "#fb9f3a"
                        ],
                        [
                          0.8888888888888888,
                          "#fdca26"
                        ],
                        [
                          1,
                          "#f0f921"
                        ]
                      ]
                    },
                    "colorway": [
                      "#636efa",
                      "#EF553B",
                      "#00cc96",
                      "#ab63fa",
                      "#FFA15A",
                      "#19d3f3",
                      "#FF6692",
                      "#B6E880",
                      "#FF97FF",
                      "#FECB52"
                    ],
                    "font": {
                      "color": "#2a3f5f"
                    },
                    "geo": {
                      "bgcolor": "white",
                      "lakecolor": "white",
                      "landcolor": "#E5ECF6",
                      "showlakes": true,
                      "showland": true,
                      "subunitcolor": "white"
                    },
                    "hoverlabel": {
                      "align": "left"
                    },
                    "hovermode": "closest",
                    "mapbox": {
                      "style": "light"
                    },
                    "paper_bgcolor": "white",
                    "plot_bgcolor": "#E5ECF6",
                    "polar": {
                      "angularaxis": {
                        "gridcolor": "white",
                        "linecolor": "white",
                        "ticks": ""
                      },
                      "bgcolor": "#E5ECF6",
                      "radialaxis": {
                        "gridcolor": "white",
                        "linecolor": "white",
                        "ticks": ""
                      }
                    },
                    "scene": {
                      "xaxis": {
                        "backgroundcolor": "#E5ECF6",
                        "gridcolor": "white",
                        "gridwidth": 2,
                        "linecolor": "white",
                        "showbackground": true,
                        "ticks": "",
                        "zerolinecolor": "white"
                      },
                      "yaxis": {
                        "backgroundcolor": "#E5ECF6",
                        "gridcolor": "white",
                        "gridwidth": 2,
                        "linecolor": "white",
                        "showbackground": true,
                        "ticks": "",
                        "zerolinecolor": "white"
                      },
                      "zaxis": {
                        "backgroundcolor": "#E5ECF6",
                        "gridcolor": "white",
                        "gridwidth": 2,
                        "linecolor": "white",
                        "showbackground": true,
                        "ticks": "",
                        "zerolinecolor": "white"
                      }
                    },
                    "shapedefaults": {
                      "line": {
                        "color": "#2a3f5f"
                      }
                    },
                    "ternary": {
                      "aaxis": {
                        "gridcolor": "white",
                        "linecolor": "white",
                        "ticks": ""
                      },
                      "baxis": {
                        "gridcolor": "white",
                        "linecolor": "white",
                        "ticks": ""
                      },
                      "bgcolor": "#E5ECF6",
                      "caxis": {
                        "gridcolor": "white",
                        "linecolor": "white",
                        "ticks": ""
                      }
                    },
                    "title": {
                      "x": 0.05
                    },
                    "xaxis": {
                      "automargin": true,
                      "gridcolor": "white",
                      "linecolor": "white",
                      "ticks": "",
                      "title": {
                        "standoff": 15
                      },
                      "zerolinecolor": "white",
                      "zerolinewidth": 2
                    },
                    "yaxis": {
                      "automargin": true,
                      "gridcolor": "white",
                      "linecolor": "white",
                      "ticks": "",
                      "title": {
                        "standoff": 15
                      },
                      "zerolinecolor": "white",
                      "zerolinewidth": 2
                    }
                  }
                },
                "title": {
                  "text": "Grafico lineal de unidades vendidas por dia en diferentes meses"
                },
                "xaxis": {
                  "tickvals": [
                    0,
                    1,
                    2,
                    3,
                    4,
                    5,
                    6,
                    7,
                    8,
                    9,
                    10,
                    11,
                    12,
                    13,
                    14,
                    15,
                    16,
                    17,
                    18,
                    19,
                    20,
                    21,
                    22,
                    23
                  ],
                  "title": {
                    "text": "Hora"
                  }
                },
                "yaxis": {
                  "side": "left",
                  "title": {
                    "text": "Unidades vendidas"
                  }
                }
              }
            }
          },
          "metadata": {},
          "output_type": "display_data"
        }
      ],
      "source": [
        "#Crear un objeto figura para el gráfico\n",
        "fig = go.Figure()\n",
        "\n",
        "# Lista para almacenar los datos de ventas por hora de cada mes\n",
        "ventas_pordia_pormes = []\n",
        "etiquetas = []\n",
        "ventas_por_dia_enaños = []\n",
        "# Iterar a través de cada mes en la lista 'meses'\n",
        "for mes in meses:\n",
        "    # Obtener el DataFrame correspondiente al mes\n",
        "    dataframe_mes = dataframes[mes]\n",
        "    \n",
        "    # Realizar algún procesamiento de datos específico (reemplaza con tu propio procesamiento)\n",
        "    dataframe_mes = extraer_datos(dataframe_mes)  # Reemplaza esto con el procesamiento que necesites\n",
        "    \n",
        "    # Calcular el número de ventas por hora para este mes y almacenarlo en 'Ventas_por_hora'\n",
        "    Ventas_por_dia = dataframe_mes.groupby('strDia')['Cantidad Pedida'].sum()\n",
        "    \n",
        "    #agrupacion por dia y mes\n",
        "    ventas_por_dia_enaños.append(dataframe_mes.groupby(['año','strDia'])['Cantidad Pedida'].sum())\n",
        "\n",
        "    # Agregar los datos de ventas por hora de este mes a la lista 'ventas_por_hora_por_mes'\n",
        "    ventas_pordia_pormes.append(Ventas_por_dia.tolist())\n",
        "\n",
        "total_pordia_pormes = np.sum(ventas_pordia_pormes, axis=0)\n",
        "for i in range(len(dias_semana)):\n",
        "    etiquetas.append( dias_semana[i] + \"\\n TOTAL:\" + str(total_pordia_pormes[i]))\n",
        "\n",
        "# Iterar sobre la lista de datos y agregar cada mes al objeto figura 'fig'\n",
        "for i, mes in enumerate(meses):\n",
        "    fig.add_trace(go.Scatter(\n",
        "        x=etiquetas,  # Eje X: Horas del día\n",
        "        y=ventas_pordia_pormes[i],  # Eje Y: Datos de ventas por hora para este mes\n",
        "        mode='lines+markers',  # Tipo de gráfico: líneas\n",
        "        name=mes,  # Etiqueta para la leyenda del gráfico\n",
        "        line=dict(width=2, shape='spline'),  # Configuración de las líneas del gráfico\n",
        "        marker=dict(size=10)  # Configuración de las marcas del gráfico\n",
        "    ))\n",
        "\n",
        "# Configurar los ejes y los títulos del gráfico\n",
        "fig.update_layout(\n",
        "    title=\"Grafico lineal de unidades vendidas por dia en diferentes meses\",  # Título del gráfico\n",
        "    xaxis=dict(title=\"Hora\", tickvals=Horas),  # Configuración del eje X\n",
        "    yaxis=dict(title=\"Unidades vendidas\", side=\"left\"),  # Configuración del eje Y\n",
        "    legend=dict(y=0.3, yanchor='bottom'),  # Configuración de la leyenda\n",
        ")\n",
        "\n",
        "# Mostrar el gráfico\n",
        "fig.show()\n",
        "#ventas_pordia_pormes = np.sum(ventas_pordia_pormes, axis=0)\n"
      ]
    },
    {
      "cell_type": "code",
      "execution_count": 80,
      "metadata": {},
      "outputs": [
        {
          "data": {
            "application/vnd.plotly.v1+json": {
              "config": {
                "plotlyServerURL": "https://plot.ly"
              },
              "data": [
                {
                  "name": "Enero",
                  "type": "bar",
                  "x": [
                    "Lunes",
                    "Martes",
                    "Miércoles",
                    "Jueves",
                    "Viernes",
                    "Sábado",
                    "Domingo"
                  ],
                  "y": [
                    1381,
                    1736,
                    1738,
                    1724,
                    1392,
                    1482,
                    1415
                  ]
                },
                {
                  "name": "Febrero",
                  "type": "bar",
                  "x": [
                    "Lunes",
                    "Martes",
                    "Miércoles",
                    "Jueves",
                    "Viernes",
                    "Sábado",
                    "Domingo"
                  ],
                  "y": [
                    1905,
                    1862,
                    2004,
                    1845,
                    1916,
                    1935,
                    1994
                  ]
                },
                {
                  "name": "Marzo",
                  "type": "bar",
                  "x": [
                    "Lunes",
                    "Martes",
                    "Miércoles",
                    "Jueves",
                    "Viernes",
                    "Sábado",
                    "Domingo"
                  ],
                  "y": [
                    2196,
                    2204,
                    2211,
                    2174,
                    2704,
                    2846,
                    2671
                  ]
                },
                {
                  "name": "Abril",
                  "type": "bar",
                  "x": [
                    "Lunes",
                    "Martes",
                    "Miércoles",
                    "Jueves",
                    "Viernes",
                    "Sábado",
                    "Domingo"
                  ],
                  "y": [
                    3297,
                    3401,
                    2848,
                    2803,
                    2657,
                    2785,
                    2777
                  ]
                },
                {
                  "name": "Mayo",
                  "type": "bar",
                  "x": [
                    "Lunes",
                    "Martes",
                    "Miércoles",
                    "Jueves",
                    "Viernes",
                    "Sábado",
                    "Domingo"
                  ],
                  "y": [
                    2386,
                    2531,
                    2985,
                    3049,
                    2909,
                    2334,
                    2463
                  ]
                },
                {
                  "name": "Junio",
                  "type": "bar",
                  "x": [
                    "Lunes",
                    "Martes",
                    "Miércoles",
                    "Jueves",
                    "Viernes",
                    "Sábado",
                    "Domingo"
                  ],
                  "y": [
                    2003,
                    2030,
                    2127,
                    2030,
                    2042,
                    2532,
                    2491
                  ]
                },
                {
                  "name": "Julio",
                  "type": "bar",
                  "x": [
                    "Lunes",
                    "Martes",
                    "Miércoles",
                    "Jueves",
                    "Viernes",
                    "Sábado",
                    "Domingo"
                  ],
                  "y": [
                    2667,
                    2577,
                    2520,
                    2100,
                    2085,
                    2075,
                    2045
                  ]
                },
                {
                  "name": "Agosto",
                  "type": "bar",
                  "x": [
                    "Lunes",
                    "Martes",
                    "Miércoles",
                    "Jueves",
                    "Viernes",
                    "Sábado",
                    "Domingo"
                  ],
                  "y": [
                    1742,
                    1759,
                    1770,
                    2166,
                    2124,
                    2161,
                    1720
                  ]
                },
                {
                  "name": "Septiembre",
                  "type": "bar",
                  "x": [
                    "Lunes",
                    "Martes",
                    "Miércoles",
                    "Jueves",
                    "Viernes",
                    "Sábado",
                    "Domingo"
                  ],
                  "y": [
                    2176,
                    1785,
                    1743,
                    1746,
                    1766,
                    1723,
                    2180
                  ]
                },
                {
                  "name": "Octubre",
                  "type": "bar",
                  "x": [
                    "Lunes",
                    "Martes",
                    "Miércoles",
                    "Jueves",
                    "Viernes",
                    "Sábado",
                    "Domingo"
                  ],
                  "y": [
                    2901,
                    3618,
                    3623,
                    3681,
                    2908,
                    3053,
                    2921
                  ]
                },
                {
                  "name": "Noviembre",
                  "type": "bar",
                  "x": [
                    "Lunes",
                    "Martes",
                    "Miércoles",
                    "Jueves",
                    "Viernes",
                    "Sábado",
                    "Domingo"
                  ],
                  "y": [
                    2645,
                    2654,
                    2644,
                    2653,
                    3297,
                    3270,
                    2645
                  ]
                },
                {
                  "name": "Diciembre",
                  "type": "bar",
                  "x": [
                    "Lunes",
                    "Martes",
                    "Miércoles",
                    "Jueves",
                    "Viernes",
                    "Sábado",
                    "Domingo"
                  ],
                  "y": [
                    4600,
                    4567,
                    3586,
                    3691,
                    3648,
                    3573,
                    4456
                  ]
                }
              ],
              "layout": {
                "barmode": "group",
                "template": {
                  "data": {
                    "bar": [
                      {
                        "error_x": {
                          "color": "#2a3f5f"
                        },
                        "error_y": {
                          "color": "#2a3f5f"
                        },
                        "marker": {
                          "line": {
                            "color": "#E5ECF6",
                            "width": 0.5
                          },
                          "pattern": {
                            "fillmode": "overlay",
                            "size": 10,
                            "solidity": 0.2
                          }
                        },
                        "type": "bar"
                      }
                    ],
                    "barpolar": [
                      {
                        "marker": {
                          "line": {
                            "color": "#E5ECF6",
                            "width": 0.5
                          },
                          "pattern": {
                            "fillmode": "overlay",
                            "size": 10,
                            "solidity": 0.2
                          }
                        },
                        "type": "barpolar"
                      }
                    ],
                    "carpet": [
                      {
                        "aaxis": {
                          "endlinecolor": "#2a3f5f",
                          "gridcolor": "white",
                          "linecolor": "white",
                          "minorgridcolor": "white",
                          "startlinecolor": "#2a3f5f"
                        },
                        "baxis": {
                          "endlinecolor": "#2a3f5f",
                          "gridcolor": "white",
                          "linecolor": "white",
                          "minorgridcolor": "white",
                          "startlinecolor": "#2a3f5f"
                        },
                        "type": "carpet"
                      }
                    ],
                    "choropleth": [
                      {
                        "colorbar": {
                          "outlinewidth": 0,
                          "ticks": ""
                        },
                        "type": "choropleth"
                      }
                    ],
                    "contour": [
                      {
                        "colorbar": {
                          "outlinewidth": 0,
                          "ticks": ""
                        },
                        "colorscale": [
                          [
                            0,
                            "#0d0887"
                          ],
                          [
                            0.1111111111111111,
                            "#46039f"
                          ],
                          [
                            0.2222222222222222,
                            "#7201a8"
                          ],
                          [
                            0.3333333333333333,
                            "#9c179e"
                          ],
                          [
                            0.4444444444444444,
                            "#bd3786"
                          ],
                          [
                            0.5555555555555556,
                            "#d8576b"
                          ],
                          [
                            0.6666666666666666,
                            "#ed7953"
                          ],
                          [
                            0.7777777777777778,
                            "#fb9f3a"
                          ],
                          [
                            0.8888888888888888,
                            "#fdca26"
                          ],
                          [
                            1,
                            "#f0f921"
                          ]
                        ],
                        "type": "contour"
                      }
                    ],
                    "contourcarpet": [
                      {
                        "colorbar": {
                          "outlinewidth": 0,
                          "ticks": ""
                        },
                        "type": "contourcarpet"
                      }
                    ],
                    "heatmap": [
                      {
                        "colorbar": {
                          "outlinewidth": 0,
                          "ticks": ""
                        },
                        "colorscale": [
                          [
                            0,
                            "#0d0887"
                          ],
                          [
                            0.1111111111111111,
                            "#46039f"
                          ],
                          [
                            0.2222222222222222,
                            "#7201a8"
                          ],
                          [
                            0.3333333333333333,
                            "#9c179e"
                          ],
                          [
                            0.4444444444444444,
                            "#bd3786"
                          ],
                          [
                            0.5555555555555556,
                            "#d8576b"
                          ],
                          [
                            0.6666666666666666,
                            "#ed7953"
                          ],
                          [
                            0.7777777777777778,
                            "#fb9f3a"
                          ],
                          [
                            0.8888888888888888,
                            "#fdca26"
                          ],
                          [
                            1,
                            "#f0f921"
                          ]
                        ],
                        "type": "heatmap"
                      }
                    ],
                    "heatmapgl": [
                      {
                        "colorbar": {
                          "outlinewidth": 0,
                          "ticks": ""
                        },
                        "colorscale": [
                          [
                            0,
                            "#0d0887"
                          ],
                          [
                            0.1111111111111111,
                            "#46039f"
                          ],
                          [
                            0.2222222222222222,
                            "#7201a8"
                          ],
                          [
                            0.3333333333333333,
                            "#9c179e"
                          ],
                          [
                            0.4444444444444444,
                            "#bd3786"
                          ],
                          [
                            0.5555555555555556,
                            "#d8576b"
                          ],
                          [
                            0.6666666666666666,
                            "#ed7953"
                          ],
                          [
                            0.7777777777777778,
                            "#fb9f3a"
                          ],
                          [
                            0.8888888888888888,
                            "#fdca26"
                          ],
                          [
                            1,
                            "#f0f921"
                          ]
                        ],
                        "type": "heatmapgl"
                      }
                    ],
                    "histogram": [
                      {
                        "marker": {
                          "pattern": {
                            "fillmode": "overlay",
                            "size": 10,
                            "solidity": 0.2
                          }
                        },
                        "type": "histogram"
                      }
                    ],
                    "histogram2d": [
                      {
                        "colorbar": {
                          "outlinewidth": 0,
                          "ticks": ""
                        },
                        "colorscale": [
                          [
                            0,
                            "#0d0887"
                          ],
                          [
                            0.1111111111111111,
                            "#46039f"
                          ],
                          [
                            0.2222222222222222,
                            "#7201a8"
                          ],
                          [
                            0.3333333333333333,
                            "#9c179e"
                          ],
                          [
                            0.4444444444444444,
                            "#bd3786"
                          ],
                          [
                            0.5555555555555556,
                            "#d8576b"
                          ],
                          [
                            0.6666666666666666,
                            "#ed7953"
                          ],
                          [
                            0.7777777777777778,
                            "#fb9f3a"
                          ],
                          [
                            0.8888888888888888,
                            "#fdca26"
                          ],
                          [
                            1,
                            "#f0f921"
                          ]
                        ],
                        "type": "histogram2d"
                      }
                    ],
                    "histogram2dcontour": [
                      {
                        "colorbar": {
                          "outlinewidth": 0,
                          "ticks": ""
                        },
                        "colorscale": [
                          [
                            0,
                            "#0d0887"
                          ],
                          [
                            0.1111111111111111,
                            "#46039f"
                          ],
                          [
                            0.2222222222222222,
                            "#7201a8"
                          ],
                          [
                            0.3333333333333333,
                            "#9c179e"
                          ],
                          [
                            0.4444444444444444,
                            "#bd3786"
                          ],
                          [
                            0.5555555555555556,
                            "#d8576b"
                          ],
                          [
                            0.6666666666666666,
                            "#ed7953"
                          ],
                          [
                            0.7777777777777778,
                            "#fb9f3a"
                          ],
                          [
                            0.8888888888888888,
                            "#fdca26"
                          ],
                          [
                            1,
                            "#f0f921"
                          ]
                        ],
                        "type": "histogram2dcontour"
                      }
                    ],
                    "mesh3d": [
                      {
                        "colorbar": {
                          "outlinewidth": 0,
                          "ticks": ""
                        },
                        "type": "mesh3d"
                      }
                    ],
                    "parcoords": [
                      {
                        "line": {
                          "colorbar": {
                            "outlinewidth": 0,
                            "ticks": ""
                          }
                        },
                        "type": "parcoords"
                      }
                    ],
                    "pie": [
                      {
                        "automargin": true,
                        "type": "pie"
                      }
                    ],
                    "scatter": [
                      {
                        "marker": {
                          "colorbar": {
                            "outlinewidth": 0,
                            "ticks": ""
                          }
                        },
                        "type": "scatter"
                      }
                    ],
                    "scatter3d": [
                      {
                        "line": {
                          "colorbar": {
                            "outlinewidth": 0,
                            "ticks": ""
                          }
                        },
                        "marker": {
                          "colorbar": {
                            "outlinewidth": 0,
                            "ticks": ""
                          }
                        },
                        "type": "scatter3d"
                      }
                    ],
                    "scattercarpet": [
                      {
                        "marker": {
                          "colorbar": {
                            "outlinewidth": 0,
                            "ticks": ""
                          }
                        },
                        "type": "scattercarpet"
                      }
                    ],
                    "scattergeo": [
                      {
                        "marker": {
                          "colorbar": {
                            "outlinewidth": 0,
                            "ticks": ""
                          }
                        },
                        "type": "scattergeo"
                      }
                    ],
                    "scattergl": [
                      {
                        "marker": {
                          "colorbar": {
                            "outlinewidth": 0,
                            "ticks": ""
                          }
                        },
                        "type": "scattergl"
                      }
                    ],
                    "scattermapbox": [
                      {
                        "marker": {
                          "colorbar": {
                            "outlinewidth": 0,
                            "ticks": ""
                          }
                        },
                        "type": "scattermapbox"
                      }
                    ],
                    "scatterpolar": [
                      {
                        "marker": {
                          "colorbar": {
                            "outlinewidth": 0,
                            "ticks": ""
                          }
                        },
                        "type": "scatterpolar"
                      }
                    ],
                    "scatterpolargl": [
                      {
                        "marker": {
                          "colorbar": {
                            "outlinewidth": 0,
                            "ticks": ""
                          }
                        },
                        "type": "scatterpolargl"
                      }
                    ],
                    "scatterternary": [
                      {
                        "marker": {
                          "colorbar": {
                            "outlinewidth": 0,
                            "ticks": ""
                          }
                        },
                        "type": "scatterternary"
                      }
                    ],
                    "surface": [
                      {
                        "colorbar": {
                          "outlinewidth": 0,
                          "ticks": ""
                        },
                        "colorscale": [
                          [
                            0,
                            "#0d0887"
                          ],
                          [
                            0.1111111111111111,
                            "#46039f"
                          ],
                          [
                            0.2222222222222222,
                            "#7201a8"
                          ],
                          [
                            0.3333333333333333,
                            "#9c179e"
                          ],
                          [
                            0.4444444444444444,
                            "#bd3786"
                          ],
                          [
                            0.5555555555555556,
                            "#d8576b"
                          ],
                          [
                            0.6666666666666666,
                            "#ed7953"
                          ],
                          [
                            0.7777777777777778,
                            "#fb9f3a"
                          ],
                          [
                            0.8888888888888888,
                            "#fdca26"
                          ],
                          [
                            1,
                            "#f0f921"
                          ]
                        ],
                        "type": "surface"
                      }
                    ],
                    "table": [
                      {
                        "cells": {
                          "fill": {
                            "color": "#EBF0F8"
                          },
                          "line": {
                            "color": "white"
                          }
                        },
                        "header": {
                          "fill": {
                            "color": "#C8D4E3"
                          },
                          "line": {
                            "color": "white"
                          }
                        },
                        "type": "table"
                      }
                    ]
                  },
                  "layout": {
                    "annotationdefaults": {
                      "arrowcolor": "#2a3f5f",
                      "arrowhead": 0,
                      "arrowwidth": 1
                    },
                    "autotypenumbers": "strict",
                    "coloraxis": {
                      "colorbar": {
                        "outlinewidth": 0,
                        "ticks": ""
                      }
                    },
                    "colorscale": {
                      "diverging": [
                        [
                          0,
                          "#8e0152"
                        ],
                        [
                          0.1,
                          "#c51b7d"
                        ],
                        [
                          0.2,
                          "#de77ae"
                        ],
                        [
                          0.3,
                          "#f1b6da"
                        ],
                        [
                          0.4,
                          "#fde0ef"
                        ],
                        [
                          0.5,
                          "#f7f7f7"
                        ],
                        [
                          0.6,
                          "#e6f5d0"
                        ],
                        [
                          0.7,
                          "#b8e186"
                        ],
                        [
                          0.8,
                          "#7fbc41"
                        ],
                        [
                          0.9,
                          "#4d9221"
                        ],
                        [
                          1,
                          "#276419"
                        ]
                      ],
                      "sequential": [
                        [
                          0,
                          "#0d0887"
                        ],
                        [
                          0.1111111111111111,
                          "#46039f"
                        ],
                        [
                          0.2222222222222222,
                          "#7201a8"
                        ],
                        [
                          0.3333333333333333,
                          "#9c179e"
                        ],
                        [
                          0.4444444444444444,
                          "#bd3786"
                        ],
                        [
                          0.5555555555555556,
                          "#d8576b"
                        ],
                        [
                          0.6666666666666666,
                          "#ed7953"
                        ],
                        [
                          0.7777777777777778,
                          "#fb9f3a"
                        ],
                        [
                          0.8888888888888888,
                          "#fdca26"
                        ],
                        [
                          1,
                          "#f0f921"
                        ]
                      ],
                      "sequentialminus": [
                        [
                          0,
                          "#0d0887"
                        ],
                        [
                          0.1111111111111111,
                          "#46039f"
                        ],
                        [
                          0.2222222222222222,
                          "#7201a8"
                        ],
                        [
                          0.3333333333333333,
                          "#9c179e"
                        ],
                        [
                          0.4444444444444444,
                          "#bd3786"
                        ],
                        [
                          0.5555555555555556,
                          "#d8576b"
                        ],
                        [
                          0.6666666666666666,
                          "#ed7953"
                        ],
                        [
                          0.7777777777777778,
                          "#fb9f3a"
                        ],
                        [
                          0.8888888888888888,
                          "#fdca26"
                        ],
                        [
                          1,
                          "#f0f921"
                        ]
                      ]
                    },
                    "colorway": [
                      "#636efa",
                      "#EF553B",
                      "#00cc96",
                      "#ab63fa",
                      "#FFA15A",
                      "#19d3f3",
                      "#FF6692",
                      "#B6E880",
                      "#FF97FF",
                      "#FECB52"
                    ],
                    "font": {
                      "color": "#2a3f5f"
                    },
                    "geo": {
                      "bgcolor": "white",
                      "lakecolor": "white",
                      "landcolor": "#E5ECF6",
                      "showlakes": true,
                      "showland": true,
                      "subunitcolor": "white"
                    },
                    "hoverlabel": {
                      "align": "left"
                    },
                    "hovermode": "closest",
                    "mapbox": {
                      "style": "light"
                    },
                    "paper_bgcolor": "white",
                    "plot_bgcolor": "#E5ECF6",
                    "polar": {
                      "angularaxis": {
                        "gridcolor": "white",
                        "linecolor": "white",
                        "ticks": ""
                      },
                      "bgcolor": "#E5ECF6",
                      "radialaxis": {
                        "gridcolor": "white",
                        "linecolor": "white",
                        "ticks": ""
                      }
                    },
                    "scene": {
                      "xaxis": {
                        "backgroundcolor": "#E5ECF6",
                        "gridcolor": "white",
                        "gridwidth": 2,
                        "linecolor": "white",
                        "showbackground": true,
                        "ticks": "",
                        "zerolinecolor": "white"
                      },
                      "yaxis": {
                        "backgroundcolor": "#E5ECF6",
                        "gridcolor": "white",
                        "gridwidth": 2,
                        "linecolor": "white",
                        "showbackground": true,
                        "ticks": "",
                        "zerolinecolor": "white"
                      },
                      "zaxis": {
                        "backgroundcolor": "#E5ECF6",
                        "gridcolor": "white",
                        "gridwidth": 2,
                        "linecolor": "white",
                        "showbackground": true,
                        "ticks": "",
                        "zerolinecolor": "white"
                      }
                    },
                    "shapedefaults": {
                      "line": {
                        "color": "#2a3f5f"
                      }
                    },
                    "ternary": {
                      "aaxis": {
                        "gridcolor": "white",
                        "linecolor": "white",
                        "ticks": ""
                      },
                      "baxis": {
                        "gridcolor": "white",
                        "linecolor": "white",
                        "ticks": ""
                      },
                      "bgcolor": "#E5ECF6",
                      "caxis": {
                        "gridcolor": "white",
                        "linecolor": "white",
                        "ticks": ""
                      }
                    },
                    "title": {
                      "x": 0.05
                    },
                    "xaxis": {
                      "automargin": true,
                      "gridcolor": "white",
                      "linecolor": "white",
                      "ticks": "",
                      "title": {
                        "standoff": 15
                      },
                      "zerolinecolor": "white",
                      "zerolinewidth": 2
                    },
                    "yaxis": {
                      "automargin": true,
                      "gridcolor": "white",
                      "linecolor": "white",
                      "ticks": "",
                      "title": {
                        "standoff": 15
                      },
                      "zerolinecolor": "white",
                      "zerolinewidth": 2
                    }
                  }
                },
                "title": {
                  "text": "Cantidad ventas por dia en cada mes comparado con barras"
                },
                "xaxis": {
                  "title": {
                    "text": "Día de la semana"
                  }
                },
                "yaxis": {
                  "title": {
                    "text": "Cantidad"
                  }
                }
              }
            }
          },
          "metadata": {},
          "output_type": "display_data"
        }
      ],
      "source": [
        "# Lista para almacenar los datos de ventas por hora de cada mes\n",
        "ventas_pordia_pormes = []\n",
        "etiquetas = []\n",
        "\n",
        "# Iterar a través de cada mes en la lista 'meses'\n",
        "for mes in meses:\n",
        "    # Obtener el DataFrame correspondiente al mes\n",
        "    dataframe_mes = dataframes[mes]\n",
        "    \n",
        "    # Realizar algún procesamiento de datos específico (reemplaza con tu propio procesamiento)\n",
        "    dataframe_mes = extraer_datos(dataframe_mes)  # Reemplaza esto con el procesamiento que necesites\n",
        "    \n",
        "    # Calcular el número de ventas por hora para este mes y almacenarlo en 'Ventas_por_hora'\n",
        "    Ventas_por_dia = dataframe_mes.groupby('strDia')['Cantidad Pedida'].sum()\n",
        "    \n",
        "    # Agregar los datos de ventas por hora de este mes a la lista 'ventas_por_hora_por_mes'\n",
        "    ventas_pordia_pormes.append(Ventas_por_dia.tolist())\n",
        "\n",
        "fig = go.Figure()\n",
        "\n",
        "for i, mes in enumerate(meses):\n",
        "    fig.add_trace(go.Bar(\n",
        "        x=dias_semana,\n",
        "        y=ventas_pordia_pormes[i],\n",
        "        name=mes\n",
        "    ))\n",
        "\n",
        "# Configuración adicional del gráfico\n",
        "fig.update_layout(\n",
        "    title='Cantidad ventas por dia en cada mes comparado con barras',\n",
        "    xaxis_title='Día de la semana',\n",
        "    yaxis_title='Cantidad',\n",
        "    barmode='group',  # Agrupa las barras\n",
        ")\n",
        "\n",
        "fig.show()\n",
        "\n",
        "    "
      ]
    },
    {
      "cell_type": "markdown",
      "metadata": {},
      "source": [
        "¿Cómo varían las ventas a lo largo de los diferentes días de la semana?"
      ]
    },
    {
      "cell_type": "code",
      "execution_count": 81,
      "metadata": {},
      "outputs": [
        {
          "data": {
            "application/vnd.plotly.v1+json": {
              "config": {
                "plotlyServerURL": "https://plot.ly"
              },
              "data": [
                {
                  "line": {
                    "shape": "spline",
                    "width": 2
                  },
                  "marker": {
                    "size": 10
                  },
                  "mode": "lines+markers",
                  "name": "Diciembre",
                  "type": "scatter",
                  "x": [
                    "Lunes",
                    "Martes",
                    "Miércoles",
                    "Jueves",
                    "Viernes",
                    "Sábado",
                    "Domingo"
                  ],
                  "y": [
                    29899,
                    30724,
                    29799,
                    29662,
                    29448,
                    29769,
                    29778
                  ]
                }
              ],
              "layout": {
                "legend": {
                  "y": 0.3,
                  "yanchor": "bottom"
                },
                "template": {
                  "data": {
                    "bar": [
                      {
                        "error_x": {
                          "color": "#2a3f5f"
                        },
                        "error_y": {
                          "color": "#2a3f5f"
                        },
                        "marker": {
                          "line": {
                            "color": "#E5ECF6",
                            "width": 0.5
                          },
                          "pattern": {
                            "fillmode": "overlay",
                            "size": 10,
                            "solidity": 0.2
                          }
                        },
                        "type": "bar"
                      }
                    ],
                    "barpolar": [
                      {
                        "marker": {
                          "line": {
                            "color": "#E5ECF6",
                            "width": 0.5
                          },
                          "pattern": {
                            "fillmode": "overlay",
                            "size": 10,
                            "solidity": 0.2
                          }
                        },
                        "type": "barpolar"
                      }
                    ],
                    "carpet": [
                      {
                        "aaxis": {
                          "endlinecolor": "#2a3f5f",
                          "gridcolor": "white",
                          "linecolor": "white",
                          "minorgridcolor": "white",
                          "startlinecolor": "#2a3f5f"
                        },
                        "baxis": {
                          "endlinecolor": "#2a3f5f",
                          "gridcolor": "white",
                          "linecolor": "white",
                          "minorgridcolor": "white",
                          "startlinecolor": "#2a3f5f"
                        },
                        "type": "carpet"
                      }
                    ],
                    "choropleth": [
                      {
                        "colorbar": {
                          "outlinewidth": 0,
                          "ticks": ""
                        },
                        "type": "choropleth"
                      }
                    ],
                    "contour": [
                      {
                        "colorbar": {
                          "outlinewidth": 0,
                          "ticks": ""
                        },
                        "colorscale": [
                          [
                            0,
                            "#0d0887"
                          ],
                          [
                            0.1111111111111111,
                            "#46039f"
                          ],
                          [
                            0.2222222222222222,
                            "#7201a8"
                          ],
                          [
                            0.3333333333333333,
                            "#9c179e"
                          ],
                          [
                            0.4444444444444444,
                            "#bd3786"
                          ],
                          [
                            0.5555555555555556,
                            "#d8576b"
                          ],
                          [
                            0.6666666666666666,
                            "#ed7953"
                          ],
                          [
                            0.7777777777777778,
                            "#fb9f3a"
                          ],
                          [
                            0.8888888888888888,
                            "#fdca26"
                          ],
                          [
                            1,
                            "#f0f921"
                          ]
                        ],
                        "type": "contour"
                      }
                    ],
                    "contourcarpet": [
                      {
                        "colorbar": {
                          "outlinewidth": 0,
                          "ticks": ""
                        },
                        "type": "contourcarpet"
                      }
                    ],
                    "heatmap": [
                      {
                        "colorbar": {
                          "outlinewidth": 0,
                          "ticks": ""
                        },
                        "colorscale": [
                          [
                            0,
                            "#0d0887"
                          ],
                          [
                            0.1111111111111111,
                            "#46039f"
                          ],
                          [
                            0.2222222222222222,
                            "#7201a8"
                          ],
                          [
                            0.3333333333333333,
                            "#9c179e"
                          ],
                          [
                            0.4444444444444444,
                            "#bd3786"
                          ],
                          [
                            0.5555555555555556,
                            "#d8576b"
                          ],
                          [
                            0.6666666666666666,
                            "#ed7953"
                          ],
                          [
                            0.7777777777777778,
                            "#fb9f3a"
                          ],
                          [
                            0.8888888888888888,
                            "#fdca26"
                          ],
                          [
                            1,
                            "#f0f921"
                          ]
                        ],
                        "type": "heatmap"
                      }
                    ],
                    "heatmapgl": [
                      {
                        "colorbar": {
                          "outlinewidth": 0,
                          "ticks": ""
                        },
                        "colorscale": [
                          [
                            0,
                            "#0d0887"
                          ],
                          [
                            0.1111111111111111,
                            "#46039f"
                          ],
                          [
                            0.2222222222222222,
                            "#7201a8"
                          ],
                          [
                            0.3333333333333333,
                            "#9c179e"
                          ],
                          [
                            0.4444444444444444,
                            "#bd3786"
                          ],
                          [
                            0.5555555555555556,
                            "#d8576b"
                          ],
                          [
                            0.6666666666666666,
                            "#ed7953"
                          ],
                          [
                            0.7777777777777778,
                            "#fb9f3a"
                          ],
                          [
                            0.8888888888888888,
                            "#fdca26"
                          ],
                          [
                            1,
                            "#f0f921"
                          ]
                        ],
                        "type": "heatmapgl"
                      }
                    ],
                    "histogram": [
                      {
                        "marker": {
                          "pattern": {
                            "fillmode": "overlay",
                            "size": 10,
                            "solidity": 0.2
                          }
                        },
                        "type": "histogram"
                      }
                    ],
                    "histogram2d": [
                      {
                        "colorbar": {
                          "outlinewidth": 0,
                          "ticks": ""
                        },
                        "colorscale": [
                          [
                            0,
                            "#0d0887"
                          ],
                          [
                            0.1111111111111111,
                            "#46039f"
                          ],
                          [
                            0.2222222222222222,
                            "#7201a8"
                          ],
                          [
                            0.3333333333333333,
                            "#9c179e"
                          ],
                          [
                            0.4444444444444444,
                            "#bd3786"
                          ],
                          [
                            0.5555555555555556,
                            "#d8576b"
                          ],
                          [
                            0.6666666666666666,
                            "#ed7953"
                          ],
                          [
                            0.7777777777777778,
                            "#fb9f3a"
                          ],
                          [
                            0.8888888888888888,
                            "#fdca26"
                          ],
                          [
                            1,
                            "#f0f921"
                          ]
                        ],
                        "type": "histogram2d"
                      }
                    ],
                    "histogram2dcontour": [
                      {
                        "colorbar": {
                          "outlinewidth": 0,
                          "ticks": ""
                        },
                        "colorscale": [
                          [
                            0,
                            "#0d0887"
                          ],
                          [
                            0.1111111111111111,
                            "#46039f"
                          ],
                          [
                            0.2222222222222222,
                            "#7201a8"
                          ],
                          [
                            0.3333333333333333,
                            "#9c179e"
                          ],
                          [
                            0.4444444444444444,
                            "#bd3786"
                          ],
                          [
                            0.5555555555555556,
                            "#d8576b"
                          ],
                          [
                            0.6666666666666666,
                            "#ed7953"
                          ],
                          [
                            0.7777777777777778,
                            "#fb9f3a"
                          ],
                          [
                            0.8888888888888888,
                            "#fdca26"
                          ],
                          [
                            1,
                            "#f0f921"
                          ]
                        ],
                        "type": "histogram2dcontour"
                      }
                    ],
                    "mesh3d": [
                      {
                        "colorbar": {
                          "outlinewidth": 0,
                          "ticks": ""
                        },
                        "type": "mesh3d"
                      }
                    ],
                    "parcoords": [
                      {
                        "line": {
                          "colorbar": {
                            "outlinewidth": 0,
                            "ticks": ""
                          }
                        },
                        "type": "parcoords"
                      }
                    ],
                    "pie": [
                      {
                        "automargin": true,
                        "type": "pie"
                      }
                    ],
                    "scatter": [
                      {
                        "marker": {
                          "colorbar": {
                            "outlinewidth": 0,
                            "ticks": ""
                          }
                        },
                        "type": "scatter"
                      }
                    ],
                    "scatter3d": [
                      {
                        "line": {
                          "colorbar": {
                            "outlinewidth": 0,
                            "ticks": ""
                          }
                        },
                        "marker": {
                          "colorbar": {
                            "outlinewidth": 0,
                            "ticks": ""
                          }
                        },
                        "type": "scatter3d"
                      }
                    ],
                    "scattercarpet": [
                      {
                        "marker": {
                          "colorbar": {
                            "outlinewidth": 0,
                            "ticks": ""
                          }
                        },
                        "type": "scattercarpet"
                      }
                    ],
                    "scattergeo": [
                      {
                        "marker": {
                          "colorbar": {
                            "outlinewidth": 0,
                            "ticks": ""
                          }
                        },
                        "type": "scattergeo"
                      }
                    ],
                    "scattergl": [
                      {
                        "marker": {
                          "colorbar": {
                            "outlinewidth": 0,
                            "ticks": ""
                          }
                        },
                        "type": "scattergl"
                      }
                    ],
                    "scattermapbox": [
                      {
                        "marker": {
                          "colorbar": {
                            "outlinewidth": 0,
                            "ticks": ""
                          }
                        },
                        "type": "scattermapbox"
                      }
                    ],
                    "scatterpolar": [
                      {
                        "marker": {
                          "colorbar": {
                            "outlinewidth": 0,
                            "ticks": ""
                          }
                        },
                        "type": "scatterpolar"
                      }
                    ],
                    "scatterpolargl": [
                      {
                        "marker": {
                          "colorbar": {
                            "outlinewidth": 0,
                            "ticks": ""
                          }
                        },
                        "type": "scatterpolargl"
                      }
                    ],
                    "scatterternary": [
                      {
                        "marker": {
                          "colorbar": {
                            "outlinewidth": 0,
                            "ticks": ""
                          }
                        },
                        "type": "scatterternary"
                      }
                    ],
                    "surface": [
                      {
                        "colorbar": {
                          "outlinewidth": 0,
                          "ticks": ""
                        },
                        "colorscale": [
                          [
                            0,
                            "#0d0887"
                          ],
                          [
                            0.1111111111111111,
                            "#46039f"
                          ],
                          [
                            0.2222222222222222,
                            "#7201a8"
                          ],
                          [
                            0.3333333333333333,
                            "#9c179e"
                          ],
                          [
                            0.4444444444444444,
                            "#bd3786"
                          ],
                          [
                            0.5555555555555556,
                            "#d8576b"
                          ],
                          [
                            0.6666666666666666,
                            "#ed7953"
                          ],
                          [
                            0.7777777777777778,
                            "#fb9f3a"
                          ],
                          [
                            0.8888888888888888,
                            "#fdca26"
                          ],
                          [
                            1,
                            "#f0f921"
                          ]
                        ],
                        "type": "surface"
                      }
                    ],
                    "table": [
                      {
                        "cells": {
                          "fill": {
                            "color": "#EBF0F8"
                          },
                          "line": {
                            "color": "white"
                          }
                        },
                        "header": {
                          "fill": {
                            "color": "#C8D4E3"
                          },
                          "line": {
                            "color": "white"
                          }
                        },
                        "type": "table"
                      }
                    ]
                  },
                  "layout": {
                    "annotationdefaults": {
                      "arrowcolor": "#2a3f5f",
                      "arrowhead": 0,
                      "arrowwidth": 1
                    },
                    "autotypenumbers": "strict",
                    "coloraxis": {
                      "colorbar": {
                        "outlinewidth": 0,
                        "ticks": ""
                      }
                    },
                    "colorscale": {
                      "diverging": [
                        [
                          0,
                          "#8e0152"
                        ],
                        [
                          0.1,
                          "#c51b7d"
                        ],
                        [
                          0.2,
                          "#de77ae"
                        ],
                        [
                          0.3,
                          "#f1b6da"
                        ],
                        [
                          0.4,
                          "#fde0ef"
                        ],
                        [
                          0.5,
                          "#f7f7f7"
                        ],
                        [
                          0.6,
                          "#e6f5d0"
                        ],
                        [
                          0.7,
                          "#b8e186"
                        ],
                        [
                          0.8,
                          "#7fbc41"
                        ],
                        [
                          0.9,
                          "#4d9221"
                        ],
                        [
                          1,
                          "#276419"
                        ]
                      ],
                      "sequential": [
                        [
                          0,
                          "#0d0887"
                        ],
                        [
                          0.1111111111111111,
                          "#46039f"
                        ],
                        [
                          0.2222222222222222,
                          "#7201a8"
                        ],
                        [
                          0.3333333333333333,
                          "#9c179e"
                        ],
                        [
                          0.4444444444444444,
                          "#bd3786"
                        ],
                        [
                          0.5555555555555556,
                          "#d8576b"
                        ],
                        [
                          0.6666666666666666,
                          "#ed7953"
                        ],
                        [
                          0.7777777777777778,
                          "#fb9f3a"
                        ],
                        [
                          0.8888888888888888,
                          "#fdca26"
                        ],
                        [
                          1,
                          "#f0f921"
                        ]
                      ],
                      "sequentialminus": [
                        [
                          0,
                          "#0d0887"
                        ],
                        [
                          0.1111111111111111,
                          "#46039f"
                        ],
                        [
                          0.2222222222222222,
                          "#7201a8"
                        ],
                        [
                          0.3333333333333333,
                          "#9c179e"
                        ],
                        [
                          0.4444444444444444,
                          "#bd3786"
                        ],
                        [
                          0.5555555555555556,
                          "#d8576b"
                        ],
                        [
                          0.6666666666666666,
                          "#ed7953"
                        ],
                        [
                          0.7777777777777778,
                          "#fb9f3a"
                        ],
                        [
                          0.8888888888888888,
                          "#fdca26"
                        ],
                        [
                          1,
                          "#f0f921"
                        ]
                      ]
                    },
                    "colorway": [
                      "#636efa",
                      "#EF553B",
                      "#00cc96",
                      "#ab63fa",
                      "#FFA15A",
                      "#19d3f3",
                      "#FF6692",
                      "#B6E880",
                      "#FF97FF",
                      "#FECB52"
                    ],
                    "font": {
                      "color": "#2a3f5f"
                    },
                    "geo": {
                      "bgcolor": "white",
                      "lakecolor": "white",
                      "landcolor": "#E5ECF6",
                      "showlakes": true,
                      "showland": true,
                      "subunitcolor": "white"
                    },
                    "hoverlabel": {
                      "align": "left"
                    },
                    "hovermode": "closest",
                    "mapbox": {
                      "style": "light"
                    },
                    "paper_bgcolor": "white",
                    "plot_bgcolor": "#E5ECF6",
                    "polar": {
                      "angularaxis": {
                        "gridcolor": "white",
                        "linecolor": "white",
                        "ticks": ""
                      },
                      "bgcolor": "#E5ECF6",
                      "radialaxis": {
                        "gridcolor": "white",
                        "linecolor": "white",
                        "ticks": ""
                      }
                    },
                    "scene": {
                      "xaxis": {
                        "backgroundcolor": "#E5ECF6",
                        "gridcolor": "white",
                        "gridwidth": 2,
                        "linecolor": "white",
                        "showbackground": true,
                        "ticks": "",
                        "zerolinecolor": "white"
                      },
                      "yaxis": {
                        "backgroundcolor": "#E5ECF6",
                        "gridcolor": "white",
                        "gridwidth": 2,
                        "linecolor": "white",
                        "showbackground": true,
                        "ticks": "",
                        "zerolinecolor": "white"
                      },
                      "zaxis": {
                        "backgroundcolor": "#E5ECF6",
                        "gridcolor": "white",
                        "gridwidth": 2,
                        "linecolor": "white",
                        "showbackground": true,
                        "ticks": "",
                        "zerolinecolor": "white"
                      }
                    },
                    "shapedefaults": {
                      "line": {
                        "color": "#2a3f5f"
                      }
                    },
                    "ternary": {
                      "aaxis": {
                        "gridcolor": "white",
                        "linecolor": "white",
                        "ticks": ""
                      },
                      "baxis": {
                        "gridcolor": "white",
                        "linecolor": "white",
                        "ticks": ""
                      },
                      "bgcolor": "#E5ECF6",
                      "caxis": {
                        "gridcolor": "white",
                        "linecolor": "white",
                        "ticks": ""
                      }
                    },
                    "title": {
                      "x": 0.05
                    },
                    "xaxis": {
                      "automargin": true,
                      "gridcolor": "white",
                      "linecolor": "white",
                      "ticks": "",
                      "title": {
                        "standoff": 15
                      },
                      "zerolinecolor": "white",
                      "zerolinewidth": 2
                    },
                    "yaxis": {
                      "automargin": true,
                      "gridcolor": "white",
                      "linecolor": "white",
                      "ticks": "",
                      "title": {
                        "standoff": 15
                      },
                      "zerolinecolor": "white",
                      "zerolinewidth": 2
                    }
                  }
                },
                "title": {
                  "text": "Total de unidades vendidas por dia en diferentes meses"
                },
                "xaxis": {
                  "tickvals": [
                    0,
                    1,
                    2,
                    3,
                    4,
                    5,
                    6,
                    7,
                    8,
                    9,
                    10,
                    11,
                    12,
                    13,
                    14,
                    15,
                    16,
                    17,
                    18,
                    19,
                    20,
                    21,
                    22,
                    23
                  ],
                  "title": {
                    "text": "Hora"
                  }
                },
                "yaxis": {
                  "side": "left",
                  "title": {
                    "text": "Unidades vendidas"
                  }
                }
              }
            }
          },
          "metadata": {},
          "output_type": "display_data"
        }
      ],
      "source": [
        "# Crear un objeto figura para el gráfico\n",
        "fig = go.Figure()\n",
        "\n",
        "# Iterar sobre la lista de datos y agregar cada mes al objeto figura 'fig'\n",
        "fig.add_trace(go.Scatter(\n",
        "    x=dias_semana,  # Eje X: Horas del día\n",
        "    y=total_pordia_pormes,  # Eje Y: Datos de ventas por hora para este mes\n",
        "    mode='lines+markers',  # Tipo de gráfico: líneas\n",
        "    name=mes,  # Etiqueta para la leyenda del gráfico\n",
        "    line=dict(width=2, shape='spline'),  # Configuración de las líneas del gráfico\n",
        "    marker=dict(size=10)  # Configuración de las marcas del gráfico\n",
        "))\n",
        "\n",
        "# Configurar los ejes y los títulos del gráfico\n",
        "fig.update_layout(\n",
        "    title=\"Total de unidades vendidas por dia en diferentes meses\",  # Título del gráfico\n",
        "    xaxis=dict(title=\"Hora\", tickvals=Horas),  # Configuración del eje X\n",
        "    yaxis=dict(title=\"Unidades vendidas\", side=\"left\"),  # Configuración del eje Y\n",
        "    legend=dict(y=0.3, yanchor='bottom'),  # Configuración de la leyenda\n",
        ")\n",
        "\n",
        "# Mostrar el gráfico\n",
        "fig.show()"
      ]
    },
    {
      "cell_type": "markdown",
      "metadata": {},
      "source": [
        "¿Se observa alguna diferencia significativa en las ventas entre los días laborables y\n",
        "los fines de semana?"
      ]
    },
    {
      "cell_type": "code",
      "execution_count": 82,
      "metadata": {},
      "outputs": [
        {
          "data": {
            "application/vnd.plotly.v1+json": {
              "config": {
                "plotlyServerURL": "https://plot.ly"
              },
              "data": [
                {
                  "domain": {
                    "x": [
                      0,
                      0.45
                    ],
                    "y": [
                      0,
                      1
                    ]
                  },
                  "labels": [
                    "Dias de semana",
                    "Fin de semana"
                  ],
                  "marker": {
                    "colors": [
                      "#ff9999",
                      "#66b3ff"
                    ]
                  },
                  "pull": [
                    0,
                    0.1
                  ],
                  "textinfo": "label+percent",
                  "type": "pie",
                  "values": [
                    149532,
                    59547
                  ]
                },
                {
                  "domain": {
                    "x": [
                      0.55,
                      1
                    ],
                    "y": [
                      0,
                      1
                    ]
                  },
                  "labels": [
                    "Lunes",
                    "Martes",
                    "Miércoles",
                    "Jueves",
                    "Viernes",
                    "Sábado",
                    "Domingo"
                  ],
                  "marker": {
                    "colors": [
                      "#ff9999",
                      "#ff9999",
                      "#ff9999",
                      "#ff9999",
                      "#ff9999",
                      "#66b3ff",
                      "#66b3ff"
                    ]
                  },
                  "pull": [
                    0,
                    0,
                    0,
                    0,
                    0,
                    0.1,
                    0
                  ],
                  "textinfo": "label+percent",
                  "type": "pie",
                  "values": [
                    29899,
                    30724,
                    29799,
                    29662,
                    29448,
                    29769,
                    29778
                  ]
                }
              ],
              "layout": {
                "template": {
                  "data": {
                    "bar": [
                      {
                        "error_x": {
                          "color": "#2a3f5f"
                        },
                        "error_y": {
                          "color": "#2a3f5f"
                        },
                        "marker": {
                          "line": {
                            "color": "#E5ECF6",
                            "width": 0.5
                          },
                          "pattern": {
                            "fillmode": "overlay",
                            "size": 10,
                            "solidity": 0.2
                          }
                        },
                        "type": "bar"
                      }
                    ],
                    "barpolar": [
                      {
                        "marker": {
                          "line": {
                            "color": "#E5ECF6",
                            "width": 0.5
                          },
                          "pattern": {
                            "fillmode": "overlay",
                            "size": 10,
                            "solidity": 0.2
                          }
                        },
                        "type": "barpolar"
                      }
                    ],
                    "carpet": [
                      {
                        "aaxis": {
                          "endlinecolor": "#2a3f5f",
                          "gridcolor": "white",
                          "linecolor": "white",
                          "minorgridcolor": "white",
                          "startlinecolor": "#2a3f5f"
                        },
                        "baxis": {
                          "endlinecolor": "#2a3f5f",
                          "gridcolor": "white",
                          "linecolor": "white",
                          "minorgridcolor": "white",
                          "startlinecolor": "#2a3f5f"
                        },
                        "type": "carpet"
                      }
                    ],
                    "choropleth": [
                      {
                        "colorbar": {
                          "outlinewidth": 0,
                          "ticks": ""
                        },
                        "type": "choropleth"
                      }
                    ],
                    "contour": [
                      {
                        "colorbar": {
                          "outlinewidth": 0,
                          "ticks": ""
                        },
                        "colorscale": [
                          [
                            0,
                            "#0d0887"
                          ],
                          [
                            0.1111111111111111,
                            "#46039f"
                          ],
                          [
                            0.2222222222222222,
                            "#7201a8"
                          ],
                          [
                            0.3333333333333333,
                            "#9c179e"
                          ],
                          [
                            0.4444444444444444,
                            "#bd3786"
                          ],
                          [
                            0.5555555555555556,
                            "#d8576b"
                          ],
                          [
                            0.6666666666666666,
                            "#ed7953"
                          ],
                          [
                            0.7777777777777778,
                            "#fb9f3a"
                          ],
                          [
                            0.8888888888888888,
                            "#fdca26"
                          ],
                          [
                            1,
                            "#f0f921"
                          ]
                        ],
                        "type": "contour"
                      }
                    ],
                    "contourcarpet": [
                      {
                        "colorbar": {
                          "outlinewidth": 0,
                          "ticks": ""
                        },
                        "type": "contourcarpet"
                      }
                    ],
                    "heatmap": [
                      {
                        "colorbar": {
                          "outlinewidth": 0,
                          "ticks": ""
                        },
                        "colorscale": [
                          [
                            0,
                            "#0d0887"
                          ],
                          [
                            0.1111111111111111,
                            "#46039f"
                          ],
                          [
                            0.2222222222222222,
                            "#7201a8"
                          ],
                          [
                            0.3333333333333333,
                            "#9c179e"
                          ],
                          [
                            0.4444444444444444,
                            "#bd3786"
                          ],
                          [
                            0.5555555555555556,
                            "#d8576b"
                          ],
                          [
                            0.6666666666666666,
                            "#ed7953"
                          ],
                          [
                            0.7777777777777778,
                            "#fb9f3a"
                          ],
                          [
                            0.8888888888888888,
                            "#fdca26"
                          ],
                          [
                            1,
                            "#f0f921"
                          ]
                        ],
                        "type": "heatmap"
                      }
                    ],
                    "heatmapgl": [
                      {
                        "colorbar": {
                          "outlinewidth": 0,
                          "ticks": ""
                        },
                        "colorscale": [
                          [
                            0,
                            "#0d0887"
                          ],
                          [
                            0.1111111111111111,
                            "#46039f"
                          ],
                          [
                            0.2222222222222222,
                            "#7201a8"
                          ],
                          [
                            0.3333333333333333,
                            "#9c179e"
                          ],
                          [
                            0.4444444444444444,
                            "#bd3786"
                          ],
                          [
                            0.5555555555555556,
                            "#d8576b"
                          ],
                          [
                            0.6666666666666666,
                            "#ed7953"
                          ],
                          [
                            0.7777777777777778,
                            "#fb9f3a"
                          ],
                          [
                            0.8888888888888888,
                            "#fdca26"
                          ],
                          [
                            1,
                            "#f0f921"
                          ]
                        ],
                        "type": "heatmapgl"
                      }
                    ],
                    "histogram": [
                      {
                        "marker": {
                          "pattern": {
                            "fillmode": "overlay",
                            "size": 10,
                            "solidity": 0.2
                          }
                        },
                        "type": "histogram"
                      }
                    ],
                    "histogram2d": [
                      {
                        "colorbar": {
                          "outlinewidth": 0,
                          "ticks": ""
                        },
                        "colorscale": [
                          [
                            0,
                            "#0d0887"
                          ],
                          [
                            0.1111111111111111,
                            "#46039f"
                          ],
                          [
                            0.2222222222222222,
                            "#7201a8"
                          ],
                          [
                            0.3333333333333333,
                            "#9c179e"
                          ],
                          [
                            0.4444444444444444,
                            "#bd3786"
                          ],
                          [
                            0.5555555555555556,
                            "#d8576b"
                          ],
                          [
                            0.6666666666666666,
                            "#ed7953"
                          ],
                          [
                            0.7777777777777778,
                            "#fb9f3a"
                          ],
                          [
                            0.8888888888888888,
                            "#fdca26"
                          ],
                          [
                            1,
                            "#f0f921"
                          ]
                        ],
                        "type": "histogram2d"
                      }
                    ],
                    "histogram2dcontour": [
                      {
                        "colorbar": {
                          "outlinewidth": 0,
                          "ticks": ""
                        },
                        "colorscale": [
                          [
                            0,
                            "#0d0887"
                          ],
                          [
                            0.1111111111111111,
                            "#46039f"
                          ],
                          [
                            0.2222222222222222,
                            "#7201a8"
                          ],
                          [
                            0.3333333333333333,
                            "#9c179e"
                          ],
                          [
                            0.4444444444444444,
                            "#bd3786"
                          ],
                          [
                            0.5555555555555556,
                            "#d8576b"
                          ],
                          [
                            0.6666666666666666,
                            "#ed7953"
                          ],
                          [
                            0.7777777777777778,
                            "#fb9f3a"
                          ],
                          [
                            0.8888888888888888,
                            "#fdca26"
                          ],
                          [
                            1,
                            "#f0f921"
                          ]
                        ],
                        "type": "histogram2dcontour"
                      }
                    ],
                    "mesh3d": [
                      {
                        "colorbar": {
                          "outlinewidth": 0,
                          "ticks": ""
                        },
                        "type": "mesh3d"
                      }
                    ],
                    "parcoords": [
                      {
                        "line": {
                          "colorbar": {
                            "outlinewidth": 0,
                            "ticks": ""
                          }
                        },
                        "type": "parcoords"
                      }
                    ],
                    "pie": [
                      {
                        "automargin": true,
                        "type": "pie"
                      }
                    ],
                    "scatter": [
                      {
                        "marker": {
                          "colorbar": {
                            "outlinewidth": 0,
                            "ticks": ""
                          }
                        },
                        "type": "scatter"
                      }
                    ],
                    "scatter3d": [
                      {
                        "line": {
                          "colorbar": {
                            "outlinewidth": 0,
                            "ticks": ""
                          }
                        },
                        "marker": {
                          "colorbar": {
                            "outlinewidth": 0,
                            "ticks": ""
                          }
                        },
                        "type": "scatter3d"
                      }
                    ],
                    "scattercarpet": [
                      {
                        "marker": {
                          "colorbar": {
                            "outlinewidth": 0,
                            "ticks": ""
                          }
                        },
                        "type": "scattercarpet"
                      }
                    ],
                    "scattergeo": [
                      {
                        "marker": {
                          "colorbar": {
                            "outlinewidth": 0,
                            "ticks": ""
                          }
                        },
                        "type": "scattergeo"
                      }
                    ],
                    "scattergl": [
                      {
                        "marker": {
                          "colorbar": {
                            "outlinewidth": 0,
                            "ticks": ""
                          }
                        },
                        "type": "scattergl"
                      }
                    ],
                    "scattermapbox": [
                      {
                        "marker": {
                          "colorbar": {
                            "outlinewidth": 0,
                            "ticks": ""
                          }
                        },
                        "type": "scattermapbox"
                      }
                    ],
                    "scatterpolar": [
                      {
                        "marker": {
                          "colorbar": {
                            "outlinewidth": 0,
                            "ticks": ""
                          }
                        },
                        "type": "scatterpolar"
                      }
                    ],
                    "scatterpolargl": [
                      {
                        "marker": {
                          "colorbar": {
                            "outlinewidth": 0,
                            "ticks": ""
                          }
                        },
                        "type": "scatterpolargl"
                      }
                    ],
                    "scatterternary": [
                      {
                        "marker": {
                          "colorbar": {
                            "outlinewidth": 0,
                            "ticks": ""
                          }
                        },
                        "type": "scatterternary"
                      }
                    ],
                    "surface": [
                      {
                        "colorbar": {
                          "outlinewidth": 0,
                          "ticks": ""
                        },
                        "colorscale": [
                          [
                            0,
                            "#0d0887"
                          ],
                          [
                            0.1111111111111111,
                            "#46039f"
                          ],
                          [
                            0.2222222222222222,
                            "#7201a8"
                          ],
                          [
                            0.3333333333333333,
                            "#9c179e"
                          ],
                          [
                            0.4444444444444444,
                            "#bd3786"
                          ],
                          [
                            0.5555555555555556,
                            "#d8576b"
                          ],
                          [
                            0.6666666666666666,
                            "#ed7953"
                          ],
                          [
                            0.7777777777777778,
                            "#fb9f3a"
                          ],
                          [
                            0.8888888888888888,
                            "#fdca26"
                          ],
                          [
                            1,
                            "#f0f921"
                          ]
                        ],
                        "type": "surface"
                      }
                    ],
                    "table": [
                      {
                        "cells": {
                          "fill": {
                            "color": "#EBF0F8"
                          },
                          "line": {
                            "color": "white"
                          }
                        },
                        "header": {
                          "fill": {
                            "color": "#C8D4E3"
                          },
                          "line": {
                            "color": "white"
                          }
                        },
                        "type": "table"
                      }
                    ]
                  },
                  "layout": {
                    "annotationdefaults": {
                      "arrowcolor": "#2a3f5f",
                      "arrowhead": 0,
                      "arrowwidth": 1
                    },
                    "autotypenumbers": "strict",
                    "coloraxis": {
                      "colorbar": {
                        "outlinewidth": 0,
                        "ticks": ""
                      }
                    },
                    "colorscale": {
                      "diverging": [
                        [
                          0,
                          "#8e0152"
                        ],
                        [
                          0.1,
                          "#c51b7d"
                        ],
                        [
                          0.2,
                          "#de77ae"
                        ],
                        [
                          0.3,
                          "#f1b6da"
                        ],
                        [
                          0.4,
                          "#fde0ef"
                        ],
                        [
                          0.5,
                          "#f7f7f7"
                        ],
                        [
                          0.6,
                          "#e6f5d0"
                        ],
                        [
                          0.7,
                          "#b8e186"
                        ],
                        [
                          0.8,
                          "#7fbc41"
                        ],
                        [
                          0.9,
                          "#4d9221"
                        ],
                        [
                          1,
                          "#276419"
                        ]
                      ],
                      "sequential": [
                        [
                          0,
                          "#0d0887"
                        ],
                        [
                          0.1111111111111111,
                          "#46039f"
                        ],
                        [
                          0.2222222222222222,
                          "#7201a8"
                        ],
                        [
                          0.3333333333333333,
                          "#9c179e"
                        ],
                        [
                          0.4444444444444444,
                          "#bd3786"
                        ],
                        [
                          0.5555555555555556,
                          "#d8576b"
                        ],
                        [
                          0.6666666666666666,
                          "#ed7953"
                        ],
                        [
                          0.7777777777777778,
                          "#fb9f3a"
                        ],
                        [
                          0.8888888888888888,
                          "#fdca26"
                        ],
                        [
                          1,
                          "#f0f921"
                        ]
                      ],
                      "sequentialminus": [
                        [
                          0,
                          "#0d0887"
                        ],
                        [
                          0.1111111111111111,
                          "#46039f"
                        ],
                        [
                          0.2222222222222222,
                          "#7201a8"
                        ],
                        [
                          0.3333333333333333,
                          "#9c179e"
                        ],
                        [
                          0.4444444444444444,
                          "#bd3786"
                        ],
                        [
                          0.5555555555555556,
                          "#d8576b"
                        ],
                        [
                          0.6666666666666666,
                          "#ed7953"
                        ],
                        [
                          0.7777777777777778,
                          "#fb9f3a"
                        ],
                        [
                          0.8888888888888888,
                          "#fdca26"
                        ],
                        [
                          1,
                          "#f0f921"
                        ]
                      ]
                    },
                    "colorway": [
                      "#636efa",
                      "#EF553B",
                      "#00cc96",
                      "#ab63fa",
                      "#FFA15A",
                      "#19d3f3",
                      "#FF6692",
                      "#B6E880",
                      "#FF97FF",
                      "#FECB52"
                    ],
                    "font": {
                      "color": "#2a3f5f"
                    },
                    "geo": {
                      "bgcolor": "white",
                      "lakecolor": "white",
                      "landcolor": "#E5ECF6",
                      "showlakes": true,
                      "showland": true,
                      "subunitcolor": "white"
                    },
                    "hoverlabel": {
                      "align": "left"
                    },
                    "hovermode": "closest",
                    "mapbox": {
                      "style": "light"
                    },
                    "paper_bgcolor": "white",
                    "plot_bgcolor": "#E5ECF6",
                    "polar": {
                      "angularaxis": {
                        "gridcolor": "white",
                        "linecolor": "white",
                        "ticks": ""
                      },
                      "bgcolor": "#E5ECF6",
                      "radialaxis": {
                        "gridcolor": "white",
                        "linecolor": "white",
                        "ticks": ""
                      }
                    },
                    "scene": {
                      "xaxis": {
                        "backgroundcolor": "#E5ECF6",
                        "gridcolor": "white",
                        "gridwidth": 2,
                        "linecolor": "white",
                        "showbackground": true,
                        "ticks": "",
                        "zerolinecolor": "white"
                      },
                      "yaxis": {
                        "backgroundcolor": "#E5ECF6",
                        "gridcolor": "white",
                        "gridwidth": 2,
                        "linecolor": "white",
                        "showbackground": true,
                        "ticks": "",
                        "zerolinecolor": "white"
                      },
                      "zaxis": {
                        "backgroundcolor": "#E5ECF6",
                        "gridcolor": "white",
                        "gridwidth": 2,
                        "linecolor": "white",
                        "showbackground": true,
                        "ticks": "",
                        "zerolinecolor": "white"
                      }
                    },
                    "shapedefaults": {
                      "line": {
                        "color": "#2a3f5f"
                      }
                    },
                    "ternary": {
                      "aaxis": {
                        "gridcolor": "white",
                        "linecolor": "white",
                        "ticks": ""
                      },
                      "baxis": {
                        "gridcolor": "white",
                        "linecolor": "white",
                        "ticks": ""
                      },
                      "bgcolor": "#E5ECF6",
                      "caxis": {
                        "gridcolor": "white",
                        "linecolor": "white",
                        "ticks": ""
                      }
                    },
                    "title": {
                      "x": 0.05
                    },
                    "xaxis": {
                      "automargin": true,
                      "gridcolor": "white",
                      "linecolor": "white",
                      "ticks": "",
                      "title": {
                        "standoff": 15
                      },
                      "zerolinecolor": "white",
                      "zerolinewidth": 2
                    },
                    "yaxis": {
                      "automargin": true,
                      "gridcolor": "white",
                      "linecolor": "white",
                      "ticks": "",
                      "title": {
                        "standoff": 15
                      },
                      "zerolinecolor": "white",
                      "zerolinewidth": 2
                    }
                  }
                },
                "title": {
                  "text": "Ventas en día de semana y fin de semana"
                }
              }
            }
          },
          "metadata": {},
          "output_type": "display_data"
        }
      ],
      "source": [
        "\n",
        "'''# Iterar sobre la lista de datos y agregar cada mes al objeto figura 'fig'\n",
        "fig.add_trace(go.Pie(\n",
        "    x=dias_semana,  # Eje X: Horas del día\n",
        "    y=total_pordia_pormes,  # Eje Y: Datos de ventas por hora para este mes\n",
        "    mode='line',  # Tipo de gráfico: líneas\n",
        "    name=mes,  # Etiqueta para la leyenda del gráfico\n",
        "    line=dict(width=2, shape='spline'),  # Configuración de las líneas del gráfico\n",
        "))'''\n",
        "\n",
        "total_dias_semana = 0\n",
        "total_dias_finsemana = 0\n",
        "\n",
        "for i, dia in enumerate(dias_semana):\n",
        "    if dia != 'Sábado' and dia != 'Domingo':\n",
        "        total_dias_semana += total_pordia_pormes[i]\n",
        "    else:\n",
        "        total_dias_finsemana  += total_pordia_pormes[i]\n",
        "\n",
        "fig = make_subplots(\n",
        "    rows=1, cols=2,\n",
        "    specs=[[{\"type\": \"pie\"}, {\"type\": \"pie\"}],\n",
        "           ],\n",
        ")\n",
        "\n",
        "fig.add_trace(\n",
        "    go.Pie(\n",
        "        labels=['Dias de semana', 'Fin de semana'],\n",
        "        values=[total_dias_semana,total_dias_finsemana],\n",
        "        textinfo='label+percent', #etiquetas dentro del gráfico\n",
        "        pull=[0, 0.1],  # Separa el segundo segmento\n",
        "        marker=dict(colors=['#ff9999', '#66b3ff']),  #Colores\n",
        "    \n",
        "), row = 1, col=1)\n",
        "\n",
        "fig.add_trace(\n",
        "    go.Pie(\n",
        "        labels= dias_semana,\n",
        "        values= total_pordia_pormes,\n",
        "        textinfo='label+percent', #etiquetas dentro del gráfico\n",
        "        pull=[0, 0, 0, 0, 0, 0.1, 0],  # Separa el segundo segmento\n",
        "        marker=dict(colors=['#ff9999','#ff9999','#ff9999','#ff9999','#ff9999', '#66b3ff', '#66b3ff']),  #Colores\n",
        "    \n",
        "), row = 1, col=2)\n",
        "\n",
        "# Configurar los ejes y los títulos del gráfico\n",
        "fig.update_layout(\n",
        "    title=\"Ventas en día de semana y fin de semana\",  # Título del gráfico\n",
        ")\n",
        "\n",
        "# Mostrar el gráfico\n",
        "fig.show()\n"
      ]
    },
    {
      "cell_type": "markdown",
      "metadata": {},
      "source": [
        "# 6. Impacto de eventos especiales en las ventas:"
      ]
    },
    {
      "cell_type": "markdown",
      "metadata": {},
      "source": [
        "* ¿Se ha observado algún aumento o disminución significativa en las ventas en días\n",
        "cercanos a eventos especiales, como días festivos?"
      ]
    },
    {
      "cell_type": "code",
      "execution_count": 149,
      "metadata": {},
      "outputs": [
        {
          "name": "stdout",
          "output_type": "stream",
          "text": [
            "dia_mes\n",
            "01-01    343\n",
            "01-02      6\n",
            "02-01    368\n",
            "03-01    330\n",
            "04-01    330\n",
            "05-01    355\n",
            "06-01    319\n",
            "07-01    343\n",
            "08-01    318\n",
            "09-01    357\n",
            "10-01    368\n",
            "11-01    363\n",
            "12-01    340\n",
            "13-01    368\n",
            "14-01    324\n",
            "15-01    358\n",
            "16-01    349\n",
            "17-01    327\n",
            "18-01    355\n",
            "19-01    364\n",
            "20-01    385\n",
            "21-01    346\n",
            "22-01    359\n",
            "23-01    325\n",
            "24-01    391\n",
            "25-01    338\n",
            "26-01    423\n",
            "27-01    343\n",
            "28-01    368\n",
            "29-01    358\n",
            "30-01    339\n",
            "31-01    308\n",
            "Name: Cantidad Pedida, dtype: int64\n",
            "dia_mes\n",
            "01-01    343\n",
            "01-02      6\n",
            "02-01    368\n",
            "03-01    330\n",
            "04-01    330\n",
            "05-01    355\n",
            "06-01    319\n",
            "07-01    343\n",
            "08-01    318\n",
            "09-01    357\n",
            "10-01    368\n",
            "11-01    363\n",
            "12-01    340\n",
            "13-01    368\n",
            "14-01    324\n",
            "15-01    358\n",
            "16-01    349\n",
            "17-01    327\n",
            "18-01    355\n",
            "19-01    364\n",
            "20-01    385\n",
            "21-01    346\n",
            "22-01    359\n",
            "23-01    325\n",
            "24-01    391\n",
            "25-01    338\n",
            "26-01    423\n",
            "27-01    343\n",
            "28-01    368\n",
            "29-01    358\n",
            "30-01    339\n",
            "31-01    308\n",
            "Name: Cantidad Pedida, dtype: int64\n",
            "dia_mes\n",
            "01-01    343\n",
            "01-02      6\n",
            "02-01    368\n",
            "03-01    330\n",
            "04-01    330\n",
            "05-01    355\n",
            "06-01    319\n",
            "07-01    343\n",
            "08-01    318\n",
            "09-01    357\n",
            "10-01    368\n",
            "11-01    363\n",
            "12-01    340\n",
            "13-01    368\n",
            "14-01    324\n",
            "15-01    358\n",
            "16-01    349\n",
            "17-01    327\n",
            "18-01    355\n",
            "19-01    364\n",
            "20-01    385\n",
            "21-01    346\n",
            "22-01    359\n",
            "23-01    325\n",
            "24-01    391\n",
            "25-01    338\n",
            "26-01    423\n",
            "27-01    343\n",
            "28-01    368\n",
            "29-01    358\n",
            "30-01    339\n",
            "31-01    308\n",
            "Name: Cantidad Pedida, dtype: int64\n",
            "dia_mes\n",
            "01-01    343\n",
            "01-02      6\n",
            "02-01    368\n",
            "03-01    330\n",
            "04-01    330\n",
            "05-01    355\n",
            "06-01    319\n",
            "07-01    343\n",
            "08-01    318\n",
            "09-01    357\n",
            "10-01    368\n",
            "11-01    363\n",
            "12-01    340\n",
            "13-01    368\n",
            "14-01    324\n",
            "15-01    358\n",
            "16-01    349\n",
            "17-01    327\n",
            "18-01    355\n",
            "19-01    364\n",
            "20-01    385\n",
            "21-01    346\n",
            "22-01    359\n",
            "23-01    325\n",
            "24-01    391\n",
            "25-01    338\n",
            "26-01    423\n",
            "27-01    343\n",
            "28-01    368\n",
            "29-01    358\n",
            "30-01    339\n",
            "31-01    308\n",
            "Name: Cantidad Pedida, dtype: int64\n",
            "dia_mes\n",
            "01-01    343\n",
            "01-02      6\n",
            "02-01    368\n",
            "03-01    330\n",
            "04-01    330\n",
            "05-01    355\n",
            "06-01    319\n",
            "07-01    343\n",
            "08-01    318\n",
            "09-01    357\n",
            "10-01    368\n",
            "11-01    363\n",
            "12-01    340\n",
            "13-01    368\n",
            "14-01    324\n",
            "15-01    358\n",
            "16-01    349\n",
            "17-01    327\n",
            "18-01    355\n",
            "19-01    364\n",
            "20-01    385\n",
            "21-01    346\n",
            "22-01    359\n",
            "23-01    325\n",
            "24-01    391\n",
            "25-01    338\n",
            "26-01    423\n",
            "27-01    343\n",
            "28-01    368\n",
            "29-01    358\n",
            "30-01    339\n",
            "31-01    308\n",
            "Name: Cantidad Pedida, dtype: int64\n",
            "dia_mes\n",
            "01-01    343\n",
            "01-02      6\n",
            "02-01    368\n",
            "03-01    330\n",
            "04-01    330\n",
            "05-01    355\n",
            "06-01    319\n",
            "07-01    343\n",
            "08-01    318\n",
            "09-01    357\n",
            "10-01    368\n",
            "11-01    363\n",
            "12-01    340\n",
            "13-01    368\n",
            "14-01    324\n",
            "15-01    358\n",
            "16-01    349\n",
            "17-01    327\n",
            "18-01    355\n",
            "19-01    364\n",
            "20-01    385\n",
            "21-01    346\n",
            "22-01    359\n",
            "23-01    325\n",
            "24-01    391\n",
            "25-01    338\n",
            "26-01    423\n",
            "27-01    343\n",
            "28-01    368\n",
            "29-01    358\n",
            "30-01    339\n",
            "31-01    308\n",
            "Name: Cantidad Pedida, dtype: int64\n",
            "dia_mes\n",
            "01-02    455\n",
            "01-03     18\n",
            "02-02    499\n",
            "03-02    447\n",
            "04-02    452\n",
            "05-02    432\n",
            "06-02    452\n",
            "07-02    474\n",
            "08-02    489\n",
            "09-02    494\n",
            "10-02    506\n",
            "11-02    478\n",
            "12-02    498\n",
            "13-02    543\n",
            "14-02    466\n",
            "15-02    447\n",
            "16-02    493\n",
            "17-02    510\n",
            "18-02    508\n",
            "19-02    447\n",
            "20-02    500\n",
            "21-02    455\n",
            "22-02    507\n",
            "23-02    449\n",
            "24-02    531\n",
            "25-02    467\n",
            "26-02    485\n",
            "27-02    509\n",
            "28-02    450\n",
            "Name: Cantidad Pedida, dtype: int64\n",
            "dia_mes\n",
            "01-02    455\n",
            "01-03     18\n",
            "02-02    499\n",
            "03-02    447\n",
            "04-02    452\n",
            "05-02    432\n",
            "06-02    452\n",
            "07-02    474\n",
            "08-02    489\n",
            "09-02    494\n",
            "10-02    506\n",
            "11-02    478\n",
            "12-02    498\n",
            "13-02    543\n",
            "14-02    466\n",
            "15-02    447\n",
            "16-02    493\n",
            "17-02    510\n",
            "18-02    508\n",
            "19-02    447\n",
            "20-02    500\n",
            "21-02    455\n",
            "22-02    507\n",
            "23-02    449\n",
            "24-02    531\n",
            "25-02    467\n",
            "26-02    485\n",
            "27-02    509\n",
            "28-02    450\n",
            "Name: Cantidad Pedida, dtype: int64\n",
            "dia_mes\n",
            "01-02    455\n",
            "01-03     18\n",
            "02-02    499\n",
            "03-02    447\n",
            "04-02    452\n",
            "05-02    432\n",
            "06-02    452\n",
            "07-02    474\n",
            "08-02    489\n",
            "09-02    494\n",
            "10-02    506\n",
            "11-02    478\n",
            "12-02    498\n",
            "13-02    543\n",
            "14-02    466\n",
            "15-02    447\n",
            "16-02    493\n",
            "17-02    510\n",
            "18-02    508\n",
            "19-02    447\n",
            "20-02    500\n",
            "21-02    455\n",
            "22-02    507\n",
            "23-02    449\n",
            "24-02    531\n",
            "25-02    467\n",
            "26-02    485\n",
            "27-02    509\n",
            "28-02    450\n",
            "Name: Cantidad Pedida, dtype: int64\n",
            "dia_mes\n",
            "01-02    455\n",
            "01-03     18\n",
            "02-02    499\n",
            "03-02    447\n",
            "04-02    452\n",
            "05-02    432\n",
            "06-02    452\n",
            "07-02    474\n",
            "08-02    489\n",
            "09-02    494\n",
            "10-02    506\n",
            "11-02    478\n",
            "12-02    498\n",
            "13-02    543\n",
            "14-02    466\n",
            "15-02    447\n",
            "16-02    493\n",
            "17-02    510\n",
            "18-02    508\n",
            "19-02    447\n",
            "20-02    500\n",
            "21-02    455\n",
            "22-02    507\n",
            "23-02    449\n",
            "24-02    531\n",
            "25-02    467\n",
            "26-02    485\n",
            "27-02    509\n",
            "28-02    450\n",
            "Name: Cantidad Pedida, dtype: int64\n",
            "dia_mes\n",
            "01-02    455\n",
            "01-03     18\n",
            "02-02    499\n",
            "03-02    447\n",
            "04-02    452\n",
            "05-02    432\n",
            "06-02    452\n",
            "07-02    474\n",
            "08-02    489\n",
            "09-02    494\n",
            "10-02    506\n",
            "11-02    478\n",
            "12-02    498\n",
            "13-02    543\n",
            "14-02    466\n",
            "15-02    447\n",
            "16-02    493\n",
            "17-02    510\n",
            "18-02    508\n",
            "19-02    447\n",
            "20-02    500\n",
            "21-02    455\n",
            "22-02    507\n",
            "23-02    449\n",
            "24-02    531\n",
            "25-02    467\n",
            "26-02    485\n",
            "27-02    509\n",
            "28-02    450\n",
            "Name: Cantidad Pedida, dtype: int64\n",
            "dia_mes\n",
            "01-02    455\n",
            "01-03     18\n",
            "02-02    499\n",
            "03-02    447\n",
            "04-02    452\n",
            "05-02    432\n",
            "06-02    452\n",
            "07-02    474\n",
            "08-02    489\n",
            "09-02    494\n",
            "10-02    506\n",
            "11-02    478\n",
            "12-02    498\n",
            "13-02    543\n",
            "14-02    466\n",
            "15-02    447\n",
            "16-02    493\n",
            "17-02    510\n",
            "18-02    508\n",
            "19-02    447\n",
            "20-02    500\n",
            "21-02    455\n",
            "22-02    507\n",
            "23-02    449\n",
            "24-02    531\n",
            "25-02    467\n",
            "26-02    485\n",
            "27-02    509\n",
            "28-02    450\n",
            "Name: Cantidad Pedida, dtype: int64\n",
            "dia_mes\n",
            "01-03    500\n",
            "01-04     19\n",
            "02-03    575\n",
            "03-03    539\n",
            "04-03    522\n",
            "05-03    577\n",
            "06-03    532\n",
            "07-03    559\n",
            "08-03    544\n",
            "09-03    556\n",
            "10-03    553\n",
            "11-03    575\n",
            "12-03    559\n",
            "13-03    574\n",
            "14-03    528\n",
            "15-03    549\n",
            "16-03    549\n",
            "17-03    531\n",
            "18-03    524\n",
            "19-03    554\n",
            "20-03    541\n",
            "21-03    539\n",
            "22-03    567\n",
            "23-03    616\n",
            "24-03    526\n",
            "25-03    556\n",
            "26-03    514\n",
            "27-03    564\n",
            "28-03    548\n",
            "29-03    544\n",
            "30-03    550\n",
            "31-03    522\n",
            "Name: Cantidad Pedida, dtype: int64\n",
            "dia_mes\n",
            "01-03    500\n",
            "01-04     19\n",
            "02-03    575\n",
            "03-03    539\n",
            "04-03    522\n",
            "05-03    577\n",
            "06-03    532\n",
            "07-03    559\n",
            "08-03    544\n",
            "09-03    556\n",
            "10-03    553\n",
            "11-03    575\n",
            "12-03    559\n",
            "13-03    574\n",
            "14-03    528\n",
            "15-03    549\n",
            "16-03    549\n",
            "17-03    531\n",
            "18-03    524\n",
            "19-03    554\n",
            "20-03    541\n",
            "21-03    539\n",
            "22-03    567\n",
            "23-03    616\n",
            "24-03    526\n",
            "25-03    556\n",
            "26-03    514\n",
            "27-03    564\n",
            "28-03    548\n",
            "29-03    544\n",
            "30-03    550\n",
            "31-03    522\n",
            "Name: Cantidad Pedida, dtype: int64\n",
            "dia_mes\n",
            "01-03    500\n",
            "01-04     19\n",
            "02-03    575\n",
            "03-03    539\n",
            "04-03    522\n",
            "05-03    577\n",
            "06-03    532\n",
            "07-03    559\n",
            "08-03    544\n",
            "09-03    556\n",
            "10-03    553\n",
            "11-03    575\n",
            "12-03    559\n",
            "13-03    574\n",
            "14-03    528\n",
            "15-03    549\n",
            "16-03    549\n",
            "17-03    531\n",
            "18-03    524\n",
            "19-03    554\n",
            "20-03    541\n",
            "21-03    539\n",
            "22-03    567\n",
            "23-03    616\n",
            "24-03    526\n",
            "25-03    556\n",
            "26-03    514\n",
            "27-03    564\n",
            "28-03    548\n",
            "29-03    544\n",
            "30-03    550\n",
            "31-03    522\n",
            "Name: Cantidad Pedida, dtype: int64\n",
            "dia_mes\n",
            "01-03    500\n",
            "01-04     19\n",
            "02-03    575\n",
            "03-03    539\n",
            "04-03    522\n",
            "05-03    577\n",
            "06-03    532\n",
            "07-03    559\n",
            "08-03    544\n",
            "09-03    556\n",
            "10-03    553\n",
            "11-03    575\n",
            "12-03    559\n",
            "13-03    574\n",
            "14-03    528\n",
            "15-03    549\n",
            "16-03    549\n",
            "17-03    531\n",
            "18-03    524\n",
            "19-03    554\n",
            "20-03    541\n",
            "21-03    539\n",
            "22-03    567\n",
            "23-03    616\n",
            "24-03    526\n",
            "25-03    556\n",
            "26-03    514\n",
            "27-03    564\n",
            "28-03    548\n",
            "29-03    544\n",
            "30-03    550\n",
            "31-03    522\n",
            "Name: Cantidad Pedida, dtype: int64\n",
            "dia_mes\n",
            "01-03    500\n",
            "01-04     19\n",
            "02-03    575\n",
            "03-03    539\n",
            "04-03    522\n",
            "05-03    577\n",
            "06-03    532\n",
            "07-03    559\n",
            "08-03    544\n",
            "09-03    556\n",
            "10-03    553\n",
            "11-03    575\n",
            "12-03    559\n",
            "13-03    574\n",
            "14-03    528\n",
            "15-03    549\n",
            "16-03    549\n",
            "17-03    531\n",
            "18-03    524\n",
            "19-03    554\n",
            "20-03    541\n",
            "21-03    539\n",
            "22-03    567\n",
            "23-03    616\n",
            "24-03    526\n",
            "25-03    556\n",
            "26-03    514\n",
            "27-03    564\n",
            "28-03    548\n",
            "29-03    544\n",
            "30-03    550\n",
            "31-03    522\n",
            "Name: Cantidad Pedida, dtype: int64\n",
            "dia_mes\n",
            "01-03    500\n",
            "01-04     19\n",
            "02-03    575\n",
            "03-03    539\n",
            "04-03    522\n",
            "05-03    577\n",
            "06-03    532\n",
            "07-03    559\n",
            "08-03    544\n",
            "09-03    556\n",
            "10-03    553\n",
            "11-03    575\n",
            "12-03    559\n",
            "13-03    574\n",
            "14-03    528\n",
            "15-03    549\n",
            "16-03    549\n",
            "17-03    531\n",
            "18-03    524\n",
            "19-03    554\n",
            "20-03    541\n",
            "21-03    539\n",
            "22-03    567\n",
            "23-03    616\n",
            "24-03    526\n",
            "25-03    556\n",
            "26-03    514\n",
            "27-03    564\n",
            "28-03    548\n",
            "29-03    544\n",
            "30-03    550\n",
            "31-03    522\n",
            "Name: Cantidad Pedida, dtype: int64\n",
            "dia_mes\n",
            "01-04    673\n",
            "01-05     29\n",
            "02-04    663\n",
            "03-04    685\n",
            "04-04    710\n",
            "05-04    675\n",
            "06-04    695\n",
            "07-04    641\n",
            "08-04    674\n",
            "09-04    689\n",
            "10-04    699\n",
            "11-04    702\n",
            "12-04    696\n",
            "13-04    729\n",
            "14-04    702\n",
            "15-04    635\n",
            "16-04    681\n",
            "17-04    733\n",
            "18-04    737\n",
            "19-04    627\n",
            "20-04    663\n",
            "21-04    761\n",
            "22-04    641\n",
            "23-04    670\n",
            "24-04    702\n",
            "25-04    654\n",
            "26-04    659\n",
            "27-04    698\n",
            "28-04    673\n",
            "29-04    674\n",
            "30-04    698\n",
            "Name: Cantidad Pedida, dtype: int64\n",
            "dia_mes\n",
            "01-04    673\n",
            "01-05     29\n",
            "02-04    663\n",
            "03-04    685\n",
            "04-04    710\n",
            "05-04    675\n",
            "06-04    695\n",
            "07-04    641\n",
            "08-04    674\n",
            "09-04    689\n",
            "10-04    699\n",
            "11-04    702\n",
            "12-04    696\n",
            "13-04    729\n",
            "14-04    702\n",
            "15-04    635\n",
            "16-04    681\n",
            "17-04    733\n",
            "18-04    737\n",
            "19-04    627\n",
            "20-04    663\n",
            "21-04    761\n",
            "22-04    641\n",
            "23-04    670\n",
            "24-04    702\n",
            "25-04    654\n",
            "26-04    659\n",
            "27-04    698\n",
            "28-04    673\n",
            "29-04    674\n",
            "30-04    698\n",
            "Name: Cantidad Pedida, dtype: int64\n",
            "dia_mes\n",
            "01-04    673\n",
            "01-05     29\n",
            "02-04    663\n",
            "03-04    685\n",
            "04-04    710\n",
            "05-04    675\n",
            "06-04    695\n",
            "07-04    641\n",
            "08-04    674\n",
            "09-04    689\n",
            "10-04    699\n",
            "11-04    702\n",
            "12-04    696\n",
            "13-04    729\n",
            "14-04    702\n",
            "15-04    635\n",
            "16-04    681\n",
            "17-04    733\n",
            "18-04    737\n",
            "19-04    627\n",
            "20-04    663\n",
            "21-04    761\n",
            "22-04    641\n",
            "23-04    670\n",
            "24-04    702\n",
            "25-04    654\n",
            "26-04    659\n",
            "27-04    698\n",
            "28-04    673\n",
            "29-04    674\n",
            "30-04    698\n",
            "Name: Cantidad Pedida, dtype: int64\n",
            "dia_mes\n",
            "01-04    673\n",
            "01-05     29\n",
            "02-04    663\n",
            "03-04    685\n",
            "04-04    710\n",
            "05-04    675\n",
            "06-04    695\n",
            "07-04    641\n",
            "08-04    674\n",
            "09-04    689\n",
            "10-04    699\n",
            "11-04    702\n",
            "12-04    696\n",
            "13-04    729\n",
            "14-04    702\n",
            "15-04    635\n",
            "16-04    681\n",
            "17-04    733\n",
            "18-04    737\n",
            "19-04    627\n",
            "20-04    663\n",
            "21-04    761\n",
            "22-04    641\n",
            "23-04    670\n",
            "24-04    702\n",
            "25-04    654\n",
            "26-04    659\n",
            "27-04    698\n",
            "28-04    673\n",
            "29-04    674\n",
            "30-04    698\n",
            "Name: Cantidad Pedida, dtype: int64\n",
            "dia_mes\n",
            "01-04    673\n",
            "01-05     29\n",
            "02-04    663\n",
            "03-04    685\n",
            "04-04    710\n",
            "05-04    675\n",
            "06-04    695\n",
            "07-04    641\n",
            "08-04    674\n",
            "09-04    689\n",
            "10-04    699\n",
            "11-04    702\n",
            "12-04    696\n",
            "13-04    729\n",
            "14-04    702\n",
            "15-04    635\n",
            "16-04    681\n",
            "17-04    733\n",
            "18-04    737\n",
            "19-04    627\n",
            "20-04    663\n",
            "21-04    761\n",
            "22-04    641\n",
            "23-04    670\n",
            "24-04    702\n",
            "25-04    654\n",
            "26-04    659\n",
            "27-04    698\n",
            "28-04    673\n",
            "29-04    674\n",
            "30-04    698\n",
            "Name: Cantidad Pedida, dtype: int64\n",
            "dia_mes\n",
            "01-04    673\n",
            "01-05     29\n",
            "02-04    663\n",
            "03-04    685\n",
            "04-04    710\n",
            "05-04    675\n",
            "06-04    695\n",
            "07-04    641\n",
            "08-04    674\n",
            "09-04    689\n",
            "10-04    699\n",
            "11-04    702\n",
            "12-04    696\n",
            "13-04    729\n",
            "14-04    702\n",
            "15-04    635\n",
            "16-04    681\n",
            "17-04    733\n",
            "18-04    737\n",
            "19-04    627\n",
            "20-04    663\n",
            "21-04    761\n",
            "22-04    641\n",
            "23-04    670\n",
            "24-04    702\n",
            "25-04    654\n",
            "26-04    659\n",
            "27-04    698\n",
            "28-04    673\n",
            "29-04    674\n",
            "30-04    698\n",
            "Name: Cantidad Pedida, dtype: int64\n",
            "dia_mes\n",
            "01-05    541\n",
            "01-06     19\n",
            "02-05    578\n",
            "03-05    550\n",
            "04-05    595\n",
            "05-05    607\n",
            "06-05    567\n",
            "07-05    636\n",
            "08-05    606\n",
            "09-05    641\n",
            "10-05    603\n",
            "11-05    558\n",
            "12-05    634\n",
            "13-05    606\n",
            "14-05    675\n",
            "15-05    568\n",
            "16-05    615\n",
            "17-05    635\n",
            "18-05    542\n",
            "19-05    637\n",
            "20-05    644\n",
            "21-05    588\n",
            "22-05    652\n",
            "23-05    590\n",
            "24-05    586\n",
            "25-05    620\n",
            "26-05    585\n",
            "27-05    569\n",
            "28-05    632\n",
            "29-05    618\n",
            "30-05    625\n",
            "31-05    535\n",
            "Name: Cantidad Pedida, dtype: int64\n",
            "dia_mes\n",
            "01-05    541\n",
            "01-06     19\n",
            "02-05    578\n",
            "03-05    550\n",
            "04-05    595\n",
            "05-05    607\n",
            "06-05    567\n",
            "07-05    636\n",
            "08-05    606\n",
            "09-05    641\n",
            "10-05    603\n",
            "11-05    558\n",
            "12-05    634\n",
            "13-05    606\n",
            "14-05    675\n",
            "15-05    568\n",
            "16-05    615\n",
            "17-05    635\n",
            "18-05    542\n",
            "19-05    637\n",
            "20-05    644\n",
            "21-05    588\n",
            "22-05    652\n",
            "23-05    590\n",
            "24-05    586\n",
            "25-05    620\n",
            "26-05    585\n",
            "27-05    569\n",
            "28-05    632\n",
            "29-05    618\n",
            "30-05    625\n",
            "31-05    535\n",
            "Name: Cantidad Pedida, dtype: int64\n",
            "dia_mes\n",
            "01-05    541\n",
            "01-06     19\n",
            "02-05    578\n",
            "03-05    550\n",
            "04-05    595\n",
            "05-05    607\n",
            "06-05    567\n",
            "07-05    636\n",
            "08-05    606\n",
            "09-05    641\n",
            "10-05    603\n",
            "11-05    558\n",
            "12-05    634\n",
            "13-05    606\n",
            "14-05    675\n",
            "15-05    568\n",
            "16-05    615\n",
            "17-05    635\n",
            "18-05    542\n",
            "19-05    637\n",
            "20-05    644\n",
            "21-05    588\n",
            "22-05    652\n",
            "23-05    590\n",
            "24-05    586\n",
            "25-05    620\n",
            "26-05    585\n",
            "27-05    569\n",
            "28-05    632\n",
            "29-05    618\n",
            "30-05    625\n",
            "31-05    535\n",
            "Name: Cantidad Pedida, dtype: int64\n",
            "dia_mes\n",
            "01-05    541\n",
            "01-06     19\n",
            "02-05    578\n",
            "03-05    550\n",
            "04-05    595\n",
            "05-05    607\n",
            "06-05    567\n",
            "07-05    636\n",
            "08-05    606\n",
            "09-05    641\n",
            "10-05    603\n",
            "11-05    558\n",
            "12-05    634\n",
            "13-05    606\n",
            "14-05    675\n",
            "15-05    568\n",
            "16-05    615\n",
            "17-05    635\n",
            "18-05    542\n",
            "19-05    637\n",
            "20-05    644\n",
            "21-05    588\n",
            "22-05    652\n",
            "23-05    590\n",
            "24-05    586\n",
            "25-05    620\n",
            "26-05    585\n",
            "27-05    569\n",
            "28-05    632\n",
            "29-05    618\n",
            "30-05    625\n",
            "31-05    535\n",
            "Name: Cantidad Pedida, dtype: int64\n",
            "dia_mes\n",
            "01-05    541\n",
            "01-06     19\n",
            "02-05    578\n",
            "03-05    550\n",
            "04-05    595\n",
            "05-05    607\n",
            "06-05    567\n",
            "07-05    636\n",
            "08-05    606\n",
            "09-05    641\n",
            "10-05    603\n",
            "11-05    558\n",
            "12-05    634\n",
            "13-05    606\n",
            "14-05    675\n",
            "15-05    568\n",
            "16-05    615\n",
            "17-05    635\n",
            "18-05    542\n",
            "19-05    637\n",
            "20-05    644\n",
            "21-05    588\n",
            "22-05    652\n",
            "23-05    590\n",
            "24-05    586\n",
            "25-05    620\n",
            "26-05    585\n",
            "27-05    569\n",
            "28-05    632\n",
            "29-05    618\n",
            "30-05    625\n",
            "31-05    535\n",
            "Name: Cantidad Pedida, dtype: int64\n",
            "dia_mes\n",
            "01-05    541\n",
            "01-06     19\n",
            "02-05    578\n",
            "03-05    550\n",
            "04-05    595\n",
            "05-05    607\n",
            "06-05    567\n",
            "07-05    636\n",
            "08-05    606\n",
            "09-05    641\n",
            "10-05    603\n",
            "11-05    558\n",
            "12-05    634\n",
            "13-05    606\n",
            "14-05    675\n",
            "15-05    568\n",
            "16-05    615\n",
            "17-05    635\n",
            "18-05    542\n",
            "19-05    637\n",
            "20-05    644\n",
            "21-05    588\n",
            "22-05    652\n",
            "23-05    590\n",
            "24-05    586\n",
            "25-05    620\n",
            "26-05    585\n",
            "27-05    569\n",
            "28-05    632\n",
            "29-05    618\n",
            "30-05    625\n",
            "31-05    535\n",
            "Name: Cantidad Pedida, dtype: int64\n",
            "dia_mes\n",
            "01-06    500\n",
            "01-07     21\n",
            "02-06    519\n",
            "03-06    485\n",
            "04-06    523\n",
            "05-06    530\n",
            "06-06    542\n",
            "07-06    467\n",
            "08-06    501\n",
            "09-06    489\n",
            "10-06    507\n",
            "11-06    510\n",
            "12-06    528\n",
            "13-06    511\n",
            "14-06    536\n",
            "15-06    537\n",
            "16-06    529\n",
            "17-06    501\n",
            "18-06    497\n",
            "19-06    538\n",
            "20-06    528\n",
            "21-06    529\n",
            "22-06    446\n",
            "23-06    455\n",
            "24-06    489\n",
            "25-06    500\n",
            "26-06    531\n",
            "27-06    449\n",
            "28-06    510\n",
            "29-06    548\n",
            "30-06    499\n",
            "Name: Cantidad Pedida, dtype: int64\n",
            "dia_mes\n",
            "01-06    500\n",
            "01-07     21\n",
            "02-06    519\n",
            "03-06    485\n",
            "04-06    523\n",
            "05-06    530\n",
            "06-06    542\n",
            "07-06    467\n",
            "08-06    501\n",
            "09-06    489\n",
            "10-06    507\n",
            "11-06    510\n",
            "12-06    528\n",
            "13-06    511\n",
            "14-06    536\n",
            "15-06    537\n",
            "16-06    529\n",
            "17-06    501\n",
            "18-06    497\n",
            "19-06    538\n",
            "20-06    528\n",
            "21-06    529\n",
            "22-06    446\n",
            "23-06    455\n",
            "24-06    489\n",
            "25-06    500\n",
            "26-06    531\n",
            "27-06    449\n",
            "28-06    510\n",
            "29-06    548\n",
            "30-06    499\n",
            "Name: Cantidad Pedida, dtype: int64\n",
            "dia_mes\n",
            "01-06    500\n",
            "01-07     21\n",
            "02-06    519\n",
            "03-06    485\n",
            "04-06    523\n",
            "05-06    530\n",
            "06-06    542\n",
            "07-06    467\n",
            "08-06    501\n",
            "09-06    489\n",
            "10-06    507\n",
            "11-06    510\n",
            "12-06    528\n",
            "13-06    511\n",
            "14-06    536\n",
            "15-06    537\n",
            "16-06    529\n",
            "17-06    501\n",
            "18-06    497\n",
            "19-06    538\n",
            "20-06    528\n",
            "21-06    529\n",
            "22-06    446\n",
            "23-06    455\n",
            "24-06    489\n",
            "25-06    500\n",
            "26-06    531\n",
            "27-06    449\n",
            "28-06    510\n",
            "29-06    548\n",
            "30-06    499\n",
            "Name: Cantidad Pedida, dtype: int64\n",
            "dia_mes\n",
            "01-06    500\n",
            "01-07     21\n",
            "02-06    519\n",
            "03-06    485\n",
            "04-06    523\n",
            "05-06    530\n",
            "06-06    542\n",
            "07-06    467\n",
            "08-06    501\n",
            "09-06    489\n",
            "10-06    507\n",
            "11-06    510\n",
            "12-06    528\n",
            "13-06    511\n",
            "14-06    536\n",
            "15-06    537\n",
            "16-06    529\n",
            "17-06    501\n",
            "18-06    497\n",
            "19-06    538\n",
            "20-06    528\n",
            "21-06    529\n",
            "22-06    446\n",
            "23-06    455\n",
            "24-06    489\n",
            "25-06    500\n",
            "26-06    531\n",
            "27-06    449\n",
            "28-06    510\n",
            "29-06    548\n",
            "30-06    499\n",
            "Name: Cantidad Pedida, dtype: int64\n",
            "dia_mes\n",
            "01-06    500\n",
            "01-07     21\n",
            "02-06    519\n",
            "03-06    485\n",
            "04-06    523\n",
            "05-06    530\n",
            "06-06    542\n",
            "07-06    467\n",
            "08-06    501\n",
            "09-06    489\n",
            "10-06    507\n",
            "11-06    510\n",
            "12-06    528\n",
            "13-06    511\n",
            "14-06    536\n",
            "15-06    537\n",
            "16-06    529\n",
            "17-06    501\n",
            "18-06    497\n",
            "19-06    538\n",
            "20-06    528\n",
            "21-06    529\n",
            "22-06    446\n",
            "23-06    455\n",
            "24-06    489\n",
            "25-06    500\n",
            "26-06    531\n",
            "27-06    449\n",
            "28-06    510\n",
            "29-06    548\n",
            "30-06    499\n",
            "Name: Cantidad Pedida, dtype: int64\n",
            "dia_mes\n",
            "01-06    500\n",
            "01-07     21\n",
            "02-06    519\n",
            "03-06    485\n",
            "04-06    523\n",
            "05-06    530\n",
            "06-06    542\n",
            "07-06    467\n",
            "08-06    501\n",
            "09-06    489\n",
            "10-06    507\n",
            "11-06    510\n",
            "12-06    528\n",
            "13-06    511\n",
            "14-06    536\n",
            "15-06    537\n",
            "16-06    529\n",
            "17-06    501\n",
            "18-06    497\n",
            "19-06    538\n",
            "20-06    528\n",
            "21-06    529\n",
            "22-06    446\n",
            "23-06    455\n",
            "24-06    489\n",
            "25-06    500\n",
            "26-06    531\n",
            "27-06    449\n",
            "28-06    510\n",
            "29-06    548\n",
            "30-06    499\n",
            "Name: Cantidad Pedida, dtype: int64\n",
            "dia_mes\n",
            "01-07    521\n",
            "01-08     18\n",
            "02-07    519\n",
            "03-07    519\n",
            "04-07    506\n",
            "05-07    516\n",
            "06-07    519\n",
            "07-07    511\n",
            "08-07    538\n",
            "09-07    541\n",
            "10-07    530\n",
            "11-07    486\n",
            "12-07    511\n",
            "13-07    523\n",
            "14-07    495\n",
            "15-07    573\n",
            "16-07    531\n",
            "17-07    448\n",
            "18-07    554\n",
            "19-07    501\n",
            "20-07    536\n",
            "21-07    507\n",
            "22-07    546\n",
            "23-07    478\n",
            "24-07    483\n",
            "25-07    536\n",
            "26-07    557\n",
            "27-07    497\n",
            "28-07    532\n",
            "29-07    489\n",
            "30-07    508\n",
            "31-07    540\n",
            "Name: Cantidad Pedida, dtype: int64\n",
            "dia_mes\n",
            "01-07    521\n",
            "01-08     18\n",
            "02-07    519\n",
            "03-07    519\n",
            "04-07    506\n",
            "05-07    516\n",
            "06-07    519\n",
            "07-07    511\n",
            "08-07    538\n",
            "09-07    541\n",
            "10-07    530\n",
            "11-07    486\n",
            "12-07    511\n",
            "13-07    523\n",
            "14-07    495\n",
            "15-07    573\n",
            "16-07    531\n",
            "17-07    448\n",
            "18-07    554\n",
            "19-07    501\n",
            "20-07    536\n",
            "21-07    507\n",
            "22-07    546\n",
            "23-07    478\n",
            "24-07    483\n",
            "25-07    536\n",
            "26-07    557\n",
            "27-07    497\n",
            "28-07    532\n",
            "29-07    489\n",
            "30-07    508\n",
            "31-07    540\n",
            "Name: Cantidad Pedida, dtype: int64\n",
            "dia_mes\n",
            "01-07    521\n",
            "01-08     18\n",
            "02-07    519\n",
            "03-07    519\n",
            "04-07    506\n",
            "05-07    516\n",
            "06-07    519\n",
            "07-07    511\n",
            "08-07    538\n",
            "09-07    541\n",
            "10-07    530\n",
            "11-07    486\n",
            "12-07    511\n",
            "13-07    523\n",
            "14-07    495\n",
            "15-07    573\n",
            "16-07    531\n",
            "17-07    448\n",
            "18-07    554\n",
            "19-07    501\n",
            "20-07    536\n",
            "21-07    507\n",
            "22-07    546\n",
            "23-07    478\n",
            "24-07    483\n",
            "25-07    536\n",
            "26-07    557\n",
            "27-07    497\n",
            "28-07    532\n",
            "29-07    489\n",
            "30-07    508\n",
            "31-07    540\n",
            "Name: Cantidad Pedida, dtype: int64\n",
            "dia_mes\n",
            "01-07    521\n",
            "01-08     18\n",
            "02-07    519\n",
            "03-07    519\n",
            "04-07    506\n",
            "05-07    516\n",
            "06-07    519\n",
            "07-07    511\n",
            "08-07    538\n",
            "09-07    541\n",
            "10-07    530\n",
            "11-07    486\n",
            "12-07    511\n",
            "13-07    523\n",
            "14-07    495\n",
            "15-07    573\n",
            "16-07    531\n",
            "17-07    448\n",
            "18-07    554\n",
            "19-07    501\n",
            "20-07    536\n",
            "21-07    507\n",
            "22-07    546\n",
            "23-07    478\n",
            "24-07    483\n",
            "25-07    536\n",
            "26-07    557\n",
            "27-07    497\n",
            "28-07    532\n",
            "29-07    489\n",
            "30-07    508\n",
            "31-07    540\n",
            "Name: Cantidad Pedida, dtype: int64\n",
            "dia_mes\n",
            "01-07    521\n",
            "01-08     18\n",
            "02-07    519\n",
            "03-07    519\n",
            "04-07    506\n",
            "05-07    516\n",
            "06-07    519\n",
            "07-07    511\n",
            "08-07    538\n",
            "09-07    541\n",
            "10-07    530\n",
            "11-07    486\n",
            "12-07    511\n",
            "13-07    523\n",
            "14-07    495\n",
            "15-07    573\n",
            "16-07    531\n",
            "17-07    448\n",
            "18-07    554\n",
            "19-07    501\n",
            "20-07    536\n",
            "21-07    507\n",
            "22-07    546\n",
            "23-07    478\n",
            "24-07    483\n",
            "25-07    536\n",
            "26-07    557\n",
            "27-07    497\n",
            "28-07    532\n",
            "29-07    489\n",
            "30-07    508\n",
            "31-07    540\n",
            "Name: Cantidad Pedida, dtype: int64\n",
            "dia_mes\n",
            "01-07    521\n",
            "01-08     18\n",
            "02-07    519\n",
            "03-07    519\n",
            "04-07    506\n",
            "05-07    516\n",
            "06-07    519\n",
            "07-07    511\n",
            "08-07    538\n",
            "09-07    541\n",
            "10-07    530\n",
            "11-07    486\n",
            "12-07    511\n",
            "13-07    523\n",
            "14-07    495\n",
            "15-07    573\n",
            "16-07    531\n",
            "17-07    448\n",
            "18-07    554\n",
            "19-07    501\n",
            "20-07    536\n",
            "21-07    507\n",
            "22-07    546\n",
            "23-07    478\n",
            "24-07    483\n",
            "25-07    536\n",
            "26-07    557\n",
            "27-07    497\n",
            "28-07    532\n",
            "29-07    489\n",
            "30-07    508\n",
            "31-07    540\n",
            "Name: Cantidad Pedida, dtype: int64\n",
            "dia_mes\n",
            "01-08    406\n",
            "01-09     12\n",
            "02-08    437\n",
            "03-08    407\n",
            "04-08    430\n",
            "05-08    404\n",
            "06-08    449\n",
            "07-08    440\n",
            "08-08    428\n",
            "09-08    424\n",
            "10-08    467\n",
            "11-08    434\n",
            "12-08    427\n",
            "13-08    461\n",
            "14-08    468\n",
            "15-08    429\n",
            "16-08    446\n",
            "17-08    390\n",
            "18-08    408\n",
            "19-08    473\n",
            "20-08    414\n",
            "21-08    399\n",
            "22-08    452\n",
            "23-08    422\n",
            "24-08    430\n",
            "25-08    436\n",
            "26-08    438\n",
            "27-08    435\n",
            "28-08    463\n",
            "29-08    451\n",
            "30-08    395\n",
            "31-08    467\n",
            "Name: Cantidad Pedida, dtype: int64\n",
            "dia_mes\n",
            "01-08    406\n",
            "01-09     12\n",
            "02-08    437\n",
            "03-08    407\n",
            "04-08    430\n",
            "05-08    404\n",
            "06-08    449\n",
            "07-08    440\n",
            "08-08    428\n",
            "09-08    424\n",
            "10-08    467\n",
            "11-08    434\n",
            "12-08    427\n",
            "13-08    461\n",
            "14-08    468\n",
            "15-08    429\n",
            "16-08    446\n",
            "17-08    390\n",
            "18-08    408\n",
            "19-08    473\n",
            "20-08    414\n",
            "21-08    399\n",
            "22-08    452\n",
            "23-08    422\n",
            "24-08    430\n",
            "25-08    436\n",
            "26-08    438\n",
            "27-08    435\n",
            "28-08    463\n",
            "29-08    451\n",
            "30-08    395\n",
            "31-08    467\n",
            "Name: Cantidad Pedida, dtype: int64\n",
            "dia_mes\n",
            "01-08    406\n",
            "01-09     12\n",
            "02-08    437\n",
            "03-08    407\n",
            "04-08    430\n",
            "05-08    404\n",
            "06-08    449\n",
            "07-08    440\n",
            "08-08    428\n",
            "09-08    424\n",
            "10-08    467\n",
            "11-08    434\n",
            "12-08    427\n",
            "13-08    461\n",
            "14-08    468\n",
            "15-08    429\n",
            "16-08    446\n",
            "17-08    390\n",
            "18-08    408\n",
            "19-08    473\n",
            "20-08    414\n",
            "21-08    399\n",
            "22-08    452\n",
            "23-08    422\n",
            "24-08    430\n",
            "25-08    436\n",
            "26-08    438\n",
            "27-08    435\n",
            "28-08    463\n",
            "29-08    451\n",
            "30-08    395\n",
            "31-08    467\n",
            "Name: Cantidad Pedida, dtype: int64\n",
            "dia_mes\n",
            "01-08    406\n",
            "01-09     12\n",
            "02-08    437\n",
            "03-08    407\n",
            "04-08    430\n",
            "05-08    404\n",
            "06-08    449\n",
            "07-08    440\n",
            "08-08    428\n",
            "09-08    424\n",
            "10-08    467\n",
            "11-08    434\n",
            "12-08    427\n",
            "13-08    461\n",
            "14-08    468\n",
            "15-08    429\n",
            "16-08    446\n",
            "17-08    390\n",
            "18-08    408\n",
            "19-08    473\n",
            "20-08    414\n",
            "21-08    399\n",
            "22-08    452\n",
            "23-08    422\n",
            "24-08    430\n",
            "25-08    436\n",
            "26-08    438\n",
            "27-08    435\n",
            "28-08    463\n",
            "29-08    451\n",
            "30-08    395\n",
            "31-08    467\n",
            "Name: Cantidad Pedida, dtype: int64\n",
            "dia_mes\n",
            "01-08    406\n",
            "01-09     12\n",
            "02-08    437\n",
            "03-08    407\n",
            "04-08    430\n",
            "05-08    404\n",
            "06-08    449\n",
            "07-08    440\n",
            "08-08    428\n",
            "09-08    424\n",
            "10-08    467\n",
            "11-08    434\n",
            "12-08    427\n",
            "13-08    461\n",
            "14-08    468\n",
            "15-08    429\n",
            "16-08    446\n",
            "17-08    390\n",
            "18-08    408\n",
            "19-08    473\n",
            "20-08    414\n",
            "21-08    399\n",
            "22-08    452\n",
            "23-08    422\n",
            "24-08    430\n",
            "25-08    436\n",
            "26-08    438\n",
            "27-08    435\n",
            "28-08    463\n",
            "29-08    451\n",
            "30-08    395\n",
            "31-08    467\n",
            "Name: Cantidad Pedida, dtype: int64\n",
            "dia_mes\n",
            "01-08    406\n",
            "01-09     12\n",
            "02-08    437\n",
            "03-08    407\n",
            "04-08    430\n",
            "05-08    404\n",
            "06-08    449\n",
            "07-08    440\n",
            "08-08    428\n",
            "09-08    424\n",
            "10-08    467\n",
            "11-08    434\n",
            "12-08    427\n",
            "13-08    461\n",
            "14-08    468\n",
            "15-08    429\n",
            "16-08    446\n",
            "17-08    390\n",
            "18-08    408\n",
            "19-08    473\n",
            "20-08    414\n",
            "21-08    399\n",
            "22-08    452\n",
            "23-08    422\n",
            "24-08    430\n",
            "25-08    436\n",
            "26-08    438\n",
            "27-08    435\n",
            "28-08    463\n",
            "29-08    451\n",
            "30-08    395\n",
            "31-08    467\n",
            "Name: Cantidad Pedida, dtype: int64\n",
            "dia_mes\n",
            "01-09    425\n",
            "01-10     22\n",
            "02-09    452\n",
            "03-09    433\n",
            "04-09    444\n",
            "05-09    406\n",
            "06-09    433\n",
            "07-09    415\n",
            "08-09    425\n",
            "09-09    442\n",
            "10-09    443\n",
            "11-09    456\n",
            "12-09    450\n",
            "13-09    427\n",
            "14-09    452\n",
            "15-09    462\n",
            "16-09    419\n",
            "17-09    454\n",
            "18-09    440\n",
            "19-09    468\n",
            "20-09    434\n",
            "21-09    437\n",
            "22-09    411\n",
            "23-09    440\n",
            "24-09    433\n",
            "25-09    403\n",
            "26-09    422\n",
            "27-09    472\n",
            "28-09    419\n",
            "29-09    457\n",
            "30-09    423\n",
            "Name: Cantidad Pedida, dtype: int64\n",
            "dia_mes\n",
            "01-09    425\n",
            "01-10     22\n",
            "02-09    452\n",
            "03-09    433\n",
            "04-09    444\n",
            "05-09    406\n",
            "06-09    433\n",
            "07-09    415\n",
            "08-09    425\n",
            "09-09    442\n",
            "10-09    443\n",
            "11-09    456\n",
            "12-09    450\n",
            "13-09    427\n",
            "14-09    452\n",
            "15-09    462\n",
            "16-09    419\n",
            "17-09    454\n",
            "18-09    440\n",
            "19-09    468\n",
            "20-09    434\n",
            "21-09    437\n",
            "22-09    411\n",
            "23-09    440\n",
            "24-09    433\n",
            "25-09    403\n",
            "26-09    422\n",
            "27-09    472\n",
            "28-09    419\n",
            "29-09    457\n",
            "30-09    423\n",
            "Name: Cantidad Pedida, dtype: int64\n",
            "dia_mes\n",
            "01-09    425\n",
            "01-10     22\n",
            "02-09    452\n",
            "03-09    433\n",
            "04-09    444\n",
            "05-09    406\n",
            "06-09    433\n",
            "07-09    415\n",
            "08-09    425\n",
            "09-09    442\n",
            "10-09    443\n",
            "11-09    456\n",
            "12-09    450\n",
            "13-09    427\n",
            "14-09    452\n",
            "15-09    462\n",
            "16-09    419\n",
            "17-09    454\n",
            "18-09    440\n",
            "19-09    468\n",
            "20-09    434\n",
            "21-09    437\n",
            "22-09    411\n",
            "23-09    440\n",
            "24-09    433\n",
            "25-09    403\n",
            "26-09    422\n",
            "27-09    472\n",
            "28-09    419\n",
            "29-09    457\n",
            "30-09    423\n",
            "Name: Cantidad Pedida, dtype: int64\n",
            "dia_mes\n",
            "01-09    425\n",
            "01-10     22\n",
            "02-09    452\n",
            "03-09    433\n",
            "04-09    444\n",
            "05-09    406\n",
            "06-09    433\n",
            "07-09    415\n",
            "08-09    425\n",
            "09-09    442\n",
            "10-09    443\n",
            "11-09    456\n",
            "12-09    450\n",
            "13-09    427\n",
            "14-09    452\n",
            "15-09    462\n",
            "16-09    419\n",
            "17-09    454\n",
            "18-09    440\n",
            "19-09    468\n",
            "20-09    434\n",
            "21-09    437\n",
            "22-09    411\n",
            "23-09    440\n",
            "24-09    433\n",
            "25-09    403\n",
            "26-09    422\n",
            "27-09    472\n",
            "28-09    419\n",
            "29-09    457\n",
            "30-09    423\n",
            "Name: Cantidad Pedida, dtype: int64\n",
            "dia_mes\n",
            "01-09    425\n",
            "01-10     22\n",
            "02-09    452\n",
            "03-09    433\n",
            "04-09    444\n",
            "05-09    406\n",
            "06-09    433\n",
            "07-09    415\n",
            "08-09    425\n",
            "09-09    442\n",
            "10-09    443\n",
            "11-09    456\n",
            "12-09    450\n",
            "13-09    427\n",
            "14-09    452\n",
            "15-09    462\n",
            "16-09    419\n",
            "17-09    454\n",
            "18-09    440\n",
            "19-09    468\n",
            "20-09    434\n",
            "21-09    437\n",
            "22-09    411\n",
            "23-09    440\n",
            "24-09    433\n",
            "25-09    403\n",
            "26-09    422\n",
            "27-09    472\n",
            "28-09    419\n",
            "29-09    457\n",
            "30-09    423\n",
            "Name: Cantidad Pedida, dtype: int64\n",
            "dia_mes\n",
            "01-09    425\n",
            "01-10     22\n",
            "02-09    452\n",
            "03-09    433\n",
            "04-09    444\n",
            "05-09    406\n",
            "06-09    433\n",
            "07-09    415\n",
            "08-09    425\n",
            "09-09    442\n",
            "10-09    443\n",
            "11-09    456\n",
            "12-09    450\n",
            "13-09    427\n",
            "14-09    452\n",
            "15-09    462\n",
            "16-09    419\n",
            "17-09    454\n",
            "18-09    440\n",
            "19-09    468\n",
            "20-09    434\n",
            "21-09    437\n",
            "22-09    411\n",
            "23-09    440\n",
            "24-09    433\n",
            "25-09    403\n",
            "26-09    422\n",
            "27-09    472\n",
            "28-09    419\n",
            "29-09    457\n",
            "30-09    423\n",
            "Name: Cantidad Pedida, dtype: int64\n",
            "dia_mes\n",
            "01-10    717\n",
            "01-11     24\n",
            "02-10    767\n",
            "03-10    703\n",
            "04-10    722\n",
            "05-10    766\n",
            "06-10    716\n",
            "07-10    751\n",
            "08-10    721\n",
            "09-10    680\n",
            "10-10    756\n",
            "11-10    682\n",
            "12-10    709\n",
            "13-10    729\n",
            "14-10    695\n",
            "15-10    725\n",
            "16-10    724\n",
            "17-10    728\n",
            "18-10    738\n",
            "19-10    770\n",
            "20-10    738\n",
            "21-10    710\n",
            "22-10    770\n",
            "23-10    759\n",
            "24-10    734\n",
            "25-10    742\n",
            "26-10    808\n",
            "27-10    738\n",
            "28-10    745\n",
            "29-10    685\n",
            "30-10    693\n",
            "31-10    760\n",
            "Name: Cantidad Pedida, dtype: int64\n",
            "dia_mes\n",
            "01-10    717\n",
            "01-11     24\n",
            "02-10    767\n",
            "03-10    703\n",
            "04-10    722\n",
            "05-10    766\n",
            "06-10    716\n",
            "07-10    751\n",
            "08-10    721\n",
            "09-10    680\n",
            "10-10    756\n",
            "11-10    682\n",
            "12-10    709\n",
            "13-10    729\n",
            "14-10    695\n",
            "15-10    725\n",
            "16-10    724\n",
            "17-10    728\n",
            "18-10    738\n",
            "19-10    770\n",
            "20-10    738\n",
            "21-10    710\n",
            "22-10    770\n",
            "23-10    759\n",
            "24-10    734\n",
            "25-10    742\n",
            "26-10    808\n",
            "27-10    738\n",
            "28-10    745\n",
            "29-10    685\n",
            "30-10    693\n",
            "31-10    760\n",
            "Name: Cantidad Pedida, dtype: int64\n",
            "dia_mes\n",
            "01-10    717\n",
            "01-11     24\n",
            "02-10    767\n",
            "03-10    703\n",
            "04-10    722\n",
            "05-10    766\n",
            "06-10    716\n",
            "07-10    751\n",
            "08-10    721\n",
            "09-10    680\n",
            "10-10    756\n",
            "11-10    682\n",
            "12-10    709\n",
            "13-10    729\n",
            "14-10    695\n",
            "15-10    725\n",
            "16-10    724\n",
            "17-10    728\n",
            "18-10    738\n",
            "19-10    770\n",
            "20-10    738\n",
            "21-10    710\n",
            "22-10    770\n",
            "23-10    759\n",
            "24-10    734\n",
            "25-10    742\n",
            "26-10    808\n",
            "27-10    738\n",
            "28-10    745\n",
            "29-10    685\n",
            "30-10    693\n",
            "31-10    760\n",
            "Name: Cantidad Pedida, dtype: int64\n",
            "dia_mes\n",
            "01-10    717\n",
            "01-11     24\n",
            "02-10    767\n",
            "03-10    703\n",
            "04-10    722\n",
            "05-10    766\n",
            "06-10    716\n",
            "07-10    751\n",
            "08-10    721\n",
            "09-10    680\n",
            "10-10    756\n",
            "11-10    682\n",
            "12-10    709\n",
            "13-10    729\n",
            "14-10    695\n",
            "15-10    725\n",
            "16-10    724\n",
            "17-10    728\n",
            "18-10    738\n",
            "19-10    770\n",
            "20-10    738\n",
            "21-10    710\n",
            "22-10    770\n",
            "23-10    759\n",
            "24-10    734\n",
            "25-10    742\n",
            "26-10    808\n",
            "27-10    738\n",
            "28-10    745\n",
            "29-10    685\n",
            "30-10    693\n",
            "31-10    760\n",
            "Name: Cantidad Pedida, dtype: int64\n",
            "dia_mes\n",
            "01-10    717\n",
            "01-11     24\n",
            "02-10    767\n",
            "03-10    703\n",
            "04-10    722\n",
            "05-10    766\n",
            "06-10    716\n",
            "07-10    751\n",
            "08-10    721\n",
            "09-10    680\n",
            "10-10    756\n",
            "11-10    682\n",
            "12-10    709\n",
            "13-10    729\n",
            "14-10    695\n",
            "15-10    725\n",
            "16-10    724\n",
            "17-10    728\n",
            "18-10    738\n",
            "19-10    770\n",
            "20-10    738\n",
            "21-10    710\n",
            "22-10    770\n",
            "23-10    759\n",
            "24-10    734\n",
            "25-10    742\n",
            "26-10    808\n",
            "27-10    738\n",
            "28-10    745\n",
            "29-10    685\n",
            "30-10    693\n",
            "31-10    760\n",
            "Name: Cantidad Pedida, dtype: int64\n",
            "dia_mes\n",
            "01-10    717\n",
            "01-11     24\n",
            "02-10    767\n",
            "03-10    703\n",
            "04-10    722\n",
            "05-10    766\n",
            "06-10    716\n",
            "07-10    751\n",
            "08-10    721\n",
            "09-10    680\n",
            "10-10    756\n",
            "11-10    682\n",
            "12-10    709\n",
            "13-10    729\n",
            "14-10    695\n",
            "15-10    725\n",
            "16-10    724\n",
            "17-10    728\n",
            "18-10    738\n",
            "19-10    770\n",
            "20-10    738\n",
            "21-10    710\n",
            "22-10    770\n",
            "23-10    759\n",
            "24-10    734\n",
            "25-10    742\n",
            "26-10    808\n",
            "27-10    738\n",
            "28-10    745\n",
            "29-10    685\n",
            "30-10    693\n",
            "31-10    760\n",
            "Name: Cantidad Pedida, dtype: int64\n",
            "dia_mes\n",
            "01-11    680\n",
            "01-12     34\n",
            "02-11    671\n",
            "03-11    604\n",
            "04-11    700\n",
            "05-11    643\n",
            "06-11    644\n",
            "07-11    699\n",
            "08-11    710\n",
            "09-11    667\n",
            "10-11    636\n",
            "11-11    622\n",
            "12-11    652\n",
            "13-11    684\n",
            "14-11    642\n",
            "15-11    600\n",
            "16-11    647\n",
            "17-11    671\n",
            "18-11    673\n",
            "19-11    688\n",
            "20-11    628\n",
            "21-11    718\n",
            "22-11    662\n",
            "23-11    623\n",
            "24-11    700\n",
            "25-11    650\n",
            "26-11    671\n",
            "27-11    688\n",
            "28-11    594\n",
            "29-11    645\n",
            "30-11    662\n",
            "Name: Cantidad Pedida, dtype: int64\n",
            "dia_mes\n",
            "01-11    680\n",
            "01-12     34\n",
            "02-11    671\n",
            "03-11    604\n",
            "04-11    700\n",
            "05-11    643\n",
            "06-11    644\n",
            "07-11    699\n",
            "08-11    710\n",
            "09-11    667\n",
            "10-11    636\n",
            "11-11    622\n",
            "12-11    652\n",
            "13-11    684\n",
            "14-11    642\n",
            "15-11    600\n",
            "16-11    647\n",
            "17-11    671\n",
            "18-11    673\n",
            "19-11    688\n",
            "20-11    628\n",
            "21-11    718\n",
            "22-11    662\n",
            "23-11    623\n",
            "24-11    700\n",
            "25-11    650\n",
            "26-11    671\n",
            "27-11    688\n",
            "28-11    594\n",
            "29-11    645\n",
            "30-11    662\n",
            "Name: Cantidad Pedida, dtype: int64\n",
            "dia_mes\n",
            "01-11    680\n",
            "01-12     34\n",
            "02-11    671\n",
            "03-11    604\n",
            "04-11    700\n",
            "05-11    643\n",
            "06-11    644\n",
            "07-11    699\n",
            "08-11    710\n",
            "09-11    667\n",
            "10-11    636\n",
            "11-11    622\n",
            "12-11    652\n",
            "13-11    684\n",
            "14-11    642\n",
            "15-11    600\n",
            "16-11    647\n",
            "17-11    671\n",
            "18-11    673\n",
            "19-11    688\n",
            "20-11    628\n",
            "21-11    718\n",
            "22-11    662\n",
            "23-11    623\n",
            "24-11    700\n",
            "25-11    650\n",
            "26-11    671\n",
            "27-11    688\n",
            "28-11    594\n",
            "29-11    645\n",
            "30-11    662\n",
            "Name: Cantidad Pedida, dtype: int64\n",
            "dia_mes\n",
            "01-11    680\n",
            "01-12     34\n",
            "02-11    671\n",
            "03-11    604\n",
            "04-11    700\n",
            "05-11    643\n",
            "06-11    644\n",
            "07-11    699\n",
            "08-11    710\n",
            "09-11    667\n",
            "10-11    636\n",
            "11-11    622\n",
            "12-11    652\n",
            "13-11    684\n",
            "14-11    642\n",
            "15-11    600\n",
            "16-11    647\n",
            "17-11    671\n",
            "18-11    673\n",
            "19-11    688\n",
            "20-11    628\n",
            "21-11    718\n",
            "22-11    662\n",
            "23-11    623\n",
            "24-11    700\n",
            "25-11    650\n",
            "26-11    671\n",
            "27-11    688\n",
            "28-11    594\n",
            "29-11    645\n",
            "30-11    662\n",
            "Name: Cantidad Pedida, dtype: int64\n",
            "dia_mes\n",
            "01-11    680\n",
            "01-12     34\n",
            "02-11    671\n",
            "03-11    604\n",
            "04-11    700\n",
            "05-11    643\n",
            "06-11    644\n",
            "07-11    699\n",
            "08-11    710\n",
            "09-11    667\n",
            "10-11    636\n",
            "11-11    622\n",
            "12-11    652\n",
            "13-11    684\n",
            "14-11    642\n",
            "15-11    600\n",
            "16-11    647\n",
            "17-11    671\n",
            "18-11    673\n",
            "19-11    688\n",
            "20-11    628\n",
            "21-11    718\n",
            "22-11    662\n",
            "23-11    623\n",
            "24-11    700\n",
            "25-11    650\n",
            "26-11    671\n",
            "27-11    688\n",
            "28-11    594\n",
            "29-11    645\n",
            "30-11    662\n",
            "Name: Cantidad Pedida, dtype: int64\n",
            "dia_mes\n",
            "01-11    680\n",
            "01-12     34\n",
            "02-11    671\n",
            "03-11    604\n",
            "04-11    700\n",
            "05-11    643\n",
            "06-11    644\n",
            "07-11    699\n",
            "08-11    710\n",
            "09-11    667\n",
            "10-11    636\n",
            "11-11    622\n",
            "12-11    652\n",
            "13-11    684\n",
            "14-11    642\n",
            "15-11    600\n",
            "16-11    647\n",
            "17-11    671\n",
            "18-11    673\n",
            "19-11    688\n",
            "20-11    628\n",
            "21-11    718\n",
            "22-11    662\n",
            "23-11    623\n",
            "24-11    700\n",
            "25-11    650\n",
            "26-11    671\n",
            "27-11    688\n",
            "28-11    594\n",
            "29-11    645\n",
            "30-11    662\n",
            "Name: Cantidad Pedida, dtype: int64\n",
            "dia_mes\n",
            "01-01      41\n",
            "01-12     843\n",
            "02-12     914\n",
            "03-12     832\n",
            "04-12     879\n",
            "05-12     905\n",
            "06-12     910\n",
            "07-12     843\n",
            "08-12     870\n",
            "09-12     856\n",
            "10-12     897\n",
            "11-12     894\n",
            "12-12     919\n",
            "13-12     957\n",
            "14-12     924\n",
            "15-12     915\n",
            "16-12     914\n",
            "17-12    1044\n",
            "18-12     870\n",
            "19-12     942\n",
            "20-12     912\n",
            "21-12     875\n",
            "22-12     874\n",
            "23-12     988\n",
            "24-12     908\n",
            "25-12     902\n",
            "26-12     925\n",
            "27-12     869\n",
            "28-12     931\n",
            "29-12     954\n",
            "30-12     928\n",
            "31-12     886\n",
            "Name: Cantidad Pedida, dtype: int64\n",
            "dia_mes\n",
            "01-01      41\n",
            "01-12     843\n",
            "02-12     914\n",
            "03-12     832\n",
            "04-12     879\n",
            "05-12     905\n",
            "06-12     910\n",
            "07-12     843\n",
            "08-12     870\n",
            "09-12     856\n",
            "10-12     897\n",
            "11-12     894\n",
            "12-12     919\n",
            "13-12     957\n",
            "14-12     924\n",
            "15-12     915\n",
            "16-12     914\n",
            "17-12    1044\n",
            "18-12     870\n",
            "19-12     942\n",
            "20-12     912\n",
            "21-12     875\n",
            "22-12     874\n",
            "23-12     988\n",
            "24-12     908\n",
            "25-12     902\n",
            "26-12     925\n",
            "27-12     869\n",
            "28-12     931\n",
            "29-12     954\n",
            "30-12     928\n",
            "31-12     886\n",
            "Name: Cantidad Pedida, dtype: int64\n",
            "dia_mes\n",
            "01-01      41\n",
            "01-12     843\n",
            "02-12     914\n",
            "03-12     832\n",
            "04-12     879\n",
            "05-12     905\n",
            "06-12     910\n",
            "07-12     843\n",
            "08-12     870\n",
            "09-12     856\n",
            "10-12     897\n",
            "11-12     894\n",
            "12-12     919\n",
            "13-12     957\n",
            "14-12     924\n",
            "15-12     915\n",
            "16-12     914\n",
            "17-12    1044\n",
            "18-12     870\n",
            "19-12     942\n",
            "20-12     912\n",
            "21-12     875\n",
            "22-12     874\n",
            "23-12     988\n",
            "24-12     908\n",
            "25-12     902\n",
            "26-12     925\n",
            "27-12     869\n",
            "28-12     931\n",
            "29-12     954\n",
            "30-12     928\n",
            "31-12     886\n",
            "Name: Cantidad Pedida, dtype: int64\n",
            "dia_mes\n",
            "01-01      41\n",
            "01-12     843\n",
            "02-12     914\n",
            "03-12     832\n",
            "04-12     879\n",
            "05-12     905\n",
            "06-12     910\n",
            "07-12     843\n",
            "08-12     870\n",
            "09-12     856\n",
            "10-12     897\n",
            "11-12     894\n",
            "12-12     919\n",
            "13-12     957\n",
            "14-12     924\n",
            "15-12     915\n",
            "16-12     914\n",
            "17-12    1044\n",
            "18-12     870\n",
            "19-12     942\n",
            "20-12     912\n",
            "21-12     875\n",
            "22-12     874\n",
            "23-12     988\n",
            "24-12     908\n",
            "25-12     902\n",
            "26-12     925\n",
            "27-12     869\n",
            "28-12     931\n",
            "29-12     954\n",
            "30-12     928\n",
            "31-12     886\n",
            "Name: Cantidad Pedida, dtype: int64\n",
            "dia_mes\n",
            "01-01      41\n",
            "01-12     843\n",
            "02-12     914\n",
            "03-12     832\n",
            "04-12     879\n",
            "05-12     905\n",
            "06-12     910\n",
            "07-12     843\n",
            "08-12     870\n",
            "09-12     856\n",
            "10-12     897\n",
            "11-12     894\n",
            "12-12     919\n",
            "13-12     957\n",
            "14-12     924\n",
            "15-12     915\n",
            "16-12     914\n",
            "17-12    1044\n",
            "18-12     870\n",
            "19-12     942\n",
            "20-12     912\n",
            "21-12     875\n",
            "22-12     874\n",
            "23-12     988\n",
            "24-12     908\n",
            "25-12     902\n",
            "26-12     925\n",
            "27-12     869\n",
            "28-12     931\n",
            "29-12     954\n",
            "30-12     928\n",
            "31-12     886\n",
            "Name: Cantidad Pedida, dtype: int64\n",
            "dia_mes\n",
            "01-01      41\n",
            "01-12     843\n",
            "02-12     914\n",
            "03-12     832\n",
            "04-12     879\n",
            "05-12     905\n",
            "06-12     910\n",
            "07-12     843\n",
            "08-12     870\n",
            "09-12     856\n",
            "10-12     897\n",
            "11-12     894\n",
            "12-12     919\n",
            "13-12     957\n",
            "14-12     924\n",
            "15-12     915\n",
            "16-12     914\n",
            "17-12    1044\n",
            "18-12     870\n",
            "19-12     942\n",
            "20-12     912\n",
            "21-12     875\n",
            "22-12     874\n",
            "23-12     988\n",
            "24-12     908\n",
            "25-12     902\n",
            "26-12     925\n",
            "27-12     869\n",
            "28-12     931\n",
            "29-12     954\n",
            "30-12     928\n",
            "31-12     886\n",
            "Name: Cantidad Pedida, dtype: int64\n"
          ]
        },
        {
          "data": {
            "text/plain": [
              "dia_mes\n",
              "01-01      41\n",
              "01-12     843\n",
              "02-12     914\n",
              "03-12     832\n",
              "04-12     879\n",
              "05-12     905\n",
              "06-12     910\n",
              "07-12     843\n",
              "08-12     870\n",
              "09-12     856\n",
              "10-12     897\n",
              "11-12     894\n",
              "12-12     919\n",
              "13-12     957\n",
              "14-12     924\n",
              "15-12     915\n",
              "16-12     914\n",
              "17-12    1044\n",
              "18-12     870\n",
              "19-12     942\n",
              "20-12     912\n",
              "21-12     875\n",
              "22-12     874\n",
              "23-12     988\n",
              "24-12     908\n",
              "25-12     902\n",
              "26-12     925\n",
              "27-12     869\n",
              "28-12     931\n",
              "29-12     954\n",
              "30-12     928\n",
              "31-12     886\n",
              "Name: Cantidad Pedida, dtype: int64"
            ]
          },
          "execution_count": 149,
          "metadata": {},
          "output_type": "execute_result"
        }
      ],
      "source": [
        "\n",
        "dias_festivos= ['01-01','25-05','20-06', '9-07', '20-07', '25-12']\n",
        "detalle_dias_festivos = ['Año Nuevo','Día de la Revolución de Mayo','Día de la Bandera', 'Día de la Independencia', 'Dia del amigo', 'Navidad']\n",
        "\n",
        "\n",
        "ventas_dias_festivos = []\n",
        "# Iterar a través de cada mes en la lista 'meses'\n",
        "for mes in meses:\n",
        "    # Obtener el DataFrame correspondiente al mes\n",
        "    \n",
        "\n",
        "    for fecha in dias_festivos:\n",
        "        dataframe_mes = df_extraidos[mes]\n",
        "        dataframe_mes[(dataframe_mes[\"dia_mes\"] == fecha) & (dataframe_mes[\"año\"] == 2019)]\n",
        "        #dataframe_mes = dataframe_mes[dataframe_mes['dia_mes'] == fecha]\n",
        "        resultado  = dataframe_mes.groupby('dia_mes')['Cantidad Pedida'].sum()\n",
        "        if len(resultado)>0:\n",
        "            print(resultado)\n",
        "            ventas_dias_festivos.append(resultado.values[0])\n",
        "\n",
        "\n",
        "resultado\n"
      ]
    },
    {
      "cell_type": "code",
      "execution_count": null,
      "metadata": {},
      "outputs": [],
      "source": [
        "# Crear un objeto figura para el gráfico\n",
        "fig = go.Figure()\n",
        "\n",
        "# Iterar sobre la lista de datos y agregar cada mes al objeto figura 'fig'\n",
        "fig.add_trace(go.Scatter(\n",
        "    x=dias_semana,  # Eje X: Horas del día\n",
        "    y=total_pordia_pormes,  # Eje Y: Datos de ventas por hora para este mes\n",
        "    mode='lines+markers',  # Tipo de gráfico: líneas\n",
        "    name=mes,  # Etiqueta para la leyenda del gráfico\n",
        "    line=dict(width=2, shape='spline'),  # Configuración de las líneas del gráfico\n",
        "    marker=dict(size=10)  # Configuración de las marcas del gráfico\n",
        "))\n",
        "\n",
        "# Configurar los ejes y los títulos del gráfico\n",
        "fig.update_layout(\n",
        "    title=\"Total de unidades vendidas por dia en diferentes meses\",  # Título del gráfico\n",
        "    xaxis=dict(title=\"Hora\", tickvals=Horas),  # Configuración del eje X\n",
        "    yaxis=dict(title=\"Unidades vendidas\", side=\"left\"),  # Configuración del eje Y\n",
        "    legend=dict(y=0.3, yanchor='bottom'),  # Configuración de la leyenda\n",
        ")\n",
        "\n",
        "# Mostrar el gráfico\n",
        "fig.show()"
      ]
    },
    {
      "cell_type": "markdown",
      "metadata": {},
      "source": [
        "* ¿Qué eventos específicos han tenido un impacto notable en el comportamiento de\n",
        "las ventas y cómo se manifestó ese impacto?"
      ]
    }
  ],
  "metadata": {
    "colab": {
      "include_colab_link": true,
      "provenance": []
    },
    "kernelspec": {
      "display_name": "Python 3",
      "name": "python3"
    },
    "language_info": {
      "codemirror_mode": {
        "name": "ipython",
        "version": 3
      },
      "file_extension": ".py",
      "mimetype": "text/x-python",
      "name": "python",
      "nbconvert_exporter": "python",
      "pygments_lexer": "ipython3",
      "version": "3.11.4"
    }
  },
  "nbformat": 4,
  "nbformat_minor": 0
}
