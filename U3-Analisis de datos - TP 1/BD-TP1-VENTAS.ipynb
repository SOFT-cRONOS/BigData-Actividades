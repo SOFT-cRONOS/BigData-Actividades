{
  "cells": [
    {
      "cell_type": "markdown",
      "metadata": {
        "colab_type": "text",
        "id": "view-in-github"
      },
      "source": [
        "<a href=\"https://colab.research.google.com/github/SOFT-cRONOS/BigData-Actividades/blob/main/U3-Analisis%20de%20datos%20-%20TP%201/BD-TP1-VENTAS.ipynb\" target=\"_parent\"><img src=\"https://colab.research.google.com/assets/colab-badge.svg\" alt=\"Open In Colab\"/></a>"
      ]
    },
    {
      "cell_type": "markdown",
      "metadata": {
        "id": "YLSb9WzdBMte"
      },
      "source": [
        "# Lectura y armado de arreglo para el dataframe"
      ]
    },
    {
      "cell_type": "code",
      "execution_count": 172,
      "metadata": {
        "id": "-StCJ4BqnBKW"
      },
      "outputs": [
        {
          "data": {
            "text/plain": [
              "'! pip install plotly\\n! pip install numpy\\n! pip install pandas\\n! pip install nbformat --upgrade'"
            ]
          },
          "execution_count": 172,
          "metadata": {},
          "output_type": "execute_result"
        }
      ],
      "source": [
        "'''! pip install plotly\n",
        "! pip install numpy\n",
        "! pip install pandas\n",
        "! pip install nbformat --upgrade'''"
      ]
    },
    {
      "cell_type": "code",
      "execution_count": 173,
      "metadata": {},
      "outputs": [],
      "source": [
        "import os\n",
        "import pandas as pd\n",
        "import locale\n",
        "import plotly.express as px\n",
        "import numpy as np\n",
        "import plotly.graph_objects as go\n",
        "\n",
        "#manejo de fechas\n",
        "import datetime\n",
        "from datetime import datetime\n",
        "from plotly.subplots import make_subplots"
      ]
    },
    {
      "cell_type": "markdown",
      "metadata": {},
      "source": [
        "# Configuracion de y cambio de directorios segun sistema operativo"
      ]
    },
    {
      "cell_type": "code",
      "execution_count": 174,
      "metadata": {
        "id": "xKLh4l3bfN40"
      },
      "outputs": [],
      "source": [
        "#descomentar GIT para importar a colab, WINDOWS para equipos windows Linux para deribados linux de forma local\n",
        "\n",
        "# GIT\n",
        "#! git clone https://github.com/SOFT-cRONOS/BigData-Actividades/tree/main/U3-Analisis%20de%20datos%20-%20TP%201/datasets\n",
        "#ruta_de_acceso = '/content/BigData-Actividades/U3-Analisis de datos - TP 1/datasets'\n",
        "\n",
        "#windows\n",
        "ruta_de_acceso = 'E:\\\\Documentos\\\\FENIX\\\\BigData-Actividades\\\\U3-Analisis de datos - TP 1\\\\datasets'\n",
        "\n",
        "#linux\n",
        "#ruta_de_acceso = \"/home/cronos/Documentos/BD-Actividades/U3-Analisis de datos - TP 1/datasets\""
      ]
    },
    {
      "cell_type": "code",
      "execution_count": 175,
      "metadata": {
        "colab": {
          "base_uri": "https://localhost:8080/"
        },
        "id": "LWzpdFqLmkk7",
        "outputId": "b9d8b635-9522-4ebf-bbe8-be4a4ea5ce16"
      },
      "outputs": [
        {
          "data": {
            "text/plain": [
              "['Dataset_de_ventas_Abril.csv',\n",
              " 'Dataset_de_ventas_Agosto.csv',\n",
              " 'Dataset_de_ventas_Diciembre.csv',\n",
              " 'Dataset_de_ventas_Enero.csv',\n",
              " 'Dataset_de_ventas_Febrero.csv',\n",
              " 'Dataset_de_ventas_Julio.csv',\n",
              " 'Dataset_de_ventas_Junio.csv',\n",
              " 'Dataset_de_ventas_Marzo.csv',\n",
              " 'Dataset_de_ventas_Mayo.csv',\n",
              " 'Dataset_de_ventas_Noviembre.csv',\n",
              " 'Dataset_de_ventas_Octubre.csv',\n",
              " 'Dataset_de_ventas_Septiembre.csv']"
            ]
          },
          "execution_count": 175,
          "metadata": {},
          "output_type": "execute_result"
        }
      ],
      "source": [
        "archivos = os.listdir(ruta_de_acceso)\n",
        "archivos"
      ]
    },
    {
      "cell_type": "code",
      "execution_count": 176,
      "metadata": {
        "id": "Dc9qtKURmzYM"
      },
      "outputs": [],
      "source": [
        "dataframe_mes = {}\n",
        "dataframes = {}"
      ]
    },
    {
      "cell_type": "code",
      "execution_count": 177,
      "metadata": {
        "id": "nWvSvv0nm3kW"
      },
      "outputs": [],
      "source": [
        "#Filtrado de datos\n",
        "for archivo in archivos:\n",
        "  #solo si el archivo es .csv (por si en la carpeta hay otros formatos)\n",
        "  if archivo.endswith('.csv'):\n",
        "\n",
        "    #del nombre \"dataset_de_ventas_diciembre.csv splitea y deja solo el mes\"\n",
        "    mes = archivo.split('_')[3].split('.')[0]\n",
        "    #ej: Dataset_de_ventas_Marzo.csv = Marzo\n",
        "\n",
        "    #junta la ruta de la carpeta con el nombre de archivo\n",
        "    ruta_completa = os.path.join(ruta_de_acceso, archivo)\n",
        "     #ej: /content/drive/MyDrive/Programacion/BigData/actividad2/Dataset_de_ventas_Marzo.csv\n",
        "\n",
        "    #ahora lee todos los archivos con la ruta completa\n",
        "    df = pd.read_csv(ruta_completa)\n",
        "\n",
        "    #copia el df a un df_ventas\n",
        "    df_ventas = df.copy()\n",
        "\n",
        "    # Transformo todos los valores no numericos en Nan en las columnas Cantidad Pedida y Precio Unitario\n",
        "    df_ventas['Cantidad Pedida'] = pd.to_numeric(df_ventas['Cantidad Pedida'], errors='coerce')  #El errors= 'coerce' transforma los valores no numericos a NaN'\n",
        "    df_ventas['Precio Unitario'] = pd.to_numeric(df_ventas['Precio Unitario'], errors='coerce')\n",
        "\n",
        "\n",
        "    # Elimino todos los Nan y me quedo solo con los valores numericos\n",
        "    df_ventas = df_ventas.loc[~df_ventas['Cantidad Pedida'].isna()]\n",
        "    df_ventas = df_ventas.loc[~df_ventas['Precio Unitario'].isna()]\n",
        "    df_ventas = df_ventas.dropna()\n",
        "\n",
        "    # Transformo todos los valores numericos al tipo de dato int\n",
        "    df_ventas['Cantidad Pedida'] = df_ventas['Cantidad Pedida'].astype(int)\n",
        "    df_ventas['Precio Unitario'] = df_ventas['Precio Unitario'].astype(float)\n",
        "\n",
        "    #dataframe_mes = dataframe_mes[dataframe_mes[\"año\"] == 2019]\n",
        "    #carga el df en un elemento del array dataframes\n",
        "    dataframes[mes] = df_ventas\n",
        "    #ejemplo dataframes['Marzo'] = Dataset_de_ventas_Marzo.csv\n",
        "\n"
      ]
    },
    {
      "cell_type": "code",
      "execution_count": 178,
      "metadata": {
        "colab": {
          "base_uri": "https://localhost:8080/",
          "height": 424
        },
        "id": "dyL0nXSDBzIp",
        "outputId": "115a9401-7e50-4368-b92e-6022788934ae"
      },
      "outputs": [
        {
          "data": {
            "text/html": [
              "<div>\n",
              "<style scoped>\n",
              "    .dataframe tbody tr th:only-of-type {\n",
              "        vertical-align: middle;\n",
              "    }\n",
              "\n",
              "    .dataframe tbody tr th {\n",
              "        vertical-align: top;\n",
              "    }\n",
              "\n",
              "    .dataframe thead th {\n",
              "        text-align: right;\n",
              "    }\n",
              "</style>\n",
              "<table border=\"1\" class=\"dataframe\">\n",
              "  <thead>\n",
              "    <tr style=\"text-align: right;\">\n",
              "      <th></th>\n",
              "      <th>ID de Pedido</th>\n",
              "      <th>Producto</th>\n",
              "      <th>Cantidad Pedida</th>\n",
              "      <th>Precio Unitario</th>\n",
              "      <th>Fecha de Pedido</th>\n",
              "      <th>Dirección de Envio</th>\n",
              "    </tr>\n",
              "  </thead>\n",
              "  <tbody>\n",
              "    <tr>\n",
              "      <th>0</th>\n",
              "      <td>295665</td>\n",
              "      <td>Macbook Pro Laptop</td>\n",
              "      <td>1</td>\n",
              "      <td>1700.00</td>\n",
              "      <td>12/30/19 00:01</td>\n",
              "      <td>136 Church St, New York City, NY 10001</td>\n",
              "    </tr>\n",
              "    <tr>\n",
              "      <th>1</th>\n",
              "      <td>295666</td>\n",
              "      <td>LG Washing Machine</td>\n",
              "      <td>1</td>\n",
              "      <td>600.00</td>\n",
              "      <td>12/29/19 07:03</td>\n",
              "      <td>562 2nd St, New York City, NY 10001</td>\n",
              "    </tr>\n",
              "    <tr>\n",
              "      <th>2</th>\n",
              "      <td>295667</td>\n",
              "      <td>USB-C Charging Cable</td>\n",
              "      <td>1</td>\n",
              "      <td>11.95</td>\n",
              "      <td>12/12/19 18:21</td>\n",
              "      <td>277 Main St, New York City, NY 10001</td>\n",
              "    </tr>\n",
              "    <tr>\n",
              "      <th>3</th>\n",
              "      <td>295668</td>\n",
              "      <td>27in FHD Monitor</td>\n",
              "      <td>1</td>\n",
              "      <td>149.99</td>\n",
              "      <td>12/22/19 15:13</td>\n",
              "      <td>410 6th St, San Francisco, CA 94016</td>\n",
              "    </tr>\n",
              "    <tr>\n",
              "      <th>4</th>\n",
              "      <td>295669</td>\n",
              "      <td>USB-C Charging Cable</td>\n",
              "      <td>1</td>\n",
              "      <td>11.95</td>\n",
              "      <td>12/18/19 12:38</td>\n",
              "      <td>43 Hill St, Atlanta, GA 30301</td>\n",
              "    </tr>\n",
              "    <tr>\n",
              "      <th>...</th>\n",
              "      <td>...</td>\n",
              "      <td>...</td>\n",
              "      <td>...</td>\n",
              "      <td>...</td>\n",
              "      <td>...</td>\n",
              "      <td>...</td>\n",
              "    </tr>\n",
              "    <tr>\n",
              "      <th>25112</th>\n",
              "      <td>319666</td>\n",
              "      <td>Lightning Charging Cable</td>\n",
              "      <td>1</td>\n",
              "      <td>14.95</td>\n",
              "      <td>12/11/19 20:58</td>\n",
              "      <td>14 Madison St, San Francisco, CA 94016</td>\n",
              "    </tr>\n",
              "    <tr>\n",
              "      <th>25113</th>\n",
              "      <td>319667</td>\n",
              "      <td>AA Batteries (4-pack)</td>\n",
              "      <td>2</td>\n",
              "      <td>3.84</td>\n",
              "      <td>12/01/19 12:01</td>\n",
              "      <td>549 Willow St, Los Angeles, CA 90001</td>\n",
              "    </tr>\n",
              "    <tr>\n",
              "      <th>25114</th>\n",
              "      <td>319668</td>\n",
              "      <td>Vareebadd Phone</td>\n",
              "      <td>1</td>\n",
              "      <td>400.00</td>\n",
              "      <td>12/09/19 06:43</td>\n",
              "      <td>273 Wilson St, Seattle, WA 98101</td>\n",
              "    </tr>\n",
              "    <tr>\n",
              "      <th>25115</th>\n",
              "      <td>319669</td>\n",
              "      <td>Wired Headphones</td>\n",
              "      <td>1</td>\n",
              "      <td>11.99</td>\n",
              "      <td>12/03/19 10:39</td>\n",
              "      <td>778 River St, Dallas, TX 75001</td>\n",
              "    </tr>\n",
              "    <tr>\n",
              "      <th>25116</th>\n",
              "      <td>319670</td>\n",
              "      <td>Bose SoundSport Headphones</td>\n",
              "      <td>1</td>\n",
              "      <td>99.99</td>\n",
              "      <td>12/21/19 21:45</td>\n",
              "      <td>747 Chestnut St, Los Angeles, CA 90001</td>\n",
              "    </tr>\n",
              "  </tbody>\n",
              "</table>\n",
              "<p>24989 rows × 6 columns</p>\n",
              "</div>"
            ],
            "text/plain": [
              "      ID de Pedido                    Producto  Cantidad Pedida  \\\n",
              "0           295665          Macbook Pro Laptop                1   \n",
              "1           295666          LG Washing Machine                1   \n",
              "2           295667        USB-C Charging Cable                1   \n",
              "3           295668            27in FHD Monitor                1   \n",
              "4           295669        USB-C Charging Cable                1   \n",
              "...            ...                         ...              ...   \n",
              "25112       319666    Lightning Charging Cable                1   \n",
              "25113       319667       AA Batteries (4-pack)                2   \n",
              "25114       319668             Vareebadd Phone                1   \n",
              "25115       319669            Wired Headphones                1   \n",
              "25116       319670  Bose SoundSport Headphones                1   \n",
              "\n",
              "       Precio Unitario Fecha de Pedido                      Dirección de Envio  \n",
              "0              1700.00  12/30/19 00:01  136 Church St, New York City, NY 10001  \n",
              "1               600.00  12/29/19 07:03     562 2nd St, New York City, NY 10001  \n",
              "2                11.95  12/12/19 18:21    277 Main St, New York City, NY 10001  \n",
              "3               149.99  12/22/19 15:13     410 6th St, San Francisco, CA 94016  \n",
              "4                11.95  12/18/19 12:38           43 Hill St, Atlanta, GA 30301  \n",
              "...                ...             ...                                     ...  \n",
              "25112            14.95  12/11/19 20:58  14 Madison St, San Francisco, CA 94016  \n",
              "25113             3.84  12/01/19 12:01    549 Willow St, Los Angeles, CA 90001  \n",
              "25114           400.00  12/09/19 06:43        273 Wilson St, Seattle, WA 98101  \n",
              "25115            11.99  12/03/19 10:39          778 River St, Dallas, TX 75001  \n",
              "25116            99.99  12/21/19 21:45  747 Chestnut St, Los Angeles, CA 90001  \n",
              "\n",
              "[24989 rows x 6 columns]"
            ]
          },
          "execution_count": 178,
          "metadata": {},
          "output_type": "execute_result"
        }
      ],
      "source": [
        "dataframes['Diciembre']\n",
        "\n"
      ]
    },
    {
      "cell_type": "code",
      "execution_count": 179,
      "metadata": {},
      "outputs": [],
      "source": [
        "#array con dias de la semana y def para fraccionar datos\n",
        "dias_semana = [\"Lunes\", \"Martes\", \"Miércoles\", \"Jueves\", \"Viernes\", \"Sábado\", \"Domingo\"]\n",
        "meses = ['Enero', 'Febrero', 'Marzo', 'Abril', 'Mayo', 'Junio', 'Julio', 'Agosto', 'Septiembre', 'Octubre', 'Noviembre', 'Diciembre']\n",
        "# Define un diccionario para traducir los nombres de los días al español\n",
        "traduccion_dias = {\n",
        "    'Monday': 'Lunes',\n",
        "    'Tuesday': 'Martes',\n",
        "    'Wednesday': 'Miércoles',\n",
        "    'Thursday': 'Jueves',\n",
        "    'Friday': 'Viernes',\n",
        "    'Saturday': 'Sábado',\n",
        "    'Sunday': 'Domingo'\n",
        "}\n",
        "\n",
        "def extraer_datos(datos):\n",
        "    # Decodificar caracteres UTF-8 correctamente\n",
        "    #datos['Fecha de Pedido'] = datos['Fecha de Pedido'].str.encode('latin-1').str.decode('utf-8')\n",
        "\n",
        "    #agrega 2 columnas hora y dia. y convierte fecha en formato fecha\n",
        "    datos['Fecha de Pedido'] = pd.to_datetime(datos['Fecha de Pedido'])\n",
        "    \n",
        "    dia = datos['Fecha de Pedido'].dt.day\n",
        "    mes = datos['Fecha de Pedido'].dt.month\n",
        "    año = datos['Fecha de Pedido'].dt.year\n",
        "    hora = datos['Fecha de Pedido'].dt.hour\n",
        "    #fecha = datos['Fecha de Pedido'].dt.date\n",
        "    dia_sem = datos['Fecha de Pedido'].dt.strftime('%A')\n",
        "    \n",
        "    # Crea una nueva columna que contenga solo el día y el mes\n",
        "    datos['dia_mes'] = datos['Fecha de Pedido'].dt.strftime('%d-%m')\n",
        "    \n",
        "    #datos['fecha_corta'] = fecha\n",
        "    datos['Hora'] = hora\n",
        "    datos['Dia'] = dia\n",
        "    datos['mes'] = mes\n",
        "    datos['año'] = año\n",
        "\n",
        "\n",
        "\n",
        "    datos['strDia'] = dia_sem\n",
        "    \n",
        "    # Cambia los nombres de los días al español\n",
        "    datos['strDia'] = datos['strDia'].map(traduccion_dias)\n",
        "\n",
        "    # Ordena el DataFrame por los días de la semana en orden\n",
        "    datos['strDia'] = pd.Categorical(datos['strDia'], categories=dias_semana, ordered=True)\n",
        "    datos = datos.sort_values('strDia')\n",
        "\n",
        "    # Reinicia los índices del DataFrame si es necesario\n",
        "    datos = datos.reset_index(drop=True)\n",
        "\n",
        "\n",
        "    return datos\n",
        "\n",
        "#creacion de un dataframe con datos extraidos en columnas\n",
        "df_extraidos = {}\n",
        "# Iterar a través de cada mes en la lista 'meses'\n",
        "for i, mes in enumerate(meses):\n",
        "    # Obtener el DataFrame correspondiente al mes\n",
        "    dataframe_mes = dataframes[mes]\n",
        "    \n",
        "    # Extrae los datos con la funcion\n",
        "    dataframe_mes = extraer_datos(dataframe_mes)\n",
        "    \n",
        "    # Agrega el dataframe fraccionado en un nuevo diccionario solo con el año 2019\n",
        "    df_extraidos[mes] = dataframe_mes[dataframe_mes[\"año\"] == 2019]\n",
        "    #en algunos datos hay meses mesclados, filtro por cada mes\n",
        "    df_extraidos[mes] = dataframe_mes[dataframe_mes[\"mes\"] == i+1]"
      ]
    },
    {
      "cell_type": "code",
      "execution_count": 180,
      "metadata": {},
      "outputs": [
        {
          "data": {
            "text/html": [
              "<div>\n",
              "<style scoped>\n",
              "    .dataframe tbody tr th:only-of-type {\n",
              "        vertical-align: middle;\n",
              "    }\n",
              "\n",
              "    .dataframe tbody tr th {\n",
              "        vertical-align: top;\n",
              "    }\n",
              "\n",
              "    .dataframe thead th {\n",
              "        text-align: right;\n",
              "    }\n",
              "</style>\n",
              "<table border=\"1\" class=\"dataframe\">\n",
              "  <thead>\n",
              "    <tr style=\"text-align: right;\">\n",
              "      <th></th>\n",
              "      <th>ID de Pedido</th>\n",
              "      <th>Producto</th>\n",
              "      <th>Cantidad Pedida</th>\n",
              "      <th>Precio Unitario</th>\n",
              "      <th>Fecha de Pedido</th>\n",
              "      <th>Dirección de Envio</th>\n",
              "      <th>dia_mes</th>\n",
              "      <th>Hora</th>\n",
              "      <th>Dia</th>\n",
              "      <th>mes</th>\n",
              "      <th>año</th>\n",
              "      <th>strDia</th>\n",
              "    </tr>\n",
              "  </thead>\n",
              "  <tbody>\n",
              "    <tr>\n",
              "      <th>0</th>\n",
              "      <td>295665</td>\n",
              "      <td>Macbook Pro Laptop</td>\n",
              "      <td>1</td>\n",
              "      <td>1700.00</td>\n",
              "      <td>2019-12-30 00:01:00</td>\n",
              "      <td>136 Church St, New York City, NY 10001</td>\n",
              "      <td>30-12</td>\n",
              "      <td>0</td>\n",
              "      <td>30</td>\n",
              "      <td>12</td>\n",
              "      <td>2019</td>\n",
              "      <td>Lunes</td>\n",
              "    </tr>\n",
              "    <tr>\n",
              "      <th>1</th>\n",
              "      <td>302751</td>\n",
              "      <td>iPhone</td>\n",
              "      <td>1</td>\n",
              "      <td>700.00</td>\n",
              "      <td>2019-12-02 14:29:00</td>\n",
              "      <td>158 Washington St, San Francisco, CA 94016</td>\n",
              "      <td>02-12</td>\n",
              "      <td>14</td>\n",
              "      <td>2</td>\n",
              "      <td>12</td>\n",
              "      <td>2019</td>\n",
              "      <td>Lunes</td>\n",
              "    </tr>\n",
              "    <tr>\n",
              "      <th>2</th>\n",
              "      <td>302742</td>\n",
              "      <td>AA Batteries (4-pack)</td>\n",
              "      <td>1</td>\n",
              "      <td>3.84</td>\n",
              "      <td>2019-12-02 08:38:00</td>\n",
              "      <td>722 River St, New York City, NY 10001</td>\n",
              "      <td>02-12</td>\n",
              "      <td>8</td>\n",
              "      <td>2</td>\n",
              "      <td>12</td>\n",
              "      <td>2019</td>\n",
              "      <td>Lunes</td>\n",
              "    </tr>\n",
              "    <tr>\n",
              "      <th>3</th>\n",
              "      <td>315482</td>\n",
              "      <td>Wired Headphones</td>\n",
              "      <td>1</td>\n",
              "      <td>11.99</td>\n",
              "      <td>2019-12-02 18:46:00</td>\n",
              "      <td>693 Chestnut St, San Francisco, CA 94016</td>\n",
              "      <td>02-12</td>\n",
              "      <td>18</td>\n",
              "      <td>2</td>\n",
              "      <td>12</td>\n",
              "      <td>2019</td>\n",
              "      <td>Lunes</td>\n",
              "    </tr>\n",
              "    <tr>\n",
              "      <th>4</th>\n",
              "      <td>302722</td>\n",
              "      <td>Wired Headphones</td>\n",
              "      <td>1</td>\n",
              "      <td>11.99</td>\n",
              "      <td>2019-12-23 14:23:00</td>\n",
              "      <td>763 Dogwood St, Portland, ME 04101</td>\n",
              "      <td>23-12</td>\n",
              "      <td>14</td>\n",
              "      <td>23</td>\n",
              "      <td>12</td>\n",
              "      <td>2019</td>\n",
              "      <td>Lunes</td>\n",
              "    </tr>\n",
              "    <tr>\n",
              "      <th>...</th>\n",
              "      <td>...</td>\n",
              "      <td>...</td>\n",
              "      <td>...</td>\n",
              "      <td>...</td>\n",
              "      <td>...</td>\n",
              "      <td>...</td>\n",
              "      <td>...</td>\n",
              "      <td>...</td>\n",
              "      <td>...</td>\n",
              "      <td>...</td>\n",
              "      <td>...</td>\n",
              "      <td>...</td>\n",
              "    </tr>\n",
              "    <tr>\n",
              "      <th>24984</th>\n",
              "      <td>306841</td>\n",
              "      <td>Wired Headphones</td>\n",
              "      <td>1</td>\n",
              "      <td>11.99</td>\n",
              "      <td>2019-12-22 19:20:00</td>\n",
              "      <td>940 Ridge St, San Francisco, CA 94016</td>\n",
              "      <td>22-12</td>\n",
              "      <td>19</td>\n",
              "      <td>22</td>\n",
              "      <td>12</td>\n",
              "      <td>2019</td>\n",
              "      <td>Domingo</td>\n",
              "    </tr>\n",
              "    <tr>\n",
              "      <th>24985</th>\n",
              "      <td>316499</td>\n",
              "      <td>Bose SoundSport Headphones</td>\n",
              "      <td>1</td>\n",
              "      <td>99.99</td>\n",
              "      <td>2019-12-08 10:47:00</td>\n",
              "      <td>248 Johnson St, New York City, NY 10001</td>\n",
              "      <td>08-12</td>\n",
              "      <td>10</td>\n",
              "      <td>8</td>\n",
              "      <td>12</td>\n",
              "      <td>2019</td>\n",
              "      <td>Domingo</td>\n",
              "    </tr>\n",
              "    <tr>\n",
              "      <th>24986</th>\n",
              "      <td>301036</td>\n",
              "      <td>USB-C Charging Cable</td>\n",
              "      <td>2</td>\n",
              "      <td>11.95</td>\n",
              "      <td>2019-12-01 13:28:00</td>\n",
              "      <td>883 Spruce St, San Francisco, CA 94016</td>\n",
              "      <td>01-12</td>\n",
              "      <td>13</td>\n",
              "      <td>1</td>\n",
              "      <td>12</td>\n",
              "      <td>2019</td>\n",
              "      <td>Domingo</td>\n",
              "    </tr>\n",
              "    <tr>\n",
              "      <th>24987</th>\n",
              "      <td>306851</td>\n",
              "      <td>AA Batteries (4-pack)</td>\n",
              "      <td>3</td>\n",
              "      <td>3.84</td>\n",
              "      <td>2019-12-01 18:31:00</td>\n",
              "      <td>704 North St, New York City, NY 10001</td>\n",
              "      <td>01-12</td>\n",
              "      <td>18</td>\n",
              "      <td>1</td>\n",
              "      <td>12</td>\n",
              "      <td>2019</td>\n",
              "      <td>Domingo</td>\n",
              "    </tr>\n",
              "    <tr>\n",
              "      <th>24988</th>\n",
              "      <td>315245</td>\n",
              "      <td>Apple Airpods Headphones</td>\n",
              "      <td>1</td>\n",
              "      <td>150.00</td>\n",
              "      <td>2019-12-01 21:09:00</td>\n",
              "      <td>513 13th St, Seattle, WA 98101</td>\n",
              "      <td>01-12</td>\n",
              "      <td>21</td>\n",
              "      <td>1</td>\n",
              "      <td>12</td>\n",
              "      <td>2019</td>\n",
              "      <td>Domingo</td>\n",
              "    </tr>\n",
              "  </tbody>\n",
              "</table>\n",
              "<p>24955 rows × 12 columns</p>\n",
              "</div>"
            ],
            "text/plain": [
              "      ID de Pedido                    Producto  Cantidad Pedida  \\\n",
              "0           295665          Macbook Pro Laptop                1   \n",
              "1           302751                      iPhone                1   \n",
              "2           302742       AA Batteries (4-pack)                1   \n",
              "3           315482            Wired Headphones                1   \n",
              "4           302722            Wired Headphones                1   \n",
              "...            ...                         ...              ...   \n",
              "24984       306841            Wired Headphones                1   \n",
              "24985       316499  Bose SoundSport Headphones                1   \n",
              "24986       301036        USB-C Charging Cable                2   \n",
              "24987       306851       AA Batteries (4-pack)                3   \n",
              "24988       315245    Apple Airpods Headphones                1   \n",
              "\n",
              "       Precio Unitario     Fecha de Pedido  \\\n",
              "0              1700.00 2019-12-30 00:01:00   \n",
              "1               700.00 2019-12-02 14:29:00   \n",
              "2                 3.84 2019-12-02 08:38:00   \n",
              "3                11.99 2019-12-02 18:46:00   \n",
              "4                11.99 2019-12-23 14:23:00   \n",
              "...                ...                 ...   \n",
              "24984            11.99 2019-12-22 19:20:00   \n",
              "24985            99.99 2019-12-08 10:47:00   \n",
              "24986            11.95 2019-12-01 13:28:00   \n",
              "24987             3.84 2019-12-01 18:31:00   \n",
              "24988           150.00 2019-12-01 21:09:00   \n",
              "\n",
              "                               Dirección de Envio dia_mes  Hora  Dia  mes  \\\n",
              "0          136 Church St, New York City, NY 10001   30-12     0   30   12   \n",
              "1      158 Washington St, San Francisco, CA 94016   02-12    14    2   12   \n",
              "2           722 River St, New York City, NY 10001   02-12     8    2   12   \n",
              "3        693 Chestnut St, San Francisco, CA 94016   02-12    18    2   12   \n",
              "4              763 Dogwood St, Portland, ME 04101   23-12    14   23   12   \n",
              "...                                           ...     ...   ...  ...  ...   \n",
              "24984       940 Ridge St, San Francisco, CA 94016   22-12    19   22   12   \n",
              "24985     248 Johnson St, New York City, NY 10001   08-12    10    8   12   \n",
              "24986      883 Spruce St, San Francisco, CA 94016   01-12    13    1   12   \n",
              "24987       704 North St, New York City, NY 10001   01-12    18    1   12   \n",
              "24988              513 13th St, Seattle, WA 98101   01-12    21    1   12   \n",
              "\n",
              "        año   strDia  \n",
              "0      2019    Lunes  \n",
              "1      2019    Lunes  \n",
              "2      2019    Lunes  \n",
              "3      2019    Lunes  \n",
              "4      2019    Lunes  \n",
              "...     ...      ...  \n",
              "24984  2019  Domingo  \n",
              "24985  2019  Domingo  \n",
              "24986  2019  Domingo  \n",
              "24987  2019  Domingo  \n",
              "24988  2019  Domingo  \n",
              "\n",
              "[24955 rows x 12 columns]"
            ]
          },
          "execution_count": 180,
          "metadata": {},
          "output_type": "execute_result"
        }
      ],
      "source": [
        "i = 12\n",
        "mes = 'Diciembre'\n",
        "df_extraidos[mes][df_extraidos[mes][\"mes\"] == i]"
      ]
    },
    {
      "cell_type": "markdown",
      "metadata": {
        "id": "7k0Zaxe_A758"
      },
      "source": [
        "# Comportamiento de las ventas en los distintos meses:"
      ]
    },
    {
      "cell_type": "markdown",
      "metadata": {
        "id": "Flj9s1sMBBt1"
      },
      "source": [
        "¿Cómo variaron las ventas a lo largo de los diferentes meses?"
      ]
    },
    {
      "cell_type": "markdown",
      "metadata": {
        "id": "zSl6nmajIP85"
      },
      "source": [
        "¿Hubo algún mes que se destacó en términos de ventas?"
      ]
    },
    {
      "cell_type": "code",
      "execution_count": 181,
      "metadata": {
        "colab": {
          "base_uri": "https://localhost:8080/",
          "height": 542
        },
        "id": "u3AVPnOYISmi",
        "outputId": "f8a2cb90-cdac-4622-fc31-d10039ccdb2d"
      },
      "outputs": [
        {
          "data": {
            "application/vnd.plotly.v1+json": {
              "config": {
                "plotlyServerURL": "https://plot.ly"
              },
              "data": [
                {
                  "hovertemplate": "Tiempo=%{x}<br>Ventas=%{y}<br>text=%{text}<extra></extra>",
                  "legendgroup": "",
                  "line": {
                    "color": "#636efa",
                    "dash": "solid"
                  },
                  "marker": {
                    "symbol": "circle"
                  },
                  "mode": "markers+text+lines",
                  "name": "",
                  "orientation": "v",
                  "showlegend": false,
                  "text": [
                    10868,
                    13461,
                    17006,
                    20568,
                    18657,
                    15255,
                    16069,
                    13442,
                    13119,
                    22705,
                    19808,
                    28121
                  ],
                  "type": "scatter",
                  "x": [
                    "Enero",
                    "Febrero",
                    "Marzo",
                    "Abril",
                    "Mayo",
                    "Junio",
                    "Julio",
                    "Agosto",
                    "Septiembre",
                    "Octubre",
                    "Noviembre",
                    "Diciembre"
                  ],
                  "xaxis": "x",
                  "y": [
                    10868,
                    13461,
                    17006,
                    20568,
                    18657,
                    15255,
                    16069,
                    13442,
                    13119,
                    22705,
                    19808,
                    28121
                  ],
                  "yaxis": "y"
                }
              ],
              "layout": {
                "legend": {
                  "tracegroupgap": 0
                },
                "template": {
                  "data": {
                    "bar": [
                      {
                        "error_x": {
                          "color": "#2a3f5f"
                        },
                        "error_y": {
                          "color": "#2a3f5f"
                        },
                        "marker": {
                          "line": {
                            "color": "#E5ECF6",
                            "width": 0.5
                          },
                          "pattern": {
                            "fillmode": "overlay",
                            "size": 10,
                            "solidity": 0.2
                          }
                        },
                        "type": "bar"
                      }
                    ],
                    "barpolar": [
                      {
                        "marker": {
                          "line": {
                            "color": "#E5ECF6",
                            "width": 0.5
                          },
                          "pattern": {
                            "fillmode": "overlay",
                            "size": 10,
                            "solidity": 0.2
                          }
                        },
                        "type": "barpolar"
                      }
                    ],
                    "carpet": [
                      {
                        "aaxis": {
                          "endlinecolor": "#2a3f5f",
                          "gridcolor": "white",
                          "linecolor": "white",
                          "minorgridcolor": "white",
                          "startlinecolor": "#2a3f5f"
                        },
                        "baxis": {
                          "endlinecolor": "#2a3f5f",
                          "gridcolor": "white",
                          "linecolor": "white",
                          "minorgridcolor": "white",
                          "startlinecolor": "#2a3f5f"
                        },
                        "type": "carpet"
                      }
                    ],
                    "choropleth": [
                      {
                        "colorbar": {
                          "outlinewidth": 0,
                          "ticks": ""
                        },
                        "type": "choropleth"
                      }
                    ],
                    "contour": [
                      {
                        "colorbar": {
                          "outlinewidth": 0,
                          "ticks": ""
                        },
                        "colorscale": [
                          [
                            0,
                            "#0d0887"
                          ],
                          [
                            0.1111111111111111,
                            "#46039f"
                          ],
                          [
                            0.2222222222222222,
                            "#7201a8"
                          ],
                          [
                            0.3333333333333333,
                            "#9c179e"
                          ],
                          [
                            0.4444444444444444,
                            "#bd3786"
                          ],
                          [
                            0.5555555555555556,
                            "#d8576b"
                          ],
                          [
                            0.6666666666666666,
                            "#ed7953"
                          ],
                          [
                            0.7777777777777778,
                            "#fb9f3a"
                          ],
                          [
                            0.8888888888888888,
                            "#fdca26"
                          ],
                          [
                            1,
                            "#f0f921"
                          ]
                        ],
                        "type": "contour"
                      }
                    ],
                    "contourcarpet": [
                      {
                        "colorbar": {
                          "outlinewidth": 0,
                          "ticks": ""
                        },
                        "type": "contourcarpet"
                      }
                    ],
                    "heatmap": [
                      {
                        "colorbar": {
                          "outlinewidth": 0,
                          "ticks": ""
                        },
                        "colorscale": [
                          [
                            0,
                            "#0d0887"
                          ],
                          [
                            0.1111111111111111,
                            "#46039f"
                          ],
                          [
                            0.2222222222222222,
                            "#7201a8"
                          ],
                          [
                            0.3333333333333333,
                            "#9c179e"
                          ],
                          [
                            0.4444444444444444,
                            "#bd3786"
                          ],
                          [
                            0.5555555555555556,
                            "#d8576b"
                          ],
                          [
                            0.6666666666666666,
                            "#ed7953"
                          ],
                          [
                            0.7777777777777778,
                            "#fb9f3a"
                          ],
                          [
                            0.8888888888888888,
                            "#fdca26"
                          ],
                          [
                            1,
                            "#f0f921"
                          ]
                        ],
                        "type": "heatmap"
                      }
                    ],
                    "heatmapgl": [
                      {
                        "colorbar": {
                          "outlinewidth": 0,
                          "ticks": ""
                        },
                        "colorscale": [
                          [
                            0,
                            "#0d0887"
                          ],
                          [
                            0.1111111111111111,
                            "#46039f"
                          ],
                          [
                            0.2222222222222222,
                            "#7201a8"
                          ],
                          [
                            0.3333333333333333,
                            "#9c179e"
                          ],
                          [
                            0.4444444444444444,
                            "#bd3786"
                          ],
                          [
                            0.5555555555555556,
                            "#d8576b"
                          ],
                          [
                            0.6666666666666666,
                            "#ed7953"
                          ],
                          [
                            0.7777777777777778,
                            "#fb9f3a"
                          ],
                          [
                            0.8888888888888888,
                            "#fdca26"
                          ],
                          [
                            1,
                            "#f0f921"
                          ]
                        ],
                        "type": "heatmapgl"
                      }
                    ],
                    "histogram": [
                      {
                        "marker": {
                          "pattern": {
                            "fillmode": "overlay",
                            "size": 10,
                            "solidity": 0.2
                          }
                        },
                        "type": "histogram"
                      }
                    ],
                    "histogram2d": [
                      {
                        "colorbar": {
                          "outlinewidth": 0,
                          "ticks": ""
                        },
                        "colorscale": [
                          [
                            0,
                            "#0d0887"
                          ],
                          [
                            0.1111111111111111,
                            "#46039f"
                          ],
                          [
                            0.2222222222222222,
                            "#7201a8"
                          ],
                          [
                            0.3333333333333333,
                            "#9c179e"
                          ],
                          [
                            0.4444444444444444,
                            "#bd3786"
                          ],
                          [
                            0.5555555555555556,
                            "#d8576b"
                          ],
                          [
                            0.6666666666666666,
                            "#ed7953"
                          ],
                          [
                            0.7777777777777778,
                            "#fb9f3a"
                          ],
                          [
                            0.8888888888888888,
                            "#fdca26"
                          ],
                          [
                            1,
                            "#f0f921"
                          ]
                        ],
                        "type": "histogram2d"
                      }
                    ],
                    "histogram2dcontour": [
                      {
                        "colorbar": {
                          "outlinewidth": 0,
                          "ticks": ""
                        },
                        "colorscale": [
                          [
                            0,
                            "#0d0887"
                          ],
                          [
                            0.1111111111111111,
                            "#46039f"
                          ],
                          [
                            0.2222222222222222,
                            "#7201a8"
                          ],
                          [
                            0.3333333333333333,
                            "#9c179e"
                          ],
                          [
                            0.4444444444444444,
                            "#bd3786"
                          ],
                          [
                            0.5555555555555556,
                            "#d8576b"
                          ],
                          [
                            0.6666666666666666,
                            "#ed7953"
                          ],
                          [
                            0.7777777777777778,
                            "#fb9f3a"
                          ],
                          [
                            0.8888888888888888,
                            "#fdca26"
                          ],
                          [
                            1,
                            "#f0f921"
                          ]
                        ],
                        "type": "histogram2dcontour"
                      }
                    ],
                    "mesh3d": [
                      {
                        "colorbar": {
                          "outlinewidth": 0,
                          "ticks": ""
                        },
                        "type": "mesh3d"
                      }
                    ],
                    "parcoords": [
                      {
                        "line": {
                          "colorbar": {
                            "outlinewidth": 0,
                            "ticks": ""
                          }
                        },
                        "type": "parcoords"
                      }
                    ],
                    "pie": [
                      {
                        "automargin": true,
                        "type": "pie"
                      }
                    ],
                    "scatter": [
                      {
                        "fillpattern": {
                          "fillmode": "overlay",
                          "size": 10,
                          "solidity": 0.2
                        },
                        "type": "scatter"
                      }
                    ],
                    "scatter3d": [
                      {
                        "line": {
                          "colorbar": {
                            "outlinewidth": 0,
                            "ticks": ""
                          }
                        },
                        "marker": {
                          "colorbar": {
                            "outlinewidth": 0,
                            "ticks": ""
                          }
                        },
                        "type": "scatter3d"
                      }
                    ],
                    "scattercarpet": [
                      {
                        "marker": {
                          "colorbar": {
                            "outlinewidth": 0,
                            "ticks": ""
                          }
                        },
                        "type": "scattercarpet"
                      }
                    ],
                    "scattergeo": [
                      {
                        "marker": {
                          "colorbar": {
                            "outlinewidth": 0,
                            "ticks": ""
                          }
                        },
                        "type": "scattergeo"
                      }
                    ],
                    "scattergl": [
                      {
                        "marker": {
                          "colorbar": {
                            "outlinewidth": 0,
                            "ticks": ""
                          }
                        },
                        "type": "scattergl"
                      }
                    ],
                    "scattermapbox": [
                      {
                        "marker": {
                          "colorbar": {
                            "outlinewidth": 0,
                            "ticks": ""
                          }
                        },
                        "type": "scattermapbox"
                      }
                    ],
                    "scatterpolar": [
                      {
                        "marker": {
                          "colorbar": {
                            "outlinewidth": 0,
                            "ticks": ""
                          }
                        },
                        "type": "scatterpolar"
                      }
                    ],
                    "scatterpolargl": [
                      {
                        "marker": {
                          "colorbar": {
                            "outlinewidth": 0,
                            "ticks": ""
                          }
                        },
                        "type": "scatterpolargl"
                      }
                    ],
                    "scatterternary": [
                      {
                        "marker": {
                          "colorbar": {
                            "outlinewidth": 0,
                            "ticks": ""
                          }
                        },
                        "type": "scatterternary"
                      }
                    ],
                    "surface": [
                      {
                        "colorbar": {
                          "outlinewidth": 0,
                          "ticks": ""
                        },
                        "colorscale": [
                          [
                            0,
                            "#0d0887"
                          ],
                          [
                            0.1111111111111111,
                            "#46039f"
                          ],
                          [
                            0.2222222222222222,
                            "#7201a8"
                          ],
                          [
                            0.3333333333333333,
                            "#9c179e"
                          ],
                          [
                            0.4444444444444444,
                            "#bd3786"
                          ],
                          [
                            0.5555555555555556,
                            "#d8576b"
                          ],
                          [
                            0.6666666666666666,
                            "#ed7953"
                          ],
                          [
                            0.7777777777777778,
                            "#fb9f3a"
                          ],
                          [
                            0.8888888888888888,
                            "#fdca26"
                          ],
                          [
                            1,
                            "#f0f921"
                          ]
                        ],
                        "type": "surface"
                      }
                    ],
                    "table": [
                      {
                        "cells": {
                          "fill": {
                            "color": "#EBF0F8"
                          },
                          "line": {
                            "color": "white"
                          }
                        },
                        "header": {
                          "fill": {
                            "color": "#C8D4E3"
                          },
                          "line": {
                            "color": "white"
                          }
                        },
                        "type": "table"
                      }
                    ]
                  },
                  "layout": {
                    "annotationdefaults": {
                      "arrowcolor": "#2a3f5f",
                      "arrowhead": 0,
                      "arrowwidth": 1
                    },
                    "autotypenumbers": "strict",
                    "coloraxis": {
                      "colorbar": {
                        "outlinewidth": 0,
                        "ticks": ""
                      }
                    },
                    "colorscale": {
                      "diverging": [
                        [
                          0,
                          "#8e0152"
                        ],
                        [
                          0.1,
                          "#c51b7d"
                        ],
                        [
                          0.2,
                          "#de77ae"
                        ],
                        [
                          0.3,
                          "#f1b6da"
                        ],
                        [
                          0.4,
                          "#fde0ef"
                        ],
                        [
                          0.5,
                          "#f7f7f7"
                        ],
                        [
                          0.6,
                          "#e6f5d0"
                        ],
                        [
                          0.7,
                          "#b8e186"
                        ],
                        [
                          0.8,
                          "#7fbc41"
                        ],
                        [
                          0.9,
                          "#4d9221"
                        ],
                        [
                          1,
                          "#276419"
                        ]
                      ],
                      "sequential": [
                        [
                          0,
                          "#0d0887"
                        ],
                        [
                          0.1111111111111111,
                          "#46039f"
                        ],
                        [
                          0.2222222222222222,
                          "#7201a8"
                        ],
                        [
                          0.3333333333333333,
                          "#9c179e"
                        ],
                        [
                          0.4444444444444444,
                          "#bd3786"
                        ],
                        [
                          0.5555555555555556,
                          "#d8576b"
                        ],
                        [
                          0.6666666666666666,
                          "#ed7953"
                        ],
                        [
                          0.7777777777777778,
                          "#fb9f3a"
                        ],
                        [
                          0.8888888888888888,
                          "#fdca26"
                        ],
                        [
                          1,
                          "#f0f921"
                        ]
                      ],
                      "sequentialminus": [
                        [
                          0,
                          "#0d0887"
                        ],
                        [
                          0.1111111111111111,
                          "#46039f"
                        ],
                        [
                          0.2222222222222222,
                          "#7201a8"
                        ],
                        [
                          0.3333333333333333,
                          "#9c179e"
                        ],
                        [
                          0.4444444444444444,
                          "#bd3786"
                        ],
                        [
                          0.5555555555555556,
                          "#d8576b"
                        ],
                        [
                          0.6666666666666666,
                          "#ed7953"
                        ],
                        [
                          0.7777777777777778,
                          "#fb9f3a"
                        ],
                        [
                          0.8888888888888888,
                          "#fdca26"
                        ],
                        [
                          1,
                          "#f0f921"
                        ]
                      ]
                    },
                    "colorway": [
                      "#636efa",
                      "#EF553B",
                      "#00cc96",
                      "#ab63fa",
                      "#FFA15A",
                      "#19d3f3",
                      "#FF6692",
                      "#B6E880",
                      "#FF97FF",
                      "#FECB52"
                    ],
                    "font": {
                      "color": "#2a3f5f"
                    },
                    "geo": {
                      "bgcolor": "white",
                      "lakecolor": "white",
                      "landcolor": "#E5ECF6",
                      "showlakes": true,
                      "showland": true,
                      "subunitcolor": "white"
                    },
                    "hoverlabel": {
                      "align": "left"
                    },
                    "hovermode": "closest",
                    "mapbox": {
                      "style": "light"
                    },
                    "paper_bgcolor": "white",
                    "plot_bgcolor": "#E5ECF6",
                    "polar": {
                      "angularaxis": {
                        "gridcolor": "white",
                        "linecolor": "white",
                        "ticks": ""
                      },
                      "bgcolor": "#E5ECF6",
                      "radialaxis": {
                        "gridcolor": "white",
                        "linecolor": "white",
                        "ticks": ""
                      }
                    },
                    "scene": {
                      "xaxis": {
                        "backgroundcolor": "#E5ECF6",
                        "gridcolor": "white",
                        "gridwidth": 2,
                        "linecolor": "white",
                        "showbackground": true,
                        "ticks": "",
                        "zerolinecolor": "white"
                      },
                      "yaxis": {
                        "backgroundcolor": "#E5ECF6",
                        "gridcolor": "white",
                        "gridwidth": 2,
                        "linecolor": "white",
                        "showbackground": true,
                        "ticks": "",
                        "zerolinecolor": "white"
                      },
                      "zaxis": {
                        "backgroundcolor": "#E5ECF6",
                        "gridcolor": "white",
                        "gridwidth": 2,
                        "linecolor": "white",
                        "showbackground": true,
                        "ticks": "",
                        "zerolinecolor": "white"
                      }
                    },
                    "shapedefaults": {
                      "line": {
                        "color": "#2a3f5f"
                      }
                    },
                    "ternary": {
                      "aaxis": {
                        "gridcolor": "white",
                        "linecolor": "white",
                        "ticks": ""
                      },
                      "baxis": {
                        "gridcolor": "white",
                        "linecolor": "white",
                        "ticks": ""
                      },
                      "bgcolor": "#E5ECF6",
                      "caxis": {
                        "gridcolor": "white",
                        "linecolor": "white",
                        "ticks": ""
                      }
                    },
                    "title": {
                      "x": 0.05
                    },
                    "xaxis": {
                      "automargin": true,
                      "gridcolor": "white",
                      "linecolor": "white",
                      "ticks": "",
                      "title": {
                        "standoff": 15
                      },
                      "zerolinecolor": "white",
                      "zerolinewidth": 2
                    },
                    "yaxis": {
                      "automargin": true,
                      "gridcolor": "white",
                      "linecolor": "white",
                      "ticks": "",
                      "title": {
                        "standoff": 15
                      },
                      "zerolinecolor": "white",
                      "zerolinewidth": 2
                    }
                  }
                },
                "title": {
                  "text": "Título del gráfico de líneas"
                },
                "xaxis": {
                  "anchor": "y",
                  "domain": [
                    0,
                    1
                  ],
                  "title": {
                    "text": "Tiempo"
                  }
                },
                "yaxis": {
                  "anchor": "x",
                  "domain": [
                    0,
                    1
                  ],
                  "title": {
                    "text": "Ventas"
                  }
                }
              }
            }
          },
          "metadata": {},
          "output_type": "display_data"
        }
      ],
      "source": [
        "ventas = []\n",
        "for mes in meses:\n",
        "  #extraigo la suma de la Cantidad Pedida por cada mes\n",
        "    cantidades = dataframes[mes][['Cantidad Pedida']].sum()\n",
        "    cantidades = cantidades.values\n",
        "    cantidades = int(cantidades[0])\n",
        "    ventas.append(cantidades)\n",
        "\n",
        "fig = px.line(x = meses, y = ventas,\n",
        "      text= ventas,\n",
        "            title = \"Título del gráfico de líneas\",\n",
        "                  labels = {'x': 'Tiempo', 'y':'Ventas'},\n",
        "                                      markers = True)\n",
        "\n",
        "fig.show()"
      ]
    },
    {
      "cell_type": "markdown",
      "metadata": {
        "id": "xbssESMRITWh"
      },
      "source": [
        "¿Cuál es el ingreso total generado por mes?"
      ]
    },
    {
      "cell_type": "code",
      "execution_count": 182,
      "metadata": {
        "id": "iJM55dE6IVRT"
      },
      "outputs": [],
      "source": [
        "#agrego una columna calculada total para multiplicar cantidad pedida por precio unitario\n",
        "for mes in meses:\n",
        "  #extraigo la suma de la Cantidad Pedida por cada mes\n",
        "  test = dataframes[mes][['Cantidad Pedida','Precio Unitario']].copy()\n",
        "  dataframes[mes]['total'] = test.loc[:,('Cantidad Pedida')] * test.loc[:,('Precio Unitario')]\n",
        "\n",
        "total_ventas = []\n",
        "for mes in meses:\n",
        "    #extraigo la suma de la Cantidad Pedida por cada mes\n",
        "      total = dataframes[mes][['total']].sum()\n",
        "      total = total.values\n",
        "      total = int(total[0])\n",
        "      total_ventas.append(total)"
      ]
    },
    {
      "cell_type": "code",
      "execution_count": 183,
      "metadata": {
        "colab": {
          "base_uri": "https://localhost:8080/",
          "height": 542
        },
        "id": "ud4y30KbOgdm",
        "outputId": "6067da49-8664-4853-cb39-61e5fd8fdacf"
      },
      "outputs": [
        {
          "data": {
            "application/vnd.plotly.v1+json": {
              "config": {
                "plotlyServerURL": "https://plot.ly"
              },
              "data": [
                {
                  "hovertemplate": "Tiempo=%{x}<br>Ventas=%{y}<br>text=%{text}<extra></extra>",
                  "legendgroup": "",
                  "line": {
                    "color": "#636efa",
                    "dash": "solid"
                  },
                  "marker": {
                    "symbol": "circle"
                  },
                  "mode": "markers+text+lines",
                  "name": "",
                  "orientation": "v",
                  "showlegend": false,
                  "text": [
                    1815335,
                    2203481,
                    2809063,
                    3396059,
                    3144584,
                    2578293,
                    2646899,
                    2244412,
                    2098816,
                    3736884,
                    3198909,
                    4619297
                  ],
                  "type": "scatter",
                  "x": [
                    "Enero",
                    "Febrero",
                    "Marzo",
                    "Abril",
                    "Mayo",
                    "Junio",
                    "Julio",
                    "Agosto",
                    "Septiembre",
                    "Octubre",
                    "Noviembre",
                    "Diciembre"
                  ],
                  "xaxis": "x",
                  "y": [
                    1815335,
                    2203481,
                    2809063,
                    3396059,
                    3144584,
                    2578293,
                    2646899,
                    2244412,
                    2098816,
                    3736884,
                    3198909,
                    4619297
                  ],
                  "yaxis": "y"
                }
              ],
              "layout": {
                "legend": {
                  "tracegroupgap": 0
                },
                "template": {
                  "data": {
                    "bar": [
                      {
                        "error_x": {
                          "color": "#2a3f5f"
                        },
                        "error_y": {
                          "color": "#2a3f5f"
                        },
                        "marker": {
                          "line": {
                            "color": "#E5ECF6",
                            "width": 0.5
                          },
                          "pattern": {
                            "fillmode": "overlay",
                            "size": 10,
                            "solidity": 0.2
                          }
                        },
                        "type": "bar"
                      }
                    ],
                    "barpolar": [
                      {
                        "marker": {
                          "line": {
                            "color": "#E5ECF6",
                            "width": 0.5
                          },
                          "pattern": {
                            "fillmode": "overlay",
                            "size": 10,
                            "solidity": 0.2
                          }
                        },
                        "type": "barpolar"
                      }
                    ],
                    "carpet": [
                      {
                        "aaxis": {
                          "endlinecolor": "#2a3f5f",
                          "gridcolor": "white",
                          "linecolor": "white",
                          "minorgridcolor": "white",
                          "startlinecolor": "#2a3f5f"
                        },
                        "baxis": {
                          "endlinecolor": "#2a3f5f",
                          "gridcolor": "white",
                          "linecolor": "white",
                          "minorgridcolor": "white",
                          "startlinecolor": "#2a3f5f"
                        },
                        "type": "carpet"
                      }
                    ],
                    "choropleth": [
                      {
                        "colorbar": {
                          "outlinewidth": 0,
                          "ticks": ""
                        },
                        "type": "choropleth"
                      }
                    ],
                    "contour": [
                      {
                        "colorbar": {
                          "outlinewidth": 0,
                          "ticks": ""
                        },
                        "colorscale": [
                          [
                            0,
                            "#0d0887"
                          ],
                          [
                            0.1111111111111111,
                            "#46039f"
                          ],
                          [
                            0.2222222222222222,
                            "#7201a8"
                          ],
                          [
                            0.3333333333333333,
                            "#9c179e"
                          ],
                          [
                            0.4444444444444444,
                            "#bd3786"
                          ],
                          [
                            0.5555555555555556,
                            "#d8576b"
                          ],
                          [
                            0.6666666666666666,
                            "#ed7953"
                          ],
                          [
                            0.7777777777777778,
                            "#fb9f3a"
                          ],
                          [
                            0.8888888888888888,
                            "#fdca26"
                          ],
                          [
                            1,
                            "#f0f921"
                          ]
                        ],
                        "type": "contour"
                      }
                    ],
                    "contourcarpet": [
                      {
                        "colorbar": {
                          "outlinewidth": 0,
                          "ticks": ""
                        },
                        "type": "contourcarpet"
                      }
                    ],
                    "heatmap": [
                      {
                        "colorbar": {
                          "outlinewidth": 0,
                          "ticks": ""
                        },
                        "colorscale": [
                          [
                            0,
                            "#0d0887"
                          ],
                          [
                            0.1111111111111111,
                            "#46039f"
                          ],
                          [
                            0.2222222222222222,
                            "#7201a8"
                          ],
                          [
                            0.3333333333333333,
                            "#9c179e"
                          ],
                          [
                            0.4444444444444444,
                            "#bd3786"
                          ],
                          [
                            0.5555555555555556,
                            "#d8576b"
                          ],
                          [
                            0.6666666666666666,
                            "#ed7953"
                          ],
                          [
                            0.7777777777777778,
                            "#fb9f3a"
                          ],
                          [
                            0.8888888888888888,
                            "#fdca26"
                          ],
                          [
                            1,
                            "#f0f921"
                          ]
                        ],
                        "type": "heatmap"
                      }
                    ],
                    "heatmapgl": [
                      {
                        "colorbar": {
                          "outlinewidth": 0,
                          "ticks": ""
                        },
                        "colorscale": [
                          [
                            0,
                            "#0d0887"
                          ],
                          [
                            0.1111111111111111,
                            "#46039f"
                          ],
                          [
                            0.2222222222222222,
                            "#7201a8"
                          ],
                          [
                            0.3333333333333333,
                            "#9c179e"
                          ],
                          [
                            0.4444444444444444,
                            "#bd3786"
                          ],
                          [
                            0.5555555555555556,
                            "#d8576b"
                          ],
                          [
                            0.6666666666666666,
                            "#ed7953"
                          ],
                          [
                            0.7777777777777778,
                            "#fb9f3a"
                          ],
                          [
                            0.8888888888888888,
                            "#fdca26"
                          ],
                          [
                            1,
                            "#f0f921"
                          ]
                        ],
                        "type": "heatmapgl"
                      }
                    ],
                    "histogram": [
                      {
                        "marker": {
                          "pattern": {
                            "fillmode": "overlay",
                            "size": 10,
                            "solidity": 0.2
                          }
                        },
                        "type": "histogram"
                      }
                    ],
                    "histogram2d": [
                      {
                        "colorbar": {
                          "outlinewidth": 0,
                          "ticks": ""
                        },
                        "colorscale": [
                          [
                            0,
                            "#0d0887"
                          ],
                          [
                            0.1111111111111111,
                            "#46039f"
                          ],
                          [
                            0.2222222222222222,
                            "#7201a8"
                          ],
                          [
                            0.3333333333333333,
                            "#9c179e"
                          ],
                          [
                            0.4444444444444444,
                            "#bd3786"
                          ],
                          [
                            0.5555555555555556,
                            "#d8576b"
                          ],
                          [
                            0.6666666666666666,
                            "#ed7953"
                          ],
                          [
                            0.7777777777777778,
                            "#fb9f3a"
                          ],
                          [
                            0.8888888888888888,
                            "#fdca26"
                          ],
                          [
                            1,
                            "#f0f921"
                          ]
                        ],
                        "type": "histogram2d"
                      }
                    ],
                    "histogram2dcontour": [
                      {
                        "colorbar": {
                          "outlinewidth": 0,
                          "ticks": ""
                        },
                        "colorscale": [
                          [
                            0,
                            "#0d0887"
                          ],
                          [
                            0.1111111111111111,
                            "#46039f"
                          ],
                          [
                            0.2222222222222222,
                            "#7201a8"
                          ],
                          [
                            0.3333333333333333,
                            "#9c179e"
                          ],
                          [
                            0.4444444444444444,
                            "#bd3786"
                          ],
                          [
                            0.5555555555555556,
                            "#d8576b"
                          ],
                          [
                            0.6666666666666666,
                            "#ed7953"
                          ],
                          [
                            0.7777777777777778,
                            "#fb9f3a"
                          ],
                          [
                            0.8888888888888888,
                            "#fdca26"
                          ],
                          [
                            1,
                            "#f0f921"
                          ]
                        ],
                        "type": "histogram2dcontour"
                      }
                    ],
                    "mesh3d": [
                      {
                        "colorbar": {
                          "outlinewidth": 0,
                          "ticks": ""
                        },
                        "type": "mesh3d"
                      }
                    ],
                    "parcoords": [
                      {
                        "line": {
                          "colorbar": {
                            "outlinewidth": 0,
                            "ticks": ""
                          }
                        },
                        "type": "parcoords"
                      }
                    ],
                    "pie": [
                      {
                        "automargin": true,
                        "type": "pie"
                      }
                    ],
                    "scatter": [
                      {
                        "fillpattern": {
                          "fillmode": "overlay",
                          "size": 10,
                          "solidity": 0.2
                        },
                        "type": "scatter"
                      }
                    ],
                    "scatter3d": [
                      {
                        "line": {
                          "colorbar": {
                            "outlinewidth": 0,
                            "ticks": ""
                          }
                        },
                        "marker": {
                          "colorbar": {
                            "outlinewidth": 0,
                            "ticks": ""
                          }
                        },
                        "type": "scatter3d"
                      }
                    ],
                    "scattercarpet": [
                      {
                        "marker": {
                          "colorbar": {
                            "outlinewidth": 0,
                            "ticks": ""
                          }
                        },
                        "type": "scattercarpet"
                      }
                    ],
                    "scattergeo": [
                      {
                        "marker": {
                          "colorbar": {
                            "outlinewidth": 0,
                            "ticks": ""
                          }
                        },
                        "type": "scattergeo"
                      }
                    ],
                    "scattergl": [
                      {
                        "marker": {
                          "colorbar": {
                            "outlinewidth": 0,
                            "ticks": ""
                          }
                        },
                        "type": "scattergl"
                      }
                    ],
                    "scattermapbox": [
                      {
                        "marker": {
                          "colorbar": {
                            "outlinewidth": 0,
                            "ticks": ""
                          }
                        },
                        "type": "scattermapbox"
                      }
                    ],
                    "scatterpolar": [
                      {
                        "marker": {
                          "colorbar": {
                            "outlinewidth": 0,
                            "ticks": ""
                          }
                        },
                        "type": "scatterpolar"
                      }
                    ],
                    "scatterpolargl": [
                      {
                        "marker": {
                          "colorbar": {
                            "outlinewidth": 0,
                            "ticks": ""
                          }
                        },
                        "type": "scatterpolargl"
                      }
                    ],
                    "scatterternary": [
                      {
                        "marker": {
                          "colorbar": {
                            "outlinewidth": 0,
                            "ticks": ""
                          }
                        },
                        "type": "scatterternary"
                      }
                    ],
                    "surface": [
                      {
                        "colorbar": {
                          "outlinewidth": 0,
                          "ticks": ""
                        },
                        "colorscale": [
                          [
                            0,
                            "#0d0887"
                          ],
                          [
                            0.1111111111111111,
                            "#46039f"
                          ],
                          [
                            0.2222222222222222,
                            "#7201a8"
                          ],
                          [
                            0.3333333333333333,
                            "#9c179e"
                          ],
                          [
                            0.4444444444444444,
                            "#bd3786"
                          ],
                          [
                            0.5555555555555556,
                            "#d8576b"
                          ],
                          [
                            0.6666666666666666,
                            "#ed7953"
                          ],
                          [
                            0.7777777777777778,
                            "#fb9f3a"
                          ],
                          [
                            0.8888888888888888,
                            "#fdca26"
                          ],
                          [
                            1,
                            "#f0f921"
                          ]
                        ],
                        "type": "surface"
                      }
                    ],
                    "table": [
                      {
                        "cells": {
                          "fill": {
                            "color": "#EBF0F8"
                          },
                          "line": {
                            "color": "white"
                          }
                        },
                        "header": {
                          "fill": {
                            "color": "#C8D4E3"
                          },
                          "line": {
                            "color": "white"
                          }
                        },
                        "type": "table"
                      }
                    ]
                  },
                  "layout": {
                    "annotationdefaults": {
                      "arrowcolor": "#2a3f5f",
                      "arrowhead": 0,
                      "arrowwidth": 1
                    },
                    "autotypenumbers": "strict",
                    "coloraxis": {
                      "colorbar": {
                        "outlinewidth": 0,
                        "ticks": ""
                      }
                    },
                    "colorscale": {
                      "diverging": [
                        [
                          0,
                          "#8e0152"
                        ],
                        [
                          0.1,
                          "#c51b7d"
                        ],
                        [
                          0.2,
                          "#de77ae"
                        ],
                        [
                          0.3,
                          "#f1b6da"
                        ],
                        [
                          0.4,
                          "#fde0ef"
                        ],
                        [
                          0.5,
                          "#f7f7f7"
                        ],
                        [
                          0.6,
                          "#e6f5d0"
                        ],
                        [
                          0.7,
                          "#b8e186"
                        ],
                        [
                          0.8,
                          "#7fbc41"
                        ],
                        [
                          0.9,
                          "#4d9221"
                        ],
                        [
                          1,
                          "#276419"
                        ]
                      ],
                      "sequential": [
                        [
                          0,
                          "#0d0887"
                        ],
                        [
                          0.1111111111111111,
                          "#46039f"
                        ],
                        [
                          0.2222222222222222,
                          "#7201a8"
                        ],
                        [
                          0.3333333333333333,
                          "#9c179e"
                        ],
                        [
                          0.4444444444444444,
                          "#bd3786"
                        ],
                        [
                          0.5555555555555556,
                          "#d8576b"
                        ],
                        [
                          0.6666666666666666,
                          "#ed7953"
                        ],
                        [
                          0.7777777777777778,
                          "#fb9f3a"
                        ],
                        [
                          0.8888888888888888,
                          "#fdca26"
                        ],
                        [
                          1,
                          "#f0f921"
                        ]
                      ],
                      "sequentialminus": [
                        [
                          0,
                          "#0d0887"
                        ],
                        [
                          0.1111111111111111,
                          "#46039f"
                        ],
                        [
                          0.2222222222222222,
                          "#7201a8"
                        ],
                        [
                          0.3333333333333333,
                          "#9c179e"
                        ],
                        [
                          0.4444444444444444,
                          "#bd3786"
                        ],
                        [
                          0.5555555555555556,
                          "#d8576b"
                        ],
                        [
                          0.6666666666666666,
                          "#ed7953"
                        ],
                        [
                          0.7777777777777778,
                          "#fb9f3a"
                        ],
                        [
                          0.8888888888888888,
                          "#fdca26"
                        ],
                        [
                          1,
                          "#f0f921"
                        ]
                      ]
                    },
                    "colorway": [
                      "#636efa",
                      "#EF553B",
                      "#00cc96",
                      "#ab63fa",
                      "#FFA15A",
                      "#19d3f3",
                      "#FF6692",
                      "#B6E880",
                      "#FF97FF",
                      "#FECB52"
                    ],
                    "font": {
                      "color": "#2a3f5f"
                    },
                    "geo": {
                      "bgcolor": "white",
                      "lakecolor": "white",
                      "landcolor": "#E5ECF6",
                      "showlakes": true,
                      "showland": true,
                      "subunitcolor": "white"
                    },
                    "hoverlabel": {
                      "align": "left"
                    },
                    "hovermode": "closest",
                    "mapbox": {
                      "style": "light"
                    },
                    "paper_bgcolor": "white",
                    "plot_bgcolor": "#E5ECF6",
                    "polar": {
                      "angularaxis": {
                        "gridcolor": "white",
                        "linecolor": "white",
                        "ticks": ""
                      },
                      "bgcolor": "#E5ECF6",
                      "radialaxis": {
                        "gridcolor": "white",
                        "linecolor": "white",
                        "ticks": ""
                      }
                    },
                    "scene": {
                      "xaxis": {
                        "backgroundcolor": "#E5ECF6",
                        "gridcolor": "white",
                        "gridwidth": 2,
                        "linecolor": "white",
                        "showbackground": true,
                        "ticks": "",
                        "zerolinecolor": "white"
                      },
                      "yaxis": {
                        "backgroundcolor": "#E5ECF6",
                        "gridcolor": "white",
                        "gridwidth": 2,
                        "linecolor": "white",
                        "showbackground": true,
                        "ticks": "",
                        "zerolinecolor": "white"
                      },
                      "zaxis": {
                        "backgroundcolor": "#E5ECF6",
                        "gridcolor": "white",
                        "gridwidth": 2,
                        "linecolor": "white",
                        "showbackground": true,
                        "ticks": "",
                        "zerolinecolor": "white"
                      }
                    },
                    "shapedefaults": {
                      "line": {
                        "color": "#2a3f5f"
                      }
                    },
                    "ternary": {
                      "aaxis": {
                        "gridcolor": "white",
                        "linecolor": "white",
                        "ticks": ""
                      },
                      "baxis": {
                        "gridcolor": "white",
                        "linecolor": "white",
                        "ticks": ""
                      },
                      "bgcolor": "#E5ECF6",
                      "caxis": {
                        "gridcolor": "white",
                        "linecolor": "white",
                        "ticks": ""
                      }
                    },
                    "title": {
                      "x": 0.05
                    },
                    "xaxis": {
                      "automargin": true,
                      "gridcolor": "white",
                      "linecolor": "white",
                      "ticks": "",
                      "title": {
                        "standoff": 15
                      },
                      "zerolinecolor": "white",
                      "zerolinewidth": 2
                    },
                    "yaxis": {
                      "automargin": true,
                      "gridcolor": "white",
                      "linecolor": "white",
                      "ticks": "",
                      "title": {
                        "standoff": 15
                      },
                      "zerolinecolor": "white",
                      "zerolinewidth": 2
                    }
                  }
                },
                "title": {
                  "text": "Título del gráfico de líneas"
                },
                "xaxis": {
                  "anchor": "y",
                  "domain": [
                    0,
                    1
                  ],
                  "title": {
                    "text": "Tiempo"
                  }
                },
                "yaxis": {
                  "anchor": "x",
                  "domain": [
                    0,
                    1
                  ],
                  "title": {
                    "text": "Ventas"
                  }
                }
              }
            }
          },
          "metadata": {},
          "output_type": "display_data"
        }
      ],
      "source": [
        "fig = px.line(x = meses, y = total_ventas,\n",
        "    text= total_ventas,\n",
        "    title = \"Título del gráfico de líneas\",\n",
        "    labels = {'x': 'Tiempo', 'y':'Ventas'},\n",
        "                        markers = True)\n",
        "\n",
        "fig.show()"
      ]
    },
    {
      "cell_type": "markdown",
      "metadata": {},
      "source": [
        "# 2. Optimización de la publicidad y patrón de ventas por hora:"
      ]
    },
    {
      "cell_type": "markdown",
      "metadata": {},
      "source": [
        "¿Cómo cambian los patrones de ventas por hora a lo largo del año?"
      ]
    },
    {
      "cell_type": "code",
      "execution_count": 252,
      "metadata": {},
      "outputs": [
        {
          "data": {
            "application/vnd.plotly.v1+json": {
              "config": {
                "plotlyServerURL": "https://plot.ly"
              },
              "data": [
                {
                  "line": {
                    "shape": "spline",
                    "width": 2
                  },
                  "mode": "lines",
                  "name": "Enero",
                  "type": "scatter",
                  "x": [
                    0,
                    1,
                    2,
                    3,
                    4,
                    5,
                    6,
                    7,
                    8,
                    9,
                    10,
                    11,
                    12,
                    13,
                    14,
                    15,
                    16,
                    17,
                    18,
                    19,
                    20,
                    21,
                    22,
                    23
                  ],
                  "y": [
                    207,
                    111,
                    76,
                    34,
                    44,
                    73,
                    137,
                    179,
                    324,
                    493,
                    598,
                    655,
                    670,
                    607,
                    542,
                    545,
                    554,
                    508,
                    635,
                    657,
                    620,
                    576,
                    455,
                    375
                  ]
                },
                {
                  "line": {
                    "shape": "spline",
                    "width": 2
                  },
                  "mode": "lines",
                  "name": "Febrero",
                  "type": "scatter",
                  "x": [
                    0,
                    1,
                    2,
                    3,
                    4,
                    5,
                    6,
                    7,
                    8,
                    9,
                    10,
                    11,
                    12,
                    13,
                    14,
                    15,
                    16,
                    17,
                    18,
                    19,
                    20,
                    21,
                    22,
                    23
                  ],
                  "y": [
                    249,
                    153,
                    82,
                    56,
                    49,
                    82,
                    165,
                    243,
                    411,
                    589,
                    731,
                    755,
                    771,
                    782,
                    680,
                    659,
                    696,
                    740,
                    805,
                    804,
                    765,
                    745,
                    586,
                    371
                  ]
                },
                {
                  "line": {
                    "shape": "spline",
                    "width": 2
                  },
                  "mode": "lines",
                  "name": "Marzo",
                  "type": "scatter",
                  "x": [
                    0,
                    1,
                    2,
                    3,
                    4,
                    5,
                    6,
                    7,
                    8,
                    9,
                    10,
                    11,
                    12,
                    13,
                    14,
                    15,
                    16,
                    17,
                    18,
                    19,
                    20,
                    21,
                    22,
                    23
                  ],
                  "y": [
                    289,
                    178,
                    108,
                    67,
                    58,
                    108,
                    209,
                    325,
                    496,
                    690,
                    860,
                    1066,
                    1008,
                    1043,
                    890,
                    821,
                    859,
                    850,
                    1024,
                    1098,
                    989,
                    868,
                    726,
                    506
                  ]
                },
                {
                  "line": {
                    "shape": "spline",
                    "width": 2
                  },
                  "mode": "lines",
                  "name": "Abril",
                  "type": "scatter",
                  "x": [
                    0,
                    1,
                    2,
                    3,
                    4,
                    5,
                    6,
                    7,
                    8,
                    9,
                    10,
                    11,
                    12,
                    13,
                    14,
                    15,
                    16,
                    17,
                    18,
                    19,
                    20,
                    21,
                    22,
                    23
                  ],
                  "y": [
                    362,
                    240,
                    126,
                    84,
                    83,
                    143,
                    254,
                    384,
                    643,
                    869,
                    1134,
                    1201,
                    1201,
                    1192,
                    1112,
                    986,
                    1054,
                    1013,
                    1227,
                    1286,
                    1201,
                    1018,
                    849,
                    599
                  ]
                },
                {
                  "line": {
                    "shape": "spline",
                    "width": 2
                  },
                  "mode": "lines",
                  "name": "Mayo",
                  "type": "scatter",
                  "x": [
                    0,
                    1,
                    2,
                    3,
                    4,
                    5,
                    6,
                    7,
                    8,
                    9,
                    10,
                    11,
                    12,
                    13,
                    14,
                    15,
                    16,
                    17,
                    18,
                    19,
                    20,
                    21,
                    22,
                    23
                  ],
                  "y": [
                    342,
                    196,
                    111,
                    60,
                    75,
                    104,
                    198,
                    353,
                    600,
                    810,
                    974,
                    1058,
                    1201,
                    1057,
                    1004,
                    832,
                    882,
                    993,
                    1108,
                    1165,
                    1142,
                    948,
                    772,
                    553
                  ]
                },
                {
                  "line": {
                    "shape": "spline",
                    "width": 2
                  },
                  "mode": "lines",
                  "name": "Junio",
                  "type": "scatter",
                  "x": [
                    0,
                    1,
                    2,
                    3,
                    4,
                    5,
                    6,
                    7,
                    8,
                    9,
                    10,
                    11,
                    12,
                    13,
                    14,
                    15,
                    16,
                    17,
                    18,
                    19,
                    20,
                    21,
                    22,
                    23
                  ],
                  "y": [
                    294,
                    161,
                    74,
                    65,
                    65,
                    79,
                    164,
                    279,
                    474,
                    658,
                    799,
                    927,
                    889,
                    878,
                    788,
                    772,
                    740,
                    807,
                    918,
                    885,
                    901,
                    814,
                    655,
                    452
                  ]
                },
                {
                  "line": {
                    "shape": "spline",
                    "width": 2
                  },
                  "mode": "lines",
                  "name": "Julio",
                  "type": "scatter",
                  "x": [
                    0,
                    1,
                    2,
                    3,
                    4,
                    5,
                    6,
                    7,
                    8,
                    9,
                    10,
                    11,
                    12,
                    13,
                    14,
                    15,
                    16,
                    17,
                    18,
                    19,
                    20,
                    21,
                    22,
                    23
                  ],
                  "y": [
                    311,
                    164,
                    78,
                    61,
                    67,
                    108,
                    170,
                    329,
                    503,
                    687,
                    789,
                    996,
                    964,
                    894,
                    835,
                    778,
                    777,
                    904,
                    916,
                    954,
                    953,
                    859,
                    695,
                    483
                  ]
                },
                {
                  "line": {
                    "shape": "spline",
                    "width": 2
                  },
                  "mode": "lines",
                  "name": "Agosto",
                  "type": "scatter",
                  "x": [
                    0,
                    1,
                    2,
                    3,
                    4,
                    5,
                    6,
                    7,
                    8,
                    9,
                    10,
                    11,
                    12,
                    13,
                    14,
                    15,
                    16,
                    17,
                    18,
                    19,
                    20,
                    21,
                    22,
                    23
                  ],
                  "y": [
                    244,
                    134,
                    82,
                    53,
                    53,
                    97,
                    175,
                    293,
                    410,
                    524,
                    695,
                    792,
                    799,
                    769,
                    700,
                    707,
                    673,
                    670,
                    754,
                    834,
                    824,
                    669,
                    594,
                    400
                  ]
                },
                {
                  "line": {
                    "shape": "spline",
                    "width": 2
                  },
                  "mode": "lines",
                  "name": "Septiembre",
                  "type": "scatter",
                  "x": [
                    0,
                    1,
                    2,
                    3,
                    4,
                    5,
                    6,
                    7,
                    8,
                    9,
                    10,
                    11,
                    12,
                    13,
                    14,
                    15,
                    16,
                    17,
                    18,
                    19,
                    20,
                    21,
                    22,
                    23
                  ],
                  "y": [
                    251,
                    158,
                    76,
                    53,
                    38,
                    89,
                    144,
                    217,
                    375,
                    563,
                    630,
                    761,
                    775,
                    764,
                    732,
                    608,
                    622,
                    735,
                    745,
                    793,
                    722,
                    752,
                    586,
                    420
                  ]
                },
                {
                  "line": {
                    "shape": "spline",
                    "width": 2
                  },
                  "mode": "lines",
                  "name": "Octubre",
                  "type": "scatter",
                  "x": [
                    0,
                    1,
                    2,
                    3,
                    4,
                    5,
                    6,
                    7,
                    8,
                    9,
                    10,
                    11,
                    12,
                    13,
                    14,
                    15,
                    16,
                    17,
                    18,
                    19,
                    20,
                    21,
                    22,
                    23
                  ],
                  "y": [
                    421,
                    261,
                    133,
                    88,
                    110,
                    138,
                    289,
                    449,
                    653,
                    944,
                    1249,
                    1379,
                    1425,
                    1313,
                    1168,
                    1114,
                    1203,
                    1146,
                    1296,
                    1446,
                    1279,
                    1204,
                    916,
                    638
                  ]
                },
                {
                  "line": {
                    "shape": "spline",
                    "width": 2
                  },
                  "mode": "lines",
                  "name": "Noviembre",
                  "type": "scatter",
                  "x": [
                    0,
                    1,
                    2,
                    3,
                    4,
                    5,
                    6,
                    7,
                    8,
                    9,
                    10,
                    11,
                    12,
                    13,
                    14,
                    15,
                    16,
                    17,
                    18,
                    19,
                    20,
                    21,
                    22,
                    23
                  ],
                  "y": [
                    359,
                    215,
                    104,
                    82,
                    75,
                    108,
                    245,
                    375,
                    534,
                    794,
                    975,
                    1164,
                    1191,
                    1189,
                    1041,
                    952,
                    989,
                    1102,
                    1185,
                    1192,
                    1197,
                    1052,
                    810,
                    621
                  ]
                },
                {
                  "line": {
                    "shape": "spline",
                    "width": 2
                  },
                  "mode": "lines",
                  "name": "Diciembre",
                  "type": "scatter",
                  "x": [
                    0,
                    1,
                    2,
                    3,
                    4,
                    5,
                    6,
                    7,
                    8,
                    9,
                    10,
                    11,
                    12,
                    13,
                    14,
                    15,
                    16,
                    17,
                    18,
                    19,
                    20,
                    21,
                    22,
                    23
                  ],
                  "y": [
                    485,
                    311,
                    151,
                    111,
                    127,
                    189,
                    332,
                    585,
                    833,
                    1127,
                    1510,
                    1657,
                    1693,
                    1641,
                    1492,
                    1401,
                    1335,
                    1431,
                    1667,
                    1791,
                    1635,
                    1416,
                    1178,
                    857
                  ]
                }
              ],
              "layout": {
                "legend": {
                  "y": 0.3,
                  "yanchor": "bottom"
                },
                "template": {
                  "data": {
                    "bar": [
                      {
                        "error_x": {
                          "color": "#2a3f5f"
                        },
                        "error_y": {
                          "color": "#2a3f5f"
                        },
                        "marker": {
                          "line": {
                            "color": "#E5ECF6",
                            "width": 0.5
                          },
                          "pattern": {
                            "fillmode": "overlay",
                            "size": 10,
                            "solidity": 0.2
                          }
                        },
                        "type": "bar"
                      }
                    ],
                    "barpolar": [
                      {
                        "marker": {
                          "line": {
                            "color": "#E5ECF6",
                            "width": 0.5
                          },
                          "pattern": {
                            "fillmode": "overlay",
                            "size": 10,
                            "solidity": 0.2
                          }
                        },
                        "type": "barpolar"
                      }
                    ],
                    "carpet": [
                      {
                        "aaxis": {
                          "endlinecolor": "#2a3f5f",
                          "gridcolor": "white",
                          "linecolor": "white",
                          "minorgridcolor": "white",
                          "startlinecolor": "#2a3f5f"
                        },
                        "baxis": {
                          "endlinecolor": "#2a3f5f",
                          "gridcolor": "white",
                          "linecolor": "white",
                          "minorgridcolor": "white",
                          "startlinecolor": "#2a3f5f"
                        },
                        "type": "carpet"
                      }
                    ],
                    "choropleth": [
                      {
                        "colorbar": {
                          "outlinewidth": 0,
                          "ticks": ""
                        },
                        "type": "choropleth"
                      }
                    ],
                    "contour": [
                      {
                        "colorbar": {
                          "outlinewidth": 0,
                          "ticks": ""
                        },
                        "colorscale": [
                          [
                            0,
                            "#0d0887"
                          ],
                          [
                            0.1111111111111111,
                            "#46039f"
                          ],
                          [
                            0.2222222222222222,
                            "#7201a8"
                          ],
                          [
                            0.3333333333333333,
                            "#9c179e"
                          ],
                          [
                            0.4444444444444444,
                            "#bd3786"
                          ],
                          [
                            0.5555555555555556,
                            "#d8576b"
                          ],
                          [
                            0.6666666666666666,
                            "#ed7953"
                          ],
                          [
                            0.7777777777777778,
                            "#fb9f3a"
                          ],
                          [
                            0.8888888888888888,
                            "#fdca26"
                          ],
                          [
                            1,
                            "#f0f921"
                          ]
                        ],
                        "type": "contour"
                      }
                    ],
                    "contourcarpet": [
                      {
                        "colorbar": {
                          "outlinewidth": 0,
                          "ticks": ""
                        },
                        "type": "contourcarpet"
                      }
                    ],
                    "heatmap": [
                      {
                        "colorbar": {
                          "outlinewidth": 0,
                          "ticks": ""
                        },
                        "colorscale": [
                          [
                            0,
                            "#0d0887"
                          ],
                          [
                            0.1111111111111111,
                            "#46039f"
                          ],
                          [
                            0.2222222222222222,
                            "#7201a8"
                          ],
                          [
                            0.3333333333333333,
                            "#9c179e"
                          ],
                          [
                            0.4444444444444444,
                            "#bd3786"
                          ],
                          [
                            0.5555555555555556,
                            "#d8576b"
                          ],
                          [
                            0.6666666666666666,
                            "#ed7953"
                          ],
                          [
                            0.7777777777777778,
                            "#fb9f3a"
                          ],
                          [
                            0.8888888888888888,
                            "#fdca26"
                          ],
                          [
                            1,
                            "#f0f921"
                          ]
                        ],
                        "type": "heatmap"
                      }
                    ],
                    "heatmapgl": [
                      {
                        "colorbar": {
                          "outlinewidth": 0,
                          "ticks": ""
                        },
                        "colorscale": [
                          [
                            0,
                            "#0d0887"
                          ],
                          [
                            0.1111111111111111,
                            "#46039f"
                          ],
                          [
                            0.2222222222222222,
                            "#7201a8"
                          ],
                          [
                            0.3333333333333333,
                            "#9c179e"
                          ],
                          [
                            0.4444444444444444,
                            "#bd3786"
                          ],
                          [
                            0.5555555555555556,
                            "#d8576b"
                          ],
                          [
                            0.6666666666666666,
                            "#ed7953"
                          ],
                          [
                            0.7777777777777778,
                            "#fb9f3a"
                          ],
                          [
                            0.8888888888888888,
                            "#fdca26"
                          ],
                          [
                            1,
                            "#f0f921"
                          ]
                        ],
                        "type": "heatmapgl"
                      }
                    ],
                    "histogram": [
                      {
                        "marker": {
                          "pattern": {
                            "fillmode": "overlay",
                            "size": 10,
                            "solidity": 0.2
                          }
                        },
                        "type": "histogram"
                      }
                    ],
                    "histogram2d": [
                      {
                        "colorbar": {
                          "outlinewidth": 0,
                          "ticks": ""
                        },
                        "colorscale": [
                          [
                            0,
                            "#0d0887"
                          ],
                          [
                            0.1111111111111111,
                            "#46039f"
                          ],
                          [
                            0.2222222222222222,
                            "#7201a8"
                          ],
                          [
                            0.3333333333333333,
                            "#9c179e"
                          ],
                          [
                            0.4444444444444444,
                            "#bd3786"
                          ],
                          [
                            0.5555555555555556,
                            "#d8576b"
                          ],
                          [
                            0.6666666666666666,
                            "#ed7953"
                          ],
                          [
                            0.7777777777777778,
                            "#fb9f3a"
                          ],
                          [
                            0.8888888888888888,
                            "#fdca26"
                          ],
                          [
                            1,
                            "#f0f921"
                          ]
                        ],
                        "type": "histogram2d"
                      }
                    ],
                    "histogram2dcontour": [
                      {
                        "colorbar": {
                          "outlinewidth": 0,
                          "ticks": ""
                        },
                        "colorscale": [
                          [
                            0,
                            "#0d0887"
                          ],
                          [
                            0.1111111111111111,
                            "#46039f"
                          ],
                          [
                            0.2222222222222222,
                            "#7201a8"
                          ],
                          [
                            0.3333333333333333,
                            "#9c179e"
                          ],
                          [
                            0.4444444444444444,
                            "#bd3786"
                          ],
                          [
                            0.5555555555555556,
                            "#d8576b"
                          ],
                          [
                            0.6666666666666666,
                            "#ed7953"
                          ],
                          [
                            0.7777777777777778,
                            "#fb9f3a"
                          ],
                          [
                            0.8888888888888888,
                            "#fdca26"
                          ],
                          [
                            1,
                            "#f0f921"
                          ]
                        ],
                        "type": "histogram2dcontour"
                      }
                    ],
                    "mesh3d": [
                      {
                        "colorbar": {
                          "outlinewidth": 0,
                          "ticks": ""
                        },
                        "type": "mesh3d"
                      }
                    ],
                    "parcoords": [
                      {
                        "line": {
                          "colorbar": {
                            "outlinewidth": 0,
                            "ticks": ""
                          }
                        },
                        "type": "parcoords"
                      }
                    ],
                    "pie": [
                      {
                        "automargin": true,
                        "type": "pie"
                      }
                    ],
                    "scatter": [
                      {
                        "fillpattern": {
                          "fillmode": "overlay",
                          "size": 10,
                          "solidity": 0.2
                        },
                        "type": "scatter"
                      }
                    ],
                    "scatter3d": [
                      {
                        "line": {
                          "colorbar": {
                            "outlinewidth": 0,
                            "ticks": ""
                          }
                        },
                        "marker": {
                          "colorbar": {
                            "outlinewidth": 0,
                            "ticks": ""
                          }
                        },
                        "type": "scatter3d"
                      }
                    ],
                    "scattercarpet": [
                      {
                        "marker": {
                          "colorbar": {
                            "outlinewidth": 0,
                            "ticks": ""
                          }
                        },
                        "type": "scattercarpet"
                      }
                    ],
                    "scattergeo": [
                      {
                        "marker": {
                          "colorbar": {
                            "outlinewidth": 0,
                            "ticks": ""
                          }
                        },
                        "type": "scattergeo"
                      }
                    ],
                    "scattergl": [
                      {
                        "marker": {
                          "colorbar": {
                            "outlinewidth": 0,
                            "ticks": ""
                          }
                        },
                        "type": "scattergl"
                      }
                    ],
                    "scattermapbox": [
                      {
                        "marker": {
                          "colorbar": {
                            "outlinewidth": 0,
                            "ticks": ""
                          }
                        },
                        "type": "scattermapbox"
                      }
                    ],
                    "scatterpolar": [
                      {
                        "marker": {
                          "colorbar": {
                            "outlinewidth": 0,
                            "ticks": ""
                          }
                        },
                        "type": "scatterpolar"
                      }
                    ],
                    "scatterpolargl": [
                      {
                        "marker": {
                          "colorbar": {
                            "outlinewidth": 0,
                            "ticks": ""
                          }
                        },
                        "type": "scatterpolargl"
                      }
                    ],
                    "scatterternary": [
                      {
                        "marker": {
                          "colorbar": {
                            "outlinewidth": 0,
                            "ticks": ""
                          }
                        },
                        "type": "scatterternary"
                      }
                    ],
                    "surface": [
                      {
                        "colorbar": {
                          "outlinewidth": 0,
                          "ticks": ""
                        },
                        "colorscale": [
                          [
                            0,
                            "#0d0887"
                          ],
                          [
                            0.1111111111111111,
                            "#46039f"
                          ],
                          [
                            0.2222222222222222,
                            "#7201a8"
                          ],
                          [
                            0.3333333333333333,
                            "#9c179e"
                          ],
                          [
                            0.4444444444444444,
                            "#bd3786"
                          ],
                          [
                            0.5555555555555556,
                            "#d8576b"
                          ],
                          [
                            0.6666666666666666,
                            "#ed7953"
                          ],
                          [
                            0.7777777777777778,
                            "#fb9f3a"
                          ],
                          [
                            0.8888888888888888,
                            "#fdca26"
                          ],
                          [
                            1,
                            "#f0f921"
                          ]
                        ],
                        "type": "surface"
                      }
                    ],
                    "table": [
                      {
                        "cells": {
                          "fill": {
                            "color": "#EBF0F8"
                          },
                          "line": {
                            "color": "white"
                          }
                        },
                        "header": {
                          "fill": {
                            "color": "#C8D4E3"
                          },
                          "line": {
                            "color": "white"
                          }
                        },
                        "type": "table"
                      }
                    ]
                  },
                  "layout": {
                    "annotationdefaults": {
                      "arrowcolor": "#2a3f5f",
                      "arrowhead": 0,
                      "arrowwidth": 1
                    },
                    "autotypenumbers": "strict",
                    "coloraxis": {
                      "colorbar": {
                        "outlinewidth": 0,
                        "ticks": ""
                      }
                    },
                    "colorscale": {
                      "diverging": [
                        [
                          0,
                          "#8e0152"
                        ],
                        [
                          0.1,
                          "#c51b7d"
                        ],
                        [
                          0.2,
                          "#de77ae"
                        ],
                        [
                          0.3,
                          "#f1b6da"
                        ],
                        [
                          0.4,
                          "#fde0ef"
                        ],
                        [
                          0.5,
                          "#f7f7f7"
                        ],
                        [
                          0.6,
                          "#e6f5d0"
                        ],
                        [
                          0.7,
                          "#b8e186"
                        ],
                        [
                          0.8,
                          "#7fbc41"
                        ],
                        [
                          0.9,
                          "#4d9221"
                        ],
                        [
                          1,
                          "#276419"
                        ]
                      ],
                      "sequential": [
                        [
                          0,
                          "#0d0887"
                        ],
                        [
                          0.1111111111111111,
                          "#46039f"
                        ],
                        [
                          0.2222222222222222,
                          "#7201a8"
                        ],
                        [
                          0.3333333333333333,
                          "#9c179e"
                        ],
                        [
                          0.4444444444444444,
                          "#bd3786"
                        ],
                        [
                          0.5555555555555556,
                          "#d8576b"
                        ],
                        [
                          0.6666666666666666,
                          "#ed7953"
                        ],
                        [
                          0.7777777777777778,
                          "#fb9f3a"
                        ],
                        [
                          0.8888888888888888,
                          "#fdca26"
                        ],
                        [
                          1,
                          "#f0f921"
                        ]
                      ],
                      "sequentialminus": [
                        [
                          0,
                          "#0d0887"
                        ],
                        [
                          0.1111111111111111,
                          "#46039f"
                        ],
                        [
                          0.2222222222222222,
                          "#7201a8"
                        ],
                        [
                          0.3333333333333333,
                          "#9c179e"
                        ],
                        [
                          0.4444444444444444,
                          "#bd3786"
                        ],
                        [
                          0.5555555555555556,
                          "#d8576b"
                        ],
                        [
                          0.6666666666666666,
                          "#ed7953"
                        ],
                        [
                          0.7777777777777778,
                          "#fb9f3a"
                        ],
                        [
                          0.8888888888888888,
                          "#fdca26"
                        ],
                        [
                          1,
                          "#f0f921"
                        ]
                      ]
                    },
                    "colorway": [
                      "#636efa",
                      "#EF553B",
                      "#00cc96",
                      "#ab63fa",
                      "#FFA15A",
                      "#19d3f3",
                      "#FF6692",
                      "#B6E880",
                      "#FF97FF",
                      "#FECB52"
                    ],
                    "font": {
                      "color": "#2a3f5f"
                    },
                    "geo": {
                      "bgcolor": "white",
                      "lakecolor": "white",
                      "landcolor": "#E5ECF6",
                      "showlakes": true,
                      "showland": true,
                      "subunitcolor": "white"
                    },
                    "hoverlabel": {
                      "align": "left"
                    },
                    "hovermode": "closest",
                    "mapbox": {
                      "style": "light"
                    },
                    "paper_bgcolor": "white",
                    "plot_bgcolor": "#E5ECF6",
                    "polar": {
                      "angularaxis": {
                        "gridcolor": "white",
                        "linecolor": "white",
                        "ticks": ""
                      },
                      "bgcolor": "#E5ECF6",
                      "radialaxis": {
                        "gridcolor": "white",
                        "linecolor": "white",
                        "ticks": ""
                      }
                    },
                    "scene": {
                      "xaxis": {
                        "backgroundcolor": "#E5ECF6",
                        "gridcolor": "white",
                        "gridwidth": 2,
                        "linecolor": "white",
                        "showbackground": true,
                        "ticks": "",
                        "zerolinecolor": "white"
                      },
                      "yaxis": {
                        "backgroundcolor": "#E5ECF6",
                        "gridcolor": "white",
                        "gridwidth": 2,
                        "linecolor": "white",
                        "showbackground": true,
                        "ticks": "",
                        "zerolinecolor": "white"
                      },
                      "zaxis": {
                        "backgroundcolor": "#E5ECF6",
                        "gridcolor": "white",
                        "gridwidth": 2,
                        "linecolor": "white",
                        "showbackground": true,
                        "ticks": "",
                        "zerolinecolor": "white"
                      }
                    },
                    "shapedefaults": {
                      "line": {
                        "color": "#2a3f5f"
                      }
                    },
                    "ternary": {
                      "aaxis": {
                        "gridcolor": "white",
                        "linecolor": "white",
                        "ticks": ""
                      },
                      "baxis": {
                        "gridcolor": "white",
                        "linecolor": "white",
                        "ticks": ""
                      },
                      "bgcolor": "#E5ECF6",
                      "caxis": {
                        "gridcolor": "white",
                        "linecolor": "white",
                        "ticks": ""
                      }
                    },
                    "title": {
                      "x": 0.05
                    },
                    "xaxis": {
                      "automargin": true,
                      "gridcolor": "white",
                      "linecolor": "white",
                      "ticks": "",
                      "title": {
                        "standoff": 15
                      },
                      "zerolinecolor": "white",
                      "zerolinewidth": 2
                    },
                    "yaxis": {
                      "automargin": true,
                      "gridcolor": "white",
                      "linecolor": "white",
                      "ticks": "",
                      "title": {
                        "standoff": 15
                      },
                      "zerolinecolor": "white",
                      "zerolinewidth": 2
                    }
                  }
                },
                "title": {
                  "text": "Unidades vendidas por hora en diferentes meses"
                },
                "xaxis": {
                  "tickvals": [
                    0,
                    1,
                    2,
                    3,
                    4,
                    5,
                    6,
                    7,
                    8,
                    9,
                    10,
                    11,
                    12,
                    13,
                    14,
                    15,
                    16,
                    17,
                    18,
                    19,
                    20,
                    21,
                    22,
                    23
                  ],
                  "title": {
                    "text": "Hora"
                  }
                },
                "yaxis": {
                  "side": "left",
                  "title": {
                    "text": "Unidades vendidas"
                  }
                }
              }
            }
          },
          "metadata": {},
          "output_type": "display_data"
        }
      ],
      "source": [
        "# Crear una lista de las horas del día (0 a 23)\n",
        "Horas = list(range(24))\n",
        "\n",
        "# Crear un objeto figura para el gráfico\n",
        "fig = go.Figure()\n",
        "\n",
        "# Lista para almacenar los datos de ventas por hora de cada mes\n",
        "ventas_por_hora_por_mes = []\n",
        "\n",
        "# Iterar a través de cada mes en la lista 'meses'\n",
        "for mes in meses:\n",
        "    # Obtener el DataFrame correspondiente al mes\n",
        "    dataframe_mes = df_extraidos[mes]\n",
        "        \n",
        "    # Calcular el número de ventas por hora para este mes y almacenarlo en 'Ventas_por_hora'\n",
        "    Ventas_por_hora = dataframe_mes.groupby('Hora')['Cantidad Pedida'].count()\n",
        "    \n",
        "    # Agregar los datos de ventas por hora de este mes a la lista 'ventas_por_hora_por_mes'\n",
        "    ventas_por_hora_por_mes.append(Ventas_por_hora)\n",
        "\n",
        "# Iterar sobre la lista de datos y agregar cada mes al objeto figura 'fig'\n",
        "for i, mes in enumerate(meses):\n",
        "    fig.add_trace(go.Scatter(\n",
        "        x=Horas,  # Eje X: Horas del día\n",
        "        y=ventas_por_hora_por_mes[i],  # Eje Y: Datos de ventas por hora para este mes\n",
        "        mode='lines',  # Tipo de gráfico: líneas\n",
        "        name=mes,  # Etiqueta para la leyenda del gráfico\n",
        "        line=dict(width=2, shape='spline'),  # Configuración de las líneas del gráfico\n",
        "    ))\n",
        "\n",
        "# Configurar los ejes y los títulos del gráfico\n",
        "fig.update_layout(\n",
        "    title=\"Unidades vendidas por hora en diferentes meses\",  # Título del gráfico\n",
        "    xaxis=dict(title=\"Hora\", tickvals=Horas),  # Configuración del eje X\n",
        "    yaxis=dict(title=\"Unidades vendidas\", side=\"left\"),  # Configuración del eje Y\n",
        "    legend=dict(y=0.3, yanchor='bottom'),  # Configuración de la leyenda\n",
        ")\n",
        "\n",
        "# Mostrar el gráfico\n",
        "fig.show()"
      ]
    },
    {
      "cell_type": "markdown",
      "metadata": {},
      "source": [
        "3. Distribución de ventas por ubicación:\n",
        "\n"
      ]
    },
    {
      "cell_type": "markdown",
      "metadata": {},
      "source": [
        "¿En qué ciudades se han registrado las mayores ventas?"
      ]
    },
    {
      "cell_type": "code",
      "execution_count": null,
      "metadata": {},
      "outputs": [],
      "source": [
        "def extraer_datos(datos):\n",
        "  datos['Fecha de Pedido'] = pd.to_datetime(datos['Fecha de Pedido'])\n",
        "  datos['Hora'] = datos['Fecha de Pedido'].dt.hour\n",
        "  datos['Dia'] = datos['Fecha de Pedido'].dt.day\n",
        "  return datos\n"
      ]
    },
    {
      "cell_type": "code",
      "execution_count": null,
      "metadata": {},
      "outputs": [],
      "source": [
        "totales_ventas = []\n",
        "nombres_meses = []\n",
        "\n",
        "\n",
        "for mes in meses:\n",
        "    dataframe_mes = dataframes[mes]\n",
        "    dataframe_mes = extraer_datos(dataframe_mes)\n",
        "\n",
        "    total_ventas_mes = dataframe_mes['Cantidad Pedida'].sum()\n",
        "    totales_ventas.append(total_ventas_mes)\n",
        "    nombres_meses.append(mes)"
      ]
    },
    {
      "cell_type": "code",
      "execution_count": null,
      "metadata": {},
      "outputs": [],
      "source": [
        "fig = go.Figure()\n",
        "for mes in meses:\n",
        "    dataframe_mes = dataframes[mes]\n",
        "    dataframe_mes = extraer_datos(dataframe_mes)\n",
        "    direccion = dataframe_mes['Dirección de Envio'].str.split(', ', expand=True)\n",
        "    direccion.columns = ['Calle', 'Ciudad', 'Cod Postal Estado']\n",
        "    direccion[['Estado', 'Cod Postal']] = direccion['Cod Postal Estado'].str.split(' ', expand=True)\n",
        "    dataframe_ventas = pd.concat([dataframe_mes, direccion], axis= 1)\n",
        "\n",
        "    dataframe_ventas['Precio Venta'] = dataframe_ventas['Cantidad Pedida'] * dataframe_ventas['Precio Unitario']\n",
        "\n",
        "\n",
        "    ventas_ciudad = dataframe_ventas.groupby('Ciudad').agg({'Cantidad Pedida': 'sum', 'Precio Venta': 'sum'}).reset_index()\n",
        "    ventas_ciudad=ventas_ciudad.sort_values(by='Precio Venta',ascending=False)\n",
        "\n",
        "    Ciudades = ventas_ciudad['Ciudad'].values\n",
        "    Unidades = ventas_ciudad['Cantidad Pedida'].values\n",
        "    Precios = ventas_ciudad['Precio Venta'].values\n",
        "\n",
        "    fig.add_trace(go.Bar(\n",
        "\n",
        "        x= Ciudades,\n",
        "        y= Unidades,\n",
        "        yaxis=\"y\",\n",
        "        name=mes,\n",
        "        marker=dict(color=\"light blue\")))\n",
        "\n",
        "fig.update_layout(\n",
        "\n",
        "        title=\"Ventas por Cuidades\",\n",
        "        xaxis=dict(title=\"Producto\"),\n",
        "        yaxis=dict(title=\"Unidades vendidas\", side=\"left\"),\n",
        "        yaxis2=dict(title=\"Precio\", overlaying=\"y\", side=\"right\"),\n",
        "        yaxis_range=[0, max(Unidades) * 1.1],\n",
        "        yaxis2_range=[0, max(Precios) * 1.1])\n"
      ]
    },
    {
      "cell_type": "code",
      "execution_count": 185,
      "metadata": {},
      "outputs": [
        {
          "data": {
            "text/html": [
              "<div>\n",
              "<style scoped>\n",
              "    .dataframe tbody tr th:only-of-type {\n",
              "        vertical-align: middle;\n",
              "    }\n",
              "\n",
              "    .dataframe tbody tr th {\n",
              "        vertical-align: top;\n",
              "    }\n",
              "\n",
              "    .dataframe thead th {\n",
              "        text-align: right;\n",
              "    }\n",
              "</style>\n",
              "<table border=\"1\" class=\"dataframe\">\n",
              "  <thead>\n",
              "    <tr style=\"text-align: right;\">\n",
              "      <th></th>\n",
              "      <th>ID de Pedido</th>\n",
              "      <th>Producto</th>\n",
              "      <th>Cantidad Pedida</th>\n",
              "      <th>Precio Unitario</th>\n",
              "      <th>Fecha de Pedido</th>\n",
              "      <th>Dirección de Envio</th>\n",
              "      <th>dia_mes</th>\n",
              "      <th>Hora</th>\n",
              "      <th>Dia</th>\n",
              "      <th>mes</th>\n",
              "      <th>año</th>\n",
              "      <th>strDia</th>\n",
              "    </tr>\n",
              "  </thead>\n",
              "  <tbody>\n",
              "    <tr>\n",
              "      <th>0</th>\n",
              "      <td>295665</td>\n",
              "      <td>Macbook Pro Laptop</td>\n",
              "      <td>1</td>\n",
              "      <td>1700.00</td>\n",
              "      <td>2019-12-30 00:01:00</td>\n",
              "      <td>136 Church St, New York City, NY 10001</td>\n",
              "      <td>30-12</td>\n",
              "      <td>0</td>\n",
              "      <td>30</td>\n",
              "      <td>12</td>\n",
              "      <td>2019</td>\n",
              "      <td>Lunes</td>\n",
              "    </tr>\n",
              "    <tr>\n",
              "      <th>1</th>\n",
              "      <td>302751</td>\n",
              "      <td>iPhone</td>\n",
              "      <td>1</td>\n",
              "      <td>700.00</td>\n",
              "      <td>2019-12-02 14:29:00</td>\n",
              "      <td>158 Washington St, San Francisco, CA 94016</td>\n",
              "      <td>02-12</td>\n",
              "      <td>14</td>\n",
              "      <td>2</td>\n",
              "      <td>12</td>\n",
              "      <td>2019</td>\n",
              "      <td>Lunes</td>\n",
              "    </tr>\n",
              "    <tr>\n",
              "      <th>2</th>\n",
              "      <td>302742</td>\n",
              "      <td>AA Batteries (4-pack)</td>\n",
              "      <td>1</td>\n",
              "      <td>3.84</td>\n",
              "      <td>2019-12-02 08:38:00</td>\n",
              "      <td>722 River St, New York City, NY 10001</td>\n",
              "      <td>02-12</td>\n",
              "      <td>8</td>\n",
              "      <td>2</td>\n",
              "      <td>12</td>\n",
              "      <td>2019</td>\n",
              "      <td>Lunes</td>\n",
              "    </tr>\n",
              "    <tr>\n",
              "      <th>3</th>\n",
              "      <td>315482</td>\n",
              "      <td>Wired Headphones</td>\n",
              "      <td>1</td>\n",
              "      <td>11.99</td>\n",
              "      <td>2019-12-02 18:46:00</td>\n",
              "      <td>693 Chestnut St, San Francisco, CA 94016</td>\n",
              "      <td>02-12</td>\n",
              "      <td>18</td>\n",
              "      <td>2</td>\n",
              "      <td>12</td>\n",
              "      <td>2019</td>\n",
              "      <td>Lunes</td>\n",
              "    </tr>\n",
              "    <tr>\n",
              "      <th>4</th>\n",
              "      <td>302722</td>\n",
              "      <td>Wired Headphones</td>\n",
              "      <td>1</td>\n",
              "      <td>11.99</td>\n",
              "      <td>2019-12-23 14:23:00</td>\n",
              "      <td>763 Dogwood St, Portland, ME 04101</td>\n",
              "      <td>23-12</td>\n",
              "      <td>14</td>\n",
              "      <td>23</td>\n",
              "      <td>12</td>\n",
              "      <td>2019</td>\n",
              "      <td>Lunes</td>\n",
              "    </tr>\n",
              "    <tr>\n",
              "      <th>...</th>\n",
              "      <td>...</td>\n",
              "      <td>...</td>\n",
              "      <td>...</td>\n",
              "      <td>...</td>\n",
              "      <td>...</td>\n",
              "      <td>...</td>\n",
              "      <td>...</td>\n",
              "      <td>...</td>\n",
              "      <td>...</td>\n",
              "      <td>...</td>\n",
              "      <td>...</td>\n",
              "      <td>...</td>\n",
              "    </tr>\n",
              "    <tr>\n",
              "      <th>24984</th>\n",
              "      <td>306841</td>\n",
              "      <td>Wired Headphones</td>\n",
              "      <td>1</td>\n",
              "      <td>11.99</td>\n",
              "      <td>2019-12-22 19:20:00</td>\n",
              "      <td>940 Ridge St, San Francisco, CA 94016</td>\n",
              "      <td>22-12</td>\n",
              "      <td>19</td>\n",
              "      <td>22</td>\n",
              "      <td>12</td>\n",
              "      <td>2019</td>\n",
              "      <td>Domingo</td>\n",
              "    </tr>\n",
              "    <tr>\n",
              "      <th>24985</th>\n",
              "      <td>316499</td>\n",
              "      <td>Bose SoundSport Headphones</td>\n",
              "      <td>1</td>\n",
              "      <td>99.99</td>\n",
              "      <td>2019-12-08 10:47:00</td>\n",
              "      <td>248 Johnson St, New York City, NY 10001</td>\n",
              "      <td>08-12</td>\n",
              "      <td>10</td>\n",
              "      <td>8</td>\n",
              "      <td>12</td>\n",
              "      <td>2019</td>\n",
              "      <td>Domingo</td>\n",
              "    </tr>\n",
              "    <tr>\n",
              "      <th>24986</th>\n",
              "      <td>301036</td>\n",
              "      <td>USB-C Charging Cable</td>\n",
              "      <td>2</td>\n",
              "      <td>11.95</td>\n",
              "      <td>2019-12-01 13:28:00</td>\n",
              "      <td>883 Spruce St, San Francisco, CA 94016</td>\n",
              "      <td>01-12</td>\n",
              "      <td>13</td>\n",
              "      <td>1</td>\n",
              "      <td>12</td>\n",
              "      <td>2019</td>\n",
              "      <td>Domingo</td>\n",
              "    </tr>\n",
              "    <tr>\n",
              "      <th>24987</th>\n",
              "      <td>306851</td>\n",
              "      <td>AA Batteries (4-pack)</td>\n",
              "      <td>3</td>\n",
              "      <td>3.84</td>\n",
              "      <td>2019-12-01 18:31:00</td>\n",
              "      <td>704 North St, New York City, NY 10001</td>\n",
              "      <td>01-12</td>\n",
              "      <td>18</td>\n",
              "      <td>1</td>\n",
              "      <td>12</td>\n",
              "      <td>2019</td>\n",
              "      <td>Domingo</td>\n",
              "    </tr>\n",
              "    <tr>\n",
              "      <th>24988</th>\n",
              "      <td>315245</td>\n",
              "      <td>Apple Airpods Headphones</td>\n",
              "      <td>1</td>\n",
              "      <td>150.00</td>\n",
              "      <td>2019-12-01 21:09:00</td>\n",
              "      <td>513 13th St, Seattle, WA 98101</td>\n",
              "      <td>01-12</td>\n",
              "      <td>21</td>\n",
              "      <td>1</td>\n",
              "      <td>12</td>\n",
              "      <td>2019</td>\n",
              "      <td>Domingo</td>\n",
              "    </tr>\n",
              "  </tbody>\n",
              "</table>\n",
              "<p>24955 rows × 12 columns</p>\n",
              "</div>"
            ],
            "text/plain": [
              "      ID de Pedido                    Producto  Cantidad Pedida  \\\n",
              "0           295665          Macbook Pro Laptop                1   \n",
              "1           302751                      iPhone                1   \n",
              "2           302742       AA Batteries (4-pack)                1   \n",
              "3           315482            Wired Headphones                1   \n",
              "4           302722            Wired Headphones                1   \n",
              "...            ...                         ...              ...   \n",
              "24984       306841            Wired Headphones                1   \n",
              "24985       316499  Bose SoundSport Headphones                1   \n",
              "24986       301036        USB-C Charging Cable                2   \n",
              "24987       306851       AA Batteries (4-pack)                3   \n",
              "24988       315245    Apple Airpods Headphones                1   \n",
              "\n",
              "       Precio Unitario     Fecha de Pedido  \\\n",
              "0              1700.00 2019-12-30 00:01:00   \n",
              "1               700.00 2019-12-02 14:29:00   \n",
              "2                 3.84 2019-12-02 08:38:00   \n",
              "3                11.99 2019-12-02 18:46:00   \n",
              "4                11.99 2019-12-23 14:23:00   \n",
              "...                ...                 ...   \n",
              "24984            11.99 2019-12-22 19:20:00   \n",
              "24985            99.99 2019-12-08 10:47:00   \n",
              "24986            11.95 2019-12-01 13:28:00   \n",
              "24987             3.84 2019-12-01 18:31:00   \n",
              "24988           150.00 2019-12-01 21:09:00   \n",
              "\n",
              "                               Dirección de Envio dia_mes  Hora  Dia  mes  \\\n",
              "0          136 Church St, New York City, NY 10001   30-12     0   30   12   \n",
              "1      158 Washington St, San Francisco, CA 94016   02-12    14    2   12   \n",
              "2           722 River St, New York City, NY 10001   02-12     8    2   12   \n",
              "3        693 Chestnut St, San Francisco, CA 94016   02-12    18    2   12   \n",
              "4              763 Dogwood St, Portland, ME 04101   23-12    14   23   12   \n",
              "...                                           ...     ...   ...  ...  ...   \n",
              "24984       940 Ridge St, San Francisco, CA 94016   22-12    19   22   12   \n",
              "24985     248 Johnson St, New York City, NY 10001   08-12    10    8   12   \n",
              "24986      883 Spruce St, San Francisco, CA 94016   01-12    13    1   12   \n",
              "24987       704 North St, New York City, NY 10001   01-12    18    1   12   \n",
              "24988              513 13th St, Seattle, WA 98101   01-12    21    1   12   \n",
              "\n",
              "        año   strDia  \n",
              "0      2019    Lunes  \n",
              "1      2019    Lunes  \n",
              "2      2019    Lunes  \n",
              "3      2019    Lunes  \n",
              "4      2019    Lunes  \n",
              "...     ...      ...  \n",
              "24984  2019  Domingo  \n",
              "24985  2019  Domingo  \n",
              "24986  2019  Domingo  \n",
              "24987  2019  Domingo  \n",
              "24988  2019  Domingo  \n",
              "\n",
              "[24955 rows x 12 columns]"
            ]
          },
          "execution_count": 185,
          "metadata": {},
          "output_type": "execute_result"
        }
      ],
      "source": [
        "dataframe_mes"
      ]
    },
    {
      "cell_type": "markdown",
      "metadata": {},
      "source": [
        "# 5. Tendencia ventas:"
      ]
    },
    {
      "cell_type": "markdown",
      "metadata": {},
      "source": [
        "¿Existe alguna tendencia o patrón en las ventas que se repita a lo largo de los días\n",
        "en los diferentes meses?"
      ]
    },
    {
      "cell_type": "markdown",
      "metadata": {},
      "source": [
        "* Evaluar las ventas por dia de la semana en un grafico en forma lineal superponiendo las ventas."
      ]
    },
    {
      "cell_type": "code",
      "execution_count": 324,
      "metadata": {},
      "outputs": [
        {
          "data": {
            "application/vnd.plotly.v1+json": {
              "config": {
                "plotlyServerURL": "https://plot.ly"
              },
              "data": [
                {
                  "name": "Enero",
                  "type": "bar",
                  "x": [
                    "Lunes",
                    "Martes",
                    "Miércoles",
                    "Jueves",
                    "Viernes",
                    "Sábado",
                    "Domingo"
                  ],
                  "y": [
                    1381,
                    1736,
                    1738,
                    1724,
                    1386,
                    1482,
                    1415
                  ]
                },
                {
                  "name": "Febrero",
                  "type": "bar",
                  "x": [
                    "Lunes",
                    "Martes",
                    "Miércoles",
                    "Jueves",
                    "Viernes",
                    "Sábado",
                    "Domingo"
                  ],
                  "y": [
                    1905,
                    1862,
                    2004,
                    1845,
                    1898,
                    1935,
                    1994
                  ]
                },
                {
                  "name": "Marzo",
                  "type": "bar",
                  "x": [
                    "Lunes",
                    "Martes",
                    "Miércoles",
                    "Jueves",
                    "Viernes",
                    "Sábado",
                    "Domingo"
                  ],
                  "y": [
                    2177,
                    2204,
                    2211,
                    2174,
                    2704,
                    2846,
                    2671
                  ]
                },
                {
                  "name": "Abril",
                  "type": "bar",
                  "x": [
                    "Lunes",
                    "Martes",
                    "Miércoles",
                    "Jueves",
                    "Viernes",
                    "Sábado",
                    "Domingo"
                  ],
                  "y": [
                    3297,
                    3401,
                    2819,
                    2803,
                    2657,
                    2785,
                    2777
                  ]
                },
                {
                  "name": "Mayo",
                  "type": "bar",
                  "x": [
                    "Lunes",
                    "Martes",
                    "Miércoles",
                    "Jueves",
                    "Viernes",
                    "Sábado",
                    "Domingo"
                  ],
                  "y": [
                    2386,
                    2531,
                    2985,
                    3049,
                    2909,
                    2315,
                    2463
                  ]
                },
                {
                  "name": "Junio",
                  "type": "bar",
                  "x": [
                    "Lunes",
                    "Martes",
                    "Miércoles",
                    "Jueves",
                    "Viernes",
                    "Sábado",
                    "Domingo"
                  ],
                  "y": [
                    1982,
                    2030,
                    2127,
                    2030,
                    2042,
                    2532,
                    2491
                  ]
                },
                {
                  "name": "Julio",
                  "type": "bar",
                  "x": [
                    "Lunes",
                    "Martes",
                    "Miércoles",
                    "Jueves",
                    "Viernes",
                    "Sábado",
                    "Domingo"
                  ],
                  "y": [
                    2667,
                    2577,
                    2520,
                    2082,
                    2085,
                    2075,
                    2045
                  ]
                },
                {
                  "name": "Agosto",
                  "type": "bar",
                  "x": [
                    "Lunes",
                    "Martes",
                    "Miércoles",
                    "Jueves",
                    "Viernes",
                    "Sábado",
                    "Domingo"
                  ],
                  "y": [
                    1742,
                    1759,
                    1770,
                    2166,
                    2124,
                    2161,
                    1708
                  ]
                },
                {
                  "name": "Septiembre",
                  "type": "bar",
                  "x": [
                    "Lunes",
                    "Martes",
                    "Miércoles",
                    "Jueves",
                    "Viernes",
                    "Sábado",
                    "Domingo"
                  ],
                  "y": [
                    2176,
                    1763,
                    1743,
                    1746,
                    1766,
                    1723,
                    2180
                  ]
                },
                {
                  "name": "Octubre",
                  "type": "bar",
                  "x": [
                    "Lunes",
                    "Martes",
                    "Miércoles",
                    "Jueves",
                    "Viernes",
                    "Sábado",
                    "Domingo"
                  ],
                  "y": [
                    2901,
                    3618,
                    3623,
                    3681,
                    2884,
                    3053,
                    2921
                  ]
                },
                {
                  "name": "Noviembre",
                  "type": "bar",
                  "x": [
                    "Lunes",
                    "Martes",
                    "Miércoles",
                    "Jueves",
                    "Viernes",
                    "Sábado",
                    "Domingo"
                  ],
                  "y": [
                    2645,
                    2654,
                    2644,
                    2653,
                    3297,
                    3270,
                    2611
                  ]
                },
                {
                  "name": "Diciembre",
                  "type": "bar",
                  "x": [
                    "Lunes",
                    "Martes",
                    "Miércoles",
                    "Jueves",
                    "Viernes",
                    "Sábado",
                    "Domingo"
                  ],
                  "y": [
                    4600,
                    4567,
                    3545,
                    3691,
                    3648,
                    3573,
                    4456
                  ]
                }
              ],
              "layout": {
                "barmode": "group",
                "template": {
                  "data": {
                    "bar": [
                      {
                        "error_x": {
                          "color": "#2a3f5f"
                        },
                        "error_y": {
                          "color": "#2a3f5f"
                        },
                        "marker": {
                          "line": {
                            "color": "#E5ECF6",
                            "width": 0.5
                          },
                          "pattern": {
                            "fillmode": "overlay",
                            "size": 10,
                            "solidity": 0.2
                          }
                        },
                        "type": "bar"
                      }
                    ],
                    "barpolar": [
                      {
                        "marker": {
                          "line": {
                            "color": "#E5ECF6",
                            "width": 0.5
                          },
                          "pattern": {
                            "fillmode": "overlay",
                            "size": 10,
                            "solidity": 0.2
                          }
                        },
                        "type": "barpolar"
                      }
                    ],
                    "carpet": [
                      {
                        "aaxis": {
                          "endlinecolor": "#2a3f5f",
                          "gridcolor": "white",
                          "linecolor": "white",
                          "minorgridcolor": "white",
                          "startlinecolor": "#2a3f5f"
                        },
                        "baxis": {
                          "endlinecolor": "#2a3f5f",
                          "gridcolor": "white",
                          "linecolor": "white",
                          "minorgridcolor": "white",
                          "startlinecolor": "#2a3f5f"
                        },
                        "type": "carpet"
                      }
                    ],
                    "choropleth": [
                      {
                        "colorbar": {
                          "outlinewidth": 0,
                          "ticks": ""
                        },
                        "type": "choropleth"
                      }
                    ],
                    "contour": [
                      {
                        "colorbar": {
                          "outlinewidth": 0,
                          "ticks": ""
                        },
                        "colorscale": [
                          [
                            0,
                            "#0d0887"
                          ],
                          [
                            0.1111111111111111,
                            "#46039f"
                          ],
                          [
                            0.2222222222222222,
                            "#7201a8"
                          ],
                          [
                            0.3333333333333333,
                            "#9c179e"
                          ],
                          [
                            0.4444444444444444,
                            "#bd3786"
                          ],
                          [
                            0.5555555555555556,
                            "#d8576b"
                          ],
                          [
                            0.6666666666666666,
                            "#ed7953"
                          ],
                          [
                            0.7777777777777778,
                            "#fb9f3a"
                          ],
                          [
                            0.8888888888888888,
                            "#fdca26"
                          ],
                          [
                            1,
                            "#f0f921"
                          ]
                        ],
                        "type": "contour"
                      }
                    ],
                    "contourcarpet": [
                      {
                        "colorbar": {
                          "outlinewidth": 0,
                          "ticks": ""
                        },
                        "type": "contourcarpet"
                      }
                    ],
                    "heatmap": [
                      {
                        "colorbar": {
                          "outlinewidth": 0,
                          "ticks": ""
                        },
                        "colorscale": [
                          [
                            0,
                            "#0d0887"
                          ],
                          [
                            0.1111111111111111,
                            "#46039f"
                          ],
                          [
                            0.2222222222222222,
                            "#7201a8"
                          ],
                          [
                            0.3333333333333333,
                            "#9c179e"
                          ],
                          [
                            0.4444444444444444,
                            "#bd3786"
                          ],
                          [
                            0.5555555555555556,
                            "#d8576b"
                          ],
                          [
                            0.6666666666666666,
                            "#ed7953"
                          ],
                          [
                            0.7777777777777778,
                            "#fb9f3a"
                          ],
                          [
                            0.8888888888888888,
                            "#fdca26"
                          ],
                          [
                            1,
                            "#f0f921"
                          ]
                        ],
                        "type": "heatmap"
                      }
                    ],
                    "heatmapgl": [
                      {
                        "colorbar": {
                          "outlinewidth": 0,
                          "ticks": ""
                        },
                        "colorscale": [
                          [
                            0,
                            "#0d0887"
                          ],
                          [
                            0.1111111111111111,
                            "#46039f"
                          ],
                          [
                            0.2222222222222222,
                            "#7201a8"
                          ],
                          [
                            0.3333333333333333,
                            "#9c179e"
                          ],
                          [
                            0.4444444444444444,
                            "#bd3786"
                          ],
                          [
                            0.5555555555555556,
                            "#d8576b"
                          ],
                          [
                            0.6666666666666666,
                            "#ed7953"
                          ],
                          [
                            0.7777777777777778,
                            "#fb9f3a"
                          ],
                          [
                            0.8888888888888888,
                            "#fdca26"
                          ],
                          [
                            1,
                            "#f0f921"
                          ]
                        ],
                        "type": "heatmapgl"
                      }
                    ],
                    "histogram": [
                      {
                        "marker": {
                          "pattern": {
                            "fillmode": "overlay",
                            "size": 10,
                            "solidity": 0.2
                          }
                        },
                        "type": "histogram"
                      }
                    ],
                    "histogram2d": [
                      {
                        "colorbar": {
                          "outlinewidth": 0,
                          "ticks": ""
                        },
                        "colorscale": [
                          [
                            0,
                            "#0d0887"
                          ],
                          [
                            0.1111111111111111,
                            "#46039f"
                          ],
                          [
                            0.2222222222222222,
                            "#7201a8"
                          ],
                          [
                            0.3333333333333333,
                            "#9c179e"
                          ],
                          [
                            0.4444444444444444,
                            "#bd3786"
                          ],
                          [
                            0.5555555555555556,
                            "#d8576b"
                          ],
                          [
                            0.6666666666666666,
                            "#ed7953"
                          ],
                          [
                            0.7777777777777778,
                            "#fb9f3a"
                          ],
                          [
                            0.8888888888888888,
                            "#fdca26"
                          ],
                          [
                            1,
                            "#f0f921"
                          ]
                        ],
                        "type": "histogram2d"
                      }
                    ],
                    "histogram2dcontour": [
                      {
                        "colorbar": {
                          "outlinewidth": 0,
                          "ticks": ""
                        },
                        "colorscale": [
                          [
                            0,
                            "#0d0887"
                          ],
                          [
                            0.1111111111111111,
                            "#46039f"
                          ],
                          [
                            0.2222222222222222,
                            "#7201a8"
                          ],
                          [
                            0.3333333333333333,
                            "#9c179e"
                          ],
                          [
                            0.4444444444444444,
                            "#bd3786"
                          ],
                          [
                            0.5555555555555556,
                            "#d8576b"
                          ],
                          [
                            0.6666666666666666,
                            "#ed7953"
                          ],
                          [
                            0.7777777777777778,
                            "#fb9f3a"
                          ],
                          [
                            0.8888888888888888,
                            "#fdca26"
                          ],
                          [
                            1,
                            "#f0f921"
                          ]
                        ],
                        "type": "histogram2dcontour"
                      }
                    ],
                    "mesh3d": [
                      {
                        "colorbar": {
                          "outlinewidth": 0,
                          "ticks": ""
                        },
                        "type": "mesh3d"
                      }
                    ],
                    "parcoords": [
                      {
                        "line": {
                          "colorbar": {
                            "outlinewidth": 0,
                            "ticks": ""
                          }
                        },
                        "type": "parcoords"
                      }
                    ],
                    "pie": [
                      {
                        "automargin": true,
                        "type": "pie"
                      }
                    ],
                    "scatter": [
                      {
                        "fillpattern": {
                          "fillmode": "overlay",
                          "size": 10,
                          "solidity": 0.2
                        },
                        "type": "scatter"
                      }
                    ],
                    "scatter3d": [
                      {
                        "line": {
                          "colorbar": {
                            "outlinewidth": 0,
                            "ticks": ""
                          }
                        },
                        "marker": {
                          "colorbar": {
                            "outlinewidth": 0,
                            "ticks": ""
                          }
                        },
                        "type": "scatter3d"
                      }
                    ],
                    "scattercarpet": [
                      {
                        "marker": {
                          "colorbar": {
                            "outlinewidth": 0,
                            "ticks": ""
                          }
                        },
                        "type": "scattercarpet"
                      }
                    ],
                    "scattergeo": [
                      {
                        "marker": {
                          "colorbar": {
                            "outlinewidth": 0,
                            "ticks": ""
                          }
                        },
                        "type": "scattergeo"
                      }
                    ],
                    "scattergl": [
                      {
                        "marker": {
                          "colorbar": {
                            "outlinewidth": 0,
                            "ticks": ""
                          }
                        },
                        "type": "scattergl"
                      }
                    ],
                    "scattermapbox": [
                      {
                        "marker": {
                          "colorbar": {
                            "outlinewidth": 0,
                            "ticks": ""
                          }
                        },
                        "type": "scattermapbox"
                      }
                    ],
                    "scatterpolar": [
                      {
                        "marker": {
                          "colorbar": {
                            "outlinewidth": 0,
                            "ticks": ""
                          }
                        },
                        "type": "scatterpolar"
                      }
                    ],
                    "scatterpolargl": [
                      {
                        "marker": {
                          "colorbar": {
                            "outlinewidth": 0,
                            "ticks": ""
                          }
                        },
                        "type": "scatterpolargl"
                      }
                    ],
                    "scatterternary": [
                      {
                        "marker": {
                          "colorbar": {
                            "outlinewidth": 0,
                            "ticks": ""
                          }
                        },
                        "type": "scatterternary"
                      }
                    ],
                    "surface": [
                      {
                        "colorbar": {
                          "outlinewidth": 0,
                          "ticks": ""
                        },
                        "colorscale": [
                          [
                            0,
                            "#0d0887"
                          ],
                          [
                            0.1111111111111111,
                            "#46039f"
                          ],
                          [
                            0.2222222222222222,
                            "#7201a8"
                          ],
                          [
                            0.3333333333333333,
                            "#9c179e"
                          ],
                          [
                            0.4444444444444444,
                            "#bd3786"
                          ],
                          [
                            0.5555555555555556,
                            "#d8576b"
                          ],
                          [
                            0.6666666666666666,
                            "#ed7953"
                          ],
                          [
                            0.7777777777777778,
                            "#fb9f3a"
                          ],
                          [
                            0.8888888888888888,
                            "#fdca26"
                          ],
                          [
                            1,
                            "#f0f921"
                          ]
                        ],
                        "type": "surface"
                      }
                    ],
                    "table": [
                      {
                        "cells": {
                          "fill": {
                            "color": "#EBF0F8"
                          },
                          "line": {
                            "color": "white"
                          }
                        },
                        "header": {
                          "fill": {
                            "color": "#C8D4E3"
                          },
                          "line": {
                            "color": "white"
                          }
                        },
                        "type": "table"
                      }
                    ]
                  },
                  "layout": {
                    "annotationdefaults": {
                      "arrowcolor": "#2a3f5f",
                      "arrowhead": 0,
                      "arrowwidth": 1
                    },
                    "autotypenumbers": "strict",
                    "coloraxis": {
                      "colorbar": {
                        "outlinewidth": 0,
                        "ticks": ""
                      }
                    },
                    "colorscale": {
                      "diverging": [
                        [
                          0,
                          "#8e0152"
                        ],
                        [
                          0.1,
                          "#c51b7d"
                        ],
                        [
                          0.2,
                          "#de77ae"
                        ],
                        [
                          0.3,
                          "#f1b6da"
                        ],
                        [
                          0.4,
                          "#fde0ef"
                        ],
                        [
                          0.5,
                          "#f7f7f7"
                        ],
                        [
                          0.6,
                          "#e6f5d0"
                        ],
                        [
                          0.7,
                          "#b8e186"
                        ],
                        [
                          0.8,
                          "#7fbc41"
                        ],
                        [
                          0.9,
                          "#4d9221"
                        ],
                        [
                          1,
                          "#276419"
                        ]
                      ],
                      "sequential": [
                        [
                          0,
                          "#0d0887"
                        ],
                        [
                          0.1111111111111111,
                          "#46039f"
                        ],
                        [
                          0.2222222222222222,
                          "#7201a8"
                        ],
                        [
                          0.3333333333333333,
                          "#9c179e"
                        ],
                        [
                          0.4444444444444444,
                          "#bd3786"
                        ],
                        [
                          0.5555555555555556,
                          "#d8576b"
                        ],
                        [
                          0.6666666666666666,
                          "#ed7953"
                        ],
                        [
                          0.7777777777777778,
                          "#fb9f3a"
                        ],
                        [
                          0.8888888888888888,
                          "#fdca26"
                        ],
                        [
                          1,
                          "#f0f921"
                        ]
                      ],
                      "sequentialminus": [
                        [
                          0,
                          "#0d0887"
                        ],
                        [
                          0.1111111111111111,
                          "#46039f"
                        ],
                        [
                          0.2222222222222222,
                          "#7201a8"
                        ],
                        [
                          0.3333333333333333,
                          "#9c179e"
                        ],
                        [
                          0.4444444444444444,
                          "#bd3786"
                        ],
                        [
                          0.5555555555555556,
                          "#d8576b"
                        ],
                        [
                          0.6666666666666666,
                          "#ed7953"
                        ],
                        [
                          0.7777777777777778,
                          "#fb9f3a"
                        ],
                        [
                          0.8888888888888888,
                          "#fdca26"
                        ],
                        [
                          1,
                          "#f0f921"
                        ]
                      ]
                    },
                    "colorway": [
                      "#636efa",
                      "#EF553B",
                      "#00cc96",
                      "#ab63fa",
                      "#FFA15A",
                      "#19d3f3",
                      "#FF6692",
                      "#B6E880",
                      "#FF97FF",
                      "#FECB52"
                    ],
                    "font": {
                      "color": "#2a3f5f"
                    },
                    "geo": {
                      "bgcolor": "white",
                      "lakecolor": "white",
                      "landcolor": "#E5ECF6",
                      "showlakes": true,
                      "showland": true,
                      "subunitcolor": "white"
                    },
                    "hoverlabel": {
                      "align": "left"
                    },
                    "hovermode": "closest",
                    "mapbox": {
                      "style": "light"
                    },
                    "paper_bgcolor": "white",
                    "plot_bgcolor": "#E5ECF6",
                    "polar": {
                      "angularaxis": {
                        "gridcolor": "white",
                        "linecolor": "white",
                        "ticks": ""
                      },
                      "bgcolor": "#E5ECF6",
                      "radialaxis": {
                        "gridcolor": "white",
                        "linecolor": "white",
                        "ticks": ""
                      }
                    },
                    "scene": {
                      "xaxis": {
                        "backgroundcolor": "#E5ECF6",
                        "gridcolor": "white",
                        "gridwidth": 2,
                        "linecolor": "white",
                        "showbackground": true,
                        "ticks": "",
                        "zerolinecolor": "white"
                      },
                      "yaxis": {
                        "backgroundcolor": "#E5ECF6",
                        "gridcolor": "white",
                        "gridwidth": 2,
                        "linecolor": "white",
                        "showbackground": true,
                        "ticks": "",
                        "zerolinecolor": "white"
                      },
                      "zaxis": {
                        "backgroundcolor": "#E5ECF6",
                        "gridcolor": "white",
                        "gridwidth": 2,
                        "linecolor": "white",
                        "showbackground": true,
                        "ticks": "",
                        "zerolinecolor": "white"
                      }
                    },
                    "shapedefaults": {
                      "line": {
                        "color": "#2a3f5f"
                      }
                    },
                    "ternary": {
                      "aaxis": {
                        "gridcolor": "white",
                        "linecolor": "white",
                        "ticks": ""
                      },
                      "baxis": {
                        "gridcolor": "white",
                        "linecolor": "white",
                        "ticks": ""
                      },
                      "bgcolor": "#E5ECF6",
                      "caxis": {
                        "gridcolor": "white",
                        "linecolor": "white",
                        "ticks": ""
                      }
                    },
                    "title": {
                      "x": 0.05
                    },
                    "xaxis": {
                      "automargin": true,
                      "gridcolor": "white",
                      "linecolor": "white",
                      "ticks": "",
                      "title": {
                        "standoff": 15
                      },
                      "zerolinecolor": "white",
                      "zerolinewidth": 2
                    },
                    "yaxis": {
                      "automargin": true,
                      "gridcolor": "white",
                      "linecolor": "white",
                      "ticks": "",
                      "title": {
                        "standoff": 15
                      },
                      "zerolinecolor": "white",
                      "zerolinewidth": 2
                    }
                  }
                },
                "title": {
                  "text": "Cantidad ventas por dia en cada mes comparado con barras"
                },
                "xaxis": {
                  "title": {
                    "text": "Día de la semana"
                  }
                },
                "yaxis": {
                  "title": {
                    "text": "Cantidad"
                  }
                }
              }
            }
          },
          "metadata": {},
          "output_type": "display_data"
        }
      ],
      "source": [
        "# Lista para almacenar los datos de ventas por hora de cada mes\n",
        "ventas_pordia_pormes = []\n",
        "etiquetas = []\n",
        "\n",
        "# Iterar a través de cada mes en la lista 'meses'\n",
        "for mes in meses:\n",
        "    # Obtener el DataFrame correspondiente al mes\n",
        "    dataframe_mes = df_extraidos[mes]\n",
        "    \n",
        "    # Calcular el número de ventas por hora para este mes y almacenarlo en 'Ventas_por_hora'\n",
        "    Ventas_por_dia = dataframe_mes.groupby('strDia')['Cantidad Pedida'].sum()\n",
        "    \n",
        "    # Agregar los datos de ventas por hora de este mes a la lista 'ventas_por_hora_por_mes'\n",
        "    ventas_pordia_pormes.append(Ventas_por_dia.tolist())\n",
        "\n",
        "fig = go.Figure()\n",
        "\n",
        "for i, mes in enumerate(meses):\n",
        "    fig.add_trace(go.Bar(\n",
        "        x=dias_semana,\n",
        "        y=ventas_pordia_pormes[i],\n",
        "        name=mes\n",
        "    ))\n",
        "\n",
        "# Configuración adicional del gráfico\n",
        "fig.update_layout(\n",
        "    title='Cantidad ventas por dia en cada mes comparado con barras',\n",
        "    xaxis_title='Día de la semana',\n",
        "    yaxis_title='Cantidad',\n",
        "    barmode='group',  # Agrupa las barras\n",
        ")\n",
        "\n",
        "fig.show()\n",
        "    "
      ]
    },
    {
      "cell_type": "code",
      "execution_count": 187,
      "metadata": {},
      "outputs": [
        {
          "data": {
            "application/vnd.plotly.v1+json": {
              "config": {
                "plotlyServerURL": "https://plot.ly"
              },
              "data": [
                {
                  "line": {
                    "shape": "spline",
                    "width": 2
                  },
                  "marker": {
                    "size": 10
                  },
                  "mode": "lines+markers",
                  "name": "Enero",
                  "type": "scatter",
                  "x": [
                    "Lunes\n TOTAL:29859",
                    "Martes\n TOTAL:30702",
                    "Miércoles\n TOTAL:29729",
                    "Jueves\n TOTAL:29644",
                    "Viernes\n TOTAL:29400",
                    "Sábado\n TOTAL:29750",
                    "Domingo\n TOTAL:29732"
                  ],
                  "y": [
                    1381,
                    1736,
                    1738,
                    1724,
                    1386,
                    1482,
                    1415
                  ]
                },
                {
                  "line": {
                    "shape": "spline",
                    "width": 2
                  },
                  "marker": {
                    "size": 10
                  },
                  "mode": "lines+markers",
                  "name": "Febrero",
                  "type": "scatter",
                  "x": [
                    "Lunes\n TOTAL:29859",
                    "Martes\n TOTAL:30702",
                    "Miércoles\n TOTAL:29729",
                    "Jueves\n TOTAL:29644",
                    "Viernes\n TOTAL:29400",
                    "Sábado\n TOTAL:29750",
                    "Domingo\n TOTAL:29732"
                  ],
                  "y": [
                    1905,
                    1862,
                    2004,
                    1845,
                    1898,
                    1935,
                    1994
                  ]
                },
                {
                  "line": {
                    "shape": "spline",
                    "width": 2
                  },
                  "marker": {
                    "size": 10
                  },
                  "mode": "lines+markers",
                  "name": "Marzo",
                  "type": "scatter",
                  "x": [
                    "Lunes\n TOTAL:29859",
                    "Martes\n TOTAL:30702",
                    "Miércoles\n TOTAL:29729",
                    "Jueves\n TOTAL:29644",
                    "Viernes\n TOTAL:29400",
                    "Sábado\n TOTAL:29750",
                    "Domingo\n TOTAL:29732"
                  ],
                  "y": [
                    2177,
                    2204,
                    2211,
                    2174,
                    2704,
                    2846,
                    2671
                  ]
                },
                {
                  "line": {
                    "shape": "spline",
                    "width": 2
                  },
                  "marker": {
                    "size": 10
                  },
                  "mode": "lines+markers",
                  "name": "Abril",
                  "type": "scatter",
                  "x": [
                    "Lunes\n TOTAL:29859",
                    "Martes\n TOTAL:30702",
                    "Miércoles\n TOTAL:29729",
                    "Jueves\n TOTAL:29644",
                    "Viernes\n TOTAL:29400",
                    "Sábado\n TOTAL:29750",
                    "Domingo\n TOTAL:29732"
                  ],
                  "y": [
                    3297,
                    3401,
                    2819,
                    2803,
                    2657,
                    2785,
                    2777
                  ]
                },
                {
                  "line": {
                    "shape": "spline",
                    "width": 2
                  },
                  "marker": {
                    "size": 10
                  },
                  "mode": "lines+markers",
                  "name": "Mayo",
                  "type": "scatter",
                  "x": [
                    "Lunes\n TOTAL:29859",
                    "Martes\n TOTAL:30702",
                    "Miércoles\n TOTAL:29729",
                    "Jueves\n TOTAL:29644",
                    "Viernes\n TOTAL:29400",
                    "Sábado\n TOTAL:29750",
                    "Domingo\n TOTAL:29732"
                  ],
                  "y": [
                    2386,
                    2531,
                    2985,
                    3049,
                    2909,
                    2315,
                    2463
                  ]
                },
                {
                  "line": {
                    "shape": "spline",
                    "width": 2
                  },
                  "marker": {
                    "size": 10
                  },
                  "mode": "lines+markers",
                  "name": "Junio",
                  "type": "scatter",
                  "x": [
                    "Lunes\n TOTAL:29859",
                    "Martes\n TOTAL:30702",
                    "Miércoles\n TOTAL:29729",
                    "Jueves\n TOTAL:29644",
                    "Viernes\n TOTAL:29400",
                    "Sábado\n TOTAL:29750",
                    "Domingo\n TOTAL:29732"
                  ],
                  "y": [
                    1982,
                    2030,
                    2127,
                    2030,
                    2042,
                    2532,
                    2491
                  ]
                },
                {
                  "line": {
                    "shape": "spline",
                    "width": 2
                  },
                  "marker": {
                    "size": 10
                  },
                  "mode": "lines+markers",
                  "name": "Julio",
                  "type": "scatter",
                  "x": [
                    "Lunes\n TOTAL:29859",
                    "Martes\n TOTAL:30702",
                    "Miércoles\n TOTAL:29729",
                    "Jueves\n TOTAL:29644",
                    "Viernes\n TOTAL:29400",
                    "Sábado\n TOTAL:29750",
                    "Domingo\n TOTAL:29732"
                  ],
                  "y": [
                    2667,
                    2577,
                    2520,
                    2082,
                    2085,
                    2075,
                    2045
                  ]
                },
                {
                  "line": {
                    "shape": "spline",
                    "width": 2
                  },
                  "marker": {
                    "size": 10
                  },
                  "mode": "lines+markers",
                  "name": "Agosto",
                  "type": "scatter",
                  "x": [
                    "Lunes\n TOTAL:29859",
                    "Martes\n TOTAL:30702",
                    "Miércoles\n TOTAL:29729",
                    "Jueves\n TOTAL:29644",
                    "Viernes\n TOTAL:29400",
                    "Sábado\n TOTAL:29750",
                    "Domingo\n TOTAL:29732"
                  ],
                  "y": [
                    1742,
                    1759,
                    1770,
                    2166,
                    2124,
                    2161,
                    1708
                  ]
                },
                {
                  "line": {
                    "shape": "spline",
                    "width": 2
                  },
                  "marker": {
                    "size": 10
                  },
                  "mode": "lines+markers",
                  "name": "Septiembre",
                  "type": "scatter",
                  "x": [
                    "Lunes\n TOTAL:29859",
                    "Martes\n TOTAL:30702",
                    "Miércoles\n TOTAL:29729",
                    "Jueves\n TOTAL:29644",
                    "Viernes\n TOTAL:29400",
                    "Sábado\n TOTAL:29750",
                    "Domingo\n TOTAL:29732"
                  ],
                  "y": [
                    2176,
                    1763,
                    1743,
                    1746,
                    1766,
                    1723,
                    2180
                  ]
                },
                {
                  "line": {
                    "shape": "spline",
                    "width": 2
                  },
                  "marker": {
                    "size": 10
                  },
                  "mode": "lines+markers",
                  "name": "Octubre",
                  "type": "scatter",
                  "x": [
                    "Lunes\n TOTAL:29859",
                    "Martes\n TOTAL:30702",
                    "Miércoles\n TOTAL:29729",
                    "Jueves\n TOTAL:29644",
                    "Viernes\n TOTAL:29400",
                    "Sábado\n TOTAL:29750",
                    "Domingo\n TOTAL:29732"
                  ],
                  "y": [
                    2901,
                    3618,
                    3623,
                    3681,
                    2884,
                    3053,
                    2921
                  ]
                },
                {
                  "line": {
                    "shape": "spline",
                    "width": 2
                  },
                  "marker": {
                    "size": 10
                  },
                  "mode": "lines+markers",
                  "name": "Noviembre",
                  "type": "scatter",
                  "x": [
                    "Lunes\n TOTAL:29859",
                    "Martes\n TOTAL:30702",
                    "Miércoles\n TOTAL:29729",
                    "Jueves\n TOTAL:29644",
                    "Viernes\n TOTAL:29400",
                    "Sábado\n TOTAL:29750",
                    "Domingo\n TOTAL:29732"
                  ],
                  "y": [
                    2645,
                    2654,
                    2644,
                    2653,
                    3297,
                    3270,
                    2611
                  ]
                },
                {
                  "line": {
                    "shape": "spline",
                    "width": 2
                  },
                  "marker": {
                    "size": 10
                  },
                  "mode": "lines+markers",
                  "name": "Diciembre",
                  "type": "scatter",
                  "x": [
                    "Lunes\n TOTAL:29859",
                    "Martes\n TOTAL:30702",
                    "Miércoles\n TOTAL:29729",
                    "Jueves\n TOTAL:29644",
                    "Viernes\n TOTAL:29400",
                    "Sábado\n TOTAL:29750",
                    "Domingo\n TOTAL:29732"
                  ],
                  "y": [
                    4600,
                    4567,
                    3545,
                    3691,
                    3648,
                    3573,
                    4456
                  ]
                }
              ],
              "layout": {
                "legend": {
                  "y": 0.3,
                  "yanchor": "bottom"
                },
                "template": {
                  "data": {
                    "bar": [
                      {
                        "error_x": {
                          "color": "#2a3f5f"
                        },
                        "error_y": {
                          "color": "#2a3f5f"
                        },
                        "marker": {
                          "line": {
                            "color": "#E5ECF6",
                            "width": 0.5
                          },
                          "pattern": {
                            "fillmode": "overlay",
                            "size": 10,
                            "solidity": 0.2
                          }
                        },
                        "type": "bar"
                      }
                    ],
                    "barpolar": [
                      {
                        "marker": {
                          "line": {
                            "color": "#E5ECF6",
                            "width": 0.5
                          },
                          "pattern": {
                            "fillmode": "overlay",
                            "size": 10,
                            "solidity": 0.2
                          }
                        },
                        "type": "barpolar"
                      }
                    ],
                    "carpet": [
                      {
                        "aaxis": {
                          "endlinecolor": "#2a3f5f",
                          "gridcolor": "white",
                          "linecolor": "white",
                          "minorgridcolor": "white",
                          "startlinecolor": "#2a3f5f"
                        },
                        "baxis": {
                          "endlinecolor": "#2a3f5f",
                          "gridcolor": "white",
                          "linecolor": "white",
                          "minorgridcolor": "white",
                          "startlinecolor": "#2a3f5f"
                        },
                        "type": "carpet"
                      }
                    ],
                    "choropleth": [
                      {
                        "colorbar": {
                          "outlinewidth": 0,
                          "ticks": ""
                        },
                        "type": "choropleth"
                      }
                    ],
                    "contour": [
                      {
                        "colorbar": {
                          "outlinewidth": 0,
                          "ticks": ""
                        },
                        "colorscale": [
                          [
                            0,
                            "#0d0887"
                          ],
                          [
                            0.1111111111111111,
                            "#46039f"
                          ],
                          [
                            0.2222222222222222,
                            "#7201a8"
                          ],
                          [
                            0.3333333333333333,
                            "#9c179e"
                          ],
                          [
                            0.4444444444444444,
                            "#bd3786"
                          ],
                          [
                            0.5555555555555556,
                            "#d8576b"
                          ],
                          [
                            0.6666666666666666,
                            "#ed7953"
                          ],
                          [
                            0.7777777777777778,
                            "#fb9f3a"
                          ],
                          [
                            0.8888888888888888,
                            "#fdca26"
                          ],
                          [
                            1,
                            "#f0f921"
                          ]
                        ],
                        "type": "contour"
                      }
                    ],
                    "contourcarpet": [
                      {
                        "colorbar": {
                          "outlinewidth": 0,
                          "ticks": ""
                        },
                        "type": "contourcarpet"
                      }
                    ],
                    "heatmap": [
                      {
                        "colorbar": {
                          "outlinewidth": 0,
                          "ticks": ""
                        },
                        "colorscale": [
                          [
                            0,
                            "#0d0887"
                          ],
                          [
                            0.1111111111111111,
                            "#46039f"
                          ],
                          [
                            0.2222222222222222,
                            "#7201a8"
                          ],
                          [
                            0.3333333333333333,
                            "#9c179e"
                          ],
                          [
                            0.4444444444444444,
                            "#bd3786"
                          ],
                          [
                            0.5555555555555556,
                            "#d8576b"
                          ],
                          [
                            0.6666666666666666,
                            "#ed7953"
                          ],
                          [
                            0.7777777777777778,
                            "#fb9f3a"
                          ],
                          [
                            0.8888888888888888,
                            "#fdca26"
                          ],
                          [
                            1,
                            "#f0f921"
                          ]
                        ],
                        "type": "heatmap"
                      }
                    ],
                    "heatmapgl": [
                      {
                        "colorbar": {
                          "outlinewidth": 0,
                          "ticks": ""
                        },
                        "colorscale": [
                          [
                            0,
                            "#0d0887"
                          ],
                          [
                            0.1111111111111111,
                            "#46039f"
                          ],
                          [
                            0.2222222222222222,
                            "#7201a8"
                          ],
                          [
                            0.3333333333333333,
                            "#9c179e"
                          ],
                          [
                            0.4444444444444444,
                            "#bd3786"
                          ],
                          [
                            0.5555555555555556,
                            "#d8576b"
                          ],
                          [
                            0.6666666666666666,
                            "#ed7953"
                          ],
                          [
                            0.7777777777777778,
                            "#fb9f3a"
                          ],
                          [
                            0.8888888888888888,
                            "#fdca26"
                          ],
                          [
                            1,
                            "#f0f921"
                          ]
                        ],
                        "type": "heatmapgl"
                      }
                    ],
                    "histogram": [
                      {
                        "marker": {
                          "pattern": {
                            "fillmode": "overlay",
                            "size": 10,
                            "solidity": 0.2
                          }
                        },
                        "type": "histogram"
                      }
                    ],
                    "histogram2d": [
                      {
                        "colorbar": {
                          "outlinewidth": 0,
                          "ticks": ""
                        },
                        "colorscale": [
                          [
                            0,
                            "#0d0887"
                          ],
                          [
                            0.1111111111111111,
                            "#46039f"
                          ],
                          [
                            0.2222222222222222,
                            "#7201a8"
                          ],
                          [
                            0.3333333333333333,
                            "#9c179e"
                          ],
                          [
                            0.4444444444444444,
                            "#bd3786"
                          ],
                          [
                            0.5555555555555556,
                            "#d8576b"
                          ],
                          [
                            0.6666666666666666,
                            "#ed7953"
                          ],
                          [
                            0.7777777777777778,
                            "#fb9f3a"
                          ],
                          [
                            0.8888888888888888,
                            "#fdca26"
                          ],
                          [
                            1,
                            "#f0f921"
                          ]
                        ],
                        "type": "histogram2d"
                      }
                    ],
                    "histogram2dcontour": [
                      {
                        "colorbar": {
                          "outlinewidth": 0,
                          "ticks": ""
                        },
                        "colorscale": [
                          [
                            0,
                            "#0d0887"
                          ],
                          [
                            0.1111111111111111,
                            "#46039f"
                          ],
                          [
                            0.2222222222222222,
                            "#7201a8"
                          ],
                          [
                            0.3333333333333333,
                            "#9c179e"
                          ],
                          [
                            0.4444444444444444,
                            "#bd3786"
                          ],
                          [
                            0.5555555555555556,
                            "#d8576b"
                          ],
                          [
                            0.6666666666666666,
                            "#ed7953"
                          ],
                          [
                            0.7777777777777778,
                            "#fb9f3a"
                          ],
                          [
                            0.8888888888888888,
                            "#fdca26"
                          ],
                          [
                            1,
                            "#f0f921"
                          ]
                        ],
                        "type": "histogram2dcontour"
                      }
                    ],
                    "mesh3d": [
                      {
                        "colorbar": {
                          "outlinewidth": 0,
                          "ticks": ""
                        },
                        "type": "mesh3d"
                      }
                    ],
                    "parcoords": [
                      {
                        "line": {
                          "colorbar": {
                            "outlinewidth": 0,
                            "ticks": ""
                          }
                        },
                        "type": "parcoords"
                      }
                    ],
                    "pie": [
                      {
                        "automargin": true,
                        "type": "pie"
                      }
                    ],
                    "scatter": [
                      {
                        "fillpattern": {
                          "fillmode": "overlay",
                          "size": 10,
                          "solidity": 0.2
                        },
                        "type": "scatter"
                      }
                    ],
                    "scatter3d": [
                      {
                        "line": {
                          "colorbar": {
                            "outlinewidth": 0,
                            "ticks": ""
                          }
                        },
                        "marker": {
                          "colorbar": {
                            "outlinewidth": 0,
                            "ticks": ""
                          }
                        },
                        "type": "scatter3d"
                      }
                    ],
                    "scattercarpet": [
                      {
                        "marker": {
                          "colorbar": {
                            "outlinewidth": 0,
                            "ticks": ""
                          }
                        },
                        "type": "scattercarpet"
                      }
                    ],
                    "scattergeo": [
                      {
                        "marker": {
                          "colorbar": {
                            "outlinewidth": 0,
                            "ticks": ""
                          }
                        },
                        "type": "scattergeo"
                      }
                    ],
                    "scattergl": [
                      {
                        "marker": {
                          "colorbar": {
                            "outlinewidth": 0,
                            "ticks": ""
                          }
                        },
                        "type": "scattergl"
                      }
                    ],
                    "scattermapbox": [
                      {
                        "marker": {
                          "colorbar": {
                            "outlinewidth": 0,
                            "ticks": ""
                          }
                        },
                        "type": "scattermapbox"
                      }
                    ],
                    "scatterpolar": [
                      {
                        "marker": {
                          "colorbar": {
                            "outlinewidth": 0,
                            "ticks": ""
                          }
                        },
                        "type": "scatterpolar"
                      }
                    ],
                    "scatterpolargl": [
                      {
                        "marker": {
                          "colorbar": {
                            "outlinewidth": 0,
                            "ticks": ""
                          }
                        },
                        "type": "scatterpolargl"
                      }
                    ],
                    "scatterternary": [
                      {
                        "marker": {
                          "colorbar": {
                            "outlinewidth": 0,
                            "ticks": ""
                          }
                        },
                        "type": "scatterternary"
                      }
                    ],
                    "surface": [
                      {
                        "colorbar": {
                          "outlinewidth": 0,
                          "ticks": ""
                        },
                        "colorscale": [
                          [
                            0,
                            "#0d0887"
                          ],
                          [
                            0.1111111111111111,
                            "#46039f"
                          ],
                          [
                            0.2222222222222222,
                            "#7201a8"
                          ],
                          [
                            0.3333333333333333,
                            "#9c179e"
                          ],
                          [
                            0.4444444444444444,
                            "#bd3786"
                          ],
                          [
                            0.5555555555555556,
                            "#d8576b"
                          ],
                          [
                            0.6666666666666666,
                            "#ed7953"
                          ],
                          [
                            0.7777777777777778,
                            "#fb9f3a"
                          ],
                          [
                            0.8888888888888888,
                            "#fdca26"
                          ],
                          [
                            1,
                            "#f0f921"
                          ]
                        ],
                        "type": "surface"
                      }
                    ],
                    "table": [
                      {
                        "cells": {
                          "fill": {
                            "color": "#EBF0F8"
                          },
                          "line": {
                            "color": "white"
                          }
                        },
                        "header": {
                          "fill": {
                            "color": "#C8D4E3"
                          },
                          "line": {
                            "color": "white"
                          }
                        },
                        "type": "table"
                      }
                    ]
                  },
                  "layout": {
                    "annotationdefaults": {
                      "arrowcolor": "#2a3f5f",
                      "arrowhead": 0,
                      "arrowwidth": 1
                    },
                    "autotypenumbers": "strict",
                    "coloraxis": {
                      "colorbar": {
                        "outlinewidth": 0,
                        "ticks": ""
                      }
                    },
                    "colorscale": {
                      "diverging": [
                        [
                          0,
                          "#8e0152"
                        ],
                        [
                          0.1,
                          "#c51b7d"
                        ],
                        [
                          0.2,
                          "#de77ae"
                        ],
                        [
                          0.3,
                          "#f1b6da"
                        ],
                        [
                          0.4,
                          "#fde0ef"
                        ],
                        [
                          0.5,
                          "#f7f7f7"
                        ],
                        [
                          0.6,
                          "#e6f5d0"
                        ],
                        [
                          0.7,
                          "#b8e186"
                        ],
                        [
                          0.8,
                          "#7fbc41"
                        ],
                        [
                          0.9,
                          "#4d9221"
                        ],
                        [
                          1,
                          "#276419"
                        ]
                      ],
                      "sequential": [
                        [
                          0,
                          "#0d0887"
                        ],
                        [
                          0.1111111111111111,
                          "#46039f"
                        ],
                        [
                          0.2222222222222222,
                          "#7201a8"
                        ],
                        [
                          0.3333333333333333,
                          "#9c179e"
                        ],
                        [
                          0.4444444444444444,
                          "#bd3786"
                        ],
                        [
                          0.5555555555555556,
                          "#d8576b"
                        ],
                        [
                          0.6666666666666666,
                          "#ed7953"
                        ],
                        [
                          0.7777777777777778,
                          "#fb9f3a"
                        ],
                        [
                          0.8888888888888888,
                          "#fdca26"
                        ],
                        [
                          1,
                          "#f0f921"
                        ]
                      ],
                      "sequentialminus": [
                        [
                          0,
                          "#0d0887"
                        ],
                        [
                          0.1111111111111111,
                          "#46039f"
                        ],
                        [
                          0.2222222222222222,
                          "#7201a8"
                        ],
                        [
                          0.3333333333333333,
                          "#9c179e"
                        ],
                        [
                          0.4444444444444444,
                          "#bd3786"
                        ],
                        [
                          0.5555555555555556,
                          "#d8576b"
                        ],
                        [
                          0.6666666666666666,
                          "#ed7953"
                        ],
                        [
                          0.7777777777777778,
                          "#fb9f3a"
                        ],
                        [
                          0.8888888888888888,
                          "#fdca26"
                        ],
                        [
                          1,
                          "#f0f921"
                        ]
                      ]
                    },
                    "colorway": [
                      "#636efa",
                      "#EF553B",
                      "#00cc96",
                      "#ab63fa",
                      "#FFA15A",
                      "#19d3f3",
                      "#FF6692",
                      "#B6E880",
                      "#FF97FF",
                      "#FECB52"
                    ],
                    "font": {
                      "color": "#2a3f5f"
                    },
                    "geo": {
                      "bgcolor": "white",
                      "lakecolor": "white",
                      "landcolor": "#E5ECF6",
                      "showlakes": true,
                      "showland": true,
                      "subunitcolor": "white"
                    },
                    "hoverlabel": {
                      "align": "left"
                    },
                    "hovermode": "closest",
                    "mapbox": {
                      "style": "light"
                    },
                    "paper_bgcolor": "white",
                    "plot_bgcolor": "#E5ECF6",
                    "polar": {
                      "angularaxis": {
                        "gridcolor": "white",
                        "linecolor": "white",
                        "ticks": ""
                      },
                      "bgcolor": "#E5ECF6",
                      "radialaxis": {
                        "gridcolor": "white",
                        "linecolor": "white",
                        "ticks": ""
                      }
                    },
                    "scene": {
                      "xaxis": {
                        "backgroundcolor": "#E5ECF6",
                        "gridcolor": "white",
                        "gridwidth": 2,
                        "linecolor": "white",
                        "showbackground": true,
                        "ticks": "",
                        "zerolinecolor": "white"
                      },
                      "yaxis": {
                        "backgroundcolor": "#E5ECF6",
                        "gridcolor": "white",
                        "gridwidth": 2,
                        "linecolor": "white",
                        "showbackground": true,
                        "ticks": "",
                        "zerolinecolor": "white"
                      },
                      "zaxis": {
                        "backgroundcolor": "#E5ECF6",
                        "gridcolor": "white",
                        "gridwidth": 2,
                        "linecolor": "white",
                        "showbackground": true,
                        "ticks": "",
                        "zerolinecolor": "white"
                      }
                    },
                    "shapedefaults": {
                      "line": {
                        "color": "#2a3f5f"
                      }
                    },
                    "ternary": {
                      "aaxis": {
                        "gridcolor": "white",
                        "linecolor": "white",
                        "ticks": ""
                      },
                      "baxis": {
                        "gridcolor": "white",
                        "linecolor": "white",
                        "ticks": ""
                      },
                      "bgcolor": "#E5ECF6",
                      "caxis": {
                        "gridcolor": "white",
                        "linecolor": "white",
                        "ticks": ""
                      }
                    },
                    "title": {
                      "x": 0.05
                    },
                    "xaxis": {
                      "automargin": true,
                      "gridcolor": "white",
                      "linecolor": "white",
                      "ticks": "",
                      "title": {
                        "standoff": 15
                      },
                      "zerolinecolor": "white",
                      "zerolinewidth": 2
                    },
                    "yaxis": {
                      "automargin": true,
                      "gridcolor": "white",
                      "linecolor": "white",
                      "ticks": "",
                      "title": {
                        "standoff": 15
                      },
                      "zerolinecolor": "white",
                      "zerolinewidth": 2
                    }
                  }
                },
                "title": {
                  "text": "Grafico lineal de unidades vendidas por dia en diferentes meses"
                },
                "xaxis": {
                  "tickvals": [
                    0,
                    1,
                    2,
                    3,
                    4,
                    5,
                    6,
                    7,
                    8,
                    9,
                    10,
                    11,
                    12,
                    13,
                    14,
                    15,
                    16,
                    17,
                    18,
                    19,
                    20,
                    21,
                    22,
                    23
                  ],
                  "title": {
                    "text": "Hora"
                  }
                },
                "yaxis": {
                  "side": "left",
                  "title": {
                    "text": "Unidades vendidas"
                  }
                }
              }
            }
          },
          "metadata": {},
          "output_type": "display_data"
        }
      ],
      "source": [
        "#Crear un objeto figura para el gráfico\n",
        "fig = go.Figure()\n",
        "\n",
        "# Lista para almacenar los datos de ventas por hora de cada mes\n",
        "ventas_pordia_pormes = []\n",
        "etiquetas = []\n",
        "ventas_por_dia_enaños = []\n",
        "# Iterar a través de cada mes en la lista 'meses'\n",
        "for mes in meses:\n",
        "    # Obtener el DataFrame correspondiente al mes\n",
        "    dataframe_mes = df_extraidos[mes]\n",
        "       \n",
        "    # Calcular el número de ventas por hora para este mes y almacenarlo en 'Ventas_por_hora'\n",
        "    Ventas_por_dia = dataframe_mes.groupby('strDia')['Cantidad Pedida'].sum()\n",
        "    \n",
        "    #agrupacion por dia y mes\n",
        "    ventas_por_dia_enaños.append(dataframe_mes.groupby(['año','strDia'])['Cantidad Pedida'].sum())\n",
        "\n",
        "    # Agregar los datos de ventas por hora de este mes a la lista 'ventas_por_hora_por_mes'\n",
        "    ventas_pordia_pormes.append(Ventas_por_dia.tolist())\n",
        "\n",
        "total_pordia_pormes = np.sum(ventas_pordia_pormes, axis=0)\n",
        "for i in range(len(dias_semana)):\n",
        "    etiquetas.append( dias_semana[i] + \"\\n TOTAL:\" + str(total_pordia_pormes[i]))\n",
        "\n",
        "# Iterar sobre la lista de datos y agregar cada mes al objeto figura 'fig'\n",
        "for i, mes in enumerate(meses):\n",
        "    fig.add_trace(go.Scatter(\n",
        "        x=etiquetas,  # Eje X: Horas del día\n",
        "        y=ventas_pordia_pormes[i],  # Eje Y: Datos de ventas por hora para este mes\n",
        "        mode='lines+markers',  # Tipo de gráfico: líneas\n",
        "        name=mes,  # Etiqueta para la leyenda del gráfico\n",
        "        line=dict(width=2, shape='spline'),  # Configuración de las líneas del gráfico\n",
        "        marker=dict(size=10)  # Configuración de las marcas del gráfico\n",
        "    ))\n",
        "\n",
        "# Configurar los ejes y los títulos del gráfico\n",
        "fig.update_layout(\n",
        "    title=\"Grafico lineal de unidades vendidas por dia en diferentes meses\",  # Título del gráfico\n",
        "    xaxis=dict(title=\"Hora\", tickvals=Horas),  # Configuración del eje X\n",
        "    yaxis=dict(title=\"Unidades vendidas\", side=\"left\"),  # Configuración del eje Y\n",
        "    legend=dict(y=0.3, yanchor='bottom'),  # Configuración de la leyenda\n",
        ")\n",
        "\n",
        "# Mostrar el gráfico\n",
        "fig.show()\n",
        "#ventas_pordia_pormes = np.sum(ventas_pordia_pormes, axis=0)\n"
      ]
    },
    {
      "cell_type": "code",
      "execution_count": 320,
      "metadata": {},
      "outputs": [
        {
          "data": {
            "application/vnd.plotly.v1+json": {
              "config": {
                "plotlyServerURL": "https://plot.ly"
              },
              "data": [
                {
                  "marker": {
                    "color": [
                      1381,
                      1905,
                      2177,
                      3297,
                      2386,
                      1982,
                      2667,
                      1742,
                      2176,
                      2901,
                      2645,
                      4600
                    ],
                    "colorscale": [
                      [
                        0,
                        "rgb(165,0,38)"
                      ],
                      [
                        0.1,
                        "rgb(215,48,39)"
                      ],
                      [
                        0.2,
                        "rgb(244,109,67)"
                      ],
                      [
                        0.3,
                        "rgb(253,174,97)"
                      ],
                      [
                        0.4,
                        "rgb(254,224,139)"
                      ],
                      [
                        0.5,
                        "rgb(255,255,191)"
                      ],
                      [
                        0.6,
                        "rgb(217,239,139)"
                      ],
                      [
                        0.7,
                        "rgb(166,217,106)"
                      ],
                      [
                        0.8,
                        "rgb(102,189,99)"
                      ],
                      [
                        0.9,
                        "rgb(26,152,80)"
                      ],
                      [
                        1,
                        "rgb(0,104,55)"
                      ]
                    ]
                  },
                  "name": "Lunes",
                  "type": "bar",
                  "x": [
                    "Enero",
                    "Febrero",
                    "Marzo",
                    "Abril",
                    "Mayo",
                    "Junio",
                    "Julio",
                    "Agosto",
                    "Septiembre",
                    "Octubre",
                    "Noviembre",
                    "Diciembre"
                  ],
                  "y": [
                    1381,
                    1905,
                    2177,
                    3297,
                    2386,
                    1982,
                    2667,
                    1742,
                    2176,
                    2901,
                    2645,
                    4600
                  ]
                },
                {
                  "marker": {
                    "color": [
                      1736,
                      1862,
                      2204,
                      3401,
                      2531,
                      2030,
                      2577,
                      1759,
                      1763,
                      3618,
                      2654,
                      4567
                    ],
                    "colorscale": [
                      [
                        0,
                        "rgb(165,0,38)"
                      ],
                      [
                        0.1,
                        "rgb(215,48,39)"
                      ],
                      [
                        0.2,
                        "rgb(244,109,67)"
                      ],
                      [
                        0.3,
                        "rgb(253,174,97)"
                      ],
                      [
                        0.4,
                        "rgb(254,224,139)"
                      ],
                      [
                        0.5,
                        "rgb(255,255,191)"
                      ],
                      [
                        0.6,
                        "rgb(217,239,139)"
                      ],
                      [
                        0.7,
                        "rgb(166,217,106)"
                      ],
                      [
                        0.8,
                        "rgb(102,189,99)"
                      ],
                      [
                        0.9,
                        "rgb(26,152,80)"
                      ],
                      [
                        1,
                        "rgb(0,104,55)"
                      ]
                    ]
                  },
                  "name": "Martes",
                  "type": "bar",
                  "x": [
                    "Enero",
                    "Febrero",
                    "Marzo",
                    "Abril",
                    "Mayo",
                    "Junio",
                    "Julio",
                    "Agosto",
                    "Septiembre",
                    "Octubre",
                    "Noviembre",
                    "Diciembre"
                  ],
                  "y": [
                    1736,
                    1862,
                    2204,
                    3401,
                    2531,
                    2030,
                    2577,
                    1759,
                    1763,
                    3618,
                    2654,
                    4567
                  ]
                },
                {
                  "marker": {
                    "color": [
                      1738,
                      2004,
                      2211,
                      2819,
                      2985,
                      2127,
                      2520,
                      1770,
                      1743,
                      3623,
                      2644,
                      3545
                    ],
                    "colorscale": [
                      [
                        0,
                        "rgb(165,0,38)"
                      ],
                      [
                        0.1,
                        "rgb(215,48,39)"
                      ],
                      [
                        0.2,
                        "rgb(244,109,67)"
                      ],
                      [
                        0.3,
                        "rgb(253,174,97)"
                      ],
                      [
                        0.4,
                        "rgb(254,224,139)"
                      ],
                      [
                        0.5,
                        "rgb(255,255,191)"
                      ],
                      [
                        0.6,
                        "rgb(217,239,139)"
                      ],
                      [
                        0.7,
                        "rgb(166,217,106)"
                      ],
                      [
                        0.8,
                        "rgb(102,189,99)"
                      ],
                      [
                        0.9,
                        "rgb(26,152,80)"
                      ],
                      [
                        1,
                        "rgb(0,104,55)"
                      ]
                    ]
                  },
                  "name": "Miércoles",
                  "type": "bar",
                  "x": [
                    "Enero",
                    "Febrero",
                    "Marzo",
                    "Abril",
                    "Mayo",
                    "Junio",
                    "Julio",
                    "Agosto",
                    "Septiembre",
                    "Octubre",
                    "Noviembre",
                    "Diciembre"
                  ],
                  "y": [
                    1738,
                    2004,
                    2211,
                    2819,
                    2985,
                    2127,
                    2520,
                    1770,
                    1743,
                    3623,
                    2644,
                    3545
                  ]
                },
                {
                  "marker": {
                    "color": [
                      1724,
                      1845,
                      2174,
                      2803,
                      3049,
                      2030,
                      2082,
                      2166,
                      1746,
                      3681,
                      2653,
                      3691
                    ],
                    "colorscale": [
                      [
                        0,
                        "rgb(165,0,38)"
                      ],
                      [
                        0.1,
                        "rgb(215,48,39)"
                      ],
                      [
                        0.2,
                        "rgb(244,109,67)"
                      ],
                      [
                        0.3,
                        "rgb(253,174,97)"
                      ],
                      [
                        0.4,
                        "rgb(254,224,139)"
                      ],
                      [
                        0.5,
                        "rgb(255,255,191)"
                      ],
                      [
                        0.6,
                        "rgb(217,239,139)"
                      ],
                      [
                        0.7,
                        "rgb(166,217,106)"
                      ],
                      [
                        0.8,
                        "rgb(102,189,99)"
                      ],
                      [
                        0.9,
                        "rgb(26,152,80)"
                      ],
                      [
                        1,
                        "rgb(0,104,55)"
                      ]
                    ]
                  },
                  "name": "Jueves",
                  "type": "bar",
                  "x": [
                    "Enero",
                    "Febrero",
                    "Marzo",
                    "Abril",
                    "Mayo",
                    "Junio",
                    "Julio",
                    "Agosto",
                    "Septiembre",
                    "Octubre",
                    "Noviembre",
                    "Diciembre"
                  ],
                  "y": [
                    1724,
                    1845,
                    2174,
                    2803,
                    3049,
                    2030,
                    2082,
                    2166,
                    1746,
                    3681,
                    2653,
                    3691
                  ]
                },
                {
                  "marker": {
                    "color": [
                      1386,
                      1898,
                      2704,
                      2657,
                      2909,
                      2042,
                      2085,
                      2124,
                      1766,
                      2884,
                      3297,
                      3648
                    ],
                    "colorscale": [
                      [
                        0,
                        "rgb(165,0,38)"
                      ],
                      [
                        0.1,
                        "rgb(215,48,39)"
                      ],
                      [
                        0.2,
                        "rgb(244,109,67)"
                      ],
                      [
                        0.3,
                        "rgb(253,174,97)"
                      ],
                      [
                        0.4,
                        "rgb(254,224,139)"
                      ],
                      [
                        0.5,
                        "rgb(255,255,191)"
                      ],
                      [
                        0.6,
                        "rgb(217,239,139)"
                      ],
                      [
                        0.7,
                        "rgb(166,217,106)"
                      ],
                      [
                        0.8,
                        "rgb(102,189,99)"
                      ],
                      [
                        0.9,
                        "rgb(26,152,80)"
                      ],
                      [
                        1,
                        "rgb(0,104,55)"
                      ]
                    ]
                  },
                  "name": "Viernes",
                  "type": "bar",
                  "x": [
                    "Enero",
                    "Febrero",
                    "Marzo",
                    "Abril",
                    "Mayo",
                    "Junio",
                    "Julio",
                    "Agosto",
                    "Septiembre",
                    "Octubre",
                    "Noviembre",
                    "Diciembre"
                  ],
                  "y": [
                    1386,
                    1898,
                    2704,
                    2657,
                    2909,
                    2042,
                    2085,
                    2124,
                    1766,
                    2884,
                    3297,
                    3648
                  ]
                },
                {
                  "marker": {
                    "color": [
                      1482,
                      1935,
                      2846,
                      2785,
                      2315,
                      2532,
                      2075,
                      2161,
                      1723,
                      3053,
                      3270,
                      3573
                    ],
                    "colorscale": [
                      [
                        0,
                        "rgb(165,0,38)"
                      ],
                      [
                        0.1,
                        "rgb(215,48,39)"
                      ],
                      [
                        0.2,
                        "rgb(244,109,67)"
                      ],
                      [
                        0.3,
                        "rgb(253,174,97)"
                      ],
                      [
                        0.4,
                        "rgb(254,224,139)"
                      ],
                      [
                        0.5,
                        "rgb(255,255,191)"
                      ],
                      [
                        0.6,
                        "rgb(217,239,139)"
                      ],
                      [
                        0.7,
                        "rgb(166,217,106)"
                      ],
                      [
                        0.8,
                        "rgb(102,189,99)"
                      ],
                      [
                        0.9,
                        "rgb(26,152,80)"
                      ],
                      [
                        1,
                        "rgb(0,104,55)"
                      ]
                    ]
                  },
                  "name": "Sábado",
                  "type": "bar",
                  "x": [
                    "Enero",
                    "Febrero",
                    "Marzo",
                    "Abril",
                    "Mayo",
                    "Junio",
                    "Julio",
                    "Agosto",
                    "Septiembre",
                    "Octubre",
                    "Noviembre",
                    "Diciembre"
                  ],
                  "y": [
                    1482,
                    1935,
                    2846,
                    2785,
                    2315,
                    2532,
                    2075,
                    2161,
                    1723,
                    3053,
                    3270,
                    3573
                  ]
                },
                {
                  "marker": {
                    "color": [
                      1415,
                      1994,
                      2671,
                      2777,
                      2463,
                      2491,
                      2045,
                      1708,
                      2180,
                      2921,
                      2611,
                      4456
                    ],
                    "colorbar": {
                      "thickness": 15,
                      "title": {
                        "text": "Total de ventas"
                      },
                      "x": 1
                    },
                    "colorscale": [
                      [
                        0,
                        "rgb(165,0,38)"
                      ],
                      [
                        0.1,
                        "rgb(215,48,39)"
                      ],
                      [
                        0.2,
                        "rgb(244,109,67)"
                      ],
                      [
                        0.3,
                        "rgb(253,174,97)"
                      ],
                      [
                        0.4,
                        "rgb(254,224,139)"
                      ],
                      [
                        0.5,
                        "rgb(255,255,191)"
                      ],
                      [
                        0.6,
                        "rgb(217,239,139)"
                      ],
                      [
                        0.7,
                        "rgb(166,217,106)"
                      ],
                      [
                        0.8,
                        "rgb(102,189,99)"
                      ],
                      [
                        0.9,
                        "rgb(26,152,80)"
                      ],
                      [
                        1,
                        "rgb(0,104,55)"
                      ]
                    ],
                    "line": {
                      "width": 2
                    }
                  },
                  "name": "Domingo",
                  "type": "bar",
                  "x": [
                    "Enero",
                    "Febrero",
                    "Marzo",
                    "Abril",
                    "Mayo",
                    "Junio",
                    "Julio",
                    "Agosto",
                    "Septiembre",
                    "Octubre",
                    "Noviembre",
                    "Diciembre"
                  ],
                  "y": [
                    1415,
                    1994,
                    2671,
                    2777,
                    2463,
                    2491,
                    2045,
                    1708,
                    2180,
                    2921,
                    2611,
                    4456
                  ]
                }
              ],
              "layout": {
                "barmode": "group",
                "legend": {
                  "x": 1.12
                },
                "template": {
                  "data": {
                    "bar": [
                      {
                        "error_x": {
                          "color": "#2a3f5f"
                        },
                        "error_y": {
                          "color": "#2a3f5f"
                        },
                        "marker": {
                          "line": {
                            "color": "#E5ECF6",
                            "width": 0.5
                          },
                          "pattern": {
                            "fillmode": "overlay",
                            "size": 10,
                            "solidity": 0.2
                          }
                        },
                        "type": "bar"
                      }
                    ],
                    "barpolar": [
                      {
                        "marker": {
                          "line": {
                            "color": "#E5ECF6",
                            "width": 0.5
                          },
                          "pattern": {
                            "fillmode": "overlay",
                            "size": 10,
                            "solidity": 0.2
                          }
                        },
                        "type": "barpolar"
                      }
                    ],
                    "carpet": [
                      {
                        "aaxis": {
                          "endlinecolor": "#2a3f5f",
                          "gridcolor": "white",
                          "linecolor": "white",
                          "minorgridcolor": "white",
                          "startlinecolor": "#2a3f5f"
                        },
                        "baxis": {
                          "endlinecolor": "#2a3f5f",
                          "gridcolor": "white",
                          "linecolor": "white",
                          "minorgridcolor": "white",
                          "startlinecolor": "#2a3f5f"
                        },
                        "type": "carpet"
                      }
                    ],
                    "choropleth": [
                      {
                        "colorbar": {
                          "outlinewidth": 0,
                          "ticks": ""
                        },
                        "type": "choropleth"
                      }
                    ],
                    "contour": [
                      {
                        "colorbar": {
                          "outlinewidth": 0,
                          "ticks": ""
                        },
                        "colorscale": [
                          [
                            0,
                            "#0d0887"
                          ],
                          [
                            0.1111111111111111,
                            "#46039f"
                          ],
                          [
                            0.2222222222222222,
                            "#7201a8"
                          ],
                          [
                            0.3333333333333333,
                            "#9c179e"
                          ],
                          [
                            0.4444444444444444,
                            "#bd3786"
                          ],
                          [
                            0.5555555555555556,
                            "#d8576b"
                          ],
                          [
                            0.6666666666666666,
                            "#ed7953"
                          ],
                          [
                            0.7777777777777778,
                            "#fb9f3a"
                          ],
                          [
                            0.8888888888888888,
                            "#fdca26"
                          ],
                          [
                            1,
                            "#f0f921"
                          ]
                        ],
                        "type": "contour"
                      }
                    ],
                    "contourcarpet": [
                      {
                        "colorbar": {
                          "outlinewidth": 0,
                          "ticks": ""
                        },
                        "type": "contourcarpet"
                      }
                    ],
                    "heatmap": [
                      {
                        "colorbar": {
                          "outlinewidth": 0,
                          "ticks": ""
                        },
                        "colorscale": [
                          [
                            0,
                            "#0d0887"
                          ],
                          [
                            0.1111111111111111,
                            "#46039f"
                          ],
                          [
                            0.2222222222222222,
                            "#7201a8"
                          ],
                          [
                            0.3333333333333333,
                            "#9c179e"
                          ],
                          [
                            0.4444444444444444,
                            "#bd3786"
                          ],
                          [
                            0.5555555555555556,
                            "#d8576b"
                          ],
                          [
                            0.6666666666666666,
                            "#ed7953"
                          ],
                          [
                            0.7777777777777778,
                            "#fb9f3a"
                          ],
                          [
                            0.8888888888888888,
                            "#fdca26"
                          ],
                          [
                            1,
                            "#f0f921"
                          ]
                        ],
                        "type": "heatmap"
                      }
                    ],
                    "heatmapgl": [
                      {
                        "colorbar": {
                          "outlinewidth": 0,
                          "ticks": ""
                        },
                        "colorscale": [
                          [
                            0,
                            "#0d0887"
                          ],
                          [
                            0.1111111111111111,
                            "#46039f"
                          ],
                          [
                            0.2222222222222222,
                            "#7201a8"
                          ],
                          [
                            0.3333333333333333,
                            "#9c179e"
                          ],
                          [
                            0.4444444444444444,
                            "#bd3786"
                          ],
                          [
                            0.5555555555555556,
                            "#d8576b"
                          ],
                          [
                            0.6666666666666666,
                            "#ed7953"
                          ],
                          [
                            0.7777777777777778,
                            "#fb9f3a"
                          ],
                          [
                            0.8888888888888888,
                            "#fdca26"
                          ],
                          [
                            1,
                            "#f0f921"
                          ]
                        ],
                        "type": "heatmapgl"
                      }
                    ],
                    "histogram": [
                      {
                        "marker": {
                          "pattern": {
                            "fillmode": "overlay",
                            "size": 10,
                            "solidity": 0.2
                          }
                        },
                        "type": "histogram"
                      }
                    ],
                    "histogram2d": [
                      {
                        "colorbar": {
                          "outlinewidth": 0,
                          "ticks": ""
                        },
                        "colorscale": [
                          [
                            0,
                            "#0d0887"
                          ],
                          [
                            0.1111111111111111,
                            "#46039f"
                          ],
                          [
                            0.2222222222222222,
                            "#7201a8"
                          ],
                          [
                            0.3333333333333333,
                            "#9c179e"
                          ],
                          [
                            0.4444444444444444,
                            "#bd3786"
                          ],
                          [
                            0.5555555555555556,
                            "#d8576b"
                          ],
                          [
                            0.6666666666666666,
                            "#ed7953"
                          ],
                          [
                            0.7777777777777778,
                            "#fb9f3a"
                          ],
                          [
                            0.8888888888888888,
                            "#fdca26"
                          ],
                          [
                            1,
                            "#f0f921"
                          ]
                        ],
                        "type": "histogram2d"
                      }
                    ],
                    "histogram2dcontour": [
                      {
                        "colorbar": {
                          "outlinewidth": 0,
                          "ticks": ""
                        },
                        "colorscale": [
                          [
                            0,
                            "#0d0887"
                          ],
                          [
                            0.1111111111111111,
                            "#46039f"
                          ],
                          [
                            0.2222222222222222,
                            "#7201a8"
                          ],
                          [
                            0.3333333333333333,
                            "#9c179e"
                          ],
                          [
                            0.4444444444444444,
                            "#bd3786"
                          ],
                          [
                            0.5555555555555556,
                            "#d8576b"
                          ],
                          [
                            0.6666666666666666,
                            "#ed7953"
                          ],
                          [
                            0.7777777777777778,
                            "#fb9f3a"
                          ],
                          [
                            0.8888888888888888,
                            "#fdca26"
                          ],
                          [
                            1,
                            "#f0f921"
                          ]
                        ],
                        "type": "histogram2dcontour"
                      }
                    ],
                    "mesh3d": [
                      {
                        "colorbar": {
                          "outlinewidth": 0,
                          "ticks": ""
                        },
                        "type": "mesh3d"
                      }
                    ],
                    "parcoords": [
                      {
                        "line": {
                          "colorbar": {
                            "outlinewidth": 0,
                            "ticks": ""
                          }
                        },
                        "type": "parcoords"
                      }
                    ],
                    "pie": [
                      {
                        "automargin": true,
                        "type": "pie"
                      }
                    ],
                    "scatter": [
                      {
                        "fillpattern": {
                          "fillmode": "overlay",
                          "size": 10,
                          "solidity": 0.2
                        },
                        "type": "scatter"
                      }
                    ],
                    "scatter3d": [
                      {
                        "line": {
                          "colorbar": {
                            "outlinewidth": 0,
                            "ticks": ""
                          }
                        },
                        "marker": {
                          "colorbar": {
                            "outlinewidth": 0,
                            "ticks": ""
                          }
                        },
                        "type": "scatter3d"
                      }
                    ],
                    "scattercarpet": [
                      {
                        "marker": {
                          "colorbar": {
                            "outlinewidth": 0,
                            "ticks": ""
                          }
                        },
                        "type": "scattercarpet"
                      }
                    ],
                    "scattergeo": [
                      {
                        "marker": {
                          "colorbar": {
                            "outlinewidth": 0,
                            "ticks": ""
                          }
                        },
                        "type": "scattergeo"
                      }
                    ],
                    "scattergl": [
                      {
                        "marker": {
                          "colorbar": {
                            "outlinewidth": 0,
                            "ticks": ""
                          }
                        },
                        "type": "scattergl"
                      }
                    ],
                    "scattermapbox": [
                      {
                        "marker": {
                          "colorbar": {
                            "outlinewidth": 0,
                            "ticks": ""
                          }
                        },
                        "type": "scattermapbox"
                      }
                    ],
                    "scatterpolar": [
                      {
                        "marker": {
                          "colorbar": {
                            "outlinewidth": 0,
                            "ticks": ""
                          }
                        },
                        "type": "scatterpolar"
                      }
                    ],
                    "scatterpolargl": [
                      {
                        "marker": {
                          "colorbar": {
                            "outlinewidth": 0,
                            "ticks": ""
                          }
                        },
                        "type": "scatterpolargl"
                      }
                    ],
                    "scatterternary": [
                      {
                        "marker": {
                          "colorbar": {
                            "outlinewidth": 0,
                            "ticks": ""
                          }
                        },
                        "type": "scatterternary"
                      }
                    ],
                    "surface": [
                      {
                        "colorbar": {
                          "outlinewidth": 0,
                          "ticks": ""
                        },
                        "colorscale": [
                          [
                            0,
                            "#0d0887"
                          ],
                          [
                            0.1111111111111111,
                            "#46039f"
                          ],
                          [
                            0.2222222222222222,
                            "#7201a8"
                          ],
                          [
                            0.3333333333333333,
                            "#9c179e"
                          ],
                          [
                            0.4444444444444444,
                            "#bd3786"
                          ],
                          [
                            0.5555555555555556,
                            "#d8576b"
                          ],
                          [
                            0.6666666666666666,
                            "#ed7953"
                          ],
                          [
                            0.7777777777777778,
                            "#fb9f3a"
                          ],
                          [
                            0.8888888888888888,
                            "#fdca26"
                          ],
                          [
                            1,
                            "#f0f921"
                          ]
                        ],
                        "type": "surface"
                      }
                    ],
                    "table": [
                      {
                        "cells": {
                          "fill": {
                            "color": "#EBF0F8"
                          },
                          "line": {
                            "color": "white"
                          }
                        },
                        "header": {
                          "fill": {
                            "color": "#C8D4E3"
                          },
                          "line": {
                            "color": "white"
                          }
                        },
                        "type": "table"
                      }
                    ]
                  },
                  "layout": {
                    "annotationdefaults": {
                      "arrowcolor": "#2a3f5f",
                      "arrowhead": 0,
                      "arrowwidth": 1
                    },
                    "autotypenumbers": "strict",
                    "coloraxis": {
                      "colorbar": {
                        "outlinewidth": 0,
                        "ticks": ""
                      }
                    },
                    "colorscale": {
                      "diverging": [
                        [
                          0,
                          "#8e0152"
                        ],
                        [
                          0.1,
                          "#c51b7d"
                        ],
                        [
                          0.2,
                          "#de77ae"
                        ],
                        [
                          0.3,
                          "#f1b6da"
                        ],
                        [
                          0.4,
                          "#fde0ef"
                        ],
                        [
                          0.5,
                          "#f7f7f7"
                        ],
                        [
                          0.6,
                          "#e6f5d0"
                        ],
                        [
                          0.7,
                          "#b8e186"
                        ],
                        [
                          0.8,
                          "#7fbc41"
                        ],
                        [
                          0.9,
                          "#4d9221"
                        ],
                        [
                          1,
                          "#276419"
                        ]
                      ],
                      "sequential": [
                        [
                          0,
                          "#0d0887"
                        ],
                        [
                          0.1111111111111111,
                          "#46039f"
                        ],
                        [
                          0.2222222222222222,
                          "#7201a8"
                        ],
                        [
                          0.3333333333333333,
                          "#9c179e"
                        ],
                        [
                          0.4444444444444444,
                          "#bd3786"
                        ],
                        [
                          0.5555555555555556,
                          "#d8576b"
                        ],
                        [
                          0.6666666666666666,
                          "#ed7953"
                        ],
                        [
                          0.7777777777777778,
                          "#fb9f3a"
                        ],
                        [
                          0.8888888888888888,
                          "#fdca26"
                        ],
                        [
                          1,
                          "#f0f921"
                        ]
                      ],
                      "sequentialminus": [
                        [
                          0,
                          "#0d0887"
                        ],
                        [
                          0.1111111111111111,
                          "#46039f"
                        ],
                        [
                          0.2222222222222222,
                          "#7201a8"
                        ],
                        [
                          0.3333333333333333,
                          "#9c179e"
                        ],
                        [
                          0.4444444444444444,
                          "#bd3786"
                        ],
                        [
                          0.5555555555555556,
                          "#d8576b"
                        ],
                        [
                          0.6666666666666666,
                          "#ed7953"
                        ],
                        [
                          0.7777777777777778,
                          "#fb9f3a"
                        ],
                        [
                          0.8888888888888888,
                          "#fdca26"
                        ],
                        [
                          1,
                          "#f0f921"
                        ]
                      ]
                    },
                    "colorway": [
                      "#636efa",
                      "#EF553B",
                      "#00cc96",
                      "#ab63fa",
                      "#FFA15A",
                      "#19d3f3",
                      "#FF6692",
                      "#B6E880",
                      "#FF97FF",
                      "#FECB52"
                    ],
                    "font": {
                      "color": "#2a3f5f"
                    },
                    "geo": {
                      "bgcolor": "white",
                      "lakecolor": "white",
                      "landcolor": "#E5ECF6",
                      "showlakes": true,
                      "showland": true,
                      "subunitcolor": "white"
                    },
                    "hoverlabel": {
                      "align": "left"
                    },
                    "hovermode": "closest",
                    "mapbox": {
                      "style": "light"
                    },
                    "paper_bgcolor": "white",
                    "plot_bgcolor": "#E5ECF6",
                    "polar": {
                      "angularaxis": {
                        "gridcolor": "white",
                        "linecolor": "white",
                        "ticks": ""
                      },
                      "bgcolor": "#E5ECF6",
                      "radialaxis": {
                        "gridcolor": "white",
                        "linecolor": "white",
                        "ticks": ""
                      }
                    },
                    "scene": {
                      "xaxis": {
                        "backgroundcolor": "#E5ECF6",
                        "gridcolor": "white",
                        "gridwidth": 2,
                        "linecolor": "white",
                        "showbackground": true,
                        "ticks": "",
                        "zerolinecolor": "white"
                      },
                      "yaxis": {
                        "backgroundcolor": "#E5ECF6",
                        "gridcolor": "white",
                        "gridwidth": 2,
                        "linecolor": "white",
                        "showbackground": true,
                        "ticks": "",
                        "zerolinecolor": "white"
                      },
                      "zaxis": {
                        "backgroundcolor": "#E5ECF6",
                        "gridcolor": "white",
                        "gridwidth": 2,
                        "linecolor": "white",
                        "showbackground": true,
                        "ticks": "",
                        "zerolinecolor": "white"
                      }
                    },
                    "shapedefaults": {
                      "line": {
                        "color": "#2a3f5f"
                      }
                    },
                    "ternary": {
                      "aaxis": {
                        "gridcolor": "white",
                        "linecolor": "white",
                        "ticks": ""
                      },
                      "baxis": {
                        "gridcolor": "white",
                        "linecolor": "white",
                        "ticks": ""
                      },
                      "bgcolor": "#E5ECF6",
                      "caxis": {
                        "gridcolor": "white",
                        "linecolor": "white",
                        "ticks": ""
                      }
                    },
                    "title": {
                      "x": 0.05
                    },
                    "xaxis": {
                      "automargin": true,
                      "gridcolor": "white",
                      "linecolor": "white",
                      "ticks": "",
                      "title": {
                        "standoff": 15
                      },
                      "zerolinecolor": "white",
                      "zerolinewidth": 2
                    },
                    "yaxis": {
                      "automargin": true,
                      "gridcolor": "white",
                      "linecolor": "white",
                      "ticks": "",
                      "title": {
                        "standoff": 15
                      },
                      "zerolinecolor": "white",
                      "zerolinewidth": 2
                    }
                  }
                },
                "title": {
                  "text": "Cantidad ventas por dia en cada mes comparado con barras"
                },
                "xaxis": {
                  "title": {
                    "text": "Día de la semana"
                  }
                },
                "yaxis": {
                  "title": {
                    "text": "Cantidad"
                  }
                }
              }
            }
          },
          "metadata": {},
          "output_type": "display_data"
        }
      ],
      "source": [
        "# Lista para almacenar los datos de ventas por hora de cada mes\n",
        "ventas_semana_pormes = []\n",
        "\n",
        "# Iterar a través de cada mes en la lista 'meses'\n",
        "for mes in meses:\n",
        "    # Obtener el DataFrame correspondiente al mes\n",
        "    dataframe_mes = df_extraidos[mes]\n",
        "    \n",
        "    # Calcular el número de ventas por hora para este mes y almacenarlo en 'Ventas_por_hora'\n",
        "    Ventas_por_dia = dataframe_mes.groupby('strDia')['Cantidad Pedida'].sum().tolist()\n",
        "    \n",
        "    # Agregar los datos de ventas por hora de este mes a la lista 'ventas_por_hora_por_mes'\n",
        "    ventas_semana_pormes.append(Ventas_por_dia)\n",
        "ventas_dia_mes = []\n",
        "for i in range(7):\n",
        "    temp = []\n",
        "    for x in range(12):\n",
        "        temp.append(ventas_semana_pormes[x][i])\n",
        "    ventas_dia_mes.append(temp)\n",
        "\n",
        "fig = go.Figure()\n",
        "\n",
        "for i, dia in enumerate(dias_semana):\n",
        "    if i != len(dias_semana)-1:\n",
        "        fig.add_trace(go.Bar(\n",
        "            x=meses,\n",
        "            y=ventas_dia_mes[i],\n",
        "            name=dia,\n",
        "            marker=dict(color=ventas_dia_mes[i], colorscale = 'RdYlGn'),\n",
        "        ))\n",
        "    else:\n",
        "        fig.add_trace(go.Bar(\n",
        "            x=meses,\n",
        "            y=ventas_dia_mes[i],\n",
        "            name=dia,\n",
        "            marker=dict(color=ventas_dia_mes[i], colorscale = 'RdYlGn', colorbar=dict(title=\"Total de ventas\", x=1.0, thickness=15), line=dict(width=2)),\n",
        "        ))\n",
        "\n",
        "# Configuración adicional del gráfico\n",
        "fig.update_layout(\n",
        "    title='Cantidad ventas por dia en cada mes comparado con barras',\n",
        "    xaxis_title='Día de la semana',\n",
        "    yaxis_title='Cantidad',\n",
        "    barmode='group',  # Agrupa las barras\n",
        "    legend=dict(x = 1.12), #separa la lista de dias \n",
        ")\n",
        "\n",
        "fig.show()"
      ]
    },
    {
      "cell_type": "markdown",
      "metadata": {},
      "source": [
        "Periodos de estaciones en EEUU.\n",
        "Diciembre, enero y febrero = Invierno\n",
        "marzo, abril y mayo = Primavera\n",
        "Junio, Julio y Agosto = Verano\n",
        "Septiembre, Octubre y Noviembre = Otoño\n",
        "\n",
        "Vemos una caida de ventas sobre las fechas que algunas escuelas programan para receso de verano entre mayo y septiembre.\n",
        "Las ultimas semanas de marzo se programa un break de primavera y retoman las clases donde vemos el pico de ventas en esta estacion.\n",
        "Diciembre crece notablemente en ventas por dias festivos y por el frio del invierno durante Enero y Febrero vemos una caida significativa de pedidos.\n",
        "\n"
      ]
    },
    {
      "cell_type": "markdown",
      "metadata": {},
      "source": [
        "¿Cómo varían las ventas a lo largo de los diferentes días de la semana?"
      ]
    },
    {
      "cell_type": "code",
      "execution_count": 304,
      "metadata": {},
      "outputs": [
        {
          "data": {
            "application/vnd.plotly.v1+json": {
              "config": {
                "plotlyServerURL": "https://plot.ly"
              },
              "data": [
                {
                  "line": {
                    "shape": "spline",
                    "width": 2
                  },
                  "marker": {
                    "size": 10
                  },
                  "mode": "lines+markers",
                  "name": "Diciembre",
                  "type": "scatter",
                  "x": [
                    "Lunes",
                    "Martes",
                    "Miércoles",
                    "Jueves",
                    "Viernes",
                    "Sábado",
                    "Domingo"
                  ],
                  "y": [
                    29859,
                    30702,
                    29729,
                    29644,
                    29400,
                    29750,
                    29732
                  ]
                }
              ],
              "layout": {
                "legend": {
                  "y": 0.3,
                  "yanchor": "bottom"
                },
                "template": {
                  "data": {
                    "bar": [
                      {
                        "error_x": {
                          "color": "#2a3f5f"
                        },
                        "error_y": {
                          "color": "#2a3f5f"
                        },
                        "marker": {
                          "line": {
                            "color": "#E5ECF6",
                            "width": 0.5
                          },
                          "pattern": {
                            "fillmode": "overlay",
                            "size": 10,
                            "solidity": 0.2
                          }
                        },
                        "type": "bar"
                      }
                    ],
                    "barpolar": [
                      {
                        "marker": {
                          "line": {
                            "color": "#E5ECF6",
                            "width": 0.5
                          },
                          "pattern": {
                            "fillmode": "overlay",
                            "size": 10,
                            "solidity": 0.2
                          }
                        },
                        "type": "barpolar"
                      }
                    ],
                    "carpet": [
                      {
                        "aaxis": {
                          "endlinecolor": "#2a3f5f",
                          "gridcolor": "white",
                          "linecolor": "white",
                          "minorgridcolor": "white",
                          "startlinecolor": "#2a3f5f"
                        },
                        "baxis": {
                          "endlinecolor": "#2a3f5f",
                          "gridcolor": "white",
                          "linecolor": "white",
                          "minorgridcolor": "white",
                          "startlinecolor": "#2a3f5f"
                        },
                        "type": "carpet"
                      }
                    ],
                    "choropleth": [
                      {
                        "colorbar": {
                          "outlinewidth": 0,
                          "ticks": ""
                        },
                        "type": "choropleth"
                      }
                    ],
                    "contour": [
                      {
                        "colorbar": {
                          "outlinewidth": 0,
                          "ticks": ""
                        },
                        "colorscale": [
                          [
                            0,
                            "#0d0887"
                          ],
                          [
                            0.1111111111111111,
                            "#46039f"
                          ],
                          [
                            0.2222222222222222,
                            "#7201a8"
                          ],
                          [
                            0.3333333333333333,
                            "#9c179e"
                          ],
                          [
                            0.4444444444444444,
                            "#bd3786"
                          ],
                          [
                            0.5555555555555556,
                            "#d8576b"
                          ],
                          [
                            0.6666666666666666,
                            "#ed7953"
                          ],
                          [
                            0.7777777777777778,
                            "#fb9f3a"
                          ],
                          [
                            0.8888888888888888,
                            "#fdca26"
                          ],
                          [
                            1,
                            "#f0f921"
                          ]
                        ],
                        "type": "contour"
                      }
                    ],
                    "contourcarpet": [
                      {
                        "colorbar": {
                          "outlinewidth": 0,
                          "ticks": ""
                        },
                        "type": "contourcarpet"
                      }
                    ],
                    "heatmap": [
                      {
                        "colorbar": {
                          "outlinewidth": 0,
                          "ticks": ""
                        },
                        "colorscale": [
                          [
                            0,
                            "#0d0887"
                          ],
                          [
                            0.1111111111111111,
                            "#46039f"
                          ],
                          [
                            0.2222222222222222,
                            "#7201a8"
                          ],
                          [
                            0.3333333333333333,
                            "#9c179e"
                          ],
                          [
                            0.4444444444444444,
                            "#bd3786"
                          ],
                          [
                            0.5555555555555556,
                            "#d8576b"
                          ],
                          [
                            0.6666666666666666,
                            "#ed7953"
                          ],
                          [
                            0.7777777777777778,
                            "#fb9f3a"
                          ],
                          [
                            0.8888888888888888,
                            "#fdca26"
                          ],
                          [
                            1,
                            "#f0f921"
                          ]
                        ],
                        "type": "heatmap"
                      }
                    ],
                    "heatmapgl": [
                      {
                        "colorbar": {
                          "outlinewidth": 0,
                          "ticks": ""
                        },
                        "colorscale": [
                          [
                            0,
                            "#0d0887"
                          ],
                          [
                            0.1111111111111111,
                            "#46039f"
                          ],
                          [
                            0.2222222222222222,
                            "#7201a8"
                          ],
                          [
                            0.3333333333333333,
                            "#9c179e"
                          ],
                          [
                            0.4444444444444444,
                            "#bd3786"
                          ],
                          [
                            0.5555555555555556,
                            "#d8576b"
                          ],
                          [
                            0.6666666666666666,
                            "#ed7953"
                          ],
                          [
                            0.7777777777777778,
                            "#fb9f3a"
                          ],
                          [
                            0.8888888888888888,
                            "#fdca26"
                          ],
                          [
                            1,
                            "#f0f921"
                          ]
                        ],
                        "type": "heatmapgl"
                      }
                    ],
                    "histogram": [
                      {
                        "marker": {
                          "pattern": {
                            "fillmode": "overlay",
                            "size": 10,
                            "solidity": 0.2
                          }
                        },
                        "type": "histogram"
                      }
                    ],
                    "histogram2d": [
                      {
                        "colorbar": {
                          "outlinewidth": 0,
                          "ticks": ""
                        },
                        "colorscale": [
                          [
                            0,
                            "#0d0887"
                          ],
                          [
                            0.1111111111111111,
                            "#46039f"
                          ],
                          [
                            0.2222222222222222,
                            "#7201a8"
                          ],
                          [
                            0.3333333333333333,
                            "#9c179e"
                          ],
                          [
                            0.4444444444444444,
                            "#bd3786"
                          ],
                          [
                            0.5555555555555556,
                            "#d8576b"
                          ],
                          [
                            0.6666666666666666,
                            "#ed7953"
                          ],
                          [
                            0.7777777777777778,
                            "#fb9f3a"
                          ],
                          [
                            0.8888888888888888,
                            "#fdca26"
                          ],
                          [
                            1,
                            "#f0f921"
                          ]
                        ],
                        "type": "histogram2d"
                      }
                    ],
                    "histogram2dcontour": [
                      {
                        "colorbar": {
                          "outlinewidth": 0,
                          "ticks": ""
                        },
                        "colorscale": [
                          [
                            0,
                            "#0d0887"
                          ],
                          [
                            0.1111111111111111,
                            "#46039f"
                          ],
                          [
                            0.2222222222222222,
                            "#7201a8"
                          ],
                          [
                            0.3333333333333333,
                            "#9c179e"
                          ],
                          [
                            0.4444444444444444,
                            "#bd3786"
                          ],
                          [
                            0.5555555555555556,
                            "#d8576b"
                          ],
                          [
                            0.6666666666666666,
                            "#ed7953"
                          ],
                          [
                            0.7777777777777778,
                            "#fb9f3a"
                          ],
                          [
                            0.8888888888888888,
                            "#fdca26"
                          ],
                          [
                            1,
                            "#f0f921"
                          ]
                        ],
                        "type": "histogram2dcontour"
                      }
                    ],
                    "mesh3d": [
                      {
                        "colorbar": {
                          "outlinewidth": 0,
                          "ticks": ""
                        },
                        "type": "mesh3d"
                      }
                    ],
                    "parcoords": [
                      {
                        "line": {
                          "colorbar": {
                            "outlinewidth": 0,
                            "ticks": ""
                          }
                        },
                        "type": "parcoords"
                      }
                    ],
                    "pie": [
                      {
                        "automargin": true,
                        "type": "pie"
                      }
                    ],
                    "scatter": [
                      {
                        "fillpattern": {
                          "fillmode": "overlay",
                          "size": 10,
                          "solidity": 0.2
                        },
                        "type": "scatter"
                      }
                    ],
                    "scatter3d": [
                      {
                        "line": {
                          "colorbar": {
                            "outlinewidth": 0,
                            "ticks": ""
                          }
                        },
                        "marker": {
                          "colorbar": {
                            "outlinewidth": 0,
                            "ticks": ""
                          }
                        },
                        "type": "scatter3d"
                      }
                    ],
                    "scattercarpet": [
                      {
                        "marker": {
                          "colorbar": {
                            "outlinewidth": 0,
                            "ticks": ""
                          }
                        },
                        "type": "scattercarpet"
                      }
                    ],
                    "scattergeo": [
                      {
                        "marker": {
                          "colorbar": {
                            "outlinewidth": 0,
                            "ticks": ""
                          }
                        },
                        "type": "scattergeo"
                      }
                    ],
                    "scattergl": [
                      {
                        "marker": {
                          "colorbar": {
                            "outlinewidth": 0,
                            "ticks": ""
                          }
                        },
                        "type": "scattergl"
                      }
                    ],
                    "scattermapbox": [
                      {
                        "marker": {
                          "colorbar": {
                            "outlinewidth": 0,
                            "ticks": ""
                          }
                        },
                        "type": "scattermapbox"
                      }
                    ],
                    "scatterpolar": [
                      {
                        "marker": {
                          "colorbar": {
                            "outlinewidth": 0,
                            "ticks": ""
                          }
                        },
                        "type": "scatterpolar"
                      }
                    ],
                    "scatterpolargl": [
                      {
                        "marker": {
                          "colorbar": {
                            "outlinewidth": 0,
                            "ticks": ""
                          }
                        },
                        "type": "scatterpolargl"
                      }
                    ],
                    "scatterternary": [
                      {
                        "marker": {
                          "colorbar": {
                            "outlinewidth": 0,
                            "ticks": ""
                          }
                        },
                        "type": "scatterternary"
                      }
                    ],
                    "surface": [
                      {
                        "colorbar": {
                          "outlinewidth": 0,
                          "ticks": ""
                        },
                        "colorscale": [
                          [
                            0,
                            "#0d0887"
                          ],
                          [
                            0.1111111111111111,
                            "#46039f"
                          ],
                          [
                            0.2222222222222222,
                            "#7201a8"
                          ],
                          [
                            0.3333333333333333,
                            "#9c179e"
                          ],
                          [
                            0.4444444444444444,
                            "#bd3786"
                          ],
                          [
                            0.5555555555555556,
                            "#d8576b"
                          ],
                          [
                            0.6666666666666666,
                            "#ed7953"
                          ],
                          [
                            0.7777777777777778,
                            "#fb9f3a"
                          ],
                          [
                            0.8888888888888888,
                            "#fdca26"
                          ],
                          [
                            1,
                            "#f0f921"
                          ]
                        ],
                        "type": "surface"
                      }
                    ],
                    "table": [
                      {
                        "cells": {
                          "fill": {
                            "color": "#EBF0F8"
                          },
                          "line": {
                            "color": "white"
                          }
                        },
                        "header": {
                          "fill": {
                            "color": "#C8D4E3"
                          },
                          "line": {
                            "color": "white"
                          }
                        },
                        "type": "table"
                      }
                    ]
                  },
                  "layout": {
                    "annotationdefaults": {
                      "arrowcolor": "#2a3f5f",
                      "arrowhead": 0,
                      "arrowwidth": 1
                    },
                    "autotypenumbers": "strict",
                    "coloraxis": {
                      "colorbar": {
                        "outlinewidth": 0,
                        "ticks": ""
                      }
                    },
                    "colorscale": {
                      "diverging": [
                        [
                          0,
                          "#8e0152"
                        ],
                        [
                          0.1,
                          "#c51b7d"
                        ],
                        [
                          0.2,
                          "#de77ae"
                        ],
                        [
                          0.3,
                          "#f1b6da"
                        ],
                        [
                          0.4,
                          "#fde0ef"
                        ],
                        [
                          0.5,
                          "#f7f7f7"
                        ],
                        [
                          0.6,
                          "#e6f5d0"
                        ],
                        [
                          0.7,
                          "#b8e186"
                        ],
                        [
                          0.8,
                          "#7fbc41"
                        ],
                        [
                          0.9,
                          "#4d9221"
                        ],
                        [
                          1,
                          "#276419"
                        ]
                      ],
                      "sequential": [
                        [
                          0,
                          "#0d0887"
                        ],
                        [
                          0.1111111111111111,
                          "#46039f"
                        ],
                        [
                          0.2222222222222222,
                          "#7201a8"
                        ],
                        [
                          0.3333333333333333,
                          "#9c179e"
                        ],
                        [
                          0.4444444444444444,
                          "#bd3786"
                        ],
                        [
                          0.5555555555555556,
                          "#d8576b"
                        ],
                        [
                          0.6666666666666666,
                          "#ed7953"
                        ],
                        [
                          0.7777777777777778,
                          "#fb9f3a"
                        ],
                        [
                          0.8888888888888888,
                          "#fdca26"
                        ],
                        [
                          1,
                          "#f0f921"
                        ]
                      ],
                      "sequentialminus": [
                        [
                          0,
                          "#0d0887"
                        ],
                        [
                          0.1111111111111111,
                          "#46039f"
                        ],
                        [
                          0.2222222222222222,
                          "#7201a8"
                        ],
                        [
                          0.3333333333333333,
                          "#9c179e"
                        ],
                        [
                          0.4444444444444444,
                          "#bd3786"
                        ],
                        [
                          0.5555555555555556,
                          "#d8576b"
                        ],
                        [
                          0.6666666666666666,
                          "#ed7953"
                        ],
                        [
                          0.7777777777777778,
                          "#fb9f3a"
                        ],
                        [
                          0.8888888888888888,
                          "#fdca26"
                        ],
                        [
                          1,
                          "#f0f921"
                        ]
                      ]
                    },
                    "colorway": [
                      "#636efa",
                      "#EF553B",
                      "#00cc96",
                      "#ab63fa",
                      "#FFA15A",
                      "#19d3f3",
                      "#FF6692",
                      "#B6E880",
                      "#FF97FF",
                      "#FECB52"
                    ],
                    "font": {
                      "color": "#2a3f5f"
                    },
                    "geo": {
                      "bgcolor": "white",
                      "lakecolor": "white",
                      "landcolor": "#E5ECF6",
                      "showlakes": true,
                      "showland": true,
                      "subunitcolor": "white"
                    },
                    "hoverlabel": {
                      "align": "left"
                    },
                    "hovermode": "closest",
                    "mapbox": {
                      "style": "light"
                    },
                    "paper_bgcolor": "white",
                    "plot_bgcolor": "#E5ECF6",
                    "polar": {
                      "angularaxis": {
                        "gridcolor": "white",
                        "linecolor": "white",
                        "ticks": ""
                      },
                      "bgcolor": "#E5ECF6",
                      "radialaxis": {
                        "gridcolor": "white",
                        "linecolor": "white",
                        "ticks": ""
                      }
                    },
                    "scene": {
                      "xaxis": {
                        "backgroundcolor": "#E5ECF6",
                        "gridcolor": "white",
                        "gridwidth": 2,
                        "linecolor": "white",
                        "showbackground": true,
                        "ticks": "",
                        "zerolinecolor": "white"
                      },
                      "yaxis": {
                        "backgroundcolor": "#E5ECF6",
                        "gridcolor": "white",
                        "gridwidth": 2,
                        "linecolor": "white",
                        "showbackground": true,
                        "ticks": "",
                        "zerolinecolor": "white"
                      },
                      "zaxis": {
                        "backgroundcolor": "#E5ECF6",
                        "gridcolor": "white",
                        "gridwidth": 2,
                        "linecolor": "white",
                        "showbackground": true,
                        "ticks": "",
                        "zerolinecolor": "white"
                      }
                    },
                    "shapedefaults": {
                      "line": {
                        "color": "#2a3f5f"
                      }
                    },
                    "ternary": {
                      "aaxis": {
                        "gridcolor": "white",
                        "linecolor": "white",
                        "ticks": ""
                      },
                      "baxis": {
                        "gridcolor": "white",
                        "linecolor": "white",
                        "ticks": ""
                      },
                      "bgcolor": "#E5ECF6",
                      "caxis": {
                        "gridcolor": "white",
                        "linecolor": "white",
                        "ticks": ""
                      }
                    },
                    "title": {
                      "x": 0.05
                    },
                    "xaxis": {
                      "automargin": true,
                      "gridcolor": "white",
                      "linecolor": "white",
                      "ticks": "",
                      "title": {
                        "standoff": 15
                      },
                      "zerolinecolor": "white",
                      "zerolinewidth": 2
                    },
                    "yaxis": {
                      "automargin": true,
                      "gridcolor": "white",
                      "linecolor": "white",
                      "ticks": "",
                      "title": {
                        "standoff": 15
                      },
                      "zerolinecolor": "white",
                      "zerolinewidth": 2
                    }
                  }
                },
                "title": {
                  "text": "Total de unidades vendidas por dia en diferentes meses"
                },
                "xaxis": {
                  "tickvals": [
                    0,
                    1,
                    2,
                    3,
                    4,
                    5,
                    6,
                    7,
                    8,
                    9,
                    10,
                    11,
                    12,
                    13,
                    14,
                    15,
                    16,
                    17,
                    18,
                    19,
                    20,
                    21,
                    22,
                    23
                  ],
                  "title": {
                    "text": "Hora"
                  }
                },
                "yaxis": {
                  "side": "left",
                  "title": {
                    "text": "Unidades vendidas"
                  }
                }
              }
            }
          },
          "metadata": {},
          "output_type": "display_data"
        }
      ],
      "source": [
        "# Crear un objeto figura para el gráfico\n",
        "fig = go.Figure()\n",
        "\n",
        "# Iterar sobre la lista de datos y agregar cada mes al objeto figura 'fig'\n",
        "fig.add_trace(go.Scatter(\n",
        "    x=dias_semana,  # Eje X: Horas del día\n",
        "    y=total_pordia_pormes,  # Eje Y: Datos de ventas por hora para este mes\n",
        "    mode='lines+markers',  # Tipo de gráfico: líneas\n",
        "    name=mes,  # Etiqueta para la leyenda del gráfico\n",
        "    line=dict(width=2, shape='spline'),  # Configuración de las líneas del gráfico\n",
        "    marker=dict(size=10)  # Configuración de las marcas del gráfico\n",
        "))\n",
        "\n",
        "# Configurar los ejes y los títulos del gráfico\n",
        "fig.update_layout(\n",
        "    title=\"Total de unidades vendidas por dia en diferentes meses\",  # Título del gráfico\n",
        "    xaxis=dict(title=\"Hora\", tickvals=Horas),  # Configuración del eje X\n",
        "    yaxis=dict(title=\"Unidades vendidas\", side=\"left\"),  # Configuración del eje Y\n",
        "    legend=dict(y=0.3, yanchor='bottom'),  # Configuración de la leyenda\n",
        ")\n",
        "\n",
        "# Mostrar el gráfico\n",
        "fig.show()"
      ]
    },
    {
      "cell_type": "markdown",
      "metadata": {},
      "source": [
        "Evaluando los totales en cada dia de la semana a lo largo del año 2019 vemos que el pico esta el dia martes, siendo el viernes el dia con menos ventas.\n",
        "Esta informacion nos puede servir para dar dias de descanzo o vacaciones al personal los dias de menos ventas. "
      ]
    },
    {
      "cell_type": "markdown",
      "metadata": {},
      "source": [
        "¿Se observa alguna diferencia significativa en las ventas entre los días laborables y\n",
        "los fines de semana?"
      ]
    },
    {
      "cell_type": "code",
      "execution_count": 190,
      "metadata": {},
      "outputs": [
        {
          "data": {
            "application/vnd.plotly.v1+json": {
              "config": {
                "plotlyServerURL": "https://plot.ly"
              },
              "data": [
                {
                  "domain": {
                    "x": [
                      0,
                      0.45
                    ],
                    "y": [
                      0,
                      1
                    ]
                  },
                  "labels": [
                    "Dias de semana",
                    "Fin de semana"
                  ],
                  "marker": {
                    "colors": [
                      "#ff9999",
                      "#66b3ff"
                    ]
                  },
                  "pull": [
                    0,
                    0.1
                  ],
                  "textinfo": "label+percent",
                  "type": "pie",
                  "values": [
                    149334,
                    59482
                  ]
                },
                {
                  "domain": {
                    "x": [
                      0.55,
                      1
                    ],
                    "y": [
                      0,
                      1
                    ]
                  },
                  "labels": [
                    "Lunes",
                    "Martes",
                    "Miércoles",
                    "Jueves",
                    "Viernes",
                    "Sábado",
                    "Domingo"
                  ],
                  "marker": {
                    "colors": [
                      "#ff9999",
                      "#ff9999",
                      "#ff9999",
                      "#ff9999",
                      "#ff9999",
                      "#66b3ff",
                      "#66b3ff"
                    ]
                  },
                  "pull": [
                    0,
                    0,
                    0,
                    0,
                    0,
                    0.1,
                    0.1
                  ],
                  "textinfo": "label+percent",
                  "type": "pie",
                  "values": [
                    29859,
                    30702,
                    29729,
                    29644,
                    29400,
                    29750,
                    29732
                  ]
                }
              ],
              "layout": {
                "template": {
                  "data": {
                    "bar": [
                      {
                        "error_x": {
                          "color": "#2a3f5f"
                        },
                        "error_y": {
                          "color": "#2a3f5f"
                        },
                        "marker": {
                          "line": {
                            "color": "#E5ECF6",
                            "width": 0.5
                          },
                          "pattern": {
                            "fillmode": "overlay",
                            "size": 10,
                            "solidity": 0.2
                          }
                        },
                        "type": "bar"
                      }
                    ],
                    "barpolar": [
                      {
                        "marker": {
                          "line": {
                            "color": "#E5ECF6",
                            "width": 0.5
                          },
                          "pattern": {
                            "fillmode": "overlay",
                            "size": 10,
                            "solidity": 0.2
                          }
                        },
                        "type": "barpolar"
                      }
                    ],
                    "carpet": [
                      {
                        "aaxis": {
                          "endlinecolor": "#2a3f5f",
                          "gridcolor": "white",
                          "linecolor": "white",
                          "minorgridcolor": "white",
                          "startlinecolor": "#2a3f5f"
                        },
                        "baxis": {
                          "endlinecolor": "#2a3f5f",
                          "gridcolor": "white",
                          "linecolor": "white",
                          "minorgridcolor": "white",
                          "startlinecolor": "#2a3f5f"
                        },
                        "type": "carpet"
                      }
                    ],
                    "choropleth": [
                      {
                        "colorbar": {
                          "outlinewidth": 0,
                          "ticks": ""
                        },
                        "type": "choropleth"
                      }
                    ],
                    "contour": [
                      {
                        "colorbar": {
                          "outlinewidth": 0,
                          "ticks": ""
                        },
                        "colorscale": [
                          [
                            0,
                            "#0d0887"
                          ],
                          [
                            0.1111111111111111,
                            "#46039f"
                          ],
                          [
                            0.2222222222222222,
                            "#7201a8"
                          ],
                          [
                            0.3333333333333333,
                            "#9c179e"
                          ],
                          [
                            0.4444444444444444,
                            "#bd3786"
                          ],
                          [
                            0.5555555555555556,
                            "#d8576b"
                          ],
                          [
                            0.6666666666666666,
                            "#ed7953"
                          ],
                          [
                            0.7777777777777778,
                            "#fb9f3a"
                          ],
                          [
                            0.8888888888888888,
                            "#fdca26"
                          ],
                          [
                            1,
                            "#f0f921"
                          ]
                        ],
                        "type": "contour"
                      }
                    ],
                    "contourcarpet": [
                      {
                        "colorbar": {
                          "outlinewidth": 0,
                          "ticks": ""
                        },
                        "type": "contourcarpet"
                      }
                    ],
                    "heatmap": [
                      {
                        "colorbar": {
                          "outlinewidth": 0,
                          "ticks": ""
                        },
                        "colorscale": [
                          [
                            0,
                            "#0d0887"
                          ],
                          [
                            0.1111111111111111,
                            "#46039f"
                          ],
                          [
                            0.2222222222222222,
                            "#7201a8"
                          ],
                          [
                            0.3333333333333333,
                            "#9c179e"
                          ],
                          [
                            0.4444444444444444,
                            "#bd3786"
                          ],
                          [
                            0.5555555555555556,
                            "#d8576b"
                          ],
                          [
                            0.6666666666666666,
                            "#ed7953"
                          ],
                          [
                            0.7777777777777778,
                            "#fb9f3a"
                          ],
                          [
                            0.8888888888888888,
                            "#fdca26"
                          ],
                          [
                            1,
                            "#f0f921"
                          ]
                        ],
                        "type": "heatmap"
                      }
                    ],
                    "heatmapgl": [
                      {
                        "colorbar": {
                          "outlinewidth": 0,
                          "ticks": ""
                        },
                        "colorscale": [
                          [
                            0,
                            "#0d0887"
                          ],
                          [
                            0.1111111111111111,
                            "#46039f"
                          ],
                          [
                            0.2222222222222222,
                            "#7201a8"
                          ],
                          [
                            0.3333333333333333,
                            "#9c179e"
                          ],
                          [
                            0.4444444444444444,
                            "#bd3786"
                          ],
                          [
                            0.5555555555555556,
                            "#d8576b"
                          ],
                          [
                            0.6666666666666666,
                            "#ed7953"
                          ],
                          [
                            0.7777777777777778,
                            "#fb9f3a"
                          ],
                          [
                            0.8888888888888888,
                            "#fdca26"
                          ],
                          [
                            1,
                            "#f0f921"
                          ]
                        ],
                        "type": "heatmapgl"
                      }
                    ],
                    "histogram": [
                      {
                        "marker": {
                          "pattern": {
                            "fillmode": "overlay",
                            "size": 10,
                            "solidity": 0.2
                          }
                        },
                        "type": "histogram"
                      }
                    ],
                    "histogram2d": [
                      {
                        "colorbar": {
                          "outlinewidth": 0,
                          "ticks": ""
                        },
                        "colorscale": [
                          [
                            0,
                            "#0d0887"
                          ],
                          [
                            0.1111111111111111,
                            "#46039f"
                          ],
                          [
                            0.2222222222222222,
                            "#7201a8"
                          ],
                          [
                            0.3333333333333333,
                            "#9c179e"
                          ],
                          [
                            0.4444444444444444,
                            "#bd3786"
                          ],
                          [
                            0.5555555555555556,
                            "#d8576b"
                          ],
                          [
                            0.6666666666666666,
                            "#ed7953"
                          ],
                          [
                            0.7777777777777778,
                            "#fb9f3a"
                          ],
                          [
                            0.8888888888888888,
                            "#fdca26"
                          ],
                          [
                            1,
                            "#f0f921"
                          ]
                        ],
                        "type": "histogram2d"
                      }
                    ],
                    "histogram2dcontour": [
                      {
                        "colorbar": {
                          "outlinewidth": 0,
                          "ticks": ""
                        },
                        "colorscale": [
                          [
                            0,
                            "#0d0887"
                          ],
                          [
                            0.1111111111111111,
                            "#46039f"
                          ],
                          [
                            0.2222222222222222,
                            "#7201a8"
                          ],
                          [
                            0.3333333333333333,
                            "#9c179e"
                          ],
                          [
                            0.4444444444444444,
                            "#bd3786"
                          ],
                          [
                            0.5555555555555556,
                            "#d8576b"
                          ],
                          [
                            0.6666666666666666,
                            "#ed7953"
                          ],
                          [
                            0.7777777777777778,
                            "#fb9f3a"
                          ],
                          [
                            0.8888888888888888,
                            "#fdca26"
                          ],
                          [
                            1,
                            "#f0f921"
                          ]
                        ],
                        "type": "histogram2dcontour"
                      }
                    ],
                    "mesh3d": [
                      {
                        "colorbar": {
                          "outlinewidth": 0,
                          "ticks": ""
                        },
                        "type": "mesh3d"
                      }
                    ],
                    "parcoords": [
                      {
                        "line": {
                          "colorbar": {
                            "outlinewidth": 0,
                            "ticks": ""
                          }
                        },
                        "type": "parcoords"
                      }
                    ],
                    "pie": [
                      {
                        "automargin": true,
                        "type": "pie"
                      }
                    ],
                    "scatter": [
                      {
                        "fillpattern": {
                          "fillmode": "overlay",
                          "size": 10,
                          "solidity": 0.2
                        },
                        "type": "scatter"
                      }
                    ],
                    "scatter3d": [
                      {
                        "line": {
                          "colorbar": {
                            "outlinewidth": 0,
                            "ticks": ""
                          }
                        },
                        "marker": {
                          "colorbar": {
                            "outlinewidth": 0,
                            "ticks": ""
                          }
                        },
                        "type": "scatter3d"
                      }
                    ],
                    "scattercarpet": [
                      {
                        "marker": {
                          "colorbar": {
                            "outlinewidth": 0,
                            "ticks": ""
                          }
                        },
                        "type": "scattercarpet"
                      }
                    ],
                    "scattergeo": [
                      {
                        "marker": {
                          "colorbar": {
                            "outlinewidth": 0,
                            "ticks": ""
                          }
                        },
                        "type": "scattergeo"
                      }
                    ],
                    "scattergl": [
                      {
                        "marker": {
                          "colorbar": {
                            "outlinewidth": 0,
                            "ticks": ""
                          }
                        },
                        "type": "scattergl"
                      }
                    ],
                    "scattermapbox": [
                      {
                        "marker": {
                          "colorbar": {
                            "outlinewidth": 0,
                            "ticks": ""
                          }
                        },
                        "type": "scattermapbox"
                      }
                    ],
                    "scatterpolar": [
                      {
                        "marker": {
                          "colorbar": {
                            "outlinewidth": 0,
                            "ticks": ""
                          }
                        },
                        "type": "scatterpolar"
                      }
                    ],
                    "scatterpolargl": [
                      {
                        "marker": {
                          "colorbar": {
                            "outlinewidth": 0,
                            "ticks": ""
                          }
                        },
                        "type": "scatterpolargl"
                      }
                    ],
                    "scatterternary": [
                      {
                        "marker": {
                          "colorbar": {
                            "outlinewidth": 0,
                            "ticks": ""
                          }
                        },
                        "type": "scatterternary"
                      }
                    ],
                    "surface": [
                      {
                        "colorbar": {
                          "outlinewidth": 0,
                          "ticks": ""
                        },
                        "colorscale": [
                          [
                            0,
                            "#0d0887"
                          ],
                          [
                            0.1111111111111111,
                            "#46039f"
                          ],
                          [
                            0.2222222222222222,
                            "#7201a8"
                          ],
                          [
                            0.3333333333333333,
                            "#9c179e"
                          ],
                          [
                            0.4444444444444444,
                            "#bd3786"
                          ],
                          [
                            0.5555555555555556,
                            "#d8576b"
                          ],
                          [
                            0.6666666666666666,
                            "#ed7953"
                          ],
                          [
                            0.7777777777777778,
                            "#fb9f3a"
                          ],
                          [
                            0.8888888888888888,
                            "#fdca26"
                          ],
                          [
                            1,
                            "#f0f921"
                          ]
                        ],
                        "type": "surface"
                      }
                    ],
                    "table": [
                      {
                        "cells": {
                          "fill": {
                            "color": "#EBF0F8"
                          },
                          "line": {
                            "color": "white"
                          }
                        },
                        "header": {
                          "fill": {
                            "color": "#C8D4E3"
                          },
                          "line": {
                            "color": "white"
                          }
                        },
                        "type": "table"
                      }
                    ]
                  },
                  "layout": {
                    "annotationdefaults": {
                      "arrowcolor": "#2a3f5f",
                      "arrowhead": 0,
                      "arrowwidth": 1
                    },
                    "autotypenumbers": "strict",
                    "coloraxis": {
                      "colorbar": {
                        "outlinewidth": 0,
                        "ticks": ""
                      }
                    },
                    "colorscale": {
                      "diverging": [
                        [
                          0,
                          "#8e0152"
                        ],
                        [
                          0.1,
                          "#c51b7d"
                        ],
                        [
                          0.2,
                          "#de77ae"
                        ],
                        [
                          0.3,
                          "#f1b6da"
                        ],
                        [
                          0.4,
                          "#fde0ef"
                        ],
                        [
                          0.5,
                          "#f7f7f7"
                        ],
                        [
                          0.6,
                          "#e6f5d0"
                        ],
                        [
                          0.7,
                          "#b8e186"
                        ],
                        [
                          0.8,
                          "#7fbc41"
                        ],
                        [
                          0.9,
                          "#4d9221"
                        ],
                        [
                          1,
                          "#276419"
                        ]
                      ],
                      "sequential": [
                        [
                          0,
                          "#0d0887"
                        ],
                        [
                          0.1111111111111111,
                          "#46039f"
                        ],
                        [
                          0.2222222222222222,
                          "#7201a8"
                        ],
                        [
                          0.3333333333333333,
                          "#9c179e"
                        ],
                        [
                          0.4444444444444444,
                          "#bd3786"
                        ],
                        [
                          0.5555555555555556,
                          "#d8576b"
                        ],
                        [
                          0.6666666666666666,
                          "#ed7953"
                        ],
                        [
                          0.7777777777777778,
                          "#fb9f3a"
                        ],
                        [
                          0.8888888888888888,
                          "#fdca26"
                        ],
                        [
                          1,
                          "#f0f921"
                        ]
                      ],
                      "sequentialminus": [
                        [
                          0,
                          "#0d0887"
                        ],
                        [
                          0.1111111111111111,
                          "#46039f"
                        ],
                        [
                          0.2222222222222222,
                          "#7201a8"
                        ],
                        [
                          0.3333333333333333,
                          "#9c179e"
                        ],
                        [
                          0.4444444444444444,
                          "#bd3786"
                        ],
                        [
                          0.5555555555555556,
                          "#d8576b"
                        ],
                        [
                          0.6666666666666666,
                          "#ed7953"
                        ],
                        [
                          0.7777777777777778,
                          "#fb9f3a"
                        ],
                        [
                          0.8888888888888888,
                          "#fdca26"
                        ],
                        [
                          1,
                          "#f0f921"
                        ]
                      ]
                    },
                    "colorway": [
                      "#636efa",
                      "#EF553B",
                      "#00cc96",
                      "#ab63fa",
                      "#FFA15A",
                      "#19d3f3",
                      "#FF6692",
                      "#B6E880",
                      "#FF97FF",
                      "#FECB52"
                    ],
                    "font": {
                      "color": "#2a3f5f"
                    },
                    "geo": {
                      "bgcolor": "white",
                      "lakecolor": "white",
                      "landcolor": "#E5ECF6",
                      "showlakes": true,
                      "showland": true,
                      "subunitcolor": "white"
                    },
                    "hoverlabel": {
                      "align": "left"
                    },
                    "hovermode": "closest",
                    "mapbox": {
                      "style": "light"
                    },
                    "paper_bgcolor": "white",
                    "plot_bgcolor": "#E5ECF6",
                    "polar": {
                      "angularaxis": {
                        "gridcolor": "white",
                        "linecolor": "white",
                        "ticks": ""
                      },
                      "bgcolor": "#E5ECF6",
                      "radialaxis": {
                        "gridcolor": "white",
                        "linecolor": "white",
                        "ticks": ""
                      }
                    },
                    "scene": {
                      "xaxis": {
                        "backgroundcolor": "#E5ECF6",
                        "gridcolor": "white",
                        "gridwidth": 2,
                        "linecolor": "white",
                        "showbackground": true,
                        "ticks": "",
                        "zerolinecolor": "white"
                      },
                      "yaxis": {
                        "backgroundcolor": "#E5ECF6",
                        "gridcolor": "white",
                        "gridwidth": 2,
                        "linecolor": "white",
                        "showbackground": true,
                        "ticks": "",
                        "zerolinecolor": "white"
                      },
                      "zaxis": {
                        "backgroundcolor": "#E5ECF6",
                        "gridcolor": "white",
                        "gridwidth": 2,
                        "linecolor": "white",
                        "showbackground": true,
                        "ticks": "",
                        "zerolinecolor": "white"
                      }
                    },
                    "shapedefaults": {
                      "line": {
                        "color": "#2a3f5f"
                      }
                    },
                    "ternary": {
                      "aaxis": {
                        "gridcolor": "white",
                        "linecolor": "white",
                        "ticks": ""
                      },
                      "baxis": {
                        "gridcolor": "white",
                        "linecolor": "white",
                        "ticks": ""
                      },
                      "bgcolor": "#E5ECF6",
                      "caxis": {
                        "gridcolor": "white",
                        "linecolor": "white",
                        "ticks": ""
                      }
                    },
                    "title": {
                      "x": 0.05
                    },
                    "xaxis": {
                      "automargin": true,
                      "gridcolor": "white",
                      "linecolor": "white",
                      "ticks": "",
                      "title": {
                        "standoff": 15
                      },
                      "zerolinecolor": "white",
                      "zerolinewidth": 2
                    },
                    "yaxis": {
                      "automargin": true,
                      "gridcolor": "white",
                      "linecolor": "white",
                      "ticks": "",
                      "title": {
                        "standoff": 15
                      },
                      "zerolinecolor": "white",
                      "zerolinewidth": 2
                    }
                  }
                },
                "title": {
                  "text": "Ventas en día de semana y fin de semana"
                }
              }
            }
          },
          "metadata": {},
          "output_type": "display_data"
        }
      ],
      "source": [
        "\n",
        "total_dias_semana = 0\n",
        "total_dias_finsemana = 0\n",
        "\n",
        "for i, dia in enumerate(dias_semana):\n",
        "    if dia != 'Sábado' and dia != 'Domingo':\n",
        "        total_dias_semana += total_pordia_pormes[i]\n",
        "    else:\n",
        "        total_dias_finsemana  += total_pordia_pormes[i]\n",
        "\n",
        "fig = make_subplots(\n",
        "    rows=1, cols=2,\n",
        "    specs=[[{\"type\": \"pie\"}, {\"type\": \"pie\"}],\n",
        "           ],\n",
        ")\n",
        "\n",
        "fig.add_trace(\n",
        "    go.Pie(\n",
        "        labels=['Dias de semana', 'Fin de semana'],\n",
        "        values=[total_dias_semana,total_dias_finsemana],\n",
        "        textinfo='label+percent', #etiquetas dentro del gráfico\n",
        "        pull=[0, 0.1],  # Separa el segundo segmento\n",
        "        marker=dict(colors=['#ff9999', '#66b3ff']),  #Colores\n",
        "    \n",
        "), row = 1, col=1)\n",
        "\n",
        "fig.add_trace(\n",
        "    go.Pie(\n",
        "        labels= dias_semana,\n",
        "        values= total_pordia_pormes,\n",
        "        textinfo='label+percent', #etiquetas dentro del gráfico\n",
        "        pull=[0, 0, 0, 0, 0, 0.1, 0.1],  # Separa el segundo segmento\n",
        "        marker=dict(colors=['#ff9999','#ff9999','#ff9999','#ff9999','#ff9999', '#66b3ff', '#66b3ff']),  #Colores\n",
        "    \n",
        "), row = 1, col=2)\n",
        "\n",
        "# Configurar los ejes y los títulos del gráfico\n",
        "fig.update_layout(\n",
        "    title=\"Ventas en día de semana y fin de semana\",  # Título del gráfico\n",
        ")\n",
        "\n",
        "# Mostrar el gráfico\n",
        "fig.show()\n"
      ]
    },
    {
      "cell_type": "markdown",
      "metadata": {},
      "source": [
        "Si bien tenemos un pico los dias martes el grafico nos muestra que la diferencia no es significativa. El martes equivale solo un 0.5% mas por sobre un dia sabado o domingo"
      ]
    },
    {
      "cell_type": "markdown",
      "metadata": {},
      "source": [
        "# 6. Impacto de eventos especiales en las ventas:"
      ]
    },
    {
      "cell_type": "markdown",
      "metadata": {},
      "source": [
        "* ¿Se ha observado algún aumento o disminución significativa en las ventas en días\n",
        "cercanos a eventos especiales, como días festivos?"
      ]
    },
    {
      "cell_type": "code",
      "execution_count": 321,
      "metadata": {},
      "outputs": [
        {
          "name": "stdout",
          "output_type": "stream",
          "text": [
            "9 9\n"
          ]
        }
      ],
      "source": [
        "\n",
        "dias_festivos= ['01-01',\n",
        "                '15-01', \n",
        "                '18-02',\n",
        "                '27-05', \n",
        "                '19-06', \n",
        "                '04-07',\n",
        "                '04-08',\n",
        "                '28-11',\n",
        "                '25-12']\n",
        "\n",
        "detalle_dias_festivos = ['Año Nuevo',\n",
        "                         'Dia de Martin Luther King', \n",
        "                         'Día del presidente',\n",
        "                         'Día de los caidos', \n",
        "                         'Día de la liberacion', \n",
        "                         'Dia de la independencia',\n",
        "                         'Dia del amigo',\n",
        "                         'Accion de gracias', \n",
        "                         'Navidad']\n",
        "\n",
        "print(len(dias_festivos),len(detalle_dias_festivos))\n",
        "ventas_dias_festivos = [[],[]]\n",
        "# Iterar a través de cada mes en la lista 'meses'\n",
        "for mes in meses:\n",
        "    # Obtener el DataFrame correspondiente al mes\n",
        "    \n",
        "\n",
        "    for fecha in dias_festivos:\n",
        "        dataframe_mes = df_extraidos[mes]\n",
        "        dataframe_mes = dataframe_mes[(dataframe_mes[\"dia_mes\"] == fecha) & (dataframe_mes[\"año\"] == 2019)]\n",
        "        #dataframe_mes = dataframe_mes[dataframe_mes['dia_mes'] == fecha]\n",
        "        resultado  = dataframe_mes.groupby('dia_mes')['Cantidad Pedida'].sum()\n",
        "        if len(resultado)>0:\n",
        "            ventas_dias_festivos[0].append(str(fecha))\n",
        "            ventas_dias_festivos[1].append(resultado.values[0])\n",
        "        else:\n",
        "            pass\n",
        "            #ventas_dias_festivos.append([fecha, 0])\n",
        "\n",
        "for i in range(len(ventas_dias_festivos[0])):\n",
        "    fecha = ventas_dias_festivos[0][i]\n",
        "    for x in range(len(dias_festivos)):\n",
        "        if fecha == dias_festivos[x]:\n",
        "            ventas_dias_festivos[0][i] = detalle_dias_festivos[x]\n"
      ]
    },
    {
      "cell_type": "code",
      "execution_count": 322,
      "metadata": {},
      "outputs": [
        {
          "data": {
            "application/vnd.plotly.v1+json": {
              "config": {
                "plotlyServerURL": "https://plot.ly"
              },
              "data": [
                {
                  "marker": {
                    "color": [
                      343,
                      358,
                      508,
                      569,
                      538,
                      506,
                      430,
                      594,
                      902
                    ],
                    "colorbar": {
                      "thickness": 15,
                      "title": {
                        "text": "Total de ventas"
                      },
                      "x": 1
                    },
                    "colorscale": [
                      [
                        0,
                        "rgb(165,0,38)"
                      ],
                      [
                        0.1,
                        "rgb(215,48,39)"
                      ],
                      [
                        0.2,
                        "rgb(244,109,67)"
                      ],
                      [
                        0.3,
                        "rgb(253,174,97)"
                      ],
                      [
                        0.4,
                        "rgb(254,224,139)"
                      ],
                      [
                        0.5,
                        "rgb(255,255,191)"
                      ],
                      [
                        0.6,
                        "rgb(217,239,139)"
                      ],
                      [
                        0.7,
                        "rgb(166,217,106)"
                      ],
                      [
                        0.8,
                        "rgb(102,189,99)"
                      ],
                      [
                        0.9,
                        "rgb(26,152,80)"
                      ],
                      [
                        1,
                        "rgb(0,104,55)"
                      ]
                    ]
                  },
                  "text": [
                    "343",
                    "358",
                    "508",
                    "569",
                    "538",
                    "506",
                    "430",
                    "594",
                    "902"
                  ],
                  "textposition": "auto",
                  "type": "bar",
                  "x": [
                    "Año Nuevo",
                    "Dia de Martin Luther King",
                    "Día del presidente",
                    "Día de los caidos",
                    "Día de la liberacion",
                    "Dia de la independencia",
                    "Dia del amigo",
                    "Accion de gracias",
                    "Navidad"
                  ],
                  "y": [
                    343,
                    358,
                    508,
                    569,
                    538,
                    506,
                    430,
                    594,
                    902
                  ]
                }
              ],
              "layout": {
                "template": {
                  "data": {
                    "bar": [
                      {
                        "error_x": {
                          "color": "#2a3f5f"
                        },
                        "error_y": {
                          "color": "#2a3f5f"
                        },
                        "marker": {
                          "line": {
                            "color": "#E5ECF6",
                            "width": 0.5
                          },
                          "pattern": {
                            "fillmode": "overlay",
                            "size": 10,
                            "solidity": 0.2
                          }
                        },
                        "type": "bar"
                      }
                    ],
                    "barpolar": [
                      {
                        "marker": {
                          "line": {
                            "color": "#E5ECF6",
                            "width": 0.5
                          },
                          "pattern": {
                            "fillmode": "overlay",
                            "size": 10,
                            "solidity": 0.2
                          }
                        },
                        "type": "barpolar"
                      }
                    ],
                    "carpet": [
                      {
                        "aaxis": {
                          "endlinecolor": "#2a3f5f",
                          "gridcolor": "white",
                          "linecolor": "white",
                          "minorgridcolor": "white",
                          "startlinecolor": "#2a3f5f"
                        },
                        "baxis": {
                          "endlinecolor": "#2a3f5f",
                          "gridcolor": "white",
                          "linecolor": "white",
                          "minorgridcolor": "white",
                          "startlinecolor": "#2a3f5f"
                        },
                        "type": "carpet"
                      }
                    ],
                    "choropleth": [
                      {
                        "colorbar": {
                          "outlinewidth": 0,
                          "ticks": ""
                        },
                        "type": "choropleth"
                      }
                    ],
                    "contour": [
                      {
                        "colorbar": {
                          "outlinewidth": 0,
                          "ticks": ""
                        },
                        "colorscale": [
                          [
                            0,
                            "#0d0887"
                          ],
                          [
                            0.1111111111111111,
                            "#46039f"
                          ],
                          [
                            0.2222222222222222,
                            "#7201a8"
                          ],
                          [
                            0.3333333333333333,
                            "#9c179e"
                          ],
                          [
                            0.4444444444444444,
                            "#bd3786"
                          ],
                          [
                            0.5555555555555556,
                            "#d8576b"
                          ],
                          [
                            0.6666666666666666,
                            "#ed7953"
                          ],
                          [
                            0.7777777777777778,
                            "#fb9f3a"
                          ],
                          [
                            0.8888888888888888,
                            "#fdca26"
                          ],
                          [
                            1,
                            "#f0f921"
                          ]
                        ],
                        "type": "contour"
                      }
                    ],
                    "contourcarpet": [
                      {
                        "colorbar": {
                          "outlinewidth": 0,
                          "ticks": ""
                        },
                        "type": "contourcarpet"
                      }
                    ],
                    "heatmap": [
                      {
                        "colorbar": {
                          "outlinewidth": 0,
                          "ticks": ""
                        },
                        "colorscale": [
                          [
                            0,
                            "#0d0887"
                          ],
                          [
                            0.1111111111111111,
                            "#46039f"
                          ],
                          [
                            0.2222222222222222,
                            "#7201a8"
                          ],
                          [
                            0.3333333333333333,
                            "#9c179e"
                          ],
                          [
                            0.4444444444444444,
                            "#bd3786"
                          ],
                          [
                            0.5555555555555556,
                            "#d8576b"
                          ],
                          [
                            0.6666666666666666,
                            "#ed7953"
                          ],
                          [
                            0.7777777777777778,
                            "#fb9f3a"
                          ],
                          [
                            0.8888888888888888,
                            "#fdca26"
                          ],
                          [
                            1,
                            "#f0f921"
                          ]
                        ],
                        "type": "heatmap"
                      }
                    ],
                    "heatmapgl": [
                      {
                        "colorbar": {
                          "outlinewidth": 0,
                          "ticks": ""
                        },
                        "colorscale": [
                          [
                            0,
                            "#0d0887"
                          ],
                          [
                            0.1111111111111111,
                            "#46039f"
                          ],
                          [
                            0.2222222222222222,
                            "#7201a8"
                          ],
                          [
                            0.3333333333333333,
                            "#9c179e"
                          ],
                          [
                            0.4444444444444444,
                            "#bd3786"
                          ],
                          [
                            0.5555555555555556,
                            "#d8576b"
                          ],
                          [
                            0.6666666666666666,
                            "#ed7953"
                          ],
                          [
                            0.7777777777777778,
                            "#fb9f3a"
                          ],
                          [
                            0.8888888888888888,
                            "#fdca26"
                          ],
                          [
                            1,
                            "#f0f921"
                          ]
                        ],
                        "type": "heatmapgl"
                      }
                    ],
                    "histogram": [
                      {
                        "marker": {
                          "pattern": {
                            "fillmode": "overlay",
                            "size": 10,
                            "solidity": 0.2
                          }
                        },
                        "type": "histogram"
                      }
                    ],
                    "histogram2d": [
                      {
                        "colorbar": {
                          "outlinewidth": 0,
                          "ticks": ""
                        },
                        "colorscale": [
                          [
                            0,
                            "#0d0887"
                          ],
                          [
                            0.1111111111111111,
                            "#46039f"
                          ],
                          [
                            0.2222222222222222,
                            "#7201a8"
                          ],
                          [
                            0.3333333333333333,
                            "#9c179e"
                          ],
                          [
                            0.4444444444444444,
                            "#bd3786"
                          ],
                          [
                            0.5555555555555556,
                            "#d8576b"
                          ],
                          [
                            0.6666666666666666,
                            "#ed7953"
                          ],
                          [
                            0.7777777777777778,
                            "#fb9f3a"
                          ],
                          [
                            0.8888888888888888,
                            "#fdca26"
                          ],
                          [
                            1,
                            "#f0f921"
                          ]
                        ],
                        "type": "histogram2d"
                      }
                    ],
                    "histogram2dcontour": [
                      {
                        "colorbar": {
                          "outlinewidth": 0,
                          "ticks": ""
                        },
                        "colorscale": [
                          [
                            0,
                            "#0d0887"
                          ],
                          [
                            0.1111111111111111,
                            "#46039f"
                          ],
                          [
                            0.2222222222222222,
                            "#7201a8"
                          ],
                          [
                            0.3333333333333333,
                            "#9c179e"
                          ],
                          [
                            0.4444444444444444,
                            "#bd3786"
                          ],
                          [
                            0.5555555555555556,
                            "#d8576b"
                          ],
                          [
                            0.6666666666666666,
                            "#ed7953"
                          ],
                          [
                            0.7777777777777778,
                            "#fb9f3a"
                          ],
                          [
                            0.8888888888888888,
                            "#fdca26"
                          ],
                          [
                            1,
                            "#f0f921"
                          ]
                        ],
                        "type": "histogram2dcontour"
                      }
                    ],
                    "mesh3d": [
                      {
                        "colorbar": {
                          "outlinewidth": 0,
                          "ticks": ""
                        },
                        "type": "mesh3d"
                      }
                    ],
                    "parcoords": [
                      {
                        "line": {
                          "colorbar": {
                            "outlinewidth": 0,
                            "ticks": ""
                          }
                        },
                        "type": "parcoords"
                      }
                    ],
                    "pie": [
                      {
                        "automargin": true,
                        "type": "pie"
                      }
                    ],
                    "scatter": [
                      {
                        "fillpattern": {
                          "fillmode": "overlay",
                          "size": 10,
                          "solidity": 0.2
                        },
                        "type": "scatter"
                      }
                    ],
                    "scatter3d": [
                      {
                        "line": {
                          "colorbar": {
                            "outlinewidth": 0,
                            "ticks": ""
                          }
                        },
                        "marker": {
                          "colorbar": {
                            "outlinewidth": 0,
                            "ticks": ""
                          }
                        },
                        "type": "scatter3d"
                      }
                    ],
                    "scattercarpet": [
                      {
                        "marker": {
                          "colorbar": {
                            "outlinewidth": 0,
                            "ticks": ""
                          }
                        },
                        "type": "scattercarpet"
                      }
                    ],
                    "scattergeo": [
                      {
                        "marker": {
                          "colorbar": {
                            "outlinewidth": 0,
                            "ticks": ""
                          }
                        },
                        "type": "scattergeo"
                      }
                    ],
                    "scattergl": [
                      {
                        "marker": {
                          "colorbar": {
                            "outlinewidth": 0,
                            "ticks": ""
                          }
                        },
                        "type": "scattergl"
                      }
                    ],
                    "scattermapbox": [
                      {
                        "marker": {
                          "colorbar": {
                            "outlinewidth": 0,
                            "ticks": ""
                          }
                        },
                        "type": "scattermapbox"
                      }
                    ],
                    "scatterpolar": [
                      {
                        "marker": {
                          "colorbar": {
                            "outlinewidth": 0,
                            "ticks": ""
                          }
                        },
                        "type": "scatterpolar"
                      }
                    ],
                    "scatterpolargl": [
                      {
                        "marker": {
                          "colorbar": {
                            "outlinewidth": 0,
                            "ticks": ""
                          }
                        },
                        "type": "scatterpolargl"
                      }
                    ],
                    "scatterternary": [
                      {
                        "marker": {
                          "colorbar": {
                            "outlinewidth": 0,
                            "ticks": ""
                          }
                        },
                        "type": "scatterternary"
                      }
                    ],
                    "surface": [
                      {
                        "colorbar": {
                          "outlinewidth": 0,
                          "ticks": ""
                        },
                        "colorscale": [
                          [
                            0,
                            "#0d0887"
                          ],
                          [
                            0.1111111111111111,
                            "#46039f"
                          ],
                          [
                            0.2222222222222222,
                            "#7201a8"
                          ],
                          [
                            0.3333333333333333,
                            "#9c179e"
                          ],
                          [
                            0.4444444444444444,
                            "#bd3786"
                          ],
                          [
                            0.5555555555555556,
                            "#d8576b"
                          ],
                          [
                            0.6666666666666666,
                            "#ed7953"
                          ],
                          [
                            0.7777777777777778,
                            "#fb9f3a"
                          ],
                          [
                            0.8888888888888888,
                            "#fdca26"
                          ],
                          [
                            1,
                            "#f0f921"
                          ]
                        ],
                        "type": "surface"
                      }
                    ],
                    "table": [
                      {
                        "cells": {
                          "fill": {
                            "color": "#EBF0F8"
                          },
                          "line": {
                            "color": "white"
                          }
                        },
                        "header": {
                          "fill": {
                            "color": "#C8D4E3"
                          },
                          "line": {
                            "color": "white"
                          }
                        },
                        "type": "table"
                      }
                    ]
                  },
                  "layout": {
                    "annotationdefaults": {
                      "arrowcolor": "#2a3f5f",
                      "arrowhead": 0,
                      "arrowwidth": 1
                    },
                    "autotypenumbers": "strict",
                    "coloraxis": {
                      "colorbar": {
                        "outlinewidth": 0,
                        "ticks": ""
                      }
                    },
                    "colorscale": {
                      "diverging": [
                        [
                          0,
                          "#8e0152"
                        ],
                        [
                          0.1,
                          "#c51b7d"
                        ],
                        [
                          0.2,
                          "#de77ae"
                        ],
                        [
                          0.3,
                          "#f1b6da"
                        ],
                        [
                          0.4,
                          "#fde0ef"
                        ],
                        [
                          0.5,
                          "#f7f7f7"
                        ],
                        [
                          0.6,
                          "#e6f5d0"
                        ],
                        [
                          0.7,
                          "#b8e186"
                        ],
                        [
                          0.8,
                          "#7fbc41"
                        ],
                        [
                          0.9,
                          "#4d9221"
                        ],
                        [
                          1,
                          "#276419"
                        ]
                      ],
                      "sequential": [
                        [
                          0,
                          "#0d0887"
                        ],
                        [
                          0.1111111111111111,
                          "#46039f"
                        ],
                        [
                          0.2222222222222222,
                          "#7201a8"
                        ],
                        [
                          0.3333333333333333,
                          "#9c179e"
                        ],
                        [
                          0.4444444444444444,
                          "#bd3786"
                        ],
                        [
                          0.5555555555555556,
                          "#d8576b"
                        ],
                        [
                          0.6666666666666666,
                          "#ed7953"
                        ],
                        [
                          0.7777777777777778,
                          "#fb9f3a"
                        ],
                        [
                          0.8888888888888888,
                          "#fdca26"
                        ],
                        [
                          1,
                          "#f0f921"
                        ]
                      ],
                      "sequentialminus": [
                        [
                          0,
                          "#0d0887"
                        ],
                        [
                          0.1111111111111111,
                          "#46039f"
                        ],
                        [
                          0.2222222222222222,
                          "#7201a8"
                        ],
                        [
                          0.3333333333333333,
                          "#9c179e"
                        ],
                        [
                          0.4444444444444444,
                          "#bd3786"
                        ],
                        [
                          0.5555555555555556,
                          "#d8576b"
                        ],
                        [
                          0.6666666666666666,
                          "#ed7953"
                        ],
                        [
                          0.7777777777777778,
                          "#fb9f3a"
                        ],
                        [
                          0.8888888888888888,
                          "#fdca26"
                        ],
                        [
                          1,
                          "#f0f921"
                        ]
                      ]
                    },
                    "colorway": [
                      "#636efa",
                      "#EF553B",
                      "#00cc96",
                      "#ab63fa",
                      "#FFA15A",
                      "#19d3f3",
                      "#FF6692",
                      "#B6E880",
                      "#FF97FF",
                      "#FECB52"
                    ],
                    "font": {
                      "color": "#2a3f5f"
                    },
                    "geo": {
                      "bgcolor": "white",
                      "lakecolor": "white",
                      "landcolor": "#E5ECF6",
                      "showlakes": true,
                      "showland": true,
                      "subunitcolor": "white"
                    },
                    "hoverlabel": {
                      "align": "left"
                    },
                    "hovermode": "closest",
                    "mapbox": {
                      "style": "light"
                    },
                    "paper_bgcolor": "white",
                    "plot_bgcolor": "#E5ECF6",
                    "polar": {
                      "angularaxis": {
                        "gridcolor": "white",
                        "linecolor": "white",
                        "ticks": ""
                      },
                      "bgcolor": "#E5ECF6",
                      "radialaxis": {
                        "gridcolor": "white",
                        "linecolor": "white",
                        "ticks": ""
                      }
                    },
                    "scene": {
                      "xaxis": {
                        "backgroundcolor": "#E5ECF6",
                        "gridcolor": "white",
                        "gridwidth": 2,
                        "linecolor": "white",
                        "showbackground": true,
                        "ticks": "",
                        "zerolinecolor": "white"
                      },
                      "yaxis": {
                        "backgroundcolor": "#E5ECF6",
                        "gridcolor": "white",
                        "gridwidth": 2,
                        "linecolor": "white",
                        "showbackground": true,
                        "ticks": "",
                        "zerolinecolor": "white"
                      },
                      "zaxis": {
                        "backgroundcolor": "#E5ECF6",
                        "gridcolor": "white",
                        "gridwidth": 2,
                        "linecolor": "white",
                        "showbackground": true,
                        "ticks": "",
                        "zerolinecolor": "white"
                      }
                    },
                    "shapedefaults": {
                      "line": {
                        "color": "#2a3f5f"
                      }
                    },
                    "ternary": {
                      "aaxis": {
                        "gridcolor": "white",
                        "linecolor": "white",
                        "ticks": ""
                      },
                      "baxis": {
                        "gridcolor": "white",
                        "linecolor": "white",
                        "ticks": ""
                      },
                      "bgcolor": "#E5ECF6",
                      "caxis": {
                        "gridcolor": "white",
                        "linecolor": "white",
                        "ticks": ""
                      }
                    },
                    "title": {
                      "x": 0.05
                    },
                    "xaxis": {
                      "automargin": true,
                      "gridcolor": "white",
                      "linecolor": "white",
                      "ticks": "",
                      "title": {
                        "standoff": 15
                      },
                      "zerolinecolor": "white",
                      "zerolinewidth": 2
                    },
                    "yaxis": {
                      "automargin": true,
                      "gridcolor": "white",
                      "linecolor": "white",
                      "ticks": "",
                      "title": {
                        "standoff": 15
                      },
                      "zerolinecolor": "white",
                      "zerolinewidth": 2
                    }
                  }
                },
                "title": {
                  "text": "Total de ventas en dias festivos"
                },
                "xaxis": {
                  "title": {
                    "text": "Mes"
                  }
                },
                "yaxis": {
                  "title": {
                    "text": "Total de ventas"
                  }
                }
              }
            }
          },
          "metadata": {},
          "output_type": "display_data"
        }
      ],
      "source": [
        "# Creo el objeto figura con el gráfico de barras\n",
        "fig = go.Figure()\n",
        "\n",
        "fig.add_trace(go.Bar(\n",
        "    x=ventas_dias_festivos[0],\n",
        "    y=ventas_dias_festivos[1],\n",
        "    marker=dict(color=ventas_dias_festivos[1], colorscale = 'RdYlGn', colorbar=dict(title=\"Total de ventas\", x=1.0, thickness=15)),  # Color y barra de colores\n",
        "    text=ventas_dias_festivos[1],\n",
        "    textposition='auto',  # Muestro el valor encima de las barras\n",
        "\n",
        "))\n",
        "\n",
        "# Configuro los ejes y los títulos\n",
        "fig.update_layout(\n",
        "    title=\"Total de ventas en dias festivos\",\n",
        "    xaxis=dict(title=\"Mes\"),\n",
        "    yaxis=dict(title=\"Total de ventas\"),\n",
        ")\n",
        "\n",
        "fig.show()"
      ]
    },
    {
      "cell_type": "markdown",
      "metadata": {},
      "source": [
        "La cultura en EEUU se compone de dos dias importantes para la venta de productos como presentes, accion de gracias y Navidad. \n",
        "Si bien en el dia de los caidos se registra un pico, este es muy probable que se deba a otros factores. "
      ]
    },
    {
      "cell_type": "markdown",
      "metadata": {},
      "source": [
        "* ¿Qué eventos específicos han tenido un impacto notable en el comportamiento de\n",
        "las ventas y cómo se manifestó ese impacto?"
      ]
    },
    {
      "cell_type": "code",
      "execution_count": 327,
      "metadata": {},
      "outputs": [],
      "source": [
        "fechas_analisis = 25\n",
        "mes = 'Diciembre'\n",
        "\n",
        "from datetime import datetime, timedelta\n",
        "una_fecha = '20/04/2019'\n",
        "fecha_dt = datetime.strptime(una_fecha, '%d/%m/%Y')\n",
        "fecha =datetime.today()+timedelta(days=-1)\n"
      ]
    },
    {
      "cell_type": "code",
      "execution_count": 335,
      "metadata": {},
      "outputs": [
        {
          "data": {
            "text/html": [
              "<div>\n",
              "<style scoped>\n",
              "    .dataframe tbody tr th:only-of-type {\n",
              "        vertical-align: middle;\n",
              "    }\n",
              "\n",
              "    .dataframe tbody tr th {\n",
              "        vertical-align: top;\n",
              "    }\n",
              "\n",
              "    .dataframe thead th {\n",
              "        text-align: right;\n",
              "    }\n",
              "</style>\n",
              "<table border=\"1\" class=\"dataframe\">\n",
              "  <thead>\n",
              "    <tr style=\"text-align: right;\">\n",
              "      <th></th>\n",
              "      <th>Producto</th>\n",
              "      <th>Dia</th>\n",
              "      <th>Cantidad Pedida</th>\n",
              "    </tr>\n",
              "  </thead>\n",
              "  <tbody>\n",
              "    <tr>\n",
              "      <th>0</th>\n",
              "      <td>20in Monitor</td>\n",
              "      <td>18</td>\n",
              "      <td>16</td>\n",
              "    </tr>\n",
              "    <tr>\n",
              "      <th>1</th>\n",
              "      <td>20in Monitor</td>\n",
              "      <td>19</td>\n",
              "      <td>21</td>\n",
              "    </tr>\n",
              "    <tr>\n",
              "      <th>2</th>\n",
              "      <td>20in Monitor</td>\n",
              "      <td>20</td>\n",
              "      <td>24</td>\n",
              "    </tr>\n",
              "    <tr>\n",
              "      <th>3</th>\n",
              "      <td>20in Monitor</td>\n",
              "      <td>21</td>\n",
              "      <td>23</td>\n",
              "    </tr>\n",
              "    <tr>\n",
              "      <th>4</th>\n",
              "      <td>20in Monitor</td>\n",
              "      <td>22</td>\n",
              "      <td>17</td>\n",
              "    </tr>\n",
              "    <tr>\n",
              "      <th>...</th>\n",
              "      <td>...</td>\n",
              "      <td>...</td>\n",
              "      <td>...</td>\n",
              "    </tr>\n",
              "    <tr>\n",
              "      <th>258</th>\n",
              "      <td>iPhone</td>\n",
              "      <td>27</td>\n",
              "      <td>27</td>\n",
              "    </tr>\n",
              "    <tr>\n",
              "      <th>259</th>\n",
              "      <td>iPhone</td>\n",
              "      <td>28</td>\n",
              "      <td>20</td>\n",
              "    </tr>\n",
              "    <tr>\n",
              "      <th>260</th>\n",
              "      <td>iPhone</td>\n",
              "      <td>29</td>\n",
              "      <td>28</td>\n",
              "    </tr>\n",
              "    <tr>\n",
              "      <th>261</th>\n",
              "      <td>iPhone</td>\n",
              "      <td>30</td>\n",
              "      <td>28</td>\n",
              "    </tr>\n",
              "    <tr>\n",
              "      <th>262</th>\n",
              "      <td>iPhone</td>\n",
              "      <td>31</td>\n",
              "      <td>23</td>\n",
              "    </tr>\n",
              "  </tbody>\n",
              "</table>\n",
              "<p>263 rows × 3 columns</p>\n",
              "</div>"
            ],
            "text/plain": [
              "         Producto  Dia  Cantidad Pedida\n",
              "0    20in Monitor   18               16\n",
              "1    20in Monitor   19               21\n",
              "2    20in Monitor   20               24\n",
              "3    20in Monitor   21               23\n",
              "4    20in Monitor   22               17\n",
              "..            ...  ...              ...\n",
              "258        iPhone   27               27\n",
              "259        iPhone   28               20\n",
              "260        iPhone   29               28\n",
              "261        iPhone   30               28\n",
              "262        iPhone   31               23\n",
              "\n",
              "[263 rows x 3 columns]"
            ]
          },
          "execution_count": 335,
          "metadata": {},
          "output_type": "execute_result"
        }
      ],
      "source": [
        "ventas_periodo_fecha = df_extraidos[mes][(df_extraidos[mes][\"Dia\"] <= fechas_analisis + 7) & (df_extraidos[mes][\"Dia\"] >= (fechas_analisis - 7))]\n",
        "ventas_periodo_fecha = ventas_periodo_fecha.groupby(['Producto','Dia'])['Cantidad Pedida'].sum()\n",
        "ventas_periodo_fecha = ventas_periodo_fecha.reset_index()\n",
        "ventas_periodo_fecha"
      ]
    },
    {
      "cell_type": "code",
      "execution_count": 333,
      "metadata": {},
      "outputs": [
        {
          "data": {
            "application/vnd.plotly.v1+json": {
              "config": {
                "plotlyServerURL": "https://plot.ly"
              },
              "data": [
                {
                  "mode": "lines",
                  "name": "20in Monitor",
                  "type": "scatter",
                  "x": [
                    18,
                    19,
                    20,
                    21,
                    22,
                    23,
                    24,
                    25,
                    26,
                    27,
                    28,
                    29,
                    30,
                    31
                  ],
                  "y": [
                    16,
                    21,
                    24,
                    23,
                    17,
                    17,
                    18,
                    26,
                    13,
                    20,
                    24,
                    22,
                    20,
                    24
                  ]
                },
                {
                  "mode": "lines",
                  "name": "27in 4K Gaming Monitor",
                  "type": "scatter",
                  "x": [
                    18,
                    19,
                    20,
                    21,
                    22,
                    23,
                    24,
                    25,
                    26,
                    27,
                    28,
                    29,
                    30,
                    31
                  ],
                  "y": [
                    23,
                    28,
                    28,
                    28,
                    21,
                    32,
                    25,
                    25,
                    33,
                    35,
                    26,
                    27,
                    27,
                    14
                  ]
                },
                {
                  "mode": "lines",
                  "name": "27in FHD Monitor",
                  "type": "scatter",
                  "x": [
                    18,
                    19,
                    20,
                    21,
                    22,
                    23,
                    24,
                    25,
                    26,
                    27,
                    28,
                    29,
                    30,
                    31
                  ],
                  "y": [
                    26,
                    41,
                    29,
                    23,
                    27,
                    25,
                    29,
                    37,
                    37,
                    28,
                    38,
                    29,
                    38,
                    23
                  ]
                },
                {
                  "mode": "lines",
                  "name": "34in Ultrawide Monitor",
                  "type": "scatter",
                  "x": [
                    18,
                    19,
                    20,
                    21,
                    22,
                    23,
                    24,
                    25,
                    26,
                    27,
                    28,
                    29,
                    30,
                    31
                  ],
                  "y": [
                    23,
                    28,
                    25,
                    16,
                    37,
                    31,
                    28,
                    35,
                    28,
                    27,
                    25,
                    17,
                    25,
                    22
                  ]
                },
                {
                  "mode": "lines",
                  "name": "AA Batteries (4-pack)",
                  "type": "scatter",
                  "x": [
                    18,
                    19,
                    20,
                    21,
                    22,
                    23,
                    24,
                    25,
                    26,
                    27,
                    28,
                    29,
                    30,
                    31
                  ],
                  "y": [
                    112,
                    138,
                    131,
                    88,
                    104,
                    114,
                    115,
                    113,
                    139,
                    105,
                    132,
                    122,
                    119,
                    139
                  ]
                },
                {
                  "mode": "lines",
                  "name": "AAA Batteries (4-pack)",
                  "type": "scatter",
                  "x": [
                    18,
                    19,
                    20,
                    21,
                    22,
                    23,
                    24,
                    25,
                    26,
                    27,
                    28,
                    29,
                    30,
                    31
                  ],
                  "y": [
                    99,
                    154,
                    133,
                    165,
                    133,
                    171,
                    133,
                    129,
                    139,
                    116,
                    138,
                    148,
                    159,
                    166
                  ]
                },
                {
                  "mode": "lines",
                  "name": "Apple Airpods Headphones",
                  "type": "scatter",
                  "x": [
                    18,
                    19,
                    20,
                    21,
                    22,
                    23,
                    24,
                    25,
                    26,
                    27,
                    28,
                    29,
                    30,
                    31
                  ],
                  "y": [
                    71,
                    64,
                    57,
                    66,
                    67,
                    77,
                    70,
                    70,
                    75,
                    66,
                    73,
                    85,
                    70,
                    51
                  ]
                },
                {
                  "mode": "lines",
                  "name": "Bose SoundSport Headphones",
                  "type": "scatter",
                  "x": [
                    18,
                    19,
                    20,
                    21,
                    22,
                    23,
                    24,
                    25,
                    26,
                    27,
                    28,
                    29,
                    30,
                    31
                  ],
                  "y": [
                    71,
                    60,
                    68,
                    63,
                    64,
                    59,
                    55,
                    60,
                    51,
                    62,
                    62,
                    57,
                    60,
                    46
                  ]
                },
                {
                  "mode": "lines",
                  "name": "Flatscreen TV",
                  "type": "scatter",
                  "x": [
                    18,
                    19,
                    20,
                    21,
                    22,
                    23,
                    24,
                    25,
                    26,
                    27,
                    28,
                    29,
                    30,
                    31
                  ],
                  "y": [
                    24,
                    18,
                    21,
                    21,
                    19,
                    21,
                    23,
                    22,
                    19,
                    19,
                    29,
                    23,
                    22,
                    23
                  ]
                },
                {
                  "mode": "lines",
                  "name": "Google Phone",
                  "type": "scatter",
                  "x": [
                    18,
                    19,
                    20,
                    21,
                    22,
                    23,
                    24,
                    25,
                    26,
                    27,
                    28,
                    29,
                    30,
                    31
                  ],
                  "y": [
                    22,
                    15,
                    27,
                    21,
                    30,
                    26,
                    27,
                    24,
                    21,
                    18,
                    20,
                    25,
                    24,
                    18
                  ]
                },
                {
                  "mode": "lines",
                  "name": "LG Dryer",
                  "type": "scatter",
                  "x": [
                    18,
                    20,
                    21,
                    22,
                    23,
                    24,
                    25,
                    26,
                    27,
                    28,
                    29,
                    30,
                    31
                  ],
                  "y": [
                    3,
                    3,
                    5,
                    4,
                    1,
                    5,
                    2,
                    4,
                    1,
                    3,
                    3,
                    2,
                    4
                  ]
                },
                {
                  "mode": "lines",
                  "name": "LG Washing Machine",
                  "type": "scatter",
                  "x": [
                    18,
                    19,
                    20,
                    21,
                    22,
                    23,
                    24,
                    26,
                    28,
                    29,
                    30,
                    31
                  ],
                  "y": [
                    2,
                    3,
                    3,
                    1,
                    2,
                    2,
                    5,
                    1,
                    3,
                    4,
                    3,
                    5
                  ]
                },
                {
                  "mode": "lines",
                  "name": "Lightning Charging Cable",
                  "type": "scatter",
                  "x": [
                    18,
                    19,
                    20,
                    21,
                    22,
                    23,
                    24,
                    25,
                    26,
                    27,
                    28,
                    29,
                    30,
                    31
                  ],
                  "y": [
                    87,
                    112,
                    95,
                    98,
                    104,
                    122,
                    101,
                    90,
                    81,
                    91,
                    101,
                    103,
                    90,
                    84
                  ]
                },
                {
                  "mode": "lines",
                  "name": "Macbook Pro Laptop",
                  "type": "scatter",
                  "x": [
                    18,
                    19,
                    20,
                    21,
                    22,
                    23,
                    24,
                    25,
                    26,
                    27,
                    28,
                    29,
                    30,
                    31
                  ],
                  "y": [
                    26,
                    17,
                    25,
                    27,
                    25,
                    19,
                    18,
                    22,
                    17,
                    11,
                    16,
                    22,
                    20,
                    15
                  ]
                },
                {
                  "mode": "lines",
                  "name": "ThinkPad Laptop",
                  "type": "scatter",
                  "x": [
                    18,
                    19,
                    20,
                    21,
                    22,
                    23,
                    24,
                    25,
                    26,
                    27,
                    28,
                    29,
                    30,
                    31
                  ],
                  "y": [
                    13,
                    17,
                    20,
                    19,
                    10,
                    16,
                    19,
                    20,
                    18,
                    18,
                    15,
                    21,
                    19,
                    26
                  ]
                },
                {
                  "mode": "lines",
                  "name": "USB-C Charging Cable",
                  "type": "scatter",
                  "x": [
                    18,
                    19,
                    20,
                    21,
                    22,
                    23,
                    24,
                    25,
                    26,
                    27,
                    28,
                    29,
                    30,
                    31
                  ],
                  "y": [
                    105,
                    107,
                    97,
                    101,
                    104,
                    115,
                    118,
                    118,
                    110,
                    109,
                    102,
                    111,
                    108,
                    103
                  ]
                },
                {
                  "mode": "lines",
                  "name": "Vareebadd Phone",
                  "type": "scatter",
                  "x": [
                    18,
                    19,
                    20,
                    21,
                    22,
                    23,
                    24,
                    25,
                    26,
                    27,
                    28,
                    29,
                    30,
                    31
                  ],
                  "y": [
                    15,
                    5,
                    10,
                    7,
                    4,
                    13,
                    11,
                    5,
                    7,
                    7,
                    9,
                    12,
                    17,
                    10
                  ]
                },
                {
                  "mode": "lines",
                  "name": "Wired Headphones",
                  "type": "scatter",
                  "x": [
                    18,
                    19,
                    20,
                    21,
                    22,
                    23,
                    24,
                    25,
                    26,
                    27,
                    28,
                    29,
                    30,
                    31
                  ],
                  "y": [
                    100,
                    81,
                    87,
                    73,
                    78,
                    95,
                    76,
                    78,
                    100,
                    109,
                    95,
                    95,
                    77,
                    90
                  ]
                },
                {
                  "mode": "lines",
                  "name": "iPhone",
                  "type": "scatter",
                  "x": [
                    18,
                    19,
                    20,
                    21,
                    22,
                    23,
                    24,
                    25,
                    26,
                    27,
                    28,
                    29,
                    30,
                    31
                  ],
                  "y": [
                    32,
                    33,
                    29,
                    30,
                    24,
                    32,
                    32,
                    26,
                    32,
                    27,
                    20,
                    28,
                    28,
                    23
                  ]
                }
              ],
              "layout": {
                "legend": {
                  "title": {
                    "text": "Producto"
                  }
                },
                "template": {
                  "data": {
                    "bar": [
                      {
                        "error_x": {
                          "color": "#2a3f5f"
                        },
                        "error_y": {
                          "color": "#2a3f5f"
                        },
                        "marker": {
                          "line": {
                            "color": "#E5ECF6",
                            "width": 0.5
                          },
                          "pattern": {
                            "fillmode": "overlay",
                            "size": 10,
                            "solidity": 0.2
                          }
                        },
                        "type": "bar"
                      }
                    ],
                    "barpolar": [
                      {
                        "marker": {
                          "line": {
                            "color": "#E5ECF6",
                            "width": 0.5
                          },
                          "pattern": {
                            "fillmode": "overlay",
                            "size": 10,
                            "solidity": 0.2
                          }
                        },
                        "type": "barpolar"
                      }
                    ],
                    "carpet": [
                      {
                        "aaxis": {
                          "endlinecolor": "#2a3f5f",
                          "gridcolor": "white",
                          "linecolor": "white",
                          "minorgridcolor": "white",
                          "startlinecolor": "#2a3f5f"
                        },
                        "baxis": {
                          "endlinecolor": "#2a3f5f",
                          "gridcolor": "white",
                          "linecolor": "white",
                          "minorgridcolor": "white",
                          "startlinecolor": "#2a3f5f"
                        },
                        "type": "carpet"
                      }
                    ],
                    "choropleth": [
                      {
                        "colorbar": {
                          "outlinewidth": 0,
                          "ticks": ""
                        },
                        "type": "choropleth"
                      }
                    ],
                    "contour": [
                      {
                        "colorbar": {
                          "outlinewidth": 0,
                          "ticks": ""
                        },
                        "colorscale": [
                          [
                            0,
                            "#0d0887"
                          ],
                          [
                            0.1111111111111111,
                            "#46039f"
                          ],
                          [
                            0.2222222222222222,
                            "#7201a8"
                          ],
                          [
                            0.3333333333333333,
                            "#9c179e"
                          ],
                          [
                            0.4444444444444444,
                            "#bd3786"
                          ],
                          [
                            0.5555555555555556,
                            "#d8576b"
                          ],
                          [
                            0.6666666666666666,
                            "#ed7953"
                          ],
                          [
                            0.7777777777777778,
                            "#fb9f3a"
                          ],
                          [
                            0.8888888888888888,
                            "#fdca26"
                          ],
                          [
                            1,
                            "#f0f921"
                          ]
                        ],
                        "type": "contour"
                      }
                    ],
                    "contourcarpet": [
                      {
                        "colorbar": {
                          "outlinewidth": 0,
                          "ticks": ""
                        },
                        "type": "contourcarpet"
                      }
                    ],
                    "heatmap": [
                      {
                        "colorbar": {
                          "outlinewidth": 0,
                          "ticks": ""
                        },
                        "colorscale": [
                          [
                            0,
                            "#0d0887"
                          ],
                          [
                            0.1111111111111111,
                            "#46039f"
                          ],
                          [
                            0.2222222222222222,
                            "#7201a8"
                          ],
                          [
                            0.3333333333333333,
                            "#9c179e"
                          ],
                          [
                            0.4444444444444444,
                            "#bd3786"
                          ],
                          [
                            0.5555555555555556,
                            "#d8576b"
                          ],
                          [
                            0.6666666666666666,
                            "#ed7953"
                          ],
                          [
                            0.7777777777777778,
                            "#fb9f3a"
                          ],
                          [
                            0.8888888888888888,
                            "#fdca26"
                          ],
                          [
                            1,
                            "#f0f921"
                          ]
                        ],
                        "type": "heatmap"
                      }
                    ],
                    "heatmapgl": [
                      {
                        "colorbar": {
                          "outlinewidth": 0,
                          "ticks": ""
                        },
                        "colorscale": [
                          [
                            0,
                            "#0d0887"
                          ],
                          [
                            0.1111111111111111,
                            "#46039f"
                          ],
                          [
                            0.2222222222222222,
                            "#7201a8"
                          ],
                          [
                            0.3333333333333333,
                            "#9c179e"
                          ],
                          [
                            0.4444444444444444,
                            "#bd3786"
                          ],
                          [
                            0.5555555555555556,
                            "#d8576b"
                          ],
                          [
                            0.6666666666666666,
                            "#ed7953"
                          ],
                          [
                            0.7777777777777778,
                            "#fb9f3a"
                          ],
                          [
                            0.8888888888888888,
                            "#fdca26"
                          ],
                          [
                            1,
                            "#f0f921"
                          ]
                        ],
                        "type": "heatmapgl"
                      }
                    ],
                    "histogram": [
                      {
                        "marker": {
                          "pattern": {
                            "fillmode": "overlay",
                            "size": 10,
                            "solidity": 0.2
                          }
                        },
                        "type": "histogram"
                      }
                    ],
                    "histogram2d": [
                      {
                        "colorbar": {
                          "outlinewidth": 0,
                          "ticks": ""
                        },
                        "colorscale": [
                          [
                            0,
                            "#0d0887"
                          ],
                          [
                            0.1111111111111111,
                            "#46039f"
                          ],
                          [
                            0.2222222222222222,
                            "#7201a8"
                          ],
                          [
                            0.3333333333333333,
                            "#9c179e"
                          ],
                          [
                            0.4444444444444444,
                            "#bd3786"
                          ],
                          [
                            0.5555555555555556,
                            "#d8576b"
                          ],
                          [
                            0.6666666666666666,
                            "#ed7953"
                          ],
                          [
                            0.7777777777777778,
                            "#fb9f3a"
                          ],
                          [
                            0.8888888888888888,
                            "#fdca26"
                          ],
                          [
                            1,
                            "#f0f921"
                          ]
                        ],
                        "type": "histogram2d"
                      }
                    ],
                    "histogram2dcontour": [
                      {
                        "colorbar": {
                          "outlinewidth": 0,
                          "ticks": ""
                        },
                        "colorscale": [
                          [
                            0,
                            "#0d0887"
                          ],
                          [
                            0.1111111111111111,
                            "#46039f"
                          ],
                          [
                            0.2222222222222222,
                            "#7201a8"
                          ],
                          [
                            0.3333333333333333,
                            "#9c179e"
                          ],
                          [
                            0.4444444444444444,
                            "#bd3786"
                          ],
                          [
                            0.5555555555555556,
                            "#d8576b"
                          ],
                          [
                            0.6666666666666666,
                            "#ed7953"
                          ],
                          [
                            0.7777777777777778,
                            "#fb9f3a"
                          ],
                          [
                            0.8888888888888888,
                            "#fdca26"
                          ],
                          [
                            1,
                            "#f0f921"
                          ]
                        ],
                        "type": "histogram2dcontour"
                      }
                    ],
                    "mesh3d": [
                      {
                        "colorbar": {
                          "outlinewidth": 0,
                          "ticks": ""
                        },
                        "type": "mesh3d"
                      }
                    ],
                    "parcoords": [
                      {
                        "line": {
                          "colorbar": {
                            "outlinewidth": 0,
                            "ticks": ""
                          }
                        },
                        "type": "parcoords"
                      }
                    ],
                    "pie": [
                      {
                        "automargin": true,
                        "type": "pie"
                      }
                    ],
                    "scatter": [
                      {
                        "fillpattern": {
                          "fillmode": "overlay",
                          "size": 10,
                          "solidity": 0.2
                        },
                        "type": "scatter"
                      }
                    ],
                    "scatter3d": [
                      {
                        "line": {
                          "colorbar": {
                            "outlinewidth": 0,
                            "ticks": ""
                          }
                        },
                        "marker": {
                          "colorbar": {
                            "outlinewidth": 0,
                            "ticks": ""
                          }
                        },
                        "type": "scatter3d"
                      }
                    ],
                    "scattercarpet": [
                      {
                        "marker": {
                          "colorbar": {
                            "outlinewidth": 0,
                            "ticks": ""
                          }
                        },
                        "type": "scattercarpet"
                      }
                    ],
                    "scattergeo": [
                      {
                        "marker": {
                          "colorbar": {
                            "outlinewidth": 0,
                            "ticks": ""
                          }
                        },
                        "type": "scattergeo"
                      }
                    ],
                    "scattergl": [
                      {
                        "marker": {
                          "colorbar": {
                            "outlinewidth": 0,
                            "ticks": ""
                          }
                        },
                        "type": "scattergl"
                      }
                    ],
                    "scattermapbox": [
                      {
                        "marker": {
                          "colorbar": {
                            "outlinewidth": 0,
                            "ticks": ""
                          }
                        },
                        "type": "scattermapbox"
                      }
                    ],
                    "scatterpolar": [
                      {
                        "marker": {
                          "colorbar": {
                            "outlinewidth": 0,
                            "ticks": ""
                          }
                        },
                        "type": "scatterpolar"
                      }
                    ],
                    "scatterpolargl": [
                      {
                        "marker": {
                          "colorbar": {
                            "outlinewidth": 0,
                            "ticks": ""
                          }
                        },
                        "type": "scatterpolargl"
                      }
                    ],
                    "scatterternary": [
                      {
                        "marker": {
                          "colorbar": {
                            "outlinewidth": 0,
                            "ticks": ""
                          }
                        },
                        "type": "scatterternary"
                      }
                    ],
                    "surface": [
                      {
                        "colorbar": {
                          "outlinewidth": 0,
                          "ticks": ""
                        },
                        "colorscale": [
                          [
                            0,
                            "#0d0887"
                          ],
                          [
                            0.1111111111111111,
                            "#46039f"
                          ],
                          [
                            0.2222222222222222,
                            "#7201a8"
                          ],
                          [
                            0.3333333333333333,
                            "#9c179e"
                          ],
                          [
                            0.4444444444444444,
                            "#bd3786"
                          ],
                          [
                            0.5555555555555556,
                            "#d8576b"
                          ],
                          [
                            0.6666666666666666,
                            "#ed7953"
                          ],
                          [
                            0.7777777777777778,
                            "#fb9f3a"
                          ],
                          [
                            0.8888888888888888,
                            "#fdca26"
                          ],
                          [
                            1,
                            "#f0f921"
                          ]
                        ],
                        "type": "surface"
                      }
                    ],
                    "table": [
                      {
                        "cells": {
                          "fill": {
                            "color": "#EBF0F8"
                          },
                          "line": {
                            "color": "white"
                          }
                        },
                        "header": {
                          "fill": {
                            "color": "#C8D4E3"
                          },
                          "line": {
                            "color": "white"
                          }
                        },
                        "type": "table"
                      }
                    ]
                  },
                  "layout": {
                    "annotationdefaults": {
                      "arrowcolor": "#2a3f5f",
                      "arrowhead": 0,
                      "arrowwidth": 1
                    },
                    "autotypenumbers": "strict",
                    "coloraxis": {
                      "colorbar": {
                        "outlinewidth": 0,
                        "ticks": ""
                      }
                    },
                    "colorscale": {
                      "diverging": [
                        [
                          0,
                          "#8e0152"
                        ],
                        [
                          0.1,
                          "#c51b7d"
                        ],
                        [
                          0.2,
                          "#de77ae"
                        ],
                        [
                          0.3,
                          "#f1b6da"
                        ],
                        [
                          0.4,
                          "#fde0ef"
                        ],
                        [
                          0.5,
                          "#f7f7f7"
                        ],
                        [
                          0.6,
                          "#e6f5d0"
                        ],
                        [
                          0.7,
                          "#b8e186"
                        ],
                        [
                          0.8,
                          "#7fbc41"
                        ],
                        [
                          0.9,
                          "#4d9221"
                        ],
                        [
                          1,
                          "#276419"
                        ]
                      ],
                      "sequential": [
                        [
                          0,
                          "#0d0887"
                        ],
                        [
                          0.1111111111111111,
                          "#46039f"
                        ],
                        [
                          0.2222222222222222,
                          "#7201a8"
                        ],
                        [
                          0.3333333333333333,
                          "#9c179e"
                        ],
                        [
                          0.4444444444444444,
                          "#bd3786"
                        ],
                        [
                          0.5555555555555556,
                          "#d8576b"
                        ],
                        [
                          0.6666666666666666,
                          "#ed7953"
                        ],
                        [
                          0.7777777777777778,
                          "#fb9f3a"
                        ],
                        [
                          0.8888888888888888,
                          "#fdca26"
                        ],
                        [
                          1,
                          "#f0f921"
                        ]
                      ],
                      "sequentialminus": [
                        [
                          0,
                          "#0d0887"
                        ],
                        [
                          0.1111111111111111,
                          "#46039f"
                        ],
                        [
                          0.2222222222222222,
                          "#7201a8"
                        ],
                        [
                          0.3333333333333333,
                          "#9c179e"
                        ],
                        [
                          0.4444444444444444,
                          "#bd3786"
                        ],
                        [
                          0.5555555555555556,
                          "#d8576b"
                        ],
                        [
                          0.6666666666666666,
                          "#ed7953"
                        ],
                        [
                          0.7777777777777778,
                          "#fb9f3a"
                        ],
                        [
                          0.8888888888888888,
                          "#fdca26"
                        ],
                        [
                          1,
                          "#f0f921"
                        ]
                      ]
                    },
                    "colorway": [
                      "#636efa",
                      "#EF553B",
                      "#00cc96",
                      "#ab63fa",
                      "#FFA15A",
                      "#19d3f3",
                      "#FF6692",
                      "#B6E880",
                      "#FF97FF",
                      "#FECB52"
                    ],
                    "font": {
                      "color": "#2a3f5f"
                    },
                    "geo": {
                      "bgcolor": "white",
                      "lakecolor": "white",
                      "landcolor": "#E5ECF6",
                      "showlakes": true,
                      "showland": true,
                      "subunitcolor": "white"
                    },
                    "hoverlabel": {
                      "align": "left"
                    },
                    "hovermode": "closest",
                    "mapbox": {
                      "style": "light"
                    },
                    "paper_bgcolor": "white",
                    "plot_bgcolor": "#E5ECF6",
                    "polar": {
                      "angularaxis": {
                        "gridcolor": "white",
                        "linecolor": "white",
                        "ticks": ""
                      },
                      "bgcolor": "#E5ECF6",
                      "radialaxis": {
                        "gridcolor": "white",
                        "linecolor": "white",
                        "ticks": ""
                      }
                    },
                    "scene": {
                      "xaxis": {
                        "backgroundcolor": "#E5ECF6",
                        "gridcolor": "white",
                        "gridwidth": 2,
                        "linecolor": "white",
                        "showbackground": true,
                        "ticks": "",
                        "zerolinecolor": "white"
                      },
                      "yaxis": {
                        "backgroundcolor": "#E5ECF6",
                        "gridcolor": "white",
                        "gridwidth": 2,
                        "linecolor": "white",
                        "showbackground": true,
                        "ticks": "",
                        "zerolinecolor": "white"
                      },
                      "zaxis": {
                        "backgroundcolor": "#E5ECF6",
                        "gridcolor": "white",
                        "gridwidth": 2,
                        "linecolor": "white",
                        "showbackground": true,
                        "ticks": "",
                        "zerolinecolor": "white"
                      }
                    },
                    "shapedefaults": {
                      "line": {
                        "color": "#2a3f5f"
                      }
                    },
                    "ternary": {
                      "aaxis": {
                        "gridcolor": "white",
                        "linecolor": "white",
                        "ticks": ""
                      },
                      "baxis": {
                        "gridcolor": "white",
                        "linecolor": "white",
                        "ticks": ""
                      },
                      "bgcolor": "#E5ECF6",
                      "caxis": {
                        "gridcolor": "white",
                        "linecolor": "white",
                        "ticks": ""
                      }
                    },
                    "title": {
                      "x": 0.05
                    },
                    "xaxis": {
                      "automargin": true,
                      "gridcolor": "white",
                      "linecolor": "white",
                      "ticks": "",
                      "title": {
                        "standoff": 15
                      },
                      "zerolinecolor": "white",
                      "zerolinewidth": 2
                    },
                    "yaxis": {
                      "automargin": true,
                      "gridcolor": "white",
                      "linecolor": "white",
                      "ticks": "",
                      "title": {
                        "standoff": 15
                      },
                      "zerolinecolor": "white",
                      "zerolinewidth": 2
                    }
                  }
                },
                "title": {
                  "text": "Ventas por Producto en un Periodo de 14 días alrededor de Diciembre"
                },
                "xaxis": {
                  "title": {
                    "text": "Día"
                  }
                },
                "yaxis": {
                  "title": {
                    "text": "Cantidad Pedida"
                  }
                }
              }
            }
          },
          "metadata": {},
          "output_type": "display_data"
        }
      ],
      "source": [
        "\n",
        "# Gráfica personalizada con go.Figure\n",
        "fig_personalizado = go.Figure()\n",
        "\n",
        "# Agregar trazos a la gráfica personalizada\n",
        "for producto in ventas_periodo_fecha['Producto'].unique():\n",
        "    datos_producto = ventas_periodo_fecha[ventas_periodo_fecha['Producto'] == producto]\n",
        "    fig_personalizado.add_trace(go.Scatter(\n",
        "        x=datos_producto['Dia'], \n",
        "        y=datos_producto['Cantidad Pedida'], \n",
        "        mode='lines', \n",
        "        name=producto))\n",
        "\n",
        "# Personalizar el diseño de la gráfica\n",
        "fig_personalizado.update_layout(\n",
        "    title='Ventas por Producto en un Periodo de 14 días alrededor de {}'.format(mes),\n",
        "    xaxis=dict(title='Día'),\n",
        "    yaxis=dict(title='Cantidad Pedida'),\n",
        "    legend=dict(title='Producto'),\n",
        ")\n",
        "\n",
        "fig_personalizado.show()"
      ]
    },
    {
      "cell_type": "code",
      "execution_count": 355,
      "metadata": {},
      "outputs": [
        {
          "data": {
            "application/vnd.plotly.v1+json": {
              "config": {
                "plotlyServerURL": "https://plot.ly"
              },
              "data": [
                {
                  "hoverinfo": "x+y+text+name",
                  "text": [
                    "LG Washing Machine",
                    "LG Washing Machine",
                    "LG Dryer",
                    "LG Dryer",
                    "LG Dryer",
                    "LG Washing Machine",
                    "LG Washing Machine",
                    "LG Dryer",
                    "LG Washing Machine",
                    "LG Dryer",
                    "LG Washing Machine",
                    "LG Dryer",
                    "LG Dryer",
                    "LG Washing Machine",
                    "LG Washing Machine",
                    "LG Washing Machine",
                    "LG Dryer",
                    "LG Dryer",
                    "LG Dryer",
                    "LG Dryer",
                    "Vareebadd Phone",
                    "LG Washing Machine",
                    "LG Washing Machine",
                    "LG Dryer",
                    "LG Washing Machine",
                    "LG Dryer",
                    "Vareebadd Phone",
                    "Vareebadd Phone",
                    "Vareebadd Phone",
                    "Vareebadd Phone",
                    "Vareebadd Phone",
                    "Vareebadd Phone",
                    "ThinkPad Laptop",
                    "Vareebadd Phone",
                    "Vareebadd Phone",
                    "Vareebadd Phone",
                    "Macbook Pro Laptop",
                    "Vareebadd Phone",
                    "20in Monitor",
                    "ThinkPad Laptop",
                    "Vareebadd Phone",
                    "27in 4K Gaming Monitor",
                    "ThinkPad Laptop",
                    "Google Phone",
                    "Macbook Pro Laptop",
                    "Vareebadd Phone",
                    "ThinkPad Laptop",
                    "Macbook Pro Laptop",
                    "34in Ultrawide Monitor",
                    "20in Monitor",
                    "Macbook Pro Laptop",
                    "Macbook Pro Laptop",
                    "20in Monitor",
                    "ThinkPad Laptop",
                    "20in Monitor",
                    "34in Ultrawide Monitor",
                    "Vareebadd Phone",
                    "Google Phone",
                    "Google Phone",
                    "Macbook Pro Laptop",
                    "20in Monitor",
                    "ThinkPad Laptop",
                    "ThinkPad Laptop",
                    "Flatscreen TV",
                    "Macbook Pro Laptop",
                    "Flatscreen TV",
                    "ThinkPad Laptop",
                    "ThinkPad Laptop",
                    "Flatscreen TV",
                    "Flatscreen TV",
                    "ThinkPad Laptop",
                    "Google Phone",
                    "20in Monitor",
                    "20in Monitor",
                    "Macbook Pro Laptop",
                    "iPhone",
                    "ThinkPad Laptop",
                    "ThinkPad Laptop",
                    "ThinkPad Laptop",
                    "Flatscreen TV",
                    "Flatscreen TV",
                    "Google Phone",
                    "Google Phone",
                    "20in Monitor",
                    "Flatscreen TV",
                    "27in 4K Gaming Monitor",
                    "Flatscreen TV",
                    "20in Monitor",
                    "Google Phone",
                    "Macbook Pro Laptop",
                    "34in Ultrawide Monitor",
                    "Macbook Pro Laptop",
                    "Flatscreen TV",
                    "Flatscreen TV",
                    "Flatscreen TV",
                    "Flatscreen TV",
                    "iPhone",
                    "20in Monitor",
                    "34in Ultrawide Monitor",
                    "27in 4K Gaming Monitor",
                    "27in FHD Monitor",
                    "27in FHD Monitor",
                    "Google Phone",
                    "20in Monitor",
                    "Google Phone",
                    "iPhone",
                    "20in Monitor",
                    "20in Monitor",
                    "Flatscreen TV",
                    "27in FHD Monitor",
                    "27in 4K Gaming Monitor",
                    "Macbook Pro Laptop",
                    "34in Ultrawide Monitor",
                    "34in Ultrawide Monitor",
                    "27in 4K Gaming Monitor",
                    "34in Ultrawide Monitor",
                    "Google Phone",
                    "Macbook Pro Laptop",
                    "Macbook Pro Laptop",
                    "27in 4K Gaming Monitor",
                    "20in Monitor",
                    "iPhone",
                    "ThinkPad Laptop",
                    "27in FHD Monitor",
                    "Google Phone",
                    "iPhone",
                    "Google Phone",
                    "27in FHD Monitor",
                    "27in 4K Gaming Monitor",
                    "Google Phone",
                    "27in 4K Gaming Monitor",
                    "34in Ultrawide Monitor",
                    "Macbook Pro Laptop",
                    "27in 4K Gaming Monitor",
                    "34in Ultrawide Monitor",
                    "34in Ultrawide Monitor",
                    "34in Ultrawide Monitor",
                    "27in 4K Gaming Monitor",
                    "27in 4K Gaming Monitor",
                    "27in FHD Monitor",
                    "iPhone",
                    "iPhone",
                    "27in FHD Monitor",
                    "27in FHD Monitor",
                    "27in FHD Monitor",
                    "Flatscreen TV",
                    "iPhone",
                    "iPhone",
                    "Google Phone",
                    "34in Ultrawide Monitor",
                    "iPhone",
                    "iPhone",
                    "iPhone",
                    "27in 4K Gaming Monitor",
                    "iPhone",
                    "iPhone",
                    "27in 4K Gaming Monitor",
                    "34in Ultrawide Monitor",
                    "27in 4K Gaming Monitor",
                    "27in FHD Monitor",
                    "34in Ultrawide Monitor",
                    "27in FHD Monitor",
                    "27in FHD Monitor",
                    "27in FHD Monitor",
                    "27in FHD Monitor",
                    "Bose SoundSport Headphones",
                    "Bose SoundSport Headphones",
                    "Apple Airpods Headphones",
                    "Bose SoundSport Headphones",
                    "Apple Airpods Headphones",
                    "Bose SoundSport Headphones",
                    "Bose SoundSport Headphones",
                    "Bose SoundSport Headphones",
                    "Bose SoundSport Headphones",
                    "Bose SoundSport Headphones",
                    "Bose SoundSport Headphones",
                    "Bose SoundSport Headphones",
                    "Bose SoundSport Headphones",
                    "Apple Airpods Headphones",
                    "Bose SoundSport Headphones",
                    "Apple Airpods Headphones",
                    "Apple Airpods Headphones",
                    "Apple Airpods Headphones",
                    "Bose SoundSport Headphones",
                    "Apple Airpods Headphones",
                    "Apple Airpods Headphones",
                    "Apple Airpods Headphones",
                    "Bose SoundSport Headphones",
                    "Apple Airpods Headphones",
                    "Wired Headphones",
                    "Apple Airpods Headphones",
                    "Apple Airpods Headphones",
                    "Wired Headphones",
                    "Wired Headphones",
                    "Apple Airpods Headphones",
                    "Wired Headphones",
                    "Wired Headphones",
                    "Lightning Charging Cable",
                    "Wired Headphones",
                    "Lightning Charging Cable",
                    "Apple Airpods Headphones",
                    "Wired Headphones",
                    "Lightning Charging Cable",
                    "AA Batteries (4-pack)",
                    "Lightning Charging Cable",
                    "Lightning Charging Cable",
                    "Wired Headphones",
                    "Lightning Charging Cable",
                    "Wired Headphones",
                    "Wired Headphones",
                    "Wired Headphones",
                    "Lightning Charging Cable",
                    "USB-C Charging Cable",
                    "Lightning Charging Cable",
                    "AAA Batteries (4-pack)",
                    "Wired Headphones",
                    "Wired Headphones",
                    "Lightning Charging Cable",
                    "USB-C Charging Cable",
                    "Lightning Charging Cable",
                    "USB-C Charging Cable",
                    "Lightning Charging Cable",
                    "USB-C Charging Cable",
                    "USB-C Charging Cable",
                    "Lightning Charging Cable",
                    "AA Batteries (4-pack)",
                    "USB-C Charging Cable",
                    "AA Batteries (4-pack)",
                    "USB-C Charging Cable",
                    "USB-C Charging Cable",
                    "Wired Headphones",
                    "USB-C Charging Cable",
                    "USB-C Charging Cable",
                    "USB-C Charging Cable",
                    "Lightning Charging Cable",
                    "AA Batteries (4-pack)",
                    "AA Batteries (4-pack)",
                    "AA Batteries (4-pack)",
                    "AA Batteries (4-pack)",
                    "USB-C Charging Cable",
                    "AAA Batteries (4-pack)",
                    "USB-C Charging Cable",
                    "USB-C Charging Cable",
                    "AA Batteries (4-pack)",
                    "AA Batteries (4-pack)",
                    "Lightning Charging Cable",
                    "AAA Batteries (4-pack)",
                    "AA Batteries (4-pack)",
                    "AA Batteries (4-pack)",
                    "AAA Batteries (4-pack)",
                    "AAA Batteries (4-pack)",
                    "AAA Batteries (4-pack)",
                    "AAA Batteries (4-pack)",
                    "AA Batteries (4-pack)",
                    "AAA Batteries (4-pack)",
                    "AA Batteries (4-pack)",
                    "AA Batteries (4-pack)",
                    "AAA Batteries (4-pack)",
                    "AAA Batteries (4-pack)",
                    "AAA Batteries (4-pack)",
                    "AAA Batteries (4-pack)",
                    "AAA Batteries (4-pack)",
                    "AAA Batteries (4-pack)"
                  ],
                  "textposition": "auto",
                  "type": "bar",
                  "x": [
                    26,
                    21,
                    27,
                    23,
                    25,
                    22,
                    18,
                    30,
                    23,
                    18,
                    30,
                    29,
                    28,
                    28,
                    20,
                    19,
                    20,
                    26,
                    22,
                    31,
                    22,
                    29,
                    31,
                    21,
                    24,
                    24,
                    25,
                    19,
                    27,
                    26,
                    21,
                    28,
                    22,
                    20,
                    31,
                    24,
                    27,
                    29,
                    26,
                    18,
                    23,
                    31,
                    28,
                    19,
                    31,
                    18,
                    23,
                    28,
                    21,
                    18,
                    26,
                    19,
                    22,
                    19,
                    23,
                    29,
                    30,
                    31,
                    27,
                    24,
                    24,
                    27,
                    26,
                    19,
                    23,
                    22,
                    21,
                    24,
                    26,
                    27,
                    30,
                    28,
                    27,
                    30,
                    30,
                    28,
                    20,
                    25,
                    29,
                    21,
                    20,
                    26,
                    21,
                    19,
                    23,
                    22,
                    25,
                    29,
                    18,
                    29,
                    31,
                    25,
                    30,
                    29,
                    31,
                    24,
                    31,
                    21,
                    18,
                    18,
                    31,
                    21,
                    25,
                    20,
                    30,
                    22,
                    28,
                    31,
                    18,
                    23,
                    25,
                    20,
                    28,
                    20,
                    24,
                    30,
                    29,
                    22,
                    18,
                    28,
                    25,
                    25,
                    31,
                    18,
                    23,
                    27,
                    20,
                    22,
                    30,
                    24,
                    29,
                    27,
                    21,
                    19,
                    19,
                    24,
                    26,
                    21,
                    20,
                    27,
                    30,
                    29,
                    24,
                    20,
                    29,
                    28,
                    20,
                    21,
                    22,
                    23,
                    23,
                    24,
                    18,
                    23,
                    26,
                    19,
                    26,
                    25,
                    27,
                    25,
                    22,
                    26,
                    30,
                    28,
                    19,
                    31,
                    26,
                    31,
                    24,
                    20,
                    29,
                    23,
                    19,
                    25,
                    30,
                    27,
                    28,
                    21,
                    19,
                    22,
                    27,
                    21,
                    22,
                    20,
                    24,
                    25,
                    30,
                    18,
                    18,
                    21,
                    28,
                    26,
                    24,
                    30,
                    23,
                    25,
                    22,
                    26,
                    19,
                    31,
                    29,
                    20,
                    18,
                    21,
                    30,
                    25,
                    31,
                    27,
                    28,
                    23,
                    29,
                    20,
                    20,
                    21,
                    18,
                    18,
                    26,
                    24,
                    21,
                    28,
                    28,
                    29,
                    31,
                    22,
                    22,
                    22,
                    18,
                    27,
                    19,
                    30,
                    27,
                    27,
                    26,
                    29,
                    19,
                    18,
                    25,
                    23,
                    24,
                    23,
                    27,
                    25,
                    24,
                    30,
                    29,
                    23,
                    25,
                    20,
                    28,
                    20,
                    22,
                    24,
                    28,
                    19,
                    26,
                    31,
                    26,
                    29,
                    19,
                    30,
                    21,
                    31,
                    23
                  ],
                  "y": [
                    1,
                    1,
                    1,
                    1,
                    2,
                    2,
                    2,
                    2,
                    2,
                    3,
                    3,
                    3,
                    3,
                    3,
                    3,
                    3,
                    3,
                    4,
                    4,
                    4,
                    4,
                    4,
                    5,
                    5,
                    5,
                    5,
                    5,
                    5,
                    7,
                    7,
                    7,
                    9,
                    10,
                    10,
                    10,
                    11,
                    11,
                    12,
                    13,
                    13,
                    13,
                    14,
                    15,
                    15,
                    15,
                    15,
                    16,
                    16,
                    16,
                    16,
                    17,
                    17,
                    17,
                    17,
                    17,
                    17,
                    17,
                    18,
                    18,
                    18,
                    18,
                    18,
                    18,
                    18,
                    19,
                    19,
                    19,
                    19,
                    19,
                    19,
                    19,
                    20,
                    20,
                    20,
                    20,
                    20,
                    20,
                    20,
                    21,
                    21,
                    21,
                    21,
                    21,
                    21,
                    21,
                    21,
                    22,
                    22,
                    22,
                    22,
                    22,
                    22,
                    22,
                    23,
                    23,
                    23,
                    23,
                    23,
                    23,
                    23,
                    23,
                    23,
                    24,
                    24,
                    24,
                    24,
                    24,
                    24,
                    24,
                    25,
                    25,
                    25,
                    25,
                    25,
                    25,
                    25,
                    25,
                    25,
                    26,
                    26,
                    26,
                    26,
                    26,
                    26,
                    26,
                    27,
                    27,
                    27,
                    27,
                    27,
                    27,
                    27,
                    27,
                    28,
                    28,
                    28,
                    28,
                    28,
                    28,
                    28,
                    28,
                    28,
                    29,
                    29,
                    29,
                    29,
                    29,
                    30,
                    30,
                    31,
                    32,
                    32,
                    32,
                    32,
                    32,
                    33,
                    33,
                    35,
                    35,
                    37,
                    37,
                    37,
                    38,
                    38,
                    41,
                    46,
                    51,
                    51,
                    55,
                    57,
                    57,
                    59,
                    60,
                    60,
                    60,
                    62,
                    62,
                    63,
                    64,
                    64,
                    66,
                    66,
                    67,
                    68,
                    70,
                    70,
                    70,
                    71,
                    71,
                    73,
                    73,
                    75,
                    76,
                    77,
                    77,
                    78,
                    78,
                    81,
                    81,
                    84,
                    85,
                    87,
                    87,
                    88,
                    90,
                    90,
                    90,
                    91,
                    95,
                    95,
                    95,
                    95,
                    97,
                    98,
                    99,
                    100,
                    100,
                    101,
                    101,
                    101,
                    102,
                    103,
                    103,
                    104,
                    104,
                    104,
                    105,
                    105,
                    107,
                    108,
                    109,
                    109,
                    110,
                    111,
                    112,
                    112,
                    113,
                    114,
                    115,
                    115,
                    116,
                    118,
                    118,
                    119,
                    122,
                    122,
                    129,
                    131,
                    132,
                    133,
                    133,
                    133,
                    138,
                    138,
                    139,
                    139,
                    139,
                    148,
                    154,
                    159,
                    165,
                    166,
                    171
                  ]
                }
              ],
              "layout": {
                "barmode": "group",
                "height": 800,
                "template": {
                  "data": {
                    "bar": [
                      {
                        "error_x": {
                          "color": "#2a3f5f"
                        },
                        "error_y": {
                          "color": "#2a3f5f"
                        },
                        "marker": {
                          "line": {
                            "color": "#E5ECF6",
                            "width": 0.5
                          },
                          "pattern": {
                            "fillmode": "overlay",
                            "size": 10,
                            "solidity": 0.2
                          }
                        },
                        "type": "bar"
                      }
                    ],
                    "barpolar": [
                      {
                        "marker": {
                          "line": {
                            "color": "#E5ECF6",
                            "width": 0.5
                          },
                          "pattern": {
                            "fillmode": "overlay",
                            "size": 10,
                            "solidity": 0.2
                          }
                        },
                        "type": "barpolar"
                      }
                    ],
                    "carpet": [
                      {
                        "aaxis": {
                          "endlinecolor": "#2a3f5f",
                          "gridcolor": "white",
                          "linecolor": "white",
                          "minorgridcolor": "white",
                          "startlinecolor": "#2a3f5f"
                        },
                        "baxis": {
                          "endlinecolor": "#2a3f5f",
                          "gridcolor": "white",
                          "linecolor": "white",
                          "minorgridcolor": "white",
                          "startlinecolor": "#2a3f5f"
                        },
                        "type": "carpet"
                      }
                    ],
                    "choropleth": [
                      {
                        "colorbar": {
                          "outlinewidth": 0,
                          "ticks": ""
                        },
                        "type": "choropleth"
                      }
                    ],
                    "contour": [
                      {
                        "colorbar": {
                          "outlinewidth": 0,
                          "ticks": ""
                        },
                        "colorscale": [
                          [
                            0,
                            "#0d0887"
                          ],
                          [
                            0.1111111111111111,
                            "#46039f"
                          ],
                          [
                            0.2222222222222222,
                            "#7201a8"
                          ],
                          [
                            0.3333333333333333,
                            "#9c179e"
                          ],
                          [
                            0.4444444444444444,
                            "#bd3786"
                          ],
                          [
                            0.5555555555555556,
                            "#d8576b"
                          ],
                          [
                            0.6666666666666666,
                            "#ed7953"
                          ],
                          [
                            0.7777777777777778,
                            "#fb9f3a"
                          ],
                          [
                            0.8888888888888888,
                            "#fdca26"
                          ],
                          [
                            1,
                            "#f0f921"
                          ]
                        ],
                        "type": "contour"
                      }
                    ],
                    "contourcarpet": [
                      {
                        "colorbar": {
                          "outlinewidth": 0,
                          "ticks": ""
                        },
                        "type": "contourcarpet"
                      }
                    ],
                    "heatmap": [
                      {
                        "colorbar": {
                          "outlinewidth": 0,
                          "ticks": ""
                        },
                        "colorscale": [
                          [
                            0,
                            "#0d0887"
                          ],
                          [
                            0.1111111111111111,
                            "#46039f"
                          ],
                          [
                            0.2222222222222222,
                            "#7201a8"
                          ],
                          [
                            0.3333333333333333,
                            "#9c179e"
                          ],
                          [
                            0.4444444444444444,
                            "#bd3786"
                          ],
                          [
                            0.5555555555555556,
                            "#d8576b"
                          ],
                          [
                            0.6666666666666666,
                            "#ed7953"
                          ],
                          [
                            0.7777777777777778,
                            "#fb9f3a"
                          ],
                          [
                            0.8888888888888888,
                            "#fdca26"
                          ],
                          [
                            1,
                            "#f0f921"
                          ]
                        ],
                        "type": "heatmap"
                      }
                    ],
                    "heatmapgl": [
                      {
                        "colorbar": {
                          "outlinewidth": 0,
                          "ticks": ""
                        },
                        "colorscale": [
                          [
                            0,
                            "#0d0887"
                          ],
                          [
                            0.1111111111111111,
                            "#46039f"
                          ],
                          [
                            0.2222222222222222,
                            "#7201a8"
                          ],
                          [
                            0.3333333333333333,
                            "#9c179e"
                          ],
                          [
                            0.4444444444444444,
                            "#bd3786"
                          ],
                          [
                            0.5555555555555556,
                            "#d8576b"
                          ],
                          [
                            0.6666666666666666,
                            "#ed7953"
                          ],
                          [
                            0.7777777777777778,
                            "#fb9f3a"
                          ],
                          [
                            0.8888888888888888,
                            "#fdca26"
                          ],
                          [
                            1,
                            "#f0f921"
                          ]
                        ],
                        "type": "heatmapgl"
                      }
                    ],
                    "histogram": [
                      {
                        "marker": {
                          "pattern": {
                            "fillmode": "overlay",
                            "size": 10,
                            "solidity": 0.2
                          }
                        },
                        "type": "histogram"
                      }
                    ],
                    "histogram2d": [
                      {
                        "colorbar": {
                          "outlinewidth": 0,
                          "ticks": ""
                        },
                        "colorscale": [
                          [
                            0,
                            "#0d0887"
                          ],
                          [
                            0.1111111111111111,
                            "#46039f"
                          ],
                          [
                            0.2222222222222222,
                            "#7201a8"
                          ],
                          [
                            0.3333333333333333,
                            "#9c179e"
                          ],
                          [
                            0.4444444444444444,
                            "#bd3786"
                          ],
                          [
                            0.5555555555555556,
                            "#d8576b"
                          ],
                          [
                            0.6666666666666666,
                            "#ed7953"
                          ],
                          [
                            0.7777777777777778,
                            "#fb9f3a"
                          ],
                          [
                            0.8888888888888888,
                            "#fdca26"
                          ],
                          [
                            1,
                            "#f0f921"
                          ]
                        ],
                        "type": "histogram2d"
                      }
                    ],
                    "histogram2dcontour": [
                      {
                        "colorbar": {
                          "outlinewidth": 0,
                          "ticks": ""
                        },
                        "colorscale": [
                          [
                            0,
                            "#0d0887"
                          ],
                          [
                            0.1111111111111111,
                            "#46039f"
                          ],
                          [
                            0.2222222222222222,
                            "#7201a8"
                          ],
                          [
                            0.3333333333333333,
                            "#9c179e"
                          ],
                          [
                            0.4444444444444444,
                            "#bd3786"
                          ],
                          [
                            0.5555555555555556,
                            "#d8576b"
                          ],
                          [
                            0.6666666666666666,
                            "#ed7953"
                          ],
                          [
                            0.7777777777777778,
                            "#fb9f3a"
                          ],
                          [
                            0.8888888888888888,
                            "#fdca26"
                          ],
                          [
                            1,
                            "#f0f921"
                          ]
                        ],
                        "type": "histogram2dcontour"
                      }
                    ],
                    "mesh3d": [
                      {
                        "colorbar": {
                          "outlinewidth": 0,
                          "ticks": ""
                        },
                        "type": "mesh3d"
                      }
                    ],
                    "parcoords": [
                      {
                        "line": {
                          "colorbar": {
                            "outlinewidth": 0,
                            "ticks": ""
                          }
                        },
                        "type": "parcoords"
                      }
                    ],
                    "pie": [
                      {
                        "automargin": true,
                        "type": "pie"
                      }
                    ],
                    "scatter": [
                      {
                        "fillpattern": {
                          "fillmode": "overlay",
                          "size": 10,
                          "solidity": 0.2
                        },
                        "type": "scatter"
                      }
                    ],
                    "scatter3d": [
                      {
                        "line": {
                          "colorbar": {
                            "outlinewidth": 0,
                            "ticks": ""
                          }
                        },
                        "marker": {
                          "colorbar": {
                            "outlinewidth": 0,
                            "ticks": ""
                          }
                        },
                        "type": "scatter3d"
                      }
                    ],
                    "scattercarpet": [
                      {
                        "marker": {
                          "colorbar": {
                            "outlinewidth": 0,
                            "ticks": ""
                          }
                        },
                        "type": "scattercarpet"
                      }
                    ],
                    "scattergeo": [
                      {
                        "marker": {
                          "colorbar": {
                            "outlinewidth": 0,
                            "ticks": ""
                          }
                        },
                        "type": "scattergeo"
                      }
                    ],
                    "scattergl": [
                      {
                        "marker": {
                          "colorbar": {
                            "outlinewidth": 0,
                            "ticks": ""
                          }
                        },
                        "type": "scattergl"
                      }
                    ],
                    "scattermapbox": [
                      {
                        "marker": {
                          "colorbar": {
                            "outlinewidth": 0,
                            "ticks": ""
                          }
                        },
                        "type": "scattermapbox"
                      }
                    ],
                    "scatterpolar": [
                      {
                        "marker": {
                          "colorbar": {
                            "outlinewidth": 0,
                            "ticks": ""
                          }
                        },
                        "type": "scatterpolar"
                      }
                    ],
                    "scatterpolargl": [
                      {
                        "marker": {
                          "colorbar": {
                            "outlinewidth": 0,
                            "ticks": ""
                          }
                        },
                        "type": "scatterpolargl"
                      }
                    ],
                    "scatterternary": [
                      {
                        "marker": {
                          "colorbar": {
                            "outlinewidth": 0,
                            "ticks": ""
                          }
                        },
                        "type": "scatterternary"
                      }
                    ],
                    "surface": [
                      {
                        "colorbar": {
                          "outlinewidth": 0,
                          "ticks": ""
                        },
                        "colorscale": [
                          [
                            0,
                            "#0d0887"
                          ],
                          [
                            0.1111111111111111,
                            "#46039f"
                          ],
                          [
                            0.2222222222222222,
                            "#7201a8"
                          ],
                          [
                            0.3333333333333333,
                            "#9c179e"
                          ],
                          [
                            0.4444444444444444,
                            "#bd3786"
                          ],
                          [
                            0.5555555555555556,
                            "#d8576b"
                          ],
                          [
                            0.6666666666666666,
                            "#ed7953"
                          ],
                          [
                            0.7777777777777778,
                            "#fb9f3a"
                          ],
                          [
                            0.8888888888888888,
                            "#fdca26"
                          ],
                          [
                            1,
                            "#f0f921"
                          ]
                        ],
                        "type": "surface"
                      }
                    ],
                    "table": [
                      {
                        "cells": {
                          "fill": {
                            "color": "#EBF0F8"
                          },
                          "line": {
                            "color": "white"
                          }
                        },
                        "header": {
                          "fill": {
                            "color": "#C8D4E3"
                          },
                          "line": {
                            "color": "white"
                          }
                        },
                        "type": "table"
                      }
                    ]
                  },
                  "layout": {
                    "annotationdefaults": {
                      "arrowcolor": "#2a3f5f",
                      "arrowhead": 0,
                      "arrowwidth": 1
                    },
                    "autotypenumbers": "strict",
                    "coloraxis": {
                      "colorbar": {
                        "outlinewidth": 0,
                        "ticks": ""
                      }
                    },
                    "colorscale": {
                      "diverging": [
                        [
                          0,
                          "#8e0152"
                        ],
                        [
                          0.1,
                          "#c51b7d"
                        ],
                        [
                          0.2,
                          "#de77ae"
                        ],
                        [
                          0.3,
                          "#f1b6da"
                        ],
                        [
                          0.4,
                          "#fde0ef"
                        ],
                        [
                          0.5,
                          "#f7f7f7"
                        ],
                        [
                          0.6,
                          "#e6f5d0"
                        ],
                        [
                          0.7,
                          "#b8e186"
                        ],
                        [
                          0.8,
                          "#7fbc41"
                        ],
                        [
                          0.9,
                          "#4d9221"
                        ],
                        [
                          1,
                          "#276419"
                        ]
                      ],
                      "sequential": [
                        [
                          0,
                          "#0d0887"
                        ],
                        [
                          0.1111111111111111,
                          "#46039f"
                        ],
                        [
                          0.2222222222222222,
                          "#7201a8"
                        ],
                        [
                          0.3333333333333333,
                          "#9c179e"
                        ],
                        [
                          0.4444444444444444,
                          "#bd3786"
                        ],
                        [
                          0.5555555555555556,
                          "#d8576b"
                        ],
                        [
                          0.6666666666666666,
                          "#ed7953"
                        ],
                        [
                          0.7777777777777778,
                          "#fb9f3a"
                        ],
                        [
                          0.8888888888888888,
                          "#fdca26"
                        ],
                        [
                          1,
                          "#f0f921"
                        ]
                      ],
                      "sequentialminus": [
                        [
                          0,
                          "#0d0887"
                        ],
                        [
                          0.1111111111111111,
                          "#46039f"
                        ],
                        [
                          0.2222222222222222,
                          "#7201a8"
                        ],
                        [
                          0.3333333333333333,
                          "#9c179e"
                        ],
                        [
                          0.4444444444444444,
                          "#bd3786"
                        ],
                        [
                          0.5555555555555556,
                          "#d8576b"
                        ],
                        [
                          0.6666666666666666,
                          "#ed7953"
                        ],
                        [
                          0.7777777777777778,
                          "#fb9f3a"
                        ],
                        [
                          0.8888888888888888,
                          "#fdca26"
                        ],
                        [
                          1,
                          "#f0f921"
                        ]
                      ]
                    },
                    "colorway": [
                      "#636efa",
                      "#EF553B",
                      "#00cc96",
                      "#ab63fa",
                      "#FFA15A",
                      "#19d3f3",
                      "#FF6692",
                      "#B6E880",
                      "#FF97FF",
                      "#FECB52"
                    ],
                    "font": {
                      "color": "#2a3f5f"
                    },
                    "geo": {
                      "bgcolor": "white",
                      "lakecolor": "white",
                      "landcolor": "#E5ECF6",
                      "showlakes": true,
                      "showland": true,
                      "subunitcolor": "white"
                    },
                    "hoverlabel": {
                      "align": "left"
                    },
                    "hovermode": "closest",
                    "mapbox": {
                      "style": "light"
                    },
                    "paper_bgcolor": "white",
                    "plot_bgcolor": "#E5ECF6",
                    "polar": {
                      "angularaxis": {
                        "gridcolor": "white",
                        "linecolor": "white",
                        "ticks": ""
                      },
                      "bgcolor": "#E5ECF6",
                      "radialaxis": {
                        "gridcolor": "white",
                        "linecolor": "white",
                        "ticks": ""
                      }
                    },
                    "scene": {
                      "xaxis": {
                        "backgroundcolor": "#E5ECF6",
                        "gridcolor": "white",
                        "gridwidth": 2,
                        "linecolor": "white",
                        "showbackground": true,
                        "ticks": "",
                        "zerolinecolor": "white"
                      },
                      "yaxis": {
                        "backgroundcolor": "#E5ECF6",
                        "gridcolor": "white",
                        "gridwidth": 2,
                        "linecolor": "white",
                        "showbackground": true,
                        "ticks": "",
                        "zerolinecolor": "white"
                      },
                      "zaxis": {
                        "backgroundcolor": "#E5ECF6",
                        "gridcolor": "white",
                        "gridwidth": 2,
                        "linecolor": "white",
                        "showbackground": true,
                        "ticks": "",
                        "zerolinecolor": "white"
                      }
                    },
                    "shapedefaults": {
                      "line": {
                        "color": "#2a3f5f"
                      }
                    },
                    "ternary": {
                      "aaxis": {
                        "gridcolor": "white",
                        "linecolor": "white",
                        "ticks": ""
                      },
                      "baxis": {
                        "gridcolor": "white",
                        "linecolor": "white",
                        "ticks": ""
                      },
                      "bgcolor": "#E5ECF6",
                      "caxis": {
                        "gridcolor": "white",
                        "linecolor": "white",
                        "ticks": ""
                      }
                    },
                    "title": {
                      "x": 0.05
                    },
                    "xaxis": {
                      "automargin": true,
                      "gridcolor": "white",
                      "linecolor": "white",
                      "ticks": "",
                      "title": {
                        "standoff": 15
                      },
                      "zerolinecolor": "white",
                      "zerolinewidth": 2
                    },
                    "yaxis": {
                      "automargin": true,
                      "gridcolor": "white",
                      "linecolor": "white",
                      "ticks": "",
                      "title": {
                        "standoff": 15
                      },
                      "zerolinecolor": "white",
                      "zerolinewidth": 2
                    }
                  }
                },
                "title": {
                  "text": "Total de ventas en dias festivos"
                },
                "xaxis": {
                  "title": {
                    "text": "Mes"
                  }
                },
                "yaxis": {
                  "title": {
                    "text": "Total de ventas"
                  }
                }
              }
            }
          },
          "metadata": {},
          "output_type": "display_data"
        }
      ],
      "source": [
        "# ordeno por cantidad pedida\n",
        "ventas_periodo_fecha_ordenado = ventas_periodo_fecha.sort_values(by='Cantidad Pedida')\n",
        "fig = go.Figure()\n",
        "\n",
        "fig.add_trace(go.Bar(\n",
        "    x=ventas_periodo_fecha_ordenado['Dia'].tolist(),\n",
        "    y=ventas_periodo_fecha_ordenado['Cantidad Pedida'].tolist(),\n",
        "    text=ventas_periodo_fecha_ordenado['Producto'].tolist(),\n",
        "    textposition='auto',  # Muestro el valor encima de las barras\n",
        "    hoverinfo='x+y+text+name',\n",
        "))\n",
        "\n",
        "\n",
        "# Configuro los ejes y los títulos\n",
        "fig.update_layout(\n",
        "    title=\"Total de ventas en dias festivos\",\n",
        "    xaxis=dict(title=\"Mes\"),\n",
        "    yaxis=dict(title=\"Total de ventas\"),\n",
        "    barmode='group',\n",
        "    height=800\n",
        ")\n",
        "\n",
        "fig.show()"
      ]
    },
    {
      "cell_type": "markdown",
      "metadata": {},
      "source": [
        "Se ve en el grafico un pico de ventas el dia 23, siempre a la cabeza el producto de pilas como el producto mas vendido."
      ]
    },
    {
      "cell_type": "code",
      "execution_count": null,
      "metadata": {},
      "outputs": [],
      "source": []
    }
  ],
  "metadata": {
    "colab": {
      "include_colab_link": true,
      "provenance": []
    },
    "kernelspec": {
      "display_name": "Python 3",
      "name": "python3"
    },
    "language_info": {
      "codemirror_mode": {
        "name": "ipython",
        "version": 3
      },
      "file_extension": ".py",
      "mimetype": "text/x-python",
      "name": "python",
      "nbconvert_exporter": "python",
      "pygments_lexer": "ipython3",
      "version": "3.7.9"
    }
  },
  "nbformat": 4,
  "nbformat_minor": 0
}
