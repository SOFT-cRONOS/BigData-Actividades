{
  "cells": [
    {
      "cell_type": "markdown",
      "metadata": {
        "colab_type": "text",
        "id": "view-in-github"
      },
      "source": [
        "<a href=\"https://colab.research.google.com/github/SOFT-cRONOS/BigData-Actividades/blob/main/U3-Analisis%20de%20datos%20-%20TP%201/BD-TP1-VENTAS.ipynb\" target=\"_parent\"><img src=\"https://colab.research.google.com/assets/colab-badge.svg\" alt=\"Open In Colab\"/></a>"
      ]
    },
    {
      "cell_type": "markdown",
      "metadata": {
        "id": "YLSb9WzdBMte"
      },
      "source": [
        "# Lectura y armado de arreglo para el dataframe"
      ]
    },
    {
      "cell_type": "code",
      "execution_count": 124,
      "metadata": {
        "id": "-StCJ4BqnBKW"
      },
      "outputs": [
        {
          "data": {
            "text/plain": [
              "'! pip install plotly\\n! pip install numpy\\n! pip install pandas\\n! pip install nbformat --upgrade'"
            ]
          },
          "execution_count": 124,
          "metadata": {},
          "output_type": "execute_result"
        }
      ],
      "source": [
        "'''! pip install plotly\n",
        "! pip install numpy\n",
        "! pip install pandas\n",
        "! pip install nbformat --upgrade'''"
      ]
    },
    {
      "cell_type": "code",
      "execution_count": 125,
      "metadata": {},
      "outputs": [],
      "source": [
        "import os\n",
        "import pandas as pd\n",
        "import locale\n",
        "import plotly.express as px\n",
        "import numpy as np\n",
        "import plotly.graph_objects as go\n",
        "\n",
        "#manejo de fechas\n",
        "import datetime\n",
        "from datetime import datetime\n"
      ]
    },
    {
      "cell_type": "code",
      "execution_count": 126,
      "metadata": {
        "id": "xKLh4l3bfN40"
      },
      "outputs": [],
      "source": [
        "#descomentar GIT para importar a colab, WINDOWS para equipos windows Linux para deribados linux de forma local\n",
        "\n",
        "# GIT\n",
        "#! git clone https://github.com/SOFT-cRONOS/BigData-Actividades/tree/main/U3-Analisis%20de%20datos%20-%20TP%201/datasets\n",
        "#ruta_de_acceso = '/content/BigData-Actividades/U3-Analisis de datos - TP 1/datasets'\n",
        "\n",
        "#windows\n",
        "ruta_de_acceso = 'E:\\\\Documentos\\\\FENIX\\\\BigData-Actividades\\\\U3-Analisis de datos - TP 1\\\\datasets'\n",
        "\n",
        "#linux\n",
        "#ruta_de_acceso = \"/home/cronos/Documentos/BD-Actividades/U3-Analisis de datos - TP 1/datasets\""
      ]
    },
    {
      "cell_type": "code",
      "execution_count": 127,
      "metadata": {
        "colab": {
          "base_uri": "https://localhost:8080/"
        },
        "id": "LWzpdFqLmkk7",
        "outputId": "b9d8b635-9522-4ebf-bbe8-be4a4ea5ce16"
      },
      "outputs": [
        {
          "data": {
            "text/plain": [
              "['Dataset_de_ventas_Abril.csv',\n",
              " 'Dataset_de_ventas_Agosto.csv',\n",
              " 'Dataset_de_ventas_Diciembre.csv',\n",
              " 'Dataset_de_ventas_Enero.csv',\n",
              " 'Dataset_de_ventas_Febrero.csv',\n",
              " 'Dataset_de_ventas_Julio.csv',\n",
              " 'Dataset_de_ventas_Junio.csv',\n",
              " 'Dataset_de_ventas_Marzo.csv',\n",
              " 'Dataset_de_ventas_Mayo.csv',\n",
              " 'Dataset_de_ventas_Noviembre.csv',\n",
              " 'Dataset_de_ventas_Octubre.csv',\n",
              " 'Dataset_de_ventas_Septiembre.csv']"
            ]
          },
          "execution_count": 127,
          "metadata": {},
          "output_type": "execute_result"
        }
      ],
      "source": [
        "archivos = os.listdir(ruta_de_acceso)\n",
        "archivos"
      ]
    },
    {
      "cell_type": "code",
      "execution_count": 128,
      "metadata": {
        "id": "Dc9qtKURmzYM"
      },
      "outputs": [],
      "source": [
        "dataframes = {}"
      ]
    },
    {
      "cell_type": "code",
      "execution_count": 129,
      "metadata": {
        "id": "nWvSvv0nm3kW"
      },
      "outputs": [],
      "source": [
        "for archivo in archivos:\n",
        "  #solo si el archivo es .csv (por si en la carpeta hay otros formatos)\n",
        "  if archivo.endswith('.csv'):\n",
        "\n",
        "    #del nombre \"dataset_de_ventas_diciembre.csv splitea y deja solo el mes\"\n",
        "    mes = archivo.split('_')[3].split('.')[0]\n",
        "    #ej: Dataset_de_ventas_Marzo.csv = Marzo\n",
        "\n",
        "    #junta la ruta de la carpeta con el nombre de archivo\n",
        "    ruta_completa = os.path.join(ruta_de_acceso, archivo)\n",
        "     #ej: /content/drive/MyDrive/Programacion/BigData/actividad2/Dataset_de_ventas_Marzo.csv\n",
        "\n",
        "    #ahora lee todos los archivos con la ruta completa\n",
        "    df = pd.read_csv(ruta_completa)\n",
        "\n",
        "    #copia el df a un df_ventas\n",
        "    df_ventas = df.copy()\n",
        "\n",
        "    # Transformo todos los valores no numericos en Nan en las columnas Cantidad Pedida y Precio Unitario\n",
        "    df_ventas['Cantidad Pedida'] = pd.to_numeric(df_ventas['Cantidad Pedida'], errors='coerce')  #El errors= 'coerce' transforma los valores no numericos a NaN'\n",
        "    df_ventas['Precio Unitario'] = pd.to_numeric(df_ventas['Precio Unitario'], errors='coerce')\n",
        "\n",
        "\n",
        "    # Elimino todos los Nan y me quedo solo con los valores numericos\n",
        "    df_ventas = df_ventas.loc[~df_ventas['Cantidad Pedida'].isna()]\n",
        "    df_ventas = df_ventas.loc[~df_ventas['Precio Unitario'].isna()]\n",
        "    df_ventas = df_ventas.dropna()\n",
        "\n",
        "    # Transformo todos los valores numericos al tipo de dato int\n",
        "    df_ventas['Cantidad Pedida'] = df_ventas['Cantidad Pedida'].astype(int)\n",
        "    df_ventas['Precio Unitario'] = df_ventas['Precio Unitario'].astype(float)\n",
        "\n",
        "    #carga el df en un elemento del array dataframes\n",
        "    dataframes[mes] = df_ventas\n",
        "    #ejemplo dataframes['Marzo'] = Dataset_de_ventas_Marzo.csv\n",
        "\n"
      ]
    },
    {
      "cell_type": "code",
      "execution_count": 130,
      "metadata": {
        "colab": {
          "base_uri": "https://localhost:8080/",
          "height": 424
        },
        "id": "dyL0nXSDBzIp",
        "outputId": "115a9401-7e50-4368-b92e-6022788934ae"
      },
      "outputs": [
        {
          "data": {
            "text/html": [
              "<div>\n",
              "<style scoped>\n",
              "    .dataframe tbody tr th:only-of-type {\n",
              "        vertical-align: middle;\n",
              "    }\n",
              "\n",
              "    .dataframe tbody tr th {\n",
              "        vertical-align: top;\n",
              "    }\n",
              "\n",
              "    .dataframe thead th {\n",
              "        text-align: right;\n",
              "    }\n",
              "</style>\n",
              "<table border=\"1\" class=\"dataframe\">\n",
              "  <thead>\n",
              "    <tr style=\"text-align: right;\">\n",
              "      <th></th>\n",
              "      <th>ID de Pedido</th>\n",
              "      <th>Producto</th>\n",
              "      <th>Cantidad Pedida</th>\n",
              "      <th>Precio Unitario</th>\n",
              "      <th>Fecha de Pedido</th>\n",
              "      <th>Dirección de Envio</th>\n",
              "    </tr>\n",
              "  </thead>\n",
              "  <tbody>\n",
              "    <tr>\n",
              "      <th>0</th>\n",
              "      <td>141234</td>\n",
              "      <td>iPhone</td>\n",
              "      <td>1</td>\n",
              "      <td>700.00</td>\n",
              "      <td>01/22/19 21:25</td>\n",
              "      <td>944 Walnut St, Boston, MA 02215</td>\n",
              "    </tr>\n",
              "    <tr>\n",
              "      <th>1</th>\n",
              "      <td>141235</td>\n",
              "      <td>Lightning Charging Cable</td>\n",
              "      <td>1</td>\n",
              "      <td>14.95</td>\n",
              "      <td>01/28/19 14:15</td>\n",
              "      <td>185 Maple St, Portland, OR 97035</td>\n",
              "    </tr>\n",
              "    <tr>\n",
              "      <th>2</th>\n",
              "      <td>141236</td>\n",
              "      <td>Wired Headphones</td>\n",
              "      <td>2</td>\n",
              "      <td>11.99</td>\n",
              "      <td>01/17/19 13:33</td>\n",
              "      <td>538 Adams St, San Francisco, CA 94016</td>\n",
              "    </tr>\n",
              "    <tr>\n",
              "      <th>3</th>\n",
              "      <td>141237</td>\n",
              "      <td>27in FHD Monitor</td>\n",
              "      <td>1</td>\n",
              "      <td>149.99</td>\n",
              "      <td>01/05/19 20:33</td>\n",
              "      <td>738 10th St, Los Angeles, CA 90001</td>\n",
              "    </tr>\n",
              "    <tr>\n",
              "      <th>4</th>\n",
              "      <td>141238</td>\n",
              "      <td>Wired Headphones</td>\n",
              "      <td>1</td>\n",
              "      <td>11.99</td>\n",
              "      <td>01/25/19 11:59</td>\n",
              "      <td>387 10th St, Austin, TX 73301</td>\n",
              "    </tr>\n",
              "    <tr>\n",
              "      <th>...</th>\n",
              "      <td>...</td>\n",
              "      <td>...</td>\n",
              "      <td>...</td>\n",
              "      <td>...</td>\n",
              "      <td>...</td>\n",
              "      <td>...</td>\n",
              "    </tr>\n",
              "    <tr>\n",
              "      <th>9718</th>\n",
              "      <td>150497</td>\n",
              "      <td>20in Monitor</td>\n",
              "      <td>1</td>\n",
              "      <td>109.99</td>\n",
              "      <td>01/26/19 19:09</td>\n",
              "      <td>95 8th St, Dallas, TX 75001</td>\n",
              "    </tr>\n",
              "    <tr>\n",
              "      <th>9719</th>\n",
              "      <td>150498</td>\n",
              "      <td>27in FHD Monitor</td>\n",
              "      <td>1</td>\n",
              "      <td>149.99</td>\n",
              "      <td>01/10/19 22:58</td>\n",
              "      <td>403 7th St, San Francisco, CA 94016</td>\n",
              "    </tr>\n",
              "    <tr>\n",
              "      <th>9720</th>\n",
              "      <td>150499</td>\n",
              "      <td>ThinkPad Laptop</td>\n",
              "      <td>1</td>\n",
              "      <td>999.99</td>\n",
              "      <td>01/21/19 14:31</td>\n",
              "      <td>214 Main St, Portland, OR 97035</td>\n",
              "    </tr>\n",
              "    <tr>\n",
              "      <th>9721</th>\n",
              "      <td>150500</td>\n",
              "      <td>AAA Batteries (4-pack)</td>\n",
              "      <td>2</td>\n",
              "      <td>2.99</td>\n",
              "      <td>01/15/19 14:21</td>\n",
              "      <td>810 2nd St, Los Angeles, CA 90001</td>\n",
              "    </tr>\n",
              "    <tr>\n",
              "      <th>9722</th>\n",
              "      <td>150501</td>\n",
              "      <td>Google Phone</td>\n",
              "      <td>1</td>\n",
              "      <td>600.00</td>\n",
              "      <td>01/13/19 16:43</td>\n",
              "      <td>428 Cedar St, Boston, MA 02215</td>\n",
              "    </tr>\n",
              "  </tbody>\n",
              "</table>\n",
              "<p>9681 rows × 6 columns</p>\n",
              "</div>"
            ],
            "text/plain": [
              "     ID de Pedido                  Producto  Cantidad Pedida  Precio Unitario  \\\n",
              "0          141234                    iPhone                1           700.00   \n",
              "1          141235  Lightning Charging Cable                1            14.95   \n",
              "2          141236          Wired Headphones                2            11.99   \n",
              "3          141237          27in FHD Monitor                1           149.99   \n",
              "4          141238          Wired Headphones                1            11.99   \n",
              "...           ...                       ...              ...              ...   \n",
              "9718       150497              20in Monitor                1           109.99   \n",
              "9719       150498          27in FHD Monitor                1           149.99   \n",
              "9720       150499           ThinkPad Laptop                1           999.99   \n",
              "9721       150500    AAA Batteries (4-pack)                2             2.99   \n",
              "9722       150501              Google Phone                1           600.00   \n",
              "\n",
              "     Fecha de Pedido                     Dirección de Envio  \n",
              "0     01/22/19 21:25        944 Walnut St, Boston, MA 02215  \n",
              "1     01/28/19 14:15       185 Maple St, Portland, OR 97035  \n",
              "2     01/17/19 13:33  538 Adams St, San Francisco, CA 94016  \n",
              "3     01/05/19 20:33     738 10th St, Los Angeles, CA 90001  \n",
              "4     01/25/19 11:59          387 10th St, Austin, TX 73301  \n",
              "...              ...                                    ...  \n",
              "9718  01/26/19 19:09            95 8th St, Dallas, TX 75001  \n",
              "9719  01/10/19 22:58    403 7th St, San Francisco, CA 94016  \n",
              "9720  01/21/19 14:31        214 Main St, Portland, OR 97035  \n",
              "9721  01/15/19 14:21      810 2nd St, Los Angeles, CA 90001  \n",
              "9722  01/13/19 16:43         428 Cedar St, Boston, MA 02215  \n",
              "\n",
              "[9681 rows x 6 columns]"
            ]
          },
          "execution_count": 130,
          "metadata": {},
          "output_type": "execute_result"
        }
      ],
      "source": [
        "dataframes['Enero']"
      ]
    },
    {
      "cell_type": "markdown",
      "metadata": {
        "id": "7k0Zaxe_A758"
      },
      "source": [
        "# Comportamiento de las ventas en los distintos meses:"
      ]
    },
    {
      "cell_type": "markdown",
      "metadata": {
        "id": "Flj9s1sMBBt1"
      },
      "source": [
        "¿Cómo variaron las ventas a lo largo de los diferentes meses?"
      ]
    },
    {
      "cell_type": "code",
      "execution_count": null,
      "metadata": {
        "id": "aU3CmtQZQkeu"
      },
      "outputs": [],
      "source": []
    },
    {
      "cell_type": "code",
      "execution_count": 131,
      "metadata": {
        "id": "f_g1FHdUA0xi"
      },
      "outputs": [],
      "source": [
        "meses = ['Enero', 'Febrero', 'Marzo', 'Abril', 'Mayo', 'Junio', 'Julio', 'Agosto', 'Septiembre', 'Octubre', 'Noviembre', 'Diciembre']\n",
        "\n"
      ]
    },
    {
      "cell_type": "markdown",
      "metadata": {
        "id": "zSl6nmajIP85"
      },
      "source": [
        "¿Hubo algún mes que se destacó en términos de ventas?"
      ]
    },
    {
      "cell_type": "code",
      "execution_count": 132,
      "metadata": {
        "colab": {
          "base_uri": "https://localhost:8080/",
          "height": 542
        },
        "id": "u3AVPnOYISmi",
        "outputId": "f8a2cb90-cdac-4622-fc31-d10039ccdb2d"
      },
      "outputs": [
        {
          "data": {
            "application/vnd.plotly.v1+json": {
              "config": {
                "plotlyServerURL": "https://plot.ly"
              },
              "data": [
                {
                  "hovertemplate": "Tiempo=%{x}<br>Ventas=%{y}<br>text=%{text}<extra></extra>",
                  "legendgroup": "",
                  "line": {
                    "color": "#636efa",
                    "dash": "solid"
                  },
                  "marker": {
                    "symbol": "circle"
                  },
                  "mode": "markers+text+lines",
                  "name": "",
                  "orientation": "v",
                  "showlegend": false,
                  "text": [
                    10868,
                    13461,
                    17006,
                    20568,
                    18657,
                    15255,
                    16069,
                    13442,
                    13119,
                    22705,
                    19808,
                    28121
                  ],
                  "type": "scatter",
                  "x": [
                    "Enero",
                    "Febrero",
                    "Marzo",
                    "Abril",
                    "Mayo",
                    "Junio",
                    "Julio",
                    "Agosto",
                    "Septiembre",
                    "Octubre",
                    "Noviembre",
                    "Diciembre"
                  ],
                  "xaxis": "x",
                  "y": [
                    10868,
                    13461,
                    17006,
                    20568,
                    18657,
                    15255,
                    16069,
                    13442,
                    13119,
                    22705,
                    19808,
                    28121
                  ],
                  "yaxis": "y"
                }
              ],
              "layout": {
                "legend": {
                  "tracegroupgap": 0
                },
                "template": {
                  "data": {
                    "bar": [
                      {
                        "error_x": {
                          "color": "#2a3f5f"
                        },
                        "error_y": {
                          "color": "#2a3f5f"
                        },
                        "marker": {
                          "line": {
                            "color": "#E5ECF6",
                            "width": 0.5
                          },
                          "pattern": {
                            "fillmode": "overlay",
                            "size": 10,
                            "solidity": 0.2
                          }
                        },
                        "type": "bar"
                      }
                    ],
                    "barpolar": [
                      {
                        "marker": {
                          "line": {
                            "color": "#E5ECF6",
                            "width": 0.5
                          },
                          "pattern": {
                            "fillmode": "overlay",
                            "size": 10,
                            "solidity": 0.2
                          }
                        },
                        "type": "barpolar"
                      }
                    ],
                    "carpet": [
                      {
                        "aaxis": {
                          "endlinecolor": "#2a3f5f",
                          "gridcolor": "white",
                          "linecolor": "white",
                          "minorgridcolor": "white",
                          "startlinecolor": "#2a3f5f"
                        },
                        "baxis": {
                          "endlinecolor": "#2a3f5f",
                          "gridcolor": "white",
                          "linecolor": "white",
                          "minorgridcolor": "white",
                          "startlinecolor": "#2a3f5f"
                        },
                        "type": "carpet"
                      }
                    ],
                    "choropleth": [
                      {
                        "colorbar": {
                          "outlinewidth": 0,
                          "ticks": ""
                        },
                        "type": "choropleth"
                      }
                    ],
                    "contour": [
                      {
                        "colorbar": {
                          "outlinewidth": 0,
                          "ticks": ""
                        },
                        "colorscale": [
                          [
                            0,
                            "#0d0887"
                          ],
                          [
                            0.1111111111111111,
                            "#46039f"
                          ],
                          [
                            0.2222222222222222,
                            "#7201a8"
                          ],
                          [
                            0.3333333333333333,
                            "#9c179e"
                          ],
                          [
                            0.4444444444444444,
                            "#bd3786"
                          ],
                          [
                            0.5555555555555556,
                            "#d8576b"
                          ],
                          [
                            0.6666666666666666,
                            "#ed7953"
                          ],
                          [
                            0.7777777777777778,
                            "#fb9f3a"
                          ],
                          [
                            0.8888888888888888,
                            "#fdca26"
                          ],
                          [
                            1,
                            "#f0f921"
                          ]
                        ],
                        "type": "contour"
                      }
                    ],
                    "contourcarpet": [
                      {
                        "colorbar": {
                          "outlinewidth": 0,
                          "ticks": ""
                        },
                        "type": "contourcarpet"
                      }
                    ],
                    "heatmap": [
                      {
                        "colorbar": {
                          "outlinewidth": 0,
                          "ticks": ""
                        },
                        "colorscale": [
                          [
                            0,
                            "#0d0887"
                          ],
                          [
                            0.1111111111111111,
                            "#46039f"
                          ],
                          [
                            0.2222222222222222,
                            "#7201a8"
                          ],
                          [
                            0.3333333333333333,
                            "#9c179e"
                          ],
                          [
                            0.4444444444444444,
                            "#bd3786"
                          ],
                          [
                            0.5555555555555556,
                            "#d8576b"
                          ],
                          [
                            0.6666666666666666,
                            "#ed7953"
                          ],
                          [
                            0.7777777777777778,
                            "#fb9f3a"
                          ],
                          [
                            0.8888888888888888,
                            "#fdca26"
                          ],
                          [
                            1,
                            "#f0f921"
                          ]
                        ],
                        "type": "heatmap"
                      }
                    ],
                    "heatmapgl": [
                      {
                        "colorbar": {
                          "outlinewidth": 0,
                          "ticks": ""
                        },
                        "colorscale": [
                          [
                            0,
                            "#0d0887"
                          ],
                          [
                            0.1111111111111111,
                            "#46039f"
                          ],
                          [
                            0.2222222222222222,
                            "#7201a8"
                          ],
                          [
                            0.3333333333333333,
                            "#9c179e"
                          ],
                          [
                            0.4444444444444444,
                            "#bd3786"
                          ],
                          [
                            0.5555555555555556,
                            "#d8576b"
                          ],
                          [
                            0.6666666666666666,
                            "#ed7953"
                          ],
                          [
                            0.7777777777777778,
                            "#fb9f3a"
                          ],
                          [
                            0.8888888888888888,
                            "#fdca26"
                          ],
                          [
                            1,
                            "#f0f921"
                          ]
                        ],
                        "type": "heatmapgl"
                      }
                    ],
                    "histogram": [
                      {
                        "marker": {
                          "pattern": {
                            "fillmode": "overlay",
                            "size": 10,
                            "solidity": 0.2
                          }
                        },
                        "type": "histogram"
                      }
                    ],
                    "histogram2d": [
                      {
                        "colorbar": {
                          "outlinewidth": 0,
                          "ticks": ""
                        },
                        "colorscale": [
                          [
                            0,
                            "#0d0887"
                          ],
                          [
                            0.1111111111111111,
                            "#46039f"
                          ],
                          [
                            0.2222222222222222,
                            "#7201a8"
                          ],
                          [
                            0.3333333333333333,
                            "#9c179e"
                          ],
                          [
                            0.4444444444444444,
                            "#bd3786"
                          ],
                          [
                            0.5555555555555556,
                            "#d8576b"
                          ],
                          [
                            0.6666666666666666,
                            "#ed7953"
                          ],
                          [
                            0.7777777777777778,
                            "#fb9f3a"
                          ],
                          [
                            0.8888888888888888,
                            "#fdca26"
                          ],
                          [
                            1,
                            "#f0f921"
                          ]
                        ],
                        "type": "histogram2d"
                      }
                    ],
                    "histogram2dcontour": [
                      {
                        "colorbar": {
                          "outlinewidth": 0,
                          "ticks": ""
                        },
                        "colorscale": [
                          [
                            0,
                            "#0d0887"
                          ],
                          [
                            0.1111111111111111,
                            "#46039f"
                          ],
                          [
                            0.2222222222222222,
                            "#7201a8"
                          ],
                          [
                            0.3333333333333333,
                            "#9c179e"
                          ],
                          [
                            0.4444444444444444,
                            "#bd3786"
                          ],
                          [
                            0.5555555555555556,
                            "#d8576b"
                          ],
                          [
                            0.6666666666666666,
                            "#ed7953"
                          ],
                          [
                            0.7777777777777778,
                            "#fb9f3a"
                          ],
                          [
                            0.8888888888888888,
                            "#fdca26"
                          ],
                          [
                            1,
                            "#f0f921"
                          ]
                        ],
                        "type": "histogram2dcontour"
                      }
                    ],
                    "mesh3d": [
                      {
                        "colorbar": {
                          "outlinewidth": 0,
                          "ticks": ""
                        },
                        "type": "mesh3d"
                      }
                    ],
                    "parcoords": [
                      {
                        "line": {
                          "colorbar": {
                            "outlinewidth": 0,
                            "ticks": ""
                          }
                        },
                        "type": "parcoords"
                      }
                    ],
                    "pie": [
                      {
                        "automargin": true,
                        "type": "pie"
                      }
                    ],
                    "scatter": [
                      {
                        "fillpattern": {
                          "fillmode": "overlay",
                          "size": 10,
                          "solidity": 0.2
                        },
                        "type": "scatter"
                      }
                    ],
                    "scatter3d": [
                      {
                        "line": {
                          "colorbar": {
                            "outlinewidth": 0,
                            "ticks": ""
                          }
                        },
                        "marker": {
                          "colorbar": {
                            "outlinewidth": 0,
                            "ticks": ""
                          }
                        },
                        "type": "scatter3d"
                      }
                    ],
                    "scattercarpet": [
                      {
                        "marker": {
                          "colorbar": {
                            "outlinewidth": 0,
                            "ticks": ""
                          }
                        },
                        "type": "scattercarpet"
                      }
                    ],
                    "scattergeo": [
                      {
                        "marker": {
                          "colorbar": {
                            "outlinewidth": 0,
                            "ticks": ""
                          }
                        },
                        "type": "scattergeo"
                      }
                    ],
                    "scattergl": [
                      {
                        "marker": {
                          "colorbar": {
                            "outlinewidth": 0,
                            "ticks": ""
                          }
                        },
                        "type": "scattergl"
                      }
                    ],
                    "scattermapbox": [
                      {
                        "marker": {
                          "colorbar": {
                            "outlinewidth": 0,
                            "ticks": ""
                          }
                        },
                        "type": "scattermapbox"
                      }
                    ],
                    "scatterpolar": [
                      {
                        "marker": {
                          "colorbar": {
                            "outlinewidth": 0,
                            "ticks": ""
                          }
                        },
                        "type": "scatterpolar"
                      }
                    ],
                    "scatterpolargl": [
                      {
                        "marker": {
                          "colorbar": {
                            "outlinewidth": 0,
                            "ticks": ""
                          }
                        },
                        "type": "scatterpolargl"
                      }
                    ],
                    "scatterternary": [
                      {
                        "marker": {
                          "colorbar": {
                            "outlinewidth": 0,
                            "ticks": ""
                          }
                        },
                        "type": "scatterternary"
                      }
                    ],
                    "surface": [
                      {
                        "colorbar": {
                          "outlinewidth": 0,
                          "ticks": ""
                        },
                        "colorscale": [
                          [
                            0,
                            "#0d0887"
                          ],
                          [
                            0.1111111111111111,
                            "#46039f"
                          ],
                          [
                            0.2222222222222222,
                            "#7201a8"
                          ],
                          [
                            0.3333333333333333,
                            "#9c179e"
                          ],
                          [
                            0.4444444444444444,
                            "#bd3786"
                          ],
                          [
                            0.5555555555555556,
                            "#d8576b"
                          ],
                          [
                            0.6666666666666666,
                            "#ed7953"
                          ],
                          [
                            0.7777777777777778,
                            "#fb9f3a"
                          ],
                          [
                            0.8888888888888888,
                            "#fdca26"
                          ],
                          [
                            1,
                            "#f0f921"
                          ]
                        ],
                        "type": "surface"
                      }
                    ],
                    "table": [
                      {
                        "cells": {
                          "fill": {
                            "color": "#EBF0F8"
                          },
                          "line": {
                            "color": "white"
                          }
                        },
                        "header": {
                          "fill": {
                            "color": "#C8D4E3"
                          },
                          "line": {
                            "color": "white"
                          }
                        },
                        "type": "table"
                      }
                    ]
                  },
                  "layout": {
                    "annotationdefaults": {
                      "arrowcolor": "#2a3f5f",
                      "arrowhead": 0,
                      "arrowwidth": 1
                    },
                    "autotypenumbers": "strict",
                    "coloraxis": {
                      "colorbar": {
                        "outlinewidth": 0,
                        "ticks": ""
                      }
                    },
                    "colorscale": {
                      "diverging": [
                        [
                          0,
                          "#8e0152"
                        ],
                        [
                          0.1,
                          "#c51b7d"
                        ],
                        [
                          0.2,
                          "#de77ae"
                        ],
                        [
                          0.3,
                          "#f1b6da"
                        ],
                        [
                          0.4,
                          "#fde0ef"
                        ],
                        [
                          0.5,
                          "#f7f7f7"
                        ],
                        [
                          0.6,
                          "#e6f5d0"
                        ],
                        [
                          0.7,
                          "#b8e186"
                        ],
                        [
                          0.8,
                          "#7fbc41"
                        ],
                        [
                          0.9,
                          "#4d9221"
                        ],
                        [
                          1,
                          "#276419"
                        ]
                      ],
                      "sequential": [
                        [
                          0,
                          "#0d0887"
                        ],
                        [
                          0.1111111111111111,
                          "#46039f"
                        ],
                        [
                          0.2222222222222222,
                          "#7201a8"
                        ],
                        [
                          0.3333333333333333,
                          "#9c179e"
                        ],
                        [
                          0.4444444444444444,
                          "#bd3786"
                        ],
                        [
                          0.5555555555555556,
                          "#d8576b"
                        ],
                        [
                          0.6666666666666666,
                          "#ed7953"
                        ],
                        [
                          0.7777777777777778,
                          "#fb9f3a"
                        ],
                        [
                          0.8888888888888888,
                          "#fdca26"
                        ],
                        [
                          1,
                          "#f0f921"
                        ]
                      ],
                      "sequentialminus": [
                        [
                          0,
                          "#0d0887"
                        ],
                        [
                          0.1111111111111111,
                          "#46039f"
                        ],
                        [
                          0.2222222222222222,
                          "#7201a8"
                        ],
                        [
                          0.3333333333333333,
                          "#9c179e"
                        ],
                        [
                          0.4444444444444444,
                          "#bd3786"
                        ],
                        [
                          0.5555555555555556,
                          "#d8576b"
                        ],
                        [
                          0.6666666666666666,
                          "#ed7953"
                        ],
                        [
                          0.7777777777777778,
                          "#fb9f3a"
                        ],
                        [
                          0.8888888888888888,
                          "#fdca26"
                        ],
                        [
                          1,
                          "#f0f921"
                        ]
                      ]
                    },
                    "colorway": [
                      "#636efa",
                      "#EF553B",
                      "#00cc96",
                      "#ab63fa",
                      "#FFA15A",
                      "#19d3f3",
                      "#FF6692",
                      "#B6E880",
                      "#FF97FF",
                      "#FECB52"
                    ],
                    "font": {
                      "color": "#2a3f5f"
                    },
                    "geo": {
                      "bgcolor": "white",
                      "lakecolor": "white",
                      "landcolor": "#E5ECF6",
                      "showlakes": true,
                      "showland": true,
                      "subunitcolor": "white"
                    },
                    "hoverlabel": {
                      "align": "left"
                    },
                    "hovermode": "closest",
                    "mapbox": {
                      "style": "light"
                    },
                    "paper_bgcolor": "white",
                    "plot_bgcolor": "#E5ECF6",
                    "polar": {
                      "angularaxis": {
                        "gridcolor": "white",
                        "linecolor": "white",
                        "ticks": ""
                      },
                      "bgcolor": "#E5ECF6",
                      "radialaxis": {
                        "gridcolor": "white",
                        "linecolor": "white",
                        "ticks": ""
                      }
                    },
                    "scene": {
                      "xaxis": {
                        "backgroundcolor": "#E5ECF6",
                        "gridcolor": "white",
                        "gridwidth": 2,
                        "linecolor": "white",
                        "showbackground": true,
                        "ticks": "",
                        "zerolinecolor": "white"
                      },
                      "yaxis": {
                        "backgroundcolor": "#E5ECF6",
                        "gridcolor": "white",
                        "gridwidth": 2,
                        "linecolor": "white",
                        "showbackground": true,
                        "ticks": "",
                        "zerolinecolor": "white"
                      },
                      "zaxis": {
                        "backgroundcolor": "#E5ECF6",
                        "gridcolor": "white",
                        "gridwidth": 2,
                        "linecolor": "white",
                        "showbackground": true,
                        "ticks": "",
                        "zerolinecolor": "white"
                      }
                    },
                    "shapedefaults": {
                      "line": {
                        "color": "#2a3f5f"
                      }
                    },
                    "ternary": {
                      "aaxis": {
                        "gridcolor": "white",
                        "linecolor": "white",
                        "ticks": ""
                      },
                      "baxis": {
                        "gridcolor": "white",
                        "linecolor": "white",
                        "ticks": ""
                      },
                      "bgcolor": "#E5ECF6",
                      "caxis": {
                        "gridcolor": "white",
                        "linecolor": "white",
                        "ticks": ""
                      }
                    },
                    "title": {
                      "x": 0.05
                    },
                    "xaxis": {
                      "automargin": true,
                      "gridcolor": "white",
                      "linecolor": "white",
                      "ticks": "",
                      "title": {
                        "standoff": 15
                      },
                      "zerolinecolor": "white",
                      "zerolinewidth": 2
                    },
                    "yaxis": {
                      "automargin": true,
                      "gridcolor": "white",
                      "linecolor": "white",
                      "ticks": "",
                      "title": {
                        "standoff": 15
                      },
                      "zerolinecolor": "white",
                      "zerolinewidth": 2
                    }
                  }
                },
                "title": {
                  "text": "Título del gráfico de líneas"
                },
                "xaxis": {
                  "anchor": "y",
                  "domain": [
                    0,
                    1
                  ],
                  "title": {
                    "text": "Tiempo"
                  }
                },
                "yaxis": {
                  "anchor": "x",
                  "domain": [
                    0,
                    1
                  ],
                  "title": {
                    "text": "Ventas"
                  }
                }
              }
            }
          },
          "metadata": {},
          "output_type": "display_data"
        }
      ],
      "source": [
        "ventas = []\n",
        "for mes in meses:\n",
        "  #extraigo la suma de la Cantidad Pedida por cada mes\n",
        "    cantidades = dataframes[mes][['Cantidad Pedida']].sum()\n",
        "    cantidades = cantidades.values\n",
        "    cantidades = int(cantidades[0])\n",
        "    ventas.append(cantidades)\n",
        "\n",
        "fig = px.line(x = meses, y = ventas,\n",
        "      text= ventas,\n",
        "            title = \"Título del gráfico de líneas\",\n",
        "                  labels = {'x': 'Tiempo', 'y':'Ventas'},\n",
        "                                      markers = True)\n",
        "\n",
        "fig.show()"
      ]
    },
    {
      "cell_type": "markdown",
      "metadata": {
        "id": "xbssESMRITWh"
      },
      "source": [
        "¿Cuál es el ingreso total generado por mes?"
      ]
    },
    {
      "cell_type": "code",
      "execution_count": 133,
      "metadata": {
        "id": "iJM55dE6IVRT"
      },
      "outputs": [],
      "source": [
        "#agrego una columna calculada total para multiplicar cantidad pedida por precio unitario\n",
        "for mes in meses:\n",
        "  #extraigo la suma de la Cantidad Pedida por cada mes\n",
        "  test = dataframes[mes][['Cantidad Pedida','Precio Unitario']].copy()\n",
        "  dataframes[mes]['total'] = test.loc[:,('Cantidad Pedida')] * test.loc[:,('Precio Unitario')]\n",
        "\n",
        "total_ventas = []\n",
        "for mes in meses:\n",
        "    #extraigo la suma de la Cantidad Pedida por cada mes\n",
        "      total = dataframes[mes][['total']].sum()\n",
        "      total = total.values\n",
        "      total = int(total[0])\n",
        "      total_ventas.append(total)"
      ]
    },
    {
      "cell_type": "code",
      "execution_count": 134,
      "metadata": {
        "colab": {
          "base_uri": "https://localhost:8080/",
          "height": 542
        },
        "id": "ud4y30KbOgdm",
        "outputId": "6067da49-8664-4853-cb39-61e5fd8fdacf"
      },
      "outputs": [
        {
          "data": {
            "application/vnd.plotly.v1+json": {
              "config": {
                "plotlyServerURL": "https://plot.ly"
              },
              "data": [
                {
                  "hovertemplate": "Tiempo=%{x}<br>Ventas=%{y}<br>text=%{text}<extra></extra>",
                  "legendgroup": "",
                  "line": {
                    "color": "#636efa",
                    "dash": "solid"
                  },
                  "marker": {
                    "symbol": "circle"
                  },
                  "mode": "markers+text+lines",
                  "name": "",
                  "orientation": "v",
                  "showlegend": false,
                  "text": [
                    1815335,
                    2203481,
                    2809063,
                    3396059,
                    3144584,
                    2578293,
                    2646899,
                    2244412,
                    2098816,
                    3736884,
                    3198909,
                    4619297
                  ],
                  "type": "scatter",
                  "x": [
                    "Enero",
                    "Febrero",
                    "Marzo",
                    "Abril",
                    "Mayo",
                    "Junio",
                    "Julio",
                    "Agosto",
                    "Septiembre",
                    "Octubre",
                    "Noviembre",
                    "Diciembre"
                  ],
                  "xaxis": "x",
                  "y": [
                    1815335,
                    2203481,
                    2809063,
                    3396059,
                    3144584,
                    2578293,
                    2646899,
                    2244412,
                    2098816,
                    3736884,
                    3198909,
                    4619297
                  ],
                  "yaxis": "y"
                }
              ],
              "layout": {
                "legend": {
                  "tracegroupgap": 0
                },
                "template": {
                  "data": {
                    "bar": [
                      {
                        "error_x": {
                          "color": "#2a3f5f"
                        },
                        "error_y": {
                          "color": "#2a3f5f"
                        },
                        "marker": {
                          "line": {
                            "color": "#E5ECF6",
                            "width": 0.5
                          },
                          "pattern": {
                            "fillmode": "overlay",
                            "size": 10,
                            "solidity": 0.2
                          }
                        },
                        "type": "bar"
                      }
                    ],
                    "barpolar": [
                      {
                        "marker": {
                          "line": {
                            "color": "#E5ECF6",
                            "width": 0.5
                          },
                          "pattern": {
                            "fillmode": "overlay",
                            "size": 10,
                            "solidity": 0.2
                          }
                        },
                        "type": "barpolar"
                      }
                    ],
                    "carpet": [
                      {
                        "aaxis": {
                          "endlinecolor": "#2a3f5f",
                          "gridcolor": "white",
                          "linecolor": "white",
                          "minorgridcolor": "white",
                          "startlinecolor": "#2a3f5f"
                        },
                        "baxis": {
                          "endlinecolor": "#2a3f5f",
                          "gridcolor": "white",
                          "linecolor": "white",
                          "minorgridcolor": "white",
                          "startlinecolor": "#2a3f5f"
                        },
                        "type": "carpet"
                      }
                    ],
                    "choropleth": [
                      {
                        "colorbar": {
                          "outlinewidth": 0,
                          "ticks": ""
                        },
                        "type": "choropleth"
                      }
                    ],
                    "contour": [
                      {
                        "colorbar": {
                          "outlinewidth": 0,
                          "ticks": ""
                        },
                        "colorscale": [
                          [
                            0,
                            "#0d0887"
                          ],
                          [
                            0.1111111111111111,
                            "#46039f"
                          ],
                          [
                            0.2222222222222222,
                            "#7201a8"
                          ],
                          [
                            0.3333333333333333,
                            "#9c179e"
                          ],
                          [
                            0.4444444444444444,
                            "#bd3786"
                          ],
                          [
                            0.5555555555555556,
                            "#d8576b"
                          ],
                          [
                            0.6666666666666666,
                            "#ed7953"
                          ],
                          [
                            0.7777777777777778,
                            "#fb9f3a"
                          ],
                          [
                            0.8888888888888888,
                            "#fdca26"
                          ],
                          [
                            1,
                            "#f0f921"
                          ]
                        ],
                        "type": "contour"
                      }
                    ],
                    "contourcarpet": [
                      {
                        "colorbar": {
                          "outlinewidth": 0,
                          "ticks": ""
                        },
                        "type": "contourcarpet"
                      }
                    ],
                    "heatmap": [
                      {
                        "colorbar": {
                          "outlinewidth": 0,
                          "ticks": ""
                        },
                        "colorscale": [
                          [
                            0,
                            "#0d0887"
                          ],
                          [
                            0.1111111111111111,
                            "#46039f"
                          ],
                          [
                            0.2222222222222222,
                            "#7201a8"
                          ],
                          [
                            0.3333333333333333,
                            "#9c179e"
                          ],
                          [
                            0.4444444444444444,
                            "#bd3786"
                          ],
                          [
                            0.5555555555555556,
                            "#d8576b"
                          ],
                          [
                            0.6666666666666666,
                            "#ed7953"
                          ],
                          [
                            0.7777777777777778,
                            "#fb9f3a"
                          ],
                          [
                            0.8888888888888888,
                            "#fdca26"
                          ],
                          [
                            1,
                            "#f0f921"
                          ]
                        ],
                        "type": "heatmap"
                      }
                    ],
                    "heatmapgl": [
                      {
                        "colorbar": {
                          "outlinewidth": 0,
                          "ticks": ""
                        },
                        "colorscale": [
                          [
                            0,
                            "#0d0887"
                          ],
                          [
                            0.1111111111111111,
                            "#46039f"
                          ],
                          [
                            0.2222222222222222,
                            "#7201a8"
                          ],
                          [
                            0.3333333333333333,
                            "#9c179e"
                          ],
                          [
                            0.4444444444444444,
                            "#bd3786"
                          ],
                          [
                            0.5555555555555556,
                            "#d8576b"
                          ],
                          [
                            0.6666666666666666,
                            "#ed7953"
                          ],
                          [
                            0.7777777777777778,
                            "#fb9f3a"
                          ],
                          [
                            0.8888888888888888,
                            "#fdca26"
                          ],
                          [
                            1,
                            "#f0f921"
                          ]
                        ],
                        "type": "heatmapgl"
                      }
                    ],
                    "histogram": [
                      {
                        "marker": {
                          "pattern": {
                            "fillmode": "overlay",
                            "size": 10,
                            "solidity": 0.2
                          }
                        },
                        "type": "histogram"
                      }
                    ],
                    "histogram2d": [
                      {
                        "colorbar": {
                          "outlinewidth": 0,
                          "ticks": ""
                        },
                        "colorscale": [
                          [
                            0,
                            "#0d0887"
                          ],
                          [
                            0.1111111111111111,
                            "#46039f"
                          ],
                          [
                            0.2222222222222222,
                            "#7201a8"
                          ],
                          [
                            0.3333333333333333,
                            "#9c179e"
                          ],
                          [
                            0.4444444444444444,
                            "#bd3786"
                          ],
                          [
                            0.5555555555555556,
                            "#d8576b"
                          ],
                          [
                            0.6666666666666666,
                            "#ed7953"
                          ],
                          [
                            0.7777777777777778,
                            "#fb9f3a"
                          ],
                          [
                            0.8888888888888888,
                            "#fdca26"
                          ],
                          [
                            1,
                            "#f0f921"
                          ]
                        ],
                        "type": "histogram2d"
                      }
                    ],
                    "histogram2dcontour": [
                      {
                        "colorbar": {
                          "outlinewidth": 0,
                          "ticks": ""
                        },
                        "colorscale": [
                          [
                            0,
                            "#0d0887"
                          ],
                          [
                            0.1111111111111111,
                            "#46039f"
                          ],
                          [
                            0.2222222222222222,
                            "#7201a8"
                          ],
                          [
                            0.3333333333333333,
                            "#9c179e"
                          ],
                          [
                            0.4444444444444444,
                            "#bd3786"
                          ],
                          [
                            0.5555555555555556,
                            "#d8576b"
                          ],
                          [
                            0.6666666666666666,
                            "#ed7953"
                          ],
                          [
                            0.7777777777777778,
                            "#fb9f3a"
                          ],
                          [
                            0.8888888888888888,
                            "#fdca26"
                          ],
                          [
                            1,
                            "#f0f921"
                          ]
                        ],
                        "type": "histogram2dcontour"
                      }
                    ],
                    "mesh3d": [
                      {
                        "colorbar": {
                          "outlinewidth": 0,
                          "ticks": ""
                        },
                        "type": "mesh3d"
                      }
                    ],
                    "parcoords": [
                      {
                        "line": {
                          "colorbar": {
                            "outlinewidth": 0,
                            "ticks": ""
                          }
                        },
                        "type": "parcoords"
                      }
                    ],
                    "pie": [
                      {
                        "automargin": true,
                        "type": "pie"
                      }
                    ],
                    "scatter": [
                      {
                        "fillpattern": {
                          "fillmode": "overlay",
                          "size": 10,
                          "solidity": 0.2
                        },
                        "type": "scatter"
                      }
                    ],
                    "scatter3d": [
                      {
                        "line": {
                          "colorbar": {
                            "outlinewidth": 0,
                            "ticks": ""
                          }
                        },
                        "marker": {
                          "colorbar": {
                            "outlinewidth": 0,
                            "ticks": ""
                          }
                        },
                        "type": "scatter3d"
                      }
                    ],
                    "scattercarpet": [
                      {
                        "marker": {
                          "colorbar": {
                            "outlinewidth": 0,
                            "ticks": ""
                          }
                        },
                        "type": "scattercarpet"
                      }
                    ],
                    "scattergeo": [
                      {
                        "marker": {
                          "colorbar": {
                            "outlinewidth": 0,
                            "ticks": ""
                          }
                        },
                        "type": "scattergeo"
                      }
                    ],
                    "scattergl": [
                      {
                        "marker": {
                          "colorbar": {
                            "outlinewidth": 0,
                            "ticks": ""
                          }
                        },
                        "type": "scattergl"
                      }
                    ],
                    "scattermapbox": [
                      {
                        "marker": {
                          "colorbar": {
                            "outlinewidth": 0,
                            "ticks": ""
                          }
                        },
                        "type": "scattermapbox"
                      }
                    ],
                    "scatterpolar": [
                      {
                        "marker": {
                          "colorbar": {
                            "outlinewidth": 0,
                            "ticks": ""
                          }
                        },
                        "type": "scatterpolar"
                      }
                    ],
                    "scatterpolargl": [
                      {
                        "marker": {
                          "colorbar": {
                            "outlinewidth": 0,
                            "ticks": ""
                          }
                        },
                        "type": "scatterpolargl"
                      }
                    ],
                    "scatterternary": [
                      {
                        "marker": {
                          "colorbar": {
                            "outlinewidth": 0,
                            "ticks": ""
                          }
                        },
                        "type": "scatterternary"
                      }
                    ],
                    "surface": [
                      {
                        "colorbar": {
                          "outlinewidth": 0,
                          "ticks": ""
                        },
                        "colorscale": [
                          [
                            0,
                            "#0d0887"
                          ],
                          [
                            0.1111111111111111,
                            "#46039f"
                          ],
                          [
                            0.2222222222222222,
                            "#7201a8"
                          ],
                          [
                            0.3333333333333333,
                            "#9c179e"
                          ],
                          [
                            0.4444444444444444,
                            "#bd3786"
                          ],
                          [
                            0.5555555555555556,
                            "#d8576b"
                          ],
                          [
                            0.6666666666666666,
                            "#ed7953"
                          ],
                          [
                            0.7777777777777778,
                            "#fb9f3a"
                          ],
                          [
                            0.8888888888888888,
                            "#fdca26"
                          ],
                          [
                            1,
                            "#f0f921"
                          ]
                        ],
                        "type": "surface"
                      }
                    ],
                    "table": [
                      {
                        "cells": {
                          "fill": {
                            "color": "#EBF0F8"
                          },
                          "line": {
                            "color": "white"
                          }
                        },
                        "header": {
                          "fill": {
                            "color": "#C8D4E3"
                          },
                          "line": {
                            "color": "white"
                          }
                        },
                        "type": "table"
                      }
                    ]
                  },
                  "layout": {
                    "annotationdefaults": {
                      "arrowcolor": "#2a3f5f",
                      "arrowhead": 0,
                      "arrowwidth": 1
                    },
                    "autotypenumbers": "strict",
                    "coloraxis": {
                      "colorbar": {
                        "outlinewidth": 0,
                        "ticks": ""
                      }
                    },
                    "colorscale": {
                      "diverging": [
                        [
                          0,
                          "#8e0152"
                        ],
                        [
                          0.1,
                          "#c51b7d"
                        ],
                        [
                          0.2,
                          "#de77ae"
                        ],
                        [
                          0.3,
                          "#f1b6da"
                        ],
                        [
                          0.4,
                          "#fde0ef"
                        ],
                        [
                          0.5,
                          "#f7f7f7"
                        ],
                        [
                          0.6,
                          "#e6f5d0"
                        ],
                        [
                          0.7,
                          "#b8e186"
                        ],
                        [
                          0.8,
                          "#7fbc41"
                        ],
                        [
                          0.9,
                          "#4d9221"
                        ],
                        [
                          1,
                          "#276419"
                        ]
                      ],
                      "sequential": [
                        [
                          0,
                          "#0d0887"
                        ],
                        [
                          0.1111111111111111,
                          "#46039f"
                        ],
                        [
                          0.2222222222222222,
                          "#7201a8"
                        ],
                        [
                          0.3333333333333333,
                          "#9c179e"
                        ],
                        [
                          0.4444444444444444,
                          "#bd3786"
                        ],
                        [
                          0.5555555555555556,
                          "#d8576b"
                        ],
                        [
                          0.6666666666666666,
                          "#ed7953"
                        ],
                        [
                          0.7777777777777778,
                          "#fb9f3a"
                        ],
                        [
                          0.8888888888888888,
                          "#fdca26"
                        ],
                        [
                          1,
                          "#f0f921"
                        ]
                      ],
                      "sequentialminus": [
                        [
                          0,
                          "#0d0887"
                        ],
                        [
                          0.1111111111111111,
                          "#46039f"
                        ],
                        [
                          0.2222222222222222,
                          "#7201a8"
                        ],
                        [
                          0.3333333333333333,
                          "#9c179e"
                        ],
                        [
                          0.4444444444444444,
                          "#bd3786"
                        ],
                        [
                          0.5555555555555556,
                          "#d8576b"
                        ],
                        [
                          0.6666666666666666,
                          "#ed7953"
                        ],
                        [
                          0.7777777777777778,
                          "#fb9f3a"
                        ],
                        [
                          0.8888888888888888,
                          "#fdca26"
                        ],
                        [
                          1,
                          "#f0f921"
                        ]
                      ]
                    },
                    "colorway": [
                      "#636efa",
                      "#EF553B",
                      "#00cc96",
                      "#ab63fa",
                      "#FFA15A",
                      "#19d3f3",
                      "#FF6692",
                      "#B6E880",
                      "#FF97FF",
                      "#FECB52"
                    ],
                    "font": {
                      "color": "#2a3f5f"
                    },
                    "geo": {
                      "bgcolor": "white",
                      "lakecolor": "white",
                      "landcolor": "#E5ECF6",
                      "showlakes": true,
                      "showland": true,
                      "subunitcolor": "white"
                    },
                    "hoverlabel": {
                      "align": "left"
                    },
                    "hovermode": "closest",
                    "mapbox": {
                      "style": "light"
                    },
                    "paper_bgcolor": "white",
                    "plot_bgcolor": "#E5ECF6",
                    "polar": {
                      "angularaxis": {
                        "gridcolor": "white",
                        "linecolor": "white",
                        "ticks": ""
                      },
                      "bgcolor": "#E5ECF6",
                      "radialaxis": {
                        "gridcolor": "white",
                        "linecolor": "white",
                        "ticks": ""
                      }
                    },
                    "scene": {
                      "xaxis": {
                        "backgroundcolor": "#E5ECF6",
                        "gridcolor": "white",
                        "gridwidth": 2,
                        "linecolor": "white",
                        "showbackground": true,
                        "ticks": "",
                        "zerolinecolor": "white"
                      },
                      "yaxis": {
                        "backgroundcolor": "#E5ECF6",
                        "gridcolor": "white",
                        "gridwidth": 2,
                        "linecolor": "white",
                        "showbackground": true,
                        "ticks": "",
                        "zerolinecolor": "white"
                      },
                      "zaxis": {
                        "backgroundcolor": "#E5ECF6",
                        "gridcolor": "white",
                        "gridwidth": 2,
                        "linecolor": "white",
                        "showbackground": true,
                        "ticks": "",
                        "zerolinecolor": "white"
                      }
                    },
                    "shapedefaults": {
                      "line": {
                        "color": "#2a3f5f"
                      }
                    },
                    "ternary": {
                      "aaxis": {
                        "gridcolor": "white",
                        "linecolor": "white",
                        "ticks": ""
                      },
                      "baxis": {
                        "gridcolor": "white",
                        "linecolor": "white",
                        "ticks": ""
                      },
                      "bgcolor": "#E5ECF6",
                      "caxis": {
                        "gridcolor": "white",
                        "linecolor": "white",
                        "ticks": ""
                      }
                    },
                    "title": {
                      "x": 0.05
                    },
                    "xaxis": {
                      "automargin": true,
                      "gridcolor": "white",
                      "linecolor": "white",
                      "ticks": "",
                      "title": {
                        "standoff": 15
                      },
                      "zerolinecolor": "white",
                      "zerolinewidth": 2
                    },
                    "yaxis": {
                      "automargin": true,
                      "gridcolor": "white",
                      "linecolor": "white",
                      "ticks": "",
                      "title": {
                        "standoff": 15
                      },
                      "zerolinecolor": "white",
                      "zerolinewidth": 2
                    }
                  }
                },
                "title": {
                  "text": "Título del gráfico de líneas"
                },
                "xaxis": {
                  "anchor": "y",
                  "domain": [
                    0,
                    1
                  ],
                  "title": {
                    "text": "Tiempo"
                  }
                },
                "yaxis": {
                  "anchor": "x",
                  "domain": [
                    0,
                    1
                  ],
                  "title": {
                    "text": "Ventas"
                  }
                }
              }
            }
          },
          "metadata": {},
          "output_type": "display_data"
        }
      ],
      "source": [
        "fig = px.line(x = meses, y = total_ventas,\n",
        "    text= total_ventas,\n",
        "    title = \"Título del gráfico de líneas\",\n",
        "    labels = {'x': 'Tiempo', 'y':'Ventas'},\n",
        "                        markers = True)\n",
        "\n",
        "fig.show()"
      ]
    },
    {
      "cell_type": "markdown",
      "metadata": {},
      "source": [
        "# 2. Optimización de la publicidad y patrón de ventas por hora:"
      ]
    },
    {
      "cell_type": "markdown",
      "metadata": {},
      "source": [
        "¿Cómo cambian los patrones de ventas por hora a lo largo del año?"
      ]
    },
    {
      "cell_type": "code",
      "execution_count": 160,
      "metadata": {},
      "outputs": [],
      "source": [
        "#array con dias de la semana\n",
        "dias_semana = [\"Lunes\", \"Martes\", \"Miércoles\", \"Jueves\", \"Viernes\", \"Sábado\", \"Domingo\"]\n",
        "\n",
        "def extraer_datos(datos):\n",
        "    # Decodificar caracteres UTF-8 correctamente\n",
        "    datos['Fecha de Pedido'] = datos['Fecha de Pedido'].str.encode('latin-1').str.decode('utf-8')\n",
        "\n",
        "    #agrega 2 columnas hora y dia. y convierte fecha en formato fecha\n",
        "    datos['Fecha de Pedido'] = pd.to_datetime(datos['Fecha de Pedido'])\n",
        "    \n",
        "    dia = datos['Fecha de Pedido'].dt.day\n",
        "    mes = datos['Fecha de Pedido'].dt.month\n",
        "    año = datos['Fecha de Pedido'].dt.year\n",
        "    hora = datos['Fecha de Pedido'].dt.hour\n",
        "    dia_sem = datos['Fecha de Pedido'].dt.strftime('%A')\n",
        "    \n",
        "    \n",
        "    datos['Hora'] = hora\n",
        "    datos['Dia'] = dia\n",
        "    datos['año'] = año\n",
        "    datos['strDia'] = dia_sem\n",
        "    datos['strDia'] = datos['strDia'].str.encode('latin-1').str.decode('utf-8')\n",
        "    return datos"
      ]
    },
    {
      "cell_type": "code",
      "execution_count": 161,
      "metadata": {},
      "outputs": [
        {
          "ename": "AttributeError",
          "evalue": "Can only use .str accessor with string values!",
          "output_type": "error",
          "traceback": [
            "\u001b[1;31m---------------------------------------------------------------------------\u001b[0m",
            "\u001b[1;31mAttributeError\u001b[0m                            Traceback (most recent call last)",
            "\u001b[1;32m~\\AppData\\Local\\Temp\\ipykernel_17800\\3441418923.py\u001b[0m in \u001b[0;36m<module>\u001b[1;34m\u001b[0m\n\u001b[0;32m     14\u001b[0m \u001b[1;33m\u001b[0m\u001b[0m\n\u001b[0;32m     15\u001b[0m     \u001b[1;31m# Realizar algún procesamiento de datos específico (reemplaza con tu propio procesamiento)\u001b[0m\u001b[1;33m\u001b[0m\u001b[1;33m\u001b[0m\u001b[1;33m\u001b[0m\u001b[0m\n\u001b[1;32m---> 16\u001b[1;33m     \u001b[0mdataframe_mes\u001b[0m \u001b[1;33m=\u001b[0m \u001b[0mextraer_datos\u001b[0m\u001b[1;33m(\u001b[0m\u001b[0mdataframe_mes\u001b[0m\u001b[1;33m)\u001b[0m  \u001b[1;31m# Reemplaza esto con el procesamiento que necesites\u001b[0m\u001b[1;33m\u001b[0m\u001b[1;33m\u001b[0m\u001b[0m\n\u001b[0m\u001b[0;32m     17\u001b[0m \u001b[1;33m\u001b[0m\u001b[0m\n\u001b[0;32m     18\u001b[0m     \u001b[1;31m# Calcular el número de ventas por hora para este mes y almacenarlo en 'Ventas_por_hora'\u001b[0m\u001b[1;33m\u001b[0m\u001b[1;33m\u001b[0m\u001b[1;33m\u001b[0m\u001b[0m\n",
            "\u001b[1;32m~\\AppData\\Local\\Temp\\ipykernel_17800\\1896806238.py\u001b[0m in \u001b[0;36mextraer_datos\u001b[1;34m(datos)\u001b[0m\n\u001b[0;32m      4\u001b[0m \u001b[1;32mdef\u001b[0m \u001b[0mextraer_datos\u001b[0m\u001b[1;33m(\u001b[0m\u001b[0mdatos\u001b[0m\u001b[1;33m)\u001b[0m\u001b[1;33m:\u001b[0m\u001b[1;33m\u001b[0m\u001b[1;33m\u001b[0m\u001b[0m\n\u001b[0;32m      5\u001b[0m     \u001b[1;31m# Decodificar caracteres UTF-8 correctamente\u001b[0m\u001b[1;33m\u001b[0m\u001b[1;33m\u001b[0m\u001b[1;33m\u001b[0m\u001b[0m\n\u001b[1;32m----> 6\u001b[1;33m     \u001b[0mdatos\u001b[0m\u001b[1;33m[\u001b[0m\u001b[1;34m'Fecha de Pedido'\u001b[0m\u001b[1;33m]\u001b[0m \u001b[1;33m=\u001b[0m \u001b[0mdatos\u001b[0m\u001b[1;33m[\u001b[0m\u001b[1;34m'Fecha de Pedido'\u001b[0m\u001b[1;33m]\u001b[0m\u001b[1;33m.\u001b[0m\u001b[0mstr\u001b[0m\u001b[1;33m.\u001b[0m\u001b[0mencode\u001b[0m\u001b[1;33m(\u001b[0m\u001b[1;34m'latin-1'\u001b[0m\u001b[1;33m)\u001b[0m\u001b[1;33m.\u001b[0m\u001b[0mstr\u001b[0m\u001b[1;33m.\u001b[0m\u001b[0mdecode\u001b[0m\u001b[1;33m(\u001b[0m\u001b[1;34m'utf-8'\u001b[0m\u001b[1;33m)\u001b[0m\u001b[1;33m\u001b[0m\u001b[1;33m\u001b[0m\u001b[0m\n\u001b[0m\u001b[0;32m      7\u001b[0m \u001b[1;33m\u001b[0m\u001b[0m\n\u001b[0;32m      8\u001b[0m     \u001b[1;31m#agrega 2 columnas hora y dia. y convierte fecha en formato fecha\u001b[0m\u001b[1;33m\u001b[0m\u001b[1;33m\u001b[0m\u001b[1;33m\u001b[0m\u001b[0m\n",
            "\u001b[1;32mc:\\Users\\nico_\\AppData\\Local\\Programs\\Python\\Python37\\lib\\site-packages\\pandas\\core\\generic.py\u001b[0m in \u001b[0;36m__getattr__\u001b[1;34m(self, name)\u001b[0m\n\u001b[0;32m   5485\u001b[0m         ):\n\u001b[0;32m   5486\u001b[0m             \u001b[1;32mreturn\u001b[0m \u001b[0mself\u001b[0m\u001b[1;33m[\u001b[0m\u001b[0mname\u001b[0m\u001b[1;33m]\u001b[0m\u001b[1;33m\u001b[0m\u001b[1;33m\u001b[0m\u001b[0m\n\u001b[1;32m-> 5487\u001b[1;33m         \u001b[1;32mreturn\u001b[0m \u001b[0mobject\u001b[0m\u001b[1;33m.\u001b[0m\u001b[0m__getattribute__\u001b[0m\u001b[1;33m(\u001b[0m\u001b[0mself\u001b[0m\u001b[1;33m,\u001b[0m \u001b[0mname\u001b[0m\u001b[1;33m)\u001b[0m\u001b[1;33m\u001b[0m\u001b[1;33m\u001b[0m\u001b[0m\n\u001b[0m\u001b[0;32m   5488\u001b[0m \u001b[1;33m\u001b[0m\u001b[0m\n\u001b[0;32m   5489\u001b[0m     \u001b[1;32mdef\u001b[0m \u001b[0m__setattr__\u001b[0m\u001b[1;33m(\u001b[0m\u001b[0mself\u001b[0m\u001b[1;33m,\u001b[0m \u001b[0mname\u001b[0m\u001b[1;33m:\u001b[0m \u001b[0mstr\u001b[0m\u001b[1;33m,\u001b[0m \u001b[0mvalue\u001b[0m\u001b[1;33m)\u001b[0m \u001b[1;33m->\u001b[0m \u001b[1;32mNone\u001b[0m\u001b[1;33m:\u001b[0m\u001b[1;33m\u001b[0m\u001b[1;33m\u001b[0m\u001b[0m\n",
            "\u001b[1;32mc:\\Users\\nico_\\AppData\\Local\\Programs\\Python\\Python37\\lib\\site-packages\\pandas\\core\\accessor.py\u001b[0m in \u001b[0;36m__get__\u001b[1;34m(self, obj, cls)\u001b[0m\n\u001b[0;32m    179\u001b[0m             \u001b[1;31m# we're accessing the attribute of the class, i.e., Dataset.geo\u001b[0m\u001b[1;33m\u001b[0m\u001b[1;33m\u001b[0m\u001b[1;33m\u001b[0m\u001b[0m\n\u001b[0;32m    180\u001b[0m             \u001b[1;32mreturn\u001b[0m \u001b[0mself\u001b[0m\u001b[1;33m.\u001b[0m\u001b[0m_accessor\u001b[0m\u001b[1;33m\u001b[0m\u001b[1;33m\u001b[0m\u001b[0m\n\u001b[1;32m--> 181\u001b[1;33m         \u001b[0maccessor_obj\u001b[0m \u001b[1;33m=\u001b[0m \u001b[0mself\u001b[0m\u001b[1;33m.\u001b[0m\u001b[0m_accessor\u001b[0m\u001b[1;33m(\u001b[0m\u001b[0mobj\u001b[0m\u001b[1;33m)\u001b[0m\u001b[1;33m\u001b[0m\u001b[1;33m\u001b[0m\u001b[0m\n\u001b[0m\u001b[0;32m    182\u001b[0m         \u001b[1;31m# Replace the property with the accessor object. Inspired by:\u001b[0m\u001b[1;33m\u001b[0m\u001b[1;33m\u001b[0m\u001b[1;33m\u001b[0m\u001b[0m\n\u001b[0;32m    183\u001b[0m         \u001b[1;31m# https://www.pydanny.com/cached-property.html\u001b[0m\u001b[1;33m\u001b[0m\u001b[1;33m\u001b[0m\u001b[1;33m\u001b[0m\u001b[0m\n",
            "\u001b[1;32mc:\\Users\\nico_\\AppData\\Local\\Programs\\Python\\Python37\\lib\\site-packages\\pandas\\core\\strings\\accessor.py\u001b[0m in \u001b[0;36m__init__\u001b[1;34m(self, data)\u001b[0m\n\u001b[0;32m    166\u001b[0m         \u001b[1;32mfrom\u001b[0m \u001b[0mpandas\u001b[0m\u001b[1;33m.\u001b[0m\u001b[0mcore\u001b[0m\u001b[1;33m.\u001b[0m\u001b[0marrays\u001b[0m\u001b[1;33m.\u001b[0m\u001b[0mstring_\u001b[0m \u001b[1;32mimport\u001b[0m \u001b[0mStringDtype\u001b[0m\u001b[1;33m\u001b[0m\u001b[1;33m\u001b[0m\u001b[0m\n\u001b[0;32m    167\u001b[0m \u001b[1;33m\u001b[0m\u001b[0m\n\u001b[1;32m--> 168\u001b[1;33m         \u001b[0mself\u001b[0m\u001b[1;33m.\u001b[0m\u001b[0m_inferred_dtype\u001b[0m \u001b[1;33m=\u001b[0m \u001b[0mself\u001b[0m\u001b[1;33m.\u001b[0m\u001b[0m_validate\u001b[0m\u001b[1;33m(\u001b[0m\u001b[0mdata\u001b[0m\u001b[1;33m)\u001b[0m\u001b[1;33m\u001b[0m\u001b[1;33m\u001b[0m\u001b[0m\n\u001b[0m\u001b[0;32m    169\u001b[0m         \u001b[0mself\u001b[0m\u001b[1;33m.\u001b[0m\u001b[0m_is_categorical\u001b[0m \u001b[1;33m=\u001b[0m \u001b[0mis_categorical_dtype\u001b[0m\u001b[1;33m(\u001b[0m\u001b[0mdata\u001b[0m\u001b[1;33m.\u001b[0m\u001b[0mdtype\u001b[0m\u001b[1;33m)\u001b[0m\u001b[1;33m\u001b[0m\u001b[1;33m\u001b[0m\u001b[0m\n\u001b[0;32m    170\u001b[0m         \u001b[0mself\u001b[0m\u001b[1;33m.\u001b[0m\u001b[0m_is_string\u001b[0m \u001b[1;33m=\u001b[0m \u001b[0misinstance\u001b[0m\u001b[1;33m(\u001b[0m\u001b[0mdata\u001b[0m\u001b[1;33m.\u001b[0m\u001b[0mdtype\u001b[0m\u001b[1;33m,\u001b[0m \u001b[0mStringDtype\u001b[0m\u001b[1;33m)\u001b[0m\u001b[1;33m\u001b[0m\u001b[1;33m\u001b[0m\u001b[0m\n",
            "\u001b[1;32mc:\\Users\\nico_\\AppData\\Local\\Programs\\Python\\Python37\\lib\\site-packages\\pandas\\core\\strings\\accessor.py\u001b[0m in \u001b[0;36m_validate\u001b[1;34m(data)\u001b[0m\n\u001b[0;32m    223\u001b[0m \u001b[1;33m\u001b[0m\u001b[0m\n\u001b[0;32m    224\u001b[0m         \u001b[1;32mif\u001b[0m \u001b[0minferred_dtype\u001b[0m \u001b[1;32mnot\u001b[0m \u001b[1;32min\u001b[0m \u001b[0mallowed_types\u001b[0m\u001b[1;33m:\u001b[0m\u001b[1;33m\u001b[0m\u001b[1;33m\u001b[0m\u001b[0m\n\u001b[1;32m--> 225\u001b[1;33m             \u001b[1;32mraise\u001b[0m \u001b[0mAttributeError\u001b[0m\u001b[1;33m(\u001b[0m\u001b[1;34m\"Can only use .str accessor with string values!\"\u001b[0m\u001b[1;33m)\u001b[0m\u001b[1;33m\u001b[0m\u001b[1;33m\u001b[0m\u001b[0m\n\u001b[0m\u001b[0;32m    226\u001b[0m         \u001b[1;32mreturn\u001b[0m \u001b[0minferred_dtype\u001b[0m\u001b[1;33m\u001b[0m\u001b[1;33m\u001b[0m\u001b[0m\n\u001b[0;32m    227\u001b[0m \u001b[1;33m\u001b[0m\u001b[0m\n",
            "\u001b[1;31mAttributeError\u001b[0m: Can only use .str accessor with string values!"
          ]
        }
      ],
      "source": [
        "# Crear una lista de las horas del día (0 a 23)\n",
        "Horas = list(range(24))\n",
        "\n",
        "# Crear un objeto figura para el gráfico\n",
        "fig = go.Figure()\n",
        "\n",
        "# Lista para almacenar los datos de ventas por hora de cada mes\n",
        "ventas_por_hora_por_mes = []\n",
        "\n",
        "# Iterar a través de cada mes en la lista 'meses'\n",
        "for mes in meses:\n",
        "    # Obtener el DataFrame correspondiente al mes\n",
        "    dataframe_mes = dataframes[mes]\n",
        "    \n",
        "    # Realizar algún procesamiento de datos específico (reemplaza con tu propio procesamiento)\n",
        "    dataframe_mes = extraer_datos(dataframe_mes)  # Reemplaza esto con el procesamiento que necesites\n",
        "    \n",
        "    # Calcular el número de ventas por hora para este mes y almacenarlo en 'Ventas_por_hora'\n",
        "    Ventas_por_hora = dataframe_mes.groupby('Hora')['Cantidad Pedida'].count()\n",
        "    \n",
        "    # Agregar los datos de ventas por hora de este mes a la lista 'ventas_por_hora_por_mes'\n",
        "    ventas_por_hora_por_mes.append(Ventas_por_hora)\n",
        "\n",
        "# Iterar sobre la lista de datos y agregar cada mes al objeto figura 'fig'\n",
        "for i, mes in enumerate(meses):\n",
        "    fig.add_trace(go.Scatter(\n",
        "        x=Horas,  # Eje X: Horas del día\n",
        "        y=ventas_por_hora_por_mes[i],  # Eje Y: Datos de ventas por hora para este mes\n",
        "        mode='lines',  # Tipo de gráfico: líneas\n",
        "        name=mes,  # Etiqueta para la leyenda del gráfico\n",
        "        line=dict(width=2, shape='spline'),  # Configuración de las líneas del gráfico\n",
        "    ))\n",
        "\n",
        "# Configurar los ejes y los títulos del gráfico\n",
        "fig.update_layout(\n",
        "    title=\"Unidades vendidas por hora en diferentes meses\",  # Título del gráfico\n",
        "    xaxis=dict(title=\"Hora\", tickvals=Horas),  # Configuración del eje X\n",
        "    yaxis=dict(title=\"Unidades vendidas\", side=\"left\"),  # Configuración del eje Y\n",
        "    legend=dict(y=0.3, yanchor='bottom'),  # Configuración de la leyenda\n",
        ")\n",
        "\n",
        "# Mostrar el gráfico\n",
        "fig.show()"
      ]
    },
    {
      "cell_type": "code",
      "execution_count": 157,
      "metadata": {},
      "outputs": [
        {
          "data": {
            "text/html": [
              "<div>\n",
              "<style scoped>\n",
              "    .dataframe tbody tr th:only-of-type {\n",
              "        vertical-align: middle;\n",
              "    }\n",
              "\n",
              "    .dataframe tbody tr th {\n",
              "        vertical-align: top;\n",
              "    }\n",
              "\n",
              "    .dataframe thead th {\n",
              "        text-align: right;\n",
              "    }\n",
              "</style>\n",
              "<table border=\"1\" class=\"dataframe\">\n",
              "  <thead>\n",
              "    <tr style=\"text-align: right;\">\n",
              "      <th></th>\n",
              "      <th>ID de Pedido</th>\n",
              "      <th>Producto</th>\n",
              "      <th>Cantidad Pedida</th>\n",
              "      <th>Precio Unitario</th>\n",
              "      <th>Fecha de Pedido</th>\n",
              "      <th>Dirección de Envio</th>\n",
              "      <th>total</th>\n",
              "      <th>Hora</th>\n",
              "      <th>Dia</th>\n",
              "      <th>año</th>\n",
              "      <th>strDia</th>\n",
              "    </tr>\n",
              "  </thead>\n",
              "  <tbody>\n",
              "    <tr>\n",
              "      <th>0</th>\n",
              "      <td>295665</td>\n",
              "      <td>Macbook Pro Laptop</td>\n",
              "      <td>1</td>\n",
              "      <td>1700.00</td>\n",
              "      <td>2019-12-30 00:01:00</td>\n",
              "      <td>136 Church St, New York City, NY 10001</td>\n",
              "      <td>1700.00</td>\n",
              "      <td>0</td>\n",
              "      <td>30</td>\n",
              "      <td>2019</td>\n",
              "      <td>lunes</td>\n",
              "    </tr>\n",
              "    <tr>\n",
              "      <th>1</th>\n",
              "      <td>295666</td>\n",
              "      <td>LG Washing Machine</td>\n",
              "      <td>1</td>\n",
              "      <td>600.00</td>\n",
              "      <td>2019-12-29 07:03:00</td>\n",
              "      <td>562 2nd St, New York City, NY 10001</td>\n",
              "      <td>600.00</td>\n",
              "      <td>7</td>\n",
              "      <td>29</td>\n",
              "      <td>2019</td>\n",
              "      <td>domingo</td>\n",
              "    </tr>\n",
              "    <tr>\n",
              "      <th>2</th>\n",
              "      <td>295667</td>\n",
              "      <td>USB-C Charging Cable</td>\n",
              "      <td>1</td>\n",
              "      <td>11.95</td>\n",
              "      <td>2019-12-12 18:21:00</td>\n",
              "      <td>277 Main St, New York City, NY 10001</td>\n",
              "      <td>11.95</td>\n",
              "      <td>18</td>\n",
              "      <td>12</td>\n",
              "      <td>2019</td>\n",
              "      <td>jueves</td>\n",
              "    </tr>\n",
              "    <tr>\n",
              "      <th>3</th>\n",
              "      <td>295668</td>\n",
              "      <td>27in FHD Monitor</td>\n",
              "      <td>1</td>\n",
              "      <td>149.99</td>\n",
              "      <td>2019-12-22 15:13:00</td>\n",
              "      <td>410 6th St, San Francisco, CA 94016</td>\n",
              "      <td>149.99</td>\n",
              "      <td>15</td>\n",
              "      <td>22</td>\n",
              "      <td>2019</td>\n",
              "      <td>domingo</td>\n",
              "    </tr>\n",
              "    <tr>\n",
              "      <th>4</th>\n",
              "      <td>295669</td>\n",
              "      <td>USB-C Charging Cable</td>\n",
              "      <td>1</td>\n",
              "      <td>11.95</td>\n",
              "      <td>2019-12-18 12:38:00</td>\n",
              "      <td>43 Hill St, Atlanta, GA 30301</td>\n",
              "      <td>11.95</td>\n",
              "      <td>12</td>\n",
              "      <td>18</td>\n",
              "      <td>2019</td>\n",
              "      <td>miÃ©rcoles</td>\n",
              "    </tr>\n",
              "    <tr>\n",
              "      <th>...</th>\n",
              "      <td>...</td>\n",
              "      <td>...</td>\n",
              "      <td>...</td>\n",
              "      <td>...</td>\n",
              "      <td>...</td>\n",
              "      <td>...</td>\n",
              "      <td>...</td>\n",
              "      <td>...</td>\n",
              "      <td>...</td>\n",
              "      <td>...</td>\n",
              "      <td>...</td>\n",
              "    </tr>\n",
              "    <tr>\n",
              "      <th>25112</th>\n",
              "      <td>319666</td>\n",
              "      <td>Lightning Charging Cable</td>\n",
              "      <td>1</td>\n",
              "      <td>14.95</td>\n",
              "      <td>2019-12-11 20:58:00</td>\n",
              "      <td>14 Madison St, San Francisco, CA 94016</td>\n",
              "      <td>14.95</td>\n",
              "      <td>20</td>\n",
              "      <td>11</td>\n",
              "      <td>2019</td>\n",
              "      <td>miÃ©rcoles</td>\n",
              "    </tr>\n",
              "    <tr>\n",
              "      <th>25113</th>\n",
              "      <td>319667</td>\n",
              "      <td>AA Batteries (4-pack)</td>\n",
              "      <td>2</td>\n",
              "      <td>3.84</td>\n",
              "      <td>2019-12-01 12:01:00</td>\n",
              "      <td>549 Willow St, Los Angeles, CA 90001</td>\n",
              "      <td>7.68</td>\n",
              "      <td>12</td>\n",
              "      <td>1</td>\n",
              "      <td>2019</td>\n",
              "      <td>domingo</td>\n",
              "    </tr>\n",
              "    <tr>\n",
              "      <th>25114</th>\n",
              "      <td>319668</td>\n",
              "      <td>Vareebadd Phone</td>\n",
              "      <td>1</td>\n",
              "      <td>400.00</td>\n",
              "      <td>2019-12-09 06:43:00</td>\n",
              "      <td>273 Wilson St, Seattle, WA 98101</td>\n",
              "      <td>400.00</td>\n",
              "      <td>6</td>\n",
              "      <td>9</td>\n",
              "      <td>2019</td>\n",
              "      <td>lunes</td>\n",
              "    </tr>\n",
              "    <tr>\n",
              "      <th>25115</th>\n",
              "      <td>319669</td>\n",
              "      <td>Wired Headphones</td>\n",
              "      <td>1</td>\n",
              "      <td>11.99</td>\n",
              "      <td>2019-12-03 10:39:00</td>\n",
              "      <td>778 River St, Dallas, TX 75001</td>\n",
              "      <td>11.99</td>\n",
              "      <td>10</td>\n",
              "      <td>3</td>\n",
              "      <td>2019</td>\n",
              "      <td>martes</td>\n",
              "    </tr>\n",
              "    <tr>\n",
              "      <th>25116</th>\n",
              "      <td>319670</td>\n",
              "      <td>Bose SoundSport Headphones</td>\n",
              "      <td>1</td>\n",
              "      <td>99.99</td>\n",
              "      <td>2019-12-21 21:45:00</td>\n",
              "      <td>747 Chestnut St, Los Angeles, CA 90001</td>\n",
              "      <td>99.99</td>\n",
              "      <td>21</td>\n",
              "      <td>21</td>\n",
              "      <td>2019</td>\n",
              "      <td>sÃ¡bado</td>\n",
              "    </tr>\n",
              "  </tbody>\n",
              "</table>\n",
              "<p>24989 rows × 11 columns</p>\n",
              "</div>"
            ],
            "text/plain": [
              "      ID de Pedido                    Producto  Cantidad Pedida  \\\n",
              "0           295665          Macbook Pro Laptop                1   \n",
              "1           295666          LG Washing Machine                1   \n",
              "2           295667        USB-C Charging Cable                1   \n",
              "3           295668            27in FHD Monitor                1   \n",
              "4           295669        USB-C Charging Cable                1   \n",
              "...            ...                         ...              ...   \n",
              "25112       319666    Lightning Charging Cable                1   \n",
              "25113       319667       AA Batteries (4-pack)                2   \n",
              "25114       319668             Vareebadd Phone                1   \n",
              "25115       319669            Wired Headphones                1   \n",
              "25116       319670  Bose SoundSport Headphones                1   \n",
              "\n",
              "       Precio Unitario     Fecha de Pedido  \\\n",
              "0              1700.00 2019-12-30 00:01:00   \n",
              "1               600.00 2019-12-29 07:03:00   \n",
              "2                11.95 2019-12-12 18:21:00   \n",
              "3               149.99 2019-12-22 15:13:00   \n",
              "4                11.95 2019-12-18 12:38:00   \n",
              "...                ...                 ...   \n",
              "25112            14.95 2019-12-11 20:58:00   \n",
              "25113             3.84 2019-12-01 12:01:00   \n",
              "25114           400.00 2019-12-09 06:43:00   \n",
              "25115            11.99 2019-12-03 10:39:00   \n",
              "25116            99.99 2019-12-21 21:45:00   \n",
              "\n",
              "                           Dirección de Envio    total  Hora  Dia   año  \\\n",
              "0      136 Church St, New York City, NY 10001  1700.00     0   30  2019   \n",
              "1         562 2nd St, New York City, NY 10001   600.00     7   29  2019   \n",
              "2        277 Main St, New York City, NY 10001    11.95    18   12  2019   \n",
              "3         410 6th St, San Francisco, CA 94016   149.99    15   22  2019   \n",
              "4               43 Hill St, Atlanta, GA 30301    11.95    12   18  2019   \n",
              "...                                       ...      ...   ...  ...   ...   \n",
              "25112  14 Madison St, San Francisco, CA 94016    14.95    20   11  2019   \n",
              "25113    549 Willow St, Los Angeles, CA 90001     7.68    12    1  2019   \n",
              "25114        273 Wilson St, Seattle, WA 98101   400.00     6    9  2019   \n",
              "25115          778 River St, Dallas, TX 75001    11.99    10    3  2019   \n",
              "25116  747 Chestnut St, Los Angeles, CA 90001    99.99    21   21  2019   \n",
              "\n",
              "           strDia  \n",
              "0           lunes  \n",
              "1         domingo  \n",
              "2          jueves  \n",
              "3         domingo  \n",
              "4      miÃ©rcoles  \n",
              "...           ...  \n",
              "25112  miÃ©rcoles  \n",
              "25113     domingo  \n",
              "25114       lunes  \n",
              "25115      martes  \n",
              "25116     sÃ¡bado  \n",
              "\n",
              "[24989 rows x 11 columns]"
            ]
          },
          "execution_count": 157,
          "metadata": {},
          "output_type": "execute_result"
        }
      ],
      "source": [
        "dataframe_mes"
      ]
    },
    {
      "cell_type": "markdown",
      "metadata": {},
      "source": [
        "# 5. Tendencia ventas:"
      ]
    },
    {
      "cell_type": "markdown",
      "metadata": {},
      "source": [
        "¿Existe alguna tendencia o patrón en las ventas que se repita a lo largo de los días\n",
        "en los diferentes meses?"
      ]
    },
    {
      "cell_type": "markdown",
      "metadata": {},
      "source": [
        "* Evaluar las ventas por dia de la semana en un grafico en forma lineal superponiendo las ventas."
      ]
    },
    {
      "cell_type": "code",
      "execution_count": 138,
      "metadata": {},
      "outputs": [
        {
          "data": {
            "application/vnd.plotly.v1+json": {
              "config": {
                "plotlyServerURL": "https://plot.ly"
              },
              "data": [
                {
                  "line": {
                    "shape": "spline",
                    "width": 2
                  },
                  "marker": {
                    "size": 10
                  },
                  "mode": "lines+markers",
                  "name": "Enero",
                  "type": "scatter",
                  "x": [
                    "Lunes",
                    "Martes",
                    "Miércoles",
                    "Jueves",
                    "Viernes",
                    "Sábado",
                    "Domingo"
                  ],
                  "y": [
                    1268,
                    1549,
                    1224,
                    1562,
                    1529,
                    1291,
                    1258
                  ]
                },
                {
                  "line": {
                    "shape": "spline",
                    "width": 2
                  },
                  "marker": {
                    "size": 10
                  },
                  "mode": "lines+markers",
                  "name": "Febrero",
                  "type": "scatter",
                  "x": [
                    "Lunes",
                    "Martes",
                    "Miércoles",
                    "Jueves",
                    "Viernes",
                    "Sábado",
                    "Domingo"
                  ],
                  "y": [
                    1765,
                    1660,
                    1691,
                    1681,
                    1782,
                    1711,
                    1696
                  ]
                },
                {
                  "line": {
                    "shape": "spline",
                    "width": 2
                  },
                  "marker": {
                    "size": 10
                  },
                  "mode": "lines+markers",
                  "name": "Marzo",
                  "type": "scatter",
                  "x": [
                    "Lunes",
                    "Martes",
                    "Miércoles",
                    "Jueves",
                    "Viernes",
                    "Sábado",
                    "Domingo"
                  ],
                  "y": [
                    2379,
                    1947,
                    1966,
                    1934,
                    1970,
                    2539,
                    2419
                  ]
                },
                {
                  "line": {
                    "shape": "spline",
                    "width": 2
                  },
                  "marker": {
                    "size": 10
                  },
                  "mode": "lines+markers",
                  "name": "Abril",
                  "type": "scatter",
                  "x": [
                    "Lunes",
                    "Martes",
                    "Miércoles",
                    "Jueves",
                    "Viernes",
                    "Sábado",
                    "Domingo"
                  ],
                  "y": [
                    2444,
                    2505,
                    2922,
                    3035,
                    2543,
                    2466,
                    2374
                  ]
                },
                {
                  "line": {
                    "shape": "spline",
                    "width": 2
                  },
                  "marker": {
                    "size": 10
                  },
                  "mode": "lines+markers",
                  "name": "Mayo",
                  "type": "scatter",
                  "x": [
                    "Lunes",
                    "Martes",
                    "Miércoles",
                    "Jueves",
                    "Viernes",
                    "Sábado",
                    "Domingo"
                  ],
                  "y": [
                    2161,
                    2741,
                    2113,
                    2192,
                    2653,
                    2106,
                    2588
                  ]
                },
                {
                  "line": {
                    "shape": "spline",
                    "width": 2
                  },
                  "marker": {
                    "size": 10
                  },
                  "mode": "lines+markers",
                  "name": "Junio",
                  "type": "scatter",
                  "x": [
                    "Lunes",
                    "Martes",
                    "Miércoles",
                    "Jueves",
                    "Viernes",
                    "Sábado",
                    "Domingo"
                  ],
                  "y": [
                    2221,
                    1821,
                    1777,
                    1793,
                    1861,
                    2250,
                    1833
                  ]
                },
                {
                  "line": {
                    "shape": "spline",
                    "width": 2
                  },
                  "marker": {
                    "size": 10
                  },
                  "mode": "lines+markers",
                  "name": "Julio",
                  "type": "scatter",
                  "x": [
                    "Lunes",
                    "Martes",
                    "Miércoles",
                    "Jueves",
                    "Viernes",
                    "Sábado",
                    "Domingo"
                  ],
                  "y": [
                    1843,
                    1892,
                    2349,
                    2270,
                    2252,
                    1852,
                    1833
                  ]
                },
                {
                  "line": {
                    "shape": "spline",
                    "width": 2
                  },
                  "marker": {
                    "size": 10
                  },
                  "mode": "lines+markers",
                  "name": "Agosto",
                  "type": "scatter",
                  "x": [
                    "Lunes",
                    "Martes",
                    "Miércoles",
                    "Jueves",
                    "Viernes",
                    "Sábado",
                    "Domingo"
                  ],
                  "y": [
                    1530,
                    1931,
                    1527,
                    1554,
                    1555,
                    1949,
                    1911
                  ]
                },
                {
                  "line": {
                    "shape": "spline",
                    "width": 2
                  },
                  "marker": {
                    "size": 10
                  },
                  "mode": "lines+markers",
                  "name": "Septiembre",
                  "type": "scatter",
                  "x": [
                    "Lunes",
                    "Martes",
                    "Miércoles",
                    "Jueves",
                    "Viernes",
                    "Sábado",
                    "Domingo"
                  ],
                  "y": [
                    1941,
                    1536,
                    1936,
                    1579,
                    1538,
                    1520,
                    1579
                  ]
                },
                {
                  "line": {
                    "shape": "spline",
                    "width": 2
                  },
                  "marker": {
                    "size": 10
                  },
                  "mode": "lines+markers",
                  "name": "Octubre",
                  "type": "scatter",
                  "x": [
                    "Lunes",
                    "Martes",
                    "Miércoles",
                    "Jueves",
                    "Viernes",
                    "Sábado",
                    "Domingo"
                  ],
                  "y": [
                    2648,
                    3284,
                    2612,
                    3238,
                    3208,
                    2701,
                    2593
                  ]
                },
                {
                  "line": {
                    "shape": "spline",
                    "width": 2
                  },
                  "marker": {
                    "size": 10
                  },
                  "mode": "lines+markers",
                  "name": "Noviembre",
                  "type": "scatter",
                  "x": [
                    "Lunes",
                    "Martes",
                    "Miércoles",
                    "Jueves",
                    "Viernes",
                    "Sábado",
                    "Domingo"
                  ],
                  "y": [
                    2366,
                    2352,
                    2356,
                    2323,
                    2346,
                    2934,
                    2903
                  ]
                },
                {
                  "line": {
                    "shape": "spline",
                    "width": 2
                  },
                  "marker": {
                    "size": 10
                  },
                  "mode": "lines+markers",
                  "name": "Diciembre",
                  "type": "scatter",
                  "x": [
                    "Lunes",
                    "Martes",
                    "Miércoles",
                    "Jueves",
                    "Viernes",
                    "Sábado",
                    "Domingo"
                  ],
                  "y": [
                    3985,
                    3243,
                    4074,
                    4014,
                    3240,
                    3173,
                    3260
                  ]
                }
              ],
              "layout": {
                "legend": {
                  "y": 0.3,
                  "yanchor": "bottom"
                },
                "template": {
                  "data": {
                    "bar": [
                      {
                        "error_x": {
                          "color": "#2a3f5f"
                        },
                        "error_y": {
                          "color": "#2a3f5f"
                        },
                        "marker": {
                          "line": {
                            "color": "#E5ECF6",
                            "width": 0.5
                          },
                          "pattern": {
                            "fillmode": "overlay",
                            "size": 10,
                            "solidity": 0.2
                          }
                        },
                        "type": "bar"
                      }
                    ],
                    "barpolar": [
                      {
                        "marker": {
                          "line": {
                            "color": "#E5ECF6",
                            "width": 0.5
                          },
                          "pattern": {
                            "fillmode": "overlay",
                            "size": 10,
                            "solidity": 0.2
                          }
                        },
                        "type": "barpolar"
                      }
                    ],
                    "carpet": [
                      {
                        "aaxis": {
                          "endlinecolor": "#2a3f5f",
                          "gridcolor": "white",
                          "linecolor": "white",
                          "minorgridcolor": "white",
                          "startlinecolor": "#2a3f5f"
                        },
                        "baxis": {
                          "endlinecolor": "#2a3f5f",
                          "gridcolor": "white",
                          "linecolor": "white",
                          "minorgridcolor": "white",
                          "startlinecolor": "#2a3f5f"
                        },
                        "type": "carpet"
                      }
                    ],
                    "choropleth": [
                      {
                        "colorbar": {
                          "outlinewidth": 0,
                          "ticks": ""
                        },
                        "type": "choropleth"
                      }
                    ],
                    "contour": [
                      {
                        "colorbar": {
                          "outlinewidth": 0,
                          "ticks": ""
                        },
                        "colorscale": [
                          [
                            0,
                            "#0d0887"
                          ],
                          [
                            0.1111111111111111,
                            "#46039f"
                          ],
                          [
                            0.2222222222222222,
                            "#7201a8"
                          ],
                          [
                            0.3333333333333333,
                            "#9c179e"
                          ],
                          [
                            0.4444444444444444,
                            "#bd3786"
                          ],
                          [
                            0.5555555555555556,
                            "#d8576b"
                          ],
                          [
                            0.6666666666666666,
                            "#ed7953"
                          ],
                          [
                            0.7777777777777778,
                            "#fb9f3a"
                          ],
                          [
                            0.8888888888888888,
                            "#fdca26"
                          ],
                          [
                            1,
                            "#f0f921"
                          ]
                        ],
                        "type": "contour"
                      }
                    ],
                    "contourcarpet": [
                      {
                        "colorbar": {
                          "outlinewidth": 0,
                          "ticks": ""
                        },
                        "type": "contourcarpet"
                      }
                    ],
                    "heatmap": [
                      {
                        "colorbar": {
                          "outlinewidth": 0,
                          "ticks": ""
                        },
                        "colorscale": [
                          [
                            0,
                            "#0d0887"
                          ],
                          [
                            0.1111111111111111,
                            "#46039f"
                          ],
                          [
                            0.2222222222222222,
                            "#7201a8"
                          ],
                          [
                            0.3333333333333333,
                            "#9c179e"
                          ],
                          [
                            0.4444444444444444,
                            "#bd3786"
                          ],
                          [
                            0.5555555555555556,
                            "#d8576b"
                          ],
                          [
                            0.6666666666666666,
                            "#ed7953"
                          ],
                          [
                            0.7777777777777778,
                            "#fb9f3a"
                          ],
                          [
                            0.8888888888888888,
                            "#fdca26"
                          ],
                          [
                            1,
                            "#f0f921"
                          ]
                        ],
                        "type": "heatmap"
                      }
                    ],
                    "heatmapgl": [
                      {
                        "colorbar": {
                          "outlinewidth": 0,
                          "ticks": ""
                        },
                        "colorscale": [
                          [
                            0,
                            "#0d0887"
                          ],
                          [
                            0.1111111111111111,
                            "#46039f"
                          ],
                          [
                            0.2222222222222222,
                            "#7201a8"
                          ],
                          [
                            0.3333333333333333,
                            "#9c179e"
                          ],
                          [
                            0.4444444444444444,
                            "#bd3786"
                          ],
                          [
                            0.5555555555555556,
                            "#d8576b"
                          ],
                          [
                            0.6666666666666666,
                            "#ed7953"
                          ],
                          [
                            0.7777777777777778,
                            "#fb9f3a"
                          ],
                          [
                            0.8888888888888888,
                            "#fdca26"
                          ],
                          [
                            1,
                            "#f0f921"
                          ]
                        ],
                        "type": "heatmapgl"
                      }
                    ],
                    "histogram": [
                      {
                        "marker": {
                          "pattern": {
                            "fillmode": "overlay",
                            "size": 10,
                            "solidity": 0.2
                          }
                        },
                        "type": "histogram"
                      }
                    ],
                    "histogram2d": [
                      {
                        "colorbar": {
                          "outlinewidth": 0,
                          "ticks": ""
                        },
                        "colorscale": [
                          [
                            0,
                            "#0d0887"
                          ],
                          [
                            0.1111111111111111,
                            "#46039f"
                          ],
                          [
                            0.2222222222222222,
                            "#7201a8"
                          ],
                          [
                            0.3333333333333333,
                            "#9c179e"
                          ],
                          [
                            0.4444444444444444,
                            "#bd3786"
                          ],
                          [
                            0.5555555555555556,
                            "#d8576b"
                          ],
                          [
                            0.6666666666666666,
                            "#ed7953"
                          ],
                          [
                            0.7777777777777778,
                            "#fb9f3a"
                          ],
                          [
                            0.8888888888888888,
                            "#fdca26"
                          ],
                          [
                            1,
                            "#f0f921"
                          ]
                        ],
                        "type": "histogram2d"
                      }
                    ],
                    "histogram2dcontour": [
                      {
                        "colorbar": {
                          "outlinewidth": 0,
                          "ticks": ""
                        },
                        "colorscale": [
                          [
                            0,
                            "#0d0887"
                          ],
                          [
                            0.1111111111111111,
                            "#46039f"
                          ],
                          [
                            0.2222222222222222,
                            "#7201a8"
                          ],
                          [
                            0.3333333333333333,
                            "#9c179e"
                          ],
                          [
                            0.4444444444444444,
                            "#bd3786"
                          ],
                          [
                            0.5555555555555556,
                            "#d8576b"
                          ],
                          [
                            0.6666666666666666,
                            "#ed7953"
                          ],
                          [
                            0.7777777777777778,
                            "#fb9f3a"
                          ],
                          [
                            0.8888888888888888,
                            "#fdca26"
                          ],
                          [
                            1,
                            "#f0f921"
                          ]
                        ],
                        "type": "histogram2dcontour"
                      }
                    ],
                    "mesh3d": [
                      {
                        "colorbar": {
                          "outlinewidth": 0,
                          "ticks": ""
                        },
                        "type": "mesh3d"
                      }
                    ],
                    "parcoords": [
                      {
                        "line": {
                          "colorbar": {
                            "outlinewidth": 0,
                            "ticks": ""
                          }
                        },
                        "type": "parcoords"
                      }
                    ],
                    "pie": [
                      {
                        "automargin": true,
                        "type": "pie"
                      }
                    ],
                    "scatter": [
                      {
                        "fillpattern": {
                          "fillmode": "overlay",
                          "size": 10,
                          "solidity": 0.2
                        },
                        "type": "scatter"
                      }
                    ],
                    "scatter3d": [
                      {
                        "line": {
                          "colorbar": {
                            "outlinewidth": 0,
                            "ticks": ""
                          }
                        },
                        "marker": {
                          "colorbar": {
                            "outlinewidth": 0,
                            "ticks": ""
                          }
                        },
                        "type": "scatter3d"
                      }
                    ],
                    "scattercarpet": [
                      {
                        "marker": {
                          "colorbar": {
                            "outlinewidth": 0,
                            "ticks": ""
                          }
                        },
                        "type": "scattercarpet"
                      }
                    ],
                    "scattergeo": [
                      {
                        "marker": {
                          "colorbar": {
                            "outlinewidth": 0,
                            "ticks": ""
                          }
                        },
                        "type": "scattergeo"
                      }
                    ],
                    "scattergl": [
                      {
                        "marker": {
                          "colorbar": {
                            "outlinewidth": 0,
                            "ticks": ""
                          }
                        },
                        "type": "scattergl"
                      }
                    ],
                    "scattermapbox": [
                      {
                        "marker": {
                          "colorbar": {
                            "outlinewidth": 0,
                            "ticks": ""
                          }
                        },
                        "type": "scattermapbox"
                      }
                    ],
                    "scatterpolar": [
                      {
                        "marker": {
                          "colorbar": {
                            "outlinewidth": 0,
                            "ticks": ""
                          }
                        },
                        "type": "scatterpolar"
                      }
                    ],
                    "scatterpolargl": [
                      {
                        "marker": {
                          "colorbar": {
                            "outlinewidth": 0,
                            "ticks": ""
                          }
                        },
                        "type": "scatterpolargl"
                      }
                    ],
                    "scatterternary": [
                      {
                        "marker": {
                          "colorbar": {
                            "outlinewidth": 0,
                            "ticks": ""
                          }
                        },
                        "type": "scatterternary"
                      }
                    ],
                    "surface": [
                      {
                        "colorbar": {
                          "outlinewidth": 0,
                          "ticks": ""
                        },
                        "colorscale": [
                          [
                            0,
                            "#0d0887"
                          ],
                          [
                            0.1111111111111111,
                            "#46039f"
                          ],
                          [
                            0.2222222222222222,
                            "#7201a8"
                          ],
                          [
                            0.3333333333333333,
                            "#9c179e"
                          ],
                          [
                            0.4444444444444444,
                            "#bd3786"
                          ],
                          [
                            0.5555555555555556,
                            "#d8576b"
                          ],
                          [
                            0.6666666666666666,
                            "#ed7953"
                          ],
                          [
                            0.7777777777777778,
                            "#fb9f3a"
                          ],
                          [
                            0.8888888888888888,
                            "#fdca26"
                          ],
                          [
                            1,
                            "#f0f921"
                          ]
                        ],
                        "type": "surface"
                      }
                    ],
                    "table": [
                      {
                        "cells": {
                          "fill": {
                            "color": "#EBF0F8"
                          },
                          "line": {
                            "color": "white"
                          }
                        },
                        "header": {
                          "fill": {
                            "color": "#C8D4E3"
                          },
                          "line": {
                            "color": "white"
                          }
                        },
                        "type": "table"
                      }
                    ]
                  },
                  "layout": {
                    "annotationdefaults": {
                      "arrowcolor": "#2a3f5f",
                      "arrowhead": 0,
                      "arrowwidth": 1
                    },
                    "autotypenumbers": "strict",
                    "coloraxis": {
                      "colorbar": {
                        "outlinewidth": 0,
                        "ticks": ""
                      }
                    },
                    "colorscale": {
                      "diverging": [
                        [
                          0,
                          "#8e0152"
                        ],
                        [
                          0.1,
                          "#c51b7d"
                        ],
                        [
                          0.2,
                          "#de77ae"
                        ],
                        [
                          0.3,
                          "#f1b6da"
                        ],
                        [
                          0.4,
                          "#fde0ef"
                        ],
                        [
                          0.5,
                          "#f7f7f7"
                        ],
                        [
                          0.6,
                          "#e6f5d0"
                        ],
                        [
                          0.7,
                          "#b8e186"
                        ],
                        [
                          0.8,
                          "#7fbc41"
                        ],
                        [
                          0.9,
                          "#4d9221"
                        ],
                        [
                          1,
                          "#276419"
                        ]
                      ],
                      "sequential": [
                        [
                          0,
                          "#0d0887"
                        ],
                        [
                          0.1111111111111111,
                          "#46039f"
                        ],
                        [
                          0.2222222222222222,
                          "#7201a8"
                        ],
                        [
                          0.3333333333333333,
                          "#9c179e"
                        ],
                        [
                          0.4444444444444444,
                          "#bd3786"
                        ],
                        [
                          0.5555555555555556,
                          "#d8576b"
                        ],
                        [
                          0.6666666666666666,
                          "#ed7953"
                        ],
                        [
                          0.7777777777777778,
                          "#fb9f3a"
                        ],
                        [
                          0.8888888888888888,
                          "#fdca26"
                        ],
                        [
                          1,
                          "#f0f921"
                        ]
                      ],
                      "sequentialminus": [
                        [
                          0,
                          "#0d0887"
                        ],
                        [
                          0.1111111111111111,
                          "#46039f"
                        ],
                        [
                          0.2222222222222222,
                          "#7201a8"
                        ],
                        [
                          0.3333333333333333,
                          "#9c179e"
                        ],
                        [
                          0.4444444444444444,
                          "#bd3786"
                        ],
                        [
                          0.5555555555555556,
                          "#d8576b"
                        ],
                        [
                          0.6666666666666666,
                          "#ed7953"
                        ],
                        [
                          0.7777777777777778,
                          "#fb9f3a"
                        ],
                        [
                          0.8888888888888888,
                          "#fdca26"
                        ],
                        [
                          1,
                          "#f0f921"
                        ]
                      ]
                    },
                    "colorway": [
                      "#636efa",
                      "#EF553B",
                      "#00cc96",
                      "#ab63fa",
                      "#FFA15A",
                      "#19d3f3",
                      "#FF6692",
                      "#B6E880",
                      "#FF97FF",
                      "#FECB52"
                    ],
                    "font": {
                      "color": "#2a3f5f"
                    },
                    "geo": {
                      "bgcolor": "white",
                      "lakecolor": "white",
                      "landcolor": "#E5ECF6",
                      "showlakes": true,
                      "showland": true,
                      "subunitcolor": "white"
                    },
                    "hoverlabel": {
                      "align": "left"
                    },
                    "hovermode": "closest",
                    "mapbox": {
                      "style": "light"
                    },
                    "paper_bgcolor": "white",
                    "plot_bgcolor": "#E5ECF6",
                    "polar": {
                      "angularaxis": {
                        "gridcolor": "white",
                        "linecolor": "white",
                        "ticks": ""
                      },
                      "bgcolor": "#E5ECF6",
                      "radialaxis": {
                        "gridcolor": "white",
                        "linecolor": "white",
                        "ticks": ""
                      }
                    },
                    "scene": {
                      "xaxis": {
                        "backgroundcolor": "#E5ECF6",
                        "gridcolor": "white",
                        "gridwidth": 2,
                        "linecolor": "white",
                        "showbackground": true,
                        "ticks": "",
                        "zerolinecolor": "white"
                      },
                      "yaxis": {
                        "backgroundcolor": "#E5ECF6",
                        "gridcolor": "white",
                        "gridwidth": 2,
                        "linecolor": "white",
                        "showbackground": true,
                        "ticks": "",
                        "zerolinecolor": "white"
                      },
                      "zaxis": {
                        "backgroundcolor": "#E5ECF6",
                        "gridcolor": "white",
                        "gridwidth": 2,
                        "linecolor": "white",
                        "showbackground": true,
                        "ticks": "",
                        "zerolinecolor": "white"
                      }
                    },
                    "shapedefaults": {
                      "line": {
                        "color": "#2a3f5f"
                      }
                    },
                    "ternary": {
                      "aaxis": {
                        "gridcolor": "white",
                        "linecolor": "white",
                        "ticks": ""
                      },
                      "baxis": {
                        "gridcolor": "white",
                        "linecolor": "white",
                        "ticks": ""
                      },
                      "bgcolor": "#E5ECF6",
                      "caxis": {
                        "gridcolor": "white",
                        "linecolor": "white",
                        "ticks": ""
                      }
                    },
                    "title": {
                      "x": 0.05
                    },
                    "xaxis": {
                      "automargin": true,
                      "gridcolor": "white",
                      "linecolor": "white",
                      "ticks": "",
                      "title": {
                        "standoff": 15
                      },
                      "zerolinecolor": "white",
                      "zerolinewidth": 2
                    },
                    "yaxis": {
                      "automargin": true,
                      "gridcolor": "white",
                      "linecolor": "white",
                      "ticks": "",
                      "title": {
                        "standoff": 15
                      },
                      "zerolinecolor": "white",
                      "zerolinewidth": 2
                    }
                  }
                },
                "title": {
                  "text": "Unidades vendidas por dia en diferentes meses"
                },
                "xaxis": {
                  "tickvals": [
                    0,
                    1,
                    2,
                    3,
                    4,
                    5,
                    6,
                    7,
                    8,
                    9,
                    10,
                    11,
                    12,
                    13,
                    14,
                    15,
                    16,
                    17,
                    18,
                    19,
                    20,
                    21,
                    22,
                    23
                  ],
                  "title": {
                    "text": "Hora"
                  }
                },
                "yaxis": {
                  "side": "left",
                  "title": {
                    "text": "Unidades vendidas"
                  }
                }
              }
            }
          },
          "metadata": {},
          "output_type": "display_data"
        }
      ],
      "source": [
        "# Crear un objeto figura para el gráfico\n",
        "fig = go.Figure()\n",
        "\n",
        "# Lista para almacenar los datos de ventas por hora de cada mes\n",
        "ventas_pordia_pormes = []\n",
        "\n",
        "# Iterar a través de cada mes en la lista 'meses'\n",
        "for mes in meses:\n",
        "    # Obtener el DataFrame correspondiente al mes\n",
        "    dataframe_mes = dataframes[mes]\n",
        "    \n",
        "    # Realizar algún procesamiento de datos específico (reemplaza con tu propio procesamiento)\n",
        "    dataframe_mes = extraer_datos(dataframe_mes)  # Reemplaza esto con el procesamiento que necesites\n",
        "    \n",
        "    # Calcular el número de ventas por hora para este mes y almacenarlo en 'Ventas_por_hora'\n",
        "    Ventas_por_dia = dataframe_mes.groupby('strDia')['Cantidad Pedida'].count()\n",
        "    \n",
        "    # Agregar los datos de ventas por hora de este mes a la lista 'ventas_por_hora_por_mes'\n",
        "    ventas_pordia_pormes.append(Ventas_por_dia)\n",
        "\n",
        "# Iterar sobre la lista de datos y agregar cada mes al objeto figura 'fig'\n",
        "for i, mes in enumerate(meses):\n",
        "    fig.add_trace(go.Scatter(\n",
        "        x=dias_semana,  # Eje X: Horas del día\n",
        "        y=ventas_pordia_pormes[i],  # Eje Y: Datos de ventas por hora para este mes\n",
        "        mode='lines+markers',  # Tipo de gráfico: líneas\n",
        "        name=mes,  # Etiqueta para la leyenda del gráfico\n",
        "        line=dict(width=2, shape='spline'),  # Configuración de las líneas del gráfico\n",
        "        marker=dict(size=10)  # Configuración de las marcas del gráfico\n",
        "    ))\n",
        "\n",
        "# Configurar los ejes y los títulos del gráfico\n",
        "fig.update_layout(\n",
        "    title=\"Unidades vendidas por dia en diferentes meses\",  # Título del gráfico\n",
        "    xaxis=dict(title=\"Hora\", tickvals=Horas),  # Configuración del eje X\n",
        "    yaxis=dict(title=\"Unidades vendidas\", side=\"left\"),  # Configuración del eje Y\n",
        "    legend=dict(y=0.3, yanchor='bottom'),  # Configuración de la leyenda\n",
        ")\n",
        "\n",
        "# Mostrar el gráfico\n",
        "fig.show()"
      ]
    },
    {
      "cell_type": "code",
      "execution_count": 139,
      "metadata": {},
      "outputs": [
        {
          "name": "stderr",
          "output_type": "stream",
          "text": [
            "C:\\Users\\nico_\\AppData\\Roaming\\Python\\Python37\\site-packages\\ipykernel_launcher.py:26: FutureWarning:\n",
            "\n",
            "Passing 'suffixes' which cause duplicate columns {'Cantidad Pedida_x'} in the result is deprecated and will raise a MergeError in a future version.\n",
            "\n"
          ]
        },
        {
          "data": {
            "text/html": [
              "<div>\n",
              "<style scoped>\n",
              "    .dataframe tbody tr th:only-of-type {\n",
              "        vertical-align: middle;\n",
              "    }\n",
              "\n",
              "    .dataframe tbody tr th {\n",
              "        vertical-align: top;\n",
              "    }\n",
              "\n",
              "    .dataframe thead th {\n",
              "        text-align: right;\n",
              "    }\n",
              "</style>\n",
              "<table border=\"1\" class=\"dataframe\">\n",
              "  <thead>\n",
              "    <tr style=\"text-align: right;\">\n",
              "      <th></th>\n",
              "      <th>Enero</th>\n",
              "      <th>Febrero</th>\n",
              "      <th>Marzo</th>\n",
              "      <th>Abril</th>\n",
              "      <th>Mayo</th>\n",
              "      <th>Junio</th>\n",
              "      <th>Julio</th>\n",
              "      <th>Agosto</th>\n",
              "      <th>Septiembre</th>\n",
              "      <th>Octubre</th>\n",
              "      <th>Noviembre</th>\n",
              "      <th>Diciembre</th>\n",
              "    </tr>\n",
              "    <tr>\n",
              "      <th>strDia</th>\n",
              "      <th></th>\n",
              "      <th></th>\n",
              "      <th></th>\n",
              "      <th></th>\n",
              "      <th></th>\n",
              "      <th></th>\n",
              "      <th></th>\n",
              "      <th></th>\n",
              "      <th></th>\n",
              "      <th></th>\n",
              "      <th></th>\n",
              "      <th></th>\n",
              "    </tr>\n",
              "  </thead>\n",
              "  <tbody>\n",
              "    <tr>\n",
              "      <th>domingo</th>\n",
              "      <td>1268</td>\n",
              "      <td>1765</td>\n",
              "      <td>2379</td>\n",
              "      <td>2444</td>\n",
              "      <td>2161</td>\n",
              "      <td>2221</td>\n",
              "      <td>1843</td>\n",
              "      <td>1530</td>\n",
              "      <td>1941</td>\n",
              "      <td>2648</td>\n",
              "      <td>2366</td>\n",
              "      <td>3985</td>\n",
              "    </tr>\n",
              "    <tr>\n",
              "      <th>jueves</th>\n",
              "      <td>1549</td>\n",
              "      <td>1660</td>\n",
              "      <td>1947</td>\n",
              "      <td>2505</td>\n",
              "      <td>2741</td>\n",
              "      <td>1821</td>\n",
              "      <td>1892</td>\n",
              "      <td>1931</td>\n",
              "      <td>1536</td>\n",
              "      <td>3284</td>\n",
              "      <td>2352</td>\n",
              "      <td>3243</td>\n",
              "    </tr>\n",
              "    <tr>\n",
              "      <th>lunes</th>\n",
              "      <td>1224</td>\n",
              "      <td>1691</td>\n",
              "      <td>1966</td>\n",
              "      <td>2922</td>\n",
              "      <td>2113</td>\n",
              "      <td>1777</td>\n",
              "      <td>2349</td>\n",
              "      <td>1527</td>\n",
              "      <td>1936</td>\n",
              "      <td>2612</td>\n",
              "      <td>2356</td>\n",
              "      <td>4074</td>\n",
              "    </tr>\n",
              "    <tr>\n",
              "      <th>martes</th>\n",
              "      <td>1562</td>\n",
              "      <td>1681</td>\n",
              "      <td>1934</td>\n",
              "      <td>3035</td>\n",
              "      <td>2192</td>\n",
              "      <td>1793</td>\n",
              "      <td>2270</td>\n",
              "      <td>1554</td>\n",
              "      <td>1579</td>\n",
              "      <td>3238</td>\n",
              "      <td>2323</td>\n",
              "      <td>4014</td>\n",
              "    </tr>\n",
              "    <tr>\n",
              "      <th>miÃ©rcoles</th>\n",
              "      <td>1529</td>\n",
              "      <td>1782</td>\n",
              "      <td>1970</td>\n",
              "      <td>2543</td>\n",
              "      <td>2653</td>\n",
              "      <td>1861</td>\n",
              "      <td>2252</td>\n",
              "      <td>1555</td>\n",
              "      <td>1538</td>\n",
              "      <td>3208</td>\n",
              "      <td>2346</td>\n",
              "      <td>3240</td>\n",
              "    </tr>\n",
              "    <tr>\n",
              "      <th>sÃ¡bado</th>\n",
              "      <td>1291</td>\n",
              "      <td>1711</td>\n",
              "      <td>2539</td>\n",
              "      <td>2466</td>\n",
              "      <td>2106</td>\n",
              "      <td>2250</td>\n",
              "      <td>1852</td>\n",
              "      <td>1949</td>\n",
              "      <td>1520</td>\n",
              "      <td>2701</td>\n",
              "      <td>2934</td>\n",
              "      <td>3173</td>\n",
              "    </tr>\n",
              "    <tr>\n",
              "      <th>viernes</th>\n",
              "      <td>1258</td>\n",
              "      <td>1696</td>\n",
              "      <td>2419</td>\n",
              "      <td>2374</td>\n",
              "      <td>2588</td>\n",
              "      <td>1833</td>\n",
              "      <td>1833</td>\n",
              "      <td>1911</td>\n",
              "      <td>1579</td>\n",
              "      <td>2593</td>\n",
              "      <td>2903</td>\n",
              "      <td>3260</td>\n",
              "    </tr>\n",
              "  </tbody>\n",
              "</table>\n",
              "</div>"
            ],
            "text/plain": [
              "            Enero  Febrero  Marzo  Abril  Mayo  Junio  Julio  Agosto  \\\n",
              "strDia                                                                 \n",
              "domingo      1268     1765   2379   2444  2161   2221   1843    1530   \n",
              "jueves       1549     1660   1947   2505  2741   1821   1892    1931   \n",
              "lunes        1224     1691   1966   2922  2113   1777   2349    1527   \n",
              "martes       1562     1681   1934   3035  2192   1793   2270    1554   \n",
              "miÃ©rcoles   1529     1782   1970   2543  2653   1861   2252    1555   \n",
              "sÃ¡bado      1291     1711   2539   2466  2106   2250   1852    1949   \n",
              "viernes      1258     1696   2419   2374  2588   1833   1833    1911   \n",
              "\n",
              "            Septiembre  Octubre  Noviembre  Diciembre  \n",
              "strDia                                                 \n",
              "domingo           1941     2648       2366       3985  \n",
              "jueves            1536     3284       2352       3243  \n",
              "lunes             1936     2612       2356       4074  \n",
              "martes            1579     3238       2323       4014  \n",
              "miÃ©rcoles        1538     3208       2346       3240  \n",
              "sÃ¡bado           1520     2701       2934       3173  \n",
              "viernes           1579     2593       2903       3260  "
            ]
          },
          "execution_count": 139,
          "metadata": {},
          "output_type": "execute_result"
        }
      ],
      "source": [
        "Ventas_por_dia = {}\n",
        "unidos = pd.DataFrame()\n",
        "# Iterar a través de cada mes en la lista 'meses'\n",
        "try:\n",
        "    for mes in meses:\n",
        "        # Obtener el DataFrame correspondiente al mes\n",
        "        dataframe_mes = dataframes[mes]\n",
        "        \n",
        "        # Realizar algún procesamiento de datos específico (reemplaza con tu propio procesamiento)\n",
        "        dataframe_mes = extraer_datos(dataframe_mes)  # Reemplaza esto con el procesamiento que necesites\n",
        "        \n",
        "        # Calcular el número de ventas por hora para este mes y almacenarlo en 'Ventas_por_hora'\n",
        "        Ventas_por_dia[mes] = dataframe_mes.groupby('strDia')['Cantidad Pedida'].count()\n",
        "finally:\n",
        "    #cuando termina el for arma un dataframe con los dias de la semana en la columna\n",
        "    dias_semana = Ventas_por_dia[mes].index.values\n",
        "    columnas = ['strDia']\n",
        "    unidos = pd.DataFrame(dias_semana, columns= columnas )\n",
        "    #pone la columna de los dias como index\n",
        "    unidos.index = unidos.strDia\n",
        "    #elimina la columnas de dias y queda un dataframe vacion con los dias como index\n",
        "    unidos.drop(\"strDia\", axis=1, inplace=True)\n",
        "\n",
        "for mes in meses:\n",
        "    #va uniendo los dataframes segun el dia\n",
        "    unidos = pd.merge(unidos, Ventas_por_dia[mes], on=\"strDia\")\n",
        "#cambia las columnas por los nombres de meses\n",
        "unidos.columns = meses\n",
        "unidos\n"
      ]
    },
    {
      "cell_type": "code",
      "execution_count": 140,
      "metadata": {},
      "outputs": [
        {
          "data": {
            "application/vnd.plotly.v1+json": {
              "config": {
                "plotlyServerURL": "https://plot.ly"
              },
              "data": [
                {
                  "name": "Enero",
                  "type": "bar",
                  "x": [
                    "domingo",
                    "jueves",
                    "lunes",
                    "martes",
                    "miÃ©rcoles",
                    "sÃ¡bado",
                    "viernes"
                  ],
                  "y": [
                    1268,
                    1549,
                    1224,
                    1562,
                    1529,
                    1291,
                    1258
                  ]
                },
                {
                  "name": "Febrero",
                  "type": "bar",
                  "x": [
                    "domingo",
                    "jueves",
                    "lunes",
                    "martes",
                    "miÃ©rcoles",
                    "sÃ¡bado",
                    "viernes"
                  ],
                  "y": [
                    1765,
                    1660,
                    1691,
                    1681,
                    1782,
                    1711,
                    1696
                  ]
                },
                {
                  "name": "Marzo",
                  "type": "bar",
                  "x": [
                    "domingo",
                    "jueves",
                    "lunes",
                    "martes",
                    "miÃ©rcoles",
                    "sÃ¡bado",
                    "viernes"
                  ],
                  "y": [
                    2379,
                    1947,
                    1966,
                    1934,
                    1970,
                    2539,
                    2419
                  ]
                },
                {
                  "name": "Abril",
                  "type": "bar",
                  "x": [
                    "domingo",
                    "jueves",
                    "lunes",
                    "martes",
                    "miÃ©rcoles",
                    "sÃ¡bado",
                    "viernes"
                  ],
                  "y": [
                    2444,
                    2505,
                    2922,
                    3035,
                    2543,
                    2466,
                    2374
                  ]
                },
                {
                  "name": "Mayo",
                  "type": "bar",
                  "x": [
                    "domingo",
                    "jueves",
                    "lunes",
                    "martes",
                    "miÃ©rcoles",
                    "sÃ¡bado",
                    "viernes"
                  ],
                  "y": [
                    2161,
                    2741,
                    2113,
                    2192,
                    2653,
                    2106,
                    2588
                  ]
                },
                {
                  "name": "Junio",
                  "type": "bar",
                  "x": [
                    "domingo",
                    "jueves",
                    "lunes",
                    "martes",
                    "miÃ©rcoles",
                    "sÃ¡bado",
                    "viernes"
                  ],
                  "y": [
                    2221,
                    1821,
                    1777,
                    1793,
                    1861,
                    2250,
                    1833
                  ]
                },
                {
                  "name": "Julio",
                  "type": "bar",
                  "x": [
                    "domingo",
                    "jueves",
                    "lunes",
                    "martes",
                    "miÃ©rcoles",
                    "sÃ¡bado",
                    "viernes"
                  ],
                  "y": [
                    1843,
                    1892,
                    2349,
                    2270,
                    2252,
                    1852,
                    1833
                  ]
                },
                {
                  "name": "Agosto",
                  "type": "bar",
                  "x": [
                    "domingo",
                    "jueves",
                    "lunes",
                    "martes",
                    "miÃ©rcoles",
                    "sÃ¡bado",
                    "viernes"
                  ],
                  "y": [
                    1530,
                    1931,
                    1527,
                    1554,
                    1555,
                    1949,
                    1911
                  ]
                },
                {
                  "name": "Septiembre",
                  "type": "bar",
                  "x": [
                    "domingo",
                    "jueves",
                    "lunes",
                    "martes",
                    "miÃ©rcoles",
                    "sÃ¡bado",
                    "viernes"
                  ],
                  "y": [
                    1941,
                    1536,
                    1936,
                    1579,
                    1538,
                    1520,
                    1579
                  ]
                },
                {
                  "name": "Octubre",
                  "type": "bar",
                  "x": [
                    "domingo",
                    "jueves",
                    "lunes",
                    "martes",
                    "miÃ©rcoles",
                    "sÃ¡bado",
                    "viernes"
                  ],
                  "y": [
                    2648,
                    3284,
                    2612,
                    3238,
                    3208,
                    2701,
                    2593
                  ]
                },
                {
                  "name": "Noviembre",
                  "type": "bar",
                  "x": [
                    "domingo",
                    "jueves",
                    "lunes",
                    "martes",
                    "miÃ©rcoles",
                    "sÃ¡bado",
                    "viernes"
                  ],
                  "y": [
                    2366,
                    2352,
                    2356,
                    2323,
                    2346,
                    2934,
                    2903
                  ]
                },
                {
                  "name": "Diciembre",
                  "type": "bar",
                  "x": [
                    "domingo",
                    "jueves",
                    "lunes",
                    "martes",
                    "miÃ©rcoles",
                    "sÃ¡bado",
                    "viernes"
                  ],
                  "y": [
                    3985,
                    3243,
                    4074,
                    4014,
                    3240,
                    3173,
                    3260
                  ]
                }
              ],
              "layout": {
                "barmode": "group",
                "template": {
                  "data": {
                    "bar": [
                      {
                        "error_x": {
                          "color": "#2a3f5f"
                        },
                        "error_y": {
                          "color": "#2a3f5f"
                        },
                        "marker": {
                          "line": {
                            "color": "#E5ECF6",
                            "width": 0.5
                          },
                          "pattern": {
                            "fillmode": "overlay",
                            "size": 10,
                            "solidity": 0.2
                          }
                        },
                        "type": "bar"
                      }
                    ],
                    "barpolar": [
                      {
                        "marker": {
                          "line": {
                            "color": "#E5ECF6",
                            "width": 0.5
                          },
                          "pattern": {
                            "fillmode": "overlay",
                            "size": 10,
                            "solidity": 0.2
                          }
                        },
                        "type": "barpolar"
                      }
                    ],
                    "carpet": [
                      {
                        "aaxis": {
                          "endlinecolor": "#2a3f5f",
                          "gridcolor": "white",
                          "linecolor": "white",
                          "minorgridcolor": "white",
                          "startlinecolor": "#2a3f5f"
                        },
                        "baxis": {
                          "endlinecolor": "#2a3f5f",
                          "gridcolor": "white",
                          "linecolor": "white",
                          "minorgridcolor": "white",
                          "startlinecolor": "#2a3f5f"
                        },
                        "type": "carpet"
                      }
                    ],
                    "choropleth": [
                      {
                        "colorbar": {
                          "outlinewidth": 0,
                          "ticks": ""
                        },
                        "type": "choropleth"
                      }
                    ],
                    "contour": [
                      {
                        "colorbar": {
                          "outlinewidth": 0,
                          "ticks": ""
                        },
                        "colorscale": [
                          [
                            0,
                            "#0d0887"
                          ],
                          [
                            0.1111111111111111,
                            "#46039f"
                          ],
                          [
                            0.2222222222222222,
                            "#7201a8"
                          ],
                          [
                            0.3333333333333333,
                            "#9c179e"
                          ],
                          [
                            0.4444444444444444,
                            "#bd3786"
                          ],
                          [
                            0.5555555555555556,
                            "#d8576b"
                          ],
                          [
                            0.6666666666666666,
                            "#ed7953"
                          ],
                          [
                            0.7777777777777778,
                            "#fb9f3a"
                          ],
                          [
                            0.8888888888888888,
                            "#fdca26"
                          ],
                          [
                            1,
                            "#f0f921"
                          ]
                        ],
                        "type": "contour"
                      }
                    ],
                    "contourcarpet": [
                      {
                        "colorbar": {
                          "outlinewidth": 0,
                          "ticks": ""
                        },
                        "type": "contourcarpet"
                      }
                    ],
                    "heatmap": [
                      {
                        "colorbar": {
                          "outlinewidth": 0,
                          "ticks": ""
                        },
                        "colorscale": [
                          [
                            0,
                            "#0d0887"
                          ],
                          [
                            0.1111111111111111,
                            "#46039f"
                          ],
                          [
                            0.2222222222222222,
                            "#7201a8"
                          ],
                          [
                            0.3333333333333333,
                            "#9c179e"
                          ],
                          [
                            0.4444444444444444,
                            "#bd3786"
                          ],
                          [
                            0.5555555555555556,
                            "#d8576b"
                          ],
                          [
                            0.6666666666666666,
                            "#ed7953"
                          ],
                          [
                            0.7777777777777778,
                            "#fb9f3a"
                          ],
                          [
                            0.8888888888888888,
                            "#fdca26"
                          ],
                          [
                            1,
                            "#f0f921"
                          ]
                        ],
                        "type": "heatmap"
                      }
                    ],
                    "heatmapgl": [
                      {
                        "colorbar": {
                          "outlinewidth": 0,
                          "ticks": ""
                        },
                        "colorscale": [
                          [
                            0,
                            "#0d0887"
                          ],
                          [
                            0.1111111111111111,
                            "#46039f"
                          ],
                          [
                            0.2222222222222222,
                            "#7201a8"
                          ],
                          [
                            0.3333333333333333,
                            "#9c179e"
                          ],
                          [
                            0.4444444444444444,
                            "#bd3786"
                          ],
                          [
                            0.5555555555555556,
                            "#d8576b"
                          ],
                          [
                            0.6666666666666666,
                            "#ed7953"
                          ],
                          [
                            0.7777777777777778,
                            "#fb9f3a"
                          ],
                          [
                            0.8888888888888888,
                            "#fdca26"
                          ],
                          [
                            1,
                            "#f0f921"
                          ]
                        ],
                        "type": "heatmapgl"
                      }
                    ],
                    "histogram": [
                      {
                        "marker": {
                          "pattern": {
                            "fillmode": "overlay",
                            "size": 10,
                            "solidity": 0.2
                          }
                        },
                        "type": "histogram"
                      }
                    ],
                    "histogram2d": [
                      {
                        "colorbar": {
                          "outlinewidth": 0,
                          "ticks": ""
                        },
                        "colorscale": [
                          [
                            0,
                            "#0d0887"
                          ],
                          [
                            0.1111111111111111,
                            "#46039f"
                          ],
                          [
                            0.2222222222222222,
                            "#7201a8"
                          ],
                          [
                            0.3333333333333333,
                            "#9c179e"
                          ],
                          [
                            0.4444444444444444,
                            "#bd3786"
                          ],
                          [
                            0.5555555555555556,
                            "#d8576b"
                          ],
                          [
                            0.6666666666666666,
                            "#ed7953"
                          ],
                          [
                            0.7777777777777778,
                            "#fb9f3a"
                          ],
                          [
                            0.8888888888888888,
                            "#fdca26"
                          ],
                          [
                            1,
                            "#f0f921"
                          ]
                        ],
                        "type": "histogram2d"
                      }
                    ],
                    "histogram2dcontour": [
                      {
                        "colorbar": {
                          "outlinewidth": 0,
                          "ticks": ""
                        },
                        "colorscale": [
                          [
                            0,
                            "#0d0887"
                          ],
                          [
                            0.1111111111111111,
                            "#46039f"
                          ],
                          [
                            0.2222222222222222,
                            "#7201a8"
                          ],
                          [
                            0.3333333333333333,
                            "#9c179e"
                          ],
                          [
                            0.4444444444444444,
                            "#bd3786"
                          ],
                          [
                            0.5555555555555556,
                            "#d8576b"
                          ],
                          [
                            0.6666666666666666,
                            "#ed7953"
                          ],
                          [
                            0.7777777777777778,
                            "#fb9f3a"
                          ],
                          [
                            0.8888888888888888,
                            "#fdca26"
                          ],
                          [
                            1,
                            "#f0f921"
                          ]
                        ],
                        "type": "histogram2dcontour"
                      }
                    ],
                    "mesh3d": [
                      {
                        "colorbar": {
                          "outlinewidth": 0,
                          "ticks": ""
                        },
                        "type": "mesh3d"
                      }
                    ],
                    "parcoords": [
                      {
                        "line": {
                          "colorbar": {
                            "outlinewidth": 0,
                            "ticks": ""
                          }
                        },
                        "type": "parcoords"
                      }
                    ],
                    "pie": [
                      {
                        "automargin": true,
                        "type": "pie"
                      }
                    ],
                    "scatter": [
                      {
                        "fillpattern": {
                          "fillmode": "overlay",
                          "size": 10,
                          "solidity": 0.2
                        },
                        "type": "scatter"
                      }
                    ],
                    "scatter3d": [
                      {
                        "line": {
                          "colorbar": {
                            "outlinewidth": 0,
                            "ticks": ""
                          }
                        },
                        "marker": {
                          "colorbar": {
                            "outlinewidth": 0,
                            "ticks": ""
                          }
                        },
                        "type": "scatter3d"
                      }
                    ],
                    "scattercarpet": [
                      {
                        "marker": {
                          "colorbar": {
                            "outlinewidth": 0,
                            "ticks": ""
                          }
                        },
                        "type": "scattercarpet"
                      }
                    ],
                    "scattergeo": [
                      {
                        "marker": {
                          "colorbar": {
                            "outlinewidth": 0,
                            "ticks": ""
                          }
                        },
                        "type": "scattergeo"
                      }
                    ],
                    "scattergl": [
                      {
                        "marker": {
                          "colorbar": {
                            "outlinewidth": 0,
                            "ticks": ""
                          }
                        },
                        "type": "scattergl"
                      }
                    ],
                    "scattermapbox": [
                      {
                        "marker": {
                          "colorbar": {
                            "outlinewidth": 0,
                            "ticks": ""
                          }
                        },
                        "type": "scattermapbox"
                      }
                    ],
                    "scatterpolar": [
                      {
                        "marker": {
                          "colorbar": {
                            "outlinewidth": 0,
                            "ticks": ""
                          }
                        },
                        "type": "scatterpolar"
                      }
                    ],
                    "scatterpolargl": [
                      {
                        "marker": {
                          "colorbar": {
                            "outlinewidth": 0,
                            "ticks": ""
                          }
                        },
                        "type": "scatterpolargl"
                      }
                    ],
                    "scatterternary": [
                      {
                        "marker": {
                          "colorbar": {
                            "outlinewidth": 0,
                            "ticks": ""
                          }
                        },
                        "type": "scatterternary"
                      }
                    ],
                    "surface": [
                      {
                        "colorbar": {
                          "outlinewidth": 0,
                          "ticks": ""
                        },
                        "colorscale": [
                          [
                            0,
                            "#0d0887"
                          ],
                          [
                            0.1111111111111111,
                            "#46039f"
                          ],
                          [
                            0.2222222222222222,
                            "#7201a8"
                          ],
                          [
                            0.3333333333333333,
                            "#9c179e"
                          ],
                          [
                            0.4444444444444444,
                            "#bd3786"
                          ],
                          [
                            0.5555555555555556,
                            "#d8576b"
                          ],
                          [
                            0.6666666666666666,
                            "#ed7953"
                          ],
                          [
                            0.7777777777777778,
                            "#fb9f3a"
                          ],
                          [
                            0.8888888888888888,
                            "#fdca26"
                          ],
                          [
                            1,
                            "#f0f921"
                          ]
                        ],
                        "type": "surface"
                      }
                    ],
                    "table": [
                      {
                        "cells": {
                          "fill": {
                            "color": "#EBF0F8"
                          },
                          "line": {
                            "color": "white"
                          }
                        },
                        "header": {
                          "fill": {
                            "color": "#C8D4E3"
                          },
                          "line": {
                            "color": "white"
                          }
                        },
                        "type": "table"
                      }
                    ]
                  },
                  "layout": {
                    "annotationdefaults": {
                      "arrowcolor": "#2a3f5f",
                      "arrowhead": 0,
                      "arrowwidth": 1
                    },
                    "autotypenumbers": "strict",
                    "coloraxis": {
                      "colorbar": {
                        "outlinewidth": 0,
                        "ticks": ""
                      }
                    },
                    "colorscale": {
                      "diverging": [
                        [
                          0,
                          "#8e0152"
                        ],
                        [
                          0.1,
                          "#c51b7d"
                        ],
                        [
                          0.2,
                          "#de77ae"
                        ],
                        [
                          0.3,
                          "#f1b6da"
                        ],
                        [
                          0.4,
                          "#fde0ef"
                        ],
                        [
                          0.5,
                          "#f7f7f7"
                        ],
                        [
                          0.6,
                          "#e6f5d0"
                        ],
                        [
                          0.7,
                          "#b8e186"
                        ],
                        [
                          0.8,
                          "#7fbc41"
                        ],
                        [
                          0.9,
                          "#4d9221"
                        ],
                        [
                          1,
                          "#276419"
                        ]
                      ],
                      "sequential": [
                        [
                          0,
                          "#0d0887"
                        ],
                        [
                          0.1111111111111111,
                          "#46039f"
                        ],
                        [
                          0.2222222222222222,
                          "#7201a8"
                        ],
                        [
                          0.3333333333333333,
                          "#9c179e"
                        ],
                        [
                          0.4444444444444444,
                          "#bd3786"
                        ],
                        [
                          0.5555555555555556,
                          "#d8576b"
                        ],
                        [
                          0.6666666666666666,
                          "#ed7953"
                        ],
                        [
                          0.7777777777777778,
                          "#fb9f3a"
                        ],
                        [
                          0.8888888888888888,
                          "#fdca26"
                        ],
                        [
                          1,
                          "#f0f921"
                        ]
                      ],
                      "sequentialminus": [
                        [
                          0,
                          "#0d0887"
                        ],
                        [
                          0.1111111111111111,
                          "#46039f"
                        ],
                        [
                          0.2222222222222222,
                          "#7201a8"
                        ],
                        [
                          0.3333333333333333,
                          "#9c179e"
                        ],
                        [
                          0.4444444444444444,
                          "#bd3786"
                        ],
                        [
                          0.5555555555555556,
                          "#d8576b"
                        ],
                        [
                          0.6666666666666666,
                          "#ed7953"
                        ],
                        [
                          0.7777777777777778,
                          "#fb9f3a"
                        ],
                        [
                          0.8888888888888888,
                          "#fdca26"
                        ],
                        [
                          1,
                          "#f0f921"
                        ]
                      ]
                    },
                    "colorway": [
                      "#636efa",
                      "#EF553B",
                      "#00cc96",
                      "#ab63fa",
                      "#FFA15A",
                      "#19d3f3",
                      "#FF6692",
                      "#B6E880",
                      "#FF97FF",
                      "#FECB52"
                    ],
                    "font": {
                      "color": "#2a3f5f"
                    },
                    "geo": {
                      "bgcolor": "white",
                      "lakecolor": "white",
                      "landcolor": "#E5ECF6",
                      "showlakes": true,
                      "showland": true,
                      "subunitcolor": "white"
                    },
                    "hoverlabel": {
                      "align": "left"
                    },
                    "hovermode": "closest",
                    "mapbox": {
                      "style": "light"
                    },
                    "paper_bgcolor": "white",
                    "plot_bgcolor": "#E5ECF6",
                    "polar": {
                      "angularaxis": {
                        "gridcolor": "white",
                        "linecolor": "white",
                        "ticks": ""
                      },
                      "bgcolor": "#E5ECF6",
                      "radialaxis": {
                        "gridcolor": "white",
                        "linecolor": "white",
                        "ticks": ""
                      }
                    },
                    "scene": {
                      "xaxis": {
                        "backgroundcolor": "#E5ECF6",
                        "gridcolor": "white",
                        "gridwidth": 2,
                        "linecolor": "white",
                        "showbackground": true,
                        "ticks": "",
                        "zerolinecolor": "white"
                      },
                      "yaxis": {
                        "backgroundcolor": "#E5ECF6",
                        "gridcolor": "white",
                        "gridwidth": 2,
                        "linecolor": "white",
                        "showbackground": true,
                        "ticks": "",
                        "zerolinecolor": "white"
                      },
                      "zaxis": {
                        "backgroundcolor": "#E5ECF6",
                        "gridcolor": "white",
                        "gridwidth": 2,
                        "linecolor": "white",
                        "showbackground": true,
                        "ticks": "",
                        "zerolinecolor": "white"
                      }
                    },
                    "shapedefaults": {
                      "line": {
                        "color": "#2a3f5f"
                      }
                    },
                    "ternary": {
                      "aaxis": {
                        "gridcolor": "white",
                        "linecolor": "white",
                        "ticks": ""
                      },
                      "baxis": {
                        "gridcolor": "white",
                        "linecolor": "white",
                        "ticks": ""
                      },
                      "bgcolor": "#E5ECF6",
                      "caxis": {
                        "gridcolor": "white",
                        "linecolor": "white",
                        "ticks": ""
                      }
                    },
                    "title": {
                      "x": 0.05
                    },
                    "xaxis": {
                      "automargin": true,
                      "gridcolor": "white",
                      "linecolor": "white",
                      "ticks": "",
                      "title": {
                        "standoff": 15
                      },
                      "zerolinecolor": "white",
                      "zerolinewidth": 2
                    },
                    "yaxis": {
                      "automargin": true,
                      "gridcolor": "white",
                      "linecolor": "white",
                      "ticks": "",
                      "title": {
                        "standoff": 15
                      },
                      "zerolinecolor": "white",
                      "zerolinewidth": 2
                    }
                  }
                },
                "title": {
                  "text": "Cantidad por día de la semana y mes"
                },
                "xaxis": {
                  "ticktext": [
                    "domingo",
                    "jueves",
                    "lunes",
                    "martes",
                    "miÃ©rcoles",
                    "sÃ¡bado",
                    "viernes"
                  ],
                  "tickvals": [
                    0,
                    1,
                    2,
                    3,
                    4,
                    5,
                    6
                  ],
                  "title": {
                    "text": "Día de la semana"
                  }
                },
                "yaxis": {
                  "title": {
                    "text": "Cantidad"
                  }
                }
              }
            }
          },
          "metadata": {},
          "output_type": "display_data"
        }
      ],
      "source": [
        "# Supongamos que ya tienes tus datos en un DataFrame llamado 'unidos'\n",
        "# Puedes acceder a los datos de la siguiente manera (reemplaza los nombres de las columnas según corresponda):\n",
        "datos = [unidos[mes].tolist() for mes in meses]\n",
        "\n",
        "# Configurar el gráfico de barras agrupadas\n",
        "fig = go.Figure()\n",
        "\n",
        "for i, mes in enumerate(meses):\n",
        "    fig.add_trace(go.Bar(\n",
        "        x=dias_semana,\n",
        "        y=datos[i],\n",
        "        name=mes\n",
        "    ))\n",
        "\n",
        "# Configuración adicional del gráfico\n",
        "fig.update_layout(\n",
        "    title='Cantidad por día de la semana y mes',\n",
        "    xaxis_title='Día de la semana',\n",
        "    yaxis_title='Cantidad',\n",
        "    barmode='group',  # Agrupa las barras\n",
        "    xaxis=dict(tickvals=list(range(len(dias_semana))), ticktext=dias_semana),  # Etiquetas en el eje x\n",
        ")\n",
        "\n",
        "# Mostrar el gráfico\n",
        "fig.show()"
      ]
    },
    {
      "cell_type": "code",
      "execution_count": 141,
      "metadata": {},
      "outputs": [
        {
          "ename": "ValueError",
          "evalue": "Value of 'x' is not the name of a column in 'data_frame'. Expected one of ['ID de Pedido', 'Producto', 'Cantidad Pedida', 'Precio Unitario', 'Fecha de Pedido', 'Dirección de Envio'] but received: sex",
          "output_type": "error",
          "traceback": [
            "\u001b[1;31m---------------------------------------------------------------------------\u001b[0m",
            "\u001b[1;31mValueError\u001b[0m                                Traceback (most recent call last)",
            "\u001b[1;32m~\\AppData\\Local\\Temp\\ipykernel_17800\\639051697.py\u001b[0m in \u001b[0;36m<module>\u001b[1;34m\u001b[0m\n\u001b[0;32m      1\u001b[0m fig = px.histogram(df, x=\"sex\", y=\"total_bill\",\n\u001b[0;32m      2\u001b[0m              \u001b[0mcolor\u001b[0m\u001b[1;33m=\u001b[0m\u001b[1;34m'smoker'\u001b[0m\u001b[1;33m,\u001b[0m \u001b[0mbarmode\u001b[0m\u001b[1;33m=\u001b[0m\u001b[1;34m'group'\u001b[0m\u001b[1;33m,\u001b[0m\u001b[1;33m\u001b[0m\u001b[1;33m\u001b[0m\u001b[0m\n\u001b[1;32m----> 3\u001b[1;33m              height=400)\n\u001b[0m\u001b[0;32m      4\u001b[0m \u001b[0mfig\u001b[0m\u001b[1;33m.\u001b[0m\u001b[0mshow\u001b[0m\u001b[1;33m(\u001b[0m\u001b[1;33m)\u001b[0m\u001b[1;33m\u001b[0m\u001b[1;33m\u001b[0m\u001b[0m\n\u001b[0;32m      5\u001b[0m \u001b[1;33m\u001b[0m\u001b[0m\n",
            "\u001b[1;32mc:\\Users\\nico_\\AppData\\Local\\Programs\\Python\\Python37\\lib\\site-packages\\plotly\\express\\_chart_types.py\u001b[0m in \u001b[0;36mhistogram\u001b[1;34m(data_frame, x, y, color, pattern_shape, facet_row, facet_col, facet_col_wrap, facet_row_spacing, facet_col_spacing, hover_name, hover_data, animation_frame, animation_group, category_orders, labels, color_discrete_sequence, color_discrete_map, pattern_shape_sequence, pattern_shape_map, marginal, opacity, orientation, barmode, barnorm, histnorm, log_x, log_y, range_x, range_y, histfunc, cumulative, nbins, text_auto, title, template, width, height)\u001b[0m\n\u001b[0;32m    486\u001b[0m             \u001b[0mcumulative\u001b[0m\u001b[1;33m=\u001b[0m\u001b[0mdict\u001b[0m\u001b[1;33m(\u001b[0m\u001b[0menabled\u001b[0m\u001b[1;33m=\u001b[0m\u001b[0mcumulative\u001b[0m\u001b[1;33m)\u001b[0m\u001b[1;33m,\u001b[0m\u001b[1;33m\u001b[0m\u001b[1;33m\u001b[0m\u001b[0m\n\u001b[0;32m    487\u001b[0m         ),\n\u001b[1;32m--> 488\u001b[1;33m         \u001b[0mlayout_patch\u001b[0m\u001b[1;33m=\u001b[0m\u001b[0mdict\u001b[0m\u001b[1;33m(\u001b[0m\u001b[0mbarmode\u001b[0m\u001b[1;33m=\u001b[0m\u001b[0mbarmode\u001b[0m\u001b[1;33m,\u001b[0m \u001b[0mbarnorm\u001b[0m\u001b[1;33m=\u001b[0m\u001b[0mbarnorm\u001b[0m\u001b[1;33m)\u001b[0m\u001b[1;33m,\u001b[0m\u001b[1;33m\u001b[0m\u001b[1;33m\u001b[0m\u001b[0m\n\u001b[0m\u001b[0;32m    489\u001b[0m     )\n\u001b[0;32m    490\u001b[0m \u001b[1;33m\u001b[0m\u001b[0m\n",
            "\u001b[1;32mc:\\Users\\nico_\\AppData\\Local\\Programs\\Python\\Python37\\lib\\site-packages\\plotly\\express\\_core.py\u001b[0m in \u001b[0;36mmake_figure\u001b[1;34m(args, constructor, trace_patch, layout_patch)\u001b[0m\n\u001b[0;32m   2074\u001b[0m     \u001b[0mapply_default_cascade\u001b[0m\u001b[1;33m(\u001b[0m\u001b[0margs\u001b[0m\u001b[1;33m)\u001b[0m\u001b[1;33m\u001b[0m\u001b[1;33m\u001b[0m\u001b[0m\n\u001b[0;32m   2075\u001b[0m \u001b[1;33m\u001b[0m\u001b[0m\n\u001b[1;32m-> 2076\u001b[1;33m     \u001b[0margs\u001b[0m \u001b[1;33m=\u001b[0m \u001b[0mbuild_dataframe\u001b[0m\u001b[1;33m(\u001b[0m\u001b[0margs\u001b[0m\u001b[1;33m,\u001b[0m \u001b[0mconstructor\u001b[0m\u001b[1;33m)\u001b[0m\u001b[1;33m\u001b[0m\u001b[1;33m\u001b[0m\u001b[0m\n\u001b[0m\u001b[0;32m   2077\u001b[0m     \u001b[1;32mif\u001b[0m \u001b[0mconstructor\u001b[0m \u001b[1;32min\u001b[0m \u001b[1;33m[\u001b[0m\u001b[0mgo\u001b[0m\u001b[1;33m.\u001b[0m\u001b[0mTreemap\u001b[0m\u001b[1;33m,\u001b[0m \u001b[0mgo\u001b[0m\u001b[1;33m.\u001b[0m\u001b[0mSunburst\u001b[0m\u001b[1;33m,\u001b[0m \u001b[0mgo\u001b[0m\u001b[1;33m.\u001b[0m\u001b[0mIcicle\u001b[0m\u001b[1;33m]\u001b[0m \u001b[1;32mand\u001b[0m \u001b[0margs\u001b[0m\u001b[1;33m[\u001b[0m\u001b[1;34m\"path\"\u001b[0m\u001b[1;33m]\u001b[0m \u001b[1;32mis\u001b[0m \u001b[1;32mnot\u001b[0m \u001b[1;32mNone\u001b[0m\u001b[1;33m:\u001b[0m\u001b[1;33m\u001b[0m\u001b[1;33m\u001b[0m\u001b[0m\n\u001b[0;32m   2078\u001b[0m         \u001b[0margs\u001b[0m \u001b[1;33m=\u001b[0m \u001b[0mprocess_dataframe_hierarchy\u001b[0m\u001b[1;33m(\u001b[0m\u001b[0margs\u001b[0m\u001b[1;33m)\u001b[0m\u001b[1;33m\u001b[0m\u001b[1;33m\u001b[0m\u001b[0m\n",
            "\u001b[1;32mc:\\Users\\nico_\\AppData\\Local\\Programs\\Python\\Python37\\lib\\site-packages\\plotly\\express\\_core.py\u001b[0m in \u001b[0;36mbuild_dataframe\u001b[1;34m(args, constructor)\u001b[0m\n\u001b[0;32m   1484\u001b[0m \u001b[1;33m\u001b[0m\u001b[0m\n\u001b[0;32m   1485\u001b[0m     df_output, wide_id_vars = process_args_into_dataframe(\n\u001b[1;32m-> 1486\u001b[1;33m         \u001b[0margs\u001b[0m\u001b[1;33m,\u001b[0m \u001b[0mwide_mode\u001b[0m\u001b[1;33m,\u001b[0m \u001b[0mvar_name\u001b[0m\u001b[1;33m,\u001b[0m \u001b[0mvalue_name\u001b[0m\u001b[1;33m\u001b[0m\u001b[1;33m\u001b[0m\u001b[0m\n\u001b[0m\u001b[0;32m   1487\u001b[0m     )\n\u001b[0;32m   1488\u001b[0m \u001b[1;33m\u001b[0m\u001b[0m\n",
            "\u001b[1;32mc:\\Users\\nico_\\AppData\\Local\\Programs\\Python\\Python37\\lib\\site-packages\\plotly\\express\\_core.py\u001b[0m in \u001b[0;36mprocess_args_into_dataframe\u001b[1;34m(args, wide_mode, var_name, value_name)\u001b[0m\n\u001b[0;32m   1208\u001b[0m                         \u001b[1;32mif\u001b[0m \u001b[0margument\u001b[0m \u001b[1;33m==\u001b[0m \u001b[1;34m\"index\"\u001b[0m\u001b[1;33m:\u001b[0m\u001b[1;33m\u001b[0m\u001b[1;33m\u001b[0m\u001b[0m\n\u001b[0;32m   1209\u001b[0m                             \u001b[0merr_msg\u001b[0m \u001b[1;33m+=\u001b[0m \u001b[1;34m\"\\n To use the index, pass it in directly as `df.index`.\"\u001b[0m\u001b[1;33m\u001b[0m\u001b[1;33m\u001b[0m\u001b[0m\n\u001b[1;32m-> 1210\u001b[1;33m                         \u001b[1;32mraise\u001b[0m \u001b[0mValueError\u001b[0m\u001b[1;33m(\u001b[0m\u001b[0merr_msg\u001b[0m\u001b[1;33m)\u001b[0m\u001b[1;33m\u001b[0m\u001b[1;33m\u001b[0m\u001b[0m\n\u001b[0m\u001b[0;32m   1211\u001b[0m                 \u001b[1;32melif\u001b[0m \u001b[0mlength\u001b[0m \u001b[1;32mand\u001b[0m \u001b[0mlen\u001b[0m\u001b[1;33m(\u001b[0m\u001b[0mdf_input\u001b[0m\u001b[1;33m[\u001b[0m\u001b[0margument\u001b[0m\u001b[1;33m]\u001b[0m\u001b[1;33m)\u001b[0m \u001b[1;33m!=\u001b[0m \u001b[0mlength\u001b[0m\u001b[1;33m:\u001b[0m\u001b[1;33m\u001b[0m\u001b[1;33m\u001b[0m\u001b[0m\n\u001b[0;32m   1212\u001b[0m                     raise ValueError(\n",
            "\u001b[1;31mValueError\u001b[0m: Value of 'x' is not the name of a column in 'data_frame'. Expected one of ['ID de Pedido', 'Producto', 'Cantidad Pedida', 'Precio Unitario', 'Fecha de Pedido', 'Dirección de Envio'] but received: sex"
          ]
        }
      ],
      "source": [
        "fig = px.histogram(df, x=\"sex\", y=\"total_bill\",\n",
        "             color='smoker', barmode='group',\n",
        "             height=400)\n",
        "fig.show()\n",
        "\n",
        "# Crear un objeto figura para el gráfico\n",
        "fig = go.Figure()\n",
        "\n",
        "# Lista para almacenar los datos de ventas por hora de cada mes\n",
        "ventas_pordia_pormes = []\n",
        "\n",
        "# Iterar a través de cada mes en la lista 'meses'\n",
        "for mes in meses:\n",
        "    # Obtener el DataFrame correspondiente al mes\n",
        "    dataframe_mes = dataframes[mes]\n",
        "    \n",
        "    # Realizar algún procesamiento de datos específico (reemplaza con tu propio procesamiento)\n",
        "    dataframe_mes = extraer_datos(dataframe_mes)  # Reemplaza esto con el procesamiento que necesites\n",
        "    \n",
        "    # Calcular el número de ventas por hora para este mes y almacenarlo en 'Ventas_por_hora'\n",
        "    Ventas_por_dia = dataframe_mes.groupby('strDia')['Cantidad Pedida'].count()\n",
        "    \n",
        "    # Agregar los datos de ventas por hora de este mes a la lista 'ventas_por_hora_por_mes'\n",
        "    ventas_pordia_pormes.append(Ventas_por_dia)\n",
        "\n",
        "# Iterar sobre la lista de datos y agregar cada mes al objeto figura 'fig'\n",
        "for i, mes in enumerate(meses):\n",
        "    fig.add_trace(go.Scatter(\n",
        "        x=dias_semana,  # Eje X: Horas del día\n",
        "        y=ventas_pordia_pormes[i],  # Eje Y: Datos de ventas por hora para este mes\n",
        "        mode='lines+markers',  # Tipo de gráfico: líneas\n",
        "        name=mes,  # Etiqueta para la leyenda del gráfico\n",
        "        line=dict(width=2, shape='spline'),  # Configuración de las líneas del gráfico\n",
        "        marker=dict(size=10)  # Configuración de las marcas del gráfico\n",
        "    ))\n",
        "\n",
        "# Configurar los ejes y los títulos del gráfico\n",
        "fig.update_layout(\n",
        "    title=\"Unidades vendidas por dia en diferentes meses\",  # Título del gráfico\n",
        "    xaxis=dict(title=\"Hora\", tickvals=Horas),  # Configuración del eje X\n",
        "    yaxis=dict(title=\"Unidades vendidas\", side=\"left\"),  # Configuración del eje Y\n",
        "    legend=dict(y=0.3, yanchor='bottom'),  # Configuración de la leyenda\n",
        ")\n",
        "\n",
        "# Mostrar el gráfico\n",
        "fig.show()"
      ]
    },
    {
      "cell_type": "markdown",
      "metadata": {},
      "source": [
        "¿Cómo varían las ventas a lo largo de los diferentes días de la semana?"
      ]
    },
    {
      "cell_type": "markdown",
      "metadata": {},
      "source": [
        "¿Se observa alguna diferencia significativa en las ventas entre los días laborables y\n",
        "los fines de semana?"
      ]
    },
    {
      "cell_type": "markdown",
      "metadata": {},
      "source": [
        "# 6. Impacto de eventos especiales en las ventas:"
      ]
    },
    {
      "cell_type": "markdown",
      "metadata": {},
      "source": [
        "* ¿Se ha observado algún aumento o disminución significativa en las ventas en días\n",
        "cercanos a eventos especiales, como días festivos?"
      ]
    },
    {
      "cell_type": "markdown",
      "metadata": {},
      "source": [
        "* ¿Qué eventos específicos han tenido un impacto notable en el comportamiento de\n",
        "las ventas y cómo se manifestó ese impacto?"
      ]
    }
  ],
  "metadata": {
    "colab": {
      "include_colab_link": true,
      "provenance": []
    },
    "kernelspec": {
      "display_name": "Python 3",
      "name": "python3"
    },
    "language_info": {
      "codemirror_mode": {
        "name": "ipython",
        "version": 3
      },
      "file_extension": ".py",
      "mimetype": "text/x-python",
      "name": "python",
      "nbconvert_exporter": "python",
      "pygments_lexer": "ipython3",
      "version": "3.7.9"
    }
  },
  "nbformat": 4,
  "nbformat_minor": 0
}
